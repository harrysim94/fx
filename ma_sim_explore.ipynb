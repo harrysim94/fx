{
 "cells": [
  {
   "cell_type": "code",
   "execution_count": 2,
   "metadata": {},
   "outputs": [],
   "source": [
    "import pandas as pd\n",
    "import plotly.graph_objects as go"
   ]
  },
  {
   "cell_type": "code",
   "execution_count": 4,
   "metadata": {},
   "outputs": [],
   "source": [
    "ma_test_res = pd.read_pickle(\"ma_test_res.pkl\")\n",
    "all_trades = pd.read_pickle(\"all_trades.pkl\")"
   ]
  },
  {
   "cell_type": "code",
   "execution_count": 5,
   "metadata": {},
   "outputs": [
    {
     "data": {
      "text/plain": [
       "(66616, 11)"
      ]
     },
     "execution_count": 5,
     "metadata": {},
     "output_type": "execute_result"
    }
   ],
   "source": [
    "all_trades.shape"
   ]
  },
  {
   "cell_type": "code",
   "execution_count": 6,
   "metadata": {},
   "outputs": [
    {
     "data": {
      "text/plain": [
       "(630, 8)"
      ]
     },
     "execution_count": 6,
     "metadata": {},
     "output_type": "execute_result"
    }
   ],
   "source": [
    "ma_test_res.shape"
   ]
  },
  {
   "cell_type": "code",
   "execution_count": 7,
   "metadata": {},
   "outputs": [
    {
     "data": {
      "text/html": [
       "<div>\n",
       "<style scoped>\n",
       "    .dataframe tbody tr th:only-of-type {\n",
       "        vertical-align: middle;\n",
       "    }\n",
       "\n",
       "    .dataframe tbody tr th {\n",
       "        vertical-align: top;\n",
       "    }\n",
       "\n",
       "    .dataframe thead th {\n",
       "        text-align: right;\n",
       "    }\n",
       "</style>\n",
       "<table border=\"1\" class=\"dataframe\">\n",
       "  <thead>\n",
       "    <tr style=\"text-align: right;\">\n",
       "      <th></th>\n",
       "      <th>pair</th>\n",
       "      <th>num_trades</th>\n",
       "      <th>total_gain</th>\n",
       "      <th>mean_gain</th>\n",
       "      <th>min_gain</th>\n",
       "      <th>max_gain</th>\n",
       "      <th>mashort</th>\n",
       "      <th>malong</th>\n",
       "    </tr>\n",
       "  </thead>\n",
       "  <tbody>\n",
       "    <tr>\n",
       "      <th>0</th>\n",
       "      <td>GBP_USD</td>\n",
       "      <td>533</td>\n",
       "      <td>365.0</td>\n",
       "      <td>0.684803</td>\n",
       "      <td>-221.2</td>\n",
       "      <td>246.9</td>\n",
       "      <td>4</td>\n",
       "      <td>8</td>\n",
       "    </tr>\n",
       "    <tr>\n",
       "      <th>1</th>\n",
       "      <td>GBP_USD</td>\n",
       "      <td>322</td>\n",
       "      <td>-1430.3</td>\n",
       "      <td>-4.441925</td>\n",
       "      <td>-232.8</td>\n",
       "      <td>239.2</td>\n",
       "      <td>4</td>\n",
       "      <td>16</td>\n",
       "    </tr>\n",
       "    <tr>\n",
       "      <th>2</th>\n",
       "      <td>GBP_USD</td>\n",
       "      <td>290</td>\n",
       "      <td>19.2</td>\n",
       "      <td>0.066207</td>\n",
       "      <td>-176.1</td>\n",
       "      <td>304.9</td>\n",
       "      <td>8</td>\n",
       "      <td>16</td>\n",
       "    </tr>\n",
       "    <tr>\n",
       "      <th>3</th>\n",
       "      <td>GBP_USD</td>\n",
       "      <td>206</td>\n",
       "      <td>131.6</td>\n",
       "      <td>0.638835</td>\n",
       "      <td>-146.6</td>\n",
       "      <td>314.2</td>\n",
       "      <td>4</td>\n",
       "      <td>32</td>\n",
       "    </tr>\n",
       "    <tr>\n",
       "      <th>4</th>\n",
       "      <td>GBP_USD</td>\n",
       "      <td>152</td>\n",
       "      <td>108.6</td>\n",
       "      <td>0.714474</td>\n",
       "      <td>-157.1</td>\n",
       "      <td>316.6</td>\n",
       "      <td>8</td>\n",
       "      <td>32</td>\n",
       "    </tr>\n",
       "  </tbody>\n",
       "</table>\n",
       "</div>"
      ],
      "text/plain": [
       "      pair  num_trades  total_gain  mean_gain  min_gain  max_gain  mashort  \\\n",
       "0  GBP_USD         533       365.0   0.684803    -221.2     246.9        4   \n",
       "1  GBP_USD         322     -1430.3  -4.441925    -232.8     239.2        4   \n",
       "2  GBP_USD         290        19.2   0.066207    -176.1     304.9        8   \n",
       "3  GBP_USD         206       131.6   0.638835    -146.6     314.2        4   \n",
       "4  GBP_USD         152       108.6   0.714474    -157.1     316.6        8   \n",
       "\n",
       "   malong  \n",
       "0       8  \n",
       "1      16  \n",
       "2      16  \n",
       "3      32  \n",
       "4      32  "
      ]
     },
     "execution_count": 7,
     "metadata": {},
     "output_type": "execute_result"
    }
   ],
   "source": [
    "ma_test_res.head()"
   ]
  },
  {
   "cell_type": "code",
   "execution_count": 8,
   "metadata": {},
   "outputs": [
    {
     "data": {
      "text/plain": [
       "Index(['pair', 'num_trades', 'total_gain', 'mean_gain', 'min_gain', 'max_gain',\n",
       "       'mashort', 'malong'],\n",
       "      dtype='object')"
      ]
     },
     "execution_count": 8,
     "metadata": {},
     "output_type": "execute_result"
    }
   ],
   "source": [
    "ma_test_res.columns"
   ]
  },
  {
   "cell_type": "code",
   "execution_count": 9,
   "metadata": {},
   "outputs": [],
   "source": [
    "ma_test_res = ma_test_res[['pair', 'num_trades', 'total_gain',\n",
    "       'mashort', 'malong']]"
   ]
  },
  {
   "cell_type": "code",
   "execution_count": 10,
   "metadata": {},
   "outputs": [
    {
     "data": {
      "text/html": [
       "<div>\n",
       "<style scoped>\n",
       "    .dataframe tbody tr th:only-of-type {\n",
       "        vertical-align: middle;\n",
       "    }\n",
       "\n",
       "    .dataframe tbody tr th {\n",
       "        vertical-align: top;\n",
       "    }\n",
       "\n",
       "    .dataframe thead th {\n",
       "        text-align: right;\n",
       "    }\n",
       "</style>\n",
       "<table border=\"1\" class=\"dataframe\">\n",
       "  <thead>\n",
       "    <tr style=\"text-align: right;\">\n",
       "      <th></th>\n",
       "      <th>pair</th>\n",
       "      <th>num_trades</th>\n",
       "      <th>total_gain</th>\n",
       "      <th>mashort</th>\n",
       "      <th>malong</th>\n",
       "    </tr>\n",
       "  </thead>\n",
       "  <tbody>\n",
       "    <tr>\n",
       "      <th>0</th>\n",
       "      <td>GBP_USD</td>\n",
       "      <td>533</td>\n",
       "      <td>365.0</td>\n",
       "      <td>4</td>\n",
       "      <td>8</td>\n",
       "    </tr>\n",
       "    <tr>\n",
       "      <th>1</th>\n",
       "      <td>GBP_USD</td>\n",
       "      <td>322</td>\n",
       "      <td>-1430.3</td>\n",
       "      <td>4</td>\n",
       "      <td>16</td>\n",
       "    </tr>\n",
       "    <tr>\n",
       "      <th>2</th>\n",
       "      <td>GBP_USD</td>\n",
       "      <td>290</td>\n",
       "      <td>19.2</td>\n",
       "      <td>8</td>\n",
       "      <td>16</td>\n",
       "    </tr>\n",
       "    <tr>\n",
       "      <th>3</th>\n",
       "      <td>GBP_USD</td>\n",
       "      <td>206</td>\n",
       "      <td>131.6</td>\n",
       "      <td>4</td>\n",
       "      <td>32</td>\n",
       "    </tr>\n",
       "    <tr>\n",
       "      <th>4</th>\n",
       "      <td>GBP_USD</td>\n",
       "      <td>152</td>\n",
       "      <td>108.6</td>\n",
       "      <td>8</td>\n",
       "      <td>32</td>\n",
       "    </tr>\n",
       "  </tbody>\n",
       "</table>\n",
       "</div>"
      ],
      "text/plain": [
       "      pair  num_trades  total_gain  mashort  malong\n",
       "0  GBP_USD         533       365.0        4       8\n",
       "1  GBP_USD         322     -1430.3        4      16\n",
       "2  GBP_USD         290        19.2        8      16\n",
       "3  GBP_USD         206       131.6        4      32\n",
       "4  GBP_USD         152       108.6        8      32"
      ]
     },
     "execution_count": 10,
     "metadata": {},
     "output_type": "execute_result"
    }
   ],
   "source": [
    "ma_test_res.head()"
   ]
  },
  {
   "cell_type": "code",
   "execution_count": 11,
   "metadata": {},
   "outputs": [],
   "source": [
    "ma_test_res[\"CROSS\"] = \"MA_\" + ma_test_res.mashort.map(str) + \"_\" + ma_test_res.malong.map(str)"
   ]
  },
  {
   "cell_type": "code",
   "execution_count": 12,
   "metadata": {},
   "outputs": [
    {
     "data": {
      "text/html": [
       "<div>\n",
       "<style scoped>\n",
       "    .dataframe tbody tr th:only-of-type {\n",
       "        vertical-align: middle;\n",
       "    }\n",
       "\n",
       "    .dataframe tbody tr th {\n",
       "        vertical-align: top;\n",
       "    }\n",
       "\n",
       "    .dataframe thead th {\n",
       "        text-align: right;\n",
       "    }\n",
       "</style>\n",
       "<table border=\"1\" class=\"dataframe\">\n",
       "  <thead>\n",
       "    <tr style=\"text-align: right;\">\n",
       "      <th></th>\n",
       "      <th>pair</th>\n",
       "      <th>num_trades</th>\n",
       "      <th>total_gain</th>\n",
       "      <th>mashort</th>\n",
       "      <th>malong</th>\n",
       "      <th>CROSS</th>\n",
       "    </tr>\n",
       "  </thead>\n",
       "  <tbody>\n",
       "    <tr>\n",
       "      <th>0</th>\n",
       "      <td>GBP_USD</td>\n",
       "      <td>533</td>\n",
       "      <td>365.0</td>\n",
       "      <td>4</td>\n",
       "      <td>8</td>\n",
       "      <td>MA_4_8</td>\n",
       "    </tr>\n",
       "    <tr>\n",
       "      <th>1</th>\n",
       "      <td>GBP_USD</td>\n",
       "      <td>322</td>\n",
       "      <td>-1430.3</td>\n",
       "      <td>4</td>\n",
       "      <td>16</td>\n",
       "      <td>MA_4_16</td>\n",
       "    </tr>\n",
       "    <tr>\n",
       "      <th>2</th>\n",
       "      <td>GBP_USD</td>\n",
       "      <td>290</td>\n",
       "      <td>19.2</td>\n",
       "      <td>8</td>\n",
       "      <td>16</td>\n",
       "      <td>MA_8_16</td>\n",
       "    </tr>\n",
       "    <tr>\n",
       "      <th>3</th>\n",
       "      <td>GBP_USD</td>\n",
       "      <td>206</td>\n",
       "      <td>131.6</td>\n",
       "      <td>4</td>\n",
       "      <td>32</td>\n",
       "      <td>MA_4_32</td>\n",
       "    </tr>\n",
       "    <tr>\n",
       "      <th>4</th>\n",
       "      <td>GBP_USD</td>\n",
       "      <td>152</td>\n",
       "      <td>108.6</td>\n",
       "      <td>8</td>\n",
       "      <td>32</td>\n",
       "      <td>MA_8_32</td>\n",
       "    </tr>\n",
       "  </tbody>\n",
       "</table>\n",
       "</div>"
      ],
      "text/plain": [
       "      pair  num_trades  total_gain  mashort  malong    CROSS\n",
       "0  GBP_USD         533       365.0        4       8   MA_4_8\n",
       "1  GBP_USD         322     -1430.3        4      16  MA_4_16\n",
       "2  GBP_USD         290        19.2        8      16  MA_8_16\n",
       "3  GBP_USD         206       131.6        4      32  MA_4_32\n",
       "4  GBP_USD         152       108.6        8      32  MA_8_32"
      ]
     },
     "execution_count": 12,
     "metadata": {},
     "output_type": "execute_result"
    }
   ],
   "source": [
    "ma_test_res.head()"
   ]
  },
  {
   "cell_type": "code",
   "execution_count": 17,
   "metadata": {},
   "outputs": [],
   "source": [
    "df_all_gains = ma_test_res.groupby(by=[\"CROSS\", \"mashort\", \"malong\"], as_index=False).sum()"
   ]
  },
  {
   "cell_type": "code",
   "execution_count": 18,
   "metadata": {},
   "outputs": [
    {
     "data": {
      "text/html": [
       "<div>\n",
       "<style scoped>\n",
       "    .dataframe tbody tr th:only-of-type {\n",
       "        vertical-align: middle;\n",
       "    }\n",
       "\n",
       "    .dataframe tbody tr th {\n",
       "        vertical-align: top;\n",
       "    }\n",
       "\n",
       "    .dataframe thead th {\n",
       "        text-align: right;\n",
       "    }\n",
       "</style>\n",
       "<table border=\"1\" class=\"dataframe\">\n",
       "  <thead>\n",
       "    <tr style=\"text-align: right;\">\n",
       "      <th></th>\n",
       "      <th>CROSS</th>\n",
       "      <th>num_trades</th>\n",
       "      <th>total_gain</th>\n",
       "      <th>mashort</th>\n",
       "      <th>malong</th>\n",
       "    </tr>\n",
       "  </thead>\n",
       "  <tbody>\n",
       "    <tr>\n",
       "      <th>0</th>\n",
       "      <td>MA_16_128</td>\n",
       "      <td>1115</td>\n",
       "      <td>-23422.5</td>\n",
       "      <td>16</td>\n",
       "      <td>128</td>\n",
       "    </tr>\n",
       "    <tr>\n",
       "      <th>1</th>\n",
       "      <td>MA_16_256</td>\n",
       "      <td>700</td>\n",
       "      <td>-15517.3</td>\n",
       "      <td>16</td>\n",
       "      <td>256</td>\n",
       "    </tr>\n",
       "    <tr>\n",
       "      <th>2</th>\n",
       "      <td>MA_16_32</td>\n",
       "      <td>2772</td>\n",
       "      <td>-1637.1</td>\n",
       "      <td>16</td>\n",
       "      <td>32</td>\n",
       "    </tr>\n",
       "    <tr>\n",
       "      <th>3</th>\n",
       "      <td>MA_16_64</td>\n",
       "      <td>1632</td>\n",
       "      <td>-13988.7</td>\n",
       "      <td>16</td>\n",
       "      <td>64</td>\n",
       "    </tr>\n",
       "    <tr>\n",
       "      <th>4</th>\n",
       "      <td>MA_16_96</td>\n",
       "      <td>1270</td>\n",
       "      <td>-17486.2</td>\n",
       "      <td>16</td>\n",
       "      <td>96</td>\n",
       "    </tr>\n",
       "  </tbody>\n",
       "</table>\n",
       "</div>"
      ],
      "text/plain": [
       "       CROSS  num_trades  total_gain  mashort  malong\n",
       "0  MA_16_128        1115    -23422.5       16     128\n",
       "1  MA_16_256         700    -15517.3       16     256\n",
       "2   MA_16_32        2772     -1637.1       16      32\n",
       "3   MA_16_64        1632    -13988.7       16      64\n",
       "4   MA_16_96        1270    -17486.2       16      96"
      ]
     },
     "execution_count": 18,
     "metadata": {},
     "output_type": "execute_result"
    }
   ],
   "source": [
    "df_all_gains = df_all_gains[['CROSS', 'num_trades', 'total_gain', 'mashort', 'malong']]\n",
    "df_all_gains.head()"
   ]
  },
  {
   "cell_type": "code",
   "execution_count": 19,
   "metadata": {},
   "outputs": [],
   "source": [
    "df_all_gains.sort_values(by=\"total_gain\", ascending=False, inplace=True)"
   ]
  },
  {
   "cell_type": "code",
   "execution_count": 20,
   "metadata": {},
   "outputs": [
    {
     "data": {
      "text/html": [
       "<div>\n",
       "<style scoped>\n",
       "    .dataframe tbody tr th:only-of-type {\n",
       "        vertical-align: middle;\n",
       "    }\n",
       "\n",
       "    .dataframe tbody tr th {\n",
       "        vertical-align: top;\n",
       "    }\n",
       "\n",
       "    .dataframe thead th {\n",
       "        text-align: right;\n",
       "    }\n",
       "</style>\n",
       "<table border=\"1\" class=\"dataframe\">\n",
       "  <thead>\n",
       "    <tr style=\"text-align: right;\">\n",
       "      <th></th>\n",
       "      <th>CROSS</th>\n",
       "      <th>num_trades</th>\n",
       "      <th>total_gain</th>\n",
       "      <th>mashort</th>\n",
       "      <th>malong</th>\n",
       "    </tr>\n",
       "  </thead>\n",
       "  <tbody>\n",
       "    <tr>\n",
       "      <th>25</th>\n",
       "      <td>MA_8_16</td>\n",
       "      <td>5789</td>\n",
       "      <td>224.7</td>\n",
       "      <td>8</td>\n",
       "      <td>16</td>\n",
       "    </tr>\n",
       "    <tr>\n",
       "      <th>17</th>\n",
       "      <td>MA_4_32</td>\n",
       "      <td>4059</td>\n",
       "      <td>-1051.0</td>\n",
       "      <td>4</td>\n",
       "      <td>32</td>\n",
       "    </tr>\n",
       "    <tr>\n",
       "      <th>2</th>\n",
       "      <td>MA_16_32</td>\n",
       "      <td>2772</td>\n",
       "      <td>-1637.1</td>\n",
       "      <td>16</td>\n",
       "      <td>32</td>\n",
       "    </tr>\n",
       "    <tr>\n",
       "      <th>27</th>\n",
       "      <td>MA_8_32</td>\n",
       "      <td>3184</td>\n",
       "      <td>-2285.6</td>\n",
       "      <td>8</td>\n",
       "      <td>32</td>\n",
       "    </tr>\n",
       "    <tr>\n",
       "      <th>15</th>\n",
       "      <td>MA_4_16</td>\n",
       "      <td>6655</td>\n",
       "      <td>-6018.4</td>\n",
       "      <td>4</td>\n",
       "      <td>16</td>\n",
       "    </tr>\n",
       "  </tbody>\n",
       "</table>\n",
       "</div>"
      ],
      "text/plain": [
       "       CROSS  num_trades  total_gain  mashort  malong\n",
       "25   MA_8_16        5789       224.7        8      16\n",
       "17   MA_4_32        4059     -1051.0        4      32\n",
       "2   MA_16_32        2772     -1637.1       16      32\n",
       "27   MA_8_32        3184     -2285.6        8      32\n",
       "15   MA_4_16        6655     -6018.4        4      16"
      ]
     },
     "execution_count": 20,
     "metadata": {},
     "output_type": "execute_result"
    }
   ],
   "source": [
    "df_all_gains.head()"
   ]
  },
  {
   "cell_type": "code",
   "execution_count": 21,
   "metadata": {},
   "outputs": [],
   "source": [
    "ma_8_16 = ma_test_res[ma_test_res.CROSS==\"MA_8_16\"].copy()"
   ]
  },
  {
   "cell_type": "code",
   "execution_count": 22,
   "metadata": {},
   "outputs": [],
   "source": [
    "ma_8_16.sort_values(by=\"total_gain\", ascending=False, inplace=True)"
   ]
  },
  {
   "cell_type": "code",
   "execution_count": 23,
   "metadata": {},
   "outputs": [
    {
     "data": {
      "text/html": [
       "<div>\n",
       "<style scoped>\n",
       "    .dataframe tbody tr th:only-of-type {\n",
       "        vertical-align: middle;\n",
       "    }\n",
       "\n",
       "    .dataframe tbody tr th {\n",
       "        vertical-align: top;\n",
       "    }\n",
       "\n",
       "    .dataframe thead th {\n",
       "        text-align: right;\n",
       "    }\n",
       "</style>\n",
       "<table border=\"1\" class=\"dataframe\">\n",
       "  <thead>\n",
       "    <tr style=\"text-align: right;\">\n",
       "      <th></th>\n",
       "      <th>pair</th>\n",
       "      <th>num_trades</th>\n",
       "      <th>total_gain</th>\n",
       "      <th>mashort</th>\n",
       "      <th>malong</th>\n",
       "      <th>CROSS</th>\n",
       "    </tr>\n",
       "  </thead>\n",
       "  <tbody>\n",
       "    <tr>\n",
       "      <th>272</th>\n",
       "      <td>EUR_NZD</td>\n",
       "      <td>292</td>\n",
       "      <td>1221.4</td>\n",
       "      <td>8</td>\n",
       "      <td>16</td>\n",
       "      <td>MA_8_16</td>\n",
       "    </tr>\n",
       "    <tr>\n",
       "      <th>62</th>\n",
       "      <td>GBP_JPY</td>\n",
       "      <td>244</td>\n",
       "      <td>1216.8</td>\n",
       "      <td>8</td>\n",
       "      <td>16</td>\n",
       "      <td>MA_8_16</td>\n",
       "    </tr>\n",
       "    <tr>\n",
       "      <th>242</th>\n",
       "      <td>EUR_JPY</td>\n",
       "      <td>241</td>\n",
       "      <td>1181.5</td>\n",
       "      <td>8</td>\n",
       "      <td>16</td>\n",
       "      <td>MA_8_16</td>\n",
       "    </tr>\n",
       "    <tr>\n",
       "      <th>512</th>\n",
       "      <td>NZD_CAD</td>\n",
       "      <td>260</td>\n",
       "      <td>955.5</td>\n",
       "      <td>8</td>\n",
       "      <td>16</td>\n",
       "      <td>MA_8_16</td>\n",
       "    </tr>\n",
       "    <tr>\n",
       "      <th>602</th>\n",
       "      <td>CHF_JPY</td>\n",
       "      <td>269</td>\n",
       "      <td>894.0</td>\n",
       "      <td>8</td>\n",
       "      <td>16</td>\n",
       "      <td>MA_8_16</td>\n",
       "    </tr>\n",
       "    <tr>\n",
       "      <th>32</th>\n",
       "      <td>GBP_CAD</td>\n",
       "      <td>280</td>\n",
       "      <td>785.2</td>\n",
       "      <td>8</td>\n",
       "      <td>16</td>\n",
       "      <td>MA_8_16</td>\n",
       "    </tr>\n",
       "    <tr>\n",
       "      <th>92</th>\n",
       "      <td>GBP_NZD</td>\n",
       "      <td>271</td>\n",
       "      <td>751.6</td>\n",
       "      <td>8</td>\n",
       "      <td>16</td>\n",
       "      <td>MA_8_16</td>\n",
       "    </tr>\n",
       "    <tr>\n",
       "      <th>422</th>\n",
       "      <td>CAD_JPY</td>\n",
       "      <td>268</td>\n",
       "      <td>467.3</td>\n",
       "      <td>8</td>\n",
       "      <td>16</td>\n",
       "      <td>MA_8_16</td>\n",
       "    </tr>\n",
       "    <tr>\n",
       "      <th>542</th>\n",
       "      <td>NZD_JPY</td>\n",
       "      <td>257</td>\n",
       "      <td>286.2</td>\n",
       "      <td>8</td>\n",
       "      <td>16</td>\n",
       "      <td>MA_8_16</td>\n",
       "    </tr>\n",
       "    <tr>\n",
       "      <th>482</th>\n",
       "      <td>NZD_USD</td>\n",
       "      <td>264</td>\n",
       "      <td>245.1</td>\n",
       "      <td>8</td>\n",
       "      <td>16</td>\n",
       "      <td>MA_8_16</td>\n",
       "    </tr>\n",
       "  </tbody>\n",
       "</table>\n",
       "</div>"
      ],
      "text/plain": [
       "        pair  num_trades  total_gain  mashort  malong    CROSS\n",
       "272  EUR_NZD         292      1221.4        8      16  MA_8_16\n",
       "62   GBP_JPY         244      1216.8        8      16  MA_8_16\n",
       "242  EUR_JPY         241      1181.5        8      16  MA_8_16\n",
       "512  NZD_CAD         260       955.5        8      16  MA_8_16\n",
       "602  CHF_JPY         269       894.0        8      16  MA_8_16\n",
       "32   GBP_CAD         280       785.2        8      16  MA_8_16\n",
       "92   GBP_NZD         271       751.6        8      16  MA_8_16\n",
       "422  CAD_JPY         268       467.3        8      16  MA_8_16\n",
       "542  NZD_JPY         257       286.2        8      16  MA_8_16\n",
       "482  NZD_USD         264       245.1        8      16  MA_8_16"
      ]
     },
     "execution_count": 23,
     "metadata": {},
     "output_type": "execute_result"
    }
   ],
   "source": [
    "ma_8_16.head(10)"
   ]
  },
  {
   "cell_type": "code",
   "execution_count": 27,
   "metadata": {},
   "outputs": [
    {
     "data": {
      "text/plain": [
       "21"
      ]
     },
     "execution_count": 27,
     "metadata": {},
     "output_type": "execute_result"
    }
   ],
   "source": [
    "total_p = len(ma_8_16.pair.unique())\n",
    "total_p"
   ]
  },
  {
   "cell_type": "code",
   "execution_count": 28,
   "metadata": {},
   "outputs": [
    {
     "data": {
      "text/plain": [
       "11"
      ]
     },
     "execution_count": 28,
     "metadata": {},
     "output_type": "execute_result"
    }
   ],
   "source": [
    "ma_8_16[ma_8_16.total_gain>0.0].shape[0]"
   ]
  },
  {
   "cell_type": "code",
   "execution_count": 29,
   "metadata": {},
   "outputs": [
    {
     "data": {
      "text/plain": [
       "0.5238095238095238"
      ]
     },
     "execution_count": 29,
     "metadata": {},
     "output_type": "execute_result"
    }
   ],
   "source": [
    "11/total_p"
   ]
  },
  {
   "cell_type": "code",
   "execution_count": 38,
   "metadata": {},
   "outputs": [
    {
     "name": "stdout",
     "output_type": "stream",
     "text": [
      "MA_8_16        11   52%\n",
      "MA_4_32         8   38%\n",
      "MA_16_32        9   43%\n",
      "MA_8_32         7   33%\n",
      "MA_4_16         7   33%\n",
      "MA_4_8          8   38%\n",
      "MA_24_32        8   38%\n",
      "MA_4_64         4   19%\n",
      "MA_8_64         4   19%\n",
      "MA_64_256       4   19%\n",
      "MA_32_256       4   19%\n",
      "MA_4_96         5   24%\n",
      "MA_16_64        5   24%\n",
      "MA_24_64        3   14%\n",
      "MA_8_256        2   10%\n",
      "MA_8_96         3   14%\n",
      "MA_16_256       1    5%\n",
      "MA_24_256       2   10%\n",
      "MA_4_256        3   14%\n",
      "MA_16_96        4   19%\n",
      "MA_4_128        1    5%\n",
      "MA_32_64        3   14%\n",
      "MA_64_96        3   14%\n",
      "MA_64_128       3   14%\n",
      "MA_8_128        1    5%\n",
      "MA_24_96        0    0%\n",
      "MA_32_96        0    0%\n",
      "MA_16_128       0    0%\n",
      "MA_32_128       1    5%\n",
      "MA_24_128       0    0%\n"
     ]
    }
   ],
   "source": [
    "for cross in df_all_gains.CROSS.unique():\n",
    "    df_temp= ma_test_res[ma_test_res.CROSS==cross]\n",
    "    # print(cross)\n",
    "    # print(df_temp.head())\n",
    "    total_p = df_temp.shape[0]\n",
    "    n_good = df_temp[df_temp.total_gain>0.0].shape[0]\n",
    "    print(f\"{cross:12} {n_good:4} {(n_good/total_p)*100:4.0f}%\")"
   ]
  },
  {
   "cell_type": "code",
   "execution_count": 39,
   "metadata": {},
   "outputs": [],
   "source": [
    "crosses = df_all_gains.CROSS.unique()[:3]"
   ]
  },
  {
   "cell_type": "code",
   "execution_count": 40,
   "metadata": {},
   "outputs": [
    {
     "data": {
      "text/plain": [
       "array(['MA_8_16', 'MA_4_32', 'MA_16_32'], dtype=object)"
      ]
     },
     "execution_count": 40,
     "metadata": {},
     "output_type": "execute_result"
    }
   ],
   "source": [
    "crosses"
   ]
  },
  {
   "cell_type": "code",
   "execution_count": 43,
   "metadata": {},
   "outputs": [
    {
     "data": {
      "text/html": [
       "<div>\n",
       "<style scoped>\n",
       "    .dataframe tbody tr th:only-of-type {\n",
       "        vertical-align: middle;\n",
       "    }\n",
       "\n",
       "    .dataframe tbody tr th {\n",
       "        vertical-align: top;\n",
       "    }\n",
       "\n",
       "    .dataframe thead th {\n",
       "        text-align: right;\n",
       "    }\n",
       "</style>\n",
       "<table border=\"1\" class=\"dataframe\">\n",
       "  <thead>\n",
       "    <tr style=\"text-align: right;\">\n",
       "      <th></th>\n",
       "      <th>pair</th>\n",
       "      <th>num_trades</th>\n",
       "      <th>total_gain</th>\n",
       "      <th>mashort</th>\n",
       "      <th>malong</th>\n",
       "      <th>CROSS</th>\n",
       "    </tr>\n",
       "  </thead>\n",
       "  <tbody>\n",
       "    <tr>\n",
       "      <th>0</th>\n",
       "      <td>GBP_USD</td>\n",
       "      <td>533</td>\n",
       "      <td>365.0</td>\n",
       "      <td>4</td>\n",
       "      <td>8</td>\n",
       "      <td>MA_4_8</td>\n",
       "    </tr>\n",
       "    <tr>\n",
       "      <th>1</th>\n",
       "      <td>GBP_USD</td>\n",
       "      <td>322</td>\n",
       "      <td>-1430.3</td>\n",
       "      <td>4</td>\n",
       "      <td>16</td>\n",
       "      <td>MA_4_16</td>\n",
       "    </tr>\n",
       "  </tbody>\n",
       "</table>\n",
       "</div>"
      ],
      "text/plain": [
       "      pair  num_trades  total_gain  mashort  malong    CROSS\n",
       "0  GBP_USD         533       365.0        4       8   MA_4_8\n",
       "1  GBP_USD         322     -1430.3        4      16  MA_4_16"
      ]
     },
     "execution_count": 43,
     "metadata": {},
     "output_type": "execute_result"
    }
   ],
   "source": [
    "ma_test_res.head(2)"
   ]
  },
  {
   "cell_type": "code",
   "execution_count": 44,
   "metadata": {},
   "outputs": [],
   "source": [
    "df_good = ma_test_res[(ma_test_res.CROSS.isin(crosses)) & (ma_test_res.total_gain>0)].copy()"
   ]
  },
  {
   "cell_type": "code",
   "execution_count": 45,
   "metadata": {},
   "outputs": [
    {
     "data": {
      "text/html": [
       "<div>\n",
       "<style scoped>\n",
       "    .dataframe tbody tr th:only-of-type {\n",
       "        vertical-align: middle;\n",
       "    }\n",
       "\n",
       "    .dataframe tbody tr th {\n",
       "        vertical-align: top;\n",
       "    }\n",
       "\n",
       "    .dataframe thead th {\n",
       "        text-align: right;\n",
       "    }\n",
       "</style>\n",
       "<table border=\"1\" class=\"dataframe\">\n",
       "  <thead>\n",
       "    <tr style=\"text-align: right;\">\n",
       "      <th></th>\n",
       "      <th>pair</th>\n",
       "      <th>num_trades</th>\n",
       "      <th>total_gain</th>\n",
       "      <th>mashort</th>\n",
       "      <th>malong</th>\n",
       "      <th>CROSS</th>\n",
       "    </tr>\n",
       "  </thead>\n",
       "  <tbody>\n",
       "    <tr>\n",
       "      <th>2</th>\n",
       "      <td>GBP_USD</td>\n",
       "      <td>290</td>\n",
       "      <td>19.2</td>\n",
       "      <td>8</td>\n",
       "      <td>16</td>\n",
       "      <td>MA_8_16</td>\n",
       "    </tr>\n",
       "    <tr>\n",
       "      <th>3</th>\n",
       "      <td>GBP_USD</td>\n",
       "      <td>206</td>\n",
       "      <td>131.6</td>\n",
       "      <td>4</td>\n",
       "      <td>32</td>\n",
       "      <td>MA_4_32</td>\n",
       "    </tr>\n",
       "  </tbody>\n",
       "</table>\n",
       "</div>"
      ],
      "text/plain": [
       "      pair  num_trades  total_gain  mashort  malong    CROSS\n",
       "2  GBP_USD         290        19.2        8      16  MA_8_16\n",
       "3  GBP_USD         206       131.6        4      32  MA_4_32"
      ]
     },
     "execution_count": 45,
     "metadata": {},
     "output_type": "execute_result"
    }
   ],
   "source": [
    "df_good.head(2)"
   ]
  },
  {
   "cell_type": "code",
   "execution_count": 46,
   "metadata": {},
   "outputs": [],
   "source": [
    "our_pairs = list(df_good.pair.value_counts()[:9].index)"
   ]
  },
  {
   "cell_type": "code",
   "execution_count": 47,
   "metadata": {},
   "outputs": [
    {
     "data": {
      "text/plain": [
       "['GBP_JPY',\n",
       " 'NZD_JPY',\n",
       " 'CHF_JPY',\n",
       " 'GBP_USD',\n",
       " 'GBP_NZD',\n",
       " 'EUR_NZD',\n",
       " 'USD_CHF',\n",
       " 'CAD_JPY',\n",
       " 'NZD_USD']"
      ]
     },
     "execution_count": 47,
     "metadata": {},
     "output_type": "execute_result"
    }
   ],
   "source": [
    "our_pairs"
   ]
  },
  {
   "cell_type": "code",
   "execution_count": 48,
   "metadata": {},
   "outputs": [
    {
     "data": {
      "text/html": [
       "<div>\n",
       "<style scoped>\n",
       "    .dataframe tbody tr th:only-of-type {\n",
       "        vertical-align: middle;\n",
       "    }\n",
       "\n",
       "    .dataframe tbody tr th {\n",
       "        vertical-align: top;\n",
       "    }\n",
       "\n",
       "    .dataframe thead th {\n",
       "        text-align: right;\n",
       "    }\n",
       "</style>\n",
       "<table border=\"1\" class=\"dataframe\">\n",
       "  <thead>\n",
       "    <tr style=\"text-align: right;\">\n",
       "      <th></th>\n",
       "      <th>time</th>\n",
       "      <th>mid_c</th>\n",
       "      <th>DIFF</th>\n",
       "      <th>DIFF_PREV</th>\n",
       "      <th>IS_TRADE</th>\n",
       "      <th>DELTA</th>\n",
       "      <th>GAIN</th>\n",
       "      <th>PAIR</th>\n",
       "      <th>MASHORT</th>\n",
       "      <th>MALONG</th>\n",
       "      <th>DURATION</th>\n",
       "    </tr>\n",
       "  </thead>\n",
       "  <tbody>\n",
       "    <tr>\n",
       "      <th>19</th>\n",
       "      <td>2022-11-10 00:00:00+00:00</td>\n",
       "      <td>1.13768</td>\n",
       "      <td>0.000449</td>\n",
       "      <td>-0.000466</td>\n",
       "      <td>1</td>\n",
       "      <td>10.0</td>\n",
       "      <td>10.0</td>\n",
       "      <td>GBP_USD</td>\n",
       "      <td>4</td>\n",
       "      <td>8</td>\n",
       "      <td>8.0</td>\n",
       "    </tr>\n",
       "    <tr>\n",
       "      <th>27</th>\n",
       "      <td>2022-11-10 08:00:00+00:00</td>\n",
       "      <td>1.13868</td>\n",
       "      <td>-0.000163</td>\n",
       "      <td>0.000385</td>\n",
       "      <td>-1</td>\n",
       "      <td>221.2</td>\n",
       "      <td>-221.2</td>\n",
       "      <td>GBP_USD</td>\n",
       "      <td>4</td>\n",
       "      <td>8</td>\n",
       "      <td>5.0</td>\n",
       "    </tr>\n",
       "  </tbody>\n",
       "</table>\n",
       "</div>"
      ],
      "text/plain": [
       "                        time    mid_c      DIFF  DIFF_PREV  IS_TRADE  DELTA  \\\n",
       "19 2022-11-10 00:00:00+00:00  1.13768  0.000449  -0.000466         1   10.0   \n",
       "27 2022-11-10 08:00:00+00:00  1.13868 -0.000163   0.000385        -1  221.2   \n",
       "\n",
       "     GAIN     PAIR  MASHORT  MALONG  DURATION  \n",
       "19   10.0  GBP_USD        4       8       8.0  \n",
       "27 -221.2  GBP_USD        4       8       5.0  "
      ]
     },
     "execution_count": 48,
     "metadata": {},
     "output_type": "execute_result"
    }
   ],
   "source": [
    "all_trades.head(2)"
   ]
  },
  {
   "cell_type": "code",
   "execution_count": 49,
   "metadata": {},
   "outputs": [],
   "source": [
    "all_trades[\"CROSS\"] = \"MA_\" + all_trades.MASHORT.map(str) + \"_\" + all_trades.MALONG.map(str)"
   ]
  },
  {
   "cell_type": "code",
   "execution_count": 50,
   "metadata": {},
   "outputs": [],
   "source": [
    "trades_cad_jpy = all_trades[(all_trades.CROSS==\"MA_8_16\") & (all_trades.PAIR==\"CAD_JPY\")].copy()"
   ]
  },
  {
   "cell_type": "code",
   "execution_count": 51,
   "metadata": {},
   "outputs": [
    {
     "data": {
      "text/html": [
       "<div>\n",
       "<style scoped>\n",
       "    .dataframe tbody tr th:only-of-type {\n",
       "        vertical-align: middle;\n",
       "    }\n",
       "\n",
       "    .dataframe tbody tr th {\n",
       "        vertical-align: top;\n",
       "    }\n",
       "\n",
       "    .dataframe thead th {\n",
       "        text-align: right;\n",
       "    }\n",
       "</style>\n",
       "<table border=\"1\" class=\"dataframe\">\n",
       "  <thead>\n",
       "    <tr style=\"text-align: right;\">\n",
       "      <th></th>\n",
       "      <th>time</th>\n",
       "      <th>mid_c</th>\n",
       "      <th>DIFF</th>\n",
       "      <th>DIFF_PREV</th>\n",
       "      <th>IS_TRADE</th>\n",
       "      <th>DELTA</th>\n",
       "      <th>GAIN</th>\n",
       "      <th>PAIR</th>\n",
       "      <th>MASHORT</th>\n",
       "      <th>MALONG</th>\n",
       "      <th>DURATION</th>\n",
       "      <th>CROSS</th>\n",
       "    </tr>\n",
       "  </thead>\n",
       "  <tbody>\n",
       "    <tr>\n",
       "      <th>17</th>\n",
       "      <td>2022-11-09 22:00:00+00:00</td>\n",
       "      <td>108.245</td>\n",
       "      <td>-0.043125</td>\n",
       "      <td>0.011250</td>\n",
       "      <td>-1</td>\n",
       "      <td>-188.5</td>\n",
       "      <td>188.5</td>\n",
       "      <td>CAD_JPY</td>\n",
       "      <td>8</td>\n",
       "      <td>16</td>\n",
       "      <td>30.0</td>\n",
       "      <td>MA_8_16</td>\n",
       "    </tr>\n",
       "    <tr>\n",
       "      <th>47</th>\n",
       "      <td>2022-11-11 04:00:00+00:00</td>\n",
       "      <td>106.360</td>\n",
       "      <td>0.011938</td>\n",
       "      <td>-0.138875</td>\n",
       "      <td>1</td>\n",
       "      <td>-106.8</td>\n",
       "      <td>-106.8</td>\n",
       "      <td>CAD_JPY</td>\n",
       "      <td>8</td>\n",
       "      <td>16</td>\n",
       "      <td>5.0</td>\n",
       "      <td>MA_8_16</td>\n",
       "    </tr>\n",
       "    <tr>\n",
       "      <th>52</th>\n",
       "      <td>2022-11-11 09:00:00+00:00</td>\n",
       "      <td>105.292</td>\n",
       "      <td>-0.026375</td>\n",
       "      <td>0.085875</td>\n",
       "      <td>-1</td>\n",
       "      <td>-35.8</td>\n",
       "      <td>35.8</td>\n",
       "      <td>CAD_JPY</td>\n",
       "      <td>8</td>\n",
       "      <td>16</td>\n",
       "      <td>65.0</td>\n",
       "      <td>MA_8_16</td>\n",
       "    </tr>\n",
       "    <tr>\n",
       "      <th>69</th>\n",
       "      <td>2022-11-14 02:00:00+00:00</td>\n",
       "      <td>104.934</td>\n",
       "      <td>0.033750</td>\n",
       "      <td>-0.009750</td>\n",
       "      <td>1</td>\n",
       "      <td>14.4</td>\n",
       "      <td>14.4</td>\n",
       "      <td>CAD_JPY</td>\n",
       "      <td>8</td>\n",
       "      <td>16</td>\n",
       "      <td>19.0</td>\n",
       "      <td>MA_8_16</td>\n",
       "    </tr>\n",
       "    <tr>\n",
       "      <th>88</th>\n",
       "      <td>2022-11-14 21:00:00+00:00</td>\n",
       "      <td>105.078</td>\n",
       "      <td>-0.048937</td>\n",
       "      <td>0.034500</td>\n",
       "      <td>-1</td>\n",
       "      <td>51.1</td>\n",
       "      <td>-51.1</td>\n",
       "      <td>CAD_JPY</td>\n",
       "      <td>8</td>\n",
       "      <td>16</td>\n",
       "      <td>9.0</td>\n",
       "      <td>MA_8_16</td>\n",
       "    </tr>\n",
       "  </tbody>\n",
       "</table>\n",
       "</div>"
      ],
      "text/plain": [
       "                        time    mid_c      DIFF  DIFF_PREV  IS_TRADE  DELTA  \\\n",
       "17 2022-11-09 22:00:00+00:00  108.245 -0.043125   0.011250        -1 -188.5   \n",
       "47 2022-11-11 04:00:00+00:00  106.360  0.011938  -0.138875         1 -106.8   \n",
       "52 2022-11-11 09:00:00+00:00  105.292 -0.026375   0.085875        -1  -35.8   \n",
       "69 2022-11-14 02:00:00+00:00  104.934  0.033750  -0.009750         1   14.4   \n",
       "88 2022-11-14 21:00:00+00:00  105.078 -0.048937   0.034500        -1   51.1   \n",
       "\n",
       "     GAIN     PAIR  MASHORT  MALONG  DURATION    CROSS  \n",
       "17  188.5  CAD_JPY        8      16      30.0  MA_8_16  \n",
       "47 -106.8  CAD_JPY        8      16       5.0  MA_8_16  \n",
       "52   35.8  CAD_JPY        8      16      65.0  MA_8_16  \n",
       "69   14.4  CAD_JPY        8      16      19.0  MA_8_16  \n",
       "88  -51.1  CAD_JPY        8      16       9.0  MA_8_16  "
      ]
     },
     "execution_count": 51,
     "metadata": {},
     "output_type": "execute_result"
    }
   ],
   "source": [
    "trades_cad_jpy.head()"
   ]
  },
  {
   "cell_type": "code",
   "execution_count": 52,
   "metadata": {},
   "outputs": [],
   "source": [
    "trades_cad_jpy['CUM_GAIN'] = trades_cad_jpy.GAIN.cumsum()"
   ]
  },
  {
   "cell_type": "code",
   "execution_count": 53,
   "metadata": {},
   "outputs": [],
   "source": [
    "def plot_line(df_plot, name):\n",
    "    fig = go.Figure()\n",
    "    fig.add_trace(go.Scatter( \n",
    "        x=df_plot.time,\n",
    "        y=df_plot.CUM_GAIN,\n",
    "        line=dict(width=2,color=\"#3d825f\"),\n",
    "        line_shape='spline',\n",
    "        name=name,\n",
    "        mode='lines'\n",
    "        ))\n",
    "    fig.update_layout(width=1000,height=400,\n",
    "        margin=dict(l=15,r=15,b=10),\n",
    "        font=dict(size=10,color=\"#e1e1e1\"),\n",
    "        paper_bgcolor=\"#1e1e1e\",\n",
    "        plot_bgcolor=\"#1e1e1e\",\n",
    "        title=name)\n",
    "    fig.update_xaxes(\n",
    "        linewidth=1,\n",
    "        linecolor='#3a4a54',\n",
    "        showgrid=False,\n",
    "        zeroline=False\n",
    "    )\n",
    "    fig.update_yaxes(\n",
    "        linewidth=1,\n",
    "        linecolor='#3a4a54',\n",
    "        showgrid=False,\n",
    "        zeroline=False\n",
    "    )\n",
    "    fig.show()"
   ]
  },
  {
   "cell_type": "code",
   "execution_count": 54,
   "metadata": {},
   "outputs": [
    {
     "data": {
      "application/vnd.plotly.v1+json": {
       "config": {
        "plotlyServerURL": "https://plot.ly"
       },
       "data": [
        {
         "line": {
          "color": "#3d825f",
          "shape": "spline",
          "width": 2
         },
         "mode": "lines",
         "name": "CAD_JPY",
         "type": "scatter",
         "x": [
          "2022-11-09T22:00:00+00:00",
          "2022-11-11T04:00:00+00:00",
          "2022-11-11T09:00:00+00:00",
          "2022-11-14T02:00:00+00:00",
          "2022-11-14T21:00:00+00:00",
          "2022-11-15T06:00:00+00:00",
          "2022-11-15T11:00:00+00:00",
          "2022-11-15T23:00:00+00:00",
          "2022-11-16T15:00:00+00:00",
          "2022-11-17T12:00:00+00:00",
          "2022-11-18T05:00:00+00:00",
          "2022-11-20T23:00:00+00:00",
          "2022-11-21T06:00:00+00:00",
          "2022-11-21T09:00:00+00:00",
          "2022-11-22T07:00:00+00:00",
          "2022-11-22T22:00:00+00:00",
          "2022-11-23T10:00:00+00:00",
          "2022-11-24T21:00:00+00:00",
          "2022-11-25T19:00:00+00:00",
          "2022-11-28T16:00:00+00:00",
          "2022-11-29T01:00:00+00:00",
          "2022-11-29T07:00:00+00:00",
          "2022-11-29T11:00:00+00:00",
          "2022-11-30T02:00:00+00:00",
          "2022-11-30T23:00:00+00:00",
          "2022-12-02T19:00:00+00:00",
          "2022-12-04T22:00:00+00:00",
          "2022-12-05T05:00:00+00:00",
          "2022-12-05T21:00:00+00:00",
          "2022-12-06T06:00:00+00:00",
          "2022-12-06T11:00:00+00:00",
          "2022-12-06T23:00:00+00:00",
          "2022-12-07T14:00:00+00:00",
          "2022-12-08T06:00:00+00:00",
          "2022-12-09T02:00:00+00:00",
          "2022-12-09T19:00:00+00:00",
          "2022-12-12T14:00:00+00:00",
          "2022-12-12T15:00:00+00:00",
          "2022-12-13T13:00:00+00:00",
          "2022-12-14T04:00:00+00:00",
          "2022-12-14T05:00:00+00:00",
          "2022-12-14T22:00:00+00:00",
          "2022-12-16T04:00:00+00:00",
          "2022-12-19T12:00:00+00:00",
          "2022-12-20T03:00:00+00:00",
          "2022-12-21T02:00:00+00:00",
          "2022-12-21T11:00:00+00:00",
          "2022-12-21T17:00:00+00:00",
          "2022-12-22T04:00:00+00:00",
          "2022-12-22T13:00:00+00:00",
          "2022-12-22T15:00:00+00:00",
          "2022-12-23T01:00:00+00:00",
          "2022-12-28T15:00:00+00:00",
          "2023-01-03T14:00:00+00:00",
          "2023-01-03T16:00:00+00:00",
          "2023-01-04T00:00:00+00:00",
          "2023-01-05T05:00:00+00:00",
          "2023-01-05T11:00:00+00:00",
          "2023-01-05T22:00:00+00:00",
          "2023-01-06T02:00:00+00:00",
          "2023-01-06T15:00:00+00:00",
          "2023-01-09T07:00:00+00:00",
          "2023-01-09T19:00:00+00:00",
          "2023-01-10T07:00:00+00:00",
          "2023-01-10T18:00:00+00:00",
          "2023-01-11T04:00:00+00:00",
          "2023-01-11T21:00:00+00:00",
          "2023-01-16T03:00:00+00:00",
          "2023-01-17T00:00:00+00:00",
          "2023-01-17T04:00:00+00:00",
          "2023-01-17T12:00:00+00:00",
          "2023-01-18T02:00:00+00:00",
          "2023-01-18T13:00:00+00:00",
          "2023-01-19T14:00:00+00:00",
          "2023-01-23T03:00:00+00:00",
          "2023-01-23T06:00:00+00:00",
          "2023-01-24T04:00:00+00:00",
          "2023-01-24T16:00:00+00:00",
          "2023-01-24T21:00:00+00:00",
          "2023-01-25T03:00:00+00:00",
          "2023-01-25T11:00:00+00:00",
          "2023-01-26T10:00:00+00:00",
          "2023-01-27T04:00:00+00:00",
          "2023-01-27T12:00:00+00:00",
          "2023-01-30T05:00:00+00:00",
          "2023-01-30T15:00:00+00:00",
          "2023-01-30T23:00:00+00:00",
          "2023-01-31T17:00:00+00:00",
          "2023-02-01T07:00:00+00:00",
          "2023-02-01T10:00:00+00:00",
          "2023-02-01T12:00:00+00:00",
          "2023-02-02T10:00:00+00:00",
          "2023-02-02T16:00:00+00:00",
          "2023-02-03T03:00:00+00:00",
          "2023-02-03T04:00:00+00:00",
          "2023-02-03T15:00:00+00:00",
          "2023-02-06T11:00:00+00:00",
          "2023-02-06T15:00:00+00:00",
          "2023-02-07T03:00:00+00:00",
          "2023-02-08T03:00:00+00:00",
          "2023-02-08T12:00:00+00:00",
          "2023-02-09T06:00:00+00:00",
          "2023-02-09T09:00:00+00:00",
          "2023-02-09T21:00:00+00:00",
          "2023-02-10T07:00:00+00:00",
          "2023-02-10T16:00:00+00:00",
          "2023-02-14T00:00:00+00:00",
          "2023-02-14T14:00:00+00:00",
          "2023-02-15T05:00:00+00:00",
          "2023-02-15T11:00:00+00:00",
          "2023-02-16T04:00:00+00:00",
          "2023-02-17T05:00:00+00:00",
          "2023-02-17T14:00:00+00:00",
          "2023-02-20T03:00:00+00:00",
          "2023-02-20T09:00:00+00:00",
          "2023-02-20T12:00:00+00:00",
          "2023-02-21T06:00:00+00:00",
          "2023-02-21T09:00:00+00:00",
          "2023-02-21T19:00:00+00:00",
          "2023-02-22T21:00:00+00:00",
          "2023-02-23T16:00:00+00:00",
          "2023-02-24T05:00:00+00:00",
          "2023-02-27T06:00:00+00:00",
          "2023-02-27T12:00:00+00:00",
          "2023-02-28T17:00:00+00:00",
          "2023-03-01T05:00:00+00:00",
          "2023-03-01T12:00:00+00:00",
          "2023-03-01T20:00:00+00:00",
          "2023-03-03T09:00:00+00:00",
          "2023-03-06T11:00:00+00:00",
          "2023-03-06T18:00:00+00:00",
          "2023-03-07T01:00:00+00:00",
          "2023-03-07T08:00:00+00:00",
          "2023-03-08T00:00:00+00:00",
          "2023-03-08T13:00:00+00:00",
          "2023-03-10T08:00:00+00:00",
          "2023-03-10T15:00:00+00:00",
          "2023-03-13T04:00:00+00:00",
          "2023-03-13T10:00:00+00:00",
          "2023-03-13T22:00:00+00:00",
          "2023-03-15T01:00:00+00:00",
          "2023-03-15T05:00:00+00:00",
          "2023-03-15T11:00:00+00:00",
          "2023-03-16T00:00:00+00:00",
          "2023-03-16T06:00:00+00:00",
          "2023-03-16T17:00:00+00:00",
          "2023-03-17T06:00:00+00:00",
          "2023-03-20T02:00:00+00:00",
          "2023-03-20T07:00:00+00:00",
          "2023-03-20T16:00:00+00:00",
          "2023-03-21T01:00:00+00:00",
          "2023-03-21T09:00:00+00:00",
          "2023-03-21T20:00:00+00:00",
          "2023-03-22T01:00:00+00:00",
          "2023-03-22T18:00:00+00:00",
          "2023-03-23T09:00:00+00:00",
          "2023-03-23T19:00:00+00:00",
          "2023-03-24T18:00:00+00:00",
          "2023-03-28T02:00:00+00:00",
          "2023-03-28T16:00:00+00:00",
          "2023-03-30T05:00:00+00:00",
          "2023-03-30T11:00:00+00:00",
          "2023-03-31T14:00:00+00:00",
          "2023-03-31T15:00:00+00:00",
          "2023-03-31T16:00:00+00:00",
          "2023-04-02T23:00:00+00:00",
          "2023-04-03T16:00:00+00:00",
          "2023-04-04T03:00:00+00:00",
          "2023-04-04T15:00:00+00:00",
          "2023-04-06T01:00:00+00:00",
          "2023-04-06T04:00:00+00:00",
          "2023-04-06T10:00:00+00:00",
          "2023-04-07T01:00:00+00:00",
          "2023-04-07T14:00:00+00:00",
          "2023-04-07T15:00:00+00:00",
          "2023-04-07T16:00:00+00:00",
          "2023-04-11T05:00:00+00:00",
          "2023-04-11T16:00:00+00:00",
          "2023-04-12T12:00:00+00:00",
          "2023-04-13T03:00:00+00:00",
          "2023-04-13T16:00:00+00:00",
          "2023-04-13T21:00:00+00:00",
          "2023-04-14T07:00:00+00:00",
          "2023-04-14T10:00:00+00:00",
          "2023-04-17T14:00:00+00:00",
          "2023-04-17T19:00:00+00:00",
          "2023-04-18T10:00:00+00:00",
          "2023-04-19T03:00:00+00:00",
          "2023-04-19T15:00:00+00:00",
          "2023-04-21T18:00:00+00:00",
          "2023-04-24T01:00:00+00:00",
          "2023-04-24T07:00:00+00:00",
          "2023-04-24T20:00:00+00:00",
          "2023-04-26T16:00:00+00:00",
          "2023-04-27T00:00:00+00:00",
          "2023-04-27T07:00:00+00:00",
          "2023-05-02T11:00:00+00:00",
          "2023-05-04T10:00:00+00:00",
          "2023-05-04T14:00:00+00:00",
          "2023-05-04T21:00:00+00:00",
          "2023-05-08T19:00:00+00:00",
          "2023-05-09T05:00:00+00:00",
          "2023-05-09T06:00:00+00:00",
          "2023-05-09T18:00:00+00:00",
          "2023-05-10T09:00:00+00:00",
          "2023-05-10T11:00:00+00:00",
          "2023-05-10T12:00:00+00:00",
          "2023-05-11T09:00:00+00:00",
          "2023-05-11T11:00:00+00:00",
          "2023-05-12T02:00:00+00:00",
          "2023-05-16T05:00:00+00:00",
          "2023-05-16T13:00:00+00:00",
          "2023-05-17T00:00:00+00:00",
          "2023-05-17T06:00:00+00:00",
          "2023-05-18T04:00:00+00:00",
          "2023-05-18T11:00:00+00:00",
          "2023-05-19T05:00:00+00:00",
          "2023-05-19T14:00:00+00:00",
          "2023-05-19T15:00:00+00:00",
          "2023-05-22T10:00:00+00:00",
          "2023-05-23T08:00:00+00:00",
          "2023-05-23T17:00:00+00:00",
          "2023-05-24T02:00:00+00:00",
          "2023-05-24T19:00:00+00:00",
          "2023-05-25T17:00:00+00:00",
          "2023-05-25T19:00:00+00:00",
          "2023-05-25T20:00:00+00:00",
          "2023-05-25T21:00:00+00:00",
          "2023-05-26T02:00:00+00:00",
          "2023-05-26T12:00:00+00:00",
          "2023-05-29T07:00:00+00:00",
          "2023-05-29T20:00:00+00:00",
          "2023-05-30T04:00:00+00:00",
          "2023-05-31T14:00:00+00:00",
          "2023-06-05T14:00:00+00:00",
          "2023-06-06T07:00:00+00:00",
          "2023-06-07T02:00:00+00:00",
          "2023-06-07T13:00:00+00:00",
          "2023-06-08T05:00:00+00:00",
          "2023-06-09T03:00:00+00:00",
          "2023-06-09T19:00:00+00:00",
          "2023-06-12T02:00:00+00:00",
          "2023-06-12T04:00:00+00:00",
          "2023-06-12T05:00:00+00:00",
          "2023-06-12T15:00:00+00:00",
          "2023-06-13T09:00:00+00:00",
          "2023-06-14T05:00:00+00:00",
          "2023-06-14T10:00:00+00:00",
          "2023-06-14T12:00:00+00:00",
          "2023-06-15T01:00:00+00:00",
          "2023-06-19T04:00:00+00:00",
          "2023-06-19T11:00:00+00:00",
          "2023-06-19T20:00:00+00:00",
          "2023-06-20T01:00:00+00:00",
          "2023-06-20T02:00:00+00:00",
          "2023-06-21T00:00:00+00:00",
          "2023-06-22T04:00:00+00:00",
          "2023-06-22T07:00:00+00:00",
          "2023-06-23T05:00:00+00:00",
          "2023-06-23T16:00:00+00:00",
          "2023-06-26T05:00:00+00:00",
          "2023-06-26T16:00:00+00:00",
          "2023-06-27T14:00:00+00:00",
          "2023-06-27T21:00:00+00:00",
          "2023-06-27T22:00:00+00:00",
          "2023-06-28T23:00:00+00:00",
          "2023-06-29T03:00:00+00:00",
          "2023-06-29T13:00:00+00:00"
         ],
         "y": [
          188.5000000000005,
          81.70000000000073,
          117.50000000000114,
          131.90000000000168,
          80.80000000000211,
          -2.4999999999977263,
          4.100000000002524,
          4.300000000002058,
          -7.599999999999341,
          8.29999999999984,
          20.699999999999363,
          26.099999999999568,
          -38.700000000000045,
          -30.100000000000193,
          -26.900000000000546,
          -44.90000000000123,
          102.49999999999915,
          104.29999999999922,
          178.09999999999917,
          163.40000000000003,
          171.09999999999985,
          133.0999999999989,
          179.69999999999828,
          203.49999999999824,
          456.2999999999988,
          445.5999999999989,
          384.099999999998,
          410.89999999999804,
          375.6999999999991,
          287.69999999999953,
          270.49999999999983,
          257.0999999999998,
          259.29999999999893,
          261.89999999999856,
          262.9999999999981,
          279.69999999999686,
          263.09999999999576,
          195.9999999999951,
          185.69999999999425,
          175.79999999999387,
          155.0999999999945,
          209.39999999999515,
          278.4999999999954,
          52.69999999999584,
          109.89999999999611,
          79.29999999999637,
          27.199999999996294,
          1.0999999999953047,
          -6.000000000004491,
          -29.60000000000349,
          -73.40000000000373,
          76.19999999999578,
          390.2999999999963,
          402.99999999999727,
          384.999999999998,
          607.6999999999985,
          616.0999999999988,
          641.8999999999983,
          614.0999999999976,
          577.1999999999977,
          543.6999999999982,
          529.299999999999,
          503.89999999999856,
          488.899999999998,
          493.49999999999864,
          515.299999999999,
          848.899999999999,
          893.5999999999992,
          873.9999999999994,
          861.4999999999994,
          702.4999999999991,
          522.9999999999989,
          566.9999999999986,
          709.8999999999988,
          648.1999999999998,
          668.5000000000001,
          687.9000000000003,
          697.4000000000002,
          662.0999999999993,
          587.0999999999993,
          598.4999999999998,
          658.1000000000001,
          659.0000000000002,
          637.3999999999994,
          595.8999999999987,
          577.6999999999985,
          553.499999999998,
          560.2999999999977,
          585.3999999999982,
          584.6999999999991,
          642.7000000000004,
          592.1000000000004,
          592.4999999999994,
          591.8999999999994,
          431.699999999999,
          460.0999999999982,
          419.7999999999976,
          402.699999999997,
          467.8999999999971,
          458.0999999999972,
          466.099999999997,
          454.19999999999703,
          440.3999999999965,
          367.89999999999566,
          229.49999999999562,
          295.29999999999575,
          253.09999999999604,
          263.89999999999645,
          269.4999999999962,
          320.69999999999624,
          335.49999999999585,
          303.69999999999465,
          305.4999999999947,
          313.9999999999955,
          320.4999999999953,
          345.59999999999434,
          326.29999999999313,
          294.09999999999286,
          309.69999999999345,
          290.8999999999932,
          290.2999999999932,
          366.09999999999417,
          350.89999999999407,
          296.19999999999294,
          253.49999999999227,
          200.9999999999917,
          149.2999999999907,
          172.69999999999015,
          219.09999999999002,
          217.89999999998997,
          212.0999999999907,
          169.79999999999194,
          139.4999999999922,
          112.49999999999119,
          212.19999999999118,
          102.39999999999128,
          78.29999999999131,
          -3.9000000000075374,
          -9.900000000006344,
          110.2999999999949,
          93.69999999999521,
          -37.40000000000549,
          -36.50000000000546,
          -78.60000000000468,
          -157.70000000000437,
          -194.70000000000482,
          -135.3000000000054,
          -228.50000000000563,
          -305.10000000000616,
          -335.1000000000073,
          -411.00000000000733,
          -423.3000000000064,
          -438.700000000006,
          -514.1000000000065,
          -503.50000000000705,
          -574.600000000007,
          -569.9000000000073,
          -502.1000000000075,
          -547.8000000000069,
          -398.0000000000064,
          -415.9000000000066,
          -376.5000000000075,
          -358.50000000000824,
          -355.50000000000813,
          -412.3000000000079,
          -420.30000000000774,
          -440.50000000000756,
          -545.9000000000078,
          -496.40000000000737,
          -503.3000000000062,
          -535.3000000000055,
          -535.400000000006,
          -556.7000000000069,
          -559.700000000007,
          -567.7000000000069,
          -473.50000000000614,
          -512.9000000000053,
          -540.9000000000054,
          -570.7000000000056,
          -569.5000000000056,
          -587.9000000000053,
          -601.4000000000044,
          -626.600000000004,
          -538.0000000000044,
          -538.1000000000049,
          -549.3000000000044,
          -547.8000000000043,
          -555.2000000000055,
          -443.0000000000055,
          -449.30000000000433,
          -459.70000000000425,
          -456.1000000000041,
          -371.10000000000326,
          -407.1000000000032,
          -426.8000000000035,
          -118.40000000000316,
          126.6999999999976,
          104.69999999999771,
          43.69999999999777,
          231.99999999999875,
          251.399999999999,
          246.59999999999883,
          222.09999999999837,
          213.99999999999807,
          200.49999999999898,
          166.50000000000006,
          194.50000000000017,
          139.89999999999952,
          150.49999999999898,
          248.49999999999937,
          181.29999999999967,
          160.29999999999887,
          144.49999999999875,
          217.89999999999964,
          205.30000000000058,
          225.40000000000134,
          218.70000000000203,
          156.50000000000205,
          135.7000000000022,
          146.10000000000213,
          104.80000000000103,
          87.89999999999992,
          89.79999999999905,
          111.29999999999939,
          98.1000000000003,
          82.70000000000067,
          80.9000000000006,
          63.7000000000009,
          35.60000000000173,
          87.90000000000276,
          84.10000000000309,
          70.40000000000305,
          111.8000000000032,
          227.70000000000238,
          233.10000000000116,
          228.30000000000098,
          226.2000000000009,
          304.10000000000053,
          351.9,
          382.69999999999925,
          380.4999999999987,
          373.9999999999975,
          365.4999999999967,
          357.0999999999964,
          353.9999999999958,
          430.19999999999584,
          419.8999999999964,
          384.699999999996,
          318.29999999999586,
          458.59999999999644,
          413.0999999999966,
          410.3999999999965,
          414.0999999999971,
          386.899999999998,
          391.8999999999977,
          449.49999999999704,
          437.4999999999966,
          530.8999999999963,
          505.2999999999963,
          498.299999999997,
          470.09999999999735,
          481.0999999999973,
          496.09999999999786,
          492.1999999999977,
          513.5999999999976,
          504.39999999999776,
          476.09999999999764,
          467.29999999999825
         ]
        }
       ],
       "layout": {
        "font": {
         "color": "#e1e1e1",
         "size": 10
        },
        "height": 400,
        "margin": {
         "b": 10,
         "l": 15,
         "r": 15
        },
        "paper_bgcolor": "#1e1e1e",
        "plot_bgcolor": "#1e1e1e",
        "template": {
         "data": {
          "bar": [
           {
            "error_x": {
             "color": "#2a3f5f"
            },
            "error_y": {
             "color": "#2a3f5f"
            },
            "marker": {
             "line": {
              "color": "#E5ECF6",
              "width": 0.5
             },
             "pattern": {
              "fillmode": "overlay",
              "size": 10,
              "solidity": 0.2
             }
            },
            "type": "bar"
           }
          ],
          "barpolar": [
           {
            "marker": {
             "line": {
              "color": "#E5ECF6",
              "width": 0.5
             },
             "pattern": {
              "fillmode": "overlay",
              "size": 10,
              "solidity": 0.2
             }
            },
            "type": "barpolar"
           }
          ],
          "carpet": [
           {
            "aaxis": {
             "endlinecolor": "#2a3f5f",
             "gridcolor": "white",
             "linecolor": "white",
             "minorgridcolor": "white",
             "startlinecolor": "#2a3f5f"
            },
            "baxis": {
             "endlinecolor": "#2a3f5f",
             "gridcolor": "white",
             "linecolor": "white",
             "minorgridcolor": "white",
             "startlinecolor": "#2a3f5f"
            },
            "type": "carpet"
           }
          ],
          "choropleth": [
           {
            "colorbar": {
             "outlinewidth": 0,
             "ticks": ""
            },
            "type": "choropleth"
           }
          ],
          "contour": [
           {
            "colorbar": {
             "outlinewidth": 0,
             "ticks": ""
            },
            "colorscale": [
             [
              0,
              "#0d0887"
             ],
             [
              0.1111111111111111,
              "#46039f"
             ],
             [
              0.2222222222222222,
              "#7201a8"
             ],
             [
              0.3333333333333333,
              "#9c179e"
             ],
             [
              0.4444444444444444,
              "#bd3786"
             ],
             [
              0.5555555555555556,
              "#d8576b"
             ],
             [
              0.6666666666666666,
              "#ed7953"
             ],
             [
              0.7777777777777778,
              "#fb9f3a"
             ],
             [
              0.8888888888888888,
              "#fdca26"
             ],
             [
              1,
              "#f0f921"
             ]
            ],
            "type": "contour"
           }
          ],
          "contourcarpet": [
           {
            "colorbar": {
             "outlinewidth": 0,
             "ticks": ""
            },
            "type": "contourcarpet"
           }
          ],
          "heatmap": [
           {
            "colorbar": {
             "outlinewidth": 0,
             "ticks": ""
            },
            "colorscale": [
             [
              0,
              "#0d0887"
             ],
             [
              0.1111111111111111,
              "#46039f"
             ],
             [
              0.2222222222222222,
              "#7201a8"
             ],
             [
              0.3333333333333333,
              "#9c179e"
             ],
             [
              0.4444444444444444,
              "#bd3786"
             ],
             [
              0.5555555555555556,
              "#d8576b"
             ],
             [
              0.6666666666666666,
              "#ed7953"
             ],
             [
              0.7777777777777778,
              "#fb9f3a"
             ],
             [
              0.8888888888888888,
              "#fdca26"
             ],
             [
              1,
              "#f0f921"
             ]
            ],
            "type": "heatmap"
           }
          ],
          "heatmapgl": [
           {
            "colorbar": {
             "outlinewidth": 0,
             "ticks": ""
            },
            "colorscale": [
             [
              0,
              "#0d0887"
             ],
             [
              0.1111111111111111,
              "#46039f"
             ],
             [
              0.2222222222222222,
              "#7201a8"
             ],
             [
              0.3333333333333333,
              "#9c179e"
             ],
             [
              0.4444444444444444,
              "#bd3786"
             ],
             [
              0.5555555555555556,
              "#d8576b"
             ],
             [
              0.6666666666666666,
              "#ed7953"
             ],
             [
              0.7777777777777778,
              "#fb9f3a"
             ],
             [
              0.8888888888888888,
              "#fdca26"
             ],
             [
              1,
              "#f0f921"
             ]
            ],
            "type": "heatmapgl"
           }
          ],
          "histogram": [
           {
            "marker": {
             "pattern": {
              "fillmode": "overlay",
              "size": 10,
              "solidity": 0.2
             }
            },
            "type": "histogram"
           }
          ],
          "histogram2d": [
           {
            "colorbar": {
             "outlinewidth": 0,
             "ticks": ""
            },
            "colorscale": [
             [
              0,
              "#0d0887"
             ],
             [
              0.1111111111111111,
              "#46039f"
             ],
             [
              0.2222222222222222,
              "#7201a8"
             ],
             [
              0.3333333333333333,
              "#9c179e"
             ],
             [
              0.4444444444444444,
              "#bd3786"
             ],
             [
              0.5555555555555556,
              "#d8576b"
             ],
             [
              0.6666666666666666,
              "#ed7953"
             ],
             [
              0.7777777777777778,
              "#fb9f3a"
             ],
             [
              0.8888888888888888,
              "#fdca26"
             ],
             [
              1,
              "#f0f921"
             ]
            ],
            "type": "histogram2d"
           }
          ],
          "histogram2dcontour": [
           {
            "colorbar": {
             "outlinewidth": 0,
             "ticks": ""
            },
            "colorscale": [
             [
              0,
              "#0d0887"
             ],
             [
              0.1111111111111111,
              "#46039f"
             ],
             [
              0.2222222222222222,
              "#7201a8"
             ],
             [
              0.3333333333333333,
              "#9c179e"
             ],
             [
              0.4444444444444444,
              "#bd3786"
             ],
             [
              0.5555555555555556,
              "#d8576b"
             ],
             [
              0.6666666666666666,
              "#ed7953"
             ],
             [
              0.7777777777777778,
              "#fb9f3a"
             ],
             [
              0.8888888888888888,
              "#fdca26"
             ],
             [
              1,
              "#f0f921"
             ]
            ],
            "type": "histogram2dcontour"
           }
          ],
          "mesh3d": [
           {
            "colorbar": {
             "outlinewidth": 0,
             "ticks": ""
            },
            "type": "mesh3d"
           }
          ],
          "parcoords": [
           {
            "line": {
             "colorbar": {
              "outlinewidth": 0,
              "ticks": ""
             }
            },
            "type": "parcoords"
           }
          ],
          "pie": [
           {
            "automargin": true,
            "type": "pie"
           }
          ],
          "scatter": [
           {
            "fillpattern": {
             "fillmode": "overlay",
             "size": 10,
             "solidity": 0.2
            },
            "type": "scatter"
           }
          ],
          "scatter3d": [
           {
            "line": {
             "colorbar": {
              "outlinewidth": 0,
              "ticks": ""
             }
            },
            "marker": {
             "colorbar": {
              "outlinewidth": 0,
              "ticks": ""
             }
            },
            "type": "scatter3d"
           }
          ],
          "scattercarpet": [
           {
            "marker": {
             "colorbar": {
              "outlinewidth": 0,
              "ticks": ""
             }
            },
            "type": "scattercarpet"
           }
          ],
          "scattergeo": [
           {
            "marker": {
             "colorbar": {
              "outlinewidth": 0,
              "ticks": ""
             }
            },
            "type": "scattergeo"
           }
          ],
          "scattergl": [
           {
            "marker": {
             "colorbar": {
              "outlinewidth": 0,
              "ticks": ""
             }
            },
            "type": "scattergl"
           }
          ],
          "scattermapbox": [
           {
            "marker": {
             "colorbar": {
              "outlinewidth": 0,
              "ticks": ""
             }
            },
            "type": "scattermapbox"
           }
          ],
          "scatterpolar": [
           {
            "marker": {
             "colorbar": {
              "outlinewidth": 0,
              "ticks": ""
             }
            },
            "type": "scatterpolar"
           }
          ],
          "scatterpolargl": [
           {
            "marker": {
             "colorbar": {
              "outlinewidth": 0,
              "ticks": ""
             }
            },
            "type": "scatterpolargl"
           }
          ],
          "scatterternary": [
           {
            "marker": {
             "colorbar": {
              "outlinewidth": 0,
              "ticks": ""
             }
            },
            "type": "scatterternary"
           }
          ],
          "surface": [
           {
            "colorbar": {
             "outlinewidth": 0,
             "ticks": ""
            },
            "colorscale": [
             [
              0,
              "#0d0887"
             ],
             [
              0.1111111111111111,
              "#46039f"
             ],
             [
              0.2222222222222222,
              "#7201a8"
             ],
             [
              0.3333333333333333,
              "#9c179e"
             ],
             [
              0.4444444444444444,
              "#bd3786"
             ],
             [
              0.5555555555555556,
              "#d8576b"
             ],
             [
              0.6666666666666666,
              "#ed7953"
             ],
             [
              0.7777777777777778,
              "#fb9f3a"
             ],
             [
              0.8888888888888888,
              "#fdca26"
             ],
             [
              1,
              "#f0f921"
             ]
            ],
            "type": "surface"
           }
          ],
          "table": [
           {
            "cells": {
             "fill": {
              "color": "#EBF0F8"
             },
             "line": {
              "color": "white"
             }
            },
            "header": {
             "fill": {
              "color": "#C8D4E3"
             },
             "line": {
              "color": "white"
             }
            },
            "type": "table"
           }
          ]
         },
         "layout": {
          "annotationdefaults": {
           "arrowcolor": "#2a3f5f",
           "arrowhead": 0,
           "arrowwidth": 1
          },
          "autotypenumbers": "strict",
          "coloraxis": {
           "colorbar": {
            "outlinewidth": 0,
            "ticks": ""
           }
          },
          "colorscale": {
           "diverging": [
            [
             0,
             "#8e0152"
            ],
            [
             0.1,
             "#c51b7d"
            ],
            [
             0.2,
             "#de77ae"
            ],
            [
             0.3,
             "#f1b6da"
            ],
            [
             0.4,
             "#fde0ef"
            ],
            [
             0.5,
             "#f7f7f7"
            ],
            [
             0.6,
             "#e6f5d0"
            ],
            [
             0.7,
             "#b8e186"
            ],
            [
             0.8,
             "#7fbc41"
            ],
            [
             0.9,
             "#4d9221"
            ],
            [
             1,
             "#276419"
            ]
           ],
           "sequential": [
            [
             0,
             "#0d0887"
            ],
            [
             0.1111111111111111,
             "#46039f"
            ],
            [
             0.2222222222222222,
             "#7201a8"
            ],
            [
             0.3333333333333333,
             "#9c179e"
            ],
            [
             0.4444444444444444,
             "#bd3786"
            ],
            [
             0.5555555555555556,
             "#d8576b"
            ],
            [
             0.6666666666666666,
             "#ed7953"
            ],
            [
             0.7777777777777778,
             "#fb9f3a"
            ],
            [
             0.8888888888888888,
             "#fdca26"
            ],
            [
             1,
             "#f0f921"
            ]
           ],
           "sequentialminus": [
            [
             0,
             "#0d0887"
            ],
            [
             0.1111111111111111,
             "#46039f"
            ],
            [
             0.2222222222222222,
             "#7201a8"
            ],
            [
             0.3333333333333333,
             "#9c179e"
            ],
            [
             0.4444444444444444,
             "#bd3786"
            ],
            [
             0.5555555555555556,
             "#d8576b"
            ],
            [
             0.6666666666666666,
             "#ed7953"
            ],
            [
             0.7777777777777778,
             "#fb9f3a"
            ],
            [
             0.8888888888888888,
             "#fdca26"
            ],
            [
             1,
             "#f0f921"
            ]
           ]
          },
          "colorway": [
           "#636efa",
           "#EF553B",
           "#00cc96",
           "#ab63fa",
           "#FFA15A",
           "#19d3f3",
           "#FF6692",
           "#B6E880",
           "#FF97FF",
           "#FECB52"
          ],
          "font": {
           "color": "#2a3f5f"
          },
          "geo": {
           "bgcolor": "white",
           "lakecolor": "white",
           "landcolor": "#E5ECF6",
           "showlakes": true,
           "showland": true,
           "subunitcolor": "white"
          },
          "hoverlabel": {
           "align": "left"
          },
          "hovermode": "closest",
          "mapbox": {
           "style": "light"
          },
          "paper_bgcolor": "white",
          "plot_bgcolor": "#E5ECF6",
          "polar": {
           "angularaxis": {
            "gridcolor": "white",
            "linecolor": "white",
            "ticks": ""
           },
           "bgcolor": "#E5ECF6",
           "radialaxis": {
            "gridcolor": "white",
            "linecolor": "white",
            "ticks": ""
           }
          },
          "scene": {
           "xaxis": {
            "backgroundcolor": "#E5ECF6",
            "gridcolor": "white",
            "gridwidth": 2,
            "linecolor": "white",
            "showbackground": true,
            "ticks": "",
            "zerolinecolor": "white"
           },
           "yaxis": {
            "backgroundcolor": "#E5ECF6",
            "gridcolor": "white",
            "gridwidth": 2,
            "linecolor": "white",
            "showbackground": true,
            "ticks": "",
            "zerolinecolor": "white"
           },
           "zaxis": {
            "backgroundcolor": "#E5ECF6",
            "gridcolor": "white",
            "gridwidth": 2,
            "linecolor": "white",
            "showbackground": true,
            "ticks": "",
            "zerolinecolor": "white"
           }
          },
          "shapedefaults": {
           "line": {
            "color": "#2a3f5f"
           }
          },
          "ternary": {
           "aaxis": {
            "gridcolor": "white",
            "linecolor": "white",
            "ticks": ""
           },
           "baxis": {
            "gridcolor": "white",
            "linecolor": "white",
            "ticks": ""
           },
           "bgcolor": "#E5ECF6",
           "caxis": {
            "gridcolor": "white",
            "linecolor": "white",
            "ticks": ""
           }
          },
          "title": {
           "x": 0.05
          },
          "xaxis": {
           "automargin": true,
           "gridcolor": "white",
           "linecolor": "white",
           "ticks": "",
           "title": {
            "standoff": 15
           },
           "zerolinecolor": "white",
           "zerolinewidth": 2
          },
          "yaxis": {
           "automargin": true,
           "gridcolor": "white",
           "linecolor": "white",
           "ticks": "",
           "title": {
            "standoff": 15
           },
           "zerolinecolor": "white",
           "zerolinewidth": 2
          }
         }
        },
        "title": {
         "text": "CAD_JPY"
        },
        "width": 1000,
        "xaxis": {
         "linecolor": "#3a4a54",
         "linewidth": 1,
         "showgrid": false,
         "zeroline": false
        },
        "yaxis": {
         "linecolor": "#3a4a54",
         "linewidth": 1,
         "showgrid": false,
         "zeroline": false
        }
       }
      }
     },
     "metadata": {},
     "output_type": "display_data"
    }
   ],
   "source": [
    "plot_line(trades_cad_jpy, \"CAD_JPY\")"
   ]
  },
  {
   "cell_type": "code",
   "execution_count": 55,
   "metadata": {},
   "outputs": [
    {
     "data": {
      "application/vnd.plotly.v1+json": {
       "config": {
        "plotlyServerURL": "https://plot.ly"
       },
       "data": [
        {
         "line": {
          "color": "#3d825f",
          "shape": "spline",
          "width": 2
         },
         "mode": "lines",
         "name": "GBP_JPY_MA_8_16",
         "type": "scatter",
         "x": [
          "2022-11-10T05:00:00+00:00",
          "2022-11-10T14:00:00+00:00",
          "2022-11-11T05:00:00+00:00",
          "2022-11-11T09:00:00+00:00",
          "2022-11-13T23:00:00+00:00",
          "2022-11-14T06:00:00+00:00",
          "2022-11-14T09:00:00+00:00",
          "2022-11-14T20:00:00+00:00",
          "2022-11-15T04:00:00+00:00",
          "2022-11-15T22:00:00+00:00",
          "2022-11-16T04:00:00+00:00",
          "2022-11-16T16:00:00+00:00",
          "2022-11-16T22:00:00+00:00",
          "2022-11-17T06:00:00+00:00",
          "2022-11-17T10:00:00+00:00",
          "2022-11-17T13:00:00+00:00",
          "2022-11-17T21:00:00+00:00",
          "2022-11-21T03:00:00+00:00",
          "2022-11-21T10:00:00+00:00",
          "2022-11-22T09:00:00+00:00",
          "2022-11-22T19:00:00+00:00",
          "2022-11-23T21:00:00+00:00",
          "2022-11-24T20:00:00+00:00",
          "2022-11-25T21:00:00+00:00",
          "2022-11-28T16:00:00+00:00",
          "2022-11-28T20:00:00+00:00",
          "2022-11-29T07:00:00+00:00",
          "2022-11-29T11:00:00+00:00",
          "2022-11-30T03:00:00+00:00",
          "2022-11-30T22:00:00+00:00",
          "2022-12-01T13:00:00+00:00",
          "2022-12-01T23:00:00+00:00",
          "2022-12-02T18:00:00+00:00",
          "2022-12-06T11:00:00+00:00",
          "2022-12-07T07:00:00+00:00",
          "2022-12-07T19:00:00+00:00",
          "2022-12-08T04:00:00+00:00",
          "2022-12-08T12:00:00+00:00",
          "2022-12-08T18:00:00+00:00",
          "2022-12-09T04:00:00+00:00",
          "2022-12-09T15:00:00+00:00",
          "2022-12-12T03:00:00+00:00",
          "2022-12-12T09:00:00+00:00",
          "2022-12-13T13:00:00+00:00",
          "2022-12-14T19:00:00+00:00",
          "2022-12-15T08:00:00+00:00",
          "2022-12-15T09:00:00+00:00",
          "2022-12-15T18:00:00+00:00",
          "2022-12-19T11:00:00+00:00",
          "2022-12-20T03:00:00+00:00",
          "2022-12-21T01:00:00+00:00",
          "2022-12-21T10:00:00+00:00",
          "2022-12-23T00:00:00+00:00",
          "2022-12-27T14:00:00+00:00",
          "2022-12-27T23:00:00+00:00",
          "2022-12-28T23:00:00+00:00",
          "2023-01-03T17:00:00+00:00",
          "2023-01-05T05:00:00+00:00",
          "2023-01-05T14:00:00+00:00",
          "2023-01-05T16:00:00+00:00",
          "2023-01-06T03:00:00+00:00",
          "2023-01-06T15:00:00+00:00",
          "2023-01-06T21:00:00+00:00",
          "2023-01-09T22:00:00+00:00",
          "2023-01-10T10:00:00+00:00",
          "2023-01-11T14:00:00+00:00",
          "2023-01-11T21:00:00+00:00",
          "2023-01-11T22:00:00+00:00",
          "2023-01-16T01:00:00+00:00",
          "2023-01-17T01:00:00+00:00",
          "2023-01-17T02:00:00+00:00",
          "2023-01-17T22:00:00+00:00",
          "2023-01-18T00:00:00+00:00",
          "2023-01-18T14:00:00+00:00",
          "2023-01-19T14:00:00+00:00",
          "2023-01-23T01:00:00+00:00",
          "2023-01-23T05:00:00+00:00",
          "2023-01-24T04:00:00+00:00",
          "2023-01-24T23:00:00+00:00",
          "2023-01-25T10:00:00+00:00",
          "2023-01-25T20:00:00+00:00",
          "2023-01-26T05:00:00+00:00",
          "2023-01-26T09:00:00+00:00",
          "2023-01-27T03:00:00+00:00",
          "2023-01-27T20:00:00+00:00",
          "2023-01-30T07:00:00+00:00",
          "2023-01-30T14:00:00+00:00",
          "2023-01-31T00:00:00+00:00",
          "2023-02-01T10:00:00+00:00",
          "2023-02-01T13:00:00+00:00",
          "2023-02-03T12:00:00+00:00",
          "2023-02-07T01:00:00+00:00",
          "2023-02-08T03:00:00+00:00",
          "2023-02-10T05:00:00+00:00",
          "2023-02-10T21:00:00+00:00",
          "2023-02-14T02:00:00+00:00",
          "2023-02-14T11:00:00+00:00",
          "2023-02-15T04:00:00+00:00",
          "2023-02-15T21:00:00+00:00",
          "2023-02-16T05:00:00+00:00",
          "2023-02-16T10:00:00+00:00",
          "2023-02-16T16:00:00+00:00",
          "2023-02-17T06:00:00+00:00",
          "2023-02-20T07:00:00+00:00",
          "2023-02-20T19:00:00+00:00",
          "2023-02-22T05:00:00+00:00",
          "2023-02-23T06:00:00+00:00",
          "2023-02-23T10:00:00+00:00",
          "2023-02-24T07:00:00+00:00",
          "2023-02-27T05:00:00+00:00",
          "2023-02-27T10:00:00+00:00",
          "2023-02-28T20:00:00+00:00",
          "2023-03-01T07:00:00+00:00",
          "2023-03-01T12:00:00+00:00",
          "2023-03-01T23:00:00+00:00",
          "2023-03-02T10:00:00+00:00",
          "2023-03-03T03:00:00+00:00",
          "2023-03-03T11:00:00+00:00",
          "2023-03-03T20:00:00+00:00",
          "2023-03-06T05:00:00+00:00",
          "2023-03-06T14:00:00+00:00",
          "2023-03-07T10:00:00+00:00",
          "2023-03-08T04:00:00+00:00",
          "2023-03-08T14:00:00+00:00",
          "2023-03-08T23:00:00+00:00",
          "2023-03-09T05:00:00+00:00",
          "2023-03-09T17:00:00+00:00",
          "2023-03-10T18:00:00+00:00",
          "2023-03-13T04:00:00+00:00",
          "2023-03-13T09:00:00+00:00",
          "2023-03-13T20:00:00+00:00",
          "2023-03-15T01:00:00+00:00",
          "2023-03-15T05:00:00+00:00",
          "2023-03-15T10:00:00+00:00",
          "2023-03-16T00:00:00+00:00",
          "2023-03-16T06:00:00+00:00",
          "2023-03-16T17:00:00+00:00",
          "2023-03-17T06:00:00+00:00",
          "2023-03-20T00:00:00+00:00",
          "2023-03-20T07:00:00+00:00",
          "2023-03-20T15:00:00+00:00",
          "2023-03-21T02:00:00+00:00",
          "2023-03-21T09:00:00+00:00",
          "2023-03-21T20:00:00+00:00",
          "2023-03-21T23:00:00+00:00",
          "2023-03-22T19:00:00+00:00",
          "2023-03-23T09:00:00+00:00",
          "2023-03-23T18:00:00+00:00",
          "2023-03-24T18:00:00+00:00",
          "2023-03-28T02:00:00+00:00",
          "2023-03-28T13:00:00+00:00",
          "2023-03-30T03:00:00+00:00",
          "2023-03-30T09:00:00+00:00",
          "2023-03-31T14:00:00+00:00",
          "2023-04-03T07:00:00+00:00",
          "2023-04-03T19:00:00+00:00",
          "2023-04-04T01:00:00+00:00",
          "2023-04-04T18:00:00+00:00",
          "2023-04-06T08:00:00+00:00",
          "2023-04-07T02:00:00+00:00",
          "2023-04-07T07:00:00+00:00",
          "2023-04-07T15:00:00+00:00",
          "2023-04-07T17:00:00+00:00",
          "2023-04-12T11:00:00+00:00",
          "2023-04-12T20:00:00+00:00",
          "2023-04-13T13:00:00+00:00",
          "2023-04-14T01:00:00+00:00",
          "2023-04-14T06:00:00+00:00",
          "2023-04-14T17:00:00+00:00",
          "2023-04-17T15:00:00+00:00",
          "2023-04-17T16:00:00+00:00",
          "2023-04-18T17:00:00+00:00",
          "2023-04-19T02:00:00+00:00",
          "2023-04-20T03:00:00+00:00",
          "2023-04-21T17:00:00+00:00",
          "2023-04-25T08:00:00+00:00",
          "2023-04-26T04:00:00+00:00",
          "2023-04-27T00:00:00+00:00",
          "2023-04-27T07:00:00+00:00",
          "2023-05-01T12:00:00+00:00",
          "2023-05-01T18:00:00+00:00",
          "2023-05-02T11:00:00+00:00",
          "2023-05-03T21:00:00+00:00",
          "2023-05-03T23:00:00+00:00",
          "2023-05-05T01:00:00+00:00",
          "2023-05-08T18:00:00+00:00",
          "2023-05-09T16:00:00+00:00",
          "2023-05-10T12:00:00+00:00",
          "2023-05-12T02:00:00+00:00",
          "2023-05-16T04:00:00+00:00",
          "2023-05-16T14:00:00+00:00",
          "2023-05-16T23:00:00+00:00",
          "2023-05-17T05:00:00+00:00",
          "2023-05-18T05:00:00+00:00",
          "2023-05-18T14:00:00+00:00",
          "2023-05-19T03:00:00+00:00",
          "2023-05-19T13:00:00+00:00",
          "2023-05-21T21:00:00+00:00",
          "2023-05-22T11:00:00+00:00",
          "2023-05-23T07:00:00+00:00",
          "2023-05-23T18:00:00+00:00",
          "2023-05-24T03:00:00+00:00",
          "2023-05-24T06:00:00+00:00",
          "2023-05-24T10:00:00+00:00",
          "2023-05-24T18:00:00+00:00",
          "2023-05-25T17:00:00+00:00",
          "2023-05-25T21:00:00+00:00",
          "2023-05-26T05:00:00+00:00",
          "2023-05-26T10:00:00+00:00",
          "2023-05-29T06:00:00+00:00",
          "2023-05-29T19:00:00+00:00",
          "2023-05-30T04:00:00+00:00",
          "2023-05-30T10:00:00+00:00",
          "2023-05-30T18:00:00+00:00",
          "2023-05-31T16:00:00+00:00",
          "2023-06-05T02:00:00+00:00",
          "2023-06-06T17:00:00+00:00",
          "2023-06-07T02:00:00+00:00",
          "2023-06-07T12:00:00+00:00",
          "2023-06-08T04:00:00+00:00",
          "2023-06-08T13:00:00+00:00",
          "2023-06-12T10:00:00+00:00",
          "2023-06-13T03:00:00+00:00",
          "2023-06-14T05:00:00+00:00",
          "2023-06-14T10:00:00+00:00",
          "2023-06-19T05:00:00+00:00",
          "2023-06-20T01:00:00+00:00",
          "2023-06-20T08:00:00+00:00",
          "2023-06-20T23:00:00+00:00",
          "2023-06-21T13:00:00+00:00",
          "2023-06-21T18:00:00+00:00",
          "2023-06-22T04:00:00+00:00",
          "2023-06-22T10:00:00+00:00",
          "2023-06-23T04:00:00+00:00",
          "2023-06-23T15:00:00+00:00",
          "2023-06-26T04:00:00+00:00",
          "2023-06-26T19:00:00+00:00",
          "2023-06-27T03:00:00+00:00",
          "2023-06-27T05:00:00+00:00",
          "2023-06-28T03:00:00+00:00",
          "2023-06-29T02:00:00+00:00",
          "2023-06-29T03:00:00+00:00",
          "2023-06-29T09:00:00+00:00",
          "2023-06-30T06:00:00+00:00"
         ],
         "y": [
          -105.80000000000211,
          -128.5000000000025,
          -253.5000000000025,
          -261.3000000000028,
          -346.3000000000022,
          -527.3000000000025,
          -673.5000000000042,
          -768.5000000000059,
          -758.7000000000074,
          -813.5000000000076,
          -797.8000000000065,
          -822.7000000000061,
          -828.7000000000063,
          -821.3000000000079,
          -896.5000000000089,
          -1002.9000000000082,
          -1001.9000000000091,
          -1105.7000000000103,
          -1092.3000000000088,
          -1115.8000000000075,
          -1069.5000000000082,
          -1031.000000000009,
          -990.300000000008,
          -854.8000000000062,
          -946.5000000000064,
          -988.300000000007,
          -1042.6000000000076,
          -1076.000000000008,
          -1045.7000000000082,
          -1029.1000000000085,
          -1096.500000000009,
          -1052.60000000001,
          -927.200000000008,
          -949.9000000000055,
          -975.0000000000032,
          -1015.6000000000009,
          -1050.899999999999,
          -1126.5999999999967,
          -1165.7999999999963,
          -1270.9999999999984,
          -1331.0000000000007,
          -1369.600000000003,
          -1367.5000000000045,
          -1389.000000000005,
          -1379.100000000006,
          -1424.1000000000076,
          -1485.100000000009,
          -1308.0000000000105,
          -1719.9000000000106,
          -1600.3000000000106,
          -1686.100000000011,
          -1624.1000000000106,
          -1514.9000000000121,
          -1525.5000000000146,
          -1456.7000000000157,
          -983.3000000000148,
          -684.5000000000149,
          -663.100000000015,
          -692.8000000000147,
          -759.4000000000144,
          -768.6000000000129,
          -787.4000000000117,
          -691.0000000000118,
          -685.6000000000116,
          -649.1000000000107,
          -648.3000000000097,
          -662.6000000000098,
          -245.30000000000962,
          -214.70000000000846,
          -235.60000000000878,
          -200.50000000000887,
          -257.70000000000914,
          -166.70000000000948,
          -118.7000000000105,
          81.69999999998856,
          16.499999999989882,
          31.299999999992338,
          109.09999999999434,
          41.99999999999511,
          -34.30000000000541,
          -62.400000000006,
          -118.40000000000623,
          -126.300000000007,
          -132.30000000000723,
          -183.30000000000632,
          -263.3000000000046,
          -276.9000000000042,
          -168.8000000000053,
          -203.7000000000071,
          34.59999999999104,
          252.69999999998936,
          390.0999999999889,
          502.2999999999903,
          574.8999999999902,
          775.9999999999898,
          689.4999999999889,
          733.7999999999872,
          767.899999999988,
          752.0999999999893,
          735.2999999999887,
          686.5999999999892,
          692.0999999999899,
          756.0999999999885,
          747.5999999999877,
          900.0999999999883,
          946.0999999999891,
          909.8999999999896,
          927.6999999999894,
          988.6999999999879,
          941.2999999999861,
          989.8999999999851,
          945.5999999999839,
          871.0999999999834,
          835.1999999999854,
          808.8999999999877,
          808.6999999999896,
          778.7999999999918,
          741.6999999999937,
          724.5999999999945,
          735.2999999999944,
          736.4999999999944,
          775.099999999994,
          675.4999999999931,
          610.2999999999915,
          569.7999999999914,
          545.0999999999929,
          519.0999999999938,
          483.69999999999527,
          318.89999999999566,
          174.39999999999634,
          278.19999999999743,
          248.99999999999727,
          6.899999999998045,
          29.899999999999864,
          -35.699999999997885,
          -181.99999999999727,
          -202.09999999999945,
          -209.29999999999973,
          -404.2999999999986,
          -557.1999999999982,
          -592.0999999999972,
          -697.8999999999965,
          -713.9999999999966,
          -717.3999999999958,
          -801.7999999999952,
          -848.6999999999946,
          -956.899999999994,
          -900.2999999999937,
          -791.8999999999934,
          -814.9999999999928,
          -606.2999999999911,
          -671.0999999999907,
          -607.3999999999907,
          -611.0999999999913,
          -613.6999999999923,
          -630.299999999992,
          -648.8999999999927,
          -577.6999999999938,
          -559.299999999994,
          -560.099999999995,
          -550.6999999999956,
          -556.4999999999949,
          -381.0999999999958,
          -414.89999999999804,
          -483.0999999999997,
          -527.3000000000004,
          -523.7000000000003,
          -513.899999999999,
          -486.09999999999695,
          -478.39999999999714,
          -429.2999999999986,
          -446.9000000000002,
          -380.70000000000243,
          -308.0000000000049,
          -252.40000000000657,
          -120.10000000000582,
          -65.10000000000468,
          -83.70000000000539,
          415.6999999999946,
          419.69999999999663,
          396.2999999999986,
          622.8000000000001,
          618.5000000000023,
          655.9000000000046,
          833.7000000000066,
          828.1000000000083,
          803.9000000000093,
          992.1000000000098,
          1180.3000000000102,
          1159.7000000000112,
          1137.3000000000122,
          1119.200000000014,
          1214.300000000016,
          1160.900000000017,
          1131.1000000000167,
          1066.4000000000176,
          1012.3000000000179,
          963.500000000018,
          904.5000000000176,
          876.400000000017,
          879.9000000000167,
          814.7000000000152,
          689.3000000000133,
          632.0000000000125,
          683.7000000000121,
          675.9000000000118,
          653.8000000000114,
          596.9000000000098,
          660.3000000000084,
          661.7000000000065,
          647.300000000006,
          573.100000000007,
          490.10000000000855,
          513.9000000000085,
          624.7000000000061,
          688.4000000000061,
          629.1000000000072,
          530.1000000000063,
          537.6000000000051,
          542.3000000000048,
          650.9000000000061,
          685.3000000000084,
          874.1000000000089,
          837.7000000000085,
          1305.3000000000072,
          1300.300000000006,
          1226.0000000000066,
          1277.5000000000082,
          1327.5000000000082,
          1306.9000000000065,
          1282.3000000000056,
          1208.7000000000066,
          1228.5000000000073,
          1152.5000000000055,
          1150.9000000000035,
          1167.8000000000018,
          1183.5,
          1158.5,
          1209.5999999999995,
          1311.8999999999992,
          1318.1000000000004,
          1295.7000000000014,
          1281.5000000000018,
          1216.8000000000027
         ]
        }
       ],
       "layout": {
        "font": {
         "color": "#e1e1e1",
         "size": 10
        },
        "height": 400,
        "margin": {
         "b": 10,
         "l": 15,
         "r": 15
        },
        "paper_bgcolor": "#1e1e1e",
        "plot_bgcolor": "#1e1e1e",
        "template": {
         "data": {
          "bar": [
           {
            "error_x": {
             "color": "#2a3f5f"
            },
            "error_y": {
             "color": "#2a3f5f"
            },
            "marker": {
             "line": {
              "color": "#E5ECF6",
              "width": 0.5
             },
             "pattern": {
              "fillmode": "overlay",
              "size": 10,
              "solidity": 0.2
             }
            },
            "type": "bar"
           }
          ],
          "barpolar": [
           {
            "marker": {
             "line": {
              "color": "#E5ECF6",
              "width": 0.5
             },
             "pattern": {
              "fillmode": "overlay",
              "size": 10,
              "solidity": 0.2
             }
            },
            "type": "barpolar"
           }
          ],
          "carpet": [
           {
            "aaxis": {
             "endlinecolor": "#2a3f5f",
             "gridcolor": "white",
             "linecolor": "white",
             "minorgridcolor": "white",
             "startlinecolor": "#2a3f5f"
            },
            "baxis": {
             "endlinecolor": "#2a3f5f",
             "gridcolor": "white",
             "linecolor": "white",
             "minorgridcolor": "white",
             "startlinecolor": "#2a3f5f"
            },
            "type": "carpet"
           }
          ],
          "choropleth": [
           {
            "colorbar": {
             "outlinewidth": 0,
             "ticks": ""
            },
            "type": "choropleth"
           }
          ],
          "contour": [
           {
            "colorbar": {
             "outlinewidth": 0,
             "ticks": ""
            },
            "colorscale": [
             [
              0,
              "#0d0887"
             ],
             [
              0.1111111111111111,
              "#46039f"
             ],
             [
              0.2222222222222222,
              "#7201a8"
             ],
             [
              0.3333333333333333,
              "#9c179e"
             ],
             [
              0.4444444444444444,
              "#bd3786"
             ],
             [
              0.5555555555555556,
              "#d8576b"
             ],
             [
              0.6666666666666666,
              "#ed7953"
             ],
             [
              0.7777777777777778,
              "#fb9f3a"
             ],
             [
              0.8888888888888888,
              "#fdca26"
             ],
             [
              1,
              "#f0f921"
             ]
            ],
            "type": "contour"
           }
          ],
          "contourcarpet": [
           {
            "colorbar": {
             "outlinewidth": 0,
             "ticks": ""
            },
            "type": "contourcarpet"
           }
          ],
          "heatmap": [
           {
            "colorbar": {
             "outlinewidth": 0,
             "ticks": ""
            },
            "colorscale": [
             [
              0,
              "#0d0887"
             ],
             [
              0.1111111111111111,
              "#46039f"
             ],
             [
              0.2222222222222222,
              "#7201a8"
             ],
             [
              0.3333333333333333,
              "#9c179e"
             ],
             [
              0.4444444444444444,
              "#bd3786"
             ],
             [
              0.5555555555555556,
              "#d8576b"
             ],
             [
              0.6666666666666666,
              "#ed7953"
             ],
             [
              0.7777777777777778,
              "#fb9f3a"
             ],
             [
              0.8888888888888888,
              "#fdca26"
             ],
             [
              1,
              "#f0f921"
             ]
            ],
            "type": "heatmap"
           }
          ],
          "heatmapgl": [
           {
            "colorbar": {
             "outlinewidth": 0,
             "ticks": ""
            },
            "colorscale": [
             [
              0,
              "#0d0887"
             ],
             [
              0.1111111111111111,
              "#46039f"
             ],
             [
              0.2222222222222222,
              "#7201a8"
             ],
             [
              0.3333333333333333,
              "#9c179e"
             ],
             [
              0.4444444444444444,
              "#bd3786"
             ],
             [
              0.5555555555555556,
              "#d8576b"
             ],
             [
              0.6666666666666666,
              "#ed7953"
             ],
             [
              0.7777777777777778,
              "#fb9f3a"
             ],
             [
              0.8888888888888888,
              "#fdca26"
             ],
             [
              1,
              "#f0f921"
             ]
            ],
            "type": "heatmapgl"
           }
          ],
          "histogram": [
           {
            "marker": {
             "pattern": {
              "fillmode": "overlay",
              "size": 10,
              "solidity": 0.2
             }
            },
            "type": "histogram"
           }
          ],
          "histogram2d": [
           {
            "colorbar": {
             "outlinewidth": 0,
             "ticks": ""
            },
            "colorscale": [
             [
              0,
              "#0d0887"
             ],
             [
              0.1111111111111111,
              "#46039f"
             ],
             [
              0.2222222222222222,
              "#7201a8"
             ],
             [
              0.3333333333333333,
              "#9c179e"
             ],
             [
              0.4444444444444444,
              "#bd3786"
             ],
             [
              0.5555555555555556,
              "#d8576b"
             ],
             [
              0.6666666666666666,
              "#ed7953"
             ],
             [
              0.7777777777777778,
              "#fb9f3a"
             ],
             [
              0.8888888888888888,
              "#fdca26"
             ],
             [
              1,
              "#f0f921"
             ]
            ],
            "type": "histogram2d"
           }
          ],
          "histogram2dcontour": [
           {
            "colorbar": {
             "outlinewidth": 0,
             "ticks": ""
            },
            "colorscale": [
             [
              0,
              "#0d0887"
             ],
             [
              0.1111111111111111,
              "#46039f"
             ],
             [
              0.2222222222222222,
              "#7201a8"
             ],
             [
              0.3333333333333333,
              "#9c179e"
             ],
             [
              0.4444444444444444,
              "#bd3786"
             ],
             [
              0.5555555555555556,
              "#d8576b"
             ],
             [
              0.6666666666666666,
              "#ed7953"
             ],
             [
              0.7777777777777778,
              "#fb9f3a"
             ],
             [
              0.8888888888888888,
              "#fdca26"
             ],
             [
              1,
              "#f0f921"
             ]
            ],
            "type": "histogram2dcontour"
           }
          ],
          "mesh3d": [
           {
            "colorbar": {
             "outlinewidth": 0,
             "ticks": ""
            },
            "type": "mesh3d"
           }
          ],
          "parcoords": [
           {
            "line": {
             "colorbar": {
              "outlinewidth": 0,
              "ticks": ""
             }
            },
            "type": "parcoords"
           }
          ],
          "pie": [
           {
            "automargin": true,
            "type": "pie"
           }
          ],
          "scatter": [
           {
            "fillpattern": {
             "fillmode": "overlay",
             "size": 10,
             "solidity": 0.2
            },
            "type": "scatter"
           }
          ],
          "scatter3d": [
           {
            "line": {
             "colorbar": {
              "outlinewidth": 0,
              "ticks": ""
             }
            },
            "marker": {
             "colorbar": {
              "outlinewidth": 0,
              "ticks": ""
             }
            },
            "type": "scatter3d"
           }
          ],
          "scattercarpet": [
           {
            "marker": {
             "colorbar": {
              "outlinewidth": 0,
              "ticks": ""
             }
            },
            "type": "scattercarpet"
           }
          ],
          "scattergeo": [
           {
            "marker": {
             "colorbar": {
              "outlinewidth": 0,
              "ticks": ""
             }
            },
            "type": "scattergeo"
           }
          ],
          "scattergl": [
           {
            "marker": {
             "colorbar": {
              "outlinewidth": 0,
              "ticks": ""
             }
            },
            "type": "scattergl"
           }
          ],
          "scattermapbox": [
           {
            "marker": {
             "colorbar": {
              "outlinewidth": 0,
              "ticks": ""
             }
            },
            "type": "scattermapbox"
           }
          ],
          "scatterpolar": [
           {
            "marker": {
             "colorbar": {
              "outlinewidth": 0,
              "ticks": ""
             }
            },
            "type": "scatterpolar"
           }
          ],
          "scatterpolargl": [
           {
            "marker": {
             "colorbar": {
              "outlinewidth": 0,
              "ticks": ""
             }
            },
            "type": "scatterpolargl"
           }
          ],
          "scatterternary": [
           {
            "marker": {
             "colorbar": {
              "outlinewidth": 0,
              "ticks": ""
             }
            },
            "type": "scatterternary"
           }
          ],
          "surface": [
           {
            "colorbar": {
             "outlinewidth": 0,
             "ticks": ""
            },
            "colorscale": [
             [
              0,
              "#0d0887"
             ],
             [
              0.1111111111111111,
              "#46039f"
             ],
             [
              0.2222222222222222,
              "#7201a8"
             ],
             [
              0.3333333333333333,
              "#9c179e"
             ],
             [
              0.4444444444444444,
              "#bd3786"
             ],
             [
              0.5555555555555556,
              "#d8576b"
             ],
             [
              0.6666666666666666,
              "#ed7953"
             ],
             [
              0.7777777777777778,
              "#fb9f3a"
             ],
             [
              0.8888888888888888,
              "#fdca26"
             ],
             [
              1,
              "#f0f921"
             ]
            ],
            "type": "surface"
           }
          ],
          "table": [
           {
            "cells": {
             "fill": {
              "color": "#EBF0F8"
             },
             "line": {
              "color": "white"
             }
            },
            "header": {
             "fill": {
              "color": "#C8D4E3"
             },
             "line": {
              "color": "white"
             }
            },
            "type": "table"
           }
          ]
         },
         "layout": {
          "annotationdefaults": {
           "arrowcolor": "#2a3f5f",
           "arrowhead": 0,
           "arrowwidth": 1
          },
          "autotypenumbers": "strict",
          "coloraxis": {
           "colorbar": {
            "outlinewidth": 0,
            "ticks": ""
           }
          },
          "colorscale": {
           "diverging": [
            [
             0,
             "#8e0152"
            ],
            [
             0.1,
             "#c51b7d"
            ],
            [
             0.2,
             "#de77ae"
            ],
            [
             0.3,
             "#f1b6da"
            ],
            [
             0.4,
             "#fde0ef"
            ],
            [
             0.5,
             "#f7f7f7"
            ],
            [
             0.6,
             "#e6f5d0"
            ],
            [
             0.7,
             "#b8e186"
            ],
            [
             0.8,
             "#7fbc41"
            ],
            [
             0.9,
             "#4d9221"
            ],
            [
             1,
             "#276419"
            ]
           ],
           "sequential": [
            [
             0,
             "#0d0887"
            ],
            [
             0.1111111111111111,
             "#46039f"
            ],
            [
             0.2222222222222222,
             "#7201a8"
            ],
            [
             0.3333333333333333,
             "#9c179e"
            ],
            [
             0.4444444444444444,
             "#bd3786"
            ],
            [
             0.5555555555555556,
             "#d8576b"
            ],
            [
             0.6666666666666666,
             "#ed7953"
            ],
            [
             0.7777777777777778,
             "#fb9f3a"
            ],
            [
             0.8888888888888888,
             "#fdca26"
            ],
            [
             1,
             "#f0f921"
            ]
           ],
           "sequentialminus": [
            [
             0,
             "#0d0887"
            ],
            [
             0.1111111111111111,
             "#46039f"
            ],
            [
             0.2222222222222222,
             "#7201a8"
            ],
            [
             0.3333333333333333,
             "#9c179e"
            ],
            [
             0.4444444444444444,
             "#bd3786"
            ],
            [
             0.5555555555555556,
             "#d8576b"
            ],
            [
             0.6666666666666666,
             "#ed7953"
            ],
            [
             0.7777777777777778,
             "#fb9f3a"
            ],
            [
             0.8888888888888888,
             "#fdca26"
            ],
            [
             1,
             "#f0f921"
            ]
           ]
          },
          "colorway": [
           "#636efa",
           "#EF553B",
           "#00cc96",
           "#ab63fa",
           "#FFA15A",
           "#19d3f3",
           "#FF6692",
           "#B6E880",
           "#FF97FF",
           "#FECB52"
          ],
          "font": {
           "color": "#2a3f5f"
          },
          "geo": {
           "bgcolor": "white",
           "lakecolor": "white",
           "landcolor": "#E5ECF6",
           "showlakes": true,
           "showland": true,
           "subunitcolor": "white"
          },
          "hoverlabel": {
           "align": "left"
          },
          "hovermode": "closest",
          "mapbox": {
           "style": "light"
          },
          "paper_bgcolor": "white",
          "plot_bgcolor": "#E5ECF6",
          "polar": {
           "angularaxis": {
            "gridcolor": "white",
            "linecolor": "white",
            "ticks": ""
           },
           "bgcolor": "#E5ECF6",
           "radialaxis": {
            "gridcolor": "white",
            "linecolor": "white",
            "ticks": ""
           }
          },
          "scene": {
           "xaxis": {
            "backgroundcolor": "#E5ECF6",
            "gridcolor": "white",
            "gridwidth": 2,
            "linecolor": "white",
            "showbackground": true,
            "ticks": "",
            "zerolinecolor": "white"
           },
           "yaxis": {
            "backgroundcolor": "#E5ECF6",
            "gridcolor": "white",
            "gridwidth": 2,
            "linecolor": "white",
            "showbackground": true,
            "ticks": "",
            "zerolinecolor": "white"
           },
           "zaxis": {
            "backgroundcolor": "#E5ECF6",
            "gridcolor": "white",
            "gridwidth": 2,
            "linecolor": "white",
            "showbackground": true,
            "ticks": "",
            "zerolinecolor": "white"
           }
          },
          "shapedefaults": {
           "line": {
            "color": "#2a3f5f"
           }
          },
          "ternary": {
           "aaxis": {
            "gridcolor": "white",
            "linecolor": "white",
            "ticks": ""
           },
           "baxis": {
            "gridcolor": "white",
            "linecolor": "white",
            "ticks": ""
           },
           "bgcolor": "#E5ECF6",
           "caxis": {
            "gridcolor": "white",
            "linecolor": "white",
            "ticks": ""
           }
          },
          "title": {
           "x": 0.05
          },
          "xaxis": {
           "automargin": true,
           "gridcolor": "white",
           "linecolor": "white",
           "ticks": "",
           "title": {
            "standoff": 15
           },
           "zerolinecolor": "white",
           "zerolinewidth": 2
          },
          "yaxis": {
           "automargin": true,
           "gridcolor": "white",
           "linecolor": "white",
           "ticks": "",
           "title": {
            "standoff": 15
           },
           "zerolinecolor": "white",
           "zerolinewidth": 2
          }
         }
        },
        "title": {
         "text": "GBP_JPY_MA_8_16"
        },
        "width": 1000,
        "xaxis": {
         "linecolor": "#3a4a54",
         "linewidth": 1,
         "showgrid": false,
         "zeroline": false
        },
        "yaxis": {
         "linecolor": "#3a4a54",
         "linewidth": 1,
         "showgrid": false,
         "zeroline": false
        }
       }
      }
     },
     "metadata": {},
     "output_type": "display_data"
    },
    {
     "data": {
      "application/vnd.plotly.v1+json": {
       "config": {
        "plotlyServerURL": "https://plot.ly"
       },
       "data": [
        {
         "line": {
          "color": "#3d825f",
          "shape": "spline",
          "width": 2
         },
         "mode": "lines",
         "name": "NZD_JPY_MA_8_16",
         "type": "scatter",
         "x": [
          "2022-11-11T04:00:00+00:00",
          "2022-11-11T10:00:00+00:00",
          "2022-11-11T21:00:00+00:00",
          "2022-11-14T08:00:00+00:00",
          "2022-11-14T09:00:00+00:00",
          "2022-11-15T00:00:00+00:00",
          "2022-11-15T05:00:00+00:00",
          "2022-11-15T14:00:00+00:00",
          "2022-11-15T21:00:00+00:00",
          "2022-11-16T01:00:00+00:00",
          "2022-11-16T02:00:00+00:00",
          "2022-11-16T16:00:00+00:00",
          "2022-11-17T19:00:00+00:00",
          "2022-11-18T20:00:00+00:00",
          "2022-11-21T01:00:00+00:00",
          "2022-11-21T02:00:00+00:00",
          "2022-11-21T10:00:00+00:00",
          "2022-11-22T18:00:00+00:00",
          "2022-11-23T01:00:00+00:00",
          "2022-11-23T16:00:00+00:00",
          "2022-11-24T19:00:00+00:00",
          "2022-11-25T08:00:00+00:00",
          "2022-11-25T09:00:00+00:00",
          "2022-11-27T22:00:00+00:00",
          "2022-11-28T16:00:00+00:00",
          "2022-11-28T21:00:00+00:00",
          "2022-11-29T06:00:00+00:00",
          "2022-11-29T17:00:00+00:00",
          "2022-11-30T02:00:00+00:00",
          "2022-12-01T02:00:00+00:00",
          "2022-12-01T14:00:00+00:00",
          "2022-12-01T21:00:00+00:00",
          "2022-12-02T18:00:00+00:00",
          "2022-12-05T17:00:00+00:00",
          "2022-12-06T03:00:00+00:00",
          "2022-12-06T12:00:00+00:00",
          "2022-12-06T21:00:00+00:00",
          "2022-12-07T19:00:00+00:00",
          "2022-12-08T06:00:00+00:00",
          "2022-12-08T16:00:00+00:00",
          "2022-12-08T19:00:00+00:00",
          "2022-12-09T07:00:00+00:00",
          "2022-12-09T16:00:00+00:00",
          "2022-12-12T04:00:00+00:00",
          "2022-12-12T09:00:00+00:00",
          "2022-12-13T14:00:00+00:00",
          "2022-12-14T21:00:00+00:00",
          "2022-12-15T09:00:00+00:00",
          "2022-12-15T18:00:00+00:00",
          "2022-12-16T04:00:00+00:00",
          "2022-12-19T14:00:00+00:00",
          "2022-12-20T03:00:00+00:00",
          "2022-12-21T02:00:00+00:00",
          "2022-12-21T07:00:00+00:00",
          "2022-12-21T18:00:00+00:00",
          "2022-12-22T04:00:00+00:00",
          "2022-12-22T08:00:00+00:00",
          "2022-12-22T13:00:00+00:00",
          "2022-12-23T03:00:00+00:00",
          "2022-12-27T18:00:00+00:00",
          "2022-12-28T02:00:00+00:00",
          "2022-12-29T02:00:00+00:00",
          "2022-12-29T21:00:00+00:00",
          "2022-12-30T00:00:00+00:00",
          "2023-01-03T20:00:00+00:00",
          "2023-01-05T03:00:00+00:00",
          "2023-01-05T11:00:00+00:00",
          "2023-01-05T19:00:00+00:00",
          "2023-01-06T03:00:00+00:00",
          "2023-01-09T18:00:00+00:00",
          "2023-01-10T08:00:00+00:00",
          "2023-01-10T18:00:00+00:00",
          "2023-01-10T20:00:00+00:00",
          "2023-01-11T13:00:00+00:00",
          "2023-01-16T01:00:00+00:00",
          "2023-01-17T00:00:00+00:00",
          "2023-01-17T02:00:00+00:00",
          "2023-01-17T16:00:00+00:00",
          "2023-01-17T18:00:00+00:00",
          "2023-01-18T14:00:00+00:00",
          "2023-01-19T19:00:00+00:00",
          "2023-01-24T06:00:00+00:00",
          "2023-01-24T19:00:00+00:00",
          "2023-01-25T02:00:00+00:00",
          "2023-01-26T03:00:00+00:00",
          "2023-01-26T04:00:00+00:00",
          "2023-01-26T07:00:00+00:00",
          "2023-01-27T04:00:00+00:00",
          "2023-01-27T21:00:00+00:00",
          "2023-01-30T08:00:00+00:00",
          "2023-01-30T14:00:00+00:00",
          "2023-01-31T00:00:00+00:00",
          "2023-01-31T18:00:00+00:00",
          "2023-02-01T01:00:00+00:00",
          "2023-02-01T10:00:00+00:00",
          "2023-02-01T14:00:00+00:00",
          "2023-02-02T00:00:00+00:00",
          "2023-02-02T14:00:00+00:00",
          "2023-02-03T15:00:00+00:00",
          "2023-02-03T18:00:00+00:00",
          "2023-02-06T01:00:00+00:00",
          "2023-02-06T11:00:00+00:00",
          "2023-02-06T17:00:00+00:00",
          "2023-02-07T09:00:00+00:00",
          "2023-02-08T04:00:00+00:00",
          "2023-02-08T16:00:00+00:00",
          "2023-02-09T01:00:00+00:00",
          "2023-02-09T16:00:00+00:00",
          "2023-02-10T19:00:00+00:00",
          "2023-02-14T01:00:00+00:00",
          "2023-02-14T15:00:00+00:00",
          "2023-02-15T03:00:00+00:00",
          "2023-02-15T16:00:00+00:00",
          "2023-02-16T05:00:00+00:00",
          "2023-02-16T07:00:00+00:00",
          "2023-02-16T14:00:00+00:00",
          "2023-02-17T21:00:00+00:00",
          "2023-02-20T07:00:00+00:00",
          "2023-02-20T16:00:00+00:00",
          "2023-02-21T06:00:00+00:00",
          "2023-02-21T14:00:00+00:00",
          "2023-02-21T20:00:00+00:00",
          "2023-02-22T03:00:00+00:00",
          "2023-02-22T13:00:00+00:00",
          "2023-02-22T18:00:00+00:00",
          "2023-02-23T14:00:00+00:00",
          "2023-02-24T03:00:00+00:00",
          "2023-02-24T12:00:00+00:00",
          "2023-02-24T18:00:00+00:00",
          "2023-02-27T04:00:00+00:00",
          "2023-02-27T15:00:00+00:00",
          "2023-02-28T05:00:00+00:00",
          "2023-02-28T11:00:00+00:00",
          "2023-02-28T23:00:00+00:00",
          "2023-03-01T03:00:00+00:00",
          "2023-03-02T05:00:00+00:00",
          "2023-03-02T22:00:00+00:00",
          "2023-03-03T09:00:00+00:00",
          "2023-03-06T23:00:00+00:00",
          "2023-03-07T11:00:00+00:00",
          "2023-03-08T05:00:00+00:00",
          "2023-03-08T16:00:00+00:00",
          "2023-03-10T07:00:00+00:00",
          "2023-03-10T17:00:00+00:00",
          "2023-03-13T04:00:00+00:00",
          "2023-03-13T12:00:00+00:00",
          "2023-03-13T19:00:00+00:00",
          "2023-03-14T04:00:00+00:00",
          "2023-03-14T06:00:00+00:00",
          "2023-03-15T09:00:00+00:00",
          "2023-03-16T16:00:00+00:00",
          "2023-03-17T14:00:00+00:00",
          "2023-03-20T00:00:00+00:00",
          "2023-03-20T06:00:00+00:00",
          "2023-03-20T18:00:00+00:00",
          "2023-03-21T00:00:00+00:00",
          "2023-03-21T13:00:00+00:00",
          "2023-03-21T21:00:00+00:00",
          "2023-03-21T22:00:00+00:00",
          "2023-03-22T19:00:00+00:00",
          "2023-03-23T07:00:00+00:00",
          "2023-03-23T18:00:00+00:00",
          "2023-03-24T19:00:00+00:00",
          "2023-03-28T02:00:00+00:00",
          "2023-03-28T09:00:00+00:00",
          "2023-03-30T03:00:00+00:00",
          "2023-03-30T09:00:00+00:00",
          "2023-03-31T13:00:00+00:00",
          "2023-04-03T09:00:00+00:00",
          "2023-04-03T20:00:00+00:00",
          "2023-04-04T01:00:00+00:00",
          "2023-04-04T14:00:00+00:00",
          "2023-04-05T03:00:00+00:00",
          "2023-04-05T12:00:00+00:00",
          "2023-04-07T03:00:00+00:00",
          "2023-04-10T09:00:00+00:00",
          "2023-04-10T15:00:00+00:00",
          "2023-04-11T07:00:00+00:00",
          "2023-04-11T21:00:00+00:00",
          "2023-04-12T12:00:00+00:00",
          "2023-04-13T06:00:00+00:00",
          "2023-04-14T07:00:00+00:00",
          "2023-04-17T05:00:00+00:00",
          "2023-04-17T12:00:00+00:00",
          "2023-04-17T20:00:00+00:00",
          "2023-04-18T17:00:00+00:00",
          "2023-04-19T01:00:00+00:00",
          "2023-04-19T23:00:00+00:00",
          "2023-04-20T13:00:00+00:00",
          "2023-04-20T18:00:00+00:00",
          "2023-04-21T18:00:00+00:00",
          "2023-04-24T04:00:00+00:00",
          "2023-04-24T05:00:00+00:00",
          "2023-04-25T09:00:00+00:00",
          "2023-04-27T04:00:00+00:00",
          "2023-05-02T16:00:00+00:00",
          "2023-05-03T03:00:00+00:00",
          "2023-05-03T08:00:00+00:00",
          "2023-05-04T08:00:00+00:00",
          "2023-05-09T02:00:00+00:00",
          "2023-05-09T17:00:00+00:00",
          "2023-05-10T11:00:00+00:00",
          "2023-05-11T02:00:00+00:00",
          "2023-05-11T08:00:00+00:00",
          "2023-05-14T22:00:00+00:00",
          "2023-05-16T08:00:00+00:00",
          "2023-05-16T14:00:00+00:00",
          "2023-05-16T23:00:00+00:00",
          "2023-05-17T02:00:00+00:00",
          "2023-05-18T04:00:00+00:00",
          "2023-05-18T07:00:00+00:00",
          "2023-05-18T15:00:00+00:00",
          "2023-05-18T18:00:00+00:00",
          "2023-05-21T21:00:00+00:00",
          "2023-05-22T10:00:00+00:00",
          "2023-05-23T07:00:00+00:00",
          "2023-05-23T21:00:00+00:00",
          "2023-05-23T23:00:00+00:00",
          "2023-05-24T21:00:00+00:00",
          "2023-05-25T05:00:00+00:00",
          "2023-05-25T22:00:00+00:00",
          "2023-05-26T08:00:00+00:00",
          "2023-05-26T11:00:00+00:00",
          "2023-05-29T08:00:00+00:00",
          "2023-05-29T22:00:00+00:00",
          "2023-05-30T01:00:00+00:00",
          "2023-06-01T02:00:00+00:00",
          "2023-06-05T13:00:00+00:00",
          "2023-06-06T07:00:00+00:00",
          "2023-06-06T13:00:00+00:00",
          "2023-06-06T18:00:00+00:00",
          "2023-06-07T03:00:00+00:00",
          "2023-06-07T14:00:00+00:00",
          "2023-06-07T21:00:00+00:00",
          "2023-06-08T07:00:00+00:00",
          "2023-06-08T17:00:00+00:00",
          "2023-06-09T01:00:00+00:00",
          "2023-06-12T03:00:00+00:00",
          "2023-06-12T08:00:00+00:00",
          "2023-06-12T17:00:00+00:00",
          "2023-06-13T00:00:00+00:00",
          "2023-06-13T05:00:00+00:00",
          "2023-06-13T07:00:00+00:00",
          "2023-06-19T04:00:00+00:00",
          "2023-06-20T00:00:00+00:00",
          "2023-06-20T02:00:00+00:00",
          "2023-06-21T00:00:00+00:00",
          "2023-06-22T05:00:00+00:00",
          "2023-06-22T11:00:00+00:00",
          "2023-06-23T03:00:00+00:00",
          "2023-06-23T16:00:00+00:00",
          "2023-06-26T10:00:00+00:00",
          "2023-06-26T16:00:00+00:00",
          "2023-06-28T00:00:00+00:00",
          "2023-06-28T20:00:00+00:00",
          "2023-06-28T22:00:00+00:00",
          "2023-06-28T23:00:00+00:00"
         ],
         "y": [
          -99.80000000000047,
          -161.29999999999995,
          -125.30000000000001,
          -132.00000000000074,
          -124.00000000000091,
          -164.9000000000015,
          -209.60000000000178,
          -243.20000000000164,
          -232.80000000000172,
          -257.4000000000012,
          -292.6000000000002,
          -300.39999999999907,
          -245.99999999999795,
          -219.99999999999744,
          -226.99999999999676,
          -292.0999999999964,
          -276.7999999999972,
          -314.3999999999977,
          -345.39999999999793,
          -336.19999999999806,
          -349.5999999999981,
          -369.09999999999883,
          -399.09999999999997,
          -341.0000000000011,
          -377.60000000000105,
          -417.80000000000115,
          -436.40000000000185,
          -465.600000000002,
          -439.3000000000015,
          -483.8000000000008,
          -546.6000000000008,
          -539.0000000000015,
          -524.0000000000023,
          -560.1000000000026,
          -589.3000000000028,
          -609.4000000000021,
          -602.2000000000019,
          -639.4000000000019,
          -643.2000000000016,
          -660.6000000000023,
          -662.3000000000034,
          -708.4000000000033,
          -710.6000000000024,
          -723.7000000000024,
          -710.4000000000028,
          -675.000000000003,
          -711.6000000000029,
          -736.4000000000033,
          -750.8000000000038,
          -736.8000000000038,
          -1001.5000000000043,
          -907.4000000000055,
          -948.8000000000056,
          -962.4000000000052,
          -955.0000000000055,
          -963.4000000000058,
          -1018.7000000000055,
          -1062.8000000000056,
          -1004.8000000000059,
          -1032.600000000005,
          -984.0000000000045,
          -966.6000000000039,
          -1021.6000000000035,
          -813.8000000000033,
          -699.0000000000023,
          -741.200000000002,
          -772.3000000000027,
          -828.000000000003,
          -777.200000000002,
          -774.8000000000019,
          -772.0000000000027,
          -782.7000000000027,
          -775.5000000000024,
          -533.4000000000032,
          -512.6000000000033,
          -540.9000000000035,
          -545.3000000000046,
          -559.4000000000051,
          -467.60000000000446,
          -344.70000000000454,
          -84.4000000000051,
          -72.9000000000056,
          -86.1000000000061,
          -22.40000000000606,
          -22.80000000000655,
          -41.300000000006776,
          -13.800000000006207,
          -7.900000000006457,
          -8.800000000006492,
          -29.900000000006344,
          -51.20000000000715,
          -41.40000000000725,
          -95.10000000000645,
          -94.40000000000595,
          -112.8000000000057,
          -151.40000000000526,
          -190.1000000000053,
          -205.4000000000059,
          -257.20000000000596,
          -310.8000000000061,
          -350.80000000000666,
          -372.10000000000605,
          -374.80000000000473,
          -331.40000000000356,
          -343.4000000000026,
          -373.0000000000018,
          -368.6000000000021,
          -338.6000000000024,
          -239.00000000000148,
          -254.00000000000063,
          -273.19999999999993,
          -310.799999999999,
          -296.79999999999893,
          -288.59999999999957,
          -325.19999999999953,
          -308.59999999999985,
          -312.00000000000045,
          -328.20000000000107,
          -346.50000000000176,
          -379.60000000000207,
          -403.8000000000025,
          -428.40000000000344,
          -437.4000000000038,
          -443.8000000000031,
          -429.70000000000255,
          -415.20000000000294,
          -434.50000000000273,
          -466.10000000000156,
          -503.60000000000156,
          -516.500000000002,
          -521.7000000000028,
          -564.000000000003,
          -554.4000000000026,
          -581.2000000000027,
          -535.0000000000023,
          -530.6000000000026,
          -545.7000000000037,
          -486.3000000000043,
          -493.300000000005,
          -468.4000000000055,
          -482.80000000000604,
          -437.4000000000067,
          -480.9000000000069,
          -499.6000000000067,
          -587.5000000000057,
          -660.0000000000051,
          -643.7000000000055,
          -647.8000000000065,
          -635.6000000000065,
          -546.0000000000064,
          -526.3000000000075,
          -587.5000000000084,
          -713.8000000000089,
          -726.0000000000089,
          -748.5000000000083,
          -751.0000000000075,
          -733.6000000000068,
          -726.4000000000066,
          -755.2000000000062,
          -814.9000000000055,
          -876.4000000000051,
          -815.6000000000047,
          -786.9000000000041,
          -797.300000000004,
          -699.4000000000042,
          -733.300000000004,
          -675.4000000000046,
          -671.7000000000055,
          -665.2000000000057,
          -686.0000000000056,
          -726.4000000000052,
          -770.6000000000045,
          -848.4000000000036,
          -812.4000000000037,
          -800.6000000000042,
          -834.6000000000046,
          -846.9000000000051,
          -843.1000000000054,
          -837.2000000000056,
          -834.8000000000055,
          -780.0000000000053,
          -747.400000000006,
          -765.9000000000062,
          -793.8000000000059,
          -786.400000000006,
          -795.9000000000059,
          -823.8000000000055,
          -831.6000000000058,
          -846.1000000000068,
          -780.4000000000071,
          -765.6000000000075,
          -756.0000000000086,
          -734.6000000000088,
          -693.6000000000091,
          -435.10000000000974,
          -446.3000000000092,
          -473.1000000000093,
          -405.5000000000105,
          -243.60000000001054,
          -251.30000000001036,
          -245.8000000000111,
          -230.80000000001195,
          -230.40000000001288,
          -92.60000000001287,
          -16.20000000001187,
          -37.200000000011244,
          -39.600000000011335,
          -64.80000000001087,
          15.199999999990268,
          14.7999999999912,
          11.999999999992042,
          5.799999999992281,
          45.39999999999236,
          31.19999999999277,
          28.599999999993145,
          40.399999999994066,
          45.79999999999427,
          190.39999999999407,
          163.79999999999495,
          169.19999999999516,
          167.59999999999462,
          136.79999999999393,
          127.3999999999931,
          127.79999999999217,
          104.29999999999222,
          198.39999999999247,
          289.59999999999167,
          291.59999999999127,
          280.19999999999084,
          260.3999999999901,
          242.99999999998943,
          247.99999999998914,
          248.59999999998917,
          226.1999999999888,
          206.79999999998853,
          193.19999999998896,
          249.99999999998875,
          229.1999999999889,
          214.9999999999893,
          211.9999999999892,
          208.39999999998906,
          176.1999999999888,
          391.9999999999889,
          369.1999999999895,
          320.8999999999905,
          349.6999999999916,
          390.7999999999917,
          341.29999999999126,
          310.89999999999105,
          272.5999999999915,
          262.7999999999916,
          226.79999999999166,
          211.7999999999925,
          281.29999999999325,
          272.59999999999434,
          269.89999999999566,
          286.19999999999675
         ]
        }
       ],
       "layout": {
        "font": {
         "color": "#e1e1e1",
         "size": 10
        },
        "height": 400,
        "margin": {
         "b": 10,
         "l": 15,
         "r": 15
        },
        "paper_bgcolor": "#1e1e1e",
        "plot_bgcolor": "#1e1e1e",
        "template": {
         "data": {
          "bar": [
           {
            "error_x": {
             "color": "#2a3f5f"
            },
            "error_y": {
             "color": "#2a3f5f"
            },
            "marker": {
             "line": {
              "color": "#E5ECF6",
              "width": 0.5
             },
             "pattern": {
              "fillmode": "overlay",
              "size": 10,
              "solidity": 0.2
             }
            },
            "type": "bar"
           }
          ],
          "barpolar": [
           {
            "marker": {
             "line": {
              "color": "#E5ECF6",
              "width": 0.5
             },
             "pattern": {
              "fillmode": "overlay",
              "size": 10,
              "solidity": 0.2
             }
            },
            "type": "barpolar"
           }
          ],
          "carpet": [
           {
            "aaxis": {
             "endlinecolor": "#2a3f5f",
             "gridcolor": "white",
             "linecolor": "white",
             "minorgridcolor": "white",
             "startlinecolor": "#2a3f5f"
            },
            "baxis": {
             "endlinecolor": "#2a3f5f",
             "gridcolor": "white",
             "linecolor": "white",
             "minorgridcolor": "white",
             "startlinecolor": "#2a3f5f"
            },
            "type": "carpet"
           }
          ],
          "choropleth": [
           {
            "colorbar": {
             "outlinewidth": 0,
             "ticks": ""
            },
            "type": "choropleth"
           }
          ],
          "contour": [
           {
            "colorbar": {
             "outlinewidth": 0,
             "ticks": ""
            },
            "colorscale": [
             [
              0,
              "#0d0887"
             ],
             [
              0.1111111111111111,
              "#46039f"
             ],
             [
              0.2222222222222222,
              "#7201a8"
             ],
             [
              0.3333333333333333,
              "#9c179e"
             ],
             [
              0.4444444444444444,
              "#bd3786"
             ],
             [
              0.5555555555555556,
              "#d8576b"
             ],
             [
              0.6666666666666666,
              "#ed7953"
             ],
             [
              0.7777777777777778,
              "#fb9f3a"
             ],
             [
              0.8888888888888888,
              "#fdca26"
             ],
             [
              1,
              "#f0f921"
             ]
            ],
            "type": "contour"
           }
          ],
          "contourcarpet": [
           {
            "colorbar": {
             "outlinewidth": 0,
             "ticks": ""
            },
            "type": "contourcarpet"
           }
          ],
          "heatmap": [
           {
            "colorbar": {
             "outlinewidth": 0,
             "ticks": ""
            },
            "colorscale": [
             [
              0,
              "#0d0887"
             ],
             [
              0.1111111111111111,
              "#46039f"
             ],
             [
              0.2222222222222222,
              "#7201a8"
             ],
             [
              0.3333333333333333,
              "#9c179e"
             ],
             [
              0.4444444444444444,
              "#bd3786"
             ],
             [
              0.5555555555555556,
              "#d8576b"
             ],
             [
              0.6666666666666666,
              "#ed7953"
             ],
             [
              0.7777777777777778,
              "#fb9f3a"
             ],
             [
              0.8888888888888888,
              "#fdca26"
             ],
             [
              1,
              "#f0f921"
             ]
            ],
            "type": "heatmap"
           }
          ],
          "heatmapgl": [
           {
            "colorbar": {
             "outlinewidth": 0,
             "ticks": ""
            },
            "colorscale": [
             [
              0,
              "#0d0887"
             ],
             [
              0.1111111111111111,
              "#46039f"
             ],
             [
              0.2222222222222222,
              "#7201a8"
             ],
             [
              0.3333333333333333,
              "#9c179e"
             ],
             [
              0.4444444444444444,
              "#bd3786"
             ],
             [
              0.5555555555555556,
              "#d8576b"
             ],
             [
              0.6666666666666666,
              "#ed7953"
             ],
             [
              0.7777777777777778,
              "#fb9f3a"
             ],
             [
              0.8888888888888888,
              "#fdca26"
             ],
             [
              1,
              "#f0f921"
             ]
            ],
            "type": "heatmapgl"
           }
          ],
          "histogram": [
           {
            "marker": {
             "pattern": {
              "fillmode": "overlay",
              "size": 10,
              "solidity": 0.2
             }
            },
            "type": "histogram"
           }
          ],
          "histogram2d": [
           {
            "colorbar": {
             "outlinewidth": 0,
             "ticks": ""
            },
            "colorscale": [
             [
              0,
              "#0d0887"
             ],
             [
              0.1111111111111111,
              "#46039f"
             ],
             [
              0.2222222222222222,
              "#7201a8"
             ],
             [
              0.3333333333333333,
              "#9c179e"
             ],
             [
              0.4444444444444444,
              "#bd3786"
             ],
             [
              0.5555555555555556,
              "#d8576b"
             ],
             [
              0.6666666666666666,
              "#ed7953"
             ],
             [
              0.7777777777777778,
              "#fb9f3a"
             ],
             [
              0.8888888888888888,
              "#fdca26"
             ],
             [
              1,
              "#f0f921"
             ]
            ],
            "type": "histogram2d"
           }
          ],
          "histogram2dcontour": [
           {
            "colorbar": {
             "outlinewidth": 0,
             "ticks": ""
            },
            "colorscale": [
             [
              0,
              "#0d0887"
             ],
             [
              0.1111111111111111,
              "#46039f"
             ],
             [
              0.2222222222222222,
              "#7201a8"
             ],
             [
              0.3333333333333333,
              "#9c179e"
             ],
             [
              0.4444444444444444,
              "#bd3786"
             ],
             [
              0.5555555555555556,
              "#d8576b"
             ],
             [
              0.6666666666666666,
              "#ed7953"
             ],
             [
              0.7777777777777778,
              "#fb9f3a"
             ],
             [
              0.8888888888888888,
              "#fdca26"
             ],
             [
              1,
              "#f0f921"
             ]
            ],
            "type": "histogram2dcontour"
           }
          ],
          "mesh3d": [
           {
            "colorbar": {
             "outlinewidth": 0,
             "ticks": ""
            },
            "type": "mesh3d"
           }
          ],
          "parcoords": [
           {
            "line": {
             "colorbar": {
              "outlinewidth": 0,
              "ticks": ""
             }
            },
            "type": "parcoords"
           }
          ],
          "pie": [
           {
            "automargin": true,
            "type": "pie"
           }
          ],
          "scatter": [
           {
            "fillpattern": {
             "fillmode": "overlay",
             "size": 10,
             "solidity": 0.2
            },
            "type": "scatter"
           }
          ],
          "scatter3d": [
           {
            "line": {
             "colorbar": {
              "outlinewidth": 0,
              "ticks": ""
             }
            },
            "marker": {
             "colorbar": {
              "outlinewidth": 0,
              "ticks": ""
             }
            },
            "type": "scatter3d"
           }
          ],
          "scattercarpet": [
           {
            "marker": {
             "colorbar": {
              "outlinewidth": 0,
              "ticks": ""
             }
            },
            "type": "scattercarpet"
           }
          ],
          "scattergeo": [
           {
            "marker": {
             "colorbar": {
              "outlinewidth": 0,
              "ticks": ""
             }
            },
            "type": "scattergeo"
           }
          ],
          "scattergl": [
           {
            "marker": {
             "colorbar": {
              "outlinewidth": 0,
              "ticks": ""
             }
            },
            "type": "scattergl"
           }
          ],
          "scattermapbox": [
           {
            "marker": {
             "colorbar": {
              "outlinewidth": 0,
              "ticks": ""
             }
            },
            "type": "scattermapbox"
           }
          ],
          "scatterpolar": [
           {
            "marker": {
             "colorbar": {
              "outlinewidth": 0,
              "ticks": ""
             }
            },
            "type": "scatterpolar"
           }
          ],
          "scatterpolargl": [
           {
            "marker": {
             "colorbar": {
              "outlinewidth": 0,
              "ticks": ""
             }
            },
            "type": "scatterpolargl"
           }
          ],
          "scatterternary": [
           {
            "marker": {
             "colorbar": {
              "outlinewidth": 0,
              "ticks": ""
             }
            },
            "type": "scatterternary"
           }
          ],
          "surface": [
           {
            "colorbar": {
             "outlinewidth": 0,
             "ticks": ""
            },
            "colorscale": [
             [
              0,
              "#0d0887"
             ],
             [
              0.1111111111111111,
              "#46039f"
             ],
             [
              0.2222222222222222,
              "#7201a8"
             ],
             [
              0.3333333333333333,
              "#9c179e"
             ],
             [
              0.4444444444444444,
              "#bd3786"
             ],
             [
              0.5555555555555556,
              "#d8576b"
             ],
             [
              0.6666666666666666,
              "#ed7953"
             ],
             [
              0.7777777777777778,
              "#fb9f3a"
             ],
             [
              0.8888888888888888,
              "#fdca26"
             ],
             [
              1,
              "#f0f921"
             ]
            ],
            "type": "surface"
           }
          ],
          "table": [
           {
            "cells": {
             "fill": {
              "color": "#EBF0F8"
             },
             "line": {
              "color": "white"
             }
            },
            "header": {
             "fill": {
              "color": "#C8D4E3"
             },
             "line": {
              "color": "white"
             }
            },
            "type": "table"
           }
          ]
         },
         "layout": {
          "annotationdefaults": {
           "arrowcolor": "#2a3f5f",
           "arrowhead": 0,
           "arrowwidth": 1
          },
          "autotypenumbers": "strict",
          "coloraxis": {
           "colorbar": {
            "outlinewidth": 0,
            "ticks": ""
           }
          },
          "colorscale": {
           "diverging": [
            [
             0,
             "#8e0152"
            ],
            [
             0.1,
             "#c51b7d"
            ],
            [
             0.2,
             "#de77ae"
            ],
            [
             0.3,
             "#f1b6da"
            ],
            [
             0.4,
             "#fde0ef"
            ],
            [
             0.5,
             "#f7f7f7"
            ],
            [
             0.6,
             "#e6f5d0"
            ],
            [
             0.7,
             "#b8e186"
            ],
            [
             0.8,
             "#7fbc41"
            ],
            [
             0.9,
             "#4d9221"
            ],
            [
             1,
             "#276419"
            ]
           ],
           "sequential": [
            [
             0,
             "#0d0887"
            ],
            [
             0.1111111111111111,
             "#46039f"
            ],
            [
             0.2222222222222222,
             "#7201a8"
            ],
            [
             0.3333333333333333,
             "#9c179e"
            ],
            [
             0.4444444444444444,
             "#bd3786"
            ],
            [
             0.5555555555555556,
             "#d8576b"
            ],
            [
             0.6666666666666666,
             "#ed7953"
            ],
            [
             0.7777777777777778,
             "#fb9f3a"
            ],
            [
             0.8888888888888888,
             "#fdca26"
            ],
            [
             1,
             "#f0f921"
            ]
           ],
           "sequentialminus": [
            [
             0,
             "#0d0887"
            ],
            [
             0.1111111111111111,
             "#46039f"
            ],
            [
             0.2222222222222222,
             "#7201a8"
            ],
            [
             0.3333333333333333,
             "#9c179e"
            ],
            [
             0.4444444444444444,
             "#bd3786"
            ],
            [
             0.5555555555555556,
             "#d8576b"
            ],
            [
             0.6666666666666666,
             "#ed7953"
            ],
            [
             0.7777777777777778,
             "#fb9f3a"
            ],
            [
             0.8888888888888888,
             "#fdca26"
            ],
            [
             1,
             "#f0f921"
            ]
           ]
          },
          "colorway": [
           "#636efa",
           "#EF553B",
           "#00cc96",
           "#ab63fa",
           "#FFA15A",
           "#19d3f3",
           "#FF6692",
           "#B6E880",
           "#FF97FF",
           "#FECB52"
          ],
          "font": {
           "color": "#2a3f5f"
          },
          "geo": {
           "bgcolor": "white",
           "lakecolor": "white",
           "landcolor": "#E5ECF6",
           "showlakes": true,
           "showland": true,
           "subunitcolor": "white"
          },
          "hoverlabel": {
           "align": "left"
          },
          "hovermode": "closest",
          "mapbox": {
           "style": "light"
          },
          "paper_bgcolor": "white",
          "plot_bgcolor": "#E5ECF6",
          "polar": {
           "angularaxis": {
            "gridcolor": "white",
            "linecolor": "white",
            "ticks": ""
           },
           "bgcolor": "#E5ECF6",
           "radialaxis": {
            "gridcolor": "white",
            "linecolor": "white",
            "ticks": ""
           }
          },
          "scene": {
           "xaxis": {
            "backgroundcolor": "#E5ECF6",
            "gridcolor": "white",
            "gridwidth": 2,
            "linecolor": "white",
            "showbackground": true,
            "ticks": "",
            "zerolinecolor": "white"
           },
           "yaxis": {
            "backgroundcolor": "#E5ECF6",
            "gridcolor": "white",
            "gridwidth": 2,
            "linecolor": "white",
            "showbackground": true,
            "ticks": "",
            "zerolinecolor": "white"
           },
           "zaxis": {
            "backgroundcolor": "#E5ECF6",
            "gridcolor": "white",
            "gridwidth": 2,
            "linecolor": "white",
            "showbackground": true,
            "ticks": "",
            "zerolinecolor": "white"
           }
          },
          "shapedefaults": {
           "line": {
            "color": "#2a3f5f"
           }
          },
          "ternary": {
           "aaxis": {
            "gridcolor": "white",
            "linecolor": "white",
            "ticks": ""
           },
           "baxis": {
            "gridcolor": "white",
            "linecolor": "white",
            "ticks": ""
           },
           "bgcolor": "#E5ECF6",
           "caxis": {
            "gridcolor": "white",
            "linecolor": "white",
            "ticks": ""
           }
          },
          "title": {
           "x": 0.05
          },
          "xaxis": {
           "automargin": true,
           "gridcolor": "white",
           "linecolor": "white",
           "ticks": "",
           "title": {
            "standoff": 15
           },
           "zerolinecolor": "white",
           "zerolinewidth": 2
          },
          "yaxis": {
           "automargin": true,
           "gridcolor": "white",
           "linecolor": "white",
           "ticks": "",
           "title": {
            "standoff": 15
           },
           "zerolinecolor": "white",
           "zerolinewidth": 2
          }
         }
        },
        "title": {
         "text": "NZD_JPY_MA_8_16"
        },
        "width": 1000,
        "xaxis": {
         "linecolor": "#3a4a54",
         "linewidth": 1,
         "showgrid": false,
         "zeroline": false
        },
        "yaxis": {
         "linecolor": "#3a4a54",
         "linewidth": 1,
         "showgrid": false,
         "zeroline": false
        }
       }
      }
     },
     "metadata": {},
     "output_type": "display_data"
    },
    {
     "data": {
      "application/vnd.plotly.v1+json": {
       "config": {
        "plotlyServerURL": "https://plot.ly"
       },
       "data": [
        {
         "line": {
          "color": "#3d825f",
          "shape": "spline",
          "width": 2
         },
         "mode": "lines",
         "name": "CHF_JPY_MA_8_16",
         "type": "scatter",
         "x": [
          "2022-11-10T05:00:00+00:00",
          "2022-11-11T04:00:00+00:00",
          "2022-11-11T09:00:00+00:00",
          "2022-11-11T18:00:00+00:00",
          "2022-11-14T06:00:00+00:00",
          "2022-11-14T09:00:00+00:00",
          "2022-11-15T01:00:00+00:00",
          "2022-11-15T05:00:00+00:00",
          "2022-11-15T11:00:00+00:00",
          "2022-11-16T02:00:00+00:00",
          "2022-11-16T18:00:00+00:00",
          "2022-11-18T20:00:00+00:00",
          "2022-11-21T05:00:00+00:00",
          "2022-11-21T08:00:00+00:00",
          "2022-11-22T07:00:00+00:00",
          "2022-11-22T15:00:00+00:00",
          "2022-11-23T14:00:00+00:00",
          "2022-11-24T23:00:00+00:00",
          "2022-11-25T19:00:00+00:00",
          "2022-11-28T15:00:00+00:00",
          "2022-11-28T23:00:00+00:00",
          "2022-11-29T23:00:00+00:00",
          "2022-11-30T01:00:00+00:00",
          "2022-11-30T03:00:00+00:00",
          "2022-11-30T23:00:00+00:00",
          "2022-12-01T19:00:00+00:00",
          "2022-12-01T22:00:00+00:00",
          "2022-12-05T05:00:00+00:00",
          "2022-12-06T12:00:00+00:00",
          "2022-12-06T17:00:00+00:00",
          "2022-12-07T17:00:00+00:00",
          "2022-12-08T05:00:00+00:00",
          "2022-12-09T05:00:00+00:00",
          "2022-12-09T14:00:00+00:00",
          "2022-12-12T05:00:00+00:00",
          "2022-12-12T08:00:00+00:00",
          "2022-12-13T10:00:00+00:00",
          "2022-12-14T04:00:00+00:00",
          "2022-12-14T06:00:00+00:00",
          "2022-12-14T18:00:00+00:00",
          "2022-12-16T05:00:00+00:00",
          "2022-12-19T11:00:00+00:00",
          "2022-12-20T04:00:00+00:00",
          "2022-12-21T03:00:00+00:00",
          "2022-12-22T04:00:00+00:00",
          "2022-12-22T10:00:00+00:00",
          "2022-12-22T15:00:00+00:00",
          "2022-12-23T04:00:00+00:00",
          "2022-12-23T19:00:00+00:00",
          "2022-12-27T02:00:00+00:00",
          "2022-12-29T02:00:00+00:00",
          "2022-12-29T13:00:00+00:00",
          "2022-12-29T18:00:00+00:00",
          "2023-01-03T22:00:00+00:00",
          "2023-01-05T05:00:00+00:00",
          "2023-01-05T09:00:00+00:00",
          "2023-01-05T19:00:00+00:00",
          "2023-01-06T04:00:00+00:00",
          "2023-01-06T15:00:00+00:00",
          "2023-01-09T08:00:00+00:00",
          "2023-01-09T22:00:00+00:00",
          "2023-01-10T08:00:00+00:00",
          "2023-01-10T19:00:00+00:00",
          "2023-01-10T20:00:00+00:00",
          "2023-01-11T13:00:00+00:00",
          "2023-01-16T01:00:00+00:00",
          "2023-01-17T19:00:00+00:00",
          "2023-01-18T02:00:00+00:00",
          "2023-01-18T15:00:00+00:00",
          "2023-01-19T14:00:00+00:00",
          "2023-01-20T21:00:00+00:00",
          "2023-01-23T05:00:00+00:00",
          "2023-01-24T04:00:00+00:00",
          "2023-01-25T00:00:00+00:00",
          "2023-01-25T10:00:00+00:00",
          "2023-01-25T20:00:00+00:00",
          "2023-01-26T04:00:00+00:00",
          "2023-01-26T09:00:00+00:00",
          "2023-01-27T00:00:00+00:00",
          "2023-01-27T21:00:00+00:00",
          "2023-01-30T07:00:00+00:00",
          "2023-01-30T13:00:00+00:00",
          "2023-01-30T22:00:00+00:00",
          "2023-01-31T16:00:00+00:00",
          "2023-02-01T13:00:00+00:00",
          "2023-02-02T00:00:00+00:00",
          "2023-02-02T11:00:00+00:00",
          "2023-02-03T14:00:00+00:00",
          "2023-02-07T00:00:00+00:00",
          "2023-02-08T04:00:00+00:00",
          "2023-02-09T10:00:00+00:00",
          "2023-02-09T21:00:00+00:00",
          "2023-02-10T07:00:00+00:00",
          "2023-02-10T20:00:00+00:00",
          "2023-02-14T02:00:00+00:00",
          "2023-02-14T13:00:00+00:00",
          "2023-02-15T03:00:00+00:00",
          "2023-02-15T10:00:00+00:00",
          "2023-02-16T04:00:00+00:00",
          "2023-02-16T11:00:00+00:00",
          "2023-02-16T14:00:00+00:00",
          "2023-02-17T05:00:00+00:00",
          "2023-02-17T12:00:00+00:00",
          "2023-02-17T20:00:00+00:00",
          "2023-02-20T10:00:00+00:00",
          "2023-02-20T11:00:00+00:00",
          "2023-02-21T21:00:00+00:00",
          "2023-02-22T04:00:00+00:00",
          "2023-02-22T11:00:00+00:00",
          "2023-02-23T06:00:00+00:00",
          "2023-02-23T09:00:00+00:00",
          "2023-02-24T08:00:00+00:00",
          "2023-02-27T02:00:00+00:00",
          "2023-02-27T14:00:00+00:00",
          "2023-02-28T18:00:00+00:00",
          "2023-03-01T06:00:00+00:00",
          "2023-03-01T13:00:00+00:00",
          "2023-03-01T21:00:00+00:00",
          "2023-03-01T23:00:00+00:00",
          "2023-03-02T00:00:00+00:00",
          "2023-03-03T00:00:00+00:00",
          "2023-03-03T05:00:00+00:00",
          "2023-03-03T13:00:00+00:00",
          "2023-03-06T00:00:00+00:00",
          "2023-03-06T03:00:00+00:00",
          "2023-03-06T08:00:00+00:00",
          "2023-03-07T10:00:00+00:00",
          "2023-03-08T01:00:00+00:00",
          "2023-03-08T13:00:00+00:00",
          "2023-03-08T22:00:00+00:00",
          "2023-03-09T05:00:00+00:00",
          "2023-03-09T19:00:00+00:00",
          "2023-03-10T18:00:00+00:00",
          "2023-03-13T05:00:00+00:00",
          "2023-03-13T07:00:00+00:00",
          "2023-03-13T08:00:00+00:00",
          "2023-03-13T09:00:00+00:00",
          "2023-03-13T22:00:00+00:00",
          "2023-03-14T21:00:00+00:00",
          "2023-03-15T04:00:00+00:00",
          "2023-03-15T10:00:00+00:00",
          "2023-03-16T09:00:00+00:00",
          "2023-03-16T16:00:00+00:00",
          "2023-03-16T19:00:00+00:00",
          "2023-03-17T11:00:00+00:00",
          "2023-03-20T02:00:00+00:00",
          "2023-03-20T07:00:00+00:00",
          "2023-03-20T17:00:00+00:00",
          "2023-03-20T23:00:00+00:00",
          "2023-03-21T08:00:00+00:00",
          "2023-03-22T07:00:00+00:00",
          "2023-03-22T10:00:00+00:00",
          "2023-03-22T19:00:00+00:00",
          "2023-03-23T11:00:00+00:00",
          "2023-03-23T20:00:00+00:00",
          "2023-03-24T18:00:00+00:00",
          "2023-03-28T01:00:00+00:00",
          "2023-03-29T01:00:00+00:00",
          "2023-03-30T05:00:00+00:00",
          "2023-03-30T10:00:00+00:00",
          "2023-03-31T10:00:00+00:00",
          "2023-03-31T13:00:00+00:00",
          "2023-03-31T14:00:00+00:00",
          "2023-04-03T08:00:00+00:00",
          "2023-04-03T16:00:00+00:00",
          "2023-04-04T02:00:00+00:00",
          "2023-04-04T17:00:00+00:00",
          "2023-04-05T09:00:00+00:00",
          "2023-04-05T10:00:00+00:00",
          "2023-04-06T07:00:00+00:00",
          "2023-04-07T04:00:00+00:00",
          "2023-04-07T06:00:00+00:00",
          "2023-04-10T10:00:00+00:00",
          "2023-04-10T15:00:00+00:00",
          "2023-04-13T04:00:00+00:00",
          "2023-04-13T08:00:00+00:00",
          "2023-04-13T20:00:00+00:00",
          "2023-04-14T09:00:00+00:00",
          "2023-04-17T15:00:00+00:00",
          "2023-04-18T02:00:00+00:00",
          "2023-04-18T11:00:00+00:00",
          "2023-04-18T23:00:00+00:00",
          "2023-04-20T16:00:00+00:00",
          "2023-04-21T00:00:00+00:00",
          "2023-04-21T03:00:00+00:00",
          "2023-04-21T15:00:00+00:00",
          "2023-04-24T23:00:00+00:00",
          "2023-04-25T03:00:00+00:00",
          "2023-04-25T10:00:00+00:00",
          "2023-04-26T05:00:00+00:00",
          "2023-04-26T20:00:00+00:00",
          "2023-04-27T07:00:00+00:00",
          "2023-04-27T11:00:00+00:00",
          "2023-04-27T21:00:00+00:00",
          "2023-05-02T09:00:00+00:00",
          "2023-05-03T00:00:00+00:00",
          "2023-05-03T01:00:00+00:00",
          "2023-05-05T00:00:00+00:00",
          "2023-05-05T07:00:00+00:00",
          "2023-05-05T19:00:00+00:00",
          "2023-05-08T18:00:00+00:00",
          "2023-05-09T00:00:00+00:00",
          "2023-05-09T04:00:00+00:00",
          "2023-05-09T18:00:00+00:00",
          "2023-05-10T12:00:00+00:00",
          "2023-05-11T22:00:00+00:00",
          "2023-05-12T16:00:00+00:00",
          "2023-05-12T18:00:00+00:00",
          "2023-05-16T01:00:00+00:00",
          "2023-05-16T10:00:00+00:00",
          "2023-05-16T23:00:00+00:00",
          "2023-05-17T05:00:00+00:00",
          "2023-05-17T14:00:00+00:00",
          "2023-05-17T16:00:00+00:00",
          "2023-05-18T06:00:00+00:00",
          "2023-05-18T13:00:00+00:00",
          "2023-05-19T03:00:00+00:00",
          "2023-05-19T12:00:00+00:00",
          "2023-05-22T00:00:00+00:00",
          "2023-05-22T06:00:00+00:00",
          "2023-05-23T05:00:00+00:00",
          "2023-05-24T18:00:00+00:00",
          "2023-05-25T10:00:00+00:00",
          "2023-05-25T12:00:00+00:00",
          "2023-05-26T07:00:00+00:00",
          "2023-05-26T12:00:00+00:00",
          "2023-05-29T06:00:00+00:00",
          "2023-05-29T18:00:00+00:00",
          "2023-05-30T02:00:00+00:00",
          "2023-06-01T04:00:00+00:00",
          "2023-06-01T16:00:00+00:00",
          "2023-06-02T00:00:00+00:00",
          "2023-06-05T05:00:00+00:00",
          "2023-06-05T11:00:00+00:00",
          "2023-06-05T12:00:00+00:00",
          "2023-06-05T13:00:00+00:00",
          "2023-06-05T14:00:00+00:00",
          "2023-06-05T16:00:00+00:00",
          "2023-06-06T01:00:00+00:00",
          "2023-06-06T19:00:00+00:00",
          "2023-06-07T01:00:00+00:00",
          "2023-06-07T12:00:00+00:00",
          "2023-06-08T01:00:00+00:00",
          "2023-06-08T13:00:00+00:00",
          "2023-06-09T14:00:00+00:00",
          "2023-06-12T07:00:00+00:00",
          "2023-06-12T10:00:00+00:00",
          "2023-06-13T02:00:00+00:00",
          "2023-06-14T06:00:00+00:00",
          "2023-06-14T10:00:00+00:00",
          "2023-06-19T04:00:00+00:00",
          "2023-06-19T23:00:00+00:00",
          "2023-06-20T05:00:00+00:00",
          "2023-06-21T01:00:00+00:00",
          "2023-06-22T09:00:00+00:00",
          "2023-06-22T10:00:00+00:00",
          "2023-06-23T06:00:00+00:00",
          "2023-06-23T16:00:00+00:00",
          "2023-06-26T05:00:00+00:00",
          "2023-06-26T12:00:00+00:00",
          "2023-06-26T23:00:00+00:00",
          "2023-06-27T07:00:00+00:00",
          "2023-06-28T04:00:00+00:00",
          "2023-06-28T19:00:00+00:00",
          "2023-06-29T03:00:00+00:00",
          "2023-06-29T11:00:00+00:00",
          "2023-06-29T22:00:00+00:00",
          "2023-06-30T05:00:00+00:00",
          "2023-06-30T08:00:00+00:00"
         ],
         "y": [
          193.6000000000007,
          116.30000000000109,
          -13.49999999999909,
          -23.599999999999,
          -148.39999999999804,
          -138.29999999999814,
          -153.79999999999825,
          -223.1999999999971,
          -241.9999999999959,
          -282.0999999999941,
          -223.39999999999236,
          -231.9999999999908,
          -281.69999999998936,
          -221.49999999998897,
          -240.09999999998968,
          -267.3999999999893,
          -145.3999999999894,
          -119.19999999998936,
          -88.5999999999882,
          -155.89999999998838,
          -74.1999999999905,
          -72.59999999999138,
          -99.59999999998956,
          -110.99999999998715,
          1.0000000000133014,
          -0.8999999999872443,
          43.900000000013506,
          151.60000000001332,
          123.40000000001226,
          90.80000000001291,
          32.200000000014484,
          56.800000000015416,
          33.600000000015484,
          59.600000000014575,
          37.000000000014666,
          71.000000000015,
          169.10000000001446,
          163.40000000001567,
          124.50000000001751,
          317.8000000000168,
          504.8000000000144,
          228.80000000001246,
          346.00000000001216,
          370.40000000001214,
          359.0000000000117,
          304.10000000001105,
          279.0000000000106,
          262.80000000000996,
          211.30000000000848,
          360.600000000008,
          364.6000000000072,
          361.5000000000066,
          788.7000000000057,
          1041.3000000000038,
          980.4000000000029,
          907.6000000000021,
          837.7000000000008,
          760.4000000000012,
          661.5000000000008,
          657.8000000000002,
          648.6000000000017,
          647.4000000000017,
          645.1999999999997,
          597.6999999999974,
          1049.399999999997,
          1138.4999999999989,
          916.5999999999995,
          834.1999999999982,
          886.9999999999974,
          961.3999999999974,
          896.5999999999977,
          887.5999999999974,
          897.9999999999959,
          857.8999999999949,
          827.5999999999951,
          798.4999999999955,
          753.1999999999952,
          720.3999999999949,
          723.799999999994,
          668.9999999999939,
          603.9999999999933,
          591.1999999999919,
          514.0999999999904,
          478.7999999999895,
          447.79999999998927,
          437.79999999998984,
          474.3999999999912,
          644.599999999991,
          703.29999999999,
          727.9999999999885,
          722.5999999999883,
          616.5999999999881,
          546.9999999999883,
          712.2999999999903,
          691.39999999999,
          688.9999999999899,
          634.5999999999916,
          685.1999999999916,
          687.4999999999912,
          678.29999999999,
          679.5999999999876,
          645.6999999999878,
          598.4999999999898,
          604.49999999999,
          597.7999999999893,
          623.9999999999893,
          610.1999999999888,
          563.7999999999889,
          583.5999999999897,
          535.5999999999907,
          550.1999999999922,
          587.2999999999931,
          559.5999999999945,
          531.1999999999953,
          507.19999999999436,
          482.19999999999436,
          460.5999999999964,
          460.5999999999964,
          466.9999999999957,
          491.9999999999957,
          480.49999999999477,
          447.6999999999945,
          443.79999999999575,
          425.1999999999979,
          355.4,
          382.3000000000005,
          386.4000000000002,
          365.8000000000013,
          334.00000000000296,
          306.60000000000286,
          323.4000000000035,
          421.00000000000625,
          408.60000000000673,
          445.40000000000623,
          516.600000000008,
          486.6000000000097,
          463.6000000000107,
          549.7000000000126,
          522.8000000000148,
          289.6000000000155,
          447.00000000001387,
          478.40000000001316,
          483.20000000001335,
          426.20000000001403,
          447.4000000000158,
          297.8000000000177,
          245.90000000002,
          206.0000000000199,
          103.2000000000179,
          226.40000000001783,
          188.40000000001828,
          77.30000000001928,
          47.700000000020054,
          4.700000000019372,
          68.40000000001942,
          156.10000000002037,
          169.50000000002183,
          310.00000000002194,
          251.3000000000202,
          297.6000000000196,
          263.30000000002065,
          261.00000000002103,
          285.8000000000201,
          244.90000000001805,
          212.40000000001635,
          215.2000000000155,
          219.00000000001376,
          226.9000000000117,
          250.70000000001164,
          288.90000000001214,
          252.20000000001312,
          266.3000000000151,
          195.0000000000157,
          375.20000000001494,
          295.8000000000138,
          261.30000000001394,
          244.40000000001567,
          279.60000000001605,
          246.80000000001576,
          209.20000000001528,
          199.60000000001492,
          242.80000000001655,
          220.20000000001664,
          182.2000000000171,
          126.10000000001924,
          198.00000000001864,
          168.90000000001612,
          124.80000000001587,
          221.20000000001573,
          216.2000000000146,
          219.40000000001567,
          154.800000000017,
          109.10000000001764,
          420.20000000001664,
          405.9000000000166,
          370.80000000001667,
          487.00000000001444,
          409.3000000000129,
          339.4000000000117,
          388.80000000001166,
          397.800000000012,
          389.0000000000126,
          375.3000000000126,
          335.6000000000106,
          438.3000000000093,
          498.0000000000101,
          491.50000000001035,
          575.6000000000083,
          565.4000000000079,
          572.1000000000087,
          540.0000000000089,
          572.0000000000082,
          551.8000000000084,
          559.2000000000096,
          558.900000000011,
          552.4000000000112,
          488.10000000001116,
          457.40000000001237,
          449.00000000001205,
          525.2000000000121,
          571.2000000000129,
          606.8000000000123,
          597.600000000011,
          633.70000000001,
          585.6000000000106,
          601.0000000000102,
          589.0000000000098,
          563.6000000000107,
          761.4000000000116,
          759.0000000000115,
          710.2000000000115,
          740.8000000000127,
          718.6000000000118,
          696.20000000001,
          700.2000000000093,
          734.5000000000082,
          721.2000000000072,
          706.8000000000067,
          730.8000000000047,
          706.1000000000033,
          664.8000000000022,
          651.0000000000017,
          616.0000000000023,
          642.0000000000014,
          632.5999999999991,
          554.1999999999971,
          575.199999999995,
          703.5999999999942,
          683.1999999999935,
          997.8999999999926,
          981.3999999999934,
          984.7999999999926,
          1068.19999999999,
          1196.1999999999873,
          1176.3999999999864,
          1234.9999999999877,
          1182.5999999999876,
          1168.9999999999882,
          1144.599999999988,
          1130.3999999999855,
          1099.3999999999853,
          1153.699999999986,
          1147.799999999986,
          1122.399999999987,
          1071.8999999999874,
          1034.5999999999883,
          1027.599999999989,
          975.599999999988,
          893.9999999999877
         ]
        }
       ],
       "layout": {
        "font": {
         "color": "#e1e1e1",
         "size": 10
        },
        "height": 400,
        "margin": {
         "b": 10,
         "l": 15,
         "r": 15
        },
        "paper_bgcolor": "#1e1e1e",
        "plot_bgcolor": "#1e1e1e",
        "template": {
         "data": {
          "bar": [
           {
            "error_x": {
             "color": "#2a3f5f"
            },
            "error_y": {
             "color": "#2a3f5f"
            },
            "marker": {
             "line": {
              "color": "#E5ECF6",
              "width": 0.5
             },
             "pattern": {
              "fillmode": "overlay",
              "size": 10,
              "solidity": 0.2
             }
            },
            "type": "bar"
           }
          ],
          "barpolar": [
           {
            "marker": {
             "line": {
              "color": "#E5ECF6",
              "width": 0.5
             },
             "pattern": {
              "fillmode": "overlay",
              "size": 10,
              "solidity": 0.2
             }
            },
            "type": "barpolar"
           }
          ],
          "carpet": [
           {
            "aaxis": {
             "endlinecolor": "#2a3f5f",
             "gridcolor": "white",
             "linecolor": "white",
             "minorgridcolor": "white",
             "startlinecolor": "#2a3f5f"
            },
            "baxis": {
             "endlinecolor": "#2a3f5f",
             "gridcolor": "white",
             "linecolor": "white",
             "minorgridcolor": "white",
             "startlinecolor": "#2a3f5f"
            },
            "type": "carpet"
           }
          ],
          "choropleth": [
           {
            "colorbar": {
             "outlinewidth": 0,
             "ticks": ""
            },
            "type": "choropleth"
           }
          ],
          "contour": [
           {
            "colorbar": {
             "outlinewidth": 0,
             "ticks": ""
            },
            "colorscale": [
             [
              0,
              "#0d0887"
             ],
             [
              0.1111111111111111,
              "#46039f"
             ],
             [
              0.2222222222222222,
              "#7201a8"
             ],
             [
              0.3333333333333333,
              "#9c179e"
             ],
             [
              0.4444444444444444,
              "#bd3786"
             ],
             [
              0.5555555555555556,
              "#d8576b"
             ],
             [
              0.6666666666666666,
              "#ed7953"
             ],
             [
              0.7777777777777778,
              "#fb9f3a"
             ],
             [
              0.8888888888888888,
              "#fdca26"
             ],
             [
              1,
              "#f0f921"
             ]
            ],
            "type": "contour"
           }
          ],
          "contourcarpet": [
           {
            "colorbar": {
             "outlinewidth": 0,
             "ticks": ""
            },
            "type": "contourcarpet"
           }
          ],
          "heatmap": [
           {
            "colorbar": {
             "outlinewidth": 0,
             "ticks": ""
            },
            "colorscale": [
             [
              0,
              "#0d0887"
             ],
             [
              0.1111111111111111,
              "#46039f"
             ],
             [
              0.2222222222222222,
              "#7201a8"
             ],
             [
              0.3333333333333333,
              "#9c179e"
             ],
             [
              0.4444444444444444,
              "#bd3786"
             ],
             [
              0.5555555555555556,
              "#d8576b"
             ],
             [
              0.6666666666666666,
              "#ed7953"
             ],
             [
              0.7777777777777778,
              "#fb9f3a"
             ],
             [
              0.8888888888888888,
              "#fdca26"
             ],
             [
              1,
              "#f0f921"
             ]
            ],
            "type": "heatmap"
           }
          ],
          "heatmapgl": [
           {
            "colorbar": {
             "outlinewidth": 0,
             "ticks": ""
            },
            "colorscale": [
             [
              0,
              "#0d0887"
             ],
             [
              0.1111111111111111,
              "#46039f"
             ],
             [
              0.2222222222222222,
              "#7201a8"
             ],
             [
              0.3333333333333333,
              "#9c179e"
             ],
             [
              0.4444444444444444,
              "#bd3786"
             ],
             [
              0.5555555555555556,
              "#d8576b"
             ],
             [
              0.6666666666666666,
              "#ed7953"
             ],
             [
              0.7777777777777778,
              "#fb9f3a"
             ],
             [
              0.8888888888888888,
              "#fdca26"
             ],
             [
              1,
              "#f0f921"
             ]
            ],
            "type": "heatmapgl"
           }
          ],
          "histogram": [
           {
            "marker": {
             "pattern": {
              "fillmode": "overlay",
              "size": 10,
              "solidity": 0.2
             }
            },
            "type": "histogram"
           }
          ],
          "histogram2d": [
           {
            "colorbar": {
             "outlinewidth": 0,
             "ticks": ""
            },
            "colorscale": [
             [
              0,
              "#0d0887"
             ],
             [
              0.1111111111111111,
              "#46039f"
             ],
             [
              0.2222222222222222,
              "#7201a8"
             ],
             [
              0.3333333333333333,
              "#9c179e"
             ],
             [
              0.4444444444444444,
              "#bd3786"
             ],
             [
              0.5555555555555556,
              "#d8576b"
             ],
             [
              0.6666666666666666,
              "#ed7953"
             ],
             [
              0.7777777777777778,
              "#fb9f3a"
             ],
             [
              0.8888888888888888,
              "#fdca26"
             ],
             [
              1,
              "#f0f921"
             ]
            ],
            "type": "histogram2d"
           }
          ],
          "histogram2dcontour": [
           {
            "colorbar": {
             "outlinewidth": 0,
             "ticks": ""
            },
            "colorscale": [
             [
              0,
              "#0d0887"
             ],
             [
              0.1111111111111111,
              "#46039f"
             ],
             [
              0.2222222222222222,
              "#7201a8"
             ],
             [
              0.3333333333333333,
              "#9c179e"
             ],
             [
              0.4444444444444444,
              "#bd3786"
             ],
             [
              0.5555555555555556,
              "#d8576b"
             ],
             [
              0.6666666666666666,
              "#ed7953"
             ],
             [
              0.7777777777777778,
              "#fb9f3a"
             ],
             [
              0.8888888888888888,
              "#fdca26"
             ],
             [
              1,
              "#f0f921"
             ]
            ],
            "type": "histogram2dcontour"
           }
          ],
          "mesh3d": [
           {
            "colorbar": {
             "outlinewidth": 0,
             "ticks": ""
            },
            "type": "mesh3d"
           }
          ],
          "parcoords": [
           {
            "line": {
             "colorbar": {
              "outlinewidth": 0,
              "ticks": ""
             }
            },
            "type": "parcoords"
           }
          ],
          "pie": [
           {
            "automargin": true,
            "type": "pie"
           }
          ],
          "scatter": [
           {
            "fillpattern": {
             "fillmode": "overlay",
             "size": 10,
             "solidity": 0.2
            },
            "type": "scatter"
           }
          ],
          "scatter3d": [
           {
            "line": {
             "colorbar": {
              "outlinewidth": 0,
              "ticks": ""
             }
            },
            "marker": {
             "colorbar": {
              "outlinewidth": 0,
              "ticks": ""
             }
            },
            "type": "scatter3d"
           }
          ],
          "scattercarpet": [
           {
            "marker": {
             "colorbar": {
              "outlinewidth": 0,
              "ticks": ""
             }
            },
            "type": "scattercarpet"
           }
          ],
          "scattergeo": [
           {
            "marker": {
             "colorbar": {
              "outlinewidth": 0,
              "ticks": ""
             }
            },
            "type": "scattergeo"
           }
          ],
          "scattergl": [
           {
            "marker": {
             "colorbar": {
              "outlinewidth": 0,
              "ticks": ""
             }
            },
            "type": "scattergl"
           }
          ],
          "scattermapbox": [
           {
            "marker": {
             "colorbar": {
              "outlinewidth": 0,
              "ticks": ""
             }
            },
            "type": "scattermapbox"
           }
          ],
          "scatterpolar": [
           {
            "marker": {
             "colorbar": {
              "outlinewidth": 0,
              "ticks": ""
             }
            },
            "type": "scatterpolar"
           }
          ],
          "scatterpolargl": [
           {
            "marker": {
             "colorbar": {
              "outlinewidth": 0,
              "ticks": ""
             }
            },
            "type": "scatterpolargl"
           }
          ],
          "scatterternary": [
           {
            "marker": {
             "colorbar": {
              "outlinewidth": 0,
              "ticks": ""
             }
            },
            "type": "scatterternary"
           }
          ],
          "surface": [
           {
            "colorbar": {
             "outlinewidth": 0,
             "ticks": ""
            },
            "colorscale": [
             [
              0,
              "#0d0887"
             ],
             [
              0.1111111111111111,
              "#46039f"
             ],
             [
              0.2222222222222222,
              "#7201a8"
             ],
             [
              0.3333333333333333,
              "#9c179e"
             ],
             [
              0.4444444444444444,
              "#bd3786"
             ],
             [
              0.5555555555555556,
              "#d8576b"
             ],
             [
              0.6666666666666666,
              "#ed7953"
             ],
             [
              0.7777777777777778,
              "#fb9f3a"
             ],
             [
              0.8888888888888888,
              "#fdca26"
             ],
             [
              1,
              "#f0f921"
             ]
            ],
            "type": "surface"
           }
          ],
          "table": [
           {
            "cells": {
             "fill": {
              "color": "#EBF0F8"
             },
             "line": {
              "color": "white"
             }
            },
            "header": {
             "fill": {
              "color": "#C8D4E3"
             },
             "line": {
              "color": "white"
             }
            },
            "type": "table"
           }
          ]
         },
         "layout": {
          "annotationdefaults": {
           "arrowcolor": "#2a3f5f",
           "arrowhead": 0,
           "arrowwidth": 1
          },
          "autotypenumbers": "strict",
          "coloraxis": {
           "colorbar": {
            "outlinewidth": 0,
            "ticks": ""
           }
          },
          "colorscale": {
           "diverging": [
            [
             0,
             "#8e0152"
            ],
            [
             0.1,
             "#c51b7d"
            ],
            [
             0.2,
             "#de77ae"
            ],
            [
             0.3,
             "#f1b6da"
            ],
            [
             0.4,
             "#fde0ef"
            ],
            [
             0.5,
             "#f7f7f7"
            ],
            [
             0.6,
             "#e6f5d0"
            ],
            [
             0.7,
             "#b8e186"
            ],
            [
             0.8,
             "#7fbc41"
            ],
            [
             0.9,
             "#4d9221"
            ],
            [
             1,
             "#276419"
            ]
           ],
           "sequential": [
            [
             0,
             "#0d0887"
            ],
            [
             0.1111111111111111,
             "#46039f"
            ],
            [
             0.2222222222222222,
             "#7201a8"
            ],
            [
             0.3333333333333333,
             "#9c179e"
            ],
            [
             0.4444444444444444,
             "#bd3786"
            ],
            [
             0.5555555555555556,
             "#d8576b"
            ],
            [
             0.6666666666666666,
             "#ed7953"
            ],
            [
             0.7777777777777778,
             "#fb9f3a"
            ],
            [
             0.8888888888888888,
             "#fdca26"
            ],
            [
             1,
             "#f0f921"
            ]
           ],
           "sequentialminus": [
            [
             0,
             "#0d0887"
            ],
            [
             0.1111111111111111,
             "#46039f"
            ],
            [
             0.2222222222222222,
             "#7201a8"
            ],
            [
             0.3333333333333333,
             "#9c179e"
            ],
            [
             0.4444444444444444,
             "#bd3786"
            ],
            [
             0.5555555555555556,
             "#d8576b"
            ],
            [
             0.6666666666666666,
             "#ed7953"
            ],
            [
             0.7777777777777778,
             "#fb9f3a"
            ],
            [
             0.8888888888888888,
             "#fdca26"
            ],
            [
             1,
             "#f0f921"
            ]
           ]
          },
          "colorway": [
           "#636efa",
           "#EF553B",
           "#00cc96",
           "#ab63fa",
           "#FFA15A",
           "#19d3f3",
           "#FF6692",
           "#B6E880",
           "#FF97FF",
           "#FECB52"
          ],
          "font": {
           "color": "#2a3f5f"
          },
          "geo": {
           "bgcolor": "white",
           "lakecolor": "white",
           "landcolor": "#E5ECF6",
           "showlakes": true,
           "showland": true,
           "subunitcolor": "white"
          },
          "hoverlabel": {
           "align": "left"
          },
          "hovermode": "closest",
          "mapbox": {
           "style": "light"
          },
          "paper_bgcolor": "white",
          "plot_bgcolor": "#E5ECF6",
          "polar": {
           "angularaxis": {
            "gridcolor": "white",
            "linecolor": "white",
            "ticks": ""
           },
           "bgcolor": "#E5ECF6",
           "radialaxis": {
            "gridcolor": "white",
            "linecolor": "white",
            "ticks": ""
           }
          },
          "scene": {
           "xaxis": {
            "backgroundcolor": "#E5ECF6",
            "gridcolor": "white",
            "gridwidth": 2,
            "linecolor": "white",
            "showbackground": true,
            "ticks": "",
            "zerolinecolor": "white"
           },
           "yaxis": {
            "backgroundcolor": "#E5ECF6",
            "gridcolor": "white",
            "gridwidth": 2,
            "linecolor": "white",
            "showbackground": true,
            "ticks": "",
            "zerolinecolor": "white"
           },
           "zaxis": {
            "backgroundcolor": "#E5ECF6",
            "gridcolor": "white",
            "gridwidth": 2,
            "linecolor": "white",
            "showbackground": true,
            "ticks": "",
            "zerolinecolor": "white"
           }
          },
          "shapedefaults": {
           "line": {
            "color": "#2a3f5f"
           }
          },
          "ternary": {
           "aaxis": {
            "gridcolor": "white",
            "linecolor": "white",
            "ticks": ""
           },
           "baxis": {
            "gridcolor": "white",
            "linecolor": "white",
            "ticks": ""
           },
           "bgcolor": "#E5ECF6",
           "caxis": {
            "gridcolor": "white",
            "linecolor": "white",
            "ticks": ""
           }
          },
          "title": {
           "x": 0.05
          },
          "xaxis": {
           "automargin": true,
           "gridcolor": "white",
           "linecolor": "white",
           "ticks": "",
           "title": {
            "standoff": 15
           },
           "zerolinecolor": "white",
           "zerolinewidth": 2
          },
          "yaxis": {
           "automargin": true,
           "gridcolor": "white",
           "linecolor": "white",
           "ticks": "",
           "title": {
            "standoff": 15
           },
           "zerolinecolor": "white",
           "zerolinewidth": 2
          }
         }
        },
        "title": {
         "text": "CHF_JPY_MA_8_16"
        },
        "width": 1000,
        "xaxis": {
         "linecolor": "#3a4a54",
         "linewidth": 1,
         "showgrid": false,
         "zeroline": false
        },
        "yaxis": {
         "linecolor": "#3a4a54",
         "linewidth": 1,
         "showgrid": false,
         "zeroline": false
        }
       }
      }
     },
     "metadata": {},
     "output_type": "display_data"
    },
    {
     "data": {
      "application/vnd.plotly.v1+json": {
       "config": {
        "plotlyServerURL": "https://plot.ly"
       },
       "data": [
        {
         "line": {
          "color": "#3d825f",
          "shape": "spline",
          "width": 2
         },
         "mode": "lines",
         "name": "GBP_USD_MA_8_16",
         "type": "scatter",
         "x": [
          "2022-11-10T04:00:00+00:00",
          "2022-11-11T06:00:00+00:00",
          "2022-11-11T07:00:00+00:00",
          "2022-11-14T04:00:00+00:00",
          "2022-11-14T13:00:00+00:00",
          "2022-11-14T15:00:00+00:00",
          "2022-11-15T00:00:00+00:00",
          "2022-11-15T02:00:00+00:00",
          "2022-11-15T04:00:00+00:00",
          "2022-11-15T22:00:00+00:00",
          "2022-11-16T08:00:00+00:00",
          "2022-11-16T20:00:00+00:00",
          "2022-11-16T22:00:00+00:00",
          "2022-11-17T06:00:00+00:00",
          "2022-11-17T23:00:00+00:00",
          "2022-11-18T17:00:00+00:00",
          "2022-11-21T23:00:00+00:00",
          "2022-11-25T00:00:00+00:00",
          "2022-11-27T22:00:00+00:00",
          "2022-11-27T23:00:00+00:00",
          "2022-11-28T11:00:00+00:00",
          "2022-11-28T17:00:00+00:00",
          "2022-11-29T06:00:00+00:00",
          "2022-11-29T16:00:00+00:00",
          "2022-11-30T05:00:00+00:00",
          "2022-11-30T17:00:00+00:00",
          "2022-11-30T20:00:00+00:00",
          "2022-12-02T04:00:00+00:00",
          "2022-12-02T09:00:00+00:00",
          "2022-12-02T18:00:00+00:00",
          "2022-12-02T21:00:00+00:00",
          "2022-12-05T11:00:00+00:00",
          "2022-12-06T05:00:00+00:00",
          "2022-12-06T09:00:00+00:00",
          "2022-12-06T16:00:00+00:00",
          "2022-12-06T19:00:00+00:00",
          "2022-12-07T10:00:00+00:00",
          "2022-12-08T03:00:00+00:00",
          "2022-12-08T15:00:00+00:00",
          "2022-12-12T00:00:00+00:00",
          "2022-12-12T10:00:00+00:00",
          "2022-12-12T21:00:00+00:00",
          "2022-12-13T05:00:00+00:00",
          "2022-12-14T02:00:00+00:00",
          "2022-12-14T09:00:00+00:00",
          "2022-12-15T05:00:00+00:00",
          "2022-12-16T05:00:00+00:00",
          "2022-12-16T10:00:00+00:00",
          "2022-12-19T05:00:00+00:00",
          "2022-12-19T15:00:00+00:00",
          "2022-12-20T10:00:00+00:00",
          "2022-12-20T18:00:00+00:00",
          "2022-12-20T20:00:00+00:00",
          "2022-12-21T08:00:00+00:00",
          "2022-12-22T03:00:00+00:00",
          "2022-12-22T12:00:00+00:00",
          "2022-12-23T02:00:00+00:00",
          "2022-12-23T18:00:00+00:00",
          "2022-12-27T01:00:00+00:00",
          "2022-12-27T12:00:00+00:00",
          "2022-12-28T10:00:00+00:00",
          "2022-12-28T20:00:00+00:00",
          "2022-12-29T06:00:00+00:00",
          "2022-12-30T04:00:00+00:00",
          "2022-12-30T17:00:00+00:00",
          "2023-01-02T07:00:00+00:00",
          "2023-01-02T23:00:00+00:00",
          "2023-01-03T08:00:00+00:00",
          "2023-01-03T20:00:00+00:00",
          "2023-01-04T02:00:00+00:00",
          "2023-01-04T06:00:00+00:00",
          "2023-01-05T03:00:00+00:00",
          "2023-01-06T04:00:00+00:00",
          "2023-01-06T08:00:00+00:00",
          "2023-01-06T16:00:00+00:00",
          "2023-01-10T03:00:00+00:00",
          "2023-01-11T00:00:00+00:00",
          "2023-01-11T08:00:00+00:00",
          "2023-01-11T21:00:00+00:00",
          "2023-01-12T12:00:00+00:00",
          "2023-01-12T13:00:00+00:00",
          "2023-01-13T06:00:00+00:00",
          "2023-01-13T14:00:00+00:00",
          "2023-01-13T16:00:00+00:00",
          "2023-01-13T20:00:00+00:00",
          "2023-01-16T10:00:00+00:00",
          "2023-01-17T09:00:00+00:00",
          "2023-01-18T22:00:00+00:00",
          "2023-01-19T13:00:00+00:00",
          "2023-01-20T07:00:00+00:00",
          "2023-01-20T18:00:00+00:00",
          "2023-01-23T11:00:00+00:00",
          "2023-01-23T23:00:00+00:00",
          "2023-01-24T10:00:00+00:00",
          "2023-01-24T22:00:00+00:00",
          "2023-01-25T06:00:00+00:00",
          "2023-01-25T16:00:00+00:00",
          "2023-01-26T09:00:00+00:00",
          "2023-01-26T22:00:00+00:00",
          "2023-01-27T07:00:00+00:00",
          "2023-01-27T19:00:00+00:00",
          "2023-01-30T08:00:00+00:00",
          "2023-01-31T22:00:00+00:00",
          "2023-02-01T02:00:00+00:00",
          "2023-02-01T10:00:00+00:00",
          "2023-02-02T10:00:00+00:00",
          "2023-02-03T11:00:00+00:00",
          "2023-02-03T14:00:00+00:00",
          "2023-02-06T08:00:00+00:00",
          "2023-02-06T14:00:00+00:00",
          "2023-02-07T03:00:00+00:00",
          "2023-02-07T10:00:00+00:00",
          "2023-02-07T20:00:00+00:00",
          "2023-02-08T20:00:00+00:00",
          "2023-02-09T06:00:00+00:00",
          "2023-02-09T22:00:00+00:00",
          "2023-02-10T12:00:00+00:00",
          "2023-02-10T16:00:00+00:00",
          "2023-02-13T12:00:00+00:00",
          "2023-02-14T21:00:00+00:00",
          "2023-02-16T01:00:00+00:00",
          "2023-02-16T14:00:00+00:00",
          "2023-02-17T15:00:00+00:00",
          "2023-02-20T07:00:00+00:00",
          "2023-02-20T09:00:00+00:00",
          "2023-02-20T10:00:00+00:00",
          "2023-02-20T11:00:00+00:00",
          "2023-02-20T15:00:00+00:00",
          "2023-02-20T17:00:00+00:00",
          "2023-02-21T03:00:00+00:00",
          "2023-02-21T10:00:00+00:00",
          "2023-02-22T08:00:00+00:00",
          "2023-02-23T06:00:00+00:00",
          "2023-02-23T11:00:00+00:00",
          "2023-02-24T05:00:00+00:00",
          "2023-02-24T11:00:00+00:00",
          "2023-02-27T04:00:00+00:00",
          "2023-02-28T07:00:00+00:00",
          "2023-02-28T10:00:00+00:00",
          "2023-02-28T21:00:00+00:00",
          "2023-03-01T08:00:00+00:00",
          "2023-03-01T16:00:00+00:00",
          "2023-03-02T04:00:00+00:00",
          "2023-03-02T05:00:00+00:00",
          "2023-03-03T01:00:00+00:00",
          "2023-03-06T09:00:00+00:00",
          "2023-03-06T20:00:00+00:00",
          "2023-03-07T11:00:00+00:00",
          "2023-03-08T10:00:00+00:00",
          "2023-03-13T12:00:00+00:00",
          "2023-03-13T15:00:00+00:00",
          "2023-03-14T04:00:00+00:00",
          "2023-03-14T12:00:00+00:00",
          "2023-03-14T20:00:00+00:00",
          "2023-03-15T00:00:00+00:00",
          "2023-03-15T01:00:00+00:00",
          "2023-03-15T05:00:00+00:00",
          "2023-03-15T09:00:00+00:00",
          "2023-03-16T00:00:00+00:00",
          "2023-03-16T15:00:00+00:00",
          "2023-03-16T16:00:00+00:00",
          "2023-03-17T15:00:00+00:00",
          "2023-03-17T17:00:00+00:00",
          "2023-03-20T07:00:00+00:00",
          "2023-03-20T09:00:00+00:00",
          "2023-03-21T05:00:00+00:00",
          "2023-03-22T02:00:00+00:00",
          "2023-03-22T19:00:00+00:00",
          "2023-03-22T23:00:00+00:00",
          "2023-03-23T14:00:00+00:00",
          "2023-03-26T22:00:00+00:00",
          "2023-03-28T14:00:00+00:00",
          "2023-03-28T16:00:00+00:00",
          "2023-03-29T04:00:00+00:00",
          "2023-03-29T12:00:00+00:00",
          "2023-03-29T17:00:00+00:00",
          "2023-03-30T07:00:00+00:00",
          "2023-03-31T08:00:00+00:00",
          "2023-04-03T10:00:00+00:00",
          "2023-04-05T04:00:00+00:00",
          "2023-04-06T10:00:00+00:00",
          "2023-04-06T16:00:00+00:00",
          "2023-04-07T08:00:00+00:00",
          "2023-04-07T12:00:00+00:00",
          "2023-04-10T02:00:00+00:00",
          "2023-04-10T03:00:00+00:00",
          "2023-04-10T11:00:00+00:00",
          "2023-04-10T12:00:00+00:00",
          "2023-04-11T00:00:00+00:00",
          "2023-04-11T18:00:00+00:00",
          "2023-04-12T01:00:00+00:00",
          "2023-04-12T10:00:00+00:00",
          "2023-04-12T15:00:00+00:00",
          "2023-04-14T10:00:00+00:00",
          "2023-04-17T11:00:00+00:00",
          "2023-04-17T13:00:00+00:00",
          "2023-04-18T03:00:00+00:00",
          "2023-04-18T20:00:00+00:00",
          "2023-04-19T07:00:00+00:00",
          "2023-04-20T01:00:00+00:00",
          "2023-04-20T10:00:00+00:00",
          "2023-04-20T23:00:00+00:00",
          "2023-04-21T18:00:00+00:00",
          "2023-04-24T07:00:00+00:00",
          "2023-04-24T13:00:00+00:00",
          "2023-04-25T07:00:00+00:00",
          "2023-04-26T02:00:00+00:00",
          "2023-04-26T21:00:00+00:00",
          "2023-04-27T04:00:00+00:00",
          "2023-04-27T10:00:00+00:00",
          "2023-04-27T18:00:00+00:00",
          "2023-04-28T07:00:00+00:00",
          "2023-04-28T15:00:00+00:00",
          "2023-05-01T04:00:00+00:00",
          "2023-05-02T06:00:00+00:00",
          "2023-05-02T09:00:00+00:00",
          "2023-05-02T22:00:00+00:00",
          "2023-05-04T12:00:00+00:00",
          "2023-05-04T17:00:00+00:00",
          "2023-05-08T17:00:00+00:00",
          "2023-05-09T09:00:00+00:00",
          "2023-05-09T12:00:00+00:00",
          "2023-05-09T20:00:00+00:00",
          "2023-05-10T10:00:00+00:00",
          "2023-05-10T12:00:00+00:00",
          "2023-05-10T15:00:00+00:00",
          "2023-05-10T16:00:00+00:00",
          "2023-05-10T20:00:00+00:00",
          "2023-05-11T00:00:00+00:00",
          "2023-05-11T03:00:00+00:00",
          "2023-05-11T04:00:00+00:00",
          "2023-05-11T06:00:00+00:00",
          "2023-05-12T04:00:00+00:00",
          "2023-05-12T14:00:00+00:00",
          "2023-05-15T05:00:00+00:00",
          "2023-05-16T05:00:00+00:00",
          "2023-05-17T16:00:00+00:00",
          "2023-05-18T05:00:00+00:00",
          "2023-05-19T09:00:00+00:00",
          "2023-05-22T07:00:00+00:00",
          "2023-05-23T03:00:00+00:00",
          "2023-05-23T07:00:00+00:00",
          "2023-05-23T19:00:00+00:00",
          "2023-05-24T10:00:00+00:00",
          "2023-05-25T12:00:00+00:00",
          "2023-05-25T15:00:00+00:00",
          "2023-05-26T04:00:00+00:00",
          "2023-05-26T19:00:00+00:00",
          "2023-05-29T04:00:00+00:00",
          "2023-05-29T12:00:00+00:00",
          "2023-05-29T17:00:00+00:00",
          "2023-05-30T05:00:00+00:00",
          "2023-05-30T08:00:00+00:00",
          "2023-05-30T22:00:00+00:00",
          "2023-05-31T17:00:00+00:00",
          "2023-06-01T08:00:00+00:00",
          "2023-06-01T11:00:00+00:00",
          "2023-06-02T12:00:00+00:00",
          "2023-06-05T19:00:00+00:00",
          "2023-06-06T10:00:00+00:00",
          "2023-06-06T21:00:00+00:00",
          "2023-06-07T06:00:00+00:00",
          "2023-06-07T10:00:00+00:00",
          "2023-06-07T21:00:00+00:00",
          "2023-06-08T05:00:00+00:00",
          "2023-06-09T06:00:00+00:00",
          "2023-06-09T13:00:00+00:00",
          "2023-06-12T03:00:00+00:00",
          "2023-06-12T09:00:00+00:00",
          "2023-06-12T13:00:00+00:00",
          "2023-06-13T03:00:00+00:00",
          "2023-06-14T06:00:00+00:00",
          "2023-06-14T07:00:00+00:00",
          "2023-06-15T00:00:00+00:00",
          "2023-06-15T12:00:00+00:00",
          "2023-06-19T02:00:00+00:00",
          "2023-06-20T02:00:00+00:00",
          "2023-06-20T08:00:00+00:00",
          "2023-06-20T23:00:00+00:00",
          "2023-06-21T07:00:00+00:00",
          "2023-06-21T18:00:00+00:00",
          "2023-06-22T06:00:00+00:00",
          "2023-06-22T13:00:00+00:00",
          "2023-06-22T16:00:00+00:00",
          "2023-06-25T23:00:00+00:00",
          "2023-06-26T12:00:00+00:00",
          "2023-06-27T03:00:00+00:00",
          "2023-06-28T02:00:00+00:00",
          "2023-06-29T10:00:00+00:00",
          "2023-06-29T15:00:00+00:00"
         ],
         "y": [
          304.89999999999907,
          267.4999999999983,
          287.0999999999979,
          294.49999999999756,
          266.6999999999975,
          251.09999999999744,
          271.89999999999606,
          276.29999999999603,
          377.8999999999955,
          357.29999999999376,
          392.2999999999921,
          396.7999999999905,
          392.6999999999903,
          444.89999999999037,
          465.39999999998923,
          517.6999999999877,
          792.4999999999872,
          826.3999999999872,
          812.6999999999863,
          772.0999999999846,
          678.4999999999842,
          690.6999999999841,
          694.6999999999837,
          708.3999999999846,
          671.8999999999853,
          558.8999999999844,
          749.6999999999842,
          721.6999999999852,
          719.6999999999854,
          697.2999999999852,
          678.5999999999848,
          761.6999999999852,
          746.8999999999859,
          723.8999999999862,
          665.2999999999864,
          631.6999999999862,
          650.8999999999854,
          628.6999999999844,
          635.8999999999827,
          575.299999999981,
          551.6999999999796,
          532.09999999998,
          598.19999999998,
          552.2999999999791,
          551.6999999999797,
          738.8999999999804,
          709.0999999999806,
          714.8999999999809,
          675.6999999999816,
          631.2999999999817,
          601.9999999999807,
          573.4999999999804,
          550.5999999999814,
          568.4999999999832,
          492.4999999999849,
          509.4999999999852,
          501.8999999999843,
          436.49999999998437,
          366.6999999999845,
          333.899999999985,
          288.89999999998554,
          278.499999999984,
          296.69999999998333,
          242.29999999998444,
          205.29999999998628,
          204.8999999999881,
          54.29999999998958,
          -6.200000000009304,
          5.89999999999003,
          4.49999999998974,
          54.699999999989984,
          167.69999999998862,
          130.89999999998736,
          -45.20000000001389,
          60.29999999998448,
          69.4999999999848,
          38.099999999985585,
          15.699999999985387,
          -0.7000000000154714,
          -103.10000000001574,
          -138.20000000001477,
          -138.90000000001493,
          -148.00000000001458,
          -189.50000000001333,
          -208.50000000001347,
          -201.70000000001335,
          -62.9000000000122,
          -64.50000000001158,
          -49.30000000001192,
          -76.50000000001248,
          -113.6000000000135,
          -138.70000000001363,
          -199.70000000001357,
          -215.50000000001495,
          -220.00000000001558,
          -262.30000000001513,
          -249.50000000001566,
          -273.30000000001615,
          -305.9000000000166,
          -322.9000000000169,
          -344.7000000000154,
          -290.4000000000149,
          -298.4000000000163,
          -313.90000000001794,
          -321.9000000000193,
          -265.30000000001934,
          -392.50000000001774,
          -321.2000000000169,
          -332.1000000000173,
          -328.30000000001684,
          -379.10000000001656,
          -423.30000000001746,
          -394.5000000000175,
          -424.5000000000164,
          -400.8000000000166,
          -369.90000000001845,
          -401.90000000001936,
          -448.70000000001954,
          -379.7000000000205,
          -244.200000000021,
          -302.1000000000206,
          -318.2000000000195,
          -264.1000000000181,
          -234.10000000001696,
          -226.90000000001643,
          -229.9000000000161,
          -232.60000000001602,
          -239.10000000001642,
          -251.3000000000164,
          -316.00000000001614,
          -327.70000000001505,
          -318.200000000015,
          -355.300000000016,
          -348.3000000000168,
          -384.10000000001816,
          -345.7000000000197,
          -258.2000000000194,
          -326.7000000000174,
          -412.70000000001676,
          -473.5000000000176,
          -520.5000000000191,
          -492.2000000000202,
          -508.5000000000204,
          -482.90000000002146,
          -416.9000000000221,
          -406.90000000002095,
          -436.30000000002036,
          -283.9000000000212,
          -22.700000000021987,
          -83.30000000002153,
          -85.9000000000208,
          -122.10000000002036,
          -155.90000000001976,
          -152.1000000000193,
          -142.00000000001972,
          -133.70000000002085,
          -175.70000000002068,
          -137.40000000002067,
          -103.30000000002154,
          -102.50000000002075,
          -72.10000000001921,
          -117.5000000000191,
          -113.2000000000198,
          -116.50000000001921,
          -49.50000000001771,
          -14.400000000016469,
          33.89999999998465,
          29.09999999998429,
          66.09999999998243,
          135.8999999999823,
          217.29999999998267,
          199.29999999998245,
          184.0999999999828,
          181.49999999998352,
          170.09999999998433,
          139.59999999998436,
          154.8999999999847,
          157.4999999999862,
          278.89999999998656,
          304.4999999999855,
          307.69999999998424,
          329.89999999998315,
          306.0999999999827,
          311.7999999999823,
          309.5999999999812,
          305.8999999999814,
          245.19999999998342,
          198.0999999999835,
          219.99999999998266,
          204.09999999998286,
          175.29999999998293,
          113.89999999998258,
          159.1999999999818,
          249.09999999998234,
          206.69999999998436,
          205.89999999998577,
          248.29999999998597,
          214.2999999999853,
          186.09999999998485,
          181.6999999999849,
          186.49999999998525,
          197.19999999998652,
          204.8999999999881,
          194.0999999999884,
          208.49999999998727,
          253.89999999998716,
          304.2999999999887,
          296.89999999998906,
          289.29999999998813,
          262.79999999998773,
          260.6999999999873,
          171.89999999998733,
          149.1999999999874,
          205.49999999998764,
          165.899999999988,
          156.29999999998728,
          236.49999999998641,
          199.29999999998697,
          242.39999999998733,
          249.6999999999863,
          211.29999999998563,
          176.79999999998608,
          166.29999999998614,
          103.0999999999851,
          41.39999999998501,
          33.09999999998615,
          38.69999999998731,
          27.299999999988124,
          7.799999999989161,
          7.4999999999894165,
          -20.30000000001063,
          44.899999999990186,
          -9.700000000010014,
          -9.80000000001067,
          30.399999999988452,
          36.69999999998754,
          0.4999999999879776,
          36.89999999998885,
          38.699999999989544,
          36.199999999988705,
          9.099999999986583,
          8.299999999985783,
          -26.100000000013093,
          8.499999999987093,
          -9.100000000012745,
          -21.900000000012223,
          -6.300000000012165,
          -10.60000000001147,
          -19.60000000001048,
          -32.00000000000956,
          -59.70000000000895,
          -104.50000000000935,
          -72.50000000001066,
          -82.80000000001152,
          -70.30000000001179,
          -114.30000000001138,
          -75.60000000001098,
          6.699999999988606,
          -10.100000000012653,
          -16.300000000013302,
          -31.30000000001387,
          -80.20000000001448,
          -95.1000000000144,
          -100.30000000001516,
          12.8999999999848,
          -4.500000000013728,
          -9.100000000012777,
          -33.10000000001236,
          -105.80000000001124,
          -116.90000000001068,
          -43.700000000010746,
          -56.10000000000983,
          -15.800000000010051,
          -24.300000000010225,
          125.4999999999897,
          146.89999999998778,
          134.2999999999874,
          152.3999999999883,
          123.09999999998952,
          84.69999999999109,
          56.299999999991556,
          42.79999999999193,
          15.69999999999203,
          19.29999999999119,
          1.7999999999897867,
          -14.400000000011982,
          -11.400000000012312,
          63.49999999998765,
          22.79999999998747,
          19.19999999998831
         ]
        }
       ],
       "layout": {
        "font": {
         "color": "#e1e1e1",
         "size": 10
        },
        "height": 400,
        "margin": {
         "b": 10,
         "l": 15,
         "r": 15
        },
        "paper_bgcolor": "#1e1e1e",
        "plot_bgcolor": "#1e1e1e",
        "template": {
         "data": {
          "bar": [
           {
            "error_x": {
             "color": "#2a3f5f"
            },
            "error_y": {
             "color": "#2a3f5f"
            },
            "marker": {
             "line": {
              "color": "#E5ECF6",
              "width": 0.5
             },
             "pattern": {
              "fillmode": "overlay",
              "size": 10,
              "solidity": 0.2
             }
            },
            "type": "bar"
           }
          ],
          "barpolar": [
           {
            "marker": {
             "line": {
              "color": "#E5ECF6",
              "width": 0.5
             },
             "pattern": {
              "fillmode": "overlay",
              "size": 10,
              "solidity": 0.2
             }
            },
            "type": "barpolar"
           }
          ],
          "carpet": [
           {
            "aaxis": {
             "endlinecolor": "#2a3f5f",
             "gridcolor": "white",
             "linecolor": "white",
             "minorgridcolor": "white",
             "startlinecolor": "#2a3f5f"
            },
            "baxis": {
             "endlinecolor": "#2a3f5f",
             "gridcolor": "white",
             "linecolor": "white",
             "minorgridcolor": "white",
             "startlinecolor": "#2a3f5f"
            },
            "type": "carpet"
           }
          ],
          "choropleth": [
           {
            "colorbar": {
             "outlinewidth": 0,
             "ticks": ""
            },
            "type": "choropleth"
           }
          ],
          "contour": [
           {
            "colorbar": {
             "outlinewidth": 0,
             "ticks": ""
            },
            "colorscale": [
             [
              0,
              "#0d0887"
             ],
             [
              0.1111111111111111,
              "#46039f"
             ],
             [
              0.2222222222222222,
              "#7201a8"
             ],
             [
              0.3333333333333333,
              "#9c179e"
             ],
             [
              0.4444444444444444,
              "#bd3786"
             ],
             [
              0.5555555555555556,
              "#d8576b"
             ],
             [
              0.6666666666666666,
              "#ed7953"
             ],
             [
              0.7777777777777778,
              "#fb9f3a"
             ],
             [
              0.8888888888888888,
              "#fdca26"
             ],
             [
              1,
              "#f0f921"
             ]
            ],
            "type": "contour"
           }
          ],
          "contourcarpet": [
           {
            "colorbar": {
             "outlinewidth": 0,
             "ticks": ""
            },
            "type": "contourcarpet"
           }
          ],
          "heatmap": [
           {
            "colorbar": {
             "outlinewidth": 0,
             "ticks": ""
            },
            "colorscale": [
             [
              0,
              "#0d0887"
             ],
             [
              0.1111111111111111,
              "#46039f"
             ],
             [
              0.2222222222222222,
              "#7201a8"
             ],
             [
              0.3333333333333333,
              "#9c179e"
             ],
             [
              0.4444444444444444,
              "#bd3786"
             ],
             [
              0.5555555555555556,
              "#d8576b"
             ],
             [
              0.6666666666666666,
              "#ed7953"
             ],
             [
              0.7777777777777778,
              "#fb9f3a"
             ],
             [
              0.8888888888888888,
              "#fdca26"
             ],
             [
              1,
              "#f0f921"
             ]
            ],
            "type": "heatmap"
           }
          ],
          "heatmapgl": [
           {
            "colorbar": {
             "outlinewidth": 0,
             "ticks": ""
            },
            "colorscale": [
             [
              0,
              "#0d0887"
             ],
             [
              0.1111111111111111,
              "#46039f"
             ],
             [
              0.2222222222222222,
              "#7201a8"
             ],
             [
              0.3333333333333333,
              "#9c179e"
             ],
             [
              0.4444444444444444,
              "#bd3786"
             ],
             [
              0.5555555555555556,
              "#d8576b"
             ],
             [
              0.6666666666666666,
              "#ed7953"
             ],
             [
              0.7777777777777778,
              "#fb9f3a"
             ],
             [
              0.8888888888888888,
              "#fdca26"
             ],
             [
              1,
              "#f0f921"
             ]
            ],
            "type": "heatmapgl"
           }
          ],
          "histogram": [
           {
            "marker": {
             "pattern": {
              "fillmode": "overlay",
              "size": 10,
              "solidity": 0.2
             }
            },
            "type": "histogram"
           }
          ],
          "histogram2d": [
           {
            "colorbar": {
             "outlinewidth": 0,
             "ticks": ""
            },
            "colorscale": [
             [
              0,
              "#0d0887"
             ],
             [
              0.1111111111111111,
              "#46039f"
             ],
             [
              0.2222222222222222,
              "#7201a8"
             ],
             [
              0.3333333333333333,
              "#9c179e"
             ],
             [
              0.4444444444444444,
              "#bd3786"
             ],
             [
              0.5555555555555556,
              "#d8576b"
             ],
             [
              0.6666666666666666,
              "#ed7953"
             ],
             [
              0.7777777777777778,
              "#fb9f3a"
             ],
             [
              0.8888888888888888,
              "#fdca26"
             ],
             [
              1,
              "#f0f921"
             ]
            ],
            "type": "histogram2d"
           }
          ],
          "histogram2dcontour": [
           {
            "colorbar": {
             "outlinewidth": 0,
             "ticks": ""
            },
            "colorscale": [
             [
              0,
              "#0d0887"
             ],
             [
              0.1111111111111111,
              "#46039f"
             ],
             [
              0.2222222222222222,
              "#7201a8"
             ],
             [
              0.3333333333333333,
              "#9c179e"
             ],
             [
              0.4444444444444444,
              "#bd3786"
             ],
             [
              0.5555555555555556,
              "#d8576b"
             ],
             [
              0.6666666666666666,
              "#ed7953"
             ],
             [
              0.7777777777777778,
              "#fb9f3a"
             ],
             [
              0.8888888888888888,
              "#fdca26"
             ],
             [
              1,
              "#f0f921"
             ]
            ],
            "type": "histogram2dcontour"
           }
          ],
          "mesh3d": [
           {
            "colorbar": {
             "outlinewidth": 0,
             "ticks": ""
            },
            "type": "mesh3d"
           }
          ],
          "parcoords": [
           {
            "line": {
             "colorbar": {
              "outlinewidth": 0,
              "ticks": ""
             }
            },
            "type": "parcoords"
           }
          ],
          "pie": [
           {
            "automargin": true,
            "type": "pie"
           }
          ],
          "scatter": [
           {
            "fillpattern": {
             "fillmode": "overlay",
             "size": 10,
             "solidity": 0.2
            },
            "type": "scatter"
           }
          ],
          "scatter3d": [
           {
            "line": {
             "colorbar": {
              "outlinewidth": 0,
              "ticks": ""
             }
            },
            "marker": {
             "colorbar": {
              "outlinewidth": 0,
              "ticks": ""
             }
            },
            "type": "scatter3d"
           }
          ],
          "scattercarpet": [
           {
            "marker": {
             "colorbar": {
              "outlinewidth": 0,
              "ticks": ""
             }
            },
            "type": "scattercarpet"
           }
          ],
          "scattergeo": [
           {
            "marker": {
             "colorbar": {
              "outlinewidth": 0,
              "ticks": ""
             }
            },
            "type": "scattergeo"
           }
          ],
          "scattergl": [
           {
            "marker": {
             "colorbar": {
              "outlinewidth": 0,
              "ticks": ""
             }
            },
            "type": "scattergl"
           }
          ],
          "scattermapbox": [
           {
            "marker": {
             "colorbar": {
              "outlinewidth": 0,
              "ticks": ""
             }
            },
            "type": "scattermapbox"
           }
          ],
          "scatterpolar": [
           {
            "marker": {
             "colorbar": {
              "outlinewidth": 0,
              "ticks": ""
             }
            },
            "type": "scatterpolar"
           }
          ],
          "scatterpolargl": [
           {
            "marker": {
             "colorbar": {
              "outlinewidth": 0,
              "ticks": ""
             }
            },
            "type": "scatterpolargl"
           }
          ],
          "scatterternary": [
           {
            "marker": {
             "colorbar": {
              "outlinewidth": 0,
              "ticks": ""
             }
            },
            "type": "scatterternary"
           }
          ],
          "surface": [
           {
            "colorbar": {
             "outlinewidth": 0,
             "ticks": ""
            },
            "colorscale": [
             [
              0,
              "#0d0887"
             ],
             [
              0.1111111111111111,
              "#46039f"
             ],
             [
              0.2222222222222222,
              "#7201a8"
             ],
             [
              0.3333333333333333,
              "#9c179e"
             ],
             [
              0.4444444444444444,
              "#bd3786"
             ],
             [
              0.5555555555555556,
              "#d8576b"
             ],
             [
              0.6666666666666666,
              "#ed7953"
             ],
             [
              0.7777777777777778,
              "#fb9f3a"
             ],
             [
              0.8888888888888888,
              "#fdca26"
             ],
             [
              1,
              "#f0f921"
             ]
            ],
            "type": "surface"
           }
          ],
          "table": [
           {
            "cells": {
             "fill": {
              "color": "#EBF0F8"
             },
             "line": {
              "color": "white"
             }
            },
            "header": {
             "fill": {
              "color": "#C8D4E3"
             },
             "line": {
              "color": "white"
             }
            },
            "type": "table"
           }
          ]
         },
         "layout": {
          "annotationdefaults": {
           "arrowcolor": "#2a3f5f",
           "arrowhead": 0,
           "arrowwidth": 1
          },
          "autotypenumbers": "strict",
          "coloraxis": {
           "colorbar": {
            "outlinewidth": 0,
            "ticks": ""
           }
          },
          "colorscale": {
           "diverging": [
            [
             0,
             "#8e0152"
            ],
            [
             0.1,
             "#c51b7d"
            ],
            [
             0.2,
             "#de77ae"
            ],
            [
             0.3,
             "#f1b6da"
            ],
            [
             0.4,
             "#fde0ef"
            ],
            [
             0.5,
             "#f7f7f7"
            ],
            [
             0.6,
             "#e6f5d0"
            ],
            [
             0.7,
             "#b8e186"
            ],
            [
             0.8,
             "#7fbc41"
            ],
            [
             0.9,
             "#4d9221"
            ],
            [
             1,
             "#276419"
            ]
           ],
           "sequential": [
            [
             0,
             "#0d0887"
            ],
            [
             0.1111111111111111,
             "#46039f"
            ],
            [
             0.2222222222222222,
             "#7201a8"
            ],
            [
             0.3333333333333333,
             "#9c179e"
            ],
            [
             0.4444444444444444,
             "#bd3786"
            ],
            [
             0.5555555555555556,
             "#d8576b"
            ],
            [
             0.6666666666666666,
             "#ed7953"
            ],
            [
             0.7777777777777778,
             "#fb9f3a"
            ],
            [
             0.8888888888888888,
             "#fdca26"
            ],
            [
             1,
             "#f0f921"
            ]
           ],
           "sequentialminus": [
            [
             0,
             "#0d0887"
            ],
            [
             0.1111111111111111,
             "#46039f"
            ],
            [
             0.2222222222222222,
             "#7201a8"
            ],
            [
             0.3333333333333333,
             "#9c179e"
            ],
            [
             0.4444444444444444,
             "#bd3786"
            ],
            [
             0.5555555555555556,
             "#d8576b"
            ],
            [
             0.6666666666666666,
             "#ed7953"
            ],
            [
             0.7777777777777778,
             "#fb9f3a"
            ],
            [
             0.8888888888888888,
             "#fdca26"
            ],
            [
             1,
             "#f0f921"
            ]
           ]
          },
          "colorway": [
           "#636efa",
           "#EF553B",
           "#00cc96",
           "#ab63fa",
           "#FFA15A",
           "#19d3f3",
           "#FF6692",
           "#B6E880",
           "#FF97FF",
           "#FECB52"
          ],
          "font": {
           "color": "#2a3f5f"
          },
          "geo": {
           "bgcolor": "white",
           "lakecolor": "white",
           "landcolor": "#E5ECF6",
           "showlakes": true,
           "showland": true,
           "subunitcolor": "white"
          },
          "hoverlabel": {
           "align": "left"
          },
          "hovermode": "closest",
          "mapbox": {
           "style": "light"
          },
          "paper_bgcolor": "white",
          "plot_bgcolor": "#E5ECF6",
          "polar": {
           "angularaxis": {
            "gridcolor": "white",
            "linecolor": "white",
            "ticks": ""
           },
           "bgcolor": "#E5ECF6",
           "radialaxis": {
            "gridcolor": "white",
            "linecolor": "white",
            "ticks": ""
           }
          },
          "scene": {
           "xaxis": {
            "backgroundcolor": "#E5ECF6",
            "gridcolor": "white",
            "gridwidth": 2,
            "linecolor": "white",
            "showbackground": true,
            "ticks": "",
            "zerolinecolor": "white"
           },
           "yaxis": {
            "backgroundcolor": "#E5ECF6",
            "gridcolor": "white",
            "gridwidth": 2,
            "linecolor": "white",
            "showbackground": true,
            "ticks": "",
            "zerolinecolor": "white"
           },
           "zaxis": {
            "backgroundcolor": "#E5ECF6",
            "gridcolor": "white",
            "gridwidth": 2,
            "linecolor": "white",
            "showbackground": true,
            "ticks": "",
            "zerolinecolor": "white"
           }
          },
          "shapedefaults": {
           "line": {
            "color": "#2a3f5f"
           }
          },
          "ternary": {
           "aaxis": {
            "gridcolor": "white",
            "linecolor": "white",
            "ticks": ""
           },
           "baxis": {
            "gridcolor": "white",
            "linecolor": "white",
            "ticks": ""
           },
           "bgcolor": "#E5ECF6",
           "caxis": {
            "gridcolor": "white",
            "linecolor": "white",
            "ticks": ""
           }
          },
          "title": {
           "x": 0.05
          },
          "xaxis": {
           "automargin": true,
           "gridcolor": "white",
           "linecolor": "white",
           "ticks": "",
           "title": {
            "standoff": 15
           },
           "zerolinecolor": "white",
           "zerolinewidth": 2
          },
          "yaxis": {
           "automargin": true,
           "gridcolor": "white",
           "linecolor": "white",
           "ticks": "",
           "title": {
            "standoff": 15
           },
           "zerolinecolor": "white",
           "zerolinewidth": 2
          }
         }
        },
        "title": {
         "text": "GBP_USD_MA_8_16"
        },
        "width": 1000,
        "xaxis": {
         "linecolor": "#3a4a54",
         "linewidth": 1,
         "showgrid": false,
         "zeroline": false
        },
        "yaxis": {
         "linecolor": "#3a4a54",
         "linewidth": 1,
         "showgrid": false,
         "zeroline": false
        }
       }
      }
     },
     "metadata": {},
     "output_type": "display_data"
    },
    {
     "data": {
      "application/vnd.plotly.v1+json": {
       "config": {
        "plotlyServerURL": "https://plot.ly"
       },
       "data": [
        {
         "line": {
          "color": "#3d825f",
          "shape": "spline",
          "width": 2
         },
         "mode": "lines",
         "name": "GBP_NZD_MA_8_16",
         "type": "scatter",
         "x": [
          "2022-11-10T03:00:00+00:00",
          "2022-11-10T22:00:00+00:00",
          "2022-11-10T23:00:00+00:00",
          "2022-11-11T01:00:00+00:00",
          "2022-11-11T13:00:00+00:00",
          "2022-11-11T14:00:00+00:00",
          "2022-11-14T04:00:00+00:00",
          "2022-11-14T06:00:00+00:00",
          "2022-11-14T11:00:00+00:00",
          "2022-11-14T17:00:00+00:00",
          "2022-11-15T04:00:00+00:00",
          "2022-11-15T07:00:00+00:00",
          "2022-11-15T13:00:00+00:00",
          "2022-11-15T21:00:00+00:00",
          "2022-11-16T06:00:00+00:00",
          "2022-11-16T11:00:00+00:00",
          "2022-11-16T16:00:00+00:00",
          "2022-11-17T18:00:00+00:00",
          "2022-11-18T19:00:00+00:00",
          "2022-11-21T03:00:00+00:00",
          "2022-11-21T12:00:00+00:00",
          "2022-11-22T07:00:00+00:00",
          "2022-11-22T18:00:00+00:00",
          "2022-11-23T01:00:00+00:00",
          "2022-11-23T13:00:00+00:00",
          "2022-11-24T00:00:00+00:00",
          "2022-11-24T07:00:00+00:00",
          "2022-11-24T19:00:00+00:00",
          "2022-11-24T21:00:00+00:00",
          "2022-11-25T21:00:00+00:00",
          "2022-11-28T02:00:00+00:00",
          "2022-11-28T15:00:00+00:00",
          "2022-11-29T19:00:00+00:00",
          "2022-11-30T01:00:00+00:00",
          "2022-12-01T12:00:00+00:00",
          "2022-12-02T04:00:00+00:00",
          "2022-12-02T17:00:00+00:00",
          "2022-12-05T06:00:00+00:00",
          "2022-12-05T15:00:00+00:00",
          "2022-12-06T05:00:00+00:00",
          "2022-12-06T13:00:00+00:00",
          "2022-12-06T14:00:00+00:00",
          "2022-12-07T17:00:00+00:00",
          "2022-12-07T18:00:00+00:00",
          "2022-12-07T22:00:00+00:00",
          "2022-12-08T07:00:00+00:00",
          "2022-12-08T17:00:00+00:00",
          "2022-12-09T02:00:00+00:00",
          "2022-12-09T12:00:00+00:00",
          "2022-12-09T17:00:00+00:00",
          "2022-12-12T07:00:00+00:00",
          "2022-12-13T01:00:00+00:00",
          "2022-12-14T02:00:00+00:00",
          "2022-12-15T04:00:00+00:00",
          "2022-12-15T09:00:00+00:00",
          "2022-12-15T18:00:00+00:00",
          "2022-12-19T05:00:00+00:00",
          "2022-12-19T20:00:00+00:00",
          "2022-12-20T02:00:00+00:00",
          "2022-12-20T15:00:00+00:00",
          "2022-12-20T17:00:00+00:00",
          "2022-12-21T14:00:00+00:00",
          "2022-12-22T05:00:00+00:00",
          "2022-12-22T08:00:00+00:00",
          "2022-12-22T16:00:00+00:00",
          "2022-12-23T04:00:00+00:00",
          "2022-12-27T02:00:00+00:00",
          "2022-12-27T10:00:00+00:00",
          "2022-12-27T21:00:00+00:00",
          "2022-12-28T07:00:00+00:00",
          "2022-12-29T11:00:00+00:00",
          "2022-12-29T18:00:00+00:00",
          "2022-12-30T03:00:00+00:00",
          "2022-12-30T12:00:00+00:00",
          "2022-12-30T20:00:00+00:00",
          "2023-01-02T11:00:00+00:00",
          "2023-01-02T22:00:00+00:00",
          "2023-01-03T23:00:00+00:00",
          "2023-01-04T18:00:00+00:00",
          "2023-01-05T08:00:00+00:00",
          "2023-01-05T21:00:00+00:00",
          "2023-01-06T05:00:00+00:00",
          "2023-01-09T14:00:00+00:00",
          "2023-01-10T06:00:00+00:00",
          "2023-01-10T18:00:00+00:00",
          "2023-01-11T00:00:00+00:00",
          "2023-01-11T12:00:00+00:00",
          "2023-01-12T01:00:00+00:00",
          "2023-01-12T06:00:00+00:00",
          "2023-01-12T18:00:00+00:00",
          "2023-01-13T02:00:00+00:00",
          "2023-01-16T01:00:00+00:00",
          "2023-01-16T22:00:00+00:00",
          "2023-01-17T03:00:00+00:00",
          "2023-01-17T12:00:00+00:00",
          "2023-01-17T21:00:00+00:00",
          "2023-01-18T14:00:00+00:00",
          "2023-01-20T02:00:00+00:00",
          "2023-01-23T06:00:00+00:00",
          "2023-01-23T11:00:00+00:00",
          "2023-01-25T00:00:00+00:00",
          "2023-01-26T05:00:00+00:00",
          "2023-01-26T16:00:00+00:00",
          "2023-01-27T02:00:00+00:00",
          "2023-01-27T15:00:00+00:00",
          "2023-01-30T02:00:00+00:00",
          "2023-01-30T09:00:00+00:00",
          "2023-01-30T16:00:00+00:00",
          "2023-01-31T00:00:00+00:00",
          "2023-01-31T16:00:00+00:00",
          "2023-02-01T02:00:00+00:00",
          "2023-02-01T11:00:00+00:00",
          "2023-02-03T11:00:00+00:00",
          "2023-02-06T22:00:00+00:00",
          "2023-02-07T18:00:00+00:00",
          "2023-02-09T02:00:00+00:00",
          "2023-02-09T15:00:00+00:00",
          "2023-02-10T09:00:00+00:00",
          "2023-02-13T18:00:00+00:00",
          "2023-02-14T21:00:00+00:00",
          "2023-02-15T03:00:00+00:00",
          "2023-02-15T13:00:00+00:00",
          "2023-02-16T14:00:00+00:00",
          "2023-02-16T23:00:00+00:00",
          "2023-02-17T02:00:00+00:00",
          "2023-02-20T07:00:00+00:00",
          "2023-02-21T03:00:00+00:00",
          "2023-02-22T04:00:00+00:00",
          "2023-02-23T16:00:00+00:00",
          "2023-02-23T21:00:00+00:00",
          "2023-02-24T09:00:00+00:00",
          "2023-02-28T18:00:00+00:00",
          "2023-03-02T01:00:00+00:00",
          "2023-03-02T12:00:00+00:00",
          "2023-03-03T05:00:00+00:00",
          "2023-03-03T06:00:00+00:00",
          "2023-03-03T07:00:00+00:00",
          "2023-03-07T00:00:00+00:00",
          "2023-03-08T01:00:00+00:00",
          "2023-03-08T11:00:00+00:00",
          "2023-03-08T20:00:00+00:00",
          "2023-03-09T06:00:00+00:00",
          "2023-03-09T14:00:00+00:00",
          "2023-03-13T04:00:00+00:00",
          "2023-03-13T21:00:00+00:00",
          "2023-03-14T07:00:00+00:00",
          "2023-03-15T06:00:00+00:00",
          "2023-03-15T13:00:00+00:00",
          "2023-03-15T23:00:00+00:00",
          "2023-03-16T12:00:00+00:00",
          "2023-03-16T18:00:00+00:00",
          "2023-03-17T00:00:00+00:00",
          "2023-03-20T02:00:00+00:00",
          "2023-03-21T20:00:00+00:00",
          "2023-03-22T12:00:00+00:00",
          "2023-03-22T16:00:00+00:00",
          "2023-03-23T18:00:00+00:00",
          "2023-03-28T02:00:00+00:00",
          "2023-03-29T10:00:00+00:00",
          "2023-03-30T09:00:00+00:00",
          "2023-03-30T16:00:00+00:00",
          "2023-03-30T20:00:00+00:00",
          "2023-03-31T12:00:00+00:00",
          "2023-03-31T19:00:00+00:00",
          "2023-04-03T04:00:00+00:00",
          "2023-04-03T13:00:00+00:00",
          "2023-04-04T08:00:00+00:00",
          "2023-04-04T21:00:00+00:00",
          "2023-04-05T13:00:00+00:00",
          "2023-04-05T20:00:00+00:00",
          "2023-04-06T03:00:00+00:00",
          "2023-04-07T03:00:00+00:00",
          "2023-04-07T19:00:00+00:00",
          "2023-04-10T23:00:00+00:00",
          "2023-04-11T06:00:00+00:00",
          "2023-04-12T10:00:00+00:00",
          "2023-04-12T19:00:00+00:00",
          "2023-04-13T08:00:00+00:00",
          "2023-04-14T04:00:00+00:00",
          "2023-04-14T05:00:00+00:00",
          "2023-04-14T09:00:00+00:00",
          "2023-04-17T21:00:00+00:00",
          "2023-04-18T09:00:00+00:00",
          "2023-04-18T16:00:00+00:00",
          "2023-04-18T17:00:00+00:00",
          "2023-04-19T00:00:00+00:00",
          "2023-04-19T06:00:00+00:00",
          "2023-04-19T17:00:00+00:00",
          "2023-04-19T23:00:00+00:00",
          "2023-04-20T12:00:00+00:00",
          "2023-04-20T23:00:00+00:00",
          "2023-04-24T08:00:00+00:00",
          "2023-04-24T17:00:00+00:00",
          "2023-04-24T23:00:00+00:00",
          "2023-04-25T21:00:00+00:00",
          "2023-04-27T04:00:00+00:00",
          "2023-04-27T17:00:00+00:00",
          "2023-04-28T03:00:00+00:00",
          "2023-04-28T13:00:00+00:00",
          "2023-04-28T17:00:00+00:00",
          "2023-04-28T19:00:00+00:00",
          "2023-05-01T05:00:00+00:00",
          "2023-05-03T10:00:00+00:00",
          "2023-05-04T07:00:00+00:00",
          "2023-05-05T10:00:00+00:00",
          "2023-05-08T03:00:00+00:00",
          "2023-05-09T03:00:00+00:00",
          "2023-05-09T23:00:00+00:00",
          "2023-05-10T11:00:00+00:00",
          "2023-05-10T12:00:00+00:00",
          "2023-05-11T10:00:00+00:00",
          "2023-05-15T00:00:00+00:00",
          "2023-05-15T13:00:00+00:00",
          "2023-05-15T22:00:00+00:00",
          "2023-05-16T15:00:00+00:00",
          "2023-05-16T22:00:00+00:00",
          "2023-05-17T19:00:00+00:00",
          "2023-05-18T05:00:00+00:00",
          "2023-05-18T15:00:00+00:00",
          "2023-05-18T22:00:00+00:00",
          "2023-05-19T20:00:00+00:00",
          "2023-05-22T08:00:00+00:00",
          "2023-05-23T07:00:00+00:00",
          "2023-05-25T22:00:00+00:00",
          "2023-05-26T10:00:00+00:00",
          "2023-05-29T03:00:00+00:00",
          "2023-05-29T16:00:00+00:00",
          "2023-06-01T16:00:00+00:00",
          "2023-06-05T22:00:00+00:00",
          "2023-06-06T06:00:00+00:00",
          "2023-06-06T17:00:00+00:00",
          "2023-06-07T01:00:00+00:00",
          "2023-06-07T08:00:00+00:00",
          "2023-06-08T05:00:00+00:00",
          "2023-06-08T17:00:00+00:00",
          "2023-06-09T07:00:00+00:00",
          "2023-06-12T02:00:00+00:00",
          "2023-06-12T09:00:00+00:00",
          "2023-06-13T03:00:00+00:00",
          "2023-06-13T14:00:00+00:00",
          "2023-06-13T15:00:00+00:00",
          "2023-06-14T03:00:00+00:00",
          "2023-06-14T11:00:00+00:00",
          "2023-06-14T13:00:00+00:00",
          "2023-06-15T01:00:00+00:00",
          "2023-06-16T01:00:00+00:00",
          "2023-06-16T02:00:00+00:00",
          "2023-06-19T01:00:00+00:00",
          "2023-06-19T03:00:00+00:00",
          "2023-06-19T20:00:00+00:00",
          "2023-06-20T02:00:00+00:00",
          "2023-06-20T14:00:00+00:00",
          "2023-06-20T16:00:00+00:00",
          "2023-06-21T03:00:00+00:00",
          "2023-06-22T06:00:00+00:00",
          "2023-06-22T13:00:00+00:00",
          "2023-06-22T15:00:00+00:00",
          "2023-06-23T19:00:00+00:00",
          "2023-06-27T01:00:00+00:00",
          "2023-06-27T03:00:00+00:00",
          "2023-06-27T13:00:00+00:00",
          "2023-06-28T16:00:00+00:00",
          "2023-06-29T01:00:00+00:00",
          "2023-06-29T06:00:00+00:00",
          "2023-06-29T13:00:00+00:00",
          "2023-06-29T17:00:00+00:00",
          "2023-06-29T18:00:00+00:00",
          "2023-06-29T21:00:00+00:00",
          "2023-06-29T22:00:00+00:00",
          "2023-06-30T02:00:00+00:00",
          "2023-06-30T12:00:00+00:00"
         ],
         "y": [
          78.00000000000028,
          136.50000000000162,
          153.10000000000156,
          223.5000000000009,
          142.2000000000012,
          130.70000000000135,
          124.00000000000188,
          35.6000000000023,
          -98.19999999999717,
          -108.19999999999607,
          -168.89999999999625,
          -382.39999999999606,
          -527.9999999999951,
          -521.3999999999941,
          -486.3999999999935,
          -530.0999999999933,
          -528.4999999999917,
          -493.29999999998984,
          -513.2999999999898,
          -521.1999999999905,
          -495.9999999999897,
          -496.3999999999901,
          -570.099999999991,
          -671.3999999999908,
          -708.1999999999898,
          -740.9999999999893,
          -767.6999999999888,
          -775.3999999999882,
          -755.7999999999886,
          -817.5999999999893,
          -836.199999999989,
          -734.8999999999893,
          -750.8999999999897,
          -646.1999999999899,
          -625.9999999999908,
          -619.7999999999902,
          -629.799999999989,
          -737.7999999999882,
          -748.3999999999888,
          -724.999999999991,
          -731.099999999991,
          -682.1999999999904,
          -678.1999999999908,
          -695.5999999999916,
          -750.3999999999932,
          -791.9999999999948,
          -815.3999999999949,
          -813.5999999999942,
          -855.399999999995,
          -866.7999999999964,
          -812.5999999999966,
          -769.599999999997,
          -694.8999999999983,
          -799.5999999999981,
          -924.6999999999983,
          -801.6000000000001,
          -808.000000000002,
          -884.4000000000029,
          -866.2000000000036,
          -877.600000000005,
          -860.0000000000052,
          -852.6000000000056,
          -874.2000000000072,
          -937.5000000000089,
          -988.1000000000095,
          -986.7000000000091,
          -1074.800000000009,
          -1144.9000000000087,
          -1211.2000000000078,
          -1168.0000000000068,
          -1235.800000000007,
          -1293.5000000000075,
          -1396.5000000000073,
          -1489.000000000007,
          -1490.3000000000068,
          -1520.2000000000073,
          -1435.700000000009,
          -1447.40000000001,
          -1490.600000000011,
          -1490.0000000000116,
          -1504.2000000000114,
          -1459.0000000000107,
          -1436.4000000000092,
          -1464.6000000000074,
          -1503.4000000000062,
          -1507.2000000000066,
          -1501.6000000000076,
          -1533.6000000000085,
          -1567.0000000000098,
          -1603.4000000000106,
          -1594.50000000001,
          -1588.600000000009,
          -1663.000000000008,
          -1747.6000000000072,
          -1768.8000000000084,
          -1721.4000000000087,
          -1478.0000000000084,
          -1353.0000000000089,
          -1442.6000000000097,
          -1371.0000000000114,
          -1288.8000000000125,
          -1301.5000000000134,
          -1364.2000000000135,
          -1400.0000000000127,
          -1410.6000000000133,
          -1423.8000000000131,
          -1442.0000000000125,
          -1478.000000000013,
          -1529.1000000000124,
          -1638.9000000000124,
          -1683.8000000000134,
          -1488.000000000014,
          -1350.6000000000154,
          -1361.200000000016,
          -1351.4000000000162,
          -1414.5000000000166,
          -1442.4000000000174,
          -1402.000000000019,
          -1269.2000000000196,
          -1327.2000000000198,
          -1431.800000000021,
          -1444.7000000000212,
          -1452.4000000000206,
          -1467.6000000000201,
          -1360.2000000000205,
          -1322.2000000000203,
          -1135.40000000002,
          -1044.6000000000204,
          -1105.3000000000206,
          -1156.40000000002,
          -1018.0000000000193,
          -798.80000000002,
          -848.4000000000207,
          -855.6000000000212,
          -854.6000000000213,
          -868.4000000000207,
          -690.9000000000214,
          -640.8000000000218,
          -650.9000000000214,
          -679.0000000000211,
          -696.3000000000212,
          -761.2000000000223,
          -636.6000000000232,
          -677.9000000000228,
          -771.2000000000212,
          -810.4000000000204,
          -895.40000000002,
          -1023.0000000000188,
          -1071.9000000000194,
          -1176.6000000000215,
          -1280.3000000000213,
          -1189.400000000021,
          -910.4000000000207,
          -940.80000000002,
          -996.0000000000197,
          -937.3000000000193,
          -795.6000000000191,
          -811.2000000000191,
          -808.4000000000185,
          -804.600000000018,
          -822.1000000000193,
          -829.1000000000208,
          -889.1000000000208,
          -906.2000000000196,
          -913.2000000000188,
          -1007.0000000000182,
          -1028.0000000000182,
          -973.4000000000179,
          -1006.8000000000169,
          -1058.000000000017,
          -953.2000000000166,
          -958.7000000000149,
          -941.6000000000139,
          -996.4000000000132,
          -918.8000000000111,
          -988.2000000000083,
          -1014.8000000000094,
          -813.2000000000121,
          -820.6000000000117,
          -846.8000000000102,
          -722.6000000000092,
          -710.7000000000068,
          -687.1000000000031,
          -685.8999999999996,
          -705.3999999999986,
          -807.5999999999975,
          -865.7999999999969,
          -981.9999999999987,
          -1028.5999999999976,
          -1041.599999999994,
          -918.1999999999938,
          -926.1999999999973,
          -951.399999999998,
          -924.0999999999968,
          -829.9999999999976,
          -844.3999999999987,
          -857.7999999999977,
          -877.199999999996,
          -880.9999999999942,
          -882.1999999999932,
          -921.9999999999919,
          -716.1999999999894,
          -657.699999999988,
          -546.7999999999897,
          -517.3999999999925,
          -364.9999999999933,
          -351.1999999999939,
          -350.5999999999944,
          -401.19999999999504,
          -362.19999999999493,
          -93.69999999999231,
          -131.29999999998995,
          -196.9999999999896,
          -163.3999999999915,
          -159.2999999999913,
          -91.19999999998925,
          -117.9999999999894,
          -153.99999999998988,
          -232.39999999999057,
          -165.09999999999155,
          -189.59999999999218,
          -186.7999999999916,
          332.40000000001027,
          330.2000000000092,
          423.80000000000507,
          436.2000000000019,
          677.9,
          848.5999999999991,
          804.9999999999977,
          775.899999999998,
          743.499999999999,
          714.5999999999962,
          826.6999999999933,
          803.2999999999911,
          771.3999999999908,
          781.9999999999936,
          719.999999999996,
          765.3999999999959,
          785.7999999999963,
          741.9999999999981,
          693.6000000000007,
          673.2000000000047,
          615.2000000000066,
          545.6000000000081,
          534.8000000000084,
          515.0000000000074,
          618.9000000000086,
          583.4000000000115,
          566.2000000000143,
          505.4000000000156,
          525.3000000000172,
          523.6000000000195,
          491.00000000001904,
          573.6000000000183,
          565.0000000000197,
          541.6000000000219,
          626.6000000000236,
          721.200000000026,
          723.0000000000289,
          720.600000000031,
          898.4000000000323,
          905.8000000000319,
          927.6000000000327,
          918.1000000000325,
          923.1000000000298,
          935.2000000000291,
          918.4000000000301,
          915.6000000000295,
          876.0000000000276,
          845.6000000000283,
          751.6000000000298
         ]
        }
       ],
       "layout": {
        "font": {
         "color": "#e1e1e1",
         "size": 10
        },
        "height": 400,
        "margin": {
         "b": 10,
         "l": 15,
         "r": 15
        },
        "paper_bgcolor": "#1e1e1e",
        "plot_bgcolor": "#1e1e1e",
        "template": {
         "data": {
          "bar": [
           {
            "error_x": {
             "color": "#2a3f5f"
            },
            "error_y": {
             "color": "#2a3f5f"
            },
            "marker": {
             "line": {
              "color": "#E5ECF6",
              "width": 0.5
             },
             "pattern": {
              "fillmode": "overlay",
              "size": 10,
              "solidity": 0.2
             }
            },
            "type": "bar"
           }
          ],
          "barpolar": [
           {
            "marker": {
             "line": {
              "color": "#E5ECF6",
              "width": 0.5
             },
             "pattern": {
              "fillmode": "overlay",
              "size": 10,
              "solidity": 0.2
             }
            },
            "type": "barpolar"
           }
          ],
          "carpet": [
           {
            "aaxis": {
             "endlinecolor": "#2a3f5f",
             "gridcolor": "white",
             "linecolor": "white",
             "minorgridcolor": "white",
             "startlinecolor": "#2a3f5f"
            },
            "baxis": {
             "endlinecolor": "#2a3f5f",
             "gridcolor": "white",
             "linecolor": "white",
             "minorgridcolor": "white",
             "startlinecolor": "#2a3f5f"
            },
            "type": "carpet"
           }
          ],
          "choropleth": [
           {
            "colorbar": {
             "outlinewidth": 0,
             "ticks": ""
            },
            "type": "choropleth"
           }
          ],
          "contour": [
           {
            "colorbar": {
             "outlinewidth": 0,
             "ticks": ""
            },
            "colorscale": [
             [
              0,
              "#0d0887"
             ],
             [
              0.1111111111111111,
              "#46039f"
             ],
             [
              0.2222222222222222,
              "#7201a8"
             ],
             [
              0.3333333333333333,
              "#9c179e"
             ],
             [
              0.4444444444444444,
              "#bd3786"
             ],
             [
              0.5555555555555556,
              "#d8576b"
             ],
             [
              0.6666666666666666,
              "#ed7953"
             ],
             [
              0.7777777777777778,
              "#fb9f3a"
             ],
             [
              0.8888888888888888,
              "#fdca26"
             ],
             [
              1,
              "#f0f921"
             ]
            ],
            "type": "contour"
           }
          ],
          "contourcarpet": [
           {
            "colorbar": {
             "outlinewidth": 0,
             "ticks": ""
            },
            "type": "contourcarpet"
           }
          ],
          "heatmap": [
           {
            "colorbar": {
             "outlinewidth": 0,
             "ticks": ""
            },
            "colorscale": [
             [
              0,
              "#0d0887"
             ],
             [
              0.1111111111111111,
              "#46039f"
             ],
             [
              0.2222222222222222,
              "#7201a8"
             ],
             [
              0.3333333333333333,
              "#9c179e"
             ],
             [
              0.4444444444444444,
              "#bd3786"
             ],
             [
              0.5555555555555556,
              "#d8576b"
             ],
             [
              0.6666666666666666,
              "#ed7953"
             ],
             [
              0.7777777777777778,
              "#fb9f3a"
             ],
             [
              0.8888888888888888,
              "#fdca26"
             ],
             [
              1,
              "#f0f921"
             ]
            ],
            "type": "heatmap"
           }
          ],
          "heatmapgl": [
           {
            "colorbar": {
             "outlinewidth": 0,
             "ticks": ""
            },
            "colorscale": [
             [
              0,
              "#0d0887"
             ],
             [
              0.1111111111111111,
              "#46039f"
             ],
             [
              0.2222222222222222,
              "#7201a8"
             ],
             [
              0.3333333333333333,
              "#9c179e"
             ],
             [
              0.4444444444444444,
              "#bd3786"
             ],
             [
              0.5555555555555556,
              "#d8576b"
             ],
             [
              0.6666666666666666,
              "#ed7953"
             ],
             [
              0.7777777777777778,
              "#fb9f3a"
             ],
             [
              0.8888888888888888,
              "#fdca26"
             ],
             [
              1,
              "#f0f921"
             ]
            ],
            "type": "heatmapgl"
           }
          ],
          "histogram": [
           {
            "marker": {
             "pattern": {
              "fillmode": "overlay",
              "size": 10,
              "solidity": 0.2
             }
            },
            "type": "histogram"
           }
          ],
          "histogram2d": [
           {
            "colorbar": {
             "outlinewidth": 0,
             "ticks": ""
            },
            "colorscale": [
             [
              0,
              "#0d0887"
             ],
             [
              0.1111111111111111,
              "#46039f"
             ],
             [
              0.2222222222222222,
              "#7201a8"
             ],
             [
              0.3333333333333333,
              "#9c179e"
             ],
             [
              0.4444444444444444,
              "#bd3786"
             ],
             [
              0.5555555555555556,
              "#d8576b"
             ],
             [
              0.6666666666666666,
              "#ed7953"
             ],
             [
              0.7777777777777778,
              "#fb9f3a"
             ],
             [
              0.8888888888888888,
              "#fdca26"
             ],
             [
              1,
              "#f0f921"
             ]
            ],
            "type": "histogram2d"
           }
          ],
          "histogram2dcontour": [
           {
            "colorbar": {
             "outlinewidth": 0,
             "ticks": ""
            },
            "colorscale": [
             [
              0,
              "#0d0887"
             ],
             [
              0.1111111111111111,
              "#46039f"
             ],
             [
              0.2222222222222222,
              "#7201a8"
             ],
             [
              0.3333333333333333,
              "#9c179e"
             ],
             [
              0.4444444444444444,
              "#bd3786"
             ],
             [
              0.5555555555555556,
              "#d8576b"
             ],
             [
              0.6666666666666666,
              "#ed7953"
             ],
             [
              0.7777777777777778,
              "#fb9f3a"
             ],
             [
              0.8888888888888888,
              "#fdca26"
             ],
             [
              1,
              "#f0f921"
             ]
            ],
            "type": "histogram2dcontour"
           }
          ],
          "mesh3d": [
           {
            "colorbar": {
             "outlinewidth": 0,
             "ticks": ""
            },
            "type": "mesh3d"
           }
          ],
          "parcoords": [
           {
            "line": {
             "colorbar": {
              "outlinewidth": 0,
              "ticks": ""
             }
            },
            "type": "parcoords"
           }
          ],
          "pie": [
           {
            "automargin": true,
            "type": "pie"
           }
          ],
          "scatter": [
           {
            "fillpattern": {
             "fillmode": "overlay",
             "size": 10,
             "solidity": 0.2
            },
            "type": "scatter"
           }
          ],
          "scatter3d": [
           {
            "line": {
             "colorbar": {
              "outlinewidth": 0,
              "ticks": ""
             }
            },
            "marker": {
             "colorbar": {
              "outlinewidth": 0,
              "ticks": ""
             }
            },
            "type": "scatter3d"
           }
          ],
          "scattercarpet": [
           {
            "marker": {
             "colorbar": {
              "outlinewidth": 0,
              "ticks": ""
             }
            },
            "type": "scattercarpet"
           }
          ],
          "scattergeo": [
           {
            "marker": {
             "colorbar": {
              "outlinewidth": 0,
              "ticks": ""
             }
            },
            "type": "scattergeo"
           }
          ],
          "scattergl": [
           {
            "marker": {
             "colorbar": {
              "outlinewidth": 0,
              "ticks": ""
             }
            },
            "type": "scattergl"
           }
          ],
          "scattermapbox": [
           {
            "marker": {
             "colorbar": {
              "outlinewidth": 0,
              "ticks": ""
             }
            },
            "type": "scattermapbox"
           }
          ],
          "scatterpolar": [
           {
            "marker": {
             "colorbar": {
              "outlinewidth": 0,
              "ticks": ""
             }
            },
            "type": "scatterpolar"
           }
          ],
          "scatterpolargl": [
           {
            "marker": {
             "colorbar": {
              "outlinewidth": 0,
              "ticks": ""
             }
            },
            "type": "scatterpolargl"
           }
          ],
          "scatterternary": [
           {
            "marker": {
             "colorbar": {
              "outlinewidth": 0,
              "ticks": ""
             }
            },
            "type": "scatterternary"
           }
          ],
          "surface": [
           {
            "colorbar": {
             "outlinewidth": 0,
             "ticks": ""
            },
            "colorscale": [
             [
              0,
              "#0d0887"
             ],
             [
              0.1111111111111111,
              "#46039f"
             ],
             [
              0.2222222222222222,
              "#7201a8"
             ],
             [
              0.3333333333333333,
              "#9c179e"
             ],
             [
              0.4444444444444444,
              "#bd3786"
             ],
             [
              0.5555555555555556,
              "#d8576b"
             ],
             [
              0.6666666666666666,
              "#ed7953"
             ],
             [
              0.7777777777777778,
              "#fb9f3a"
             ],
             [
              0.8888888888888888,
              "#fdca26"
             ],
             [
              1,
              "#f0f921"
             ]
            ],
            "type": "surface"
           }
          ],
          "table": [
           {
            "cells": {
             "fill": {
              "color": "#EBF0F8"
             },
             "line": {
              "color": "white"
             }
            },
            "header": {
             "fill": {
              "color": "#C8D4E3"
             },
             "line": {
              "color": "white"
             }
            },
            "type": "table"
           }
          ]
         },
         "layout": {
          "annotationdefaults": {
           "arrowcolor": "#2a3f5f",
           "arrowhead": 0,
           "arrowwidth": 1
          },
          "autotypenumbers": "strict",
          "coloraxis": {
           "colorbar": {
            "outlinewidth": 0,
            "ticks": ""
           }
          },
          "colorscale": {
           "diverging": [
            [
             0,
             "#8e0152"
            ],
            [
             0.1,
             "#c51b7d"
            ],
            [
             0.2,
             "#de77ae"
            ],
            [
             0.3,
             "#f1b6da"
            ],
            [
             0.4,
             "#fde0ef"
            ],
            [
             0.5,
             "#f7f7f7"
            ],
            [
             0.6,
             "#e6f5d0"
            ],
            [
             0.7,
             "#b8e186"
            ],
            [
             0.8,
             "#7fbc41"
            ],
            [
             0.9,
             "#4d9221"
            ],
            [
             1,
             "#276419"
            ]
           ],
           "sequential": [
            [
             0,
             "#0d0887"
            ],
            [
             0.1111111111111111,
             "#46039f"
            ],
            [
             0.2222222222222222,
             "#7201a8"
            ],
            [
             0.3333333333333333,
             "#9c179e"
            ],
            [
             0.4444444444444444,
             "#bd3786"
            ],
            [
             0.5555555555555556,
             "#d8576b"
            ],
            [
             0.6666666666666666,
             "#ed7953"
            ],
            [
             0.7777777777777778,
             "#fb9f3a"
            ],
            [
             0.8888888888888888,
             "#fdca26"
            ],
            [
             1,
             "#f0f921"
            ]
           ],
           "sequentialminus": [
            [
             0,
             "#0d0887"
            ],
            [
             0.1111111111111111,
             "#46039f"
            ],
            [
             0.2222222222222222,
             "#7201a8"
            ],
            [
             0.3333333333333333,
             "#9c179e"
            ],
            [
             0.4444444444444444,
             "#bd3786"
            ],
            [
             0.5555555555555556,
             "#d8576b"
            ],
            [
             0.6666666666666666,
             "#ed7953"
            ],
            [
             0.7777777777777778,
             "#fb9f3a"
            ],
            [
             0.8888888888888888,
             "#fdca26"
            ],
            [
             1,
             "#f0f921"
            ]
           ]
          },
          "colorway": [
           "#636efa",
           "#EF553B",
           "#00cc96",
           "#ab63fa",
           "#FFA15A",
           "#19d3f3",
           "#FF6692",
           "#B6E880",
           "#FF97FF",
           "#FECB52"
          ],
          "font": {
           "color": "#2a3f5f"
          },
          "geo": {
           "bgcolor": "white",
           "lakecolor": "white",
           "landcolor": "#E5ECF6",
           "showlakes": true,
           "showland": true,
           "subunitcolor": "white"
          },
          "hoverlabel": {
           "align": "left"
          },
          "hovermode": "closest",
          "mapbox": {
           "style": "light"
          },
          "paper_bgcolor": "white",
          "plot_bgcolor": "#E5ECF6",
          "polar": {
           "angularaxis": {
            "gridcolor": "white",
            "linecolor": "white",
            "ticks": ""
           },
           "bgcolor": "#E5ECF6",
           "radialaxis": {
            "gridcolor": "white",
            "linecolor": "white",
            "ticks": ""
           }
          },
          "scene": {
           "xaxis": {
            "backgroundcolor": "#E5ECF6",
            "gridcolor": "white",
            "gridwidth": 2,
            "linecolor": "white",
            "showbackground": true,
            "ticks": "",
            "zerolinecolor": "white"
           },
           "yaxis": {
            "backgroundcolor": "#E5ECF6",
            "gridcolor": "white",
            "gridwidth": 2,
            "linecolor": "white",
            "showbackground": true,
            "ticks": "",
            "zerolinecolor": "white"
           },
           "zaxis": {
            "backgroundcolor": "#E5ECF6",
            "gridcolor": "white",
            "gridwidth": 2,
            "linecolor": "white",
            "showbackground": true,
            "ticks": "",
            "zerolinecolor": "white"
           }
          },
          "shapedefaults": {
           "line": {
            "color": "#2a3f5f"
           }
          },
          "ternary": {
           "aaxis": {
            "gridcolor": "white",
            "linecolor": "white",
            "ticks": ""
           },
           "baxis": {
            "gridcolor": "white",
            "linecolor": "white",
            "ticks": ""
           },
           "bgcolor": "#E5ECF6",
           "caxis": {
            "gridcolor": "white",
            "linecolor": "white",
            "ticks": ""
           }
          },
          "title": {
           "x": 0.05
          },
          "xaxis": {
           "automargin": true,
           "gridcolor": "white",
           "linecolor": "white",
           "ticks": "",
           "title": {
            "standoff": 15
           },
           "zerolinecolor": "white",
           "zerolinewidth": 2
          },
          "yaxis": {
           "automargin": true,
           "gridcolor": "white",
           "linecolor": "white",
           "ticks": "",
           "title": {
            "standoff": 15
           },
           "zerolinecolor": "white",
           "zerolinewidth": 2
          }
         }
        },
        "title": {
         "text": "GBP_NZD_MA_8_16"
        },
        "width": 1000,
        "xaxis": {
         "linecolor": "#3a4a54",
         "linewidth": 1,
         "showgrid": false,
         "zeroline": false
        },
        "yaxis": {
         "linecolor": "#3a4a54",
         "linewidth": 1,
         "showgrid": false,
         "zeroline": false
        }
       }
      }
     },
     "metadata": {},
     "output_type": "display_data"
    },
    {
     "data": {
      "application/vnd.plotly.v1+json": {
       "config": {
        "plotlyServerURL": "https://plot.ly"
       },
       "data": [
        {
         "line": {
          "color": "#3d825f",
          "shape": "spline",
          "width": 2
         },
         "mode": "lines",
         "name": "EUR_NZD_MA_8_16",
         "type": "scatter",
         "x": [
          "2022-11-10T12:00:00+00:00",
          "2022-11-11T04:00:00+00:00",
          "2022-11-11T09:00:00+00:00",
          "2022-11-11T10:00:00+00:00",
          "2022-11-11T18:00:00+00:00",
          "2022-11-14T04:00:00+00:00",
          "2022-11-14T19:00:00+00:00",
          "2022-11-15T14:00:00+00:00",
          "2022-11-15T16:00:00+00:00",
          "2022-11-16T05:00:00+00:00",
          "2022-11-17T22:00:00+00:00",
          "2022-11-18T21:00:00+00:00",
          "2022-11-20T23:00:00+00:00",
          "2022-11-21T17:00:00+00:00",
          "2022-11-22T03:00:00+00:00",
          "2022-11-22T20:00:00+00:00",
          "2022-11-23T06:00:00+00:00",
          "2022-11-24T05:00:00+00:00",
          "2022-11-24T12:00:00+00:00",
          "2022-11-25T00:00:00+00:00",
          "2022-11-25T20:00:00+00:00",
          "2022-11-27T22:00:00+00:00",
          "2022-11-27T23:00:00+00:00",
          "2022-11-28T00:00:00+00:00",
          "2022-11-28T21:00:00+00:00",
          "2022-11-29T20:00:00+00:00",
          "2022-11-30T03:00:00+00:00",
          "2022-12-01T19:00:00+00:00",
          "2022-12-02T07:00:00+00:00",
          "2022-12-04T23:00:00+00:00",
          "2022-12-05T07:00:00+00:00",
          "2022-12-05T09:00:00+00:00",
          "2022-12-06T04:00:00+00:00",
          "2022-12-06T11:00:00+00:00",
          "2022-12-06T18:00:00+00:00",
          "2022-12-07T11:00:00+00:00",
          "2022-12-07T17:00:00+00:00",
          "2022-12-08T01:00:00+00:00",
          "2022-12-08T09:00:00+00:00",
          "2022-12-08T14:00:00+00:00",
          "2022-12-09T03:00:00+00:00",
          "2022-12-12T04:00:00+00:00",
          "2022-12-13T01:00:00+00:00",
          "2022-12-14T00:00:00+00:00",
          "2022-12-15T06:00:00+00:00",
          "2022-12-15T08:00:00+00:00",
          "2022-12-16T05:00:00+00:00",
          "2022-12-19T07:00:00+00:00",
          "2022-12-20T23:00:00+00:00",
          "2022-12-21T04:00:00+00:00",
          "2022-12-21T18:00:00+00:00",
          "2022-12-22T00:00:00+00:00",
          "2022-12-22T01:00:00+00:00",
          "2022-12-22T05:00:00+00:00",
          "2022-12-22T06:00:00+00:00",
          "2022-12-22T11:00:00+00:00",
          "2022-12-23T03:00:00+00:00",
          "2022-12-23T19:00:00+00:00",
          "2022-12-27T11:00:00+00:00",
          "2022-12-27T14:00:00+00:00",
          "2022-12-28T07:00:00+00:00",
          "2022-12-28T23:00:00+00:00",
          "2022-12-29T03:00:00+00:00",
          "2022-12-29T11:00:00+00:00",
          "2022-12-29T20:00:00+00:00",
          "2022-12-30T03:00:00+00:00",
          "2022-12-30T12:00:00+00:00",
          "2022-12-30T17:00:00+00:00",
          "2023-01-02T12:00:00+00:00",
          "2023-01-03T02:00:00+00:00",
          "2023-01-03T04:00:00+00:00",
          "2023-01-03T05:00:00+00:00",
          "2023-01-03T06:00:00+00:00",
          "2023-01-03T10:00:00+00:00",
          "2023-01-03T20:00:00+00:00",
          "2023-01-04T19:00:00+00:00",
          "2023-01-05T12:00:00+00:00",
          "2023-01-05T15:00:00+00:00",
          "2023-01-05T17:00:00+00:00",
          "2023-01-05T18:00:00+00:00",
          "2023-01-06T01:00:00+00:00",
          "2023-01-06T10:00:00+00:00",
          "2023-01-06T16:00:00+00:00",
          "2023-01-09T14:00:00+00:00",
          "2023-01-10T08:00:00+00:00",
          "2023-01-10T13:00:00+00:00",
          "2023-01-11T01:00:00+00:00",
          "2023-01-11T10:00:00+00:00",
          "2023-01-11T23:00:00+00:00",
          "2023-01-12T07:00:00+00:00",
          "2023-01-13T11:00:00+00:00",
          "2023-01-13T17:00:00+00:00",
          "2023-01-15T22:00:00+00:00",
          "2023-01-16T15:00:00+00:00",
          "2023-01-16T16:00:00+00:00",
          "2023-01-16T20:00:00+00:00",
          "2023-01-17T04:00:00+00:00",
          "2023-01-18T18:00:00+00:00",
          "2023-01-19T22:00:00+00:00",
          "2023-01-19T23:00:00+00:00",
          "2023-01-20T00:00:00+00:00",
          "2023-01-23T05:00:00+00:00",
          "2023-01-23T15:00:00+00:00",
          "2023-01-24T13:00:00+00:00",
          "2023-01-24T20:00:00+00:00",
          "2023-01-25T01:00:00+00:00",
          "2023-01-25T13:00:00+00:00",
          "2023-01-25T14:00:00+00:00",
          "2023-01-26T03:00:00+00:00",
          "2023-01-27T11:00:00+00:00",
          "2023-01-27T18:00:00+00:00",
          "2023-01-30T08:00:00+00:00",
          "2023-01-30T19:00:00+00:00",
          "2023-01-31T02:00:00+00:00",
          "2023-01-31T19:00:00+00:00",
          "2023-01-31T23:00:00+00:00",
          "2023-02-02T01:00:00+00:00",
          "2023-02-03T00:00:00+00:00",
          "2023-02-03T06:00:00+00:00",
          "2023-02-03T09:00:00+00:00",
          "2023-02-06T06:00:00+00:00",
          "2023-02-06T11:00:00+00:00",
          "2023-02-06T19:00:00+00:00",
          "2023-02-07T17:00:00+00:00",
          "2023-02-07T22:00:00+00:00",
          "2023-02-08T01:00:00+00:00",
          "2023-02-08T02:00:00+00:00",
          "2023-02-08T06:00:00+00:00",
          "2023-02-08T09:00:00+00:00",
          "2023-02-08T16:00:00+00:00",
          "2023-02-09T02:00:00+00:00",
          "2023-02-09T17:00:00+00:00",
          "2023-02-10T09:00:00+00:00",
          "2023-02-12T23:00:00+00:00",
          "2023-02-13T06:00:00+00:00",
          "2023-02-13T22:00:00+00:00",
          "2023-02-14T19:00:00+00:00",
          "2023-02-15T02:00:00+00:00",
          "2023-02-15T19:00:00+00:00",
          "2023-02-16T14:00:00+00:00",
          "2023-02-17T19:00:00+00:00",
          "2023-02-20T02:00:00+00:00",
          "2023-02-20T06:00:00+00:00",
          "2023-02-20T10:00:00+00:00",
          "2023-02-20T11:00:00+00:00",
          "2023-02-21T06:00:00+00:00",
          "2023-02-22T03:00:00+00:00",
          "2023-02-23T15:00:00+00:00",
          "2023-02-24T00:00:00+00:00",
          "2023-02-24T10:00:00+00:00",
          "2023-02-28T16:00:00+00:00",
          "2023-03-01T18:00:00+00:00",
          "2023-03-02T13:00:00+00:00",
          "2023-03-03T09:00:00+00:00",
          "2023-03-07T02:00:00+00:00",
          "2023-03-07T16:00:00+00:00",
          "2023-03-08T09:00:00+00:00",
          "2023-03-08T19:00:00+00:00",
          "2023-03-09T05:00:00+00:00",
          "2023-03-09T18:00:00+00:00",
          "2023-03-10T11:00:00+00:00",
          "2023-03-10T20:00:00+00:00",
          "2023-03-13T05:00:00+00:00",
          "2023-03-13T23:00:00+00:00",
          "2023-03-14T07:00:00+00:00",
          "2023-03-14T16:00:00+00:00",
          "2023-03-14T23:00:00+00:00",
          "2023-03-15T03:00:00+00:00",
          "2023-03-15T11:00:00+00:00",
          "2023-03-15T23:00:00+00:00",
          "2023-03-16T14:00:00+00:00",
          "2023-03-20T02:00:00+00:00",
          "2023-03-22T00:00:00+00:00",
          "2023-03-22T17:00:00+00:00",
          "2023-03-23T06:00:00+00:00",
          "2023-03-24T03:00:00+00:00",
          "2023-03-24T10:00:00+00:00",
          "2023-03-24T19:00:00+00:00",
          "2023-03-27T07:00:00+00:00",
          "2023-03-27T09:00:00+00:00",
          "2023-03-28T02:00:00+00:00",
          "2023-03-28T15:00:00+00:00",
          "2023-03-28T17:00:00+00:00",
          "2023-03-29T09:00:00+00:00",
          "2023-03-30T08:00:00+00:00",
          "2023-03-30T14:00:00+00:00",
          "2023-03-30T21:00:00+00:00",
          "2023-03-31T12:00:00+00:00",
          "2023-03-31T18:00:00+00:00",
          "2023-04-03T05:00:00+00:00",
          "2023-04-03T13:00:00+00:00",
          "2023-04-04T10:00:00+00:00",
          "2023-04-05T02:00:00+00:00",
          "2023-04-05T13:00:00+00:00",
          "2023-04-05T18:00:00+00:00",
          "2023-04-06T04:00:00+00:00",
          "2023-04-07T03:00:00+00:00",
          "2023-04-07T16:00:00+00:00",
          "2023-04-10T02:00:00+00:00",
          "2023-04-10T03:00:00+00:00",
          "2023-04-10T15:00:00+00:00",
          "2023-04-10T17:00:00+00:00",
          "2023-04-10T20:00:00+00:00",
          "2023-04-11T06:00:00+00:00",
          "2023-04-13T06:00:00+00:00",
          "2023-04-14T04:00:00+00:00",
          "2023-04-17T14:00:00+00:00",
          "2023-04-18T10:00:00+00:00",
          "2023-04-18T11:00:00+00:00",
          "2023-04-18T20:00:00+00:00",
          "2023-04-19T14:00:00+00:00",
          "2023-04-19T22:00:00+00:00",
          "2023-04-20T12:00:00+00:00",
          "2023-04-20T23:00:00+00:00",
          "2023-04-24T23:00:00+00:00",
          "2023-04-26T03:00:00+00:00",
          "2023-04-27T03:00:00+00:00",
          "2023-05-02T03:00:00+00:00",
          "2023-05-02T04:00:00+00:00",
          "2023-05-02T20:00:00+00:00",
          "2023-05-03T03:00:00+00:00",
          "2023-05-03T11:00:00+00:00",
          "2023-05-04T07:00:00+00:00",
          "2023-05-08T01:00:00+00:00",
          "2023-05-08T05:00:00+00:00",
          "2023-05-09T06:00:00+00:00",
          "2023-05-09T10:00:00+00:00",
          "2023-05-10T11:00:00+00:00",
          "2023-05-10T12:00:00+00:00",
          "2023-05-11T13:00:00+00:00",
          "2023-05-15T03:00:00+00:00",
          "2023-05-16T09:00:00+00:00",
          "2023-05-17T01:00:00+00:00",
          "2023-05-17T22:00:00+00:00",
          "2023-05-18T06:00:00+00:00",
          "2023-05-18T14:00:00+00:00",
          "2023-05-18T21:00:00+00:00",
          "2023-05-21T22:00:00+00:00",
          "2023-05-22T09:00:00+00:00",
          "2023-05-23T07:00:00+00:00",
          "2023-05-23T20:00:00+00:00",
          "2023-05-24T00:00:00+00:00",
          "2023-05-26T02:00:00+00:00",
          "2023-05-26T16:00:00+00:00",
          "2023-05-29T03:00:00+00:00",
          "2023-05-29T23:00:00+00:00",
          "2023-05-30T13:00:00+00:00",
          "2023-05-30T15:00:00+00:00",
          "2023-05-31T13:00:00+00:00",
          "2023-06-01T04:00:00+00:00",
          "2023-06-01T15:00:00+00:00",
          "2023-06-02T17:00:00+00:00",
          "2023-06-05T04:00:00+00:00",
          "2023-06-05T13:00:00+00:00",
          "2023-06-05T15:00:00+00:00",
          "2023-06-06T01:00:00+00:00",
          "2023-06-06T05:00:00+00:00",
          "2023-06-06T19:00:00+00:00",
          "2023-06-06T21:00:00+00:00",
          "2023-06-07T09:00:00+00:00",
          "2023-06-08T05:00:00+00:00",
          "2023-06-08T17:00:00+00:00",
          "2023-06-08T18:00:00+00:00",
          "2023-06-08T20:00:00+00:00",
          "2023-06-09T07:00:00+00:00",
          "2023-06-12T04:00:00+00:00",
          "2023-06-12T12:00:00+00:00",
          "2023-06-12T14:00:00+00:00",
          "2023-06-13T12:00:00+00:00",
          "2023-06-15T01:00:00+00:00",
          "2023-06-16T00:00:00+00:00",
          "2023-06-16T04:00:00+00:00",
          "2023-06-16T05:00:00+00:00",
          "2023-06-16T08:00:00+00:00",
          "2023-06-16T20:00:00+00:00",
          "2023-06-19T03:00:00+00:00",
          "2023-06-20T23:00:00+00:00",
          "2023-06-21T12:00:00+00:00",
          "2023-06-21T20:00:00+00:00",
          "2023-06-22T00:00:00+00:00",
          "2023-06-22T13:00:00+00:00",
          "2023-06-22T19:00:00+00:00",
          "2023-06-23T12:00:00+00:00",
          "2023-06-25T22:00:00+00:00",
          "2023-06-26T00:00:00+00:00",
          "2023-06-27T00:00:00+00:00",
          "2023-06-27T03:00:00+00:00",
          "2023-06-27T12:00:00+00:00",
          "2023-06-28T19:00:00+00:00",
          "2023-06-29T02:00:00+00:00",
          "2023-06-29T03:00:00+00:00",
          "2023-06-29T13:00:00+00:00"
         ],
         "y": [
          74.19999999999982,
          112.49999999999982,
          92.9000000000002,
          10.099999999999554,
          -12.100000000001554,
          -10.000000000001119,
          -20.599999999999508,
          -158.59999999999764,
          -190.59999999999633,
          -97.99999999999588,
          53.20000000000434,
          35.400000000005406,
          -0.39999999999376,
          -26.999999999994827,
          -2.99999999999525,
          -23.399999999995668,
          15.900000000004223,
          -61.699999999995654,
          -102.19999999999675,
          -93.79999999999723,
          -129.29999999999666,
          -141.29999999999535,
          -128.69999999999496,
          -21.799999999996302,
          92.00000000000315,
          80.80000000000305,
          229.6000000000031,
          198.400000000003,
          199.60000000000196,
          175.00000000000068,
          132.39999999999915,
          227.39999999999756,
          217.59999999999553,
          208.9999999999947,
          198.3999999999941,
          124.39999999999337,
          76.19999999999291,
          44.29999999999265,
          38.199999999992656,
          20.999999999993218,
          100.99999999999329,
          158.19999999999277,
          154.19999999999322,
          195.79999999999262,
          121.7999999999919,
          243.09999999999164,
          354.59999999999155,
          476.29999999999166,
          398.5999999999911,
          428.9999999999904,
          425.1999999999899,
          416.5999999999891,
          410.5999999999876,
          387.59999999998564,
          353.6999999999856,
          382.9999999999866,
          392.6999999999857,
          429.3999999999841,
          434.59999999998263,
          401.39999999998275,
          465.2999999999839,
          412.3999999999838,
          324.89999999998344,
          270.59999999998297,
          214.09999999998143,
          161.59999999997945,
          105.0999999999779,
          119.59999999997741,
          165.49999999997834,
          140.99999999997993,
          94.29999999998041,
          83.09999999998031,
          -25.800000000020347,
          -88.80000000002008,
          -34.40000000001896,
          -39.90000000001947,
          -127.20000000002074,
          -127.80000000002245,
          -85.60000000002356,
          -70.0000000000235,
          -103.40000000002249,
          -259.9000000000219,
          -275.10000000002157,
          -227.00000000002177,
          -268.80000000002246,
          -292.1000000000219,
          -343.6000000000218,
          -335.60000000002265,
          -362.5000000000235,
          -307.7000000000242,
          -308.3000000000237,
          -313.5000000000223,
          -269.00000000002166,
          -265.4000000000225,
          -280.3000000000246,
          -328.80000000002485,
          -193.60000000002287,
          -30.000000000021373,
          -31.800000000022063,
          -49.900000000022956,
          47.7999999999776,
          -27.0000000000217,
          -39.80000000002118,
          -69.600000000021,
          -141.9000000000217,
          -112.00000000002343,
          -134.40000000002362,
          -172.00000000002348,
          -129.40000000002416,
          -154.20000000002454,
          -200.60000000002432,
          -231.60000000002313,
          -265.6000000000216,
          -257.8000000000216,
          -318.80000000002156,
          -306.00000000001984,
          -256.4000000000191,
          -268.60000000001907,
          -335.8000000000196,
          -166.10000000002034,
          -192.60000000002077,
          -250.40000000002195,
          -151.20000000002267,
          -117.00000000002288,
          -136.00000000002302,
          -139.90000000002192,
          -127.60000000002128,
          -140.30000000002232,
          -192.4000000000239,
          -242.3000000000244,
          -227.50000000002512,
          -246.70000000002656,
          -242.00000000002686,
          -263.3000000000265,
          -236.30000000002724,
          -176.80000000002823,
          -242.20000000002813,
          -229.60000000002773,
          -293.60000000002736,
          -241.40000000002735,
          -236.4000000000279,
          -228.40000000002877,
          -239.20000000002847,
          -273.60000000002736,
          -321.20000000002614,
          -357.6000000000248,
          -280.40000000002533,
          -314.80000000002644,
          -351.4000000000264,
          -270.60000000002555,
          -199.4000000000254,
          -176.60000000002702,
          -125.40000000002911,
          61.39999999996897,
          8.89999999996698,
          -30.800000000033307,
          -83.30000000003307,
          -121.40000000003397,
          -176.00000000003416,
          -143.00000000003337,
          -169.40000000003312,
          -196.4000000000346,
          -132.6000000000363,
          -237.40000000003673,
          -302.8000000000366,
          -299.4000000000365,
          -337.4000000000368,
          -524.2000000000371,
          -626.400000000036,
          -652.000000000035,
          -548.4000000000358,
          -182.3000000000377,
          -139.20000000003955,
          -125.20000000004109,
          -96.60000000004246,
          -157.70000000004305,
          -220.80000000004344,
          -225.6000000000438,
          -280.6000000000444,
          -313.20000000004484,
          -293.4000000000439,
          -292.00000000004366,
          -323.0000000000447,
          -294.4000000000461,
          -325.50000000004775,
          -357.6000000000493,
          -330.20000000004967,
          -350.20000000004967,
          -357.6000000000493,
          -389.1000000000492,
          -376.8000000000508,
          -448.60000000005266,
          -509.0000000000531,
          -559.8000000000528,
          -603.0000000000539,
          -475.3000000000544,
          -506.0000000000535,
          -493.5000000000538,
          -499.5000000000553,
          -506.10000000005635,
          -502.3000000000559,
          -516.400000000055,
          -551.9000000000544,
          -392.9000000000542,
          -277.6000000000538,
          -130.20000000005405,
          -110.40000000005534,
          -145.5000000000566,
          -187.5000000000564,
          -227.9000000000546,
          -348.1000000000538,
          -368.50000000005423,
          -384.60000000005533,
          -230.60000000005675,
          -230.20000000005635,
          -119.40000000005435,
          113.39999999994754,
          100.99999999994846,
          150.79999999994828,
          116.5999999999485,
          82.5999999999478,
          77.69999999994678,
          284.5999999999477,
          264.799999999949,
          388.1999999999492,
          349.99999999994986,
          380.3999999999514,
          327.5999999999519,
          289.5999999999516,
          513.1999999999509,
          603.3999999999512,
          595.199999999953,
          640.4999999999544,
          588.3999999999551,
          550.7999999999552,
          497.79999999995437,
          548.3999999999528,
          527.9999999999524,
          507.0999999999531,
          501.39999999995354,
          506.7999999999534,
          963.5999999999528,
          921.3999999999517,
          937.1999999999508,
          971.1999999999515,
          1004.3999999999514,
          1010.5999999999499,
          1062.3999999999496,
          1074.3999999999505,
          993.9999999999523,
          1026.799999999954,
          1012.1999999999539,
          1027.299999999953,
          1017.1999999999533,
          1003.7999999999544,
          980.9999999999537,
          1002.7999999999522,
          1003.1999999999526,
          1006.9999999999532,
          1118.999999999952,
          1135.3999999999508,
          1130.19999999995,
          1123.0999999999501,
          1089.999999999951,
          1190.3999999999514,
          1183.3999999999521,
          1155.5999999999522,
          1110.0999999999517,
          1106.4999999999525,
          1106.1999999999528,
          1085.9999999999513,
          1068.2999999999508,
          1052.8999999999521,
          1036.099999999953,
          957.0999999999528,
          1049.1999999999523,
          1052.9999999999527,
          1060.999999999954,
          1073.9999999999548,
          1090.499999999954,
          1067.799999999954,
          1092.5999999999544,
          1124.699999999954,
          1101.799999999955,
          1101.9999999999563,
          1079.899999999956,
          1028.1999999999548,
          1254.3999999999535,
          1284.1999999999532,
          1267.7999999999545,
          1235.7999999999558,
          1221.399999999957
         ]
        }
       ],
       "layout": {
        "font": {
         "color": "#e1e1e1",
         "size": 10
        },
        "height": 400,
        "margin": {
         "b": 10,
         "l": 15,
         "r": 15
        },
        "paper_bgcolor": "#1e1e1e",
        "plot_bgcolor": "#1e1e1e",
        "template": {
         "data": {
          "bar": [
           {
            "error_x": {
             "color": "#2a3f5f"
            },
            "error_y": {
             "color": "#2a3f5f"
            },
            "marker": {
             "line": {
              "color": "#E5ECF6",
              "width": 0.5
             },
             "pattern": {
              "fillmode": "overlay",
              "size": 10,
              "solidity": 0.2
             }
            },
            "type": "bar"
           }
          ],
          "barpolar": [
           {
            "marker": {
             "line": {
              "color": "#E5ECF6",
              "width": 0.5
             },
             "pattern": {
              "fillmode": "overlay",
              "size": 10,
              "solidity": 0.2
             }
            },
            "type": "barpolar"
           }
          ],
          "carpet": [
           {
            "aaxis": {
             "endlinecolor": "#2a3f5f",
             "gridcolor": "white",
             "linecolor": "white",
             "minorgridcolor": "white",
             "startlinecolor": "#2a3f5f"
            },
            "baxis": {
             "endlinecolor": "#2a3f5f",
             "gridcolor": "white",
             "linecolor": "white",
             "minorgridcolor": "white",
             "startlinecolor": "#2a3f5f"
            },
            "type": "carpet"
           }
          ],
          "choropleth": [
           {
            "colorbar": {
             "outlinewidth": 0,
             "ticks": ""
            },
            "type": "choropleth"
           }
          ],
          "contour": [
           {
            "colorbar": {
             "outlinewidth": 0,
             "ticks": ""
            },
            "colorscale": [
             [
              0,
              "#0d0887"
             ],
             [
              0.1111111111111111,
              "#46039f"
             ],
             [
              0.2222222222222222,
              "#7201a8"
             ],
             [
              0.3333333333333333,
              "#9c179e"
             ],
             [
              0.4444444444444444,
              "#bd3786"
             ],
             [
              0.5555555555555556,
              "#d8576b"
             ],
             [
              0.6666666666666666,
              "#ed7953"
             ],
             [
              0.7777777777777778,
              "#fb9f3a"
             ],
             [
              0.8888888888888888,
              "#fdca26"
             ],
             [
              1,
              "#f0f921"
             ]
            ],
            "type": "contour"
           }
          ],
          "contourcarpet": [
           {
            "colorbar": {
             "outlinewidth": 0,
             "ticks": ""
            },
            "type": "contourcarpet"
           }
          ],
          "heatmap": [
           {
            "colorbar": {
             "outlinewidth": 0,
             "ticks": ""
            },
            "colorscale": [
             [
              0,
              "#0d0887"
             ],
             [
              0.1111111111111111,
              "#46039f"
             ],
             [
              0.2222222222222222,
              "#7201a8"
             ],
             [
              0.3333333333333333,
              "#9c179e"
             ],
             [
              0.4444444444444444,
              "#bd3786"
             ],
             [
              0.5555555555555556,
              "#d8576b"
             ],
             [
              0.6666666666666666,
              "#ed7953"
             ],
             [
              0.7777777777777778,
              "#fb9f3a"
             ],
             [
              0.8888888888888888,
              "#fdca26"
             ],
             [
              1,
              "#f0f921"
             ]
            ],
            "type": "heatmap"
           }
          ],
          "heatmapgl": [
           {
            "colorbar": {
             "outlinewidth": 0,
             "ticks": ""
            },
            "colorscale": [
             [
              0,
              "#0d0887"
             ],
             [
              0.1111111111111111,
              "#46039f"
             ],
             [
              0.2222222222222222,
              "#7201a8"
             ],
             [
              0.3333333333333333,
              "#9c179e"
             ],
             [
              0.4444444444444444,
              "#bd3786"
             ],
             [
              0.5555555555555556,
              "#d8576b"
             ],
             [
              0.6666666666666666,
              "#ed7953"
             ],
             [
              0.7777777777777778,
              "#fb9f3a"
             ],
             [
              0.8888888888888888,
              "#fdca26"
             ],
             [
              1,
              "#f0f921"
             ]
            ],
            "type": "heatmapgl"
           }
          ],
          "histogram": [
           {
            "marker": {
             "pattern": {
              "fillmode": "overlay",
              "size": 10,
              "solidity": 0.2
             }
            },
            "type": "histogram"
           }
          ],
          "histogram2d": [
           {
            "colorbar": {
             "outlinewidth": 0,
             "ticks": ""
            },
            "colorscale": [
             [
              0,
              "#0d0887"
             ],
             [
              0.1111111111111111,
              "#46039f"
             ],
             [
              0.2222222222222222,
              "#7201a8"
             ],
             [
              0.3333333333333333,
              "#9c179e"
             ],
             [
              0.4444444444444444,
              "#bd3786"
             ],
             [
              0.5555555555555556,
              "#d8576b"
             ],
             [
              0.6666666666666666,
              "#ed7953"
             ],
             [
              0.7777777777777778,
              "#fb9f3a"
             ],
             [
              0.8888888888888888,
              "#fdca26"
             ],
             [
              1,
              "#f0f921"
             ]
            ],
            "type": "histogram2d"
           }
          ],
          "histogram2dcontour": [
           {
            "colorbar": {
             "outlinewidth": 0,
             "ticks": ""
            },
            "colorscale": [
             [
              0,
              "#0d0887"
             ],
             [
              0.1111111111111111,
              "#46039f"
             ],
             [
              0.2222222222222222,
              "#7201a8"
             ],
             [
              0.3333333333333333,
              "#9c179e"
             ],
             [
              0.4444444444444444,
              "#bd3786"
             ],
             [
              0.5555555555555556,
              "#d8576b"
             ],
             [
              0.6666666666666666,
              "#ed7953"
             ],
             [
              0.7777777777777778,
              "#fb9f3a"
             ],
             [
              0.8888888888888888,
              "#fdca26"
             ],
             [
              1,
              "#f0f921"
             ]
            ],
            "type": "histogram2dcontour"
           }
          ],
          "mesh3d": [
           {
            "colorbar": {
             "outlinewidth": 0,
             "ticks": ""
            },
            "type": "mesh3d"
           }
          ],
          "parcoords": [
           {
            "line": {
             "colorbar": {
              "outlinewidth": 0,
              "ticks": ""
             }
            },
            "type": "parcoords"
           }
          ],
          "pie": [
           {
            "automargin": true,
            "type": "pie"
           }
          ],
          "scatter": [
           {
            "fillpattern": {
             "fillmode": "overlay",
             "size": 10,
             "solidity": 0.2
            },
            "type": "scatter"
           }
          ],
          "scatter3d": [
           {
            "line": {
             "colorbar": {
              "outlinewidth": 0,
              "ticks": ""
             }
            },
            "marker": {
             "colorbar": {
              "outlinewidth": 0,
              "ticks": ""
             }
            },
            "type": "scatter3d"
           }
          ],
          "scattercarpet": [
           {
            "marker": {
             "colorbar": {
              "outlinewidth": 0,
              "ticks": ""
             }
            },
            "type": "scattercarpet"
           }
          ],
          "scattergeo": [
           {
            "marker": {
             "colorbar": {
              "outlinewidth": 0,
              "ticks": ""
             }
            },
            "type": "scattergeo"
           }
          ],
          "scattergl": [
           {
            "marker": {
             "colorbar": {
              "outlinewidth": 0,
              "ticks": ""
             }
            },
            "type": "scattergl"
           }
          ],
          "scattermapbox": [
           {
            "marker": {
             "colorbar": {
              "outlinewidth": 0,
              "ticks": ""
             }
            },
            "type": "scattermapbox"
           }
          ],
          "scatterpolar": [
           {
            "marker": {
             "colorbar": {
              "outlinewidth": 0,
              "ticks": ""
             }
            },
            "type": "scatterpolar"
           }
          ],
          "scatterpolargl": [
           {
            "marker": {
             "colorbar": {
              "outlinewidth": 0,
              "ticks": ""
             }
            },
            "type": "scatterpolargl"
           }
          ],
          "scatterternary": [
           {
            "marker": {
             "colorbar": {
              "outlinewidth": 0,
              "ticks": ""
             }
            },
            "type": "scatterternary"
           }
          ],
          "surface": [
           {
            "colorbar": {
             "outlinewidth": 0,
             "ticks": ""
            },
            "colorscale": [
             [
              0,
              "#0d0887"
             ],
             [
              0.1111111111111111,
              "#46039f"
             ],
             [
              0.2222222222222222,
              "#7201a8"
             ],
             [
              0.3333333333333333,
              "#9c179e"
             ],
             [
              0.4444444444444444,
              "#bd3786"
             ],
             [
              0.5555555555555556,
              "#d8576b"
             ],
             [
              0.6666666666666666,
              "#ed7953"
             ],
             [
              0.7777777777777778,
              "#fb9f3a"
             ],
             [
              0.8888888888888888,
              "#fdca26"
             ],
             [
              1,
              "#f0f921"
             ]
            ],
            "type": "surface"
           }
          ],
          "table": [
           {
            "cells": {
             "fill": {
              "color": "#EBF0F8"
             },
             "line": {
              "color": "white"
             }
            },
            "header": {
             "fill": {
              "color": "#C8D4E3"
             },
             "line": {
              "color": "white"
             }
            },
            "type": "table"
           }
          ]
         },
         "layout": {
          "annotationdefaults": {
           "arrowcolor": "#2a3f5f",
           "arrowhead": 0,
           "arrowwidth": 1
          },
          "autotypenumbers": "strict",
          "coloraxis": {
           "colorbar": {
            "outlinewidth": 0,
            "ticks": ""
           }
          },
          "colorscale": {
           "diverging": [
            [
             0,
             "#8e0152"
            ],
            [
             0.1,
             "#c51b7d"
            ],
            [
             0.2,
             "#de77ae"
            ],
            [
             0.3,
             "#f1b6da"
            ],
            [
             0.4,
             "#fde0ef"
            ],
            [
             0.5,
             "#f7f7f7"
            ],
            [
             0.6,
             "#e6f5d0"
            ],
            [
             0.7,
             "#b8e186"
            ],
            [
             0.8,
             "#7fbc41"
            ],
            [
             0.9,
             "#4d9221"
            ],
            [
             1,
             "#276419"
            ]
           ],
           "sequential": [
            [
             0,
             "#0d0887"
            ],
            [
             0.1111111111111111,
             "#46039f"
            ],
            [
             0.2222222222222222,
             "#7201a8"
            ],
            [
             0.3333333333333333,
             "#9c179e"
            ],
            [
             0.4444444444444444,
             "#bd3786"
            ],
            [
             0.5555555555555556,
             "#d8576b"
            ],
            [
             0.6666666666666666,
             "#ed7953"
            ],
            [
             0.7777777777777778,
             "#fb9f3a"
            ],
            [
             0.8888888888888888,
             "#fdca26"
            ],
            [
             1,
             "#f0f921"
            ]
           ],
           "sequentialminus": [
            [
             0,
             "#0d0887"
            ],
            [
             0.1111111111111111,
             "#46039f"
            ],
            [
             0.2222222222222222,
             "#7201a8"
            ],
            [
             0.3333333333333333,
             "#9c179e"
            ],
            [
             0.4444444444444444,
             "#bd3786"
            ],
            [
             0.5555555555555556,
             "#d8576b"
            ],
            [
             0.6666666666666666,
             "#ed7953"
            ],
            [
             0.7777777777777778,
             "#fb9f3a"
            ],
            [
             0.8888888888888888,
             "#fdca26"
            ],
            [
             1,
             "#f0f921"
            ]
           ]
          },
          "colorway": [
           "#636efa",
           "#EF553B",
           "#00cc96",
           "#ab63fa",
           "#FFA15A",
           "#19d3f3",
           "#FF6692",
           "#B6E880",
           "#FF97FF",
           "#FECB52"
          ],
          "font": {
           "color": "#2a3f5f"
          },
          "geo": {
           "bgcolor": "white",
           "lakecolor": "white",
           "landcolor": "#E5ECF6",
           "showlakes": true,
           "showland": true,
           "subunitcolor": "white"
          },
          "hoverlabel": {
           "align": "left"
          },
          "hovermode": "closest",
          "mapbox": {
           "style": "light"
          },
          "paper_bgcolor": "white",
          "plot_bgcolor": "#E5ECF6",
          "polar": {
           "angularaxis": {
            "gridcolor": "white",
            "linecolor": "white",
            "ticks": ""
           },
           "bgcolor": "#E5ECF6",
           "radialaxis": {
            "gridcolor": "white",
            "linecolor": "white",
            "ticks": ""
           }
          },
          "scene": {
           "xaxis": {
            "backgroundcolor": "#E5ECF6",
            "gridcolor": "white",
            "gridwidth": 2,
            "linecolor": "white",
            "showbackground": true,
            "ticks": "",
            "zerolinecolor": "white"
           },
           "yaxis": {
            "backgroundcolor": "#E5ECF6",
            "gridcolor": "white",
            "gridwidth": 2,
            "linecolor": "white",
            "showbackground": true,
            "ticks": "",
            "zerolinecolor": "white"
           },
           "zaxis": {
            "backgroundcolor": "#E5ECF6",
            "gridcolor": "white",
            "gridwidth": 2,
            "linecolor": "white",
            "showbackground": true,
            "ticks": "",
            "zerolinecolor": "white"
           }
          },
          "shapedefaults": {
           "line": {
            "color": "#2a3f5f"
           }
          },
          "ternary": {
           "aaxis": {
            "gridcolor": "white",
            "linecolor": "white",
            "ticks": ""
           },
           "baxis": {
            "gridcolor": "white",
            "linecolor": "white",
            "ticks": ""
           },
           "bgcolor": "#E5ECF6",
           "caxis": {
            "gridcolor": "white",
            "linecolor": "white",
            "ticks": ""
           }
          },
          "title": {
           "x": 0.05
          },
          "xaxis": {
           "automargin": true,
           "gridcolor": "white",
           "linecolor": "white",
           "ticks": "",
           "title": {
            "standoff": 15
           },
           "zerolinecolor": "white",
           "zerolinewidth": 2
          },
          "yaxis": {
           "automargin": true,
           "gridcolor": "white",
           "linecolor": "white",
           "ticks": "",
           "title": {
            "standoff": 15
           },
           "zerolinecolor": "white",
           "zerolinewidth": 2
          }
         }
        },
        "title": {
         "text": "EUR_NZD_MA_8_16"
        },
        "width": 1000,
        "xaxis": {
         "linecolor": "#3a4a54",
         "linewidth": 1,
         "showgrid": false,
         "zeroline": false
        },
        "yaxis": {
         "linecolor": "#3a4a54",
         "linewidth": 1,
         "showgrid": false,
         "zeroline": false
        }
       }
      }
     },
     "metadata": {},
     "output_type": "display_data"
    },
    {
     "data": {
      "application/vnd.plotly.v1+json": {
       "config": {
        "plotlyServerURL": "https://plot.ly"
       },
       "data": [
        {
         "line": {
          "color": "#3d825f",
          "shape": "spline",
          "width": 2
         },
         "mode": "lines",
         "name": "USD_CHF_MA_8_16",
         "type": "scatter",
         "x": [
          "2022-11-09T22:00:00+00:00",
          "2022-11-10T03:00:00+00:00",
          "2022-11-10T09:00:00+00:00",
          "2022-11-10T15:00:00+00:00",
          "2022-11-14T04:00:00+00:00",
          "2022-11-14T17:00:00+00:00",
          "2022-11-15T03:00:00+00:00",
          "2022-11-15T09:00:00+00:00",
          "2022-11-15T18:00:00+00:00",
          "2022-11-16T09:00:00+00:00",
          "2022-11-16T19:00:00+00:00",
          "2022-11-18T02:00:00+00:00",
          "2022-11-18T14:00:00+00:00",
          "2022-11-22T02:00:00+00:00",
          "2022-11-24T11:00:00+00:00",
          "2022-11-27T22:00:00+00:00",
          "2022-11-28T04:00:00+00:00",
          "2022-11-28T08:00:00+00:00",
          "2022-11-28T18:00:00+00:00",
          "2022-11-29T06:00:00+00:00",
          "2022-11-29T12:00:00+00:00",
          "2022-11-30T07:00:00+00:00",
          "2022-12-01T12:00:00+00:00",
          "2022-12-01T15:00:00+00:00",
          "2022-12-02T06:00:00+00:00",
          "2022-12-02T08:00:00+00:00",
          "2022-12-02T16:00:00+00:00",
          "2022-12-05T01:00:00+00:00",
          "2022-12-05T14:00:00+00:00",
          "2022-12-06T13:00:00+00:00",
          "2022-12-06T22:00:00+00:00",
          "2022-12-07T09:00:00+00:00",
          "2022-12-07T23:00:00+00:00",
          "2022-12-08T12:00:00+00:00",
          "2022-12-09T20:00:00+00:00",
          "2022-12-12T10:00:00+00:00",
          "2022-12-12T19:00:00+00:00",
          "2022-12-13T05:00:00+00:00",
          "2022-12-13T10:00:00+00:00",
          "2022-12-13T13:00:00+00:00",
          "2022-12-14T03:00:00+00:00",
          "2022-12-14T08:00:00+00:00",
          "2022-12-15T04:00:00+00:00",
          "2022-12-16T01:00:00+00:00",
          "2022-12-16T10:00:00+00:00",
          "2022-12-19T06:00:00+00:00",
          "2022-12-19T16:00:00+00:00",
          "2022-12-19T19:00:00+00:00",
          "2022-12-21T04:00:00+00:00",
          "2022-12-21T12:00:00+00:00",
          "2022-12-21T21:00:00+00:00",
          "2022-12-22T01:00:00+00:00",
          "2022-12-22T13:00:00+00:00",
          "2022-12-23T09:00:00+00:00",
          "2022-12-23T16:00:00+00:00",
          "2022-12-27T02:00:00+00:00",
          "2022-12-27T20:00:00+00:00",
          "2022-12-27T21:00:00+00:00",
          "2022-12-27T23:00:00+00:00",
          "2022-12-28T11:00:00+00:00",
          "2022-12-28T22:00:00+00:00",
          "2022-12-29T05:00:00+00:00",
          "2022-12-30T04:00:00+00:00",
          "2022-12-30T14:00:00+00:00",
          "2022-12-30T20:00:00+00:00",
          "2023-01-02T10:00:00+00:00",
          "2023-01-02T14:00:00+00:00",
          "2023-01-03T01:00:00+00:00",
          "2023-01-03T08:00:00+00:00",
          "2023-01-03T23:00:00+00:00",
          "2023-01-04T21:00:00+00:00",
          "2023-01-05T08:00:00+00:00",
          "2023-01-05T15:00:00+00:00",
          "2023-01-06T05:00:00+00:00",
          "2023-01-06T06:00:00+00:00",
          "2023-01-06T16:00:00+00:00",
          "2023-01-10T01:00:00+00:00",
          "2023-01-10T11:00:00+00:00",
          "2023-01-10T12:00:00+00:00",
          "2023-01-11T01:00:00+00:00",
          "2023-01-11T12:00:00+00:00",
          "2023-01-12T15:00:00+00:00",
          "2023-01-13T06:00:00+00:00",
          "2023-01-13T14:00:00+00:00",
          "2023-01-16T11:00:00+00:00",
          "2023-01-16T22:00:00+00:00",
          "2023-01-17T00:00:00+00:00",
          "2023-01-17T01:00:00+00:00",
          "2023-01-17T23:00:00+00:00",
          "2023-01-18T08:00:00+00:00",
          "2023-01-18T22:00:00+00:00",
          "2023-01-19T09:00:00+00:00",
          "2023-01-19T12:00:00+00:00",
          "2023-01-19T20:00:00+00:00",
          "2023-01-20T05:00:00+00:00",
          "2023-01-23T00:00:00+00:00",
          "2023-01-23T13:00:00+00:00",
          "2023-01-24T02:00:00+00:00",
          "2023-01-24T12:00:00+00:00",
          "2023-01-24T22:00:00+00:00",
          "2023-01-25T07:00:00+00:00",
          "2023-01-25T14:00:00+00:00",
          "2023-01-26T09:00:00+00:00",
          "2023-01-29T22:00:00+00:00",
          "2023-01-30T07:00:00+00:00",
          "2023-01-30T10:00:00+00:00",
          "2023-01-30T13:00:00+00:00",
          "2023-01-30T15:00:00+00:00",
          "2023-01-30T17:00:00+00:00",
          "2023-01-31T16:00:00+00:00",
          "2023-02-01T08:00:00+00:00",
          "2023-02-01T10:00:00+00:00",
          "2023-02-02T11:00:00+00:00",
          "2023-02-06T08:00:00+00:00",
          "2023-02-06T16:00:00+00:00",
          "2023-02-07T04:00:00+00:00",
          "2023-02-08T19:00:00+00:00",
          "2023-02-09T06:00:00+00:00",
          "2023-02-09T19:00:00+00:00",
          "2023-02-10T11:00:00+00:00",
          "2023-02-10T14:00:00+00:00",
          "2023-02-13T11:00:00+00:00",
          "2023-02-14T15:00:00+00:00",
          "2023-02-16T01:00:00+00:00",
          "2023-02-16T13:00:00+00:00",
          "2023-02-17T18:00:00+00:00",
          "2023-02-21T01:00:00+00:00",
          "2023-02-22T05:00:00+00:00",
          "2023-02-22T12:00:00+00:00",
          "2023-02-23T06:00:00+00:00",
          "2023-02-23T11:00:00+00:00",
          "2023-02-24T06:00:00+00:00",
          "2023-02-24T07:00:00+00:00",
          "2023-02-27T13:00:00+00:00",
          "2023-02-28T06:00:00+00:00",
          "2023-02-28T17:00:00+00:00",
          "2023-02-28T20:00:00+00:00",
          "2023-03-01T08:00:00+00:00",
          "2023-03-01T19:00:00+00:00",
          "2023-03-02T15:00:00+00:00",
          "2023-03-02T19:00:00+00:00",
          "2023-03-03T01:00:00+00:00",
          "2023-03-07T11:00:00+00:00",
          "2023-03-08T13:00:00+00:00",
          "2023-03-14T01:00:00+00:00",
          "2023-03-14T11:00:00+00:00",
          "2023-03-14T17:00:00+00:00",
          "2023-03-15T03:00:00+00:00",
          "2023-03-15T06:00:00+00:00",
          "2023-03-16T07:00:00+00:00",
          "2023-03-16T17:00:00+00:00",
          "2023-03-17T02:00:00+00:00",
          "2023-03-17T15:00:00+00:00",
          "2023-03-19T23:00:00+00:00",
          "2023-03-20T08:00:00+00:00",
          "2023-03-20T17:00:00+00:00",
          "2023-03-20T21:00:00+00:00",
          "2023-03-21T10:00:00+00:00",
          "2023-03-22T07:00:00+00:00",
          "2023-03-22T18:00:00+00:00",
          "2023-03-23T23:00:00+00:00",
          "2023-03-27T05:00:00+00:00",
          "2023-03-28T09:00:00+00:00",
          "2023-03-29T10:00:00+00:00",
          "2023-03-31T05:00:00+00:00",
          "2023-03-31T06:00:00+00:00",
          "2023-03-31T07:00:00+00:00",
          "2023-03-31T17:00:00+00:00",
          "2023-04-03T00:00:00+00:00",
          "2023-04-03T13:00:00+00:00",
          "2023-04-04T04:00:00+00:00",
          "2023-04-04T09:00:00+00:00",
          "2023-04-05T18:00:00+00:00",
          "2023-04-06T09:00:00+00:00",
          "2023-04-07T04:00:00+00:00",
          "2023-04-07T06:00:00+00:00",
          "2023-04-07T13:00:00+00:00",
          "2023-04-11T01:00:00+00:00",
          "2023-04-13T05:00:00+00:00",
          "2023-04-13T08:00:00+00:00",
          "2023-04-14T00:00:00+00:00",
          "2023-04-14T05:00:00+00:00",
          "2023-04-14T13:00:00+00:00",
          "2023-04-17T06:00:00+00:00",
          "2023-04-17T14:00:00+00:00",
          "2023-04-18T03:00:00+00:00",
          "2023-04-18T18:00:00+00:00",
          "2023-04-18T23:00:00+00:00",
          "2023-04-19T06:00:00+00:00",
          "2023-04-19T18:00:00+00:00",
          "2023-04-21T07:00:00+00:00",
          "2023-04-21T15:00:00+00:00",
          "2023-04-25T11:00:00+00:00",
          "2023-04-26T04:00:00+00:00",
          "2023-04-26T20:00:00+00:00",
          "2023-04-27T05:00:00+00:00",
          "2023-04-27T08:00:00+00:00",
          "2023-04-27T23:00:00+00:00",
          "2023-04-28T08:00:00+00:00",
          "2023-04-28T16:00:00+00:00",
          "2023-05-01T00:00:00+00:00",
          "2023-05-01T09:00:00+00:00",
          "2023-05-01T17:00:00+00:00",
          "2023-05-02T05:00:00+00:00",
          "2023-05-02T08:00:00+00:00",
          "2023-05-02T17:00:00+00:00",
          "2023-05-04T09:00:00+00:00",
          "2023-05-04T21:00:00+00:00",
          "2023-05-05T08:00:00+00:00",
          "2023-05-07T21:00:00+00:00",
          "2023-05-08T15:00:00+00:00",
          "2023-05-09T20:00:00+00:00",
          "2023-05-10T10:00:00+00:00",
          "2023-05-10T13:00:00+00:00",
          "2023-05-10T15:00:00+00:00",
          "2023-05-10T16:00:00+00:00",
          "2023-05-10T22:00:00+00:00",
          "2023-05-10T23:00:00+00:00",
          "2023-05-11T03:00:00+00:00",
          "2023-05-11T04:00:00+00:00",
          "2023-05-11T06:00:00+00:00",
          "2023-05-12T01:00:00+00:00",
          "2023-05-12T13:00:00+00:00",
          "2023-05-15T06:00:00+00:00",
          "2023-05-16T02:00:00+00:00",
          "2023-05-16T07:00:00+00:00",
          "2023-05-16T16:00:00+00:00",
          "2023-05-17T04:00:00+00:00",
          "2023-05-17T07:00:00+00:00",
          "2023-05-17T21:00:00+00:00",
          "2023-05-18T05:00:00+00:00",
          "2023-05-19T04:00:00+00:00",
          "2023-05-22T17:00:00+00:00",
          "2023-05-24T03:00:00+00:00",
          "2023-05-24T09:00:00+00:00",
          "2023-05-26T00:00:00+00:00",
          "2023-05-26T16:00:00+00:00",
          "2023-05-29T05:00:00+00:00",
          "2023-05-29T20:00:00+00:00",
          "2023-05-30T13:00:00+00:00",
          "2023-05-30T18:00:00+00:00",
          "2023-05-31T23:00:00+00:00",
          "2023-06-01T08:00:00+00:00",
          "2023-06-01T09:00:00+00:00",
          "2023-06-02T12:00:00+00:00",
          "2023-06-05T15:00:00+00:00",
          "2023-06-06T11:00:00+00:00",
          "2023-06-06T22:00:00+00:00",
          "2023-06-07T17:00:00+00:00",
          "2023-06-08T05:00:00+00:00",
          "2023-06-09T08:00:00+00:00",
          "2023-06-12T09:00:00+00:00",
          "2023-06-12T11:00:00+00:00",
          "2023-06-13T02:00:00+00:00",
          "2023-06-15T00:00:00+00:00",
          "2023-06-15T13:00:00+00:00",
          "2023-06-16T05:00:00+00:00",
          "2023-06-16T10:00:00+00:00",
          "2023-06-16T15:00:00+00:00",
          "2023-06-20T03:00:00+00:00",
          "2023-06-20T04:00:00+00:00",
          "2023-06-21T00:00:00+00:00",
          "2023-06-21T06:00:00+00:00",
          "2023-06-21T11:00:00+00:00",
          "2023-06-22T09:00:00+00:00",
          "2023-06-23T01:00:00+00:00",
          "2023-06-23T05:00:00+00:00",
          "2023-06-23T17:00:00+00:00",
          "2023-06-26T20:00:00+00:00",
          "2023-06-27T07:00:00+00:00",
          "2023-06-28T03:00:00+00:00",
          "2023-06-28T23:00:00+00:00",
          "2023-06-29T02:00:00+00:00",
          "2023-06-29T11:00:00+00:00",
          "2023-06-29T18:00:00+00:00",
          "2023-06-30T05:00:00+00:00",
          "2023-06-30T09:00:00+00:00"
         ],
         "y": [
          -8.700000000000374,
          -50.60000000000064,
          -258.60000000000105,
          -55.20000000000081,
          -99.0000000000002,
          -127.19999999999953,
          -182.19999999999902,
          -237.7999999999991,
          -283.9999999999998,
          -319.00000000000034,
          -240.00000000000017,
          -259.8,
          -234.40000000000015,
          -92.99999999999974,
          -49.89999999999939,
          -47.999999999999154,
          -102.19999999999897,
          -181.19999999999914,
          -187.99999999999926,
          -200.59999999999965,
          -171.99999999999991,
          -93.79999999999943,
          -148.59999999999872,
          -126.99999999999821,
          -147.99999999999812,
          -167.6999999999984,
          -180.89999999999827,
          -204.19999999999771,
          -195.599999999998,
          -229.09999999999877,
          -233.39999999999918,
          -220.999999999999,
          -223.89999999999912,
          -172.20000000000016,
          -196.5000000000006,
          -240.80000000000103,
          -257.30000000000143,
          -274.0000000000009,
          -386.20000000000095,
          -419.7000000000017,
          -432.4000000000016,
          -415.20000000000107,
          -404.40000000000134,
          -432.40000000000157,
          -410.4000000000018,
          -392.2000000000025,
          -395.40000000000236,
          -380.2000000000016,
          -418.2000000000007,
          -438.5000000000005,
          -455.4000000000002,
          -492.79999999999984,
          -468.39999999999986,
          -490.39999999999964,
          -519.4999999999993,
          -506.9999999999996,
          -506.8000000000005,
          -507.8000000000004,
          -525.4000000000002,
          -535.8000000000006,
          -550.100000000001,
          -511.00000000000136,
          -521.6000000000008,
          -544.2000000000002,
          -546.9000000000001,
          -558.6000000000001,
          -568.6000000000001,
          -674.6000000000007,
          -663.2000000000015,
          -596.9000000000024,
          -618.4000000000033,
          -719.000000000004,
          -718.3000000000038,
          -713.600000000003,
          -791.1000000000022,
          -704.6000000000017,
          -692.0000000000014,
          -716.6000000000015,
          -729.4000000000021,
          -777.4000000000024,
          -769.1000000000024,
          -777.1000000000026,
          -788.000000000003,
          -768.1000000000025,
          -778.3000000000017,
          -779.4000000000011,
          -770.8000000000014,
          -726.4000000000015,
          -794.5000000000013,
          -804.8000000000021,
          -804.2000000000027,
          -814.4000000000028,
          -830.6000000000034,
          -839.0000000000041,
          -819.2000000000043,
          -856.4000000000037,
          -863.4000000000029,
          -901.8000000000025,
          -930.200000000002,
          -946.4000000000016,
          -987.500000000001,
          -982.4000000000009,
          -970.1000000000014,
          -990.700000000002,
          -1032.4000000000021,
          -1071.0000000000018,
          -1067.4000000000015,
          -1073.800000000001,
          -1122.4000000000008,
          -1098.5000000000007,
          -1102.800000000001,
          -1037.200000000001,
          -891.7000000000003,
          -932.3999999999993,
          -942.1999999999991,
          -874.9999999999997,
          -887.8000000000003,
          -922.4000000000004,
          -918.2000000000007,
          -927.0000000000007,
          -935.8000000000006,
          -931.1000000000009,
          -930.8000000000012,
          -954.8000000000019,
          -944.6000000000017,
          -922.4000000000017,
          -894.0000000000022,
          -899.2000000000019,
          -870.0000000000015,
          -892.5000000000013,
          -871.9000000000007,
          -885.7,
          -867.6000000000003,
          -866.6000000000004,
          -865.6000000000005,
          -910.1000000000012,
          -949.8000000000014,
          -974.9000000000016,
          -963.0000000000014,
          -967.7000000000011,
          -974.800000000001,
          -900.9000000000009,
          -819.6000000000012,
          -530.0000000000014,
          -543.6000000000016,
          -564.1000000000016,
          -568.0000000000016,
          -584.6000000000015,
          -487.10000000000116,
          -557.0000000000017,
          -600.4000000000018,
          -611.100000000002,
          -626.0000000000018,
          -642.0000000000011,
          -643.6000000000005,
          -647.3000000000003,
          -681.5000000000001,
          -657.6000000000001,
          -715.6000000000004,
          -711.2000000000004,
          -690.4000000000007,
          -679.3000000000012,
          -676.700000000002,
          -643.6000000000028,
          -653.9000000000036,
          -665.1000000000037,
          -665.2000000000032,
          -685.9000000000034,
          -719.0000000000038,
          -716.0000000000041,
          -733.2000000000046,
          -676.1000000000047,
          -680.2000000000049,
          -673.4000000000048,
          -685.8000000000038,
          -714.8000000000039,
          -695.6000000000047,
          -587.8000000000046,
          -647.200000000004,
          -621.2000000000036,
          -637.4000000000032,
          -678.5000000000026,
          -657.400000000002,
          -707.0000000000017,
          -716.9000000000011,
          -711.7000000000004,
          -721.2000000000005,
          -745.000000000001,
          -753.4000000000017,
          -720.7000000000018,
          -737.2000000000011,
          -694.2000000000003,
          -668.1999999999998,
          -671.3000000000002,
          -679.1000000000003,
          -698.1999999999999,
          -682.8000000000001,
          -699.1999999999998,
          -732.799999999999,
          -760.5999999999991,
          -777.7999999999996,
          -800.7999999999993,
          -798.2999999999985,
          -822.5999999999977,
          -870.1999999999977,
          -809.1999999999978,
          -826.5999999999974,
          -888.399999999997,
          -903.999999999997,
          -895.4999999999968,
          -884.0999999999965,
          -890.3999999999967,
          -919.5999999999971,
          -947.6999999999969,
          -951.799999999996,
          -936.399999999995,
          -933.9999999999948,
          -947.6999999999946,
          -950.5999999999937,
          -980.1999999999932,
          -986.1999999999937,
          -1014.9999999999936,
          -1002.199999999993,
          -981.5999999999924,
          -1001.5999999999924,
          -1033.4999999999927,
          -1035.7999999999922,
          -1060.0999999999915,
          -1059.999999999991,
          -1074.1999999999907,
          -1021.4999999999908,
          -944.9999999999903,
          -909.9999999999898,
          -925.7999999999901,
          -897.99999999999,
          -900.3999999999891,
          -907.9999999999889,
          -905.6999999999894,
          -914.9999999999892,
          -941.9999999999884,
          -904.3999999999875,
          -904.9999999999869,
          -921.1999999999865,
          -910.3999999999857,
          -925.7999999999855,
          -950.0999999999859,
          -957.9999999999866,
          -978.8999999999869,
          -980.3999999999868,
          -891.1999999999864,
          -865.199999999986,
          -891.7999999999859,
          -871.5999999999856,
          -801.5999999999856,
          -849.7999999999861,
          -808.7999999999862,
          -805.9999999999857,
          -828.2999999999852,
          -805.9999999999857,
          -812.3999999999866,
          -803.3999999999864,
          -810.1999999999855,
          -824.7999999999846,
          -785.1999999999839,
          -757.9999999999834,
          -770.5999999999826,
          -771.1999999999821,
          -754.7999999999823,
          -767.4999999999823,
          -765.1999999999816,
          -739.1999999999812,
          -753.399999999981,
          -790.4999999999809,
          -843.7999999999804,
          -856.5999999999799,
          -887.7999999999801,
          -957.1999999999806
         ]
        }
       ],
       "layout": {
        "font": {
         "color": "#e1e1e1",
         "size": 10
        },
        "height": 400,
        "margin": {
         "b": 10,
         "l": 15,
         "r": 15
        },
        "paper_bgcolor": "#1e1e1e",
        "plot_bgcolor": "#1e1e1e",
        "template": {
         "data": {
          "bar": [
           {
            "error_x": {
             "color": "#2a3f5f"
            },
            "error_y": {
             "color": "#2a3f5f"
            },
            "marker": {
             "line": {
              "color": "#E5ECF6",
              "width": 0.5
             },
             "pattern": {
              "fillmode": "overlay",
              "size": 10,
              "solidity": 0.2
             }
            },
            "type": "bar"
           }
          ],
          "barpolar": [
           {
            "marker": {
             "line": {
              "color": "#E5ECF6",
              "width": 0.5
             },
             "pattern": {
              "fillmode": "overlay",
              "size": 10,
              "solidity": 0.2
             }
            },
            "type": "barpolar"
           }
          ],
          "carpet": [
           {
            "aaxis": {
             "endlinecolor": "#2a3f5f",
             "gridcolor": "white",
             "linecolor": "white",
             "minorgridcolor": "white",
             "startlinecolor": "#2a3f5f"
            },
            "baxis": {
             "endlinecolor": "#2a3f5f",
             "gridcolor": "white",
             "linecolor": "white",
             "minorgridcolor": "white",
             "startlinecolor": "#2a3f5f"
            },
            "type": "carpet"
           }
          ],
          "choropleth": [
           {
            "colorbar": {
             "outlinewidth": 0,
             "ticks": ""
            },
            "type": "choropleth"
           }
          ],
          "contour": [
           {
            "colorbar": {
             "outlinewidth": 0,
             "ticks": ""
            },
            "colorscale": [
             [
              0,
              "#0d0887"
             ],
             [
              0.1111111111111111,
              "#46039f"
             ],
             [
              0.2222222222222222,
              "#7201a8"
             ],
             [
              0.3333333333333333,
              "#9c179e"
             ],
             [
              0.4444444444444444,
              "#bd3786"
             ],
             [
              0.5555555555555556,
              "#d8576b"
             ],
             [
              0.6666666666666666,
              "#ed7953"
             ],
             [
              0.7777777777777778,
              "#fb9f3a"
             ],
             [
              0.8888888888888888,
              "#fdca26"
             ],
             [
              1,
              "#f0f921"
             ]
            ],
            "type": "contour"
           }
          ],
          "contourcarpet": [
           {
            "colorbar": {
             "outlinewidth": 0,
             "ticks": ""
            },
            "type": "contourcarpet"
           }
          ],
          "heatmap": [
           {
            "colorbar": {
             "outlinewidth": 0,
             "ticks": ""
            },
            "colorscale": [
             [
              0,
              "#0d0887"
             ],
             [
              0.1111111111111111,
              "#46039f"
             ],
             [
              0.2222222222222222,
              "#7201a8"
             ],
             [
              0.3333333333333333,
              "#9c179e"
             ],
             [
              0.4444444444444444,
              "#bd3786"
             ],
             [
              0.5555555555555556,
              "#d8576b"
             ],
             [
              0.6666666666666666,
              "#ed7953"
             ],
             [
              0.7777777777777778,
              "#fb9f3a"
             ],
             [
              0.8888888888888888,
              "#fdca26"
             ],
             [
              1,
              "#f0f921"
             ]
            ],
            "type": "heatmap"
           }
          ],
          "heatmapgl": [
           {
            "colorbar": {
             "outlinewidth": 0,
             "ticks": ""
            },
            "colorscale": [
             [
              0,
              "#0d0887"
             ],
             [
              0.1111111111111111,
              "#46039f"
             ],
             [
              0.2222222222222222,
              "#7201a8"
             ],
             [
              0.3333333333333333,
              "#9c179e"
             ],
             [
              0.4444444444444444,
              "#bd3786"
             ],
             [
              0.5555555555555556,
              "#d8576b"
             ],
             [
              0.6666666666666666,
              "#ed7953"
             ],
             [
              0.7777777777777778,
              "#fb9f3a"
             ],
             [
              0.8888888888888888,
              "#fdca26"
             ],
             [
              1,
              "#f0f921"
             ]
            ],
            "type": "heatmapgl"
           }
          ],
          "histogram": [
           {
            "marker": {
             "pattern": {
              "fillmode": "overlay",
              "size": 10,
              "solidity": 0.2
             }
            },
            "type": "histogram"
           }
          ],
          "histogram2d": [
           {
            "colorbar": {
             "outlinewidth": 0,
             "ticks": ""
            },
            "colorscale": [
             [
              0,
              "#0d0887"
             ],
             [
              0.1111111111111111,
              "#46039f"
             ],
             [
              0.2222222222222222,
              "#7201a8"
             ],
             [
              0.3333333333333333,
              "#9c179e"
             ],
             [
              0.4444444444444444,
              "#bd3786"
             ],
             [
              0.5555555555555556,
              "#d8576b"
             ],
             [
              0.6666666666666666,
              "#ed7953"
             ],
             [
              0.7777777777777778,
              "#fb9f3a"
             ],
             [
              0.8888888888888888,
              "#fdca26"
             ],
             [
              1,
              "#f0f921"
             ]
            ],
            "type": "histogram2d"
           }
          ],
          "histogram2dcontour": [
           {
            "colorbar": {
             "outlinewidth": 0,
             "ticks": ""
            },
            "colorscale": [
             [
              0,
              "#0d0887"
             ],
             [
              0.1111111111111111,
              "#46039f"
             ],
             [
              0.2222222222222222,
              "#7201a8"
             ],
             [
              0.3333333333333333,
              "#9c179e"
             ],
             [
              0.4444444444444444,
              "#bd3786"
             ],
             [
              0.5555555555555556,
              "#d8576b"
             ],
             [
              0.6666666666666666,
              "#ed7953"
             ],
             [
              0.7777777777777778,
              "#fb9f3a"
             ],
             [
              0.8888888888888888,
              "#fdca26"
             ],
             [
              1,
              "#f0f921"
             ]
            ],
            "type": "histogram2dcontour"
           }
          ],
          "mesh3d": [
           {
            "colorbar": {
             "outlinewidth": 0,
             "ticks": ""
            },
            "type": "mesh3d"
           }
          ],
          "parcoords": [
           {
            "line": {
             "colorbar": {
              "outlinewidth": 0,
              "ticks": ""
             }
            },
            "type": "parcoords"
           }
          ],
          "pie": [
           {
            "automargin": true,
            "type": "pie"
           }
          ],
          "scatter": [
           {
            "fillpattern": {
             "fillmode": "overlay",
             "size": 10,
             "solidity": 0.2
            },
            "type": "scatter"
           }
          ],
          "scatter3d": [
           {
            "line": {
             "colorbar": {
              "outlinewidth": 0,
              "ticks": ""
             }
            },
            "marker": {
             "colorbar": {
              "outlinewidth": 0,
              "ticks": ""
             }
            },
            "type": "scatter3d"
           }
          ],
          "scattercarpet": [
           {
            "marker": {
             "colorbar": {
              "outlinewidth": 0,
              "ticks": ""
             }
            },
            "type": "scattercarpet"
           }
          ],
          "scattergeo": [
           {
            "marker": {
             "colorbar": {
              "outlinewidth": 0,
              "ticks": ""
             }
            },
            "type": "scattergeo"
           }
          ],
          "scattergl": [
           {
            "marker": {
             "colorbar": {
              "outlinewidth": 0,
              "ticks": ""
             }
            },
            "type": "scattergl"
           }
          ],
          "scattermapbox": [
           {
            "marker": {
             "colorbar": {
              "outlinewidth": 0,
              "ticks": ""
             }
            },
            "type": "scattermapbox"
           }
          ],
          "scatterpolar": [
           {
            "marker": {
             "colorbar": {
              "outlinewidth": 0,
              "ticks": ""
             }
            },
            "type": "scatterpolar"
           }
          ],
          "scatterpolargl": [
           {
            "marker": {
             "colorbar": {
              "outlinewidth": 0,
              "ticks": ""
             }
            },
            "type": "scatterpolargl"
           }
          ],
          "scatterternary": [
           {
            "marker": {
             "colorbar": {
              "outlinewidth": 0,
              "ticks": ""
             }
            },
            "type": "scatterternary"
           }
          ],
          "surface": [
           {
            "colorbar": {
             "outlinewidth": 0,
             "ticks": ""
            },
            "colorscale": [
             [
              0,
              "#0d0887"
             ],
             [
              0.1111111111111111,
              "#46039f"
             ],
             [
              0.2222222222222222,
              "#7201a8"
             ],
             [
              0.3333333333333333,
              "#9c179e"
             ],
             [
              0.4444444444444444,
              "#bd3786"
             ],
             [
              0.5555555555555556,
              "#d8576b"
             ],
             [
              0.6666666666666666,
              "#ed7953"
             ],
             [
              0.7777777777777778,
              "#fb9f3a"
             ],
             [
              0.8888888888888888,
              "#fdca26"
             ],
             [
              1,
              "#f0f921"
             ]
            ],
            "type": "surface"
           }
          ],
          "table": [
           {
            "cells": {
             "fill": {
              "color": "#EBF0F8"
             },
             "line": {
              "color": "white"
             }
            },
            "header": {
             "fill": {
              "color": "#C8D4E3"
             },
             "line": {
              "color": "white"
             }
            },
            "type": "table"
           }
          ]
         },
         "layout": {
          "annotationdefaults": {
           "arrowcolor": "#2a3f5f",
           "arrowhead": 0,
           "arrowwidth": 1
          },
          "autotypenumbers": "strict",
          "coloraxis": {
           "colorbar": {
            "outlinewidth": 0,
            "ticks": ""
           }
          },
          "colorscale": {
           "diverging": [
            [
             0,
             "#8e0152"
            ],
            [
             0.1,
             "#c51b7d"
            ],
            [
             0.2,
             "#de77ae"
            ],
            [
             0.3,
             "#f1b6da"
            ],
            [
             0.4,
             "#fde0ef"
            ],
            [
             0.5,
             "#f7f7f7"
            ],
            [
             0.6,
             "#e6f5d0"
            ],
            [
             0.7,
             "#b8e186"
            ],
            [
             0.8,
             "#7fbc41"
            ],
            [
             0.9,
             "#4d9221"
            ],
            [
             1,
             "#276419"
            ]
           ],
           "sequential": [
            [
             0,
             "#0d0887"
            ],
            [
             0.1111111111111111,
             "#46039f"
            ],
            [
             0.2222222222222222,
             "#7201a8"
            ],
            [
             0.3333333333333333,
             "#9c179e"
            ],
            [
             0.4444444444444444,
             "#bd3786"
            ],
            [
             0.5555555555555556,
             "#d8576b"
            ],
            [
             0.6666666666666666,
             "#ed7953"
            ],
            [
             0.7777777777777778,
             "#fb9f3a"
            ],
            [
             0.8888888888888888,
             "#fdca26"
            ],
            [
             1,
             "#f0f921"
            ]
           ],
           "sequentialminus": [
            [
             0,
             "#0d0887"
            ],
            [
             0.1111111111111111,
             "#46039f"
            ],
            [
             0.2222222222222222,
             "#7201a8"
            ],
            [
             0.3333333333333333,
             "#9c179e"
            ],
            [
             0.4444444444444444,
             "#bd3786"
            ],
            [
             0.5555555555555556,
             "#d8576b"
            ],
            [
             0.6666666666666666,
             "#ed7953"
            ],
            [
             0.7777777777777778,
             "#fb9f3a"
            ],
            [
             0.8888888888888888,
             "#fdca26"
            ],
            [
             1,
             "#f0f921"
            ]
           ]
          },
          "colorway": [
           "#636efa",
           "#EF553B",
           "#00cc96",
           "#ab63fa",
           "#FFA15A",
           "#19d3f3",
           "#FF6692",
           "#B6E880",
           "#FF97FF",
           "#FECB52"
          ],
          "font": {
           "color": "#2a3f5f"
          },
          "geo": {
           "bgcolor": "white",
           "lakecolor": "white",
           "landcolor": "#E5ECF6",
           "showlakes": true,
           "showland": true,
           "subunitcolor": "white"
          },
          "hoverlabel": {
           "align": "left"
          },
          "hovermode": "closest",
          "mapbox": {
           "style": "light"
          },
          "paper_bgcolor": "white",
          "plot_bgcolor": "#E5ECF6",
          "polar": {
           "angularaxis": {
            "gridcolor": "white",
            "linecolor": "white",
            "ticks": ""
           },
           "bgcolor": "#E5ECF6",
           "radialaxis": {
            "gridcolor": "white",
            "linecolor": "white",
            "ticks": ""
           }
          },
          "scene": {
           "xaxis": {
            "backgroundcolor": "#E5ECF6",
            "gridcolor": "white",
            "gridwidth": 2,
            "linecolor": "white",
            "showbackground": true,
            "ticks": "",
            "zerolinecolor": "white"
           },
           "yaxis": {
            "backgroundcolor": "#E5ECF6",
            "gridcolor": "white",
            "gridwidth": 2,
            "linecolor": "white",
            "showbackground": true,
            "ticks": "",
            "zerolinecolor": "white"
           },
           "zaxis": {
            "backgroundcolor": "#E5ECF6",
            "gridcolor": "white",
            "gridwidth": 2,
            "linecolor": "white",
            "showbackground": true,
            "ticks": "",
            "zerolinecolor": "white"
           }
          },
          "shapedefaults": {
           "line": {
            "color": "#2a3f5f"
           }
          },
          "ternary": {
           "aaxis": {
            "gridcolor": "white",
            "linecolor": "white",
            "ticks": ""
           },
           "baxis": {
            "gridcolor": "white",
            "linecolor": "white",
            "ticks": ""
           },
           "bgcolor": "#E5ECF6",
           "caxis": {
            "gridcolor": "white",
            "linecolor": "white",
            "ticks": ""
           }
          },
          "title": {
           "x": 0.05
          },
          "xaxis": {
           "automargin": true,
           "gridcolor": "white",
           "linecolor": "white",
           "ticks": "",
           "title": {
            "standoff": 15
           },
           "zerolinecolor": "white",
           "zerolinewidth": 2
          },
          "yaxis": {
           "automargin": true,
           "gridcolor": "white",
           "linecolor": "white",
           "ticks": "",
           "title": {
            "standoff": 15
           },
           "zerolinecolor": "white",
           "zerolinewidth": 2
          }
         }
        },
        "title": {
         "text": "USD_CHF_MA_8_16"
        },
        "width": 1000,
        "xaxis": {
         "linecolor": "#3a4a54",
         "linewidth": 1,
         "showgrid": false,
         "zeroline": false
        },
        "yaxis": {
         "linecolor": "#3a4a54",
         "linewidth": 1,
         "showgrid": false,
         "zeroline": false
        }
       }
      }
     },
     "metadata": {},
     "output_type": "display_data"
    },
    {
     "data": {
      "application/vnd.plotly.v1+json": {
       "config": {
        "plotlyServerURL": "https://plot.ly"
       },
       "data": [
        {
         "line": {
          "color": "#3d825f",
          "shape": "spline",
          "width": 2
         },
         "mode": "lines",
         "name": "CAD_JPY_MA_8_16",
         "type": "scatter",
         "x": [
          "2022-11-09T22:00:00+00:00",
          "2022-11-11T04:00:00+00:00",
          "2022-11-11T09:00:00+00:00",
          "2022-11-14T02:00:00+00:00",
          "2022-11-14T21:00:00+00:00",
          "2022-11-15T06:00:00+00:00",
          "2022-11-15T11:00:00+00:00",
          "2022-11-15T23:00:00+00:00",
          "2022-11-16T15:00:00+00:00",
          "2022-11-17T12:00:00+00:00",
          "2022-11-18T05:00:00+00:00",
          "2022-11-20T23:00:00+00:00",
          "2022-11-21T06:00:00+00:00",
          "2022-11-21T09:00:00+00:00",
          "2022-11-22T07:00:00+00:00",
          "2022-11-22T22:00:00+00:00",
          "2022-11-23T10:00:00+00:00",
          "2022-11-24T21:00:00+00:00",
          "2022-11-25T19:00:00+00:00",
          "2022-11-28T16:00:00+00:00",
          "2022-11-29T01:00:00+00:00",
          "2022-11-29T07:00:00+00:00",
          "2022-11-29T11:00:00+00:00",
          "2022-11-30T02:00:00+00:00",
          "2022-11-30T23:00:00+00:00",
          "2022-12-02T19:00:00+00:00",
          "2022-12-04T22:00:00+00:00",
          "2022-12-05T05:00:00+00:00",
          "2022-12-05T21:00:00+00:00",
          "2022-12-06T06:00:00+00:00",
          "2022-12-06T11:00:00+00:00",
          "2022-12-06T23:00:00+00:00",
          "2022-12-07T14:00:00+00:00",
          "2022-12-08T06:00:00+00:00",
          "2022-12-09T02:00:00+00:00",
          "2022-12-09T19:00:00+00:00",
          "2022-12-12T14:00:00+00:00",
          "2022-12-12T15:00:00+00:00",
          "2022-12-13T13:00:00+00:00",
          "2022-12-14T04:00:00+00:00",
          "2022-12-14T05:00:00+00:00",
          "2022-12-14T22:00:00+00:00",
          "2022-12-16T04:00:00+00:00",
          "2022-12-19T12:00:00+00:00",
          "2022-12-20T03:00:00+00:00",
          "2022-12-21T02:00:00+00:00",
          "2022-12-21T11:00:00+00:00",
          "2022-12-21T17:00:00+00:00",
          "2022-12-22T04:00:00+00:00",
          "2022-12-22T13:00:00+00:00",
          "2022-12-22T15:00:00+00:00",
          "2022-12-23T01:00:00+00:00",
          "2022-12-28T15:00:00+00:00",
          "2023-01-03T14:00:00+00:00",
          "2023-01-03T16:00:00+00:00",
          "2023-01-04T00:00:00+00:00",
          "2023-01-05T05:00:00+00:00",
          "2023-01-05T11:00:00+00:00",
          "2023-01-05T22:00:00+00:00",
          "2023-01-06T02:00:00+00:00",
          "2023-01-06T15:00:00+00:00",
          "2023-01-09T07:00:00+00:00",
          "2023-01-09T19:00:00+00:00",
          "2023-01-10T07:00:00+00:00",
          "2023-01-10T18:00:00+00:00",
          "2023-01-11T04:00:00+00:00",
          "2023-01-11T21:00:00+00:00",
          "2023-01-16T03:00:00+00:00",
          "2023-01-17T00:00:00+00:00",
          "2023-01-17T04:00:00+00:00",
          "2023-01-17T12:00:00+00:00",
          "2023-01-18T02:00:00+00:00",
          "2023-01-18T13:00:00+00:00",
          "2023-01-19T14:00:00+00:00",
          "2023-01-23T03:00:00+00:00",
          "2023-01-23T06:00:00+00:00",
          "2023-01-24T04:00:00+00:00",
          "2023-01-24T16:00:00+00:00",
          "2023-01-24T21:00:00+00:00",
          "2023-01-25T03:00:00+00:00",
          "2023-01-25T11:00:00+00:00",
          "2023-01-26T10:00:00+00:00",
          "2023-01-27T04:00:00+00:00",
          "2023-01-27T12:00:00+00:00",
          "2023-01-30T05:00:00+00:00",
          "2023-01-30T15:00:00+00:00",
          "2023-01-30T23:00:00+00:00",
          "2023-01-31T17:00:00+00:00",
          "2023-02-01T07:00:00+00:00",
          "2023-02-01T10:00:00+00:00",
          "2023-02-01T12:00:00+00:00",
          "2023-02-02T10:00:00+00:00",
          "2023-02-02T16:00:00+00:00",
          "2023-02-03T03:00:00+00:00",
          "2023-02-03T04:00:00+00:00",
          "2023-02-03T15:00:00+00:00",
          "2023-02-06T11:00:00+00:00",
          "2023-02-06T15:00:00+00:00",
          "2023-02-07T03:00:00+00:00",
          "2023-02-08T03:00:00+00:00",
          "2023-02-08T12:00:00+00:00",
          "2023-02-09T06:00:00+00:00",
          "2023-02-09T09:00:00+00:00",
          "2023-02-09T21:00:00+00:00",
          "2023-02-10T07:00:00+00:00",
          "2023-02-10T16:00:00+00:00",
          "2023-02-14T00:00:00+00:00",
          "2023-02-14T14:00:00+00:00",
          "2023-02-15T05:00:00+00:00",
          "2023-02-15T11:00:00+00:00",
          "2023-02-16T04:00:00+00:00",
          "2023-02-17T05:00:00+00:00",
          "2023-02-17T14:00:00+00:00",
          "2023-02-20T03:00:00+00:00",
          "2023-02-20T09:00:00+00:00",
          "2023-02-20T12:00:00+00:00",
          "2023-02-21T06:00:00+00:00",
          "2023-02-21T09:00:00+00:00",
          "2023-02-21T19:00:00+00:00",
          "2023-02-22T21:00:00+00:00",
          "2023-02-23T16:00:00+00:00",
          "2023-02-24T05:00:00+00:00",
          "2023-02-27T06:00:00+00:00",
          "2023-02-27T12:00:00+00:00",
          "2023-02-28T17:00:00+00:00",
          "2023-03-01T05:00:00+00:00",
          "2023-03-01T12:00:00+00:00",
          "2023-03-01T20:00:00+00:00",
          "2023-03-03T09:00:00+00:00",
          "2023-03-06T11:00:00+00:00",
          "2023-03-06T18:00:00+00:00",
          "2023-03-07T01:00:00+00:00",
          "2023-03-07T08:00:00+00:00",
          "2023-03-08T00:00:00+00:00",
          "2023-03-08T13:00:00+00:00",
          "2023-03-10T08:00:00+00:00",
          "2023-03-10T15:00:00+00:00",
          "2023-03-13T04:00:00+00:00",
          "2023-03-13T10:00:00+00:00",
          "2023-03-13T22:00:00+00:00",
          "2023-03-15T01:00:00+00:00",
          "2023-03-15T05:00:00+00:00",
          "2023-03-15T11:00:00+00:00",
          "2023-03-16T00:00:00+00:00",
          "2023-03-16T06:00:00+00:00",
          "2023-03-16T17:00:00+00:00",
          "2023-03-17T06:00:00+00:00",
          "2023-03-20T02:00:00+00:00",
          "2023-03-20T07:00:00+00:00",
          "2023-03-20T16:00:00+00:00",
          "2023-03-21T01:00:00+00:00",
          "2023-03-21T09:00:00+00:00",
          "2023-03-21T20:00:00+00:00",
          "2023-03-22T01:00:00+00:00",
          "2023-03-22T18:00:00+00:00",
          "2023-03-23T09:00:00+00:00",
          "2023-03-23T19:00:00+00:00",
          "2023-03-24T18:00:00+00:00",
          "2023-03-28T02:00:00+00:00",
          "2023-03-28T16:00:00+00:00",
          "2023-03-30T05:00:00+00:00",
          "2023-03-30T11:00:00+00:00",
          "2023-03-31T14:00:00+00:00",
          "2023-03-31T15:00:00+00:00",
          "2023-03-31T16:00:00+00:00",
          "2023-04-02T23:00:00+00:00",
          "2023-04-03T16:00:00+00:00",
          "2023-04-04T03:00:00+00:00",
          "2023-04-04T15:00:00+00:00",
          "2023-04-06T01:00:00+00:00",
          "2023-04-06T04:00:00+00:00",
          "2023-04-06T10:00:00+00:00",
          "2023-04-07T01:00:00+00:00",
          "2023-04-07T14:00:00+00:00",
          "2023-04-07T15:00:00+00:00",
          "2023-04-07T16:00:00+00:00",
          "2023-04-11T05:00:00+00:00",
          "2023-04-11T16:00:00+00:00",
          "2023-04-12T12:00:00+00:00",
          "2023-04-13T03:00:00+00:00",
          "2023-04-13T16:00:00+00:00",
          "2023-04-13T21:00:00+00:00",
          "2023-04-14T07:00:00+00:00",
          "2023-04-14T10:00:00+00:00",
          "2023-04-17T14:00:00+00:00",
          "2023-04-17T19:00:00+00:00",
          "2023-04-18T10:00:00+00:00",
          "2023-04-19T03:00:00+00:00",
          "2023-04-19T15:00:00+00:00",
          "2023-04-21T18:00:00+00:00",
          "2023-04-24T01:00:00+00:00",
          "2023-04-24T07:00:00+00:00",
          "2023-04-24T20:00:00+00:00",
          "2023-04-26T16:00:00+00:00",
          "2023-04-27T00:00:00+00:00",
          "2023-04-27T07:00:00+00:00",
          "2023-05-02T11:00:00+00:00",
          "2023-05-04T10:00:00+00:00",
          "2023-05-04T14:00:00+00:00",
          "2023-05-04T21:00:00+00:00",
          "2023-05-08T19:00:00+00:00",
          "2023-05-09T05:00:00+00:00",
          "2023-05-09T06:00:00+00:00",
          "2023-05-09T18:00:00+00:00",
          "2023-05-10T09:00:00+00:00",
          "2023-05-10T11:00:00+00:00",
          "2023-05-10T12:00:00+00:00",
          "2023-05-11T09:00:00+00:00",
          "2023-05-11T11:00:00+00:00",
          "2023-05-12T02:00:00+00:00",
          "2023-05-16T05:00:00+00:00",
          "2023-05-16T13:00:00+00:00",
          "2023-05-17T00:00:00+00:00",
          "2023-05-17T06:00:00+00:00",
          "2023-05-18T04:00:00+00:00",
          "2023-05-18T11:00:00+00:00",
          "2023-05-19T05:00:00+00:00",
          "2023-05-19T14:00:00+00:00",
          "2023-05-19T15:00:00+00:00",
          "2023-05-22T10:00:00+00:00",
          "2023-05-23T08:00:00+00:00",
          "2023-05-23T17:00:00+00:00",
          "2023-05-24T02:00:00+00:00",
          "2023-05-24T19:00:00+00:00",
          "2023-05-25T17:00:00+00:00",
          "2023-05-25T19:00:00+00:00",
          "2023-05-25T20:00:00+00:00",
          "2023-05-25T21:00:00+00:00",
          "2023-05-26T02:00:00+00:00",
          "2023-05-26T12:00:00+00:00",
          "2023-05-29T07:00:00+00:00",
          "2023-05-29T20:00:00+00:00",
          "2023-05-30T04:00:00+00:00",
          "2023-05-31T14:00:00+00:00",
          "2023-06-05T14:00:00+00:00",
          "2023-06-06T07:00:00+00:00",
          "2023-06-07T02:00:00+00:00",
          "2023-06-07T13:00:00+00:00",
          "2023-06-08T05:00:00+00:00",
          "2023-06-09T03:00:00+00:00",
          "2023-06-09T19:00:00+00:00",
          "2023-06-12T02:00:00+00:00",
          "2023-06-12T04:00:00+00:00",
          "2023-06-12T05:00:00+00:00",
          "2023-06-12T15:00:00+00:00",
          "2023-06-13T09:00:00+00:00",
          "2023-06-14T05:00:00+00:00",
          "2023-06-14T10:00:00+00:00",
          "2023-06-14T12:00:00+00:00",
          "2023-06-15T01:00:00+00:00",
          "2023-06-19T04:00:00+00:00",
          "2023-06-19T11:00:00+00:00",
          "2023-06-19T20:00:00+00:00",
          "2023-06-20T01:00:00+00:00",
          "2023-06-20T02:00:00+00:00",
          "2023-06-21T00:00:00+00:00",
          "2023-06-22T04:00:00+00:00",
          "2023-06-22T07:00:00+00:00",
          "2023-06-23T05:00:00+00:00",
          "2023-06-23T16:00:00+00:00",
          "2023-06-26T05:00:00+00:00",
          "2023-06-26T16:00:00+00:00",
          "2023-06-27T14:00:00+00:00",
          "2023-06-27T21:00:00+00:00",
          "2023-06-27T22:00:00+00:00",
          "2023-06-28T23:00:00+00:00",
          "2023-06-29T03:00:00+00:00",
          "2023-06-29T13:00:00+00:00"
         ],
         "y": [
          188.5000000000005,
          81.70000000000073,
          117.50000000000114,
          131.90000000000168,
          80.80000000000211,
          -2.4999999999977263,
          4.100000000002524,
          4.300000000002058,
          -7.599999999999341,
          8.29999999999984,
          20.699999999999363,
          26.099999999999568,
          -38.700000000000045,
          -30.100000000000193,
          -26.900000000000546,
          -44.90000000000123,
          102.49999999999915,
          104.29999999999922,
          178.09999999999917,
          163.40000000000003,
          171.09999999999985,
          133.0999999999989,
          179.69999999999828,
          203.49999999999824,
          456.2999999999988,
          445.5999999999989,
          384.099999999998,
          410.89999999999804,
          375.6999999999991,
          287.69999999999953,
          270.49999999999983,
          257.0999999999998,
          259.29999999999893,
          261.89999999999856,
          262.9999999999981,
          279.69999999999686,
          263.09999999999576,
          195.9999999999951,
          185.69999999999425,
          175.79999999999387,
          155.0999999999945,
          209.39999999999515,
          278.4999999999954,
          52.69999999999584,
          109.89999999999611,
          79.29999999999637,
          27.199999999996294,
          1.0999999999953047,
          -6.000000000004491,
          -29.60000000000349,
          -73.40000000000373,
          76.19999999999578,
          390.2999999999963,
          402.99999999999727,
          384.999999999998,
          607.6999999999985,
          616.0999999999988,
          641.8999999999983,
          614.0999999999976,
          577.1999999999977,
          543.6999999999982,
          529.299999999999,
          503.89999999999856,
          488.899999999998,
          493.49999999999864,
          515.299999999999,
          848.899999999999,
          893.5999999999992,
          873.9999999999994,
          861.4999999999994,
          702.4999999999991,
          522.9999999999989,
          566.9999999999986,
          709.8999999999988,
          648.1999999999998,
          668.5000000000001,
          687.9000000000003,
          697.4000000000002,
          662.0999999999993,
          587.0999999999993,
          598.4999999999998,
          658.1000000000001,
          659.0000000000002,
          637.3999999999994,
          595.8999999999987,
          577.6999999999985,
          553.499999999998,
          560.2999999999977,
          585.3999999999982,
          584.6999999999991,
          642.7000000000004,
          592.1000000000004,
          592.4999999999994,
          591.8999999999994,
          431.699999999999,
          460.0999999999982,
          419.7999999999976,
          402.699999999997,
          467.8999999999971,
          458.0999999999972,
          466.099999999997,
          454.19999999999703,
          440.3999999999965,
          367.89999999999566,
          229.49999999999562,
          295.29999999999575,
          253.09999999999604,
          263.89999999999645,
          269.4999999999962,
          320.69999999999624,
          335.49999999999585,
          303.69999999999465,
          305.4999999999947,
          313.9999999999955,
          320.4999999999953,
          345.59999999999434,
          326.29999999999313,
          294.09999999999286,
          309.69999999999345,
          290.8999999999932,
          290.2999999999932,
          366.09999999999417,
          350.89999999999407,
          296.19999999999294,
          253.49999999999227,
          200.9999999999917,
          149.2999999999907,
          172.69999999999015,
          219.09999999999002,
          217.89999999998997,
          212.0999999999907,
          169.79999999999194,
          139.4999999999922,
          112.49999999999119,
          212.19999999999118,
          102.39999999999128,
          78.29999999999131,
          -3.9000000000075374,
          -9.900000000006344,
          110.2999999999949,
          93.69999999999521,
          -37.40000000000549,
          -36.50000000000546,
          -78.60000000000468,
          -157.70000000000437,
          -194.70000000000482,
          -135.3000000000054,
          -228.50000000000563,
          -305.10000000000616,
          -335.1000000000073,
          -411.00000000000733,
          -423.3000000000064,
          -438.700000000006,
          -514.1000000000065,
          -503.50000000000705,
          -574.600000000007,
          -569.9000000000073,
          -502.1000000000075,
          -547.8000000000069,
          -398.0000000000064,
          -415.9000000000066,
          -376.5000000000075,
          -358.50000000000824,
          -355.50000000000813,
          -412.3000000000079,
          -420.30000000000774,
          -440.50000000000756,
          -545.9000000000078,
          -496.40000000000737,
          -503.3000000000062,
          -535.3000000000055,
          -535.400000000006,
          -556.7000000000069,
          -559.700000000007,
          -567.7000000000069,
          -473.50000000000614,
          -512.9000000000053,
          -540.9000000000054,
          -570.7000000000056,
          -569.5000000000056,
          -587.9000000000053,
          -601.4000000000044,
          -626.600000000004,
          -538.0000000000044,
          -538.1000000000049,
          -549.3000000000044,
          -547.8000000000043,
          -555.2000000000055,
          -443.0000000000055,
          -449.30000000000433,
          -459.70000000000425,
          -456.1000000000041,
          -371.10000000000326,
          -407.1000000000032,
          -426.8000000000035,
          -118.40000000000316,
          126.6999999999976,
          104.69999999999771,
          43.69999999999777,
          231.99999999999875,
          251.399999999999,
          246.59999999999883,
          222.09999999999837,
          213.99999999999807,
          200.49999999999898,
          166.50000000000006,
          194.50000000000017,
          139.89999999999952,
          150.49999999999898,
          248.49999999999937,
          181.29999999999967,
          160.29999999999887,
          144.49999999999875,
          217.89999999999964,
          205.30000000000058,
          225.40000000000134,
          218.70000000000203,
          156.50000000000205,
          135.7000000000022,
          146.10000000000213,
          104.80000000000103,
          87.89999999999992,
          89.79999999999905,
          111.29999999999939,
          98.1000000000003,
          82.70000000000067,
          80.9000000000006,
          63.7000000000009,
          35.60000000000173,
          87.90000000000276,
          84.10000000000309,
          70.40000000000305,
          111.8000000000032,
          227.70000000000238,
          233.10000000000116,
          228.30000000000098,
          226.2000000000009,
          304.10000000000053,
          351.9,
          382.69999999999925,
          380.4999999999987,
          373.9999999999975,
          365.4999999999967,
          357.0999999999964,
          353.9999999999958,
          430.19999999999584,
          419.8999999999964,
          384.699999999996,
          318.29999999999586,
          458.59999999999644,
          413.0999999999966,
          410.3999999999965,
          414.0999999999971,
          386.899999999998,
          391.8999999999977,
          449.49999999999704,
          437.4999999999966,
          530.8999999999963,
          505.2999999999963,
          498.299999999997,
          470.09999999999735,
          481.0999999999973,
          496.09999999999786,
          492.1999999999977,
          513.5999999999976,
          504.39999999999776,
          476.09999999999764,
          467.29999999999825
         ]
        }
       ],
       "layout": {
        "font": {
         "color": "#e1e1e1",
         "size": 10
        },
        "height": 400,
        "margin": {
         "b": 10,
         "l": 15,
         "r": 15
        },
        "paper_bgcolor": "#1e1e1e",
        "plot_bgcolor": "#1e1e1e",
        "template": {
         "data": {
          "bar": [
           {
            "error_x": {
             "color": "#2a3f5f"
            },
            "error_y": {
             "color": "#2a3f5f"
            },
            "marker": {
             "line": {
              "color": "#E5ECF6",
              "width": 0.5
             },
             "pattern": {
              "fillmode": "overlay",
              "size": 10,
              "solidity": 0.2
             }
            },
            "type": "bar"
           }
          ],
          "barpolar": [
           {
            "marker": {
             "line": {
              "color": "#E5ECF6",
              "width": 0.5
             },
             "pattern": {
              "fillmode": "overlay",
              "size": 10,
              "solidity": 0.2
             }
            },
            "type": "barpolar"
           }
          ],
          "carpet": [
           {
            "aaxis": {
             "endlinecolor": "#2a3f5f",
             "gridcolor": "white",
             "linecolor": "white",
             "minorgridcolor": "white",
             "startlinecolor": "#2a3f5f"
            },
            "baxis": {
             "endlinecolor": "#2a3f5f",
             "gridcolor": "white",
             "linecolor": "white",
             "minorgridcolor": "white",
             "startlinecolor": "#2a3f5f"
            },
            "type": "carpet"
           }
          ],
          "choropleth": [
           {
            "colorbar": {
             "outlinewidth": 0,
             "ticks": ""
            },
            "type": "choropleth"
           }
          ],
          "contour": [
           {
            "colorbar": {
             "outlinewidth": 0,
             "ticks": ""
            },
            "colorscale": [
             [
              0,
              "#0d0887"
             ],
             [
              0.1111111111111111,
              "#46039f"
             ],
             [
              0.2222222222222222,
              "#7201a8"
             ],
             [
              0.3333333333333333,
              "#9c179e"
             ],
             [
              0.4444444444444444,
              "#bd3786"
             ],
             [
              0.5555555555555556,
              "#d8576b"
             ],
             [
              0.6666666666666666,
              "#ed7953"
             ],
             [
              0.7777777777777778,
              "#fb9f3a"
             ],
             [
              0.8888888888888888,
              "#fdca26"
             ],
             [
              1,
              "#f0f921"
             ]
            ],
            "type": "contour"
           }
          ],
          "contourcarpet": [
           {
            "colorbar": {
             "outlinewidth": 0,
             "ticks": ""
            },
            "type": "contourcarpet"
           }
          ],
          "heatmap": [
           {
            "colorbar": {
             "outlinewidth": 0,
             "ticks": ""
            },
            "colorscale": [
             [
              0,
              "#0d0887"
             ],
             [
              0.1111111111111111,
              "#46039f"
             ],
             [
              0.2222222222222222,
              "#7201a8"
             ],
             [
              0.3333333333333333,
              "#9c179e"
             ],
             [
              0.4444444444444444,
              "#bd3786"
             ],
             [
              0.5555555555555556,
              "#d8576b"
             ],
             [
              0.6666666666666666,
              "#ed7953"
             ],
             [
              0.7777777777777778,
              "#fb9f3a"
             ],
             [
              0.8888888888888888,
              "#fdca26"
             ],
             [
              1,
              "#f0f921"
             ]
            ],
            "type": "heatmap"
           }
          ],
          "heatmapgl": [
           {
            "colorbar": {
             "outlinewidth": 0,
             "ticks": ""
            },
            "colorscale": [
             [
              0,
              "#0d0887"
             ],
             [
              0.1111111111111111,
              "#46039f"
             ],
             [
              0.2222222222222222,
              "#7201a8"
             ],
             [
              0.3333333333333333,
              "#9c179e"
             ],
             [
              0.4444444444444444,
              "#bd3786"
             ],
             [
              0.5555555555555556,
              "#d8576b"
             ],
             [
              0.6666666666666666,
              "#ed7953"
             ],
             [
              0.7777777777777778,
              "#fb9f3a"
             ],
             [
              0.8888888888888888,
              "#fdca26"
             ],
             [
              1,
              "#f0f921"
             ]
            ],
            "type": "heatmapgl"
           }
          ],
          "histogram": [
           {
            "marker": {
             "pattern": {
              "fillmode": "overlay",
              "size": 10,
              "solidity": 0.2
             }
            },
            "type": "histogram"
           }
          ],
          "histogram2d": [
           {
            "colorbar": {
             "outlinewidth": 0,
             "ticks": ""
            },
            "colorscale": [
             [
              0,
              "#0d0887"
             ],
             [
              0.1111111111111111,
              "#46039f"
             ],
             [
              0.2222222222222222,
              "#7201a8"
             ],
             [
              0.3333333333333333,
              "#9c179e"
             ],
             [
              0.4444444444444444,
              "#bd3786"
             ],
             [
              0.5555555555555556,
              "#d8576b"
             ],
             [
              0.6666666666666666,
              "#ed7953"
             ],
             [
              0.7777777777777778,
              "#fb9f3a"
             ],
             [
              0.8888888888888888,
              "#fdca26"
             ],
             [
              1,
              "#f0f921"
             ]
            ],
            "type": "histogram2d"
           }
          ],
          "histogram2dcontour": [
           {
            "colorbar": {
             "outlinewidth": 0,
             "ticks": ""
            },
            "colorscale": [
             [
              0,
              "#0d0887"
             ],
             [
              0.1111111111111111,
              "#46039f"
             ],
             [
              0.2222222222222222,
              "#7201a8"
             ],
             [
              0.3333333333333333,
              "#9c179e"
             ],
             [
              0.4444444444444444,
              "#bd3786"
             ],
             [
              0.5555555555555556,
              "#d8576b"
             ],
             [
              0.6666666666666666,
              "#ed7953"
             ],
             [
              0.7777777777777778,
              "#fb9f3a"
             ],
             [
              0.8888888888888888,
              "#fdca26"
             ],
             [
              1,
              "#f0f921"
             ]
            ],
            "type": "histogram2dcontour"
           }
          ],
          "mesh3d": [
           {
            "colorbar": {
             "outlinewidth": 0,
             "ticks": ""
            },
            "type": "mesh3d"
           }
          ],
          "parcoords": [
           {
            "line": {
             "colorbar": {
              "outlinewidth": 0,
              "ticks": ""
             }
            },
            "type": "parcoords"
           }
          ],
          "pie": [
           {
            "automargin": true,
            "type": "pie"
           }
          ],
          "scatter": [
           {
            "fillpattern": {
             "fillmode": "overlay",
             "size": 10,
             "solidity": 0.2
            },
            "type": "scatter"
           }
          ],
          "scatter3d": [
           {
            "line": {
             "colorbar": {
              "outlinewidth": 0,
              "ticks": ""
             }
            },
            "marker": {
             "colorbar": {
              "outlinewidth": 0,
              "ticks": ""
             }
            },
            "type": "scatter3d"
           }
          ],
          "scattercarpet": [
           {
            "marker": {
             "colorbar": {
              "outlinewidth": 0,
              "ticks": ""
             }
            },
            "type": "scattercarpet"
           }
          ],
          "scattergeo": [
           {
            "marker": {
             "colorbar": {
              "outlinewidth": 0,
              "ticks": ""
             }
            },
            "type": "scattergeo"
           }
          ],
          "scattergl": [
           {
            "marker": {
             "colorbar": {
              "outlinewidth": 0,
              "ticks": ""
             }
            },
            "type": "scattergl"
           }
          ],
          "scattermapbox": [
           {
            "marker": {
             "colorbar": {
              "outlinewidth": 0,
              "ticks": ""
             }
            },
            "type": "scattermapbox"
           }
          ],
          "scatterpolar": [
           {
            "marker": {
             "colorbar": {
              "outlinewidth": 0,
              "ticks": ""
             }
            },
            "type": "scatterpolar"
           }
          ],
          "scatterpolargl": [
           {
            "marker": {
             "colorbar": {
              "outlinewidth": 0,
              "ticks": ""
             }
            },
            "type": "scatterpolargl"
           }
          ],
          "scatterternary": [
           {
            "marker": {
             "colorbar": {
              "outlinewidth": 0,
              "ticks": ""
             }
            },
            "type": "scatterternary"
           }
          ],
          "surface": [
           {
            "colorbar": {
             "outlinewidth": 0,
             "ticks": ""
            },
            "colorscale": [
             [
              0,
              "#0d0887"
             ],
             [
              0.1111111111111111,
              "#46039f"
             ],
             [
              0.2222222222222222,
              "#7201a8"
             ],
             [
              0.3333333333333333,
              "#9c179e"
             ],
             [
              0.4444444444444444,
              "#bd3786"
             ],
             [
              0.5555555555555556,
              "#d8576b"
             ],
             [
              0.6666666666666666,
              "#ed7953"
             ],
             [
              0.7777777777777778,
              "#fb9f3a"
             ],
             [
              0.8888888888888888,
              "#fdca26"
             ],
             [
              1,
              "#f0f921"
             ]
            ],
            "type": "surface"
           }
          ],
          "table": [
           {
            "cells": {
             "fill": {
              "color": "#EBF0F8"
             },
             "line": {
              "color": "white"
             }
            },
            "header": {
             "fill": {
              "color": "#C8D4E3"
             },
             "line": {
              "color": "white"
             }
            },
            "type": "table"
           }
          ]
         },
         "layout": {
          "annotationdefaults": {
           "arrowcolor": "#2a3f5f",
           "arrowhead": 0,
           "arrowwidth": 1
          },
          "autotypenumbers": "strict",
          "coloraxis": {
           "colorbar": {
            "outlinewidth": 0,
            "ticks": ""
           }
          },
          "colorscale": {
           "diverging": [
            [
             0,
             "#8e0152"
            ],
            [
             0.1,
             "#c51b7d"
            ],
            [
             0.2,
             "#de77ae"
            ],
            [
             0.3,
             "#f1b6da"
            ],
            [
             0.4,
             "#fde0ef"
            ],
            [
             0.5,
             "#f7f7f7"
            ],
            [
             0.6,
             "#e6f5d0"
            ],
            [
             0.7,
             "#b8e186"
            ],
            [
             0.8,
             "#7fbc41"
            ],
            [
             0.9,
             "#4d9221"
            ],
            [
             1,
             "#276419"
            ]
           ],
           "sequential": [
            [
             0,
             "#0d0887"
            ],
            [
             0.1111111111111111,
             "#46039f"
            ],
            [
             0.2222222222222222,
             "#7201a8"
            ],
            [
             0.3333333333333333,
             "#9c179e"
            ],
            [
             0.4444444444444444,
             "#bd3786"
            ],
            [
             0.5555555555555556,
             "#d8576b"
            ],
            [
             0.6666666666666666,
             "#ed7953"
            ],
            [
             0.7777777777777778,
             "#fb9f3a"
            ],
            [
             0.8888888888888888,
             "#fdca26"
            ],
            [
             1,
             "#f0f921"
            ]
           ],
           "sequentialminus": [
            [
             0,
             "#0d0887"
            ],
            [
             0.1111111111111111,
             "#46039f"
            ],
            [
             0.2222222222222222,
             "#7201a8"
            ],
            [
             0.3333333333333333,
             "#9c179e"
            ],
            [
             0.4444444444444444,
             "#bd3786"
            ],
            [
             0.5555555555555556,
             "#d8576b"
            ],
            [
             0.6666666666666666,
             "#ed7953"
            ],
            [
             0.7777777777777778,
             "#fb9f3a"
            ],
            [
             0.8888888888888888,
             "#fdca26"
            ],
            [
             1,
             "#f0f921"
            ]
           ]
          },
          "colorway": [
           "#636efa",
           "#EF553B",
           "#00cc96",
           "#ab63fa",
           "#FFA15A",
           "#19d3f3",
           "#FF6692",
           "#B6E880",
           "#FF97FF",
           "#FECB52"
          ],
          "font": {
           "color": "#2a3f5f"
          },
          "geo": {
           "bgcolor": "white",
           "lakecolor": "white",
           "landcolor": "#E5ECF6",
           "showlakes": true,
           "showland": true,
           "subunitcolor": "white"
          },
          "hoverlabel": {
           "align": "left"
          },
          "hovermode": "closest",
          "mapbox": {
           "style": "light"
          },
          "paper_bgcolor": "white",
          "plot_bgcolor": "#E5ECF6",
          "polar": {
           "angularaxis": {
            "gridcolor": "white",
            "linecolor": "white",
            "ticks": ""
           },
           "bgcolor": "#E5ECF6",
           "radialaxis": {
            "gridcolor": "white",
            "linecolor": "white",
            "ticks": ""
           }
          },
          "scene": {
           "xaxis": {
            "backgroundcolor": "#E5ECF6",
            "gridcolor": "white",
            "gridwidth": 2,
            "linecolor": "white",
            "showbackground": true,
            "ticks": "",
            "zerolinecolor": "white"
           },
           "yaxis": {
            "backgroundcolor": "#E5ECF6",
            "gridcolor": "white",
            "gridwidth": 2,
            "linecolor": "white",
            "showbackground": true,
            "ticks": "",
            "zerolinecolor": "white"
           },
           "zaxis": {
            "backgroundcolor": "#E5ECF6",
            "gridcolor": "white",
            "gridwidth": 2,
            "linecolor": "white",
            "showbackground": true,
            "ticks": "",
            "zerolinecolor": "white"
           }
          },
          "shapedefaults": {
           "line": {
            "color": "#2a3f5f"
           }
          },
          "ternary": {
           "aaxis": {
            "gridcolor": "white",
            "linecolor": "white",
            "ticks": ""
           },
           "baxis": {
            "gridcolor": "white",
            "linecolor": "white",
            "ticks": ""
           },
           "bgcolor": "#E5ECF6",
           "caxis": {
            "gridcolor": "white",
            "linecolor": "white",
            "ticks": ""
           }
          },
          "title": {
           "x": 0.05
          },
          "xaxis": {
           "automargin": true,
           "gridcolor": "white",
           "linecolor": "white",
           "ticks": "",
           "title": {
            "standoff": 15
           },
           "zerolinecolor": "white",
           "zerolinewidth": 2
          },
          "yaxis": {
           "automargin": true,
           "gridcolor": "white",
           "linecolor": "white",
           "ticks": "",
           "title": {
            "standoff": 15
           },
           "zerolinecolor": "white",
           "zerolinewidth": 2
          }
         }
        },
        "title": {
         "text": "CAD_JPY_MA_8_16"
        },
        "width": 1000,
        "xaxis": {
         "linecolor": "#3a4a54",
         "linewidth": 1,
         "showgrid": false,
         "zeroline": false
        },
        "yaxis": {
         "linecolor": "#3a4a54",
         "linewidth": 1,
         "showgrid": false,
         "zeroline": false
        }
       }
      }
     },
     "metadata": {},
     "output_type": "display_data"
    },
    {
     "data": {
      "application/vnd.plotly.v1+json": {
       "config": {
        "plotlyServerURL": "https://plot.ly"
       },
       "data": [
        {
         "line": {
          "color": "#3d825f",
          "shape": "spline",
          "width": 2
         },
         "mode": "lines",
         "name": "NZD_USD_MA_8_16",
         "type": "scatter",
         "x": [
          "2022-11-10T14:00:00+00:00",
          "2022-11-14T04:00:00+00:00",
          "2022-11-14T18:00:00+00:00",
          "2022-11-15T03:00:00+00:00",
          "2022-11-15T06:00:00+00:00",
          "2022-11-16T01:00:00+00:00",
          "2022-11-16T09:00:00+00:00",
          "2022-11-16T18:00:00+00:00",
          "2022-11-17T22:00:00+00:00",
          "2022-11-18T18:00:00+00:00",
          "2022-11-22T02:00:00+00:00",
          "2022-11-25T00:00:00+00:00",
          "2022-11-25T21:00:00+00:00",
          "2022-11-28T00:00:00+00:00",
          "2022-11-28T12:00:00+00:00",
          "2022-11-28T18:00:00+00:00",
          "2022-11-29T05:00:00+00:00",
          "2022-11-29T18:00:00+00:00",
          "2022-11-30T04:00:00+00:00",
          "2022-12-02T03:00:00+00:00",
          "2022-12-02T06:00:00+00:00",
          "2022-12-02T17:00:00+00:00",
          "2022-12-04T22:00:00+00:00",
          "2022-12-05T12:00:00+00:00",
          "2022-12-06T05:00:00+00:00",
          "2022-12-06T10:00:00+00:00",
          "2022-12-06T15:00:00+00:00",
          "2022-12-06T20:00:00+00:00",
          "2022-12-07T05:00:00+00:00",
          "2022-12-08T01:00:00+00:00",
          "2022-12-08T09:00:00+00:00",
          "2022-12-09T13:00:00+00:00",
          "2022-12-09T16:00:00+00:00",
          "2022-12-12T02:00:00+00:00",
          "2022-12-12T11:00:00+00:00",
          "2022-12-12T17:00:00+00:00",
          "2022-12-13T02:00:00+00:00",
          "2022-12-14T02:00:00+00:00",
          "2022-12-14T15:00:00+00:00",
          "2022-12-15T05:00:00+00:00",
          "2022-12-16T05:00:00+00:00",
          "2022-12-19T14:00:00+00:00",
          "2022-12-20T13:00:00+00:00",
          "2022-12-20T17:00:00+00:00",
          "2022-12-21T00:00:00+00:00",
          "2022-12-21T04:00:00+00:00",
          "2022-12-22T01:00:00+00:00",
          "2022-12-22T13:00:00+00:00",
          "2022-12-23T03:00:00+00:00",
          "2022-12-26T22:00:00+00:00",
          "2022-12-26T23:00:00+00:00",
          "2022-12-27T14:00:00+00:00",
          "2022-12-28T07:00:00+00:00",
          "2022-12-28T22:00:00+00:00",
          "2022-12-29T04:00:00+00:00",
          "2022-12-29T12:00:00+00:00",
          "2022-12-29T17:00:00+00:00",
          "2022-12-30T03:00:00+00:00",
          "2022-12-30T12:00:00+00:00",
          "2023-01-02T02:00:00+00:00",
          "2023-01-02T16:00:00+00:00",
          "2023-01-02T18:00:00+00:00",
          "2023-01-03T03:00:00+00:00",
          "2023-01-03T08:00:00+00:00",
          "2023-01-03T21:00:00+00:00",
          "2023-01-04T20:00:00+00:00",
          "2023-01-05T12:00:00+00:00",
          "2023-01-05T13:00:00+00:00",
          "2023-01-06T04:00:00+00:00",
          "2023-01-06T08:00:00+00:00",
          "2023-01-06T16:00:00+00:00",
          "2023-01-09T17:00:00+00:00",
          "2023-01-09T18:00:00+00:00",
          "2023-01-09T21:00:00+00:00",
          "2023-01-10T10:00:00+00:00",
          "2023-01-10T13:00:00+00:00",
          "2023-01-11T00:00:00+00:00",
          "2023-01-11T10:00:00+00:00",
          "2023-01-11T22:00:00+00:00",
          "2023-01-12T08:00:00+00:00",
          "2023-01-12T17:00:00+00:00",
          "2023-01-13T04:00:00+00:00",
          "2023-01-15T22:00:00+00:00",
          "2023-01-16T11:00:00+00:00",
          "2023-01-17T03:00:00+00:00",
          "2023-01-18T19:00:00+00:00",
          "2023-01-19T21:00:00+00:00",
          "2023-01-23T11:00:00+00:00",
          "2023-01-23T21:00:00+00:00",
          "2023-01-24T13:00:00+00:00",
          "2023-01-24T20:00:00+00:00",
          "2023-01-25T03:00:00+00:00",
          "2023-01-25T23:00:00+00:00",
          "2023-01-26T14:00:00+00:00",
          "2023-01-26T23:00:00+00:00",
          "2023-01-27T09:00:00+00:00",
          "2023-01-27T21:00:00+00:00",
          "2023-01-30T08:00:00+00:00",
          "2023-01-31T18:00:00+00:00",
          "2023-02-01T02:00:00+00:00",
          "2023-02-01T10:00:00+00:00",
          "2023-02-02T13:00:00+00:00",
          "2023-02-03T11:00:00+00:00",
          "2023-02-03T13:00:00+00:00",
          "2023-02-07T00:00:00+00:00",
          "2023-02-07T13:00:00+00:00",
          "2023-02-07T22:00:00+00:00",
          "2023-02-08T16:00:00+00:00",
          "2023-02-09T03:00:00+00:00",
          "2023-02-09T19:00:00+00:00",
          "2023-02-10T11:00:00+00:00",
          "2023-02-10T17:00:00+00:00",
          "2023-02-13T07:00:00+00:00",
          "2023-02-14T03:00:00+00:00",
          "2023-02-15T22:00:00+00:00",
          "2023-02-16T14:00:00+00:00",
          "2023-02-17T18:00:00+00:00",
          "2023-02-20T06:00:00+00:00",
          "2023-02-20T07:00:00+00:00",
          "2023-02-20T10:00:00+00:00",
          "2023-02-20T11:00:00+00:00",
          "2023-02-21T03:00:00+00:00",
          "2023-02-22T04:00:00+00:00",
          "2023-02-22T21:00:00+00:00",
          "2023-02-23T04:00:00+00:00",
          "2023-02-23T13:00:00+00:00",
          "2023-02-24T01:00:00+00:00",
          "2023-02-24T09:00:00+00:00",
          "2023-02-27T15:00:00+00:00",
          "2023-02-28T04:00:00+00:00",
          "2023-02-28T15:00:00+00:00",
          "2023-03-01T22:00:00+00:00",
          "2023-03-03T00:00:00+00:00",
          "2023-03-03T14:00:00+00:00",
          "2023-03-06T01:00:00+00:00",
          "2023-03-06T06:00:00+00:00",
          "2023-03-06T23:00:00+00:00",
          "2023-03-07T13:00:00+00:00",
          "2023-03-08T11:00:00+00:00",
          "2023-03-08T20:00:00+00:00",
          "2023-03-09T05:00:00+00:00",
          "2023-03-09T20:00:00+00:00",
          "2023-03-10T10:00:00+00:00",
          "2023-03-14T02:00:00+00:00",
          "2023-03-14T10:00:00+00:00",
          "2023-03-15T06:00:00+00:00",
          "2023-03-16T11:00:00+00:00",
          "2023-03-20T05:00:00+00:00",
          "2023-03-20T18:00:00+00:00",
          "2023-03-20T21:00:00+00:00",
          "2023-03-22T00:00:00+00:00",
          "2023-03-23T17:00:00+00:00",
          "2023-03-27T03:00:00+00:00",
          "2023-03-27T07:00:00+00:00",
          "2023-03-27T08:00:00+00:00",
          "2023-03-27T09:00:00+00:00",
          "2023-03-27T22:00:00+00:00",
          "2023-03-29T08:00:00+00:00",
          "2023-03-30T08:00:00+00:00",
          "2023-03-31T10:00:00+00:00",
          "2023-04-03T11:00:00+00:00",
          "2023-04-04T12:00:00+00:00",
          "2023-04-04T20:00:00+00:00",
          "2023-04-05T12:00:00+00:00",
          "2023-04-05T22:00:00+00:00",
          "2023-04-06T02:00:00+00:00",
          "2023-04-07T04:00:00+00:00",
          "2023-04-07T15:00:00+00:00",
          "2023-04-11T00:00:00+00:00",
          "2023-04-11T10:00:00+00:00",
          "2023-04-12T04:00:00+00:00",
          "2023-04-12T11:00:00+00:00",
          "2023-04-12T12:00:00+00:00",
          "2023-04-13T03:00:00+00:00",
          "2023-04-13T04:00:00+00:00",
          "2023-04-13T06:00:00+00:00",
          "2023-04-13T07:00:00+00:00",
          "2023-04-14T10:00:00+00:00",
          "2023-04-18T01:00:00+00:00",
          "2023-04-18T20:00:00+00:00",
          "2023-04-19T01:00:00+00:00",
          "2023-04-19T06:00:00+00:00",
          "2023-04-19T16:00:00+00:00",
          "2023-04-19T23:00:00+00:00",
          "2023-04-20T12:00:00+00:00",
          "2023-04-20T23:00:00+00:00",
          "2023-04-23T21:00:00+00:00",
          "2023-04-24T05:00:00+00:00",
          "2023-04-24T11:00:00+00:00",
          "2023-04-25T09:00:00+00:00",
          "2023-04-26T04:00:00+00:00",
          "2023-04-26T06:00:00+00:00",
          "2023-04-27T04:00:00+00:00",
          "2023-04-27T16:00:00+00:00",
          "2023-04-27T22:00:00+00:00",
          "2023-04-28T08:00:00+00:00",
          "2023-04-28T15:00:00+00:00",
          "2023-05-01T04:00:00+00:00",
          "2023-05-01T08:00:00+00:00",
          "2023-05-01T15:00:00+00:00",
          "2023-05-02T04:00:00+00:00",
          "2023-05-03T13:00:00+00:00",
          "2023-05-03T19:00:00+00:00",
          "2023-05-03T23:00:00+00:00",
          "2023-05-04T06:00:00+00:00",
          "2023-05-05T12:00:00+00:00",
          "2023-05-05T20:00:00+00:00",
          "2023-05-09T00:00:00+00:00",
          "2023-05-09T21:00:00+00:00",
          "2023-05-10T11:00:00+00:00",
          "2023-05-10T12:00:00+00:00",
          "2023-05-11T08:00:00+00:00",
          "2023-05-15T04:00:00+00:00",
          "2023-05-16T11:00:00+00:00",
          "2023-05-17T02:00:00+00:00",
          "2023-05-18T00:00:00+00:00",
          "2023-05-18T05:00:00+00:00",
          "2023-05-18T10:00:00+00:00",
          "2023-05-19T00:00:00+00:00",
          "2023-05-22T00:00:00+00:00",
          "2023-05-22T09:00:00+00:00",
          "2023-05-22T12:00:00+00:00",
          "2023-05-22T15:00:00+00:00",
          "2023-05-23T07:00:00+00:00",
          "2023-05-26T01:00:00+00:00",
          "2023-05-26T15:00:00+00:00",
          "2023-05-29T03:00:00+00:00",
          "2023-05-29T14:00:00+00:00",
          "2023-05-30T13:00:00+00:00",
          "2023-05-30T19:00:00+00:00",
          "2023-05-31T19:00:00+00:00",
          "2023-06-01T06:00:00+00:00",
          "2023-06-01T13:00:00+00:00",
          "2023-06-02T16:00:00+00:00",
          "2023-06-05T15:00:00+00:00",
          "2023-06-06T13:00:00+00:00",
          "2023-06-06T22:00:00+00:00",
          "2023-06-07T07:00:00+00:00",
          "2023-06-08T05:00:00+00:00",
          "2023-06-09T04:00:00+00:00",
          "2023-06-09T10:00:00+00:00",
          "2023-06-12T02:00:00+00:00",
          "2023-06-12T09:00:00+00:00",
          "2023-06-12T17:00:00+00:00",
          "2023-06-13T02:00:00+00:00",
          "2023-06-14T00:00:00+00:00",
          "2023-06-14T01:00:00+00:00",
          "2023-06-15T01:00:00+00:00",
          "2023-06-15T14:00:00+00:00",
          "2023-06-16T07:00:00+00:00",
          "2023-06-18T22:00:00+00:00",
          "2023-06-19T03:00:00+00:00",
          "2023-06-21T00:00:00+00:00",
          "2023-06-21T12:00:00+00:00",
          "2023-06-21T15:00:00+00:00",
          "2023-06-22T06:00:00+00:00",
          "2023-06-22T13:00:00+00:00",
          "2023-06-22T16:00:00+00:00",
          "2023-06-23T19:00:00+00:00",
          "2023-06-27T00:00:00+00:00",
          "2023-06-27T03:00:00+00:00",
          "2023-06-27T15:00:00+00:00",
          "2023-06-29T07:00:00+00:00",
          "2023-06-29T15:00:00+00:00"
         ],
         "y": [
          104.10000000000029,
          78.80000000000108,
          72.20000000000114,
          57.100000000001025,
          76.6000000000011,
          35.40000000000098,
          -11.999999999998685,
          4.100000000001316,
          29.000000000001236,
          58.00000000000137,
          190.20000000000147,
          192.20000000000124,
          170.5000000000012,
          174.8000000000016,
          130.2000000000014,
          96.00000000000162,
          82.1000000000016,
          59.60000000000075,
          212.90000000000026,
          194.80000000000047,
          201.20000000000022,
          212.09999999999945,
          243.99999999999972,
          338.8000000000002,
          337.8000000000003,
          341.60000000000076,
          341.40000000000055,
          336.8000000000004,
          351.60000000000076,
          343.80000000000075,
          390.4000000000007,
          362.60000000000065,
          330.6000000000008,
          322.8000000000008,
          302.70000000000016,
          283.2999999999996,
          329.99999999999915,
          321.9999999999989,
          310.7999999999988,
          392.1999999999992,
          406.4999999999996,
          458.9999999999994,
          463.2999999999987,
          451.59999999999866,
          418.49999999999943,
          415.4000000000002,
          365.5000000000008,
          345.90000000000117,
          353.500000000001,
          331.800000000001,
          305.30000000000166,
          281.4000000000016,
          282.8000000000008,
          249.2000000000005,
          222.40000000000035,
          178.89999999999958,
          145.39999999999884,
          117.79999999999899,
          80.39999999999934,
          72.99999999999972,
          82.49999999999977,
          56.19999999999956,
          -74.40000000000003,
          -100.0000000000001,
          -56.200000000000706,
          -60.00000000000118,
          -119.60000000000083,
          -126.20000000000077,
          -151.3000000000009,
          -264.4000000000002,
          -207.80000000000024,
          -199.60000000000093,
          -210.90000000000168,
          -223.80000000000183,
          -252.00000000000117,
          -270.8000000000011,
          -284.00000000000097,
          -286.00000000000074,
          -303.6000000000006,
          -358.8000000000003,
          -385.6000000000005,
          -390.5000000000004,
          -378.60000000000014,
          -388.0000000000007,
          -353.6000000000007,
          -313.60000000000065,
          -237.60000000000124,
          -257.900000000001,
          -266.0000000000008,
          -287.0000000000007,
          -301.79999999999995,
          -295.29999999999956,
          -298.1999999999997,
          -309.6,
          -313.10000000000076,
          -319.00000000000165,
          -334.50000000000216,
          -326.40000000000236,
          -374.7000000000024,
          -396.60000000000264,
          -324.0000000000033,
          -285.20000000000334,
          -366.2000000000033,
          -286.20000000000323,
          -307.40000000000333,
          -338.7000000000041,
          -352.1000000000042,
          -379.6000000000034,
          -392.4000000000029,
          -386.0000000000031,
          -403.2000000000037,
          -430.00000000000387,
          -419.60000000000343,
          -357.8000000000027,
          -389.8000000000025,
          -382.4000000000029,
          -378.8000000000026,
          -381.7000000000028,
          -390.00000000000273,
          -400.80000000000246,
          -405.6000000000028,
          -388.90000000000333,
          -396.1000000000039,
          -426.6000000000039,
          -457.2000000000034,
          -475.4000000000027,
          -497.4000000000025,
          -446.2000000000023,
          -455.1000000000018,
          -495.40000000000157,
          -437.20000000000107,
          -411.50000000000034,
          -428.1999999999998,
          -432.19999999999936,
          -435.59999999999945,
          -421.3000000000001,
          -430.0000000000005,
          -356.4000000000002,
          -358.6000000000002,
          -368.8999999999999,
          -388.9999999999995,
          -390.4999999999993,
          -292.59999999999854,
          -312.0999999999975,
          -314.6999999999968,
          -266.7999999999961,
          -184.19999999999564,
          -179.7999999999957,
          -181.79999999999546,
          -118.39999999999534,
          -32.79999999999522,
          28.80000000000532,
          17.100000000005274,
          10.60000000000488,
          -7.199999999995157,
          -18.999999999994746,
          16.400000000005132,
          5.2000000000050335,
          23.60000000000567,
          -5.3999999999944635,
          -19.59999999999534,
          -53.79999999999624,
          -42.59999999999614,
          -41.999999999995545,
          -73.29999999999521,
          -39.29999999999451,
          -50.09999999999421,
          -32.799999999994114,
          -44.5999999999937,
          -31.299999999993165,
          -40.79999999999323,
          -73.19999999999344,
          -83.6999999999934,
          -83.99999999999314,
          -80.89999999999281,
          -93.19999999999345,
          -31.199999999993622,
          75.50000000000706,
          97.0000000000069,
          101.60000000000596,
          91.100000000006,
          71.80000000000614,
          21.600000000005892,
          -5.599999999993553,
          -16.59999999999345,
          22.70000000000644,
          11.400000000006797,
          -0.7999999999931919,
          27.400000000007253,
          61.40000000000795,
          67.80000000000769,
          65.60000000000771,
          56.2000000000083,
          44.10000000000897,
          27.000000000009077,
          -29.29999999999116,
          -30.999999999991196,
          -23.099999999991624,
          -29.799999999992217,
          -42.599999999992804,
          0.20000000000669615,
          -3.3999999999935735,
          -22.7999999999941,
          -60.799999999994355,
          -35.999999999993975,
          -59.399999999994066,
          -15.799999999993766,
          -11.799999999993096,
          -16.0999999999924,
          -65.49999999999184,
          -101.39999999999166,
          30.400000000008035,
          61.40000000000795,
          53.40000000000883,
          57.2000000000093,
          60.00000000000877,
          51.900000000007886,
          55.2000000000073,
          100.20000000000678,
          103.80000000000594,
          103.60000000000574,
          111.9000000000057,
          103.60000000000574,
          293.8000000000061,
          263.00000000000637,
          260.8000000000064,
          270.8000000000064,
          280.8000000000064,
          280.70000000000573,
          304.80000000000484,
          287.2000000000039,
          255.50000000000387,
          285.40000000000435,
          269.6000000000041,
          237.60000000000431,
          208.20000000000488,
          194.6000000000046,
          211.00000000000435,
          249.50000000000455,
          238.2000000000049,
          253.9000000000056,
          222.40000000000575,
          194.2000000000053,
          201.00000000000546,
          243.30000000000612,
          233.00000000000637,
          234.20000000000647,
          182.80000000000723,
          195.40000000000762,
          189.40000000000717,
          162.8000000000072,
          205.80000000000803,
          211.40000000000808,
          195.00000000000722,
          197.000000000007,
          187.80000000000777,
          170.40000000000813,
          205.4000000000076,
          217.20000000000718,
          197.00000000000696,
          184.6000000000068,
          266.40000000000646,
          255.00000000000617,
          245.1000000000057
         ]
        }
       ],
       "layout": {
        "font": {
         "color": "#e1e1e1",
         "size": 10
        },
        "height": 400,
        "margin": {
         "b": 10,
         "l": 15,
         "r": 15
        },
        "paper_bgcolor": "#1e1e1e",
        "plot_bgcolor": "#1e1e1e",
        "template": {
         "data": {
          "bar": [
           {
            "error_x": {
             "color": "#2a3f5f"
            },
            "error_y": {
             "color": "#2a3f5f"
            },
            "marker": {
             "line": {
              "color": "#E5ECF6",
              "width": 0.5
             },
             "pattern": {
              "fillmode": "overlay",
              "size": 10,
              "solidity": 0.2
             }
            },
            "type": "bar"
           }
          ],
          "barpolar": [
           {
            "marker": {
             "line": {
              "color": "#E5ECF6",
              "width": 0.5
             },
             "pattern": {
              "fillmode": "overlay",
              "size": 10,
              "solidity": 0.2
             }
            },
            "type": "barpolar"
           }
          ],
          "carpet": [
           {
            "aaxis": {
             "endlinecolor": "#2a3f5f",
             "gridcolor": "white",
             "linecolor": "white",
             "minorgridcolor": "white",
             "startlinecolor": "#2a3f5f"
            },
            "baxis": {
             "endlinecolor": "#2a3f5f",
             "gridcolor": "white",
             "linecolor": "white",
             "minorgridcolor": "white",
             "startlinecolor": "#2a3f5f"
            },
            "type": "carpet"
           }
          ],
          "choropleth": [
           {
            "colorbar": {
             "outlinewidth": 0,
             "ticks": ""
            },
            "type": "choropleth"
           }
          ],
          "contour": [
           {
            "colorbar": {
             "outlinewidth": 0,
             "ticks": ""
            },
            "colorscale": [
             [
              0,
              "#0d0887"
             ],
             [
              0.1111111111111111,
              "#46039f"
             ],
             [
              0.2222222222222222,
              "#7201a8"
             ],
             [
              0.3333333333333333,
              "#9c179e"
             ],
             [
              0.4444444444444444,
              "#bd3786"
             ],
             [
              0.5555555555555556,
              "#d8576b"
             ],
             [
              0.6666666666666666,
              "#ed7953"
             ],
             [
              0.7777777777777778,
              "#fb9f3a"
             ],
             [
              0.8888888888888888,
              "#fdca26"
             ],
             [
              1,
              "#f0f921"
             ]
            ],
            "type": "contour"
           }
          ],
          "contourcarpet": [
           {
            "colorbar": {
             "outlinewidth": 0,
             "ticks": ""
            },
            "type": "contourcarpet"
           }
          ],
          "heatmap": [
           {
            "colorbar": {
             "outlinewidth": 0,
             "ticks": ""
            },
            "colorscale": [
             [
              0,
              "#0d0887"
             ],
             [
              0.1111111111111111,
              "#46039f"
             ],
             [
              0.2222222222222222,
              "#7201a8"
             ],
             [
              0.3333333333333333,
              "#9c179e"
             ],
             [
              0.4444444444444444,
              "#bd3786"
             ],
             [
              0.5555555555555556,
              "#d8576b"
             ],
             [
              0.6666666666666666,
              "#ed7953"
             ],
             [
              0.7777777777777778,
              "#fb9f3a"
             ],
             [
              0.8888888888888888,
              "#fdca26"
             ],
             [
              1,
              "#f0f921"
             ]
            ],
            "type": "heatmap"
           }
          ],
          "heatmapgl": [
           {
            "colorbar": {
             "outlinewidth": 0,
             "ticks": ""
            },
            "colorscale": [
             [
              0,
              "#0d0887"
             ],
             [
              0.1111111111111111,
              "#46039f"
             ],
             [
              0.2222222222222222,
              "#7201a8"
             ],
             [
              0.3333333333333333,
              "#9c179e"
             ],
             [
              0.4444444444444444,
              "#bd3786"
             ],
             [
              0.5555555555555556,
              "#d8576b"
             ],
             [
              0.6666666666666666,
              "#ed7953"
             ],
             [
              0.7777777777777778,
              "#fb9f3a"
             ],
             [
              0.8888888888888888,
              "#fdca26"
             ],
             [
              1,
              "#f0f921"
             ]
            ],
            "type": "heatmapgl"
           }
          ],
          "histogram": [
           {
            "marker": {
             "pattern": {
              "fillmode": "overlay",
              "size": 10,
              "solidity": 0.2
             }
            },
            "type": "histogram"
           }
          ],
          "histogram2d": [
           {
            "colorbar": {
             "outlinewidth": 0,
             "ticks": ""
            },
            "colorscale": [
             [
              0,
              "#0d0887"
             ],
             [
              0.1111111111111111,
              "#46039f"
             ],
             [
              0.2222222222222222,
              "#7201a8"
             ],
             [
              0.3333333333333333,
              "#9c179e"
             ],
             [
              0.4444444444444444,
              "#bd3786"
             ],
             [
              0.5555555555555556,
              "#d8576b"
             ],
             [
              0.6666666666666666,
              "#ed7953"
             ],
             [
              0.7777777777777778,
              "#fb9f3a"
             ],
             [
              0.8888888888888888,
              "#fdca26"
             ],
             [
              1,
              "#f0f921"
             ]
            ],
            "type": "histogram2d"
           }
          ],
          "histogram2dcontour": [
           {
            "colorbar": {
             "outlinewidth": 0,
             "ticks": ""
            },
            "colorscale": [
             [
              0,
              "#0d0887"
             ],
             [
              0.1111111111111111,
              "#46039f"
             ],
             [
              0.2222222222222222,
              "#7201a8"
             ],
             [
              0.3333333333333333,
              "#9c179e"
             ],
             [
              0.4444444444444444,
              "#bd3786"
             ],
             [
              0.5555555555555556,
              "#d8576b"
             ],
             [
              0.6666666666666666,
              "#ed7953"
             ],
             [
              0.7777777777777778,
              "#fb9f3a"
             ],
             [
              0.8888888888888888,
              "#fdca26"
             ],
             [
              1,
              "#f0f921"
             ]
            ],
            "type": "histogram2dcontour"
           }
          ],
          "mesh3d": [
           {
            "colorbar": {
             "outlinewidth": 0,
             "ticks": ""
            },
            "type": "mesh3d"
           }
          ],
          "parcoords": [
           {
            "line": {
             "colorbar": {
              "outlinewidth": 0,
              "ticks": ""
             }
            },
            "type": "parcoords"
           }
          ],
          "pie": [
           {
            "automargin": true,
            "type": "pie"
           }
          ],
          "scatter": [
           {
            "fillpattern": {
             "fillmode": "overlay",
             "size": 10,
             "solidity": 0.2
            },
            "type": "scatter"
           }
          ],
          "scatter3d": [
           {
            "line": {
             "colorbar": {
              "outlinewidth": 0,
              "ticks": ""
             }
            },
            "marker": {
             "colorbar": {
              "outlinewidth": 0,
              "ticks": ""
             }
            },
            "type": "scatter3d"
           }
          ],
          "scattercarpet": [
           {
            "marker": {
             "colorbar": {
              "outlinewidth": 0,
              "ticks": ""
             }
            },
            "type": "scattercarpet"
           }
          ],
          "scattergeo": [
           {
            "marker": {
             "colorbar": {
              "outlinewidth": 0,
              "ticks": ""
             }
            },
            "type": "scattergeo"
           }
          ],
          "scattergl": [
           {
            "marker": {
             "colorbar": {
              "outlinewidth": 0,
              "ticks": ""
             }
            },
            "type": "scattergl"
           }
          ],
          "scattermapbox": [
           {
            "marker": {
             "colorbar": {
              "outlinewidth": 0,
              "ticks": ""
             }
            },
            "type": "scattermapbox"
           }
          ],
          "scatterpolar": [
           {
            "marker": {
             "colorbar": {
              "outlinewidth": 0,
              "ticks": ""
             }
            },
            "type": "scatterpolar"
           }
          ],
          "scatterpolargl": [
           {
            "marker": {
             "colorbar": {
              "outlinewidth": 0,
              "ticks": ""
             }
            },
            "type": "scatterpolargl"
           }
          ],
          "scatterternary": [
           {
            "marker": {
             "colorbar": {
              "outlinewidth": 0,
              "ticks": ""
             }
            },
            "type": "scatterternary"
           }
          ],
          "surface": [
           {
            "colorbar": {
             "outlinewidth": 0,
             "ticks": ""
            },
            "colorscale": [
             [
              0,
              "#0d0887"
             ],
             [
              0.1111111111111111,
              "#46039f"
             ],
             [
              0.2222222222222222,
              "#7201a8"
             ],
             [
              0.3333333333333333,
              "#9c179e"
             ],
             [
              0.4444444444444444,
              "#bd3786"
             ],
             [
              0.5555555555555556,
              "#d8576b"
             ],
             [
              0.6666666666666666,
              "#ed7953"
             ],
             [
              0.7777777777777778,
              "#fb9f3a"
             ],
             [
              0.8888888888888888,
              "#fdca26"
             ],
             [
              1,
              "#f0f921"
             ]
            ],
            "type": "surface"
           }
          ],
          "table": [
           {
            "cells": {
             "fill": {
              "color": "#EBF0F8"
             },
             "line": {
              "color": "white"
             }
            },
            "header": {
             "fill": {
              "color": "#C8D4E3"
             },
             "line": {
              "color": "white"
             }
            },
            "type": "table"
           }
          ]
         },
         "layout": {
          "annotationdefaults": {
           "arrowcolor": "#2a3f5f",
           "arrowhead": 0,
           "arrowwidth": 1
          },
          "autotypenumbers": "strict",
          "coloraxis": {
           "colorbar": {
            "outlinewidth": 0,
            "ticks": ""
           }
          },
          "colorscale": {
           "diverging": [
            [
             0,
             "#8e0152"
            ],
            [
             0.1,
             "#c51b7d"
            ],
            [
             0.2,
             "#de77ae"
            ],
            [
             0.3,
             "#f1b6da"
            ],
            [
             0.4,
             "#fde0ef"
            ],
            [
             0.5,
             "#f7f7f7"
            ],
            [
             0.6,
             "#e6f5d0"
            ],
            [
             0.7,
             "#b8e186"
            ],
            [
             0.8,
             "#7fbc41"
            ],
            [
             0.9,
             "#4d9221"
            ],
            [
             1,
             "#276419"
            ]
           ],
           "sequential": [
            [
             0,
             "#0d0887"
            ],
            [
             0.1111111111111111,
             "#46039f"
            ],
            [
             0.2222222222222222,
             "#7201a8"
            ],
            [
             0.3333333333333333,
             "#9c179e"
            ],
            [
             0.4444444444444444,
             "#bd3786"
            ],
            [
             0.5555555555555556,
             "#d8576b"
            ],
            [
             0.6666666666666666,
             "#ed7953"
            ],
            [
             0.7777777777777778,
             "#fb9f3a"
            ],
            [
             0.8888888888888888,
             "#fdca26"
            ],
            [
             1,
             "#f0f921"
            ]
           ],
           "sequentialminus": [
            [
             0,
             "#0d0887"
            ],
            [
             0.1111111111111111,
             "#46039f"
            ],
            [
             0.2222222222222222,
             "#7201a8"
            ],
            [
             0.3333333333333333,
             "#9c179e"
            ],
            [
             0.4444444444444444,
             "#bd3786"
            ],
            [
             0.5555555555555556,
             "#d8576b"
            ],
            [
             0.6666666666666666,
             "#ed7953"
            ],
            [
             0.7777777777777778,
             "#fb9f3a"
            ],
            [
             0.8888888888888888,
             "#fdca26"
            ],
            [
             1,
             "#f0f921"
            ]
           ]
          },
          "colorway": [
           "#636efa",
           "#EF553B",
           "#00cc96",
           "#ab63fa",
           "#FFA15A",
           "#19d3f3",
           "#FF6692",
           "#B6E880",
           "#FF97FF",
           "#FECB52"
          ],
          "font": {
           "color": "#2a3f5f"
          },
          "geo": {
           "bgcolor": "white",
           "lakecolor": "white",
           "landcolor": "#E5ECF6",
           "showlakes": true,
           "showland": true,
           "subunitcolor": "white"
          },
          "hoverlabel": {
           "align": "left"
          },
          "hovermode": "closest",
          "mapbox": {
           "style": "light"
          },
          "paper_bgcolor": "white",
          "plot_bgcolor": "#E5ECF6",
          "polar": {
           "angularaxis": {
            "gridcolor": "white",
            "linecolor": "white",
            "ticks": ""
           },
           "bgcolor": "#E5ECF6",
           "radialaxis": {
            "gridcolor": "white",
            "linecolor": "white",
            "ticks": ""
           }
          },
          "scene": {
           "xaxis": {
            "backgroundcolor": "#E5ECF6",
            "gridcolor": "white",
            "gridwidth": 2,
            "linecolor": "white",
            "showbackground": true,
            "ticks": "",
            "zerolinecolor": "white"
           },
           "yaxis": {
            "backgroundcolor": "#E5ECF6",
            "gridcolor": "white",
            "gridwidth": 2,
            "linecolor": "white",
            "showbackground": true,
            "ticks": "",
            "zerolinecolor": "white"
           },
           "zaxis": {
            "backgroundcolor": "#E5ECF6",
            "gridcolor": "white",
            "gridwidth": 2,
            "linecolor": "white",
            "showbackground": true,
            "ticks": "",
            "zerolinecolor": "white"
           }
          },
          "shapedefaults": {
           "line": {
            "color": "#2a3f5f"
           }
          },
          "ternary": {
           "aaxis": {
            "gridcolor": "white",
            "linecolor": "white",
            "ticks": ""
           },
           "baxis": {
            "gridcolor": "white",
            "linecolor": "white",
            "ticks": ""
           },
           "bgcolor": "#E5ECF6",
           "caxis": {
            "gridcolor": "white",
            "linecolor": "white",
            "ticks": ""
           }
          },
          "title": {
           "x": 0.05
          },
          "xaxis": {
           "automargin": true,
           "gridcolor": "white",
           "linecolor": "white",
           "ticks": "",
           "title": {
            "standoff": 15
           },
           "zerolinecolor": "white",
           "zerolinewidth": 2
          },
          "yaxis": {
           "automargin": true,
           "gridcolor": "white",
           "linecolor": "white",
           "ticks": "",
           "title": {
            "standoff": 15
           },
           "zerolinecolor": "white",
           "zerolinewidth": 2
          }
         }
        },
        "title": {
         "text": "NZD_USD_MA_8_16"
        },
        "width": 1000,
        "xaxis": {
         "linecolor": "#3a4a54",
         "linewidth": 1,
         "showgrid": false,
         "zeroline": false
        },
        "yaxis": {
         "linecolor": "#3a4a54",
         "linewidth": 1,
         "showgrid": false,
         "zeroline": false
        }
       }
      }
     },
     "metadata": {},
     "output_type": "display_data"
    }
   ],
   "source": [
    "c = 'MA_8_16'\n",
    "for p in our_pairs:\n",
    "    temp_df = all_trades[(all_trades.CROSS==c)&(all_trades.PAIR==p)].copy()\n",
    "    temp_df['CUM_GAIN'] = temp_df.GAIN.cumsum()\n",
    "    plot_line(temp_df, p + \"_\" + c)"
   ]
  },
  {
   "cell_type": "code",
   "execution_count": 56,
   "metadata": {},
   "outputs": [
    {
     "data": {
      "application/vnd.plotly.v1+json": {
       "config": {
        "plotlyServerURL": "https://plot.ly"
       },
       "data": [
        {
         "line": {
          "color": "#3d825f",
          "shape": "spline",
          "width": 2
         },
         "mode": "lines",
         "name": "MA_8_16",
         "type": "scatter",
         "x": [
          "2022-11-09T21:00:00+00:00",
          "2022-11-09T22:00:00+00:00",
          "2022-11-10T01:00:00+00:00",
          "2022-11-10T03:00:00+00:00",
          "2022-11-10T04:00:00+00:00",
          "2022-11-10T05:00:00+00:00",
          "2022-11-10T07:00:00+00:00",
          "2022-11-10T09:00:00+00:00",
          "2022-11-10T10:00:00+00:00",
          "2022-11-10T11:00:00+00:00",
          "2022-11-10T12:00:00+00:00",
          "2022-11-10T13:00:00+00:00",
          "2022-11-10T14:00:00+00:00",
          "2022-11-10T15:00:00+00:00",
          "2022-11-10T17:00:00+00:00",
          "2022-11-10T18:00:00+00:00",
          "2022-11-10T22:00:00+00:00",
          "2022-11-10T23:00:00+00:00",
          "2022-11-11T01:00:00+00:00",
          "2022-11-11T03:00:00+00:00",
          "2022-11-11T04:00:00+00:00",
          "2022-11-11T05:00:00+00:00",
          "2022-11-11T06:00:00+00:00",
          "2022-11-11T07:00:00+00:00",
          "2022-11-11T08:00:00+00:00",
          "2022-11-11T09:00:00+00:00",
          "2022-11-11T10:00:00+00:00",
          "2022-11-11T13:00:00+00:00",
          "2022-11-11T14:00:00+00:00",
          "2022-11-11T18:00:00+00:00",
          "2022-11-11T21:00:00+00:00",
          "2022-11-13T23:00:00+00:00",
          "2022-11-14T00:00:00+00:00",
          "2022-11-14T02:00:00+00:00",
          "2022-11-14T03:00:00+00:00",
          "2022-11-14T04:00:00+00:00",
          "2022-11-14T05:00:00+00:00",
          "2022-11-14T06:00:00+00:00",
          "2022-11-14T07:00:00+00:00",
          "2022-11-14T08:00:00+00:00",
          "2022-11-14T09:00:00+00:00",
          "2022-11-14T11:00:00+00:00",
          "2022-11-14T12:00:00+00:00",
          "2022-11-14T13:00:00+00:00",
          "2022-11-14T14:00:00+00:00",
          "2022-11-14T15:00:00+00:00",
          "2022-11-14T16:00:00+00:00",
          "2022-11-14T17:00:00+00:00",
          "2022-11-14T18:00:00+00:00",
          "2022-11-14T19:00:00+00:00",
          "2022-11-14T20:00:00+00:00",
          "2022-11-14T21:00:00+00:00",
          "2022-11-14T22:00:00+00:00",
          "2022-11-14T23:00:00+00:00",
          "2022-11-15T00:00:00+00:00",
          "2022-11-15T01:00:00+00:00",
          "2022-11-15T02:00:00+00:00",
          "2022-11-15T03:00:00+00:00",
          "2022-11-15T04:00:00+00:00",
          "2022-11-15T05:00:00+00:00",
          "2022-11-15T06:00:00+00:00",
          "2022-11-15T07:00:00+00:00",
          "2022-11-15T08:00:00+00:00",
          "2022-11-15T09:00:00+00:00",
          "2022-11-15T11:00:00+00:00",
          "2022-11-15T12:00:00+00:00",
          "2022-11-15T13:00:00+00:00",
          "2022-11-15T14:00:00+00:00",
          "2022-11-15T15:00:00+00:00",
          "2022-11-15T16:00:00+00:00",
          "2022-11-15T18:00:00+00:00",
          "2022-11-15T19:00:00+00:00",
          "2022-11-15T20:00:00+00:00",
          "2022-11-15T21:00:00+00:00",
          "2022-11-15T22:00:00+00:00",
          "2022-11-15T23:00:00+00:00",
          "2022-11-16T01:00:00+00:00",
          "2022-11-16T02:00:00+00:00",
          "2022-11-16T03:00:00+00:00",
          "2022-11-16T04:00:00+00:00",
          "2022-11-16T05:00:00+00:00",
          "2022-11-16T06:00:00+00:00",
          "2022-11-16T08:00:00+00:00",
          "2022-11-16T09:00:00+00:00",
          "2022-11-16T11:00:00+00:00",
          "2022-11-16T12:00:00+00:00",
          "2022-11-16T15:00:00+00:00",
          "2022-11-16T16:00:00+00:00",
          "2022-11-16T18:00:00+00:00",
          "2022-11-16T19:00:00+00:00",
          "2022-11-16T20:00:00+00:00",
          "2022-11-16T21:00:00+00:00",
          "2022-11-16T22:00:00+00:00",
          "2022-11-16T23:00:00+00:00",
          "2022-11-17T03:00:00+00:00",
          "2022-11-17T06:00:00+00:00",
          "2022-11-17T07:00:00+00:00",
          "2022-11-17T08:00:00+00:00",
          "2022-11-17T09:00:00+00:00",
          "2022-11-17T10:00:00+00:00",
          "2022-11-17T12:00:00+00:00",
          "2022-11-17T13:00:00+00:00",
          "2022-11-17T15:00:00+00:00",
          "2022-11-17T18:00:00+00:00",
          "2022-11-17T19:00:00+00:00",
          "2022-11-17T20:00:00+00:00",
          "2022-11-17T21:00:00+00:00",
          "2022-11-17T22:00:00+00:00",
          "2022-11-17T23:00:00+00:00",
          "2022-11-18T00:00:00+00:00",
          "2022-11-18T01:00:00+00:00",
          "2022-11-18T02:00:00+00:00",
          "2022-11-18T03:00:00+00:00",
          "2022-11-18T05:00:00+00:00",
          "2022-11-18T08:00:00+00:00",
          "2022-11-18T10:00:00+00:00",
          "2022-11-18T13:00:00+00:00",
          "2022-11-18T14:00:00+00:00",
          "2022-11-18T15:00:00+00:00",
          "2022-11-18T17:00:00+00:00",
          "2022-11-18T18:00:00+00:00",
          "2022-11-18T19:00:00+00:00",
          "2022-11-18T20:00:00+00:00",
          "2022-11-18T21:00:00+00:00",
          "2022-11-20T23:00:00+00:00",
          "2022-11-21T00:00:00+00:00",
          "2022-11-21T01:00:00+00:00",
          "2022-11-21T02:00:00+00:00",
          "2022-11-21T03:00:00+00:00",
          "2022-11-21T05:00:00+00:00",
          "2022-11-21T06:00:00+00:00",
          "2022-11-21T07:00:00+00:00",
          "2022-11-21T08:00:00+00:00",
          "2022-11-21T09:00:00+00:00",
          "2022-11-21T10:00:00+00:00",
          "2022-11-21T12:00:00+00:00",
          "2022-11-21T15:00:00+00:00",
          "2022-11-21T16:00:00+00:00",
          "2022-11-21T17:00:00+00:00",
          "2022-11-21T18:00:00+00:00",
          "2022-11-21T19:00:00+00:00",
          "2022-11-21T22:00:00+00:00",
          "2022-11-21T23:00:00+00:00",
          "2022-11-22T00:00:00+00:00",
          "2022-11-22T01:00:00+00:00",
          "2022-11-22T02:00:00+00:00",
          "2022-11-22T03:00:00+00:00",
          "2022-11-22T04:00:00+00:00",
          "2022-11-22T06:00:00+00:00",
          "2022-11-22T07:00:00+00:00",
          "2022-11-22T09:00:00+00:00",
          "2022-11-22T10:00:00+00:00",
          "2022-11-22T11:00:00+00:00",
          "2022-11-22T13:00:00+00:00",
          "2022-11-22T15:00:00+00:00",
          "2022-11-22T16:00:00+00:00",
          "2022-11-22T17:00:00+00:00",
          "2022-11-22T18:00:00+00:00",
          "2022-11-22T19:00:00+00:00",
          "2022-11-22T20:00:00+00:00",
          "2022-11-22T21:00:00+00:00",
          "2022-11-22T22:00:00+00:00",
          "2022-11-22T23:00:00+00:00",
          "2022-11-23T00:00:00+00:00",
          "2022-11-23T01:00:00+00:00",
          "2022-11-23T02:00:00+00:00",
          "2022-11-23T05:00:00+00:00",
          "2022-11-23T06:00:00+00:00",
          "2022-11-23T07:00:00+00:00",
          "2022-11-23T10:00:00+00:00",
          "2022-11-23T12:00:00+00:00",
          "2022-11-23T13:00:00+00:00",
          "2022-11-23T14:00:00+00:00",
          "2022-11-23T15:00:00+00:00",
          "2022-11-23T16:00:00+00:00",
          "2022-11-23T17:00:00+00:00",
          "2022-11-23T20:00:00+00:00",
          "2022-11-23T21:00:00+00:00",
          "2022-11-24T00:00:00+00:00",
          "2022-11-24T02:00:00+00:00",
          "2022-11-24T03:00:00+00:00",
          "2022-11-24T05:00:00+00:00",
          "2022-11-24T07:00:00+00:00",
          "2022-11-24T10:00:00+00:00",
          "2022-11-24T11:00:00+00:00",
          "2022-11-24T12:00:00+00:00",
          "2022-11-24T15:00:00+00:00",
          "2022-11-24T19:00:00+00:00",
          "2022-11-24T20:00:00+00:00",
          "2022-11-24T21:00:00+00:00",
          "2022-11-24T22:00:00+00:00",
          "2022-11-24T23:00:00+00:00",
          "2022-11-25T00:00:00+00:00",
          "2022-11-25T01:00:00+00:00",
          "2022-11-25T03:00:00+00:00",
          "2022-11-25T06:00:00+00:00",
          "2022-11-25T08:00:00+00:00",
          "2022-11-25T09:00:00+00:00",
          "2022-11-25T11:00:00+00:00",
          "2022-11-25T13:00:00+00:00",
          "2022-11-25T14:00:00+00:00",
          "2022-11-25T18:00:00+00:00",
          "2022-11-25T19:00:00+00:00",
          "2022-11-25T20:00:00+00:00",
          "2022-11-25T21:00:00+00:00",
          "2022-11-27T22:00:00+00:00",
          "2022-11-27T23:00:00+00:00",
          "2022-11-28T00:00:00+00:00",
          "2022-11-28T01:00:00+00:00",
          "2022-11-28T02:00:00+00:00",
          "2022-11-28T04:00:00+00:00",
          "2022-11-28T08:00:00+00:00",
          "2022-11-28T09:00:00+00:00",
          "2022-11-28T10:00:00+00:00",
          "2022-11-28T11:00:00+00:00",
          "2022-11-28T12:00:00+00:00",
          "2022-11-28T13:00:00+00:00",
          "2022-11-28T15:00:00+00:00",
          "2022-11-28T16:00:00+00:00",
          "2022-11-28T17:00:00+00:00",
          "2022-11-28T18:00:00+00:00",
          "2022-11-28T19:00:00+00:00",
          "2022-11-28T20:00:00+00:00",
          "2022-11-28T21:00:00+00:00",
          "2022-11-28T22:00:00+00:00",
          "2022-11-28T23:00:00+00:00",
          "2022-11-29T01:00:00+00:00",
          "2022-11-29T04:00:00+00:00",
          "2022-11-29T05:00:00+00:00",
          "2022-11-29T06:00:00+00:00",
          "2022-11-29T07:00:00+00:00",
          "2022-11-29T08:00:00+00:00",
          "2022-11-29T09:00:00+00:00",
          "2022-11-29T11:00:00+00:00",
          "2022-11-29T12:00:00+00:00",
          "2022-11-29T14:00:00+00:00",
          "2022-11-29T15:00:00+00:00",
          "2022-11-29T16:00:00+00:00",
          "2022-11-29T17:00:00+00:00",
          "2022-11-29T18:00:00+00:00",
          "2022-11-29T19:00:00+00:00",
          "2022-11-29T20:00:00+00:00",
          "2022-11-29T21:00:00+00:00",
          "2022-11-29T22:00:00+00:00",
          "2022-11-29T23:00:00+00:00",
          "2022-11-30T00:00:00+00:00",
          "2022-11-30T01:00:00+00:00",
          "2022-11-30T02:00:00+00:00",
          "2022-11-30T03:00:00+00:00",
          "2022-11-30T04:00:00+00:00",
          "2022-11-30T05:00:00+00:00",
          "2022-11-30T07:00:00+00:00",
          "2022-11-30T08:00:00+00:00",
          "2022-11-30T09:00:00+00:00",
          "2022-11-30T11:00:00+00:00",
          "2022-11-30T12:00:00+00:00",
          "2022-11-30T14:00:00+00:00",
          "2022-11-30T15:00:00+00:00",
          "2022-11-30T16:00:00+00:00",
          "2022-11-30T17:00:00+00:00",
          "2022-11-30T19:00:00+00:00",
          "2022-11-30T20:00:00+00:00",
          "2022-11-30T21:00:00+00:00",
          "2022-11-30T22:00:00+00:00",
          "2022-11-30T23:00:00+00:00",
          "2022-12-01T00:00:00+00:00",
          "2022-12-01T01:00:00+00:00",
          "2022-12-01T02:00:00+00:00",
          "2022-12-01T03:00:00+00:00",
          "2022-12-01T06:00:00+00:00",
          "2022-12-01T11:00:00+00:00",
          "2022-12-01T12:00:00+00:00",
          "2022-12-01T13:00:00+00:00",
          "2022-12-01T14:00:00+00:00",
          "2022-12-01T15:00:00+00:00",
          "2022-12-01T17:00:00+00:00",
          "2022-12-01T19:00:00+00:00",
          "2022-12-01T20:00:00+00:00",
          "2022-12-01T21:00:00+00:00",
          "2022-12-01T22:00:00+00:00",
          "2022-12-01T23:00:00+00:00",
          "2022-12-02T02:00:00+00:00",
          "2022-12-02T03:00:00+00:00",
          "2022-12-02T04:00:00+00:00",
          "2022-12-02T05:00:00+00:00",
          "2022-12-02T06:00:00+00:00",
          "2022-12-02T07:00:00+00:00",
          "2022-12-02T08:00:00+00:00",
          "2022-12-02T09:00:00+00:00",
          "2022-12-02T10:00:00+00:00",
          "2022-12-02T11:00:00+00:00",
          "2022-12-02T13:00:00+00:00",
          "2022-12-02T14:00:00+00:00",
          "2022-12-02T15:00:00+00:00",
          "2022-12-02T16:00:00+00:00",
          "2022-12-02T17:00:00+00:00",
          "2022-12-02T18:00:00+00:00",
          "2022-12-02T19:00:00+00:00",
          "2022-12-02T20:00:00+00:00",
          "2022-12-02T21:00:00+00:00",
          "2022-12-04T22:00:00+00:00",
          "2022-12-04T23:00:00+00:00",
          "2022-12-05T01:00:00+00:00",
          "2022-12-05T02:00:00+00:00",
          "2022-12-05T05:00:00+00:00",
          "2022-12-05T06:00:00+00:00",
          "2022-12-05T07:00:00+00:00",
          "2022-12-05T09:00:00+00:00",
          "2022-12-05T10:00:00+00:00",
          "2022-12-05T11:00:00+00:00",
          "2022-12-05T12:00:00+00:00",
          "2022-12-05T13:00:00+00:00",
          "2022-12-05T14:00:00+00:00",
          "2022-12-05T15:00:00+00:00",
          "2022-12-05T17:00:00+00:00",
          "2022-12-05T19:00:00+00:00",
          "2022-12-05T21:00:00+00:00",
          "2022-12-05T23:00:00+00:00",
          "2022-12-06T00:00:00+00:00",
          "2022-12-06T01:00:00+00:00",
          "2022-12-06T03:00:00+00:00",
          "2022-12-06T04:00:00+00:00",
          "2022-12-06T05:00:00+00:00",
          "2022-12-06T06:00:00+00:00",
          "2022-12-06T07:00:00+00:00",
          "2022-12-06T08:00:00+00:00",
          "2022-12-06T09:00:00+00:00",
          "2022-12-06T10:00:00+00:00",
          "2022-12-06T11:00:00+00:00",
          "2022-12-06T12:00:00+00:00",
          "2022-12-06T13:00:00+00:00",
          "2022-12-06T14:00:00+00:00",
          "2022-12-06T15:00:00+00:00",
          "2022-12-06T16:00:00+00:00",
          "2022-12-06T17:00:00+00:00",
          "2022-12-06T18:00:00+00:00",
          "2022-12-06T19:00:00+00:00",
          "2022-12-06T20:00:00+00:00",
          "2022-12-06T21:00:00+00:00",
          "2022-12-06T22:00:00+00:00",
          "2022-12-06T23:00:00+00:00",
          "2022-12-07T00:00:00+00:00",
          "2022-12-07T01:00:00+00:00",
          "2022-12-07T03:00:00+00:00",
          "2022-12-07T04:00:00+00:00",
          "2022-12-07T05:00:00+00:00",
          "2022-12-07T06:00:00+00:00",
          "2022-12-07T07:00:00+00:00",
          "2022-12-07T09:00:00+00:00",
          "2022-12-07T10:00:00+00:00",
          "2022-12-07T11:00:00+00:00",
          "2022-12-07T14:00:00+00:00",
          "2022-12-07T15:00:00+00:00",
          "2022-12-07T17:00:00+00:00",
          "2022-12-07T18:00:00+00:00",
          "2022-12-07T19:00:00+00:00",
          "2022-12-07T21:00:00+00:00",
          "2022-12-07T22:00:00+00:00",
          "2022-12-07T23:00:00+00:00",
          "2022-12-08T01:00:00+00:00",
          "2022-12-08T02:00:00+00:00",
          "2022-12-08T03:00:00+00:00",
          "2022-12-08T04:00:00+00:00",
          "2022-12-08T05:00:00+00:00",
          "2022-12-08T06:00:00+00:00",
          "2022-12-08T07:00:00+00:00",
          "2022-12-08T08:00:00+00:00",
          "2022-12-08T09:00:00+00:00",
          "2022-12-08T10:00:00+00:00",
          "2022-12-08T11:00:00+00:00",
          "2022-12-08T12:00:00+00:00",
          "2022-12-08T13:00:00+00:00",
          "2022-12-08T14:00:00+00:00",
          "2022-12-08T15:00:00+00:00",
          "2022-12-08T16:00:00+00:00",
          "2022-12-08T17:00:00+00:00",
          "2022-12-08T18:00:00+00:00",
          "2022-12-08T19:00:00+00:00",
          "2022-12-08T21:00:00+00:00",
          "2022-12-08T23:00:00+00:00",
          "2022-12-09T00:00:00+00:00",
          "2022-12-09T02:00:00+00:00",
          "2022-12-09T03:00:00+00:00",
          "2022-12-09T04:00:00+00:00",
          "2022-12-09T05:00:00+00:00",
          "2022-12-09T06:00:00+00:00",
          "2022-12-09T07:00:00+00:00",
          "2022-12-09T09:00:00+00:00",
          "2022-12-09T12:00:00+00:00",
          "2022-12-09T13:00:00+00:00",
          "2022-12-09T14:00:00+00:00",
          "2022-12-09T15:00:00+00:00",
          "2022-12-09T16:00:00+00:00",
          "2022-12-09T17:00:00+00:00",
          "2022-12-09T19:00:00+00:00",
          "2022-12-09T20:00:00+00:00",
          "2022-12-11T23:00:00+00:00",
          "2022-12-12T00:00:00+00:00",
          "2022-12-12T01:00:00+00:00",
          "2022-12-12T02:00:00+00:00",
          "2022-12-12T03:00:00+00:00",
          "2022-12-12T04:00:00+00:00",
          "2022-12-12T05:00:00+00:00",
          "2022-12-12T07:00:00+00:00",
          "2022-12-12T08:00:00+00:00",
          "2022-12-12T09:00:00+00:00",
          "2022-12-12T10:00:00+00:00",
          "2022-12-12T11:00:00+00:00",
          "2022-12-12T14:00:00+00:00",
          "2022-12-12T15:00:00+00:00",
          "2022-12-12T16:00:00+00:00",
          "2022-12-12T17:00:00+00:00",
          "2022-12-12T19:00:00+00:00",
          "2022-12-12T20:00:00+00:00",
          "2022-12-12T21:00:00+00:00",
          "2022-12-12T23:00:00+00:00",
          "2022-12-13T01:00:00+00:00",
          "2022-12-13T02:00:00+00:00",
          "2022-12-13T03:00:00+00:00",
          "2022-12-13T04:00:00+00:00",
          "2022-12-13T05:00:00+00:00",
          "2022-12-13T06:00:00+00:00",
          "2022-12-13T07:00:00+00:00",
          "2022-12-13T08:00:00+00:00",
          "2022-12-13T09:00:00+00:00",
          "2022-12-13T10:00:00+00:00",
          "2022-12-13T11:00:00+00:00",
          "2022-12-13T13:00:00+00:00",
          "2022-12-13T14:00:00+00:00",
          "2022-12-13T19:00:00+00:00",
          "2022-12-13T20:00:00+00:00",
          "2022-12-13T22:00:00+00:00",
          "2022-12-13T23:00:00+00:00",
          "2022-12-14T00:00:00+00:00",
          "2022-12-14T01:00:00+00:00",
          "2022-12-14T02:00:00+00:00",
          "2022-12-14T03:00:00+00:00",
          "2022-12-14T04:00:00+00:00",
          "2022-12-14T05:00:00+00:00",
          "2022-12-14T06:00:00+00:00",
          "2022-12-14T08:00:00+00:00",
          "2022-12-14T09:00:00+00:00",
          "2022-12-14T10:00:00+00:00",
          "2022-12-14T11:00:00+00:00",
          "2022-12-14T14:00:00+00:00",
          "2022-12-14T15:00:00+00:00",
          "2022-12-14T16:00:00+00:00",
          "2022-12-14T17:00:00+00:00",
          "2022-12-14T18:00:00+00:00",
          "2022-12-14T19:00:00+00:00",
          "2022-12-14T20:00:00+00:00",
          "2022-12-14T21:00:00+00:00",
          "2022-12-14T22:00:00+00:00",
          "2022-12-14T23:00:00+00:00",
          "2022-12-15T00:00:00+00:00",
          "2022-12-15T01:00:00+00:00",
          "2022-12-15T02:00:00+00:00",
          "2022-12-15T03:00:00+00:00",
          "2022-12-15T04:00:00+00:00",
          "2022-12-15T05:00:00+00:00",
          "2022-12-15T06:00:00+00:00",
          "2022-12-15T07:00:00+00:00",
          "2022-12-15T08:00:00+00:00",
          "2022-12-15T09:00:00+00:00",
          "2022-12-15T14:00:00+00:00",
          "2022-12-15T15:00:00+00:00",
          "2022-12-15T16:00:00+00:00",
          "2022-12-15T18:00:00+00:00",
          "2022-12-15T19:00:00+00:00",
          "2022-12-15T22:00:00+00:00",
          "2022-12-15T23:00:00+00:00",
          "2022-12-16T01:00:00+00:00",
          "2022-12-16T04:00:00+00:00",
          "2022-12-16T05:00:00+00:00",
          "2022-12-16T06:00:00+00:00",
          "2022-12-16T07:00:00+00:00",
          "2022-12-16T08:00:00+00:00",
          "2022-12-16T09:00:00+00:00",
          "2022-12-16T10:00:00+00:00",
          "2022-12-16T11:00:00+00:00",
          "2022-12-16T12:00:00+00:00",
          "2022-12-16T13:00:00+00:00",
          "2022-12-16T14:00:00+00:00",
          "2022-12-16T16:00:00+00:00",
          "2022-12-16T21:00:00+00:00",
          "2022-12-19T01:00:00+00:00",
          "2022-12-19T02:00:00+00:00",
          "2022-12-19T03:00:00+00:00",
          "2022-12-19T04:00:00+00:00",
          "2022-12-19T05:00:00+00:00",
          "2022-12-19T06:00:00+00:00",
          "2022-12-19T07:00:00+00:00",
          "2022-12-19T08:00:00+00:00",
          "2022-12-19T09:00:00+00:00",
          "2022-12-19T10:00:00+00:00",
          "2022-12-19T11:00:00+00:00",
          "2022-12-19T12:00:00+00:00",
          "2022-12-19T13:00:00+00:00",
          "2022-12-19T14:00:00+00:00",
          "2022-12-19T15:00:00+00:00",
          "2022-12-19T16:00:00+00:00",
          "2022-12-19T17:00:00+00:00",
          "2022-12-19T19:00:00+00:00",
          "2022-12-19T20:00:00+00:00",
          "2022-12-19T21:00:00+00:00",
          "2022-12-19T23:00:00+00:00",
          "2022-12-20T01:00:00+00:00",
          "2022-12-20T02:00:00+00:00",
          "2022-12-20T03:00:00+00:00",
          "2022-12-20T04:00:00+00:00",
          "2022-12-20T05:00:00+00:00",
          "2022-12-20T07:00:00+00:00",
          "2022-12-20T08:00:00+00:00",
          "2022-12-20T09:00:00+00:00",
          "2022-12-20T10:00:00+00:00",
          "2022-12-20T11:00:00+00:00",
          "2022-12-20T12:00:00+00:00",
          "2022-12-20T13:00:00+00:00",
          "2022-12-20T15:00:00+00:00",
          "2022-12-20T17:00:00+00:00",
          "2022-12-20T18:00:00+00:00",
          "2022-12-20T20:00:00+00:00",
          "2022-12-20T21:00:00+00:00",
          "2022-12-20T22:00:00+00:00",
          "2022-12-20T23:00:00+00:00",
          "2022-12-21T00:00:00+00:00",
          "2022-12-21T01:00:00+00:00",
          "2022-12-21T02:00:00+00:00",
          "2022-12-21T03:00:00+00:00",
          "2022-12-21T04:00:00+00:00",
          "2022-12-21T07:00:00+00:00",
          "2022-12-21T08:00:00+00:00",
          "2022-12-21T09:00:00+00:00",
          "2022-12-21T10:00:00+00:00",
          "2022-12-21T11:00:00+00:00",
          "2022-12-21T12:00:00+00:00",
          "2022-12-21T14:00:00+00:00",
          "2022-12-21T16:00:00+00:00",
          "2022-12-21T17:00:00+00:00",
          "2022-12-21T18:00:00+00:00",
          "2022-12-21T19:00:00+00:00",
          "2022-12-21T20:00:00+00:00",
          "2022-12-21T21:00:00+00:00",
          "2022-12-22T00:00:00+00:00",
          "2022-12-22T01:00:00+00:00",
          "2022-12-22T02:00:00+00:00",
          "2022-12-22T03:00:00+00:00",
          "2022-12-22T04:00:00+00:00",
          "2022-12-22T05:00:00+00:00",
          "2022-12-22T06:00:00+00:00",
          "2022-12-22T08:00:00+00:00",
          "2022-12-22T10:00:00+00:00",
          "2022-12-22T11:00:00+00:00",
          "2022-12-22T12:00:00+00:00",
          "2022-12-22T13:00:00+00:00",
          "2022-12-22T14:00:00+00:00",
          "2022-12-22T15:00:00+00:00",
          "2022-12-22T16:00:00+00:00",
          "2022-12-22T17:00:00+00:00",
          "2022-12-22T20:00:00+00:00",
          "2022-12-22T23:00:00+00:00",
          "2022-12-23T00:00:00+00:00",
          "2022-12-23T01:00:00+00:00",
          "2022-12-23T02:00:00+00:00",
          "2022-12-23T03:00:00+00:00",
          "2022-12-23T04:00:00+00:00",
          "2022-12-23T05:00:00+00:00",
          "2022-12-23T06:00:00+00:00",
          "2022-12-23T09:00:00+00:00",
          "2022-12-23T10:00:00+00:00",
          "2022-12-23T16:00:00+00:00",
          "2022-12-23T17:00:00+00:00",
          "2022-12-23T18:00:00+00:00",
          "2022-12-23T19:00:00+00:00",
          "2022-12-26T22:00:00+00:00",
          "2022-12-26T23:00:00+00:00",
          "2022-12-27T01:00:00+00:00",
          "2022-12-27T02:00:00+00:00",
          "2022-12-27T03:00:00+00:00",
          "2022-12-27T04:00:00+00:00",
          "2022-12-27T06:00:00+00:00",
          "2022-12-27T07:00:00+00:00",
          "2022-12-27T08:00:00+00:00",
          "2022-12-27T09:00:00+00:00",
          "2022-12-27T10:00:00+00:00",
          "2022-12-27T11:00:00+00:00",
          "2022-12-27T12:00:00+00:00",
          "2022-12-27T14:00:00+00:00",
          "2022-12-27T18:00:00+00:00",
          "2022-12-27T20:00:00+00:00",
          "2022-12-27T21:00:00+00:00",
          "2022-12-27T23:00:00+00:00",
          "2022-12-28T01:00:00+00:00",
          "2022-12-28T02:00:00+00:00",
          "2022-12-28T03:00:00+00:00",
          "2022-12-28T04:00:00+00:00",
          "2022-12-28T05:00:00+00:00",
          "2022-12-28T07:00:00+00:00",
          "2022-12-28T08:00:00+00:00",
          "2022-12-28T09:00:00+00:00",
          "2022-12-28T10:00:00+00:00",
          "2022-12-28T11:00:00+00:00",
          "2022-12-28T12:00:00+00:00",
          "2022-12-28T14:00:00+00:00",
          "2022-12-28T15:00:00+00:00",
          "2022-12-28T16:00:00+00:00",
          "2022-12-28T18:00:00+00:00",
          "2022-12-28T19:00:00+00:00",
          "2022-12-28T20:00:00+00:00",
          "2022-12-28T21:00:00+00:00",
          "2022-12-28T22:00:00+00:00",
          "2022-12-28T23:00:00+00:00",
          "2022-12-29T02:00:00+00:00",
          "2022-12-29T03:00:00+00:00",
          "2022-12-29T04:00:00+00:00",
          "2022-12-29T05:00:00+00:00",
          "2022-12-29T06:00:00+00:00",
          "2022-12-29T07:00:00+00:00",
          "2022-12-29T10:00:00+00:00",
          "2022-12-29T11:00:00+00:00",
          "2022-12-29T12:00:00+00:00",
          "2022-12-29T13:00:00+00:00",
          "2022-12-29T14:00:00+00:00",
          "2022-12-29T15:00:00+00:00",
          "2022-12-29T17:00:00+00:00",
          "2022-12-29T18:00:00+00:00",
          "2022-12-29T19:00:00+00:00",
          "2022-12-29T20:00:00+00:00",
          "2022-12-29T21:00:00+00:00",
          "2022-12-30T00:00:00+00:00",
          "2022-12-30T01:00:00+00:00",
          "2022-12-30T02:00:00+00:00",
          "2022-12-30T03:00:00+00:00",
          "2022-12-30T04:00:00+00:00",
          "2022-12-30T05:00:00+00:00",
          "2022-12-30T08:00:00+00:00",
          "2022-12-30T09:00:00+00:00",
          "2022-12-30T10:00:00+00:00",
          "2022-12-30T12:00:00+00:00",
          "2022-12-30T13:00:00+00:00",
          "2022-12-30T14:00:00+00:00",
          "2022-12-30T17:00:00+00:00",
          "2022-12-30T18:00:00+00:00",
          "2022-12-30T20:00:00+00:00",
          "2022-12-30T21:00:00+00:00",
          "2023-01-02T00:00:00+00:00",
          "2023-01-02T02:00:00+00:00",
          "2023-01-02T03:00:00+00:00",
          "2023-01-02T05:00:00+00:00",
          "2023-01-02T07:00:00+00:00",
          "2023-01-02T08:00:00+00:00",
          "2023-01-02T10:00:00+00:00",
          "2023-01-02T11:00:00+00:00",
          "2023-01-02T12:00:00+00:00",
          "2023-01-02T13:00:00+00:00",
          "2023-01-02T14:00:00+00:00",
          "2023-01-02T15:00:00+00:00",
          "2023-01-02T16:00:00+00:00",
          "2023-01-02T17:00:00+00:00",
          "2023-01-02T18:00:00+00:00",
          "2023-01-02T20:00:00+00:00",
          "2023-01-02T22:00:00+00:00",
          "2023-01-02T23:00:00+00:00",
          "2023-01-03T00:00:00+00:00",
          "2023-01-03T01:00:00+00:00",
          "2023-01-03T02:00:00+00:00",
          "2023-01-03T03:00:00+00:00",
          "2023-01-03T04:00:00+00:00",
          "2023-01-03T05:00:00+00:00",
          "2023-01-03T06:00:00+00:00",
          "2023-01-03T07:00:00+00:00",
          "2023-01-03T08:00:00+00:00",
          "2023-01-03T09:00:00+00:00",
          "2023-01-03T10:00:00+00:00",
          "2023-01-03T11:00:00+00:00",
          "2023-01-03T12:00:00+00:00",
          "2023-01-03T14:00:00+00:00",
          "2023-01-03T16:00:00+00:00",
          "2023-01-03T17:00:00+00:00",
          "2023-01-03T18:00:00+00:00",
          "2023-01-03T19:00:00+00:00",
          "2023-01-03T20:00:00+00:00",
          "2023-01-03T21:00:00+00:00",
          "2023-01-03T22:00:00+00:00",
          "2023-01-03T23:00:00+00:00",
          "2023-01-04T00:00:00+00:00",
          "2023-01-04T02:00:00+00:00",
          "2023-01-04T03:00:00+00:00",
          "2023-01-04T04:00:00+00:00",
          "2023-01-04T05:00:00+00:00",
          "2023-01-04T06:00:00+00:00",
          "2023-01-04T07:00:00+00:00",
          "2023-01-04T08:00:00+00:00",
          "2023-01-04T10:00:00+00:00",
          "2023-01-04T14:00:00+00:00",
          "2023-01-04T15:00:00+00:00",
          "2023-01-04T16:00:00+00:00",
          "2023-01-04T18:00:00+00:00",
          "2023-01-04T19:00:00+00:00",
          "2023-01-04T20:00:00+00:00",
          "2023-01-04T21:00:00+00:00",
          "2023-01-04T22:00:00+00:00",
          "2023-01-05T02:00:00+00:00",
          "2023-01-05T03:00:00+00:00",
          "2023-01-05T05:00:00+00:00",
          "2023-01-05T06:00:00+00:00",
          "2023-01-05T08:00:00+00:00",
          "2023-01-05T09:00:00+00:00",
          "2023-01-05T10:00:00+00:00",
          "2023-01-05T11:00:00+00:00",
          "2023-01-05T12:00:00+00:00",
          "2023-01-05T13:00:00+00:00",
          "2023-01-05T14:00:00+00:00",
          "2023-01-05T15:00:00+00:00",
          "2023-01-05T16:00:00+00:00",
          "2023-01-05T17:00:00+00:00",
          "2023-01-05T18:00:00+00:00",
          "2023-01-05T19:00:00+00:00",
          "2023-01-05T20:00:00+00:00",
          "2023-01-05T21:00:00+00:00",
          "2023-01-05T22:00:00+00:00",
          "2023-01-05T23:00:00+00:00",
          "2023-01-06T01:00:00+00:00",
          "2023-01-06T02:00:00+00:00",
          "2023-01-06T03:00:00+00:00",
          "2023-01-06T04:00:00+00:00",
          "2023-01-06T05:00:00+00:00",
          "2023-01-06T06:00:00+00:00",
          "2023-01-06T07:00:00+00:00",
          "2023-01-06T08:00:00+00:00",
          "2023-01-06T09:00:00+00:00",
          "2023-01-06T10:00:00+00:00",
          "2023-01-06T11:00:00+00:00",
          "2023-01-06T12:00:00+00:00",
          "2023-01-06T14:00:00+00:00",
          "2023-01-06T15:00:00+00:00",
          "2023-01-06T16:00:00+00:00",
          "2023-01-06T17:00:00+00:00",
          "2023-01-06T19:00:00+00:00",
          "2023-01-06T21:00:00+00:00",
          "2023-01-08T22:00:00+00:00",
          "2023-01-09T00:00:00+00:00",
          "2023-01-09T06:00:00+00:00",
          "2023-01-09T07:00:00+00:00",
          "2023-01-09T08:00:00+00:00",
          "2023-01-09T09:00:00+00:00",
          "2023-01-09T10:00:00+00:00",
          "2023-01-09T11:00:00+00:00",
          "2023-01-09T12:00:00+00:00",
          "2023-01-09T13:00:00+00:00",
          "2023-01-09T14:00:00+00:00",
          "2023-01-09T15:00:00+00:00",
          "2023-01-09T17:00:00+00:00",
          "2023-01-09T18:00:00+00:00",
          "2023-01-09T19:00:00+00:00",
          "2023-01-09T20:00:00+00:00",
          "2023-01-09T21:00:00+00:00",
          "2023-01-09T22:00:00+00:00",
          "2023-01-10T00:00:00+00:00",
          "2023-01-10T01:00:00+00:00",
          "2023-01-10T02:00:00+00:00",
          "2023-01-10T03:00:00+00:00",
          "2023-01-10T04:00:00+00:00",
          "2023-01-10T05:00:00+00:00",
          "2023-01-10T06:00:00+00:00",
          "2023-01-10T07:00:00+00:00",
          "2023-01-10T08:00:00+00:00",
          "2023-01-10T09:00:00+00:00",
          "2023-01-10T10:00:00+00:00",
          "2023-01-10T11:00:00+00:00",
          "2023-01-10T12:00:00+00:00",
          "2023-01-10T13:00:00+00:00",
          "2023-01-10T14:00:00+00:00",
          "2023-01-10T15:00:00+00:00",
          "2023-01-10T16:00:00+00:00",
          "2023-01-10T18:00:00+00:00",
          "2023-01-10T19:00:00+00:00",
          "2023-01-10T20:00:00+00:00",
          "2023-01-10T21:00:00+00:00",
          "2023-01-11T00:00:00+00:00",
          "2023-01-11T01:00:00+00:00",
          "2023-01-11T03:00:00+00:00",
          "2023-01-11T04:00:00+00:00",
          "2023-01-11T06:00:00+00:00",
          "2023-01-11T08:00:00+00:00",
          "2023-01-11T09:00:00+00:00",
          "2023-01-11T10:00:00+00:00",
          "2023-01-11T11:00:00+00:00",
          "2023-01-11T12:00:00+00:00",
          "2023-01-11T13:00:00+00:00",
          "2023-01-11T14:00:00+00:00",
          "2023-01-11T19:00:00+00:00",
          "2023-01-11T20:00:00+00:00",
          "2023-01-11T21:00:00+00:00",
          "2023-01-11T22:00:00+00:00",
          "2023-01-11T23:00:00+00:00",
          "2023-01-12T01:00:00+00:00",
          "2023-01-12T02:00:00+00:00",
          "2023-01-12T03:00:00+00:00",
          "2023-01-12T06:00:00+00:00",
          "2023-01-12T07:00:00+00:00",
          "2023-01-12T08:00:00+00:00",
          "2023-01-12T09:00:00+00:00",
          "2023-01-12T10:00:00+00:00",
          "2023-01-12T11:00:00+00:00",
          "2023-01-12T12:00:00+00:00",
          "2023-01-12T13:00:00+00:00",
          "2023-01-12T14:00:00+00:00",
          "2023-01-12T15:00:00+00:00",
          "2023-01-12T16:00:00+00:00",
          "2023-01-12T17:00:00+00:00",
          "2023-01-12T18:00:00+00:00",
          "2023-01-12T20:00:00+00:00",
          "2023-01-12T21:00:00+00:00",
          "2023-01-12T22:00:00+00:00",
          "2023-01-12T23:00:00+00:00",
          "2023-01-13T02:00:00+00:00",
          "2023-01-13T03:00:00+00:00",
          "2023-01-13T04:00:00+00:00",
          "2023-01-13T05:00:00+00:00",
          "2023-01-13T06:00:00+00:00",
          "2023-01-13T07:00:00+00:00",
          "2023-01-13T08:00:00+00:00",
          "2023-01-13T09:00:00+00:00",
          "2023-01-13T10:00:00+00:00",
          "2023-01-13T11:00:00+00:00",
          "2023-01-13T13:00:00+00:00",
          "2023-01-13T14:00:00+00:00",
          "2023-01-13T15:00:00+00:00",
          "2023-01-13T16:00:00+00:00",
          "2023-01-13T17:00:00+00:00",
          "2023-01-13T18:00:00+00:00",
          "2023-01-13T19:00:00+00:00",
          "2023-01-13T20:00:00+00:00",
          "2023-01-15T22:00:00+00:00",
          "2023-01-15T23:00:00+00:00",
          "2023-01-16T00:00:00+00:00",
          "2023-01-16T01:00:00+00:00",
          "2023-01-16T02:00:00+00:00",
          "2023-01-16T03:00:00+00:00",
          "2023-01-16T08:00:00+00:00",
          "2023-01-16T09:00:00+00:00",
          "2023-01-16T10:00:00+00:00",
          "2023-01-16T11:00:00+00:00",
          "2023-01-16T15:00:00+00:00",
          "2023-01-16T16:00:00+00:00",
          "2023-01-16T19:00:00+00:00",
          "2023-01-16T20:00:00+00:00",
          "2023-01-16T21:00:00+00:00",
          "2023-01-16T22:00:00+00:00",
          "2023-01-16T23:00:00+00:00",
          "2023-01-17T00:00:00+00:00",
          "2023-01-17T01:00:00+00:00",
          "2023-01-17T02:00:00+00:00",
          "2023-01-17T03:00:00+00:00",
          "2023-01-17T04:00:00+00:00",
          "2023-01-17T05:00:00+00:00",
          "2023-01-17T06:00:00+00:00",
          "2023-01-17T08:00:00+00:00",
          "2023-01-17T09:00:00+00:00",
          "2023-01-17T10:00:00+00:00",
          "2023-01-17T12:00:00+00:00",
          "2023-01-17T14:00:00+00:00",
          "2023-01-17T15:00:00+00:00",
          "2023-01-17T16:00:00+00:00",
          "2023-01-17T18:00:00+00:00",
          "2023-01-17T19:00:00+00:00",
          "2023-01-17T21:00:00+00:00",
          "2023-01-17T22:00:00+00:00",
          "2023-01-17T23:00:00+00:00",
          "2023-01-18T00:00:00+00:00",
          "2023-01-18T02:00:00+00:00",
          "2023-01-18T03:00:00+00:00",
          "2023-01-18T04:00:00+00:00",
          "2023-01-18T06:00:00+00:00",
          "2023-01-18T08:00:00+00:00",
          "2023-01-18T09:00:00+00:00",
          "2023-01-18T12:00:00+00:00",
          "2023-01-18T13:00:00+00:00",
          "2023-01-18T14:00:00+00:00",
          "2023-01-18T15:00:00+00:00",
          "2023-01-18T16:00:00+00:00",
          "2023-01-18T18:00:00+00:00",
          "2023-01-18T19:00:00+00:00",
          "2023-01-18T20:00:00+00:00",
          "2023-01-18T22:00:00+00:00",
          "2023-01-19T00:00:00+00:00",
          "2023-01-19T03:00:00+00:00",
          "2023-01-19T04:00:00+00:00",
          "2023-01-19T05:00:00+00:00",
          "2023-01-19T07:00:00+00:00",
          "2023-01-19T08:00:00+00:00",
          "2023-01-19T09:00:00+00:00",
          "2023-01-19T12:00:00+00:00",
          "2023-01-19T13:00:00+00:00",
          "2023-01-19T14:00:00+00:00",
          "2023-01-19T17:00:00+00:00",
          "2023-01-19T19:00:00+00:00",
          "2023-01-19T20:00:00+00:00",
          "2023-01-19T21:00:00+00:00",
          "2023-01-19T22:00:00+00:00",
          "2023-01-19T23:00:00+00:00",
          "2023-01-20T00:00:00+00:00",
          "2023-01-20T01:00:00+00:00",
          "2023-01-20T02:00:00+00:00",
          "2023-01-20T04:00:00+00:00",
          "2023-01-20T05:00:00+00:00",
          "2023-01-20T07:00:00+00:00",
          "2023-01-20T08:00:00+00:00",
          "2023-01-20T10:00:00+00:00",
          "2023-01-20T11:00:00+00:00",
          "2023-01-20T12:00:00+00:00",
          "2023-01-20T13:00:00+00:00",
          "2023-01-20T14:00:00+00:00",
          "2023-01-20T15:00:00+00:00",
          "2023-01-20T16:00:00+00:00",
          "2023-01-20T17:00:00+00:00",
          "2023-01-20T18:00:00+00:00",
          "2023-01-20T20:00:00+00:00",
          "2023-01-20T21:00:00+00:00",
          "2023-01-22T22:00:00+00:00",
          "2023-01-23T00:00:00+00:00",
          "2023-01-23T01:00:00+00:00",
          "2023-01-23T03:00:00+00:00",
          "2023-01-23T04:00:00+00:00",
          "2023-01-23T05:00:00+00:00",
          "2023-01-23T06:00:00+00:00",
          "2023-01-23T08:00:00+00:00",
          "2023-01-23T10:00:00+00:00",
          "2023-01-23T11:00:00+00:00",
          "2023-01-23T12:00:00+00:00",
          "2023-01-23T13:00:00+00:00",
          "2023-01-23T14:00:00+00:00",
          "2023-01-23T15:00:00+00:00",
          "2023-01-23T16:00:00+00:00",
          "2023-01-23T17:00:00+00:00",
          "2023-01-23T18:00:00+00:00",
          "2023-01-23T19:00:00+00:00",
          "2023-01-23T21:00:00+00:00",
          "2023-01-23T22:00:00+00:00",
          "2023-01-23T23:00:00+00:00",
          "2023-01-24T01:00:00+00:00",
          "2023-01-24T02:00:00+00:00",
          "2023-01-24T03:00:00+00:00",
          "2023-01-24T04:00:00+00:00",
          "2023-01-24T06:00:00+00:00",
          "2023-01-24T07:00:00+00:00",
          "2023-01-24T08:00:00+00:00",
          "2023-01-24T09:00:00+00:00",
          "2023-01-24T10:00:00+00:00",
          "2023-01-24T12:00:00+00:00",
          "2023-01-24T13:00:00+00:00",
          "2023-01-24T14:00:00+00:00",
          "2023-01-24T15:00:00+00:00",
          "2023-01-24T16:00:00+00:00",
          "2023-01-24T17:00:00+00:00",
          "2023-01-24T19:00:00+00:00",
          "2023-01-24T20:00:00+00:00",
          "2023-01-24T21:00:00+00:00",
          "2023-01-24T22:00:00+00:00",
          "2023-01-24T23:00:00+00:00",
          "2023-01-25T00:00:00+00:00",
          "2023-01-25T01:00:00+00:00",
          "2023-01-25T02:00:00+00:00",
          "2023-01-25T03:00:00+00:00",
          "2023-01-25T04:00:00+00:00",
          "2023-01-25T05:00:00+00:00",
          "2023-01-25T06:00:00+00:00",
          "2023-01-25T07:00:00+00:00",
          "2023-01-25T10:00:00+00:00",
          "2023-01-25T11:00:00+00:00",
          "2023-01-25T12:00:00+00:00",
          "2023-01-25T13:00:00+00:00",
          "2023-01-25T14:00:00+00:00",
          "2023-01-25T16:00:00+00:00",
          "2023-01-25T18:00:00+00:00",
          "2023-01-25T19:00:00+00:00",
          "2023-01-25T20:00:00+00:00",
          "2023-01-25T21:00:00+00:00",
          "2023-01-25T22:00:00+00:00",
          "2023-01-25T23:00:00+00:00",
          "2023-01-26T03:00:00+00:00",
          "2023-01-26T04:00:00+00:00",
          "2023-01-26T05:00:00+00:00",
          "2023-01-26T06:00:00+00:00",
          "2023-01-26T07:00:00+00:00",
          "2023-01-26T08:00:00+00:00",
          "2023-01-26T09:00:00+00:00",
          "2023-01-26T10:00:00+00:00",
          "2023-01-26T11:00:00+00:00",
          "2023-01-26T12:00:00+00:00",
          "2023-01-26T14:00:00+00:00",
          "2023-01-26T16:00:00+00:00",
          "2023-01-26T21:00:00+00:00",
          "2023-01-26T22:00:00+00:00",
          "2023-01-26T23:00:00+00:00",
          "2023-01-27T00:00:00+00:00",
          "2023-01-27T01:00:00+00:00",
          "2023-01-27T02:00:00+00:00",
          "2023-01-27T03:00:00+00:00",
          "2023-01-27T04:00:00+00:00",
          "2023-01-27T06:00:00+00:00",
          "2023-01-27T07:00:00+00:00",
          "2023-01-27T08:00:00+00:00",
          "2023-01-27T09:00:00+00:00",
          "2023-01-27T10:00:00+00:00",
          "2023-01-27T11:00:00+00:00",
          "2023-01-27T12:00:00+00:00",
          "2023-01-27T13:00:00+00:00",
          "2023-01-27T14:00:00+00:00",
          "2023-01-27T15:00:00+00:00",
          "2023-01-27T17:00:00+00:00",
          "2023-01-27T18:00:00+00:00",
          "2023-01-27T19:00:00+00:00",
          "2023-01-27T20:00:00+00:00",
          "2023-01-27T21:00:00+00:00",
          "2023-01-29T22:00:00+00:00",
          "2023-01-29T23:00:00+00:00",
          "2023-01-30T00:00:00+00:00",
          "2023-01-30T01:00:00+00:00",
          "2023-01-30T02:00:00+00:00",
          "2023-01-30T03:00:00+00:00",
          "2023-01-30T05:00:00+00:00",
          "2023-01-30T07:00:00+00:00",
          "2023-01-30T08:00:00+00:00",
          "2023-01-30T09:00:00+00:00",
          "2023-01-30T10:00:00+00:00",
          "2023-01-30T12:00:00+00:00",
          "2023-01-30T13:00:00+00:00",
          "2023-01-30T14:00:00+00:00",
          "2023-01-30T15:00:00+00:00",
          "2023-01-30T16:00:00+00:00",
          "2023-01-30T17:00:00+00:00",
          "2023-01-30T18:00:00+00:00",
          "2023-01-30T19:00:00+00:00",
          "2023-01-30T20:00:00+00:00",
          "2023-01-30T21:00:00+00:00",
          "2023-01-30T22:00:00+00:00",
          "2023-01-30T23:00:00+00:00",
          "2023-01-31T00:00:00+00:00",
          "2023-01-31T01:00:00+00:00",
          "2023-01-31T02:00:00+00:00",
          "2023-01-31T04:00:00+00:00",
          "2023-01-31T06:00:00+00:00",
          "2023-01-31T10:00:00+00:00",
          "2023-01-31T11:00:00+00:00",
          "2023-01-31T12:00:00+00:00",
          "2023-01-31T14:00:00+00:00",
          "2023-01-31T15:00:00+00:00",
          "2023-01-31T16:00:00+00:00",
          "2023-01-31T17:00:00+00:00",
          "2023-01-31T18:00:00+00:00",
          "2023-01-31T19:00:00+00:00",
          "2023-01-31T22:00:00+00:00",
          "2023-01-31T23:00:00+00:00",
          "2023-02-01T01:00:00+00:00",
          "2023-02-01T02:00:00+00:00",
          "2023-02-01T04:00:00+00:00",
          "2023-02-01T06:00:00+00:00",
          "2023-02-01T07:00:00+00:00",
          "2023-02-01T08:00:00+00:00",
          "2023-02-01T09:00:00+00:00",
          "2023-02-01T10:00:00+00:00",
          "2023-02-01T11:00:00+00:00",
          "2023-02-01T12:00:00+00:00",
          "2023-02-01T13:00:00+00:00",
          "2023-02-01T14:00:00+00:00",
          "2023-02-01T15:00:00+00:00",
          "2023-02-01T16:00:00+00:00",
          "2023-02-01T18:00:00+00:00",
          "2023-02-01T23:00:00+00:00",
          "2023-02-02T00:00:00+00:00",
          "2023-02-02T01:00:00+00:00",
          "2023-02-02T09:00:00+00:00",
          "2023-02-02T10:00:00+00:00",
          "2023-02-02T11:00:00+00:00",
          "2023-02-02T12:00:00+00:00",
          "2023-02-02T13:00:00+00:00",
          "2023-02-02T14:00:00+00:00",
          "2023-02-02T16:00:00+00:00",
          "2023-02-02T20:00:00+00:00",
          "2023-02-02T21:00:00+00:00",
          "2023-02-03T00:00:00+00:00",
          "2023-02-03T03:00:00+00:00",
          "2023-02-03T04:00:00+00:00",
          "2023-02-03T06:00:00+00:00",
          "2023-02-03T07:00:00+00:00",
          "2023-02-03T08:00:00+00:00",
          "2023-02-03T09:00:00+00:00",
          "2023-02-03T10:00:00+00:00",
          "2023-02-03T11:00:00+00:00",
          "2023-02-03T12:00:00+00:00",
          "2023-02-03T13:00:00+00:00",
          "2023-02-03T14:00:00+00:00",
          "2023-02-03T15:00:00+00:00",
          "2023-02-03T16:00:00+00:00",
          "2023-02-03T17:00:00+00:00",
          "2023-02-03T18:00:00+00:00",
          "2023-02-03T19:00:00+00:00",
          "2023-02-06T01:00:00+00:00",
          "2023-02-06T04:00:00+00:00",
          "2023-02-06T06:00:00+00:00",
          "2023-02-06T07:00:00+00:00",
          "2023-02-06T08:00:00+00:00",
          "2023-02-06T09:00:00+00:00",
          "2023-02-06T10:00:00+00:00",
          "2023-02-06T11:00:00+00:00",
          "2023-02-06T14:00:00+00:00",
          "2023-02-06T15:00:00+00:00",
          "2023-02-06T16:00:00+00:00",
          "2023-02-06T17:00:00+00:00",
          "2023-02-06T18:00:00+00:00",
          "2023-02-06T19:00:00+00:00",
          "2023-02-06T21:00:00+00:00",
          "2023-02-06T22:00:00+00:00",
          "2023-02-06T23:00:00+00:00",
          "2023-02-07T00:00:00+00:00",
          "2023-02-07T01:00:00+00:00",
          "2023-02-07T02:00:00+00:00",
          "2023-02-07T03:00:00+00:00",
          "2023-02-07T04:00:00+00:00",
          "2023-02-07T07:00:00+00:00",
          "2023-02-07T08:00:00+00:00",
          "2023-02-07T09:00:00+00:00",
          "2023-02-07T10:00:00+00:00",
          "2023-02-07T11:00:00+00:00",
          "2023-02-07T12:00:00+00:00",
          "2023-02-07T13:00:00+00:00",
          "2023-02-07T14:00:00+00:00",
          "2023-02-07T17:00:00+00:00",
          "2023-02-07T18:00:00+00:00",
          "2023-02-07T19:00:00+00:00",
          "2023-02-07T20:00:00+00:00",
          "2023-02-07T21:00:00+00:00",
          "2023-02-07T22:00:00+00:00",
          "2023-02-08T00:00:00+00:00",
          "2023-02-08T01:00:00+00:00",
          "2023-02-08T02:00:00+00:00",
          "2023-02-08T03:00:00+00:00",
          "2023-02-08T04:00:00+00:00",
          "2023-02-08T05:00:00+00:00",
          "2023-02-08T06:00:00+00:00",
          "2023-02-08T07:00:00+00:00",
          "2023-02-08T08:00:00+00:00",
          "2023-02-08T09:00:00+00:00",
          "2023-02-08T10:00:00+00:00",
          "2023-02-08T11:00:00+00:00",
          "2023-02-08T12:00:00+00:00",
          "2023-02-08T15:00:00+00:00",
          "2023-02-08T16:00:00+00:00",
          "2023-02-08T17:00:00+00:00",
          "2023-02-08T19:00:00+00:00",
          "2023-02-08T20:00:00+00:00",
          "2023-02-09T00:00:00+00:00",
          "2023-02-09T01:00:00+00:00",
          "2023-02-09T02:00:00+00:00",
          "2023-02-09T03:00:00+00:00",
          "2023-02-09T04:00:00+00:00",
          "2023-02-09T05:00:00+00:00",
          "2023-02-09T06:00:00+00:00",
          "2023-02-09T07:00:00+00:00",
          "2023-02-09T08:00:00+00:00",
          "2023-02-09T09:00:00+00:00",
          "2023-02-09T10:00:00+00:00",
          "2023-02-09T12:00:00+00:00",
          "2023-02-09T15:00:00+00:00",
          "2023-02-09T16:00:00+00:00",
          "2023-02-09T17:00:00+00:00",
          "2023-02-09T19:00:00+00:00",
          "2023-02-09T20:00:00+00:00",
          "2023-02-09T21:00:00+00:00",
          "2023-02-09T22:00:00+00:00",
          "2023-02-10T00:00:00+00:00",
          "2023-02-10T01:00:00+00:00",
          "2023-02-10T03:00:00+00:00",
          "2023-02-10T04:00:00+00:00",
          "2023-02-10T05:00:00+00:00",
          "2023-02-10T07:00:00+00:00",
          "2023-02-10T08:00:00+00:00",
          "2023-02-10T09:00:00+00:00",
          "2023-02-10T10:00:00+00:00",
          "2023-02-10T11:00:00+00:00",
          "2023-02-10T12:00:00+00:00",
          "2023-02-10T13:00:00+00:00",
          "2023-02-10T14:00:00+00:00",
          "2023-02-10T16:00:00+00:00",
          "2023-02-10T17:00:00+00:00",
          "2023-02-10T18:00:00+00:00",
          "2023-02-10T19:00:00+00:00",
          "2023-02-10T20:00:00+00:00",
          "2023-02-10T21:00:00+00:00",
          "2023-02-12T23:00:00+00:00",
          "2023-02-13T04:00:00+00:00",
          "2023-02-13T05:00:00+00:00",
          "2023-02-13T06:00:00+00:00",
          "2023-02-13T07:00:00+00:00",
          "2023-02-13T08:00:00+00:00",
          "2023-02-13T09:00:00+00:00",
          "2023-02-13T10:00:00+00:00",
          "2023-02-13T11:00:00+00:00",
          "2023-02-13T12:00:00+00:00",
          "2023-02-13T13:00:00+00:00",
          "2023-02-13T16:00:00+00:00",
          "2023-02-13T18:00:00+00:00",
          "2023-02-13T20:00:00+00:00",
          "2023-02-13T22:00:00+00:00",
          "2023-02-13T23:00:00+00:00",
          "2023-02-14T00:00:00+00:00",
          "2023-02-14T01:00:00+00:00",
          "2023-02-14T02:00:00+00:00",
          "2023-02-14T03:00:00+00:00",
          "2023-02-14T06:00:00+00:00",
          "2023-02-14T10:00:00+00:00",
          "2023-02-14T11:00:00+00:00",
          "2023-02-14T13:00:00+00:00",
          "2023-02-14T14:00:00+00:00",
          "2023-02-14T15:00:00+00:00",
          "2023-02-14T16:00:00+00:00",
          "2023-02-14T17:00:00+00:00",
          "2023-02-14T18:00:00+00:00",
          "2023-02-14T19:00:00+00:00",
          "2023-02-14T21:00:00+00:00",
          "2023-02-14T22:00:00+00:00",
          "2023-02-15T00:00:00+00:00",
          "2023-02-15T01:00:00+00:00",
          "2023-02-15T02:00:00+00:00",
          "2023-02-15T03:00:00+00:00",
          "2023-02-15T04:00:00+00:00",
          "2023-02-15T05:00:00+00:00",
          "2023-02-15T06:00:00+00:00",
          "2023-02-15T07:00:00+00:00",
          "2023-02-15T08:00:00+00:00",
          "2023-02-15T09:00:00+00:00",
          "2023-02-15T10:00:00+00:00",
          "2023-02-15T11:00:00+00:00",
          "2023-02-15T13:00:00+00:00",
          "2023-02-15T16:00:00+00:00",
          "2023-02-15T18:00:00+00:00",
          "2023-02-15T19:00:00+00:00",
          "2023-02-15T21:00:00+00:00",
          "2023-02-15T22:00:00+00:00",
          "2023-02-15T23:00:00+00:00",
          "2023-02-16T00:00:00+00:00",
          "2023-02-16T01:00:00+00:00",
          "2023-02-16T02:00:00+00:00",
          "2023-02-16T03:00:00+00:00",
          "2023-02-16T04:00:00+00:00",
          "2023-02-16T05:00:00+00:00",
          "2023-02-16T06:00:00+00:00",
          "2023-02-16T07:00:00+00:00",
          "2023-02-16T09:00:00+00:00",
          "2023-02-16T10:00:00+00:00",
          "2023-02-16T11:00:00+00:00",
          "2023-02-16T12:00:00+00:00",
          "2023-02-16T13:00:00+00:00",
          "2023-02-16T14:00:00+00:00",
          "2023-02-16T16:00:00+00:00",
          "2023-02-16T17:00:00+00:00",
          "2023-02-16T21:00:00+00:00",
          "2023-02-16T22:00:00+00:00",
          "2023-02-16T23:00:00+00:00",
          "2023-02-17T01:00:00+00:00",
          "2023-02-17T02:00:00+00:00",
          "2023-02-17T04:00:00+00:00",
          "2023-02-17T05:00:00+00:00",
          "2023-02-17T06:00:00+00:00",
          "2023-02-17T09:00:00+00:00",
          "2023-02-17T10:00:00+00:00",
          "2023-02-17T11:00:00+00:00",
          "2023-02-17T12:00:00+00:00",
          "2023-02-17T13:00:00+00:00",
          "2023-02-17T14:00:00+00:00",
          "2023-02-17T15:00:00+00:00",
          "2023-02-17T16:00:00+00:00",
          "2023-02-17T17:00:00+00:00",
          "2023-02-17T18:00:00+00:00",
          "2023-02-17T19:00:00+00:00",
          "2023-02-17T20:00:00+00:00",
          "2023-02-17T21:00:00+00:00",
          "2023-02-19T22:00:00+00:00",
          "2023-02-20T00:00:00+00:00",
          "2023-02-20T02:00:00+00:00",
          "2023-02-20T03:00:00+00:00",
          "2023-02-20T06:00:00+00:00",
          "2023-02-20T07:00:00+00:00",
          "2023-02-20T08:00:00+00:00",
          "2023-02-20T09:00:00+00:00",
          "2023-02-20T10:00:00+00:00",
          "2023-02-20T11:00:00+00:00",
          "2023-02-20T12:00:00+00:00",
          "2023-02-20T15:00:00+00:00",
          "2023-02-20T16:00:00+00:00",
          "2023-02-20T17:00:00+00:00",
          "2023-02-20T19:00:00+00:00",
          "2023-02-20T21:00:00+00:00",
          "2023-02-20T23:00:00+00:00",
          "2023-02-21T01:00:00+00:00",
          "2023-02-21T02:00:00+00:00",
          "2023-02-21T03:00:00+00:00",
          "2023-02-21T04:00:00+00:00",
          "2023-02-21T06:00:00+00:00",
          "2023-02-21T07:00:00+00:00",
          "2023-02-21T08:00:00+00:00",
          "2023-02-21T09:00:00+00:00",
          "2023-02-21T10:00:00+00:00",
          "2023-02-21T12:00:00+00:00",
          "2023-02-21T14:00:00+00:00",
          "2023-02-21T15:00:00+00:00",
          "2023-02-21T17:00:00+00:00",
          "2023-02-21T18:00:00+00:00",
          "2023-02-21T19:00:00+00:00",
          "2023-02-21T20:00:00+00:00",
          "2023-02-21T21:00:00+00:00",
          "2023-02-22T02:00:00+00:00",
          "2023-02-22T03:00:00+00:00",
          "2023-02-22T04:00:00+00:00",
          "2023-02-22T05:00:00+00:00",
          "2023-02-22T06:00:00+00:00",
          "2023-02-22T08:00:00+00:00",
          "2023-02-22T09:00:00+00:00",
          "2023-02-22T10:00:00+00:00",
          "2023-02-22T11:00:00+00:00",
          "2023-02-22T12:00:00+00:00",
          "2023-02-22T13:00:00+00:00",
          "2023-02-22T14:00:00+00:00",
          "2023-02-22T17:00:00+00:00",
          "2023-02-22T18:00:00+00:00",
          "2023-02-22T19:00:00+00:00",
          "2023-02-22T21:00:00+00:00",
          "2023-02-22T22:00:00+00:00",
          "2023-02-23T01:00:00+00:00",
          "2023-02-23T03:00:00+00:00",
          "2023-02-23T04:00:00+00:00",
          "2023-02-23T05:00:00+00:00",
          "2023-02-23T06:00:00+00:00",
          "2023-02-23T07:00:00+00:00",
          "2023-02-23T08:00:00+00:00",
          "2023-02-23T09:00:00+00:00",
          "2023-02-23T10:00:00+00:00",
          "2023-02-23T11:00:00+00:00",
          "2023-02-23T12:00:00+00:00",
          "2023-02-23T13:00:00+00:00",
          "2023-02-23T14:00:00+00:00",
          "2023-02-23T15:00:00+00:00",
          "2023-02-23T16:00:00+00:00",
          "2023-02-23T18:00:00+00:00",
          "2023-02-23T19:00:00+00:00",
          "2023-02-23T20:00:00+00:00",
          "2023-02-23T21:00:00+00:00",
          "2023-02-23T22:00:00+00:00",
          "2023-02-24T00:00:00+00:00",
          "2023-02-24T01:00:00+00:00",
          "2023-02-24T02:00:00+00:00",
          "2023-02-24T03:00:00+00:00",
          "2023-02-24T05:00:00+00:00",
          "2023-02-24T06:00:00+00:00",
          "2023-02-24T07:00:00+00:00",
          "2023-02-24T08:00:00+00:00",
          "2023-02-24T09:00:00+00:00",
          "2023-02-24T10:00:00+00:00",
          "2023-02-24T11:00:00+00:00",
          "2023-02-24T12:00:00+00:00",
          "2023-02-24T14:00:00+00:00",
          "2023-02-24T15:00:00+00:00",
          "2023-02-24T17:00:00+00:00",
          "2023-02-24T18:00:00+00:00",
          "2023-02-24T19:00:00+00:00",
          "2023-02-24T21:00:00+00:00",
          "2023-02-26T23:00:00+00:00",
          "2023-02-27T01:00:00+00:00",
          "2023-02-27T02:00:00+00:00",
          "2023-02-27T03:00:00+00:00",
          "2023-02-27T04:00:00+00:00",
          "2023-02-27T05:00:00+00:00",
          "2023-02-27T06:00:00+00:00",
          "2023-02-27T07:00:00+00:00",
          "2023-02-27T08:00:00+00:00",
          "2023-02-27T10:00:00+00:00",
          "2023-02-27T11:00:00+00:00",
          "2023-02-27T12:00:00+00:00",
          "2023-02-27T13:00:00+00:00",
          "2023-02-27T14:00:00+00:00",
          "2023-02-27T15:00:00+00:00",
          "2023-02-27T18:00:00+00:00",
          "2023-02-27T19:00:00+00:00",
          "2023-02-27T23:00:00+00:00",
          "2023-02-28T03:00:00+00:00",
          "2023-02-28T04:00:00+00:00",
          "2023-02-28T05:00:00+00:00",
          "2023-02-28T06:00:00+00:00",
          "2023-02-28T07:00:00+00:00",
          "2023-02-28T08:00:00+00:00",
          "2023-02-28T09:00:00+00:00",
          "2023-02-28T10:00:00+00:00",
          "2023-02-28T11:00:00+00:00",
          "2023-02-28T12:00:00+00:00",
          "2023-02-28T13:00:00+00:00",
          "2023-02-28T15:00:00+00:00",
          "2023-02-28T16:00:00+00:00",
          "2023-02-28T17:00:00+00:00",
          "2023-02-28T18:00:00+00:00",
          "2023-02-28T19:00:00+00:00",
          "2023-02-28T20:00:00+00:00",
          "2023-02-28T21:00:00+00:00",
          "2023-02-28T22:00:00+00:00",
          "2023-02-28T23:00:00+00:00",
          "2023-03-01T03:00:00+00:00",
          "2023-03-01T05:00:00+00:00",
          "2023-03-01T06:00:00+00:00",
          "2023-03-01T07:00:00+00:00",
          "2023-03-01T08:00:00+00:00",
          "2023-03-01T09:00:00+00:00",
          "2023-03-01T10:00:00+00:00",
          "2023-03-01T12:00:00+00:00",
          "2023-03-01T13:00:00+00:00",
          "2023-03-01T16:00:00+00:00",
          "2023-03-01T18:00:00+00:00",
          "2023-03-01T19:00:00+00:00",
          "2023-03-01T20:00:00+00:00",
          "2023-03-01T21:00:00+00:00",
          "2023-03-01T22:00:00+00:00",
          "2023-03-01T23:00:00+00:00",
          "2023-03-02T00:00:00+00:00",
          "2023-03-02T01:00:00+00:00",
          "2023-03-02T02:00:00+00:00",
          "2023-03-02T04:00:00+00:00",
          "2023-03-02T05:00:00+00:00",
          "2023-03-02T07:00:00+00:00",
          "2023-03-02T09:00:00+00:00",
          "2023-03-02T10:00:00+00:00",
          "2023-03-02T12:00:00+00:00",
          "2023-03-02T13:00:00+00:00",
          "2023-03-02T15:00:00+00:00",
          "2023-03-02T17:00:00+00:00",
          "2023-03-02T19:00:00+00:00",
          "2023-03-02T20:00:00+00:00",
          "2023-03-02T22:00:00+00:00",
          "2023-03-02T23:00:00+00:00",
          "2023-03-03T00:00:00+00:00",
          "2023-03-03T01:00:00+00:00",
          "2023-03-03T02:00:00+00:00",
          "2023-03-03T03:00:00+00:00",
          "2023-03-03T04:00:00+00:00",
          "2023-03-03T05:00:00+00:00",
          "2023-03-03T06:00:00+00:00",
          "2023-03-03T07:00:00+00:00",
          "2023-03-03T08:00:00+00:00",
          "2023-03-03T09:00:00+00:00",
          "2023-03-03T11:00:00+00:00",
          "2023-03-03T13:00:00+00:00",
          "2023-03-03T14:00:00+00:00",
          "2023-03-03T15:00:00+00:00",
          "2023-03-03T17:00:00+00:00",
          "2023-03-03T18:00:00+00:00",
          "2023-03-03T20:00:00+00:00",
          "2023-03-05T22:00:00+00:00",
          "2023-03-05T23:00:00+00:00",
          "2023-03-06T00:00:00+00:00",
          "2023-03-06T01:00:00+00:00",
          "2023-03-06T02:00:00+00:00",
          "2023-03-06T03:00:00+00:00",
          "2023-03-06T05:00:00+00:00",
          "2023-03-06T06:00:00+00:00",
          "2023-03-06T07:00:00+00:00",
          "2023-03-06T08:00:00+00:00",
          "2023-03-06T09:00:00+00:00",
          "2023-03-06T11:00:00+00:00",
          "2023-03-06T14:00:00+00:00",
          "2023-03-06T17:00:00+00:00",
          "2023-03-06T18:00:00+00:00",
          "2023-03-06T20:00:00+00:00",
          "2023-03-06T22:00:00+00:00",
          "2023-03-06T23:00:00+00:00",
          "2023-03-07T00:00:00+00:00",
          "2023-03-07T01:00:00+00:00",
          "2023-03-07T02:00:00+00:00",
          "2023-03-07T04:00:00+00:00",
          "2023-03-07T05:00:00+00:00",
          "2023-03-07T07:00:00+00:00",
          "2023-03-07T08:00:00+00:00",
          "2023-03-07T09:00:00+00:00",
          "2023-03-07T10:00:00+00:00",
          "2023-03-07T11:00:00+00:00",
          "2023-03-07T13:00:00+00:00",
          "2023-03-07T15:00:00+00:00",
          "2023-03-07T16:00:00+00:00",
          "2023-03-07T18:00:00+00:00",
          "2023-03-07T21:00:00+00:00",
          "2023-03-08T00:00:00+00:00",
          "2023-03-08T01:00:00+00:00",
          "2023-03-08T04:00:00+00:00",
          "2023-03-08T05:00:00+00:00",
          "2023-03-08T06:00:00+00:00",
          "2023-03-08T08:00:00+00:00",
          "2023-03-08T09:00:00+00:00",
          "2023-03-08T10:00:00+00:00",
          "2023-03-08T11:00:00+00:00",
          "2023-03-08T13:00:00+00:00",
          "2023-03-08T14:00:00+00:00",
          "2023-03-08T16:00:00+00:00",
          "2023-03-08T17:00:00+00:00",
          "2023-03-08T18:00:00+00:00",
          "2023-03-08T19:00:00+00:00",
          "2023-03-08T20:00:00+00:00",
          "2023-03-08T22:00:00+00:00",
          "2023-03-08T23:00:00+00:00",
          "2023-03-09T00:00:00+00:00",
          "2023-03-09T01:00:00+00:00",
          "2023-03-09T04:00:00+00:00",
          "2023-03-09T05:00:00+00:00",
          "2023-03-09T06:00:00+00:00",
          "2023-03-09T07:00:00+00:00",
          "2023-03-09T09:00:00+00:00",
          "2023-03-09T14:00:00+00:00",
          "2023-03-09T17:00:00+00:00",
          "2023-03-09T18:00:00+00:00",
          "2023-03-09T19:00:00+00:00",
          "2023-03-09T20:00:00+00:00",
          "2023-03-09T21:00:00+00:00",
          "2023-03-09T22:00:00+00:00",
          "2023-03-10T01:00:00+00:00",
          "2023-03-10T03:00:00+00:00",
          "2023-03-10T05:00:00+00:00",
          "2023-03-10T07:00:00+00:00",
          "2023-03-10T08:00:00+00:00",
          "2023-03-10T09:00:00+00:00",
          "2023-03-10T10:00:00+00:00",
          "2023-03-10T11:00:00+00:00",
          "2023-03-10T12:00:00+00:00",
          "2023-03-10T13:00:00+00:00",
          "2023-03-10T14:00:00+00:00",
          "2023-03-10T15:00:00+00:00",
          "2023-03-10T16:00:00+00:00",
          "2023-03-10T17:00:00+00:00",
          "2023-03-10T18:00:00+00:00",
          "2023-03-10T20:00:00+00:00",
          "2023-03-12T21:00:00+00:00",
          "2023-03-13T00:00:00+00:00",
          "2023-03-13T01:00:00+00:00",
          "2023-03-13T02:00:00+00:00",
          "2023-03-13T03:00:00+00:00",
          "2023-03-13T04:00:00+00:00",
          "2023-03-13T05:00:00+00:00",
          "2023-03-13T06:00:00+00:00",
          "2023-03-13T07:00:00+00:00",
          "2023-03-13T08:00:00+00:00",
          "2023-03-13T09:00:00+00:00",
          "2023-03-13T10:00:00+00:00",
          "2023-03-13T12:00:00+00:00",
          "2023-03-13T13:00:00+00:00",
          "2023-03-13T14:00:00+00:00",
          "2023-03-13T15:00:00+00:00",
          "2023-03-13T18:00:00+00:00",
          "2023-03-13T19:00:00+00:00",
          "2023-03-13T20:00:00+00:00",
          "2023-03-13T21:00:00+00:00",
          "2023-03-13T22:00:00+00:00",
          "2023-03-13T23:00:00+00:00",
          "2023-03-14T01:00:00+00:00",
          "2023-03-14T02:00:00+00:00",
          "2023-03-14T03:00:00+00:00",
          "2023-03-14T04:00:00+00:00",
          "2023-03-14T06:00:00+00:00",
          "2023-03-14T07:00:00+00:00",
          "2023-03-14T08:00:00+00:00",
          "2023-03-14T10:00:00+00:00",
          "2023-03-14T11:00:00+00:00",
          "2023-03-14T12:00:00+00:00",
          "2023-03-14T13:00:00+00:00",
          "2023-03-14T14:00:00+00:00",
          "2023-03-14T15:00:00+00:00",
          "2023-03-14T16:00:00+00:00",
          "2023-03-14T17:00:00+00:00",
          "2023-03-14T20:00:00+00:00",
          "2023-03-14T21:00:00+00:00",
          "2023-03-14T22:00:00+00:00",
          "2023-03-14T23:00:00+00:00",
          "2023-03-15T00:00:00+00:00",
          "2023-03-15T01:00:00+00:00",
          "2023-03-15T02:00:00+00:00",
          "2023-03-15T03:00:00+00:00",
          "2023-03-15T04:00:00+00:00",
          "2023-03-15T05:00:00+00:00",
          "2023-03-15T06:00:00+00:00",
          "2023-03-15T07:00:00+00:00",
          "2023-03-15T09:00:00+00:00",
          "2023-03-15T10:00:00+00:00",
          "2023-03-15T11:00:00+00:00",
          "2023-03-15T12:00:00+00:00",
          "2023-03-15T13:00:00+00:00",
          "2023-03-15T15:00:00+00:00",
          "2023-03-15T21:00:00+00:00",
          "2023-03-15T23:00:00+00:00",
          "2023-03-16T00:00:00+00:00",
          "2023-03-16T01:00:00+00:00",
          "2023-03-16T04:00:00+00:00",
          "2023-03-16T05:00:00+00:00",
          "2023-03-16T06:00:00+00:00",
          "2023-03-16T07:00:00+00:00",
          "2023-03-16T08:00:00+00:00",
          "2023-03-16T09:00:00+00:00",
          "2023-03-16T10:00:00+00:00",
          "2023-03-16T11:00:00+00:00",
          "2023-03-16T12:00:00+00:00",
          "2023-03-16T14:00:00+00:00",
          "2023-03-16T15:00:00+00:00",
          "2023-03-16T16:00:00+00:00",
          "2023-03-16T17:00:00+00:00",
          "2023-03-16T18:00:00+00:00",
          "2023-03-16T19:00:00+00:00",
          "2023-03-16T21:00:00+00:00",
          "2023-03-17T00:00:00+00:00",
          "2023-03-17T02:00:00+00:00",
          "2023-03-17T03:00:00+00:00",
          "2023-03-17T04:00:00+00:00",
          "2023-03-17T05:00:00+00:00",
          "2023-03-17T06:00:00+00:00",
          "2023-03-17T11:00:00+00:00",
          "2023-03-17T13:00:00+00:00",
          "2023-03-17T14:00:00+00:00",
          "2023-03-17T15:00:00+00:00",
          "2023-03-17T16:00:00+00:00",
          "2023-03-17T17:00:00+00:00",
          "2023-03-17T19:00:00+00:00",
          "2023-03-19T23:00:00+00:00",
          "2023-03-20T00:00:00+00:00",
          "2023-03-20T01:00:00+00:00",
          "2023-03-20T02:00:00+00:00",
          "2023-03-20T03:00:00+00:00",
          "2023-03-20T04:00:00+00:00",
          "2023-03-20T05:00:00+00:00",
          "2023-03-20T06:00:00+00:00",
          "2023-03-20T07:00:00+00:00",
          "2023-03-20T08:00:00+00:00",
          "2023-03-20T09:00:00+00:00",
          "2023-03-20T10:00:00+00:00",
          "2023-03-20T11:00:00+00:00",
          "2023-03-20T12:00:00+00:00",
          "2023-03-20T13:00:00+00:00",
          "2023-03-20T15:00:00+00:00",
          "2023-03-20T16:00:00+00:00",
          "2023-03-20T17:00:00+00:00",
          "2023-03-20T18:00:00+00:00",
          "2023-03-20T21:00:00+00:00",
          "2023-03-20T22:00:00+00:00",
          "2023-03-20T23:00:00+00:00",
          "2023-03-21T00:00:00+00:00",
          "2023-03-21T01:00:00+00:00",
          "2023-03-21T02:00:00+00:00",
          "2023-03-21T03:00:00+00:00",
          "2023-03-21T05:00:00+00:00",
          "2023-03-21T06:00:00+00:00",
          "2023-03-21T07:00:00+00:00",
          "2023-03-21T08:00:00+00:00",
          "2023-03-21T09:00:00+00:00",
          "2023-03-21T10:00:00+00:00",
          "2023-03-21T12:00:00+00:00",
          "2023-03-21T13:00:00+00:00",
          "2023-03-21T14:00:00+00:00",
          "2023-03-21T16:00:00+00:00",
          "2023-03-21T20:00:00+00:00",
          "2023-03-21T21:00:00+00:00",
          "2023-03-21T22:00:00+00:00",
          "2023-03-21T23:00:00+00:00",
          "2023-03-22T00:00:00+00:00",
          "2023-03-22T01:00:00+00:00",
          "2023-03-22T02:00:00+00:00",
          "2023-03-22T03:00:00+00:00",
          "2023-03-22T04:00:00+00:00",
          "2023-03-22T05:00:00+00:00",
          "2023-03-22T07:00:00+00:00",
          "2023-03-22T08:00:00+00:00",
          "2023-03-22T10:00:00+00:00",
          "2023-03-22T11:00:00+00:00",
          "2023-03-22T12:00:00+00:00",
          "2023-03-22T14:00:00+00:00",
          "2023-03-22T15:00:00+00:00",
          "2023-03-22T16:00:00+00:00",
          "2023-03-22T17:00:00+00:00",
          "2023-03-22T18:00:00+00:00",
          "2023-03-22T19:00:00+00:00",
          "2023-03-22T21:00:00+00:00",
          "2023-03-22T23:00:00+00:00",
          "2023-03-23T03:00:00+00:00",
          "2023-03-23T05:00:00+00:00",
          "2023-03-23T06:00:00+00:00",
          "2023-03-23T07:00:00+00:00",
          "2023-03-23T08:00:00+00:00",
          "2023-03-23T09:00:00+00:00",
          "2023-03-23T11:00:00+00:00",
          "2023-03-23T12:00:00+00:00",
          "2023-03-23T13:00:00+00:00",
          "2023-03-23T14:00:00+00:00",
          "2023-03-23T15:00:00+00:00",
          "2023-03-23T17:00:00+00:00",
          "2023-03-23T18:00:00+00:00",
          "2023-03-23T19:00:00+00:00",
          "2023-03-23T20:00:00+00:00",
          "2023-03-23T23:00:00+00:00",
          "2023-03-24T03:00:00+00:00",
          "2023-03-24T08:00:00+00:00",
          "2023-03-24T10:00:00+00:00",
          "2023-03-24T17:00:00+00:00",
          "2023-03-24T18:00:00+00:00",
          "2023-03-24T19:00:00+00:00",
          "2023-03-24T20:00:00+00:00",
          "2023-03-26T21:00:00+00:00",
          "2023-03-26T22:00:00+00:00",
          "2023-03-27T00:00:00+00:00",
          "2023-03-27T02:00:00+00:00",
          "2023-03-27T03:00:00+00:00",
          "2023-03-27T05:00:00+00:00",
          "2023-03-27T07:00:00+00:00",
          "2023-03-27T08:00:00+00:00",
          "2023-03-27T09:00:00+00:00",
          "2023-03-27T14:00:00+00:00",
          "2023-03-27T16:00:00+00:00",
          "2023-03-27T17:00:00+00:00",
          "2023-03-27T18:00:00+00:00",
          "2023-03-27T21:00:00+00:00",
          "2023-03-27T22:00:00+00:00",
          "2023-03-27T23:00:00+00:00",
          "2023-03-28T00:00:00+00:00",
          "2023-03-28T01:00:00+00:00",
          "2023-03-28T02:00:00+00:00",
          "2023-03-28T03:00:00+00:00",
          "2023-03-28T04:00:00+00:00",
          "2023-03-28T05:00:00+00:00",
          "2023-03-28T06:00:00+00:00",
          "2023-03-28T09:00:00+00:00",
          "2023-03-28T10:00:00+00:00",
          "2023-03-28T11:00:00+00:00",
          "2023-03-28T12:00:00+00:00",
          "2023-03-28T13:00:00+00:00",
          "2023-03-28T14:00:00+00:00",
          "2023-03-28T15:00:00+00:00",
          "2023-03-28T16:00:00+00:00",
          "2023-03-28T17:00:00+00:00",
          "2023-03-28T18:00:00+00:00",
          "2023-03-28T19:00:00+00:00",
          "2023-03-28T20:00:00+00:00",
          "2023-03-29T00:00:00+00:00",
          "2023-03-29T01:00:00+00:00",
          "2023-03-29T03:00:00+00:00",
          "2023-03-29T04:00:00+00:00",
          "2023-03-29T05:00:00+00:00",
          "2023-03-29T07:00:00+00:00",
          "2023-03-29T08:00:00+00:00",
          "2023-03-29T09:00:00+00:00",
          "2023-03-29T10:00:00+00:00",
          "2023-03-29T11:00:00+00:00",
          "2023-03-29T12:00:00+00:00",
          "2023-03-29T13:00:00+00:00",
          "2023-03-29T14:00:00+00:00",
          "2023-03-29T15:00:00+00:00",
          "2023-03-29T16:00:00+00:00",
          "2023-03-29T17:00:00+00:00",
          "2023-03-29T19:00:00+00:00",
          "2023-03-30T02:00:00+00:00",
          "2023-03-30T03:00:00+00:00",
          "2023-03-30T04:00:00+00:00",
          "2023-03-30T05:00:00+00:00",
          "2023-03-30T06:00:00+00:00",
          "2023-03-30T07:00:00+00:00",
          "2023-03-30T08:00:00+00:00",
          "2023-03-30T09:00:00+00:00",
          "2023-03-30T10:00:00+00:00",
          "2023-03-30T11:00:00+00:00",
          "2023-03-30T13:00:00+00:00",
          "2023-03-30T14:00:00+00:00",
          "2023-03-30T16:00:00+00:00",
          "2023-03-30T19:00:00+00:00",
          "2023-03-30T20:00:00+00:00",
          "2023-03-30T21:00:00+00:00",
          "2023-03-30T23:00:00+00:00",
          "2023-03-31T00:00:00+00:00",
          "2023-03-31T03:00:00+00:00",
          "2023-03-31T05:00:00+00:00",
          "2023-03-31T06:00:00+00:00",
          "2023-03-31T07:00:00+00:00",
          "2023-03-31T08:00:00+00:00",
          "2023-03-31T10:00:00+00:00",
          "2023-03-31T12:00:00+00:00",
          "2023-03-31T13:00:00+00:00",
          "2023-03-31T14:00:00+00:00",
          "2023-03-31T15:00:00+00:00",
          "2023-03-31T16:00:00+00:00",
          "2023-03-31T17:00:00+00:00",
          "2023-03-31T18:00:00+00:00",
          "2023-03-31T19:00:00+00:00",
          "2023-03-31T20:00:00+00:00",
          "2023-04-02T21:00:00+00:00",
          "2023-04-02T23:00:00+00:00",
          "2023-04-03T00:00:00+00:00",
          "2023-04-03T01:00:00+00:00",
          "2023-04-03T02:00:00+00:00",
          "2023-04-03T04:00:00+00:00",
          "2023-04-03T05:00:00+00:00",
          "2023-04-03T07:00:00+00:00",
          "2023-04-03T08:00:00+00:00",
          "2023-04-03T09:00:00+00:00",
          "2023-04-03T10:00:00+00:00",
          "2023-04-03T11:00:00+00:00",
          "2023-04-03T12:00:00+00:00",
          "2023-04-03T13:00:00+00:00",
          "2023-04-03T16:00:00+00:00",
          "2023-04-03T18:00:00+00:00",
          "2023-04-03T19:00:00+00:00",
          "2023-04-03T20:00:00+00:00",
          "2023-04-03T22:00:00+00:00",
          "2023-04-03T23:00:00+00:00",
          "2023-04-04T01:00:00+00:00",
          "2023-04-04T02:00:00+00:00",
          "2023-04-04T03:00:00+00:00",
          "2023-04-04T04:00:00+00:00",
          "2023-04-04T05:00:00+00:00",
          "2023-04-04T06:00:00+00:00",
          "2023-04-04T08:00:00+00:00",
          "2023-04-04T09:00:00+00:00",
          "2023-04-04T10:00:00+00:00",
          "2023-04-04T12:00:00+00:00",
          "2023-04-04T14:00:00+00:00",
          "2023-04-04T15:00:00+00:00",
          "2023-04-04T16:00:00+00:00",
          "2023-04-04T17:00:00+00:00",
          "2023-04-04T18:00:00+00:00",
          "2023-04-04T19:00:00+00:00",
          "2023-04-04T20:00:00+00:00",
          "2023-04-04T21:00:00+00:00",
          "2023-04-05T02:00:00+00:00",
          "2023-04-05T03:00:00+00:00",
          "2023-04-05T04:00:00+00:00",
          "2023-04-05T05:00:00+00:00",
          "2023-04-05T07:00:00+00:00",
          "2023-04-05T08:00:00+00:00",
          "2023-04-05T09:00:00+00:00",
          "2023-04-05T10:00:00+00:00",
          "2023-04-05T12:00:00+00:00",
          "2023-04-05T13:00:00+00:00",
          "2023-04-05T15:00:00+00:00",
          "2023-04-05T16:00:00+00:00",
          "2023-04-05T18:00:00+00:00",
          "2023-04-05T20:00:00+00:00",
          "2023-04-05T21:00:00+00:00",
          "2023-04-05T22:00:00+00:00",
          "2023-04-06T01:00:00+00:00",
          "2023-04-06T02:00:00+00:00",
          "2023-04-06T03:00:00+00:00",
          "2023-04-06T04:00:00+00:00",
          "2023-04-06T05:00:00+00:00",
          "2023-04-06T06:00:00+00:00",
          "2023-04-06T07:00:00+00:00",
          "2023-04-06T08:00:00+00:00",
          "2023-04-06T09:00:00+00:00",
          "2023-04-06T10:00:00+00:00",
          "2023-04-06T11:00:00+00:00",
          "2023-04-06T13:00:00+00:00",
          "2023-04-06T15:00:00+00:00",
          "2023-04-06T16:00:00+00:00",
          "2023-04-06T17:00:00+00:00",
          "2023-04-06T19:00:00+00:00",
          "2023-04-06T23:00:00+00:00",
          "2023-04-07T01:00:00+00:00",
          "2023-04-07T02:00:00+00:00",
          "2023-04-07T03:00:00+00:00",
          "2023-04-07T04:00:00+00:00",
          "2023-04-07T05:00:00+00:00",
          "2023-04-07T06:00:00+00:00",
          "2023-04-07T07:00:00+00:00",
          "2023-04-07T08:00:00+00:00",
          "2023-04-07T12:00:00+00:00",
          "2023-04-07T13:00:00+00:00",
          "2023-04-07T14:00:00+00:00",
          "2023-04-07T15:00:00+00:00",
          "2023-04-07T16:00:00+00:00",
          "2023-04-07T17:00:00+00:00",
          "2023-04-07T18:00:00+00:00",
          "2023-04-07T19:00:00+00:00",
          "2023-04-09T21:00:00+00:00",
          "2023-04-09T22:00:00+00:00",
          "2023-04-09T23:00:00+00:00",
          "2023-04-10T00:00:00+00:00",
          "2023-04-10T02:00:00+00:00",
          "2023-04-10T03:00:00+00:00",
          "2023-04-10T04:00:00+00:00",
          "2023-04-10T05:00:00+00:00",
          "2023-04-10T06:00:00+00:00",
          "2023-04-10T09:00:00+00:00",
          "2023-04-10T10:00:00+00:00",
          "2023-04-10T11:00:00+00:00",
          "2023-04-10T12:00:00+00:00",
          "2023-04-10T14:00:00+00:00",
          "2023-04-10T15:00:00+00:00",
          "2023-04-10T17:00:00+00:00",
          "2023-04-10T20:00:00+00:00",
          "2023-04-10T21:00:00+00:00",
          "2023-04-10T22:00:00+00:00",
          "2023-04-10T23:00:00+00:00",
          "2023-04-11T00:00:00+00:00",
          "2023-04-11T01:00:00+00:00",
          "2023-04-11T02:00:00+00:00",
          "2023-04-11T03:00:00+00:00",
          "2023-04-11T04:00:00+00:00",
          "2023-04-11T05:00:00+00:00",
          "2023-04-11T06:00:00+00:00",
          "2023-04-11T07:00:00+00:00",
          "2023-04-11T08:00:00+00:00",
          "2023-04-11T09:00:00+00:00",
          "2023-04-11T10:00:00+00:00",
          "2023-04-11T13:00:00+00:00",
          "2023-04-11T15:00:00+00:00",
          "2023-04-11T16:00:00+00:00",
          "2023-04-11T17:00:00+00:00",
          "2023-04-11T18:00:00+00:00",
          "2023-04-11T19:00:00+00:00",
          "2023-04-11T20:00:00+00:00",
          "2023-04-11T21:00:00+00:00",
          "2023-04-11T22:00:00+00:00",
          "2023-04-12T00:00:00+00:00",
          "2023-04-12T01:00:00+00:00",
          "2023-04-12T04:00:00+00:00",
          "2023-04-12T05:00:00+00:00",
          "2023-04-12T09:00:00+00:00",
          "2023-04-12T10:00:00+00:00",
          "2023-04-12T11:00:00+00:00",
          "2023-04-12T12:00:00+00:00",
          "2023-04-12T14:00:00+00:00",
          "2023-04-12T15:00:00+00:00",
          "2023-04-12T16:00:00+00:00",
          "2023-04-12T19:00:00+00:00",
          "2023-04-12T20:00:00+00:00",
          "2023-04-12T23:00:00+00:00",
          "2023-04-13T00:00:00+00:00",
          "2023-04-13T01:00:00+00:00",
          "2023-04-13T03:00:00+00:00",
          "2023-04-13T04:00:00+00:00",
          "2023-04-13T05:00:00+00:00",
          "2023-04-13T06:00:00+00:00",
          "2023-04-13T07:00:00+00:00",
          "2023-04-13T08:00:00+00:00",
          "2023-04-13T09:00:00+00:00",
          "2023-04-13T10:00:00+00:00",
          "2023-04-13T12:00:00+00:00",
          "2023-04-13T13:00:00+00:00",
          "2023-04-13T14:00:00+00:00",
          "2023-04-13T15:00:00+00:00",
          "2023-04-13T16:00:00+00:00",
          "2023-04-13T17:00:00+00:00",
          "2023-04-13T20:00:00+00:00",
          "2023-04-13T21:00:00+00:00",
          "2023-04-13T22:00:00+00:00",
          "2023-04-13T23:00:00+00:00",
          "2023-04-14T00:00:00+00:00",
          "2023-04-14T01:00:00+00:00",
          "2023-04-14T02:00:00+00:00",
          "2023-04-14T03:00:00+00:00",
          "2023-04-14T04:00:00+00:00",
          "2023-04-14T05:00:00+00:00",
          "2023-04-14T06:00:00+00:00",
          "2023-04-14T07:00:00+00:00",
          "2023-04-14T08:00:00+00:00",
          "2023-04-14T09:00:00+00:00",
          "2023-04-14T10:00:00+00:00",
          "2023-04-14T11:00:00+00:00",
          "2023-04-14T12:00:00+00:00",
          "2023-04-14T13:00:00+00:00",
          "2023-04-14T14:00:00+00:00",
          "2023-04-14T17:00:00+00:00",
          "2023-04-17T01:00:00+00:00",
          "2023-04-17T04:00:00+00:00",
          "2023-04-17T05:00:00+00:00",
          "2023-04-17T06:00:00+00:00",
          "2023-04-17T09:00:00+00:00",
          "2023-04-17T11:00:00+00:00",
          "2023-04-17T12:00:00+00:00",
          "2023-04-17T13:00:00+00:00",
          "2023-04-17T14:00:00+00:00",
          "2023-04-17T15:00:00+00:00",
          "2023-04-17T16:00:00+00:00",
          "2023-04-17T19:00:00+00:00",
          "2023-04-17T20:00:00+00:00",
          "2023-04-17T21:00:00+00:00",
          "2023-04-17T22:00:00+00:00",
          "2023-04-18T01:00:00+00:00",
          "2023-04-18T02:00:00+00:00",
          "2023-04-18T03:00:00+00:00",
          "2023-04-18T04:00:00+00:00",
          "2023-04-18T05:00:00+00:00",
          "2023-04-18T06:00:00+00:00",
          "2023-04-18T07:00:00+00:00",
          "2023-04-18T09:00:00+00:00",
          "2023-04-18T10:00:00+00:00",
          "2023-04-18T11:00:00+00:00",
          "2023-04-18T15:00:00+00:00",
          "2023-04-18T16:00:00+00:00",
          "2023-04-18T17:00:00+00:00",
          "2023-04-18T18:00:00+00:00",
          "2023-04-18T20:00:00+00:00",
          "2023-04-18T21:00:00+00:00",
          "2023-04-18T22:00:00+00:00",
          "2023-04-18T23:00:00+00:00",
          "2023-04-19T00:00:00+00:00",
          "2023-04-19T01:00:00+00:00",
          "2023-04-19T02:00:00+00:00",
          "2023-04-19T03:00:00+00:00",
          "2023-04-19T05:00:00+00:00",
          "2023-04-19T06:00:00+00:00",
          "2023-04-19T07:00:00+00:00",
          "2023-04-19T09:00:00+00:00",
          "2023-04-19T12:00:00+00:00",
          "2023-04-19T13:00:00+00:00",
          "2023-04-19T14:00:00+00:00",
          "2023-04-19T15:00:00+00:00",
          "2023-04-19T16:00:00+00:00",
          "2023-04-19T17:00:00+00:00",
          "2023-04-19T18:00:00+00:00",
          "2023-04-19T19:00:00+00:00",
          "2023-04-19T20:00:00+00:00",
          "2023-04-19T21:00:00+00:00",
          "2023-04-19T22:00:00+00:00",
          "2023-04-19T23:00:00+00:00",
          "2023-04-20T00:00:00+00:00",
          "2023-04-20T01:00:00+00:00",
          "2023-04-20T03:00:00+00:00",
          "2023-04-20T04:00:00+00:00",
          "2023-04-20T05:00:00+00:00",
          "2023-04-20T06:00:00+00:00",
          "2023-04-20T08:00:00+00:00",
          "2023-04-20T10:00:00+00:00",
          "2023-04-20T11:00:00+00:00",
          "2023-04-20T12:00:00+00:00",
          "2023-04-20T13:00:00+00:00",
          "2023-04-20T15:00:00+00:00",
          "2023-04-20T16:00:00+00:00",
          "2023-04-20T18:00:00+00:00",
          "2023-04-20T20:00:00+00:00",
          "2023-04-20T22:00:00+00:00",
          "2023-04-20T23:00:00+00:00",
          "2023-04-21T00:00:00+00:00",
          "2023-04-21T03:00:00+00:00",
          "2023-04-21T07:00:00+00:00",
          "2023-04-21T09:00:00+00:00",
          "2023-04-21T10:00:00+00:00",
          "2023-04-21T14:00:00+00:00",
          "2023-04-21T15:00:00+00:00",
          "2023-04-21T16:00:00+00:00",
          "2023-04-21T17:00:00+00:00",
          "2023-04-21T18:00:00+00:00",
          "2023-04-21T19:00:00+00:00",
          "2023-04-21T20:00:00+00:00",
          "2023-04-23T21:00:00+00:00",
          "2023-04-24T01:00:00+00:00",
          "2023-04-24T02:00:00+00:00",
          "2023-04-24T04:00:00+00:00",
          "2023-04-24T05:00:00+00:00",
          "2023-04-24T06:00:00+00:00",
          "2023-04-24T07:00:00+00:00",
          "2023-04-24T08:00:00+00:00",
          "2023-04-24T09:00:00+00:00",
          "2023-04-24T10:00:00+00:00",
          "2023-04-24T11:00:00+00:00",
          "2023-04-24T12:00:00+00:00",
          "2023-04-24T13:00:00+00:00",
          "2023-04-24T15:00:00+00:00",
          "2023-04-24T16:00:00+00:00",
          "2023-04-24T17:00:00+00:00",
          "2023-04-24T20:00:00+00:00",
          "2023-04-24T22:00:00+00:00",
          "2023-04-24T23:00:00+00:00",
          "2023-04-25T03:00:00+00:00",
          "2023-04-25T05:00:00+00:00",
          "2023-04-25T06:00:00+00:00",
          "2023-04-25T07:00:00+00:00",
          "2023-04-25T08:00:00+00:00",
          "2023-04-25T09:00:00+00:00",
          "2023-04-25T10:00:00+00:00",
          "2023-04-25T11:00:00+00:00",
          "2023-04-25T13:00:00+00:00",
          "2023-04-25T15:00:00+00:00",
          "2023-04-25T16:00:00+00:00",
          "2023-04-25T19:00:00+00:00",
          "2023-04-25T20:00:00+00:00",
          "2023-04-25T21:00:00+00:00",
          "2023-04-25T22:00:00+00:00",
          "2023-04-26T02:00:00+00:00",
          "2023-04-26T03:00:00+00:00",
          "2023-04-26T04:00:00+00:00",
          "2023-04-26T05:00:00+00:00",
          "2023-04-26T06:00:00+00:00",
          "2023-04-26T09:00:00+00:00",
          "2023-04-26T12:00:00+00:00",
          "2023-04-26T16:00:00+00:00",
          "2023-04-26T17:00:00+00:00",
          "2023-04-26T18:00:00+00:00",
          "2023-04-26T19:00:00+00:00",
          "2023-04-26T20:00:00+00:00",
          "2023-04-26T21:00:00+00:00",
          "2023-04-26T22:00:00+00:00",
          "2023-04-26T23:00:00+00:00",
          "2023-04-27T00:00:00+00:00",
          "2023-04-27T02:00:00+00:00",
          "2023-04-27T03:00:00+00:00",
          "2023-04-27T04:00:00+00:00",
          "2023-04-27T05:00:00+00:00",
          "2023-04-27T07:00:00+00:00",
          "2023-04-27T08:00:00+00:00",
          "2023-04-27T09:00:00+00:00",
          "2023-04-27T10:00:00+00:00",
          "2023-04-27T11:00:00+00:00",
          "2023-04-27T12:00:00+00:00",
          "2023-04-27T13:00:00+00:00",
          "2023-04-27T14:00:00+00:00",
          "2023-04-27T15:00:00+00:00",
          "2023-04-27T16:00:00+00:00",
          "2023-04-27T17:00:00+00:00",
          "2023-04-27T18:00:00+00:00",
          "2023-04-27T21:00:00+00:00",
          "2023-04-27T22:00:00+00:00",
          "2023-04-27T23:00:00+00:00",
          "2023-04-28T00:00:00+00:00",
          "2023-04-28T01:00:00+00:00",
          "2023-04-28T02:00:00+00:00",
          "2023-04-28T03:00:00+00:00",
          "2023-04-28T04:00:00+00:00",
          "2023-04-28T05:00:00+00:00",
          "2023-04-28T07:00:00+00:00",
          "2023-04-28T08:00:00+00:00",
          "2023-04-28T09:00:00+00:00",
          "2023-04-28T13:00:00+00:00",
          "2023-04-28T14:00:00+00:00",
          "2023-04-28T15:00:00+00:00",
          "2023-04-28T16:00:00+00:00",
          "2023-04-28T17:00:00+00:00",
          "2023-04-28T18:00:00+00:00",
          "2023-04-28T19:00:00+00:00",
          "2023-04-30T21:00:00+00:00",
          "2023-04-30T22:00:00+00:00",
          "2023-05-01T00:00:00+00:00",
          "2023-05-01T02:00:00+00:00",
          "2023-05-01T04:00:00+00:00",
          "2023-05-01T05:00:00+00:00",
          "2023-05-01T06:00:00+00:00",
          "2023-05-01T07:00:00+00:00",
          "2023-05-01T08:00:00+00:00",
          "2023-05-01T09:00:00+00:00",
          "2023-05-01T11:00:00+00:00",
          "2023-05-01T12:00:00+00:00",
          "2023-05-01T13:00:00+00:00",
          "2023-05-01T15:00:00+00:00",
          "2023-05-01T16:00:00+00:00",
          "2023-05-01T17:00:00+00:00",
          "2023-05-01T18:00:00+00:00",
          "2023-05-01T19:00:00+00:00",
          "2023-05-01T21:00:00+00:00",
          "2023-05-01T23:00:00+00:00",
          "2023-05-02T02:00:00+00:00",
          "2023-05-02T03:00:00+00:00",
          "2023-05-02T04:00:00+00:00",
          "2023-05-02T05:00:00+00:00",
          "2023-05-02T06:00:00+00:00",
          "2023-05-02T07:00:00+00:00",
          "2023-05-02T08:00:00+00:00",
          "2023-05-02T09:00:00+00:00",
          "2023-05-02T10:00:00+00:00",
          "2023-05-02T11:00:00+00:00",
          "2023-05-02T12:00:00+00:00",
          "2023-05-02T13:00:00+00:00",
          "2023-05-02T14:00:00+00:00",
          "2023-05-02T15:00:00+00:00",
          "2023-05-02T16:00:00+00:00",
          "2023-05-02T17:00:00+00:00",
          "2023-05-02T18:00:00+00:00",
          "2023-05-02T19:00:00+00:00",
          "2023-05-02T20:00:00+00:00",
          "2023-05-02T22:00:00+00:00",
          "2023-05-03T00:00:00+00:00",
          "2023-05-03T01:00:00+00:00",
          "2023-05-03T03:00:00+00:00",
          "2023-05-03T05:00:00+00:00",
          "2023-05-03T06:00:00+00:00",
          "2023-05-03T08:00:00+00:00",
          "2023-05-03T09:00:00+00:00",
          "2023-05-03T10:00:00+00:00",
          "2023-05-03T11:00:00+00:00",
          "2023-05-03T12:00:00+00:00",
          "2023-05-03T13:00:00+00:00",
          "2023-05-03T14:00:00+00:00",
          "2023-05-03T18:00:00+00:00",
          "2023-05-03T19:00:00+00:00",
          "2023-05-03T20:00:00+00:00",
          "2023-05-03T21:00:00+00:00",
          "2023-05-03T23:00:00+00:00",
          "2023-05-04T00:00:00+00:00",
          "2023-05-04T05:00:00+00:00",
          "2023-05-04T06:00:00+00:00",
          "2023-05-04T07:00:00+00:00",
          "2023-05-04T08:00:00+00:00",
          "2023-05-04T09:00:00+00:00",
          "2023-05-04T10:00:00+00:00",
          "2023-05-04T12:00:00+00:00",
          "2023-05-04T14:00:00+00:00",
          "2023-05-04T15:00:00+00:00",
          "2023-05-04T16:00:00+00:00",
          "2023-05-04T17:00:00+00:00",
          "2023-05-04T21:00:00+00:00",
          "2023-05-04T22:00:00+00:00",
          "2023-05-04T23:00:00+00:00",
          "2023-05-05T00:00:00+00:00",
          "2023-05-05T01:00:00+00:00",
          "2023-05-05T02:00:00+00:00",
          "2023-05-05T03:00:00+00:00",
          "2023-05-05T04:00:00+00:00",
          "2023-05-05T05:00:00+00:00",
          "2023-05-05T06:00:00+00:00",
          "2023-05-05T07:00:00+00:00",
          "2023-05-05T08:00:00+00:00",
          "2023-05-05T10:00:00+00:00",
          "2023-05-05T11:00:00+00:00",
          "2023-05-05T12:00:00+00:00",
          "2023-05-05T19:00:00+00:00",
          "2023-05-05T20:00:00+00:00",
          "2023-05-07T21:00:00+00:00",
          "2023-05-08T00:00:00+00:00",
          "2023-05-08T01:00:00+00:00",
          "2023-05-08T03:00:00+00:00",
          "2023-05-08T05:00:00+00:00",
          "2023-05-08T06:00:00+00:00",
          "2023-05-08T07:00:00+00:00",
          "2023-05-08T08:00:00+00:00",
          "2023-05-08T11:00:00+00:00",
          "2023-05-08T12:00:00+00:00",
          "2023-05-08T15:00:00+00:00",
          "2023-05-08T17:00:00+00:00",
          "2023-05-08T18:00:00+00:00",
          "2023-05-08T19:00:00+00:00",
          "2023-05-08T20:00:00+00:00",
          "2023-05-08T21:00:00+00:00",
          "2023-05-08T23:00:00+00:00",
          "2023-05-09T00:00:00+00:00",
          "2023-05-09T01:00:00+00:00",
          "2023-05-09T02:00:00+00:00",
          "2023-05-09T03:00:00+00:00",
          "2023-05-09T04:00:00+00:00",
          "2023-05-09T05:00:00+00:00",
          "2023-05-09T06:00:00+00:00",
          "2023-05-09T07:00:00+00:00",
          "2023-05-09T09:00:00+00:00",
          "2023-05-09T10:00:00+00:00",
          "2023-05-09T11:00:00+00:00",
          "2023-05-09T12:00:00+00:00",
          "2023-05-09T15:00:00+00:00",
          "2023-05-09T16:00:00+00:00",
          "2023-05-09T17:00:00+00:00",
          "2023-05-09T18:00:00+00:00",
          "2023-05-09T20:00:00+00:00",
          "2023-05-09T21:00:00+00:00",
          "2023-05-09T23:00:00+00:00",
          "2023-05-10T00:00:00+00:00",
          "2023-05-10T03:00:00+00:00",
          "2023-05-10T04:00:00+00:00",
          "2023-05-10T05:00:00+00:00",
          "2023-05-10T07:00:00+00:00",
          "2023-05-10T09:00:00+00:00",
          "2023-05-10T10:00:00+00:00",
          "2023-05-10T11:00:00+00:00",
          "2023-05-10T12:00:00+00:00",
          "2023-05-10T13:00:00+00:00",
          "2023-05-10T14:00:00+00:00",
          "2023-05-10T15:00:00+00:00",
          "2023-05-10T16:00:00+00:00",
          "2023-05-10T17:00:00+00:00",
          "2023-05-10T19:00:00+00:00",
          "2023-05-10T20:00:00+00:00",
          "2023-05-10T22:00:00+00:00",
          "2023-05-10T23:00:00+00:00",
          "2023-05-11T00:00:00+00:00",
          "2023-05-11T01:00:00+00:00",
          "2023-05-11T02:00:00+00:00",
          "2023-05-11T03:00:00+00:00",
          "2023-05-11T04:00:00+00:00",
          "2023-05-11T06:00:00+00:00",
          "2023-05-11T07:00:00+00:00",
          "2023-05-11T08:00:00+00:00",
          "2023-05-11T09:00:00+00:00",
          "2023-05-11T10:00:00+00:00",
          "2023-05-11T11:00:00+00:00",
          "2023-05-11T13:00:00+00:00",
          "2023-05-11T14:00:00+00:00",
          "2023-05-11T15:00:00+00:00",
          "2023-05-11T16:00:00+00:00",
          "2023-05-11T17:00:00+00:00",
          "2023-05-11T18:00:00+00:00",
          "2023-05-11T20:00:00+00:00",
          "2023-05-11T21:00:00+00:00",
          "2023-05-11T22:00:00+00:00",
          "2023-05-12T01:00:00+00:00",
          "2023-05-12T02:00:00+00:00",
          "2023-05-12T03:00:00+00:00",
          "2023-05-12T04:00:00+00:00",
          "2023-05-12T05:00:00+00:00",
          "2023-05-12T06:00:00+00:00",
          "2023-05-12T09:00:00+00:00",
          "2023-05-12T10:00:00+00:00",
          "2023-05-12T11:00:00+00:00",
          "2023-05-12T13:00:00+00:00",
          "2023-05-12T14:00:00+00:00",
          "2023-05-12T16:00:00+00:00",
          "2023-05-12T18:00:00+00:00",
          "2023-05-12T19:00:00+00:00",
          "2023-05-12T20:00:00+00:00",
          "2023-05-14T21:00:00+00:00",
          "2023-05-14T22:00:00+00:00",
          "2023-05-15T00:00:00+00:00",
          "2023-05-15T01:00:00+00:00",
          "2023-05-15T03:00:00+00:00",
          "2023-05-15T04:00:00+00:00",
          "2023-05-15T05:00:00+00:00",
          "2023-05-15T06:00:00+00:00",
          "2023-05-15T07:00:00+00:00",
          "2023-05-15T13:00:00+00:00",
          "2023-05-15T15:00:00+00:00",
          "2023-05-15T17:00:00+00:00",
          "2023-05-15T20:00:00+00:00",
          "2023-05-15T21:00:00+00:00",
          "2023-05-15T22:00:00+00:00",
          "2023-05-15T23:00:00+00:00",
          "2023-05-16T00:00:00+00:00",
          "2023-05-16T01:00:00+00:00",
          "2023-05-16T02:00:00+00:00",
          "2023-05-16T03:00:00+00:00",
          "2023-05-16T04:00:00+00:00",
          "2023-05-16T05:00:00+00:00",
          "2023-05-16T06:00:00+00:00",
          "2023-05-16T07:00:00+00:00",
          "2023-05-16T08:00:00+00:00",
          "2023-05-16T09:00:00+00:00",
          "2023-05-16T10:00:00+00:00",
          "2023-05-16T11:00:00+00:00",
          "2023-05-16T12:00:00+00:00",
          "2023-05-16T13:00:00+00:00",
          "2023-05-16T14:00:00+00:00",
          "2023-05-16T15:00:00+00:00",
          "2023-05-16T16:00:00+00:00",
          "2023-05-16T17:00:00+00:00",
          "2023-05-16T18:00:00+00:00",
          "2023-05-16T19:00:00+00:00",
          "2023-05-16T20:00:00+00:00",
          "2023-05-16T22:00:00+00:00",
          "2023-05-16T23:00:00+00:00",
          "2023-05-17T00:00:00+00:00",
          "2023-05-17T01:00:00+00:00",
          "2023-05-17T02:00:00+00:00",
          "2023-05-17T04:00:00+00:00",
          "2023-05-17T05:00:00+00:00",
          "2023-05-17T06:00:00+00:00",
          "2023-05-17T07:00:00+00:00",
          "2023-05-17T09:00:00+00:00",
          "2023-05-17T11:00:00+00:00",
          "2023-05-17T12:00:00+00:00",
          "2023-05-17T14:00:00+00:00",
          "2023-05-17T16:00:00+00:00",
          "2023-05-17T18:00:00+00:00",
          "2023-05-17T19:00:00+00:00",
          "2023-05-17T21:00:00+00:00",
          "2023-05-17T22:00:00+00:00",
          "2023-05-18T00:00:00+00:00",
          "2023-05-18T01:00:00+00:00",
          "2023-05-18T02:00:00+00:00",
          "2023-05-18T03:00:00+00:00",
          "2023-05-18T04:00:00+00:00",
          "2023-05-18T05:00:00+00:00",
          "2023-05-18T06:00:00+00:00",
          "2023-05-18T07:00:00+00:00",
          "2023-05-18T08:00:00+00:00",
          "2023-05-18T09:00:00+00:00",
          "2023-05-18T10:00:00+00:00",
          "2023-05-18T11:00:00+00:00",
          "2023-05-18T12:00:00+00:00",
          "2023-05-18T13:00:00+00:00",
          "2023-05-18T14:00:00+00:00",
          "2023-05-18T15:00:00+00:00",
          "2023-05-18T16:00:00+00:00",
          "2023-05-18T18:00:00+00:00",
          "2023-05-18T19:00:00+00:00",
          "2023-05-18T21:00:00+00:00",
          "2023-05-18T22:00:00+00:00",
          "2023-05-18T23:00:00+00:00",
          "2023-05-19T00:00:00+00:00",
          "2023-05-19T02:00:00+00:00",
          "2023-05-19T03:00:00+00:00",
          "2023-05-19T04:00:00+00:00",
          "2023-05-19T05:00:00+00:00",
          "2023-05-19T09:00:00+00:00",
          "2023-05-19T11:00:00+00:00",
          "2023-05-19T12:00:00+00:00",
          "2023-05-19T13:00:00+00:00",
          "2023-05-19T14:00:00+00:00",
          "2023-05-19T15:00:00+00:00",
          "2023-05-19T17:00:00+00:00",
          "2023-05-19T20:00:00+00:00",
          "2023-05-21T21:00:00+00:00",
          "2023-05-21T22:00:00+00:00",
          "2023-05-22T00:00:00+00:00",
          "2023-05-22T01:00:00+00:00",
          "2023-05-22T02:00:00+00:00",
          "2023-05-22T04:00:00+00:00",
          "2023-05-22T06:00:00+00:00",
          "2023-05-22T07:00:00+00:00",
          "2023-05-22T08:00:00+00:00",
          "2023-05-22T09:00:00+00:00",
          "2023-05-22T10:00:00+00:00",
          "2023-05-22T11:00:00+00:00",
          "2023-05-22T12:00:00+00:00",
          "2023-05-22T14:00:00+00:00",
          "2023-05-22T15:00:00+00:00",
          "2023-05-22T17:00:00+00:00",
          "2023-05-22T18:00:00+00:00",
          "2023-05-22T20:00:00+00:00",
          "2023-05-22T22:00:00+00:00",
          "2023-05-23T00:00:00+00:00",
          "2023-05-23T01:00:00+00:00",
          "2023-05-23T03:00:00+00:00",
          "2023-05-23T05:00:00+00:00",
          "2023-05-23T06:00:00+00:00",
          "2023-05-23T07:00:00+00:00",
          "2023-05-23T08:00:00+00:00",
          "2023-05-23T09:00:00+00:00",
          "2023-05-23T10:00:00+00:00",
          "2023-05-23T12:00:00+00:00",
          "2023-05-23T15:00:00+00:00",
          "2023-05-23T16:00:00+00:00",
          "2023-05-23T17:00:00+00:00",
          "2023-05-23T18:00:00+00:00",
          "2023-05-23T19:00:00+00:00",
          "2023-05-23T20:00:00+00:00",
          "2023-05-23T21:00:00+00:00",
          "2023-05-23T23:00:00+00:00",
          "2023-05-24T00:00:00+00:00",
          "2023-05-24T02:00:00+00:00",
          "2023-05-24T03:00:00+00:00",
          "2023-05-24T04:00:00+00:00",
          "2023-05-24T06:00:00+00:00",
          "2023-05-24T08:00:00+00:00",
          "2023-05-24T09:00:00+00:00",
          "2023-05-24T10:00:00+00:00",
          "2023-05-24T12:00:00+00:00",
          "2023-05-24T13:00:00+00:00",
          "2023-05-24T16:00:00+00:00",
          "2023-05-24T17:00:00+00:00",
          "2023-05-24T18:00:00+00:00",
          "2023-05-24T19:00:00+00:00",
          "2023-05-24T21:00:00+00:00",
          "2023-05-24T22:00:00+00:00",
          "2023-05-24T23:00:00+00:00",
          "2023-05-25T00:00:00+00:00",
          "2023-05-25T02:00:00+00:00",
          "2023-05-25T03:00:00+00:00",
          "2023-05-25T05:00:00+00:00",
          "2023-05-25T07:00:00+00:00",
          "2023-05-25T09:00:00+00:00",
          "2023-05-25T10:00:00+00:00",
          "2023-05-25T12:00:00+00:00",
          "2023-05-25T13:00:00+00:00",
          "2023-05-25T14:00:00+00:00",
          "2023-05-25T15:00:00+00:00",
          "2023-05-25T16:00:00+00:00",
          "2023-05-25T17:00:00+00:00",
          "2023-05-25T19:00:00+00:00",
          "2023-05-25T20:00:00+00:00",
          "2023-05-25T21:00:00+00:00",
          "2023-05-25T22:00:00+00:00",
          "2023-05-25T23:00:00+00:00",
          "2023-05-26T00:00:00+00:00",
          "2023-05-26T01:00:00+00:00",
          "2023-05-26T02:00:00+00:00",
          "2023-05-26T04:00:00+00:00",
          "2023-05-26T05:00:00+00:00",
          "2023-05-26T07:00:00+00:00",
          "2023-05-26T08:00:00+00:00",
          "2023-05-26T09:00:00+00:00",
          "2023-05-26T10:00:00+00:00",
          "2023-05-26T11:00:00+00:00",
          "2023-05-26T12:00:00+00:00",
          "2023-05-26T13:00:00+00:00",
          "2023-05-26T14:00:00+00:00",
          "2023-05-26T15:00:00+00:00",
          "2023-05-26T16:00:00+00:00",
          "2023-05-26T18:00:00+00:00",
          "2023-05-26T19:00:00+00:00",
          "2023-05-28T21:00:00+00:00",
          "2023-05-28T23:00:00+00:00",
          "2023-05-29T02:00:00+00:00",
          "2023-05-29T03:00:00+00:00",
          "2023-05-29T04:00:00+00:00",
          "2023-05-29T05:00:00+00:00",
          "2023-05-29T06:00:00+00:00",
          "2023-05-29T07:00:00+00:00",
          "2023-05-29T08:00:00+00:00",
          "2023-05-29T10:00:00+00:00",
          "2023-05-29T11:00:00+00:00",
          "2023-05-29T12:00:00+00:00",
          "2023-05-29T13:00:00+00:00",
          "2023-05-29T14:00:00+00:00",
          "2023-05-29T16:00:00+00:00",
          "2023-05-29T17:00:00+00:00",
          "2023-05-29T18:00:00+00:00",
          "2023-05-29T19:00:00+00:00",
          "2023-05-29T20:00:00+00:00",
          "2023-05-29T22:00:00+00:00",
          "2023-05-29T23:00:00+00:00",
          "2023-05-30T01:00:00+00:00",
          "2023-05-30T02:00:00+00:00",
          "2023-05-30T03:00:00+00:00",
          "2023-05-30T04:00:00+00:00",
          "2023-05-30T05:00:00+00:00",
          "2023-05-30T06:00:00+00:00",
          "2023-05-30T07:00:00+00:00",
          "2023-05-30T08:00:00+00:00",
          "2023-05-30T10:00:00+00:00",
          "2023-05-30T11:00:00+00:00",
          "2023-05-30T12:00:00+00:00",
          "2023-05-30T13:00:00+00:00",
          "2023-05-30T15:00:00+00:00",
          "2023-05-30T17:00:00+00:00",
          "2023-05-30T18:00:00+00:00",
          "2023-05-30T19:00:00+00:00",
          "2023-05-30T21:00:00+00:00",
          "2023-05-30T22:00:00+00:00",
          "2023-05-30T23:00:00+00:00",
          "2023-05-31T01:00:00+00:00",
          "2023-05-31T03:00:00+00:00",
          "2023-05-31T05:00:00+00:00",
          "2023-05-31T06:00:00+00:00",
          "2023-05-31T07:00:00+00:00",
          "2023-05-31T08:00:00+00:00",
          "2023-05-31T10:00:00+00:00",
          "2023-05-31T13:00:00+00:00",
          "2023-05-31T14:00:00+00:00",
          "2023-05-31T15:00:00+00:00",
          "2023-05-31T16:00:00+00:00",
          "2023-05-31T17:00:00+00:00",
          "2023-05-31T19:00:00+00:00",
          "2023-05-31T22:00:00+00:00",
          "2023-05-31T23:00:00+00:00",
          "2023-06-01T02:00:00+00:00",
          "2023-06-01T03:00:00+00:00",
          "2023-06-01T04:00:00+00:00",
          "2023-06-01T05:00:00+00:00",
          "2023-06-01T06:00:00+00:00",
          "2023-06-01T07:00:00+00:00",
          "2023-06-01T08:00:00+00:00",
          "2023-06-01T09:00:00+00:00",
          "2023-06-01T10:00:00+00:00",
          "2023-06-01T11:00:00+00:00",
          "2023-06-01T12:00:00+00:00",
          "2023-06-01T13:00:00+00:00",
          "2023-06-01T14:00:00+00:00",
          "2023-06-01T15:00:00+00:00",
          "2023-06-01T16:00:00+00:00",
          "2023-06-01T17:00:00+00:00",
          "2023-06-01T19:00:00+00:00",
          "2023-06-01T21:00:00+00:00",
          "2023-06-01T22:00:00+00:00",
          "2023-06-02T00:00:00+00:00",
          "2023-06-02T02:00:00+00:00",
          "2023-06-02T03:00:00+00:00",
          "2023-06-02T05:00:00+00:00",
          "2023-06-02T07:00:00+00:00",
          "2023-06-02T08:00:00+00:00",
          "2023-06-02T10:00:00+00:00",
          "2023-06-02T11:00:00+00:00",
          "2023-06-02T12:00:00+00:00",
          "2023-06-02T13:00:00+00:00",
          "2023-06-02T15:00:00+00:00",
          "2023-06-02T16:00:00+00:00",
          "2023-06-02T17:00:00+00:00",
          "2023-06-02T18:00:00+00:00",
          "2023-06-05T00:00:00+00:00",
          "2023-06-05T02:00:00+00:00",
          "2023-06-05T04:00:00+00:00",
          "2023-06-05T05:00:00+00:00",
          "2023-06-05T06:00:00+00:00",
          "2023-06-05T08:00:00+00:00",
          "2023-06-05T09:00:00+00:00",
          "2023-06-05T11:00:00+00:00",
          "2023-06-05T12:00:00+00:00",
          "2023-06-05T13:00:00+00:00",
          "2023-06-05T14:00:00+00:00",
          "2023-06-05T15:00:00+00:00",
          "2023-06-05T16:00:00+00:00",
          "2023-06-05T17:00:00+00:00",
          "2023-06-05T19:00:00+00:00",
          "2023-06-05T20:00:00+00:00",
          "2023-06-05T22:00:00+00:00",
          "2023-06-05T23:00:00+00:00",
          "2023-06-06T01:00:00+00:00",
          "2023-06-06T02:00:00+00:00",
          "2023-06-06T05:00:00+00:00",
          "2023-06-06T06:00:00+00:00",
          "2023-06-06T07:00:00+00:00",
          "2023-06-06T08:00:00+00:00",
          "2023-06-06T10:00:00+00:00",
          "2023-06-06T11:00:00+00:00",
          "2023-06-06T12:00:00+00:00",
          "2023-06-06T13:00:00+00:00",
          "2023-06-06T14:00:00+00:00",
          "2023-06-06T15:00:00+00:00",
          "2023-06-06T16:00:00+00:00",
          "2023-06-06T17:00:00+00:00",
          "2023-06-06T18:00:00+00:00",
          "2023-06-06T19:00:00+00:00",
          "2023-06-06T21:00:00+00:00",
          "2023-06-06T22:00:00+00:00",
          "2023-06-07T00:00:00+00:00",
          "2023-06-07T01:00:00+00:00",
          "2023-06-07T02:00:00+00:00",
          "2023-06-07T03:00:00+00:00",
          "2023-06-07T04:00:00+00:00",
          "2023-06-07T06:00:00+00:00",
          "2023-06-07T07:00:00+00:00",
          "2023-06-07T08:00:00+00:00",
          "2023-06-07T09:00:00+00:00",
          "2023-06-07T10:00:00+00:00",
          "2023-06-07T11:00:00+00:00",
          "2023-06-07T12:00:00+00:00",
          "2023-06-07T13:00:00+00:00",
          "2023-06-07T14:00:00+00:00",
          "2023-06-07T17:00:00+00:00",
          "2023-06-07T18:00:00+00:00",
          "2023-06-07T19:00:00+00:00",
          "2023-06-07T21:00:00+00:00",
          "2023-06-08T01:00:00+00:00",
          "2023-06-08T04:00:00+00:00",
          "2023-06-08T05:00:00+00:00",
          "2023-06-08T07:00:00+00:00",
          "2023-06-08T08:00:00+00:00",
          "2023-06-08T09:00:00+00:00",
          "2023-06-08T10:00:00+00:00",
          "2023-06-08T11:00:00+00:00",
          "2023-06-08T13:00:00+00:00",
          "2023-06-08T14:00:00+00:00",
          "2023-06-08T15:00:00+00:00",
          "2023-06-08T16:00:00+00:00",
          "2023-06-08T17:00:00+00:00",
          "2023-06-08T18:00:00+00:00",
          "2023-06-08T20:00:00+00:00",
          "2023-06-09T01:00:00+00:00",
          "2023-06-09T03:00:00+00:00",
          "2023-06-09T04:00:00+00:00",
          "2023-06-09T06:00:00+00:00",
          "2023-06-09T07:00:00+00:00",
          "2023-06-09T08:00:00+00:00",
          "2023-06-09T09:00:00+00:00",
          "2023-06-09T10:00:00+00:00",
          "2023-06-09T12:00:00+00:00",
          "2023-06-09T13:00:00+00:00",
          "2023-06-09T14:00:00+00:00",
          "2023-06-09T15:00:00+00:00",
          "2023-06-09T17:00:00+00:00",
          "2023-06-09T19:00:00+00:00",
          "2023-06-11T21:00:00+00:00",
          "2023-06-12T01:00:00+00:00",
          "2023-06-12T02:00:00+00:00",
          "2023-06-12T03:00:00+00:00",
          "2023-06-12T04:00:00+00:00",
          "2023-06-12T05:00:00+00:00",
          "2023-06-12T06:00:00+00:00",
          "2023-06-12T07:00:00+00:00",
          "2023-06-12T08:00:00+00:00",
          "2023-06-12T09:00:00+00:00",
          "2023-06-12T10:00:00+00:00",
          "2023-06-12T11:00:00+00:00",
          "2023-06-12T12:00:00+00:00",
          "2023-06-12T13:00:00+00:00",
          "2023-06-12T14:00:00+00:00",
          "2023-06-12T15:00:00+00:00",
          "2023-06-12T16:00:00+00:00",
          "2023-06-12T17:00:00+00:00",
          "2023-06-12T20:00:00+00:00",
          "2023-06-12T21:00:00+00:00",
          "2023-06-12T22:00:00+00:00",
          "2023-06-12T23:00:00+00:00",
          "2023-06-13T00:00:00+00:00",
          "2023-06-13T01:00:00+00:00",
          "2023-06-13T02:00:00+00:00",
          "2023-06-13T03:00:00+00:00",
          "2023-06-13T04:00:00+00:00",
          "2023-06-13T05:00:00+00:00",
          "2023-06-13T06:00:00+00:00",
          "2023-06-13T07:00:00+00:00",
          "2023-06-13T08:00:00+00:00",
          "2023-06-13T09:00:00+00:00",
          "2023-06-13T10:00:00+00:00",
          "2023-06-13T12:00:00+00:00",
          "2023-06-13T13:00:00+00:00",
          "2023-06-13T14:00:00+00:00",
          "2023-06-13T15:00:00+00:00",
          "2023-06-13T17:00:00+00:00",
          "2023-06-13T19:00:00+00:00",
          "2023-06-13T20:00:00+00:00",
          "2023-06-13T22:00:00+00:00",
          "2023-06-14T00:00:00+00:00",
          "2023-06-14T01:00:00+00:00",
          "2023-06-14T02:00:00+00:00",
          "2023-06-14T03:00:00+00:00",
          "2023-06-14T04:00:00+00:00",
          "2023-06-14T05:00:00+00:00",
          "2023-06-14T06:00:00+00:00",
          "2023-06-14T07:00:00+00:00",
          "2023-06-14T08:00:00+00:00",
          "2023-06-14T09:00:00+00:00",
          "2023-06-14T10:00:00+00:00",
          "2023-06-14T11:00:00+00:00",
          "2023-06-14T12:00:00+00:00",
          "2023-06-14T13:00:00+00:00",
          "2023-06-14T18:00:00+00:00",
          "2023-06-14T20:00:00+00:00",
          "2023-06-14T22:00:00+00:00",
          "2023-06-14T23:00:00+00:00",
          "2023-06-15T00:00:00+00:00",
          "2023-06-15T01:00:00+00:00",
          "2023-06-15T02:00:00+00:00",
          "2023-06-15T06:00:00+00:00",
          "2023-06-15T07:00:00+00:00",
          "2023-06-15T10:00:00+00:00",
          "2023-06-15T12:00:00+00:00",
          "2023-06-15T13:00:00+00:00",
          "2023-06-15T14:00:00+00:00",
          "2023-06-15T15:00:00+00:00",
          "2023-06-15T19:00:00+00:00",
          "2023-06-15T23:00:00+00:00",
          "2023-06-16T00:00:00+00:00",
          "2023-06-16T01:00:00+00:00",
          "2023-06-16T02:00:00+00:00",
          "2023-06-16T03:00:00+00:00",
          "2023-06-16T04:00:00+00:00",
          "2023-06-16T05:00:00+00:00",
          "2023-06-16T06:00:00+00:00",
          "2023-06-16T07:00:00+00:00",
          "2023-06-16T08:00:00+00:00",
          "2023-06-16T09:00:00+00:00",
          "2023-06-16T10:00:00+00:00",
          "2023-06-16T11:00:00+00:00",
          "2023-06-16T12:00:00+00:00",
          "2023-06-16T13:00:00+00:00",
          "2023-06-16T14:00:00+00:00",
          "2023-06-16T15:00:00+00:00",
          "2023-06-16T16:00:00+00:00",
          "2023-06-16T17:00:00+00:00",
          "2023-06-16T19:00:00+00:00",
          "2023-06-16T20:00:00+00:00",
          "2023-06-18T22:00:00+00:00",
          "2023-06-19T01:00:00+00:00",
          "2023-06-19T02:00:00+00:00",
          "2023-06-19T03:00:00+00:00",
          "2023-06-19T04:00:00+00:00",
          "2023-06-19T05:00:00+00:00",
          "2023-06-19T06:00:00+00:00",
          "2023-06-19T07:00:00+00:00",
          "2023-06-19T09:00:00+00:00",
          "2023-06-19T10:00:00+00:00",
          "2023-06-19T11:00:00+00:00",
          "2023-06-19T12:00:00+00:00",
          "2023-06-19T14:00:00+00:00",
          "2023-06-19T15:00:00+00:00",
          "2023-06-19T16:00:00+00:00",
          "2023-06-19T17:00:00+00:00",
          "2023-06-19T18:00:00+00:00",
          "2023-06-19T19:00:00+00:00",
          "2023-06-19T20:00:00+00:00",
          "2023-06-19T22:00:00+00:00",
          "2023-06-19T23:00:00+00:00",
          "2023-06-20T00:00:00+00:00",
          "2023-06-20T01:00:00+00:00",
          "2023-06-20T02:00:00+00:00",
          "2023-06-20T03:00:00+00:00",
          "2023-06-20T04:00:00+00:00",
          "2023-06-20T05:00:00+00:00",
          "2023-06-20T07:00:00+00:00",
          "2023-06-20T08:00:00+00:00",
          "2023-06-20T10:00:00+00:00",
          "2023-06-20T14:00:00+00:00",
          "2023-06-20T15:00:00+00:00",
          "2023-06-20T16:00:00+00:00",
          "2023-06-20T19:00:00+00:00",
          "2023-06-20T20:00:00+00:00",
          "2023-06-20T21:00:00+00:00",
          "2023-06-20T22:00:00+00:00",
          "2023-06-20T23:00:00+00:00",
          "2023-06-21T00:00:00+00:00",
          "2023-06-21T01:00:00+00:00",
          "2023-06-21T02:00:00+00:00",
          "2023-06-21T03:00:00+00:00",
          "2023-06-21T04:00:00+00:00",
          "2023-06-21T06:00:00+00:00",
          "2023-06-21T07:00:00+00:00",
          "2023-06-21T08:00:00+00:00",
          "2023-06-21T09:00:00+00:00",
          "2023-06-21T11:00:00+00:00",
          "2023-06-21T12:00:00+00:00",
          "2023-06-21T13:00:00+00:00",
          "2023-06-21T14:00:00+00:00",
          "2023-06-21T15:00:00+00:00",
          "2023-06-21T17:00:00+00:00",
          "2023-06-21T18:00:00+00:00",
          "2023-06-21T19:00:00+00:00",
          "2023-06-21T20:00:00+00:00",
          "2023-06-21T21:00:00+00:00",
          "2023-06-21T23:00:00+00:00",
          "2023-06-22T00:00:00+00:00",
          "2023-06-22T02:00:00+00:00",
          "2023-06-22T04:00:00+00:00",
          "2023-06-22T05:00:00+00:00",
          "2023-06-22T06:00:00+00:00",
          "2023-06-22T07:00:00+00:00",
          "2023-06-22T08:00:00+00:00",
          "2023-06-22T09:00:00+00:00",
          "2023-06-22T10:00:00+00:00",
          "2023-06-22T11:00:00+00:00",
          "2023-06-22T13:00:00+00:00",
          "2023-06-22T14:00:00+00:00",
          "2023-06-22T15:00:00+00:00",
          "2023-06-22T16:00:00+00:00",
          "2023-06-22T17:00:00+00:00",
          "2023-06-22T19:00:00+00:00",
          "2023-06-22T20:00:00+00:00",
          "2023-06-22T22:00:00+00:00",
          "2023-06-23T01:00:00+00:00",
          "2023-06-23T02:00:00+00:00",
          "2023-06-23T03:00:00+00:00",
          "2023-06-23T04:00:00+00:00",
          "2023-06-23T05:00:00+00:00",
          "2023-06-23T06:00:00+00:00",
          "2023-06-23T07:00:00+00:00",
          "2023-06-23T08:00:00+00:00",
          "2023-06-23T09:00:00+00:00",
          "2023-06-23T12:00:00+00:00",
          "2023-06-23T14:00:00+00:00",
          "2023-06-23T15:00:00+00:00",
          "2023-06-23T16:00:00+00:00",
          "2023-06-23T17:00:00+00:00",
          "2023-06-23T19:00:00+00:00",
          "2023-06-23T20:00:00+00:00",
          "2023-06-25T21:00:00+00:00",
          "2023-06-25T22:00:00+00:00",
          "2023-06-25T23:00:00+00:00",
          "2023-06-26T00:00:00+00:00",
          "2023-06-26T01:00:00+00:00",
          "2023-06-26T03:00:00+00:00",
          "2023-06-26T04:00:00+00:00",
          "2023-06-26T05:00:00+00:00",
          "2023-06-26T09:00:00+00:00",
          "2023-06-26T10:00:00+00:00",
          "2023-06-26T11:00:00+00:00",
          "2023-06-26T12:00:00+00:00",
          "2023-06-26T15:00:00+00:00",
          "2023-06-26T16:00:00+00:00",
          "2023-06-26T17:00:00+00:00",
          "2023-06-26T19:00:00+00:00",
          "2023-06-26T20:00:00+00:00",
          "2023-06-26T21:00:00+00:00",
          "2023-06-26T23:00:00+00:00",
          "2023-06-27T00:00:00+00:00",
          "2023-06-27T01:00:00+00:00",
          "2023-06-27T03:00:00+00:00",
          "2023-06-27T05:00:00+00:00",
          "2023-06-27T07:00:00+00:00",
          "2023-06-27T08:00:00+00:00",
          "2023-06-27T10:00:00+00:00",
          "2023-06-27T11:00:00+00:00",
          "2023-06-27T12:00:00+00:00",
          "2023-06-27T13:00:00+00:00",
          "2023-06-27T14:00:00+00:00",
          "2023-06-27T15:00:00+00:00",
          "2023-06-27T16:00:00+00:00",
          "2023-06-27T18:00:00+00:00",
          "2023-06-27T21:00:00+00:00",
          "2023-06-27T22:00:00+00:00",
          "2023-06-28T00:00:00+00:00",
          "2023-06-28T02:00:00+00:00",
          "2023-06-28T03:00:00+00:00",
          "2023-06-28T04:00:00+00:00",
          "2023-06-28T07:00:00+00:00",
          "2023-06-28T08:00:00+00:00",
          "2023-06-28T09:00:00+00:00",
          "2023-06-28T11:00:00+00:00",
          "2023-06-28T12:00:00+00:00",
          "2023-06-28T16:00:00+00:00",
          "2023-06-28T17:00:00+00:00",
          "2023-06-28T18:00:00+00:00",
          "2023-06-28T19:00:00+00:00",
          "2023-06-28T20:00:00+00:00",
          "2023-06-28T22:00:00+00:00",
          "2023-06-28T23:00:00+00:00",
          "2023-06-29T01:00:00+00:00",
          "2023-06-29T02:00:00+00:00",
          "2023-06-29T03:00:00+00:00",
          "2023-06-29T04:00:00+00:00",
          "2023-06-29T06:00:00+00:00",
          "2023-06-29T07:00:00+00:00",
          "2023-06-29T09:00:00+00:00",
          "2023-06-29T10:00:00+00:00",
          "2023-06-29T11:00:00+00:00",
          "2023-06-29T12:00:00+00:00",
          "2023-06-29T13:00:00+00:00",
          "2023-06-29T14:00:00+00:00",
          "2023-06-29T15:00:00+00:00",
          "2023-06-29T16:00:00+00:00",
          "2023-06-29T17:00:00+00:00",
          "2023-06-29T18:00:00+00:00",
          "2023-06-29T19:00:00+00:00",
          "2023-06-29T20:00:00+00:00",
          "2023-06-29T21:00:00+00:00",
          "2023-06-29T22:00:00+00:00",
          "2023-06-30T02:00:00+00:00",
          "2023-06-30T05:00:00+00:00",
          "2023-06-30T06:00:00+00:00",
          "2023-06-30T07:00:00+00:00",
          "2023-06-30T08:00:00+00:00",
          "2023-06-30T09:00:00+00:00",
          "2023-06-30T11:00:00+00:00",
          "2023-06-30T12:00:00+00:00"
         ],
         "y": [
          -57.40000000000078,
          100.6999999999993,
          471.0999999999996,
          507.19999999999965,
          849.1999999999971,
          937.2999999999943,
          850.2999999999938,
          422.69999999999254,
          261.09999999999195,
          -19.50000000000921,
          54.69999999999061,
          396.7999999999899,
          478.1999999999898,
          823.7999999999879,
          811.2999999999881,
          821.4999999999883,
          879.9999999999897,
          896.5999999999896,
          966.9999999999889,
          974.999999999988,
          545.6999999999898,
          161.19999999999038,
          79.59999999998982,
          149.59999999998877,
          210.3999999999881,
          60.99999999998926,
          -89.00000000001023,
          -140.1000000000097,
          -146.9000000000098,
          -179.20000000001085,
          -143.2000000000109,
          -188.5000000000112,
          -199.60000000001065,
          -185.2000000000101,
          -119.10000000001081,
          -381.7000000000092,
          -375.60000000000923,
          -794.5000000000077,
          -848.1000000000081,
          -864.0000000000091,
          -992.100000000011,
          -1202.5000000000105,
          -1265.3000000000088,
          -1249.2000000000078,
          -1239.400000000008,
          -1276.8000000000088,
          -1253.3000000000093,
          -1313.6000000000079,
          -1353.0000000000073,
          -1363.6000000000056,
          -1461.2000000000078,
          -1512.3000000000075,
          -1570.8000000000086,
          -1505.7000000000087,
          -1525.8000000000106,
          -1541.3000000000106,
          -1536.9000000000108,
          -1692.4000000000092,
          -1665.6000000000117,
          -1748.0000000000107,
          -1958.5000000000084,
          -2269.8000000000093,
          -2318.0000000000077,
          -2366.0000000000055,
          -2432.8000000000043,
          -2432.900000000005,
          -2578.500000000004,
          -2750.100000000002,
          -2804.1000000000013,
          -2836.1,
          -2927.600000000001,
          -2942.200000000001,
          -2956.2,
          -2951.8999999999987,
          -3019.5000000000005,
          -2999.2000000000003,
          -3072.7000000000003,
          -3216.7999999999975,
          -3244.3999999999983,
          -3241.2999999999975,
          -3148.699999999997,
          -2947.499999999998,
          -2923.4,
          -2974.3999999999987,
          -3068.7999999999965,
          -3090.5999999999985,
          -3102.5,
          -3154.499999999996,
          -3119.5999999999954,
          -3012.9999999999964,
          -3008.499999999998,
          -3016.099999999998,
          -3031.0999999999985,
          -3039.3999999999987,
          -3001.2000000000016,
          -2941.600000000003,
          -2911.0000000000045,
          -2929.8000000000056,
          -2901.900000000005,
          -2977.100000000006,
          -2985.8000000000056,
          -3126.300000000006,
          -3172.3000000000056,
          -3097.300000000004,
          -3042.900000000003,
          -2992.9000000000015,
          -2991.9000000000024,
          -2815.600000000003,
          -2711.2000000000044,
          -2614.400000000004,
          -2592.500000000004,
          -2622.500000000004,
          -2617.8000000000043,
          -2644.0000000000073,
          -2633.5000000000073,
          -2493.9000000000074,
          -2382.9000000000083,
          -2357.500000000008,
          -2175.8000000000075,
          -2123.500000000009,
          -2094.500000000009,
          -2114.500000000009,
          -2081.8000000000065,
          -2055.0000000000064,
          -2000.2000000000046,
          -1998.2000000000048,
          -2005.2000000000041,
          -2064.5000000000036,
          -2176.2000000000053,
          -2225.9000000000037,
          -2300.7000000000035,
          -2289.9000000000037,
          -2242.5000000000027,
          -2242.5000000000027,
          -2213.800000000002,
          -2167.600000000003,
          -2161.000000000004,
          -2155.6000000000045,
          -2205.3000000000056,
          -2185.200000000005,
          -2212.8000000000025,
          -2214.600000000002,
          -1939.8000000000027,
          -1779.1000000000035,
          -1719.5000000000039,
          -1449.400000000003,
          -1416.8000000000027,
          -1382.4000000000033,
          -1377.7000000000025,
          -1390.5000000000057,
          -1414.000000000004,
          -1505.2000000000044,
          -1534.0000000000043,
          -1581.900000000004,
          -1609.2000000000035,
          -1633.4000000000044,
          -1658.8000000000043,
          -1770.1000000000058,
          -1605.800000000006,
          -1690.800000000008,
          -1715.6000000000083,
          -1761.100000000008,
          -1780.3000000000072,
          -1800.2000000000078,
          -1932.5000000000077,
          -1853.1000000000072,
          -1956.9000000000078,
          -1917.6000000000079,
          -1691.600000000006,
          -1476.4000000000055,
          -1463.0000000000055,
          -1499.8000000000045,
          -1141.800000000006,
          -1170.5000000000055,
          -1161.3000000000056,
          -1174.7000000000057,
          -1145.2000000000057,
          -1106.7000000000066,
          -1139.5000000000061,
          -1124.6000000000063,
          -1162.6000000000065,
          -1240.2000000000064,
          -1266.900000000006,
          -1275.8000000000065,
          -1243.500000000006,
          -1281.4000000000078,
          -1292.0000000000084,
          -1313.1000000000079,
          -1272.400000000007,
          -1251.0000000000073,
          -1181.4000000000074,
          -1147.0000000000089,
          -1133.100000000011,
          -1146.2000000000103,
          -1174.500000000009,
          -1145.8000000000097,
          -1165.3000000000104,
          -1195.3000000000116,
          -1143.200000000012,
          -1175.8000000000125,
          -1182.1000000000126,
          -1197.5000000000125,
          -1075.600000000011,
          -1111.1000000000104,
          -1110.3000000000095,
          -1012.9000000000121,
          -1091.9000000000146,
          -964.5000000000149,
          -1090.3000000000152,
          -1108.9000000000149,
          -1233.300000000015,
          -1365.9000000000156,
          -1362.1000000000151,
          -1557.7000000000164,
          -1651.3000000000168,
          -1695.900000000017,
          -1823.900000000017,
          -1846.300000000016,
          -1989.3000000000154,
          -2066.700000000016,
          -2145.700000000016,
          -2278.000000000019,
          -2329.200000000019,
          -2229.100000000018,
          -2224.9000000000174,
          -2143.2000000000194,
          -2135.5000000000196,
          -2105.0000000000196,
          -2185.2000000000207,
          -2158.800000000022,
          -2251.1000000000236,
          -2179.500000000023,
          -2202.300000000024,
          -2189.100000000025,
          -2118.100000000025,
          -2102.900000000025,
          -2114.7000000000257,
          -2101.000000000025,
          -2130.2000000000253,
          -2154.700000000027,
          -2170.7000000000276,
          -2189.900000000028,
          -2224.4000000000265,
          -2232.800000000026,
          -2231.200000000027,
          -2219.0000000000264,
          -2141.3000000000247,
          -2061.8000000000247,
          -1888.100000000021,
          -1638.800000000021,
          -1675.3000000000204,
          -1652.7000000000223,
          -1654.1000000000226,
          -1668.900000000023,
          -1626.1000000000224,
          -1697.7000000000232,
          -1742.5000000000236,
          -1787.5000000000243,
          -1873.1000000000233,
          -1986.1000000000242,
          -1990.500000000024,
          -1727.1000000000238,
          -1181.2000000000228,
          -1023.0000000000234,
          -658.2000000000223,
          -580.5000000000218,
          -329.0000000000229,
          -373.5000000000222,
          -279.9000000000241,
          -291.30000000002326,
          -327.40000000002215,
          -367.8000000000226,
          -388.7000000000228,
          -451.5000000000228,
          -429.90000000002226,
          -417.50000000002274,
          -450.6000000000234,
          -468.80000000002383,
          -461.2000000000245,
          -338.80000000002195,
          -318.2000000000232,
          -350.0000000000228,
          -368.1000000000226,
          -389.90000000002107,
          -458.2000000000222,
          -476.0000000000223,
          -474.8000000000233,
          -466.80000000002417,
          -468.80000000002394,
          -556.600000000024,
          -549.1000000000238,
          -637.300000000022,
          -795.7000000000205,
          -817.4000000000206,
          -830.6000000000205,
          -829.7000000000202,
          -724.1000000000175,
          -589.6000000000149,
          -626.0000000000135,
          -644.7000000000139,
          -648.800000000014,
          -747.6000000000149,
          -736.9000000000136,
          -814.1000000000131,
          -682.7000000000136,
          -808.700000000013,
          -817.8000000000146,
          -737.7000000000162,
          -746.1000000000157,
          -663.0000000000153,
          -540.7000000000157,
          -465.6000000000167,
          -209.00000000001762,
          -219.60000000001824,
          -278.7000000000195,
          -265.7000000000187,
          -300.90000000001766,
          -305.60000000001736,
          -287.0000000000176,
          -304.20000000001704,
          -333.4000000000172,
          -352.5000000000191,
          -344.9000000000204,
          -432.90000000001993,
          -469.20000000002017,
          -537.2000000000194,
          -560.200000000019,
          -602.7000000000188,
          -630.5000000000146,
          -861.100000000013,
          -918.9000000000142,
          -870.0000000000135,
          -870.2000000000137,
          -928.8000000000135,
          -961.4000000000128,
          -972.0000000000134,
          -1042.100000000013,
          -1073.3000000000152,
          -1066.100000000015,
          -1172.6000000000142,
          -1239.8000000000136,
          -1240.3000000000136,
          -1248.4000000000124,
          -1270.4000000000124,
          -1315.0000000000114,
          -1300.200000000011,
          -1254.0000000000102,
          -1279.1000000000079,
          -1334.3000000000065,
          -1319.5000000000061,
          -1393.5000000000068,
          -1391.3000000000077,
          -1404.90000000001,
          -1564.40000000001,
          -1630.3000000000093,
          -1708.100000000007,
          -1733.3000000000054,
          -1788.100000000007,
          -1791.000000000007,
          -1894.500000000008,
          -1945.5000000000068,
          -1988.9000000000096,
          -2018.900000000006,
          -1986.500000000005,
          -2030.9000000000049,
          -2088.6000000000067,
          -2060.4000000000065,
          -2019.9000000000065,
          -1977.1000000000058,
          -1934.5000000000066,
          -1993.4000000000053,
          -1994.8000000000054,
          -2018.2000000000044,
          -2011.0000000000061,
          -2028.400000000007,
          -2051.800000000007,
          -2091.0000000000064,
          -2090.300000000007,
          -2049.5000000000073,
          -1971.4000000000085,
          -1907.3000000000081,
          -1934.7000000000066,
          -1780.3000000000077,
          -1885.5000000000098,
          -1901.2000000000107,
          -1850.0000000000095,
          -1896.1000000000095,
          -1933.1000000000088,
          -1983.300000000009,
          -2011.100000000009,
          -1985.10000000001,
          -2045.1000000000122,
          -1981.0000000000116,
          -2040.2000000000119,
          -2023.5000000000132,
          -1949.5000000000161,
          -1968.9000000000167,
          -2116.6000000000186,
          -2115.1000000000176,
          -2122.900000000018,
          -2161.50000000002,
          -2134.30000000002,
          -2156.90000000002,
          -2102.7000000000203,
          -2124.30000000002,
          -2149.2000000000216,
          -2335.50000000002,
          -2367.200000000021,
          -2420.000000000024,
          -2490.8000000000256,
          -2499.700000000026,
          -2519.1000000000267,
          -2574.3000000000266,
          -2533.5000000000277,
          -2573.000000000027,
          -2563.8000000000266,
          -2524.8000000000266,
          -2478.100000000027,
          -2499.5000000000273,
          -2416.8000000000275,
          -2367.400000000027,
          -2335.400000000027,
          -2347.800000000026,
          -2143.100000000026,
          -2147.1000000000254,
          -2221.8000000000256,
          -2149.300000000027,
          -2214.600000000029,
          -2192.400000000028,
          -2181.0000000000286,
          -2186.1000000000286,
          -2202.500000000028,
          -2220.100000000028,
          -2178.5000000000286,
          -2168.3000000000284,
          -2133.7000000000303,
          -2185.9000000000287,
          -2216.0000000000264,
          -2214.400000000025,
          -2210.400000000024,
          -2206.400000000024,
          -2235.9000000000224,
          -2247.5000000000227,
          -2253.000000000023,
          -2283.300000000023,
          -2294.500000000023,
          -2292.600000000023,
          -2307.300000000024,
          -2114.0000000000246,
          -2104.100000000026,
          -1946.8000000000252,
          -1983.400000000025,
          -1774.3000000000272,
          -1776.9000000000265,
          -1767.4000000000265,
          -1766.5000000000273,
          -1645.9000000000276,
          -1724.800000000027,
          -1663.100000000027,
          -1324.4000000000262,
          -1281.2000000000273,
          -1243.5000000000268,
          -1166.3000000000295,
          -1377.2000000000317,
          -1409.2000000000314,
          -1410.6000000000317,
          -1407.7000000000317,
          -1121.9000000000353,
          -1122.1000000000367,
          -1137.900000000038,
          -1148.7000000000378,
          -1176.700000000038,
          -859.8000000000407,
          -598.4000000000419,
          -575.5000000000396,
          -585.1000000000381,
          -595.3000000000383,
          -673.4000000000381,
          -645.600000000038,
          -649.2000000000371,
          -680.5000000000379,
          -658.9000000000385,
          -705.9000000000378,
          -702.9000000000382,
          -694.5000000000387,
          -710.0000000000381,
          -725.6000000000381,
          -714.2000000000389,
          -586.600000000039,
          -632.2000000000402,
          -683.6000000000405,
          -479.40000000004056,
          -474.8000000000404,
          -452.50000000004087,
          -749.9000000000399,
          -1437.8000000000418,
          -1663.6000000000413,
          -1625.9000000000408,
          -2161.300000000042,
          -2239.5000000000414,
          -2256.1000000000413,
          -2260.7000000000417,
          -2245.500000000041,
          -2317.700000000042,
          -2325.1000000000417,
          -2374.100000000041,
          -2376.500000000041,
          -2358.3000000000416,
          -1811.700000000042,
          -1715.5000000000423,
          -1841.000000000043,
          -1870.9000000000435,
          -1936.3000000000434,
          -1948.6000000000417,
          -1977.9000000000428,
          -1981.7000000000432,
          -2019.1000000000417,
          -2014.8000000000425,
          -2037.400000000045,
          -2031.5000000000452,
          -2060.0000000000455,
          -2093.000000000044,
          -2126.6000000000445,
          -2136.0000000000437,
          -2295.3000000000416,
          -2328.400000000041,
          -2422.7000000000417,
          -2509.3000000000407,
          -2506.000000000041,
          -2521.2000000000394,
          -2534.800000000039,
          -2487.3000000000375,
          -2456.3000000000366,
          -2403.2000000000367,
          -2458.100000000037,
          -2570.9000000000365,
          -2563.500000000037,
          -2594.5000000000377,
          -2717.200000000039,
          -2713.6000000000395,
          -2740.2000000000407,
          -2749.5000000000405,
          -2766.40000000004,
          -2775.000000000041,
          -2868.3000000000416,
          -2809.900000000042,
          -2947.70000000004,
          -3101.4000000000415,
          -3186.8000000000457,
          -3237.200000000045,
          -3355.800000000046,
          -3451.9000000000487,
          -3429.200000000049,
          -3433.2000000000485,
          -3358.400000000048,
          -3294.5000000000477,
          -3363.4000000000483,
          -3414.000000000049,
          -3461.600000000049,
          -3474.1000000000486,
          -3465.8000000000475,
          -3356.600000000049,
          -3014.8000000000497,
          -2908.30000000005,
          -2814.4000000000515,
          -2834.2000000000526,
          -2809.8000000000525,
          -2826.4000000000524,
          -2848.4000000000524,
          -2871.8000000000525,
          -2900.9000000000524,
          -2847.0000000000523,
          -2923.7000000000517,
          -2938.5000000000546,
          -2960.200000000055,
          -2986.700000000054,
          -3056.5000000000537,
          -2982.8000000000543,
          -3014.3000000000543,
          -3082.3000000000548,
          -3099.1000000000536,
          -3062.0000000000514,
          -3075.800000000052,
          -3000.900000000052,
          -3071.0000000000514,
          -3065.800000000053,
          -3098.600000000052,
          -3192.2000000000567,
          -3220.000000000056,
          -3219.800000000057,
          -3287.100000000056,
          -3235.900000000057,
          -3211.6000000000554,
          -3163.000000000055,
          -3185.000000000055,
          -3212.300000000056,
          -3167.000000000056,
          -3053.300000000054,
          -3083.3000000000548,
          -3109.600000000054,
          -3171.000000000053,
          -3226.200000000053,
          -3293.2000000000544,
          -3327.200000000055,
          -3030.9000000000547,
          -3014.5000000000537,
          -2994.600000000052,
          -3046.4000000000524,
          -3114.1000000000545,
          -3124.6000000000545,
          -3177.700000000055,
          -2757.200000000054,
          -2738.8000000000543,
          -2571.200000000056,
          -2598.0000000000564,
          -2524.6000000000563,
          -2459.8000000000557,
          -2475.5000000000555,
          -2493.200000000055,
          -2617.800000000055,
          -2687.100000000055,
          -2690.2000000000553,
          -2728.9000000000556,
          -2728.9000000000556,
          -2369.300000000055,
          -1999.8000000000566,
          -2029.4000000000563,
          -2102.8000000000575,
          -2192.8000000000566,
          -1985.0000000000564,
          -1995.4000000000567,
          -2035.600000000057,
          -2228.3000000000593,
          -2293.3000000000575,
          -2307.2000000000576,
          -2354.3000000000575,
          -2388.900000000058,
          -2367.2000000000576,
          -2560.0000000000596,
          -2577.8000000000598,
          -2614.5000000000605,
          -2637.000000000059,
          -2672.70000000006,
          -2676.7000000000594,
          -2696.5000000000605,
          -2739.50000000006,
          -2763.900000000058,
          -2782.5000000000578,
          -2782.0000000000578,
          -2802.0000000000555,
          -2836.0000000000564,
          -2869.800000000057,
          -2899.7000000000576,
          -2853.8000000000566,
          -2867.7000000000567,
          -2877.7000000000567,
          -2880.500000000056,
          -2871.000000000056,
          -2894.200000000057,
          -3028.900000000057,
          -2984.200000000057,
          -2935.400000000059,
          -3086.0000000000578,
          -3099.5000000000587,
          -3281.70000000006,
          -3504.1000000000604,
          -3769.60000000006,
          -3816.3000000000593,
          -3827.5000000000596,
          -3936.40000000006,
          -3931.9000000000597,
          -4162.800000000059,
          -4187.40000000006,
          -4281.700000000059,
          -4278.60000000006,
          -4351.000000000062,
          -4338.300000000061,
          -4356.30000000006,
          -4059.700000000059,
          -4057.700000000059,
          -4107.600000000059,
          -3712.600000000058,
          -3668.800000000059,
          -3416.2000000000608,
          -3283.8000000000616,
          -3037.4000000000615,
          -3045.300000000062,
          -2858.30000000006,
          -2755.200000000062,
          -2758.5000000000628,
          -2605.9000000000624,
          -2786.3000000000643,
          -2798.500000000064,
          -2810.300000000064,
          -2782.900000000064,
          -2735.900000000064,
          -2702.100000000065,
          -2745.300000000066,
          -2738.4000000000665,
          -2742.200000000067,
          -2763.700000000068,
          -2774.3000000000666,
          -2751.9000000000665,
          -2681.1000000000677,
          -2717.600000000067,
          -2712.700000000069,
          -2812.7000000000703,
          -2979.9000000000715,
          -3026.600000000072,
          -3043.5000000000737,
          -3209.600000000074,
          -3216.200000000074,
          -3305.2000000000726,
          -3305.100000000074,
          -3382.400000000073,
          -3340.200000000074,
          -3324.600000000074,
          -3451.2000000000753,
          -3515.200000000074,
          -3545.500000000075,
          -3573.3000000000757,
          -3599.300000000075,
          -3632.7000000000744,
          -3677.000000000074,
          -3641.60000000007,
          -3781.5000000000687,
          -3768.8000000000666,
          -3846.3000000000657,
          -3841.9000000000656,
          -4286.100000000065,
          -4348.300000000063,
          -4504.800000000062,
          -4599.100000000061,
          -4689.200000000061,
          -4773.9000000000615,
          -4935.000000000061,
          -4683.300000000063,
          -4634.600000000062,
          -4639.50000000006,
          -4543.10000000006,
          -4558.00000000006,
          -4559.800000000059,
          -4540.70000000006,
          -4555.100000000059,
          -4583.000000000059,
          -4667.1000000000595,
          -4743.90000000006,
          -4753.20000000006,
          -4848.300000000059,
          -4827.000000000058,
          -4723.600000000057,
          -4718.0000000000555,
          -4709.800000000057,
          -4757.600000000056,
          -4783.000000000056,
          -4761.600000000056,
          -4774.500000000056,
          -4789.300000000054,
          -4787.300000000054,
          -4811.600000000053,
          -4819.300000000054,
          -4814.100000000053,
          -4874.500000000053,
          -4919.2000000000535,
          -4968.000000000053,
          -4954.500000000054,
          -4916.0000000000555,
          -4888.400000000058,
          -4894.900000000055,
          -4938.100000000055,
          -4944.100000000055,
          -5022.800000000056,
          -5050.200000000055,
          -5056.600000000055,
          -5091.900000000055,
          -5145.600000000053,
          -5147.800000000055,
          -5187.3000000000575,
          -5191.700000000057,
          -5240.100000000057,
          -5339.600000000057,
          -5383.800000000056,
          -5362.0000000000555,
          -5373.900000000056,
          -5401.600000000057,
          -5431.700000000057,
          -5292.900000000057,
          -5248.800000000057,
          -5234.900000000058,
          -4457.900000000059,
          -4457.100000000058,
          -4450.500000000056,
          -4447.300000000056,
          -3770.700000000056,
          -3002.0000000000573,
          -3028.9000000000583,
          -3060.900000000059,
          -3062.8000000000584,
          -3134.600000000058,
          -3168.000000000059,
          -3113.20000000006,
          -3168.4000000000597,
          -3174.600000000059,
          -3198.000000000059,
          -3265.400000000061,
          -3474.900000000059,
          -3523.000000000059,
          -3543.2000000000594,
          -3551.20000000006,
          -3574.0000000000605,
          -3600.8000000000607,
          -3656.5000000000614,
          -3681.9000000000615,
          -3705.3000000000616,
          -3723.8000000000607,
          -3724.900000000061,
          -3716.0000000000605,
          -3710.50000000006,
          -3760.8000000000598,
          -3783.600000000059,
          -3795.2000000000594,
          -3849.100000000057,
          -3896.000000000057,
          -3960.2000000000558,
          -4017.3000000000566,
          -4001.100000000056,
          -4016.6000000000554,
          -4010.2000000000544,
          -4073.8000000000557,
          -4115.300000000055,
          -4120.500000000054,
          -4134.600000000053,
          -4124.200000000053,
          -4143.200000000053,
          -4086.8000000000516,
          -4079.4000000000497,
          -4110.100000000049,
          -3987.9000000000456,
          -3986.5000000000446,
          -3941.8000000000443,
          -3945.300000000045,
          -3995.7000000000457,
          -3988.500000000045,
          -4033.5000000000455,
          -4029.9000000000465,
          -4044.8000000000484,
          -4017.300000000048,
          -4065.800000000048,
          -4019.600000000047,
          -4122.5000000000455,
          -4123.5000000000455,
          -4151.400000000044,
          -4150.100000000043,
          -4132.900000000044,
          -4183.100000000043,
          -4099.700000000041,
          -4037.6000000000404,
          -4090.10000000004,
          -3803.200000000039,
          -3554.800000000038,
          -3600.100000000037,
          -3780.300000000039,
          -4005.1000000000377,
          -4312.600000000038,
          -4405.300000000038,
          -4361.500000000037,
          -4584.100000000036,
          -4587.400000000035,
          -4644.600000000035,
          -4712.700000000034,
          -4621.700000000034,
          -5125.100000000035,
          -5333.2000000000335,
          -5338.800000000035,
          -5429.800000000035,
          -5470.400000000035,
          -5410.200000000035,
          -5337.200000000034,
          -5323.600000000035,
          -4893.300000000036,
          -4840.500000000036,
          -4800.800000000036,
          -4637.200000000034,
          -4597.200000000034,
          -4642.600000000034,
          -4643.600000000034,
          -4683.700000000035,
          -4633.100000000035,
          -4684.300000000037,
          -4693.400000000036,
          -4672.900000000036,
          -4671.200000000036,
          -4667.200000000036,
          -4401.500000000038,
          -4374.90000000004,
          -3928.800000000041,
          -3956.4000000000397,
          -3696.1000000000404,
          -3704.500000000041,
          -3629.400000000042,
          -3631.2000000000426,
          -3459.600000000043,
          -3382.3000000000434,
          -3265.200000000044,
          -3159.300000000043,
          -3160.500000000043,
          -3095.200000000043,
          -3122.4000000000437,
          -3140.700000000044,
          -3189.000000000045,
          -3163.200000000045,
          -3201.3000000000457,
          -3209.000000000045,
          -3239.9000000000456,
          -3279.8000000000447,
          -3246.2000000000444,
          -3259.3000000000447,
          -3296.4000000000456,
          -3291.3000000000457,
          -3356.1000000000454,
          -3366.2000000000453,
          -3449.9000000000424,
          -3501.000000000041,
          -3594.100000000039,
          -3635.4000000000347,
          -3757.500000000033,
          -3836.4000000000333,
          -3793.600000000034,
          -3823.900000000033,
          -3797.7000000000344,
          -3801.500000000035,
          -3757.9000000000337,
          -3775.100000000033,
          -3787.9000000000324,
          -3816.9000000000315,
          -3818.200000000031,
          -3842.500000000032,
          -3868.700000000031,
          -3876.800000000031,
          -3874.20000000003,
          -3935.20000000003,
          -3989.6000000000286,
          -4021.50000000003,
          -4019.2000000000303,
          -3915.6000000000267,
          -3900.500000000026,
          -4008.5000000000264,
          -4042.300000000028,
          -4024.10000000003,
          -4047.1000000000317,
          -4135.800000000031,
          -4186.600000000031,
          -4232.200000000029,
          -4250.900000000028,
          -4241.400000000028,
          -4301.200000000029,
          -4319.400000000029,
          -4455.400000000028,
          -4490.700000000029,
          -4589.500000000027,
          -4658.300000000027,
          -4623.6000000000295,
          -4570.900000000031,
          -4507.200000000031,
          -4706.500000000028,
          -4747.900000000029,
          -4807.900000000029,
          -4864.400000000028,
          -4905.500000000027,
          -5138.400000000027,
          -5174.000000000029,
          -5164.80000000003,
          -5142.40000000003,
          -5103.40000000003,
          -5119.400000000031,
          -5132.800000000029,
          -5141.400000000028,
          -5198.600000000028,
          -5208.700000000027,
          -5231.0000000000255,
          -5233.900000000026,
          -5239.500000000028,
          -5282.000000000029,
          -5346.800000000031,
          -5351.600000000031,
          -5346.300000000032,
          -5360.500000000032,
          -5474.800000000036,
          -5318.0000000000355,
          -5143.000000000035,
          -5104.800000000036,
          -5088.700000000038,
          -5151.400000000038,
          -5168.200000000039,
          -5200.800000000039,
          -5204.30000000004,
          -5200.9000000000415,
          -5238.400000000039,
          -5332.200000000039,
          -5338.200000000039,
          -5331.400000000039,
          -5349.700000000039,
          -5367.600000000039,
          -5379.800000000041,
          -5385.700000000042,
          -5395.500000000042,
          -5422.500000000041,
          -5448.100000000042,
          -5449.200000000043,
          -5443.600000000041,
          -5457.100000000043,
          -5460.100000000043,
          -5516.7000000000435,
          -5538.500000000042,
          -5589.500000000041,
          -5686.300000000041,
          -5716.100000000042,
          -5709.800000000044,
          -5806.500000000043,
          -5797.700000000043,
          -5810.900000000042,
          -5767.100000000042,
          -5843.600000000044,
          -6126.900000000043,
          -6129.4000000000415,
          -6165.600000000041,
          -6204.200000000041,
          -6239.20000000004,
          -6230.500000000041,
          -6265.4000000000415,
          -6290.000000000042,
          -6326.000000000043,
          -6397.500000000043,
          -6417.300000000044,
          -6451.300000000042,
          -6563.700000000041,
          -6572.1000000000395,
          -6648.000000000041,
          -6672.200000000042,
          -6605.400000000042,
          -6662.600000000042,
          -6582.500000000044,
          -6520.700000000042,
          -6386.200000000042,
          -6258.000000000041,
          -6324.000000000042,
          -6382.700000000041,
          -6402.30000000004,
          -6359.000000000043,
          -6447.700000000044,
          -6430.900000000044,
          -6532.900000000043,
          -6593.900000000043,
          -6601.900000000044,
          -6589.100000000042,
          -6588.4000000000415,
          -6670.700000000044,
          -6683.500000000043,
          -6652.500000000043,
          -6393.900000000041,
          -6435.600000000042,
          -6434.000000000043,
          -6271.400000000044,
          -6140.400000000043,
          -5988.200000000042,
          -5780.900000000043,
          -5819.500000000043,
          -5868.700000000044,
          -5857.100000000044,
          -5876.900000000044,
          -5935.5000000000455,
          -5993.700000000046,
          -5944.100000000046,
          -5895.700000000046,
          -5928.100000000045,
          -5653.000000000042,
          -5478.500000000043,
          -5415.000000000042,
          -5430.300000000042,
          -5443.900000000042,
          -5451.100000000042,
          -5423.500000000043,
          -5436.900000000042,
          -5437.500000000043,
          -5597.7000000000435,
          -5664.900000000044,
          -5814.900000000045,
          -6023.700000000044,
          -6026.600000000046,
          -6169.600000000048,
          -6240.400000000048,
          -5842.900000000049,
          -5472.300000000048,
          -5141.000000000048,
          -5168.400000000049,
          -5076.300000000049,
          -5069.800000000049,
          -5115.100000000049,
          -5121.500000000048,
          -5057.90000000005,
          -5037.10000000005,
          -5071.200000000051,
          -5093.900000000051,
          -5157.9000000000515,
          -5170.500000000052,
          -5178.10000000005,
          -5234.500000000051,
          -5230.700000000051,
          -5247.800000000051,
          -5260.800000000052,
          -5270.4000000000515,
          -5278.000000000051,
          -5183.300000000052,
          -5204.700000000053,
          -5215.300000000053,
          -5078.800000000053,
          -5041.300000000054,
          -4903.900000000054,
          -4826.200000000054,
          -4811.800000000054,
          -4797.600000000055,
          -4807.400000000055,
          -4791.100000000055,
          -4747.7000000000535,
          -4805.7000000000535,
          -4825.800000000053,
          -4827.200000000052,
          -4858.500000000053,
          -4913.600000000054,
          -4879.400000000054,
          -4838.600000000055,
          -4835.000000000054,
          -4806.2000000000535,
          -4828.600000000056,
          -4866.300000000057,
          -4863.300000000055,
          -4891.100000000056,
          -4895.600000000054,
          -4798.800000000053,
          -4808.500000000055,
          -4845.800000000055,
          -4910.000000000057,
          -4795.400000000058,
          -4789.100000000058,
          -4876.20000000006,
          -4875.800000000059,
          -4899.3000000000575,
          -4852.000000000057,
          -4861.900000000058,
          -5001.900000000056,
          -4998.600000000055,
          -5011.400000000055,
          -5041.400000000054,
          -5046.200000000053,
          -5041.800000000053,
          -5080.100000000054,
          -5092.900000000053,
          -5064.900000000053,
          -5073.7000000000535,
          -5097.300000000055,
          -5082.900000000056,
          -5139.900000000054,
          -5153.700000000054,
          -5154.800000000054,
          -5196.700000000052,
          -5224.600000000052,
          -5194.600000000052,
          -5213.800000000054,
          -5261.700000000054,
          -5387.900000000052,
          -5437.500000000053,
          -5406.600000000055,
          -5425.300000000054,
          -5244.800000000053,
          -5259.000000000053,
          -5091.500000000053,
          -5018.900000000052,
          -5222.500000000055,
          -5344.300000000054,
          -5238.800000000056,
          -5252.700000000055,
          -5283.500000000056,
          -5315.500000000057,
          -5354.300000000057,
          -5363.100000000057,
          -5344.100000000057,
          -5354.600000000057,
          -5268.700000000056,
          -5169.100000000055,
          -5015.400000000053,
          -4656.800000000056,
          -4678.100000000055,
          -4709.100000000054,
          -4633.000000000053,
          -4480.100000000052,
          -4481.700000000053,
          -4489.700000000052,
          -4582.800000000052,
          -4582.200000000052,
          -4521.800000000054,
          -4444.300000000055,
          -4446.600000000054,
          -4469.000000000055,
          -4336.200000000055,
          -4341.200000000054,
          -4314.5000000000555,
          -4303.200000000056,
          -4345.400000000056,
          -4391.200000000055,
          -4586.700000000056,
          -4543.600000000056,
          -4555.900000000057,
          -4597.100000000057,
          -4508.900000000059,
          -4553.500000000057,
          -4506.90000000006,
          -4546.200000000059,
          -4585.600000000059,
          -4595.300000000058,
          -4568.50000000006,
          -4626.300000000059,
          -4434.800000000059,
          -4394.900000000059,
          -4418.700000000059,
          -4355.100000000059,
          -4342.500000000058,
          -4495.400000000057,
          -4488.200000000057,
          -4516.300000000059,
          -4534.700000000058,
          -4481.300000000057,
          -4450.500000000057,
          -4461.400000000058,
          -4361.500000000058,
          -4310.300000000058,
          -4323.200000000059,
          -4309.200000000059,
          -4333.400000000058,
          -4397.400000000058,
          -4432.900000000057,
          -4494.900000000058,
          -4510.700000000057,
          -4529.400000000056,
          -4638.600000000058,
          -4695.100000000056,
          -4710.400000000055,
          -4664.300000000055,
          -4683.900000000055,
          -4696.800000000056,
          -4733.400000000056,
          -4743.200000000056,
          -4828.200000000056,
          -4850.200000000058,
          -4868.500000000057,
          -4849.7000000000535,
          -4802.600000000055,
          -4821.100000000054,
          -4820.600000000054,
          -4842.500000000055,
          -4908.400000000054,
          -4923.600000000054,
          -5018.200000000055,
          -4910.800000000056,
          -4924.400000000057,
          -5026.800000000057,
          -4962.8000000000575,
          -4974.200000000057,
          -4956.300000000056,
          -4884.900000000056,
          -4932.100000000054,
          -4932.500000000054,
          -4930.7000000000535,
          -4876.600000000052,
          -4895.600000000052,
          -4876.700000000052,
          -4848.100000000052,
          -4804.700000000052,
          -4798.700000000052,
          -4802.100000000052,
          -4812.300000000053,
          -4803.600000000051,
          -4795.600000000052,
          -4787.100000000051,
          -4801.100000000049,
          -4757.400000000047,
          -4780.700000000046,
          -4767.0000000000455,
          -4821.900000000044,
          -4850.800000000043,
          -4752.500000000044,
          -4755.000000000045,
          -4773.300000000046,
          -4823.100000000046,
          -4603.200000000044,
          -4596.600000000044,
          -4433.2000000000435,
          -4331.000000000042,
          -4341.200000000042,
          -4202.4000000000415,
          -4207.200000000041,
          -4325.300000000043,
          -4430.300000000043,
          -4408.200000000045,
          -4469.300000000047,
          -4499.600000000047,
          -4477.8000000000475,
          -4502.000000000048,
          -4513.000000000048,
          -4497.900000000049,
          -4488.100000000049,
          -4489.500000000048,
          -4514.1000000000495,
          -4527.90000000005,
          -4497.6000000000495,
          -4427.500000000053,
          -4406.100000000055,
          -4363.900000000054,
          -4361.5000000000555,
          -4352.0000000000555,
          -4300.400000000055,
          -4297.700000000055,
          -4277.900000000054,
          -4200.5000000000555,
          -4206.900000000055,
          -4164.500000000055,
          -4200.600000000055,
          -4190.200000000054,
          -4192.600000000055,
          -4278.500000000056,
          -4290.900000000057,
          -4304.200000000057,
          -4328.700000000058,
          -4375.200000000057,
          -4382.600000000057,
          -4569.900000000057,
          -4578.900000000057,
          -4566.100000000057,
          -4555.100000000057,
          -4515.000000000058,
          -4509.400000000059,
          -4521.100000000059,
          -4550.500000000058,
          -4536.000000000058,
          -4570.40000000006,
          -4631.70000000006,
          -4640.60000000006,
          -4653.900000000061,
          -4696.700000000061,
          -4758.100000000061,
          -4764.500000000062,
          -4823.100000000061,
          -4845.100000000061,
          -4908.6000000000595,
          -4927.90000000006,
          -4895.300000000059,
          -4813.300000000058,
          -4757.4000000000615,
          -4647.300000000058,
          -4405.100000000055,
          -4275.300000000054,
          -4236.900000000055,
          -4268.500000000054,
          -4282.500000000054,
          -4296.900000000056,
          -4279.100000000056,
          -4316.600000000056,
          -4320.300000000056,
          -4277.100000000055,
          -4298.300000000055,
          -4299.900000000054,
          -4327.600000000053,
          -4319.400000000052,
          -4245.900000000052,
          -4276.100000000055,
          -4291.300000000055,
          -4186.100000000056,
          -4198.000000000054,
          -4164.600000000054,
          -4142.2000000000535,
          -4167.400000000054,
          -4166.400000000054,
          -4189.100000000054,
          -4198.2000000000535,
          -4216.7000000000535,
          -4230.800000000054,
          -4266.500000000054,
          -4240.100000000054,
          -4280.400000000054,
          -4454.200000000056,
          -4521.400000000058,
          -4684.700000000056,
          -4670.800000000057,
          -4719.900000000058,
          -4779.700000000059,
          -4770.100000000059,
          -4811.200000000059,
          -4716.500000000059,
          -4589.400000000059,
          -4535.300000000058,
          -4622.50000000006,
          -4467.700000000061,
          -4510.100000000059,
          -4658.900000000061,
          -4719.700000000062,
          -4637.200000000062,
          -4477.300000000062,
          -4530.500000000065,
          -4518.000000000065,
          -4543.000000000065,
          -4573.8000000000675,
          -4645.900000000069,
          -4679.900000000069,
          -4699.70000000007,
          -4787.300000000069,
          -4808.900000000067,
          -4780.600000000068,
          -4757.800000000069,
          -4754.700000000069,
          -4687.000000000068,
          -4711.000000000068,
          -4640.200000000067,
          -4585.200000000065,
          -4560.200000000065,
          -4609.800000000066,
          -4618.300000000066,
          -4623.0000000000655,
          -4614.8000000000675,
          -4629.100000000068,
          -4623.100000000069,
          -4601.400000000067,
          -4608.600000000068,
          -4564.00000000007,
          -4568.70000000007,
          -4552.1000000000695,
          -4573.000000000069,
          -4604.6000000000695,
          -4619.700000000071,
          -4638.10000000007,
          -4705.4000000000715,
          -4518.9000000000715,
          -4460.600000000071,
          -4501.200000000069,
          -4564.200000000069,
          -4500.300000000071,
          -4514.10000000007,
          -4329.000000000071,
          -4231.700000000072,
          -3958.900000000075,
          -3996.000000000073,
          -3927.1000000000704,
          -3931.10000000007,
          -3968.70000000007,
          -3977.20000000007,
          -3977.8000000000693,
          -3994.9000000000688,
          -3986.9000000000683,
          -3977.500000000069,
          -3996.1000000000668,
          -3999.500000000067,
          -4037.9000000000674,
          -4083.900000000066,
          -4112.000000000066,
          -4022.4000000000656,
          -4050.600000000065,
          -4059.1000000000654,
          -4034.600000000063,
          -4074.200000000065,
          -4073.0000000000646,
          -4116.000000000065,
          -4121.800000000064,
          -4151.2000000000635,
          -4168.2000000000635,
          -4193.600000000066,
          -4191.400000000066,
          -4233.700000000064,
          -4313.900000000068,
          -4332.700000000068,
          -4349.900000000069,
          -4452.700000000068,
          -4523.300000000067,
          -4390.900000000067,
          -4283.700000000067,
          -4003.300000000068,
          -3874.3000000000666,
          -3833.5000000000664,
          -3871.7000000000667,
          -3890.1000000000663,
          -3776.1000000000654,
          -3803.1000000000663,
          -3833.8000000000648,
          -4005.8000000000648,
          -4024.6000000000654,
          -4058.7000000000644,
          -3715.9000000000633,
          -3792.400000000063,
          -3503.300000000064,
          -3533.6000000000636,
          -3077.7000000000603,
          -3030.3000000000616,
          -2986.0000000000628,
          -2995.5000000000628,
          -3005.9000000000633,
          -3044.000000000064,
          -3071.600000000064,
          -3080.1000000000645,
          -3205.8000000000648,
          -3223.4000000000647,
          -3234.1000000000636,
          -3175.500000000065,
          -3258.1000000000627,
          -3287.800000000064,
          -3327.700000000063,
          -3349.8000000000634,
          -3203.000000000064,
          -3229.000000000063,
          -3196.0000000000623,
          -3099.2000000000603,
          -3100.7000000000603,
          -3153.50000000006,
          -3155.50000000006,
          -3213.7000000000603,
          -3381.0000000000605,
          -3323.600000000061,
          -3367.1000000000613,
          -3476.900000000061,
          -3496.900000000061,
          -3399.0000000000605,
          -3468.1000000000604,
          -3495.4000000000615,
          -3462.600000000062,
          -3275.1000000000627,
          -3299.2000000000626,
          -3282.7000000000635,
          -3301.4000000000633,
          -3379.9000000000606,
          -3406.900000000062,
          -3397.7000000000617,
          -3375.000000000062,
          -3331.100000000061,
          -3330.2000000000603,
          -3465.2000000000608,
          -4029.400000000056,
          -3879.6000000000577,
          -3885.900000000058,
          -3831.1000000000568,
          -3861.100000000055,
          -4028.600000000053,
          -4164.200000000055,
          -4364.700000000054,
          -4294.500000000055,
          -4342.300000000055,
          -4344.900000000054,
          -4404.700000000055,
          -4424.500000000055,
          -4339.300000000056,
          -4502.400000000056,
          -4296.100000000053,
          -4266.700000000055,
          -4276.300000000056,
          -4334.100000000055,
          -4348.900000000054,
          -4383.300000000054,
          -4337.900000000055,
          -4472.600000000056,
          -4429.800000000056,
          -4432.400000000055,
          -4452.900000000055,
          -4500.900000000054,
          -4526.300000000054,
          -4577.900000000052,
          -4606.500000000054,
          -4613.100000000055,
          -4617.000000000055,
          -4613.200000000054,
          -4640.100000000052,
          -4749.300000000053,
          -4787.300000000053,
          -4797.800000000052,
          -4829.300000000051,
          -4840.700000000053,
          -5044.100000000053,
          -5303.400000000052,
          -5916.100000000051,
          -5763.4000000000515,
          -5754.80000000005,
          -5509.100000000049,
          -5188.900000000048,
          -5392.3000000000475,
          -5442.100000000047,
          -5569.700000000045,
          -5616.5000000000455,
          -5657.200000000047,
          -5731.700000000047,
          -5876.900000000045,
          -5933.900000000044,
          -6029.700000000046,
          -6087.100000000047,
          -6312.5000000000455,
          -6437.500000000046,
          -6569.900000000046,
          -6538.500000000046,
          -6632.300000000045,
          -6635.500000000045,
          -6795.000000000047,
          -6691.400000000048,
          -6690.600000000047,
          -6594.100000000047,
          -6971.900000000054,
          -7075.600000000054,
          -7132.600000000053,
          -7099.700000000055,
          -7008.800000000055,
          -7019.500000000055,
          -7056.000000000056,
          -7126.400000000057,
          -7016.000000000057,
          -6865.200000000058,
          -6909.600000000057,
          -6941.600000000056,
          -7017.900000000057,
          -7083.70000000006,
          -7117.70000000006,
          -7113.400000000061,
          -7119.300000000061,
          -7138.500000000059,
          -7660.000000000059,
          -7684.400000000059,
          -7282.100000000059,
          -7289.200000000059,
          -7343.000000000059,
          -7414.6000000000595,
          -7479.000000000059,
          -8002.600000000058,
          -8068.700000000058,
          -7941.500000000057,
          -7914.100000000058,
          -7930.700000000058,
          -7919.900000000056,
          -7939.600000000057,
          -7974.5000000000555,
          -8057.200000000058,
          -8100.8000000000575,
          -8139.100000000058,
          -8109.900000000057,
          -8136.200000000056,
          -8239.000000000058,
          -8345.000000000056,
          -8539.300000000056,
          -8645.100000000055,
          -8528.800000000052,
          -8493.700000000052,
          -8423.100000000051,
          -8343.400000000052,
          -8054.000000000053,
          -8060.800000000053,
          -8036.900000000053,
          -8098.900000000053,
          -8081.500000000053,
          -8066.500000000054,
          -8095.300000000054,
          -8057.600000000052,
          -7962.200000000052,
          -7991.000000000051,
          -8075.400000000051,
          -7947.500000000053,
          -8022.900000000053,
          -7990.400000000052,
          -8038.100000000052,
          -7938.500000000053,
          -7939.400000000052,
          -8006.500000000053,
          -8038.2000000000535,
          -8310.600000000053,
          -8220.900000000054,
          -8276.100000000053,
          -8308.200000000052,
          -8262.600000000051,
          -8186.300000000051,
          -8172.300000000053,
          -8157.300000000054,
          -8339.500000000051,
          -8388.30000000005,
          -8351.300000000052,
          -8392.300000000052,
          -8406.700000000052,
          -8378.100000000053,
          -8460.600000000053,
          -8468.700000000053,
          -8583.500000000055,
          -8626.500000000055,
          -8718.300000000056,
          -8658.400000000056,
          -8468.200000000057,
          -8388.000000000056,
          -8294.600000000057,
          -7959.100000000057,
          -7937.600000000057,
          -7891.700000000058,
          -7870.900000000059,
          -7932.000000000059,
          -7930.000000000059,
          -7993.1000000000595,
          -7983.100000000057,
          -7719.200000000055,
          -7652.400000000056,
          -7570.600000000055,
          -7591.600000000055,
          -7577.400000000055,
          -7593.800000000056,
          -7585.400000000055,
          -7597.100000000055,
          -7586.0000000000555,
          -7711.100000000055,
          -7821.600000000055,
          -7866.000000000055,
          -7815.500000000055,
          -7724.800000000053,
          -7753.600000000054,
          -7755.400000000055,
          -7763.400000000054,
          -7728.000000000055,
          -7676.600000000054,
          -7691.400000000053,
          -7678.000000000052,
          -7793.200000000049,
          -7791.000000000049,
          -7806.80000000005,
          -7832.800000000054,
          -7759.600000000055,
          -7659.100000000056,
          -7708.700000000054,
          -7710.900000000054,
          -7503.7000000000535,
          -7310.600000000052,
          -7328.600000000052,
          -7327.200000000052,
          -7192.600000000051,
          -7216.600000000051,
          -7271.200000000053,
          -7281.2000000000535,
          -7299.600000000054,
          -7184.200000000054,
          -7049.200000000054,
          -7077.500000000055,
          -7080.100000000054,
          -7094.300000000054,
          -7114.000000000055,
          -7125.200000000054,
          -7083.300000000057,
          -7172.100000000057,
          -7187.900000000058,
          -7199.3000000000575,
          -7171.600000000058,
          -7165.300000000058,
          -7211.500000000057,
          -7221.100000000057,
          -7251.600000000057,
          -7285.500000000056,
          -7268.300000000056,
          -7367.0000000000555,
          -7420.5000000000555,
          -7520.800000000057,
          -7530.000000000057,
          -7548.700000000059,
          -7549.000000000057,
          -7421.200000000057,
          -7320.600000000056,
          -7316.800000000057,
          -7333.400000000057,
          -7383.100000000057,
          -7400.600000000059,
          -7440.3000000000575,
          -7447.300000000059,
          -7462.1000000000595,
          -7484.700000000058,
          -7479.700000000059,
          -7481.1000000000595,
          -7513.10000000006,
          -7524.30000000006,
          -7557.200000000062,
          -7554.60000000006,
          -7532.100000000061,
          -7589.500000000061,
          -7603.300000000061,
          -7491.200000000061,
          -7505.10000000006,
          -7561.900000000061,
          -7620.000000000059,
          -7585.90000000006,
          -7603.000000000058,
          -7609.100000000059,
          -7584.000000000058,
          -7592.000000000058,
          -7625.100000000059,
          -7648.600000000057,
          -7654.700000000057,
          -7661.700000000056,
          -7693.200000000056,
          -7681.700000000058,
          -7790.700000000061,
          -7766.000000000061,
          -7587.900000000063,
          -7470.200000000063,
          -7464.400000000062,
          -7541.7000000000635,
          -7594.400000000065,
          -7618.5000000000655,
          -7635.100000000065,
          -7657.800000000065,
          -7661.900000000067,
          -7584.500000000068,
          -7649.90000000007,
          -7696.40000000007,
          -7926.600000000071,
          -7961.000000000071,
          -7965.100000000071,
          -7989.300000000072,
          -8020.100000000071,
          -8025.20000000007,
          -8128.200000000071,
          -8102.4000000000715,
          -8146.60000000007,
          -8053.300000000071,
          -7950.900000000073,
          -7927.200000000074,
          -7831.400000000076,
          -7830.5000000000755,
          -7819.300000000076,
          -7764.700000000075,
          -7860.700000000076,
          -8005.100000000075,
          -7979.500000000076,
          -7987.500000000077,
          -8041.900000000079,
          -8020.900000000079,
          -8054.500000000082,
          -8030.700000000082,
          -8009.9000000000815,
          -8111.10000000008,
          -8109.9000000000815,
          -8116.700000000082,
          -8166.200000000084,
          -8236.700000000084,
          -8240.500000000082,
          -8312.300000000081,
          -8322.300000000081,
          -8238.600000000082,
          -8084.900000000082,
          -7989.200000000083,
          -7963.600000000082,
          -7863.300000000082,
          -7791.700000000081,
          -7719.500000000083,
          -7712.700000000083,
          -7709.600000000084,
          -7705.200000000084,
          -7709.600000000084,
          -7720.900000000085,
          -7690.5000000000855,
          -7702.200000000085,
          -7671.500000000086,
          -7678.900000000086,
          -7700.200000000087,
          -7703.000000000088,
          -7714.000000000087,
          -7834.200000000087,
          -7827.600000000087,
          -7846.100000000085,
          -7710.400000000084,
          -7742.600000000087,
          -7677.100000000089,
          -7657.90000000009,
          -7660.90000000009,
          -7657.400000000089,
          -7540.700000000087,
          -7365.300000000088,
          -7328.600000000089,
          -7312.100000000087,
          -7314.300000000087,
          -7284.700000000087,
          -7240.200000000088,
          -7241.8000000000875,
          -7289.30000000009,
          -7299.600000000091,
          -7276.6000000000895,
          -7279.00000000009,
          -7288.90000000009,
          -7322.90000000009,
          -7451.6000000000895,
          -7510.400000000087,
          -7614.100000000087,
          -7663.400000000087,
          -7337.200000000088,
          -7351.3000000000875,
          -7386.800000000087,
          -7404.200000000086,
          -7407.0000000000855,
          -7461.800000000085,
          -7451.700000000085,
          -7307.600000000084,
          -7338.000000000082,
          -7339.100000000081,
          -7319.500000000082,
          -7358.900000000081,
          -7053.000000000078,
          -6998.200000000079,
          -6975.500000000079,
          -6989.800000000079,
          -6976.500000000079,
          -6967.800000000078,
          -6966.500000000079,
          -6994.500000000079,
          -7056.300000000078,
          -7081.400000000079,
          -7089.70000000008,
          -7090.30000000008,
          -7084.400000000081,
          -7092.900000000081,
          -7037.100000000081,
          -7065.9000000000815,
          -7041.9000000000815,
          -7040.100000000084,
          -7102.500000000085,
          -7233.300000000082,
          -7344.500000000084,
          -7424.700000000084,
          -7439.300000000085,
          -7394.0000000000855,
          -7324.000000000085,
          -7350.600000000086,
          -7418.8000000000875,
          -7431.500000000088,
          -7480.100000000087,
          -7515.300000000087,
          -7534.100000000087,
          -7627.800000000088,
          -7698.600000000089,
          -7504.000000000088,
          -7442.000000000088,
          -7254.900000000091,
          -7245.100000000089,
          -7243.6000000000895,
          -7202.6000000000895,
          -7246.80000000009,
          -7285.40000000009,
          -7286.80000000009,
          -7305.20000000009,
          -7308.80000000009,
          -7343.1000000000895,
          -7361.000000000088,
          -7372.800000000089,
          -7392.000000000088,
          -7381.400000000088,
          -7377.8000000000875,
          -7254.500000000088,
          -7246.900000000089,
          -7160.400000000089,
          -7252.700000000088,
          -7242.900000000087,
          -7181.3000000000875,
          -7200.900000000087,
          -7041.5000000000855,
          -6779.900000000085,
          -6683.900000000087,
          -6539.000000000086,
          -6423.300000000086,
          -6447.700000000085,
          -6419.900000000083,
          -6420.500000000083,
          -6463.500000000083,
          -6482.000000000083,
          -6516.800000000082,
          -6533.600000000082,
          -6612.200000000082,
          -6640.100000000081,
          -6679.6000000000795,
          -6653.200000000081,
          -6676.100000000081,
          -6612.200000000083,
          -6623.400000000082,
          -6618.000000000084,
          -6606.100000000081,
          -6579.300000000081,
          -6569.000000000081,
          -6607.300000000081,
          -6532.700000000081,
          -6471.700000000081,
          -6430.600000000082,
          -6439.900000000083,
          -6431.800000000084,
          -6408.20000000008,
          -6441.800000000081,
          -6493.4000000000815,
          -6506.600000000082,
          -6428.200000000079,
          -6474.800000000079,
          -6484.300000000079,
          -6586.900000000079,
          -6656.6000000000795,
          -6598.800000000079,
          -6579.400000000078,
          -6681.600000000077,
          -6667.100000000077,
          -6600.900000000079,
          -6608.30000000008,
          -6676.40000000008,
          -6751.200000000078,
          -6839.100000000078,
          -6890.100000000077,
          -6750.100000000077,
          -6591.100000000077,
          -6757.700000000075,
          -6645.5000000000755,
          -6695.800000000077,
          -6812.000000000078,
          -6779.300000000078,
          -6782.90000000008,
          -6792.500000000079,
          -6730.500000000078,
          -6715.100000000079,
          -6796.700000000077,
          -6839.700000000077,
          -6844.100000000077,
          -6773.90000000008,
          -6780.300000000079,
          -6783.50000000008,
          -6809.500000000079,
          -6779.500000000076,
          -6774.700000000076,
          -6770.000000000076,
          -6818.2000000000735,
          -6832.700000000074,
          -6860.7000000000735,
          -6900.100000000075,
          -6834.400000000075,
          -6796.5000000000755,
          -6744.0000000000755,
          -6405.800000000075,
          -6428.200000000074,
          -6484.300000000072,
          -6500.800000000071,
          -6500.100000000071,
          -6577.900000000071,
          -6547.000000000071,
          -6415.700000000069,
          -6419.500000000067,
          -6316.900000000069,
          -6300.700000000066,
          -6320.000000000066,
          -6320.900000000067,
          -6332.200000000066,
          -6342.600000000066,
          -6335.600000000064,
          -6326.0000000000655,
          -6338.300000000065,
          -6338.300000000065,
          -6362.800000000063,
          -6370.800000000067,
          -6414.0000000000655,
          -6390.800000000067,
          -6362.600000000066,
          -6363.000000000066,
          -6348.600000000068,
          -6323.8000000000675,
          -6335.600000000069,
          -6360.800000000069,
          -6275.70000000007,
          -6277.80000000007,
          -6305.700000000072,
          -6349.800000000072,
          -6278.4000000000715,
          -6268.9000000000715,
          -6265.200000000073,
          -6089.400000000072,
          -5953.300000000073,
          -5856.900000000073,
          -5830.900000000072,
          -5840.9000000000715,
          -5869.100000000072,
          -5887.700000000072,
          -5904.4000000000715,
          -5816.700000000072,
          -5722.700000000072,
          -5634.500000000071,
          -5584.1000000000695,
          -5461.000000000068,
          -5338.700000000068,
          -5272.500000000069,
          -5180.900000000069,
          -5188.70000000007,
          -5199.30000000007,
          -5235.30000000007,
          -5256.4000000000715,
          -5252.600000000071,
          -5256.000000000071,
          -5260.50000000007,
          -5255.000000000071,
          -5268.900000000071,
          -5271.50000000007,
          -5416.900000000071,
          -5452.800000000071,
          -5221.800000000069,
          -4994.700000000072,
          -5118.40000000007,
          -4354.300000000068,
          -4312.300000000068,
          -4333.100000000067,
          -4359.600000000067,
          -4366.400000000067,
          -4387.700000000066,
          -4330.300000000066,
          -4323.200000000066,
          -4348.100000000066,
          -4360.200000000065,
          -4373.600000000064,
          -4375.700000000064,
          -4064.6000000000654,
          -3715.8000000000648,
          -3732.2000000000644,
          -3757.900000000064,
          -3750.7000000000635,
          -3773.1000000000636,
          -3908.300000000064,
          -3645.700000000066,
          -3738.9000000000683,
          -3836.1000000000677,
          -3926.0000000000673,
          -3931.200000000067,
          -3924.900000000066,
          -3895.900000000067,
          -3920.300000000067,
          -3949.300000000066,
          -3956.700000000065,
          -3965.700000000066,
          -4005.500000000065,
          -4022.2000000000658,
          -3910.4000000000638,
          -3927.6000000000645,
          -3937.8000000000648,
          -3873.600000000065,
          -3688.800000000062,
          -3722.300000000063,
          -3733.500000000063,
          -3761.8000000000634,
          -3784.800000000063,
          -3911.1000000000645,
          -3907.100000000062,
          -3956.1000000000613,
          -3984.000000000061,
          -4046.900000000061,
          -4044.0000000000596,
          -4067.400000000058,
          -4062.6000000000577,
          -4063.000000000058,
          -4028.600000000058,
          -3977.3000000000584,
          -3997.100000000057,
          -3638.0000000000573,
          -3651.700000000056,
          -3691.3000000000557,
          -3760.8000000000557,
          -3864.900000000056,
          -3911.600000000057,
          -3955.800000000058,
          -3484.2000000000558,
          -3046.700000000056,
          -2789.0000000000564,
          -2745.6000000000563,
          -2721.000000000055,
          -2732.2000000000544,
          -2671.2000000000544,
          -2611.800000000054,
          -2624.8000000000534,
          -2659.000000000053,
          -2578.800000000054,
          -2613.9000000000538,
          -2497.700000000056,
          -2608.9000000000574,
          -2619.800000000058,
          -2611.300000000058,
          -2543.700000000059,
          -2532.8000000000575,
          -2474.300000000056,
          -2479.200000000057,
          -2522.5000000000564,
          -2526.1000000000568,
          -2513.600000000057,
          -2508.700000000056,
          -2539.700000000055,
          -2547.3000000000548,
          -2570.6000000000518,
          -2571.20000000005,
          -2618.00000000005,
          -2633.60000000005,
          -2596.000000000049,
          -2206.00000000005,
          -1584.8000000000509,
          -1602.2000000000505,
          -1607.700000000049,
          -1738.2000000000476,
          -1867.9000000000478,
          -1874.4000000000483,
          -1708.2000000000498,
          -1665.1000000000495,
          -1538.600000000048,
          -1584.9000000000472,
          -1598.5000000000475,
          -1676.200000000049,
          -1498.400000000047,
          -1435.0000000000482,
          -1516.9000000000474,
          -1465.1000000000477,
          -1492.9000000000476,
          -1523.3000000000452,
          -1577.5000000000457,
          -1677.9000000000462,
          -1648.500000000049,
          -1606.300000000049,
          -1609.8000000000495,
          -1560.4000000000497,
          -1516.8000000000493,
          -1500.5000000000502,
          -1487.2000000000496,
          -1507.0000000000484,
          -1359.8000000000488,
          -1236.4000000000487,
          -1288.4000000000485,
          -1315.0000000000505,
          -1295.9000000000508,
          -1276.300000000051,
          -1296.1000000000508,
          -1213.5000000000482,
          -1169.0000000000507,
          -1186.0000000000468,
          -1165.500000000046,
          -1165.8000000000457,
          -1178.8000000000443,
          -1207.8000000000434,
          -1212.6000000000422,
          -1244.5000000000414,
          -1252.2000000000412,
          -1235.000000000043,
          -1251.5000000000437,
          -1256.3000000000438,
          -1319.0000000000437,
          -1360.0000000000412,
          -1401.0000000000412,
          -1383.4000000000392,
          -1408.2000000000396,
          -1442.7000000000392,
          -1515.3000000000384,
          -1537.1000000000372,
          -1531.6000000000379,
          -1600.5000000000396,
          -1628.5000000000423,
          -1632.8000000000416,
          -1646.9000000000406,
          -1661.3000000000395,
          -1695.9000000000385,
          -1704.7000000000385,
          -1705.9000000000385,
          -1734.500000000037,
          -1748.0000000000362,
          -1864.3000000000386,
          -2046.4000000000392,
          -1939.6000000000395,
          -1978.4000000000383,
          -1990.700000000039,
          -2013.9000000000367,
          -2052.7000000000357,
          -2064.4000000000347,
          -2108.8000000000357,
          -2120.200000000035,
          -2113.2000000000335,
          -2128.3000000000334,
          -2147.8000000000325,
          -2149.100000000032,
          -2148.700000000033,
          -2211.2000000000317,
          -2331.8000000000325,
          -2307.800000000035,
          -2334.1000000000345,
          -2099.500000000034,
          -2054.500000000035,
          -1786.0000000000323,
          -1762.5000000000327,
          -1458.700000000033,
          -1464.5000000000332,
          -1460.900000000034,
          -1493.100000000034,
          -1504.7000000000353,
          -1501.0000000000355,
          -1351.900000000036,
          -1351.4000000000372,
          -1278.1000000000367,
          -1306.9000000000367,
          -1020.7000000000357,
          -1037.7000000000362,
          -1092.3000000000363,
          -1081.3000000000363,
          -1084.2000000000353,
          -1049.0000000000357,
          -1011.2000000000345,
          -1022.4000000000345,
          -1032.4000000000347,
          -1065.2000000000357,
          -1073.2000000000364,
          -924.6000000000403,
          -932.7000000000401,
          -936.3000000000403,
          -937.1000000000411,
          -880.1000000000406,
          -917.7000000000382,
          -915.4000000000387,
          -854.2000000000386,
          -824.800000000038,
          -742.2000000000387,
          -780.3000000000385,
          -723.4000000000387,
          -837.5000000000391,
          -855.5000000000393,
          -858.3000000000385,
          -865.5000000000388,
          -835.9000000000392,
          -839.4000000000399,
          -883.6000000000406,
          -888.9000000000432,
          -899.1000000000436,
          -935.100000000044,
          -933.6000000000454,
          -983.6000000000438,
          -1096.0000000000443,
          -1193.200000000046,
          -1225.1000000000463,
          -1263.600000000046,
          -1271.8000000000443,
          -1265.1000000000436,
          -1273.1000000000427,
          -1360.7000000000426,
          -1412.800000000043,
          -1342.4000000000433,
          -1338.3000000000432,
          -1327.0000000000423,
          -1330.4000000000424,
          -1325.3000000000422,
          -1317.2000000000426,
          -1349.6000000000417,
          -1321.8000000000395,
          -1433.0000000000387,
          -1458.4000000000383,
          -1440.0000000000407,
          -1356.2000000000392,
          -1329.8000000000409,
          -1209.9000000000399,
          -1115.6000000000397,
          -1115.500000000039,
          -1086.8000000000397,
          -1091.6000000000402,
          -1109.3000000000407,
          -1129.5000000000405,
          -1186.9000000000374,
          -1173.8000000000359,
          -1215.4000000000353,
          -1262.9000000000356,
          -1315.000000000035,
          -1309.3000000000343,
          -1327.7000000000348,
          -1359.2000000000346,
          -1378.6000000000352,
          -1391.6000000000333,
          -1467.7000000000319,
          -1482.1000000000308,
          -1484.90000000003,
          -1416.4000000000299,
          -1403.90000000003,
          -1400.6000000000306,
          -1380.5000000000298,
          -1408.9000000000294,
          -1415.4000000000292,
          -1542.800000000029,
          -1645.10000000003,
          -1644.9000000000296,
          -1605.3000000000295,
          -1593.70000000003,
          -1543.1000000000317,
          -1422.500000000031,
          -1438.7000000000305,
          -1393.700000000031,
          -1415.9000000000322,
          -1595.300000000032,
          -1379.40000000003,
          -1332.9000000000294,
          -1277.3000000000293,
          -1258.0000000000293,
          -1244.9000000000276,
          -1345.4000000000271,
          -1407.6000000000272,
          -1428.8000000000263,
          -1443.4000000000265,
          -1485.600000000026,
          -1548.6000000000256,
          -1569.000000000026,
          -1564.800000000027,
          -1575.1000000000267,
          -1572.9000000000256,
          -1522.500000000024,
          -1446.300000000024,
          -1448.800000000025,
          -1442.8000000000234,
          -1471.3000000000225,
          -1382.3000000000184,
          -1441.3000000000188,
          -1433.0000000000189,
          -1436.9000000000178,
          -1439.6000000000167,
          -1406.0000000000164,
          -1375.9000000000158,
          -1377.9000000000156,
          -1390.4000000000153,
          -1447.9000000000146,
          -1422.4000000000142,
          -1464.3000000000168,
          -1204.0000000000155,
          -1175.9000000000149,
          -517.7000000000119,
          -586.5000000000133,
          -628.4000000000125,
          -719.3000000000106,
          -739.4000000000113,
          -763.7000000000118,
          -776.0000000000136,
          -792.9000000000148,
          -792.7000000000145,
          -827.1000000000133,
          -821.7000000000135,
          -815.6000000000131,
          -617.0000000000126,
          -36.10000000001435,
          -34.20000000001522,
          49.09999999998021,
          59.799999999980365,
          -65.60000000002154,
          -25.100000000021424,
          -0.6000000000207919,
          -23.300000000021356,
          79.89999999997971,
          138.69999999997856,
          139.29999999997804,
          112.59999999997854,
          199.89999999997758,
          221.39999999997792,
          194.7999999999788,
          194.9999999999801,
          170.39999999998105,
          173.49999999998138,
          172.6999999999828,
          170.99999999998275,
          156.0999999999832,
          117.3999999999839,
          39.69999999998274,
          30.49999999998144,
          32.99999999997792,
          25.69999999997895,
          18.799999999979264,
          5.999999999979785,
          9.999999999979345,
          -37.800000000019345,
          -53.20000000001898,
          -55.00000000001905,
          -101.00000000001971,
          -104.80000000002133,
          -121.40000000002128,
          -142.90000000002001,
          -173.70000000001974,
          -256.20000000002005,
          -317.9000000000196,
          -424.0000000000203,
          -447.90000000001777,
          -478.70000000001846,
          -481.00000000001796,
          -259.40000000002436,
          -268.8000000000252,
          -201.10000000002452,
          -181.6000000000252,
          -198.2000000000255,
          -219.0000000000252,
          -210.8000000000259,
          -230.60000000002572,
          -216.00000000002555,
          -199.800000000026,
          -205.20000000002585,
          -211.6000000000256,
          -170.8000000000281,
          -185.5000000000267,
          -183.20000000002716,
          -204.2000000000308,
          -200.60000000003296,
          -197.70000000003418,
          -192.400000000035,
          -179.0000000000349,
          -197.90000000003437,
          -188.30000000003477,
          -178.30000000003477,
          63.399999999963256,
          35.699999999963865,
          10.299999999964797,
          -7.800000000037784,
          -56.700000000038614,
          -113.00000000003885,
          -84.30000000003847,
          9.799999999961784,
          172.39999999996076,
          339.99999999996237,
          235.09999999996188,
          137.79999999996062,
          130.69999999996185,
          104.79999999996093,
          203.89999999995956,
          120.89999999996115,
          90.09999999996144,
          122.29999999996144,
          18.199999999960028,
          67.59999999995946,
          27.399999999960343,
          88.79999999996126,
          110.6999999999604,
          162.19999999996026,
          151.8999999999594,
          135.89999999996115,
          119.09999999996211,
          144.89999999996348,
          126.49999999996285,
          103.89999999996357,
          178.79999999996352,
          214.69999999996332,
          212.69999999996355,
          188.89999999996635,
          304.7999999999655,
          326.5999999999662,
          437.39999999996377,
          420.29999999996426,
          402.6999999999633,
          369.099999999963,
          361.79999999996403,
          443.09999999996273,
          476.8999999999621,
          327.2999999999625,
          311.5999999999629,
          202.69999999996372,
          20.899999999965104,
          -91.50000000003406,
          -136.70000000003265,
          -167.20000000003262,
          -205.40000000003195,
          -123.80000000003251,
          -128.3000000000309,
          -139.70000000002952,
          -147.10000000002915,
          -25.200000000029945,
          78.89999999997106,
          221.49999999997044,
          243.99999999997272,
          210.09999999997268,
          224.2999999999752,
          209.1999999999751,
          160.79999999997443,
          236.6999999999759,
          233.79999999997577,
          235.59999999997535,
          256.2999999999755,
          235.4999999999758,
          258.99999999997544,
          288.39999999997485,
          310.9999999999753,
          327.0999999999731,
          306.4999999999725,
          295.69999999997276,
          288.89999999997264,
          352.5999999999727,
          365.899999999971,
          323.8999999999703,
          317.7999999999703,
          321.2999999999699,
          298.4999999999693,
          276.0999999999675,
          217.99999999996624,
          277.39999999996513,
          281.99999999996567,
          191.19999999997026,
          162.79999999997125,
          115.09999999996961,
          61.89999999996748,
          59.79999999996815,
          16.199999999966735,
          -19.00000000003294,
          -17.80000000003547,
          -39.00000000003669,
          -12.9000000000389,
          -56.80000000004228,
          -67.00000000004134,
          -51.50000000004083,
          -67.30000000004108,
          -75.20000000004177,
          -76.40000000004186,
          -125.60000000004203,
          -169.10000000004172,
          -168.20000000004248,
          -173.20000000004305,
          -264.9000000000411,
          -282.30000000004173,
          -368.0000000000432,
          -379.2000000000433,
          -432.00000000004394,
          -466.7000000000448,
          -544.400000000049,
          -691.7000000000517,
          -728.0000000000516,
          -761.5000000000501,
          -843.0000000000523,
          -868.9000000000532,
          -704.8000000000561,
          -637.4000000000586,
          -652.3000000000585,
          -666.3000000000569,
          -740.2000000000596,
          -600.0000000000615,
          -646.4000000000614,
          -647.9000000000613,
          -648.8000000000627,
          -664.0000000000624,
          -707.9000000000615,
          -742.9000000000609,
          -668.9000000000623,
          -347.50000000006565,
          -396.6000000000651,
          -411.9000000000643,
          -435.9000000000639,
          -296.5000000000633,
          -317.10000000006505,
          -215.60000000006391,
          -216.6000000000638,
          -220.00000000006386,
          -237.800000000065,
          -283.70000000006524,
          -323.70000000006587,
          -356.8000000000651,
          -331.30000000006413,
          -294.90000000006654,
          -306.2000000000662,
          -367.40000000006415,
          -290.90000000006034,
          -184.00000000005946,
          -91.0000000000586,
          -2.4000000000577018,
          -13.2000000000574,
          -17.80000000005645,
          -27.2000000000587,
          -46.60000000005754,
          -88.10000000005621,
          -90.30000000005677,
          -111.30000000005668,
          -141.80000000005737,
          -241.80000000005603,
          -306.00000000005485,
          -321.50000000005485,
          -228.50000000005417,
          -178.50000000005411,
          -256.90000000005614,
          -343.0000000000538,
          -479.5000000000532,
          -424.100000000053,
          -403.9000000000528,
          -431.70000000005285,
          -442.8000000000523,
          -488.3000000000528,
          -513.3000000000526,
          -541.5000000000508,
          -551.8000000000499,
          -552.00000000005,
          -563.0000000000499,
          -564.8000000000484,
          -557.6000000000479,
          -573.2000000000489,
          -547.6000000000499,
          -318.80000000004907,
          -8.7000000000466,
          -15.600000000046284,
          -47.80000000004656,
          -57.70000000004703,
          158.0999999999531,
          148.59999999995304,
          224.7999999999531,
          288.1999999999532,
          253.69999999995366,
          289.7999999999555,
          245.99999999995723,
          178.99999999995907,
          160.19999999995915,
          157.5999999999599,
          146.29999999995914,
          143.59999999996032,
          133.29999999996056,
          131.2999999999608,
          177.5999999999599,
          141.39999999996476,
          139.19999999996367,
          78.29999999996696,
          -7.100000000033319,
          1.7999999999672518,
          -13.400000000032406,
          52.19999999996658,
          782.2999999999638,
          682.8999999999654,
          592.6999999999648,
          892.1999999999664,
          887.6999999999658,
          892.8999999999666,
          895.8999999999673,
          948.599999999966,
          885.5999999999663,
          910.0999999999676,
          895.4999999999675,
          866.1999999999676,
          802.1999999999658,
          902.1999999999659,
          1055.1999999999634,
          1139.3999999999621,
          1145.6999999999646,
          1124.399999999963,
          1116.9999999999623,
          1144.9999999999625,
          1124.799999999961,
          1153.6999999999593,
          1257.5999999999606,
          1252.9999999999604,
          1235.29999999996,
          1302.9999999999611,
          1289.7999999999613,
          1283.7999999999608,
          1241.1999999999616,
          1262.9999999999611,
          1240.6999999999616,
          1219.6999999999616,
          1209.699999999964,
          1216.2999999999638,
          1172.0999999999628,
          1194.3999999999623,
          1187.5999999999622,
          1190.0999999999608,
          1176.899999999961,
          1097.8999999999608,
          1071.2999999999608,
          1006.4999999999649,
          957.5999999999642,
          1037.8999999999662,
          971.099999999968,
          964.799999999965,
          947.0999999999653,
          929.7999999999653,
          890.4999999999665,
          890.8999999999658,
          871.9999999999661,
          861.3999999999638,
          848.7999999999635,
          863.3999999999636,
          854.499999999963,
          841.4999999999623,
          822.599999999963,
          836.9999999999641,
          787.0999999999666,
          774.9999999999661,
          758.699999999965,
          665.4999999999673,
          554.9999999999674,
          565.2999999999674,
          556.3999999999658,
          565.3999999999659,
          648.7999999999633,
          665.1999999999621,
          759.6999999999667,
          741.1999999999676,
          739.4999999999699,
          723.2999999999703,
          690.6999999999699,
          691.3999999999701,
          684.5999999999699,
          592.9999999999716,
          573.5999999999733,
          610.6999999999754,
          707.0999999999765,
          1049.599999999975,
          1044.199999999975,
          1126.7999999999743,
          1186.0999999999742,
          1171.4999999999752,
          1121.599999999977,
          1138.9999999999777,
          1124.3999999999776,
          1174.5999999999801,
          1148.099999999982,
          1097.799999999981,
          1113.2999999999815,
          1115.2999999999813,
          1117.6999999999814,
          1064.699999999981,
          1037.099999999981,
          1050.0999999999817,
          1041.6999999999814,
          1029.8999999999796,
          1046.399999999979,
          1028.8999999999787,
          946.4999999999791,
          885.199999999979,
          831.2999999999812,
          924.699999999981,
          889.4999999999835,
          1046.4999999999843,
          1115.5999999999854,
          1052.0999999999858,
          935.8999999999907,
          999.0999999999917,
          1070.0999999999929,
          1134.399999999991,
          1111.3999999999912,
          1136.1999999999916,
          1152.7999999999904,
          1125.499999999989,
          1112.8999999999899,
          1101.4999999999895,
          1066.6999999999884,
          975.7999999999864,
          896.399999999987,
          781.299999999987,
          745.199999999987,
          715.3999999999871,
          710.0999999999868,
          742.1999999999862,
          747.3999999999859,
          745.7999999999839,
          715.3999999999851,
          707.9999999999836,
          875.4999999999841,
          883.8999999999858,
          872.2999999999853,
          846.9999999999861,
          818.699999999985,
          793.6999999999866,
          785.2999999999871,
          780.4999999999869,
          742.2999999999843,
          672.6999999999844,
          680.2999999999853,
          604.3999999999871,
          589.9999999999872,
          553.499999999983,
          557.8999999999829,
          660.299999999983,
          655.0999999999809,
          698.6999999999798,
          661.3999999999808,
          682.4999999999802,
          651.49999999998,
          586.9999999999782,
          588.7999999999811,
          494.6999999999785,
          546.3999999999787,
          602.99999999998,
          733.7999999999807,
          783.7999999999797,
          811.1999999999805,
          1124.1999999999794,
          1374.1999999999807,
          1407.4999999999814,
          1480.999999999982,
          1486.1999999999828,
          1491.1999999999823,
          1487.2999999999822,
          1542.6999999999805,
          1679.9999999999814,
          1765.299999999983,
          1919.799999999983,
          1905.7999999999843,
          1891.7999999999836,
          1961.9999999999834,
          1979.5999999999833,
          1936.699999999983,
          1927.9999999999836,
          1883.1999999999812,
          1876.6999999999819,
          1860.49999999998,
          1864.8999999999808,
          1852.6999999999812,
          1849.9999999999825,
          1830.9999999999836,
          1852.7999999999843,
          1805.4999999999868,
          1660.8999999999892,
          1631.0999999999904,
          1601.4999999999907,
          1515.3999999999894,
          1406.1999999999869,
          1345.6999999999857,
          1146.2999999999868,
          1133.6999999999864,
          1083.0999999999874,
          1064.6999999999869,
          1038.0999999999858,
          998.4999999999861,
          1007.8999999999855,
          978.299999999987,
          946.1999999999872,
          944.5999999999879,
          941.7999999999872,
          895.1999999999861,
          864.7999999999868,
          740.9999999999861,
          648.9999999999858,
          616.499999999986,
          444.9999999999852,
          333.39999999998463,
          318.6999999999838,
          224.69999999998527
         ]
        }
       ],
       "layout": {
        "font": {
         "color": "#e1e1e1",
         "size": 10
        },
        "height": 400,
        "margin": {
         "b": 10,
         "l": 15,
         "r": 15
        },
        "paper_bgcolor": "#1e1e1e",
        "plot_bgcolor": "#1e1e1e",
        "template": {
         "data": {
          "bar": [
           {
            "error_x": {
             "color": "#2a3f5f"
            },
            "error_y": {
             "color": "#2a3f5f"
            },
            "marker": {
             "line": {
              "color": "#E5ECF6",
              "width": 0.5
             },
             "pattern": {
              "fillmode": "overlay",
              "size": 10,
              "solidity": 0.2
             }
            },
            "type": "bar"
           }
          ],
          "barpolar": [
           {
            "marker": {
             "line": {
              "color": "#E5ECF6",
              "width": 0.5
             },
             "pattern": {
              "fillmode": "overlay",
              "size": 10,
              "solidity": 0.2
             }
            },
            "type": "barpolar"
           }
          ],
          "carpet": [
           {
            "aaxis": {
             "endlinecolor": "#2a3f5f",
             "gridcolor": "white",
             "linecolor": "white",
             "minorgridcolor": "white",
             "startlinecolor": "#2a3f5f"
            },
            "baxis": {
             "endlinecolor": "#2a3f5f",
             "gridcolor": "white",
             "linecolor": "white",
             "minorgridcolor": "white",
             "startlinecolor": "#2a3f5f"
            },
            "type": "carpet"
           }
          ],
          "choropleth": [
           {
            "colorbar": {
             "outlinewidth": 0,
             "ticks": ""
            },
            "type": "choropleth"
           }
          ],
          "contour": [
           {
            "colorbar": {
             "outlinewidth": 0,
             "ticks": ""
            },
            "colorscale": [
             [
              0,
              "#0d0887"
             ],
             [
              0.1111111111111111,
              "#46039f"
             ],
             [
              0.2222222222222222,
              "#7201a8"
             ],
             [
              0.3333333333333333,
              "#9c179e"
             ],
             [
              0.4444444444444444,
              "#bd3786"
             ],
             [
              0.5555555555555556,
              "#d8576b"
             ],
             [
              0.6666666666666666,
              "#ed7953"
             ],
             [
              0.7777777777777778,
              "#fb9f3a"
             ],
             [
              0.8888888888888888,
              "#fdca26"
             ],
             [
              1,
              "#f0f921"
             ]
            ],
            "type": "contour"
           }
          ],
          "contourcarpet": [
           {
            "colorbar": {
             "outlinewidth": 0,
             "ticks": ""
            },
            "type": "contourcarpet"
           }
          ],
          "heatmap": [
           {
            "colorbar": {
             "outlinewidth": 0,
             "ticks": ""
            },
            "colorscale": [
             [
              0,
              "#0d0887"
             ],
             [
              0.1111111111111111,
              "#46039f"
             ],
             [
              0.2222222222222222,
              "#7201a8"
             ],
             [
              0.3333333333333333,
              "#9c179e"
             ],
             [
              0.4444444444444444,
              "#bd3786"
             ],
             [
              0.5555555555555556,
              "#d8576b"
             ],
             [
              0.6666666666666666,
              "#ed7953"
             ],
             [
              0.7777777777777778,
              "#fb9f3a"
             ],
             [
              0.8888888888888888,
              "#fdca26"
             ],
             [
              1,
              "#f0f921"
             ]
            ],
            "type": "heatmap"
           }
          ],
          "heatmapgl": [
           {
            "colorbar": {
             "outlinewidth": 0,
             "ticks": ""
            },
            "colorscale": [
             [
              0,
              "#0d0887"
             ],
             [
              0.1111111111111111,
              "#46039f"
             ],
             [
              0.2222222222222222,
              "#7201a8"
             ],
             [
              0.3333333333333333,
              "#9c179e"
             ],
             [
              0.4444444444444444,
              "#bd3786"
             ],
             [
              0.5555555555555556,
              "#d8576b"
             ],
             [
              0.6666666666666666,
              "#ed7953"
             ],
             [
              0.7777777777777778,
              "#fb9f3a"
             ],
             [
              0.8888888888888888,
              "#fdca26"
             ],
             [
              1,
              "#f0f921"
             ]
            ],
            "type": "heatmapgl"
           }
          ],
          "histogram": [
           {
            "marker": {
             "pattern": {
              "fillmode": "overlay",
              "size": 10,
              "solidity": 0.2
             }
            },
            "type": "histogram"
           }
          ],
          "histogram2d": [
           {
            "colorbar": {
             "outlinewidth": 0,
             "ticks": ""
            },
            "colorscale": [
             [
              0,
              "#0d0887"
             ],
             [
              0.1111111111111111,
              "#46039f"
             ],
             [
              0.2222222222222222,
              "#7201a8"
             ],
             [
              0.3333333333333333,
              "#9c179e"
             ],
             [
              0.4444444444444444,
              "#bd3786"
             ],
             [
              0.5555555555555556,
              "#d8576b"
             ],
             [
              0.6666666666666666,
              "#ed7953"
             ],
             [
              0.7777777777777778,
              "#fb9f3a"
             ],
             [
              0.8888888888888888,
              "#fdca26"
             ],
             [
              1,
              "#f0f921"
             ]
            ],
            "type": "histogram2d"
           }
          ],
          "histogram2dcontour": [
           {
            "colorbar": {
             "outlinewidth": 0,
             "ticks": ""
            },
            "colorscale": [
             [
              0,
              "#0d0887"
             ],
             [
              0.1111111111111111,
              "#46039f"
             ],
             [
              0.2222222222222222,
              "#7201a8"
             ],
             [
              0.3333333333333333,
              "#9c179e"
             ],
             [
              0.4444444444444444,
              "#bd3786"
             ],
             [
              0.5555555555555556,
              "#d8576b"
             ],
             [
              0.6666666666666666,
              "#ed7953"
             ],
             [
              0.7777777777777778,
              "#fb9f3a"
             ],
             [
              0.8888888888888888,
              "#fdca26"
             ],
             [
              1,
              "#f0f921"
             ]
            ],
            "type": "histogram2dcontour"
           }
          ],
          "mesh3d": [
           {
            "colorbar": {
             "outlinewidth": 0,
             "ticks": ""
            },
            "type": "mesh3d"
           }
          ],
          "parcoords": [
           {
            "line": {
             "colorbar": {
              "outlinewidth": 0,
              "ticks": ""
             }
            },
            "type": "parcoords"
           }
          ],
          "pie": [
           {
            "automargin": true,
            "type": "pie"
           }
          ],
          "scatter": [
           {
            "fillpattern": {
             "fillmode": "overlay",
             "size": 10,
             "solidity": 0.2
            },
            "type": "scatter"
           }
          ],
          "scatter3d": [
           {
            "line": {
             "colorbar": {
              "outlinewidth": 0,
              "ticks": ""
             }
            },
            "marker": {
             "colorbar": {
              "outlinewidth": 0,
              "ticks": ""
             }
            },
            "type": "scatter3d"
           }
          ],
          "scattercarpet": [
           {
            "marker": {
             "colorbar": {
              "outlinewidth": 0,
              "ticks": ""
             }
            },
            "type": "scattercarpet"
           }
          ],
          "scattergeo": [
           {
            "marker": {
             "colorbar": {
              "outlinewidth": 0,
              "ticks": ""
             }
            },
            "type": "scattergeo"
           }
          ],
          "scattergl": [
           {
            "marker": {
             "colorbar": {
              "outlinewidth": 0,
              "ticks": ""
             }
            },
            "type": "scattergl"
           }
          ],
          "scattermapbox": [
           {
            "marker": {
             "colorbar": {
              "outlinewidth": 0,
              "ticks": ""
             }
            },
            "type": "scattermapbox"
           }
          ],
          "scatterpolar": [
           {
            "marker": {
             "colorbar": {
              "outlinewidth": 0,
              "ticks": ""
             }
            },
            "type": "scatterpolar"
           }
          ],
          "scatterpolargl": [
           {
            "marker": {
             "colorbar": {
              "outlinewidth": 0,
              "ticks": ""
             }
            },
            "type": "scatterpolargl"
           }
          ],
          "scatterternary": [
           {
            "marker": {
             "colorbar": {
              "outlinewidth": 0,
              "ticks": ""
             }
            },
            "type": "scatterternary"
           }
          ],
          "surface": [
           {
            "colorbar": {
             "outlinewidth": 0,
             "ticks": ""
            },
            "colorscale": [
             [
              0,
              "#0d0887"
             ],
             [
              0.1111111111111111,
              "#46039f"
             ],
             [
              0.2222222222222222,
              "#7201a8"
             ],
             [
              0.3333333333333333,
              "#9c179e"
             ],
             [
              0.4444444444444444,
              "#bd3786"
             ],
             [
              0.5555555555555556,
              "#d8576b"
             ],
             [
              0.6666666666666666,
              "#ed7953"
             ],
             [
              0.7777777777777778,
              "#fb9f3a"
             ],
             [
              0.8888888888888888,
              "#fdca26"
             ],
             [
              1,
              "#f0f921"
             ]
            ],
            "type": "surface"
           }
          ],
          "table": [
           {
            "cells": {
             "fill": {
              "color": "#EBF0F8"
             },
             "line": {
              "color": "white"
             }
            },
            "header": {
             "fill": {
              "color": "#C8D4E3"
             },
             "line": {
              "color": "white"
             }
            },
            "type": "table"
           }
          ]
         },
         "layout": {
          "annotationdefaults": {
           "arrowcolor": "#2a3f5f",
           "arrowhead": 0,
           "arrowwidth": 1
          },
          "autotypenumbers": "strict",
          "coloraxis": {
           "colorbar": {
            "outlinewidth": 0,
            "ticks": ""
           }
          },
          "colorscale": {
           "diverging": [
            [
             0,
             "#8e0152"
            ],
            [
             0.1,
             "#c51b7d"
            ],
            [
             0.2,
             "#de77ae"
            ],
            [
             0.3,
             "#f1b6da"
            ],
            [
             0.4,
             "#fde0ef"
            ],
            [
             0.5,
             "#f7f7f7"
            ],
            [
             0.6,
             "#e6f5d0"
            ],
            [
             0.7,
             "#b8e186"
            ],
            [
             0.8,
             "#7fbc41"
            ],
            [
             0.9,
             "#4d9221"
            ],
            [
             1,
             "#276419"
            ]
           ],
           "sequential": [
            [
             0,
             "#0d0887"
            ],
            [
             0.1111111111111111,
             "#46039f"
            ],
            [
             0.2222222222222222,
             "#7201a8"
            ],
            [
             0.3333333333333333,
             "#9c179e"
            ],
            [
             0.4444444444444444,
             "#bd3786"
            ],
            [
             0.5555555555555556,
             "#d8576b"
            ],
            [
             0.6666666666666666,
             "#ed7953"
            ],
            [
             0.7777777777777778,
             "#fb9f3a"
            ],
            [
             0.8888888888888888,
             "#fdca26"
            ],
            [
             1,
             "#f0f921"
            ]
           ],
           "sequentialminus": [
            [
             0,
             "#0d0887"
            ],
            [
             0.1111111111111111,
             "#46039f"
            ],
            [
             0.2222222222222222,
             "#7201a8"
            ],
            [
             0.3333333333333333,
             "#9c179e"
            ],
            [
             0.4444444444444444,
             "#bd3786"
            ],
            [
             0.5555555555555556,
             "#d8576b"
            ],
            [
             0.6666666666666666,
             "#ed7953"
            ],
            [
             0.7777777777777778,
             "#fb9f3a"
            ],
            [
             0.8888888888888888,
             "#fdca26"
            ],
            [
             1,
             "#f0f921"
            ]
           ]
          },
          "colorway": [
           "#636efa",
           "#EF553B",
           "#00cc96",
           "#ab63fa",
           "#FFA15A",
           "#19d3f3",
           "#FF6692",
           "#B6E880",
           "#FF97FF",
           "#FECB52"
          ],
          "font": {
           "color": "#2a3f5f"
          },
          "geo": {
           "bgcolor": "white",
           "lakecolor": "white",
           "landcolor": "#E5ECF6",
           "showlakes": true,
           "showland": true,
           "subunitcolor": "white"
          },
          "hoverlabel": {
           "align": "left"
          },
          "hovermode": "closest",
          "mapbox": {
           "style": "light"
          },
          "paper_bgcolor": "white",
          "plot_bgcolor": "#E5ECF6",
          "polar": {
           "angularaxis": {
            "gridcolor": "white",
            "linecolor": "white",
            "ticks": ""
           },
           "bgcolor": "#E5ECF6",
           "radialaxis": {
            "gridcolor": "white",
            "linecolor": "white",
            "ticks": ""
           }
          },
          "scene": {
           "xaxis": {
            "backgroundcolor": "#E5ECF6",
            "gridcolor": "white",
            "gridwidth": 2,
            "linecolor": "white",
            "showbackground": true,
            "ticks": "",
            "zerolinecolor": "white"
           },
           "yaxis": {
            "backgroundcolor": "#E5ECF6",
            "gridcolor": "white",
            "gridwidth": 2,
            "linecolor": "white",
            "showbackground": true,
            "ticks": "",
            "zerolinecolor": "white"
           },
           "zaxis": {
            "backgroundcolor": "#E5ECF6",
            "gridcolor": "white",
            "gridwidth": 2,
            "linecolor": "white",
            "showbackground": true,
            "ticks": "",
            "zerolinecolor": "white"
           }
          },
          "shapedefaults": {
           "line": {
            "color": "#2a3f5f"
           }
          },
          "ternary": {
           "aaxis": {
            "gridcolor": "white",
            "linecolor": "white",
            "ticks": ""
           },
           "baxis": {
            "gridcolor": "white",
            "linecolor": "white",
            "ticks": ""
           },
           "bgcolor": "#E5ECF6",
           "caxis": {
            "gridcolor": "white",
            "linecolor": "white",
            "ticks": ""
           }
          },
          "title": {
           "x": 0.05
          },
          "xaxis": {
           "automargin": true,
           "gridcolor": "white",
           "linecolor": "white",
           "ticks": "",
           "title": {
            "standoff": 15
           },
           "zerolinecolor": "white",
           "zerolinewidth": 2
          },
          "yaxis": {
           "automargin": true,
           "gridcolor": "white",
           "linecolor": "white",
           "ticks": "",
           "title": {
            "standoff": 15
           },
           "zerolinecolor": "white",
           "zerolinewidth": 2
          }
         }
        },
        "title": {
         "text": "MA_8_16"
        },
        "width": 1000,
        "xaxis": {
         "linecolor": "#3a4a54",
         "linewidth": 1,
         "showgrid": false,
         "zeroline": false
        },
        "yaxis": {
         "linecolor": "#3a4a54",
         "linewidth": 1,
         "showgrid": false,
         "zeroline": false
        }
       }
      }
     },
     "metadata": {},
     "output_type": "display_data"
    },
    {
     "data": {
      "application/vnd.plotly.v1+json": {
       "config": {
        "plotlyServerURL": "https://plot.ly"
       },
       "data": [
        {
         "line": {
          "color": "#3d825f",
          "shape": "spline",
          "width": 2
         },
         "mode": "lines",
         "name": "MA_4_32",
         "type": "scatter",
         "x": [
          "2022-11-10T13:00:00+00:00",
          "2022-11-10T14:00:00+00:00",
          "2022-11-10T15:00:00+00:00",
          "2022-11-11T05:00:00+00:00",
          "2022-11-11T09:00:00+00:00",
          "2022-11-11T11:00:00+00:00",
          "2022-11-11T12:00:00+00:00",
          "2022-11-11T13:00:00+00:00",
          "2022-11-11T15:00:00+00:00",
          "2022-11-11T16:00:00+00:00",
          "2022-11-14T00:00:00+00:00",
          "2022-11-14T03:00:00+00:00",
          "2022-11-14T04:00:00+00:00",
          "2022-11-14T08:00:00+00:00",
          "2022-11-14T09:00:00+00:00",
          "2022-11-14T10:00:00+00:00",
          "2022-11-14T11:00:00+00:00",
          "2022-11-14T12:00:00+00:00",
          "2022-11-14T13:00:00+00:00",
          "2022-11-14T14:00:00+00:00",
          "2022-11-14T15:00:00+00:00",
          "2022-11-14T16:00:00+00:00",
          "2022-11-14T20:00:00+00:00",
          "2022-11-14T21:00:00+00:00",
          "2022-11-14T23:00:00+00:00",
          "2022-11-15T00:00:00+00:00",
          "2022-11-15T01:00:00+00:00",
          "2022-11-15T02:00:00+00:00",
          "2022-11-15T03:00:00+00:00",
          "2022-11-15T05:00:00+00:00",
          "2022-11-15T06:00:00+00:00",
          "2022-11-15T07:00:00+00:00",
          "2022-11-15T08:00:00+00:00",
          "2022-11-15T09:00:00+00:00",
          "2022-11-15T11:00:00+00:00",
          "2022-11-15T12:00:00+00:00",
          "2022-11-15T13:00:00+00:00",
          "2022-11-15T14:00:00+00:00",
          "2022-11-15T16:00:00+00:00",
          "2022-11-15T17:00:00+00:00",
          "2022-11-15T18:00:00+00:00",
          "2022-11-15T19:00:00+00:00",
          "2022-11-15T20:00:00+00:00",
          "2022-11-15T21:00:00+00:00",
          "2022-11-15T22:00:00+00:00",
          "2022-11-16T02:00:00+00:00",
          "2022-11-16T03:00:00+00:00",
          "2022-11-16T04:00:00+00:00",
          "2022-11-16T05:00:00+00:00",
          "2022-11-16T06:00:00+00:00",
          "2022-11-16T07:00:00+00:00",
          "2022-11-16T08:00:00+00:00",
          "2022-11-16T09:00:00+00:00",
          "2022-11-16T10:00:00+00:00",
          "2022-11-16T11:00:00+00:00",
          "2022-11-16T12:00:00+00:00",
          "2022-11-16T13:00:00+00:00",
          "2022-11-16T14:00:00+00:00",
          "2022-11-16T15:00:00+00:00",
          "2022-11-16T16:00:00+00:00",
          "2022-11-16T17:00:00+00:00",
          "2022-11-16T18:00:00+00:00",
          "2022-11-16T22:00:00+00:00",
          "2022-11-17T02:00:00+00:00",
          "2022-11-17T03:00:00+00:00",
          "2022-11-17T04:00:00+00:00",
          "2022-11-17T05:00:00+00:00",
          "2022-11-17T06:00:00+00:00",
          "2022-11-17T08:00:00+00:00",
          "2022-11-17T10:00:00+00:00",
          "2022-11-17T11:00:00+00:00",
          "2022-11-17T12:00:00+00:00",
          "2022-11-17T13:00:00+00:00",
          "2022-11-17T14:00:00+00:00",
          "2022-11-17T16:00:00+00:00",
          "2022-11-17T17:00:00+00:00",
          "2022-11-17T18:00:00+00:00",
          "2022-11-17T19:00:00+00:00",
          "2022-11-17T21:00:00+00:00",
          "2022-11-17T23:00:00+00:00",
          "2022-11-18T00:00:00+00:00",
          "2022-11-18T01:00:00+00:00",
          "2022-11-18T02:00:00+00:00",
          "2022-11-18T03:00:00+00:00",
          "2022-11-18T04:00:00+00:00",
          "2022-11-18T09:00:00+00:00",
          "2022-11-18T11:00:00+00:00",
          "2022-11-18T12:00:00+00:00",
          "2022-11-18T14:00:00+00:00",
          "2022-11-18T15:00:00+00:00",
          "2022-11-18T17:00:00+00:00",
          "2022-11-18T18:00:00+00:00",
          "2022-11-18T20:00:00+00:00",
          "2022-11-20T22:00:00+00:00",
          "2022-11-20T23:00:00+00:00",
          "2022-11-21T00:00:00+00:00",
          "2022-11-21T01:00:00+00:00",
          "2022-11-21T02:00:00+00:00",
          "2022-11-21T03:00:00+00:00",
          "2022-11-21T05:00:00+00:00",
          "2022-11-21T06:00:00+00:00",
          "2022-11-21T08:00:00+00:00",
          "2022-11-21T09:00:00+00:00",
          "2022-11-21T10:00:00+00:00",
          "2022-11-21T11:00:00+00:00",
          "2022-11-21T15:00:00+00:00",
          "2022-11-21T16:00:00+00:00",
          "2022-11-21T19:00:00+00:00",
          "2022-11-21T20:00:00+00:00",
          "2022-11-21T21:00:00+00:00",
          "2022-11-22T01:00:00+00:00",
          "2022-11-22T02:00:00+00:00",
          "2022-11-22T03:00:00+00:00",
          "2022-11-22T04:00:00+00:00",
          "2022-11-22T08:00:00+00:00",
          "2022-11-22T10:00:00+00:00",
          "2022-11-22T11:00:00+00:00",
          "2022-11-22T12:00:00+00:00",
          "2022-11-22T13:00:00+00:00",
          "2022-11-22T15:00:00+00:00",
          "2022-11-22T18:00:00+00:00",
          "2022-11-22T20:00:00+00:00",
          "2022-11-22T21:00:00+00:00",
          "2022-11-22T22:00:00+00:00",
          "2022-11-23T00:00:00+00:00",
          "2022-11-23T01:00:00+00:00",
          "2022-11-23T02:00:00+00:00",
          "2022-11-23T03:00:00+00:00",
          "2022-11-23T05:00:00+00:00",
          "2022-11-23T10:00:00+00:00",
          "2022-11-23T11:00:00+00:00",
          "2022-11-23T12:00:00+00:00",
          "2022-11-23T13:00:00+00:00",
          "2022-11-23T14:00:00+00:00",
          "2022-11-23T15:00:00+00:00",
          "2022-11-23T16:00:00+00:00",
          "2022-11-23T18:00:00+00:00",
          "2022-11-23T20:00:00+00:00",
          "2022-11-23T21:00:00+00:00",
          "2022-11-23T22:00:00+00:00",
          "2022-11-24T00:00:00+00:00",
          "2022-11-24T01:00:00+00:00",
          "2022-11-24T05:00:00+00:00",
          "2022-11-24T11:00:00+00:00",
          "2022-11-24T16:00:00+00:00",
          "2022-11-24T18:00:00+00:00",
          "2022-11-24T23:00:00+00:00",
          "2022-11-25T00:00:00+00:00",
          "2022-11-25T01:00:00+00:00",
          "2022-11-25T02:00:00+00:00",
          "2022-11-25T03:00:00+00:00",
          "2022-11-25T04:00:00+00:00",
          "2022-11-25T06:00:00+00:00",
          "2022-11-25T07:00:00+00:00",
          "2022-11-25T08:00:00+00:00",
          "2022-11-25T09:00:00+00:00",
          "2022-11-25T10:00:00+00:00",
          "2022-11-25T12:00:00+00:00",
          "2022-11-25T14:00:00+00:00",
          "2022-11-25T15:00:00+00:00",
          "2022-11-25T16:00:00+00:00",
          "2022-11-25T17:00:00+00:00",
          "2022-11-25T18:00:00+00:00",
          "2022-11-25T19:00:00+00:00",
          "2022-11-25T20:00:00+00:00",
          "2022-11-25T21:00:00+00:00",
          "2022-11-27T22:00:00+00:00",
          "2022-11-27T23:00:00+00:00",
          "2022-11-28T00:00:00+00:00",
          "2022-11-28T01:00:00+00:00",
          "2022-11-28T02:00:00+00:00",
          "2022-11-28T03:00:00+00:00",
          "2022-11-28T08:00:00+00:00",
          "2022-11-28T09:00:00+00:00",
          "2022-11-28T10:00:00+00:00",
          "2022-11-28T12:00:00+00:00",
          "2022-11-28T14:00:00+00:00",
          "2022-11-28T16:00:00+00:00",
          "2022-11-28T17:00:00+00:00",
          "2022-11-28T18:00:00+00:00",
          "2022-11-28T19:00:00+00:00",
          "2022-11-28T22:00:00+00:00",
          "2022-11-29T01:00:00+00:00",
          "2022-11-29T02:00:00+00:00",
          "2022-11-29T04:00:00+00:00",
          "2022-11-29T05:00:00+00:00",
          "2022-11-29T06:00:00+00:00",
          "2022-11-29T08:00:00+00:00",
          "2022-11-29T09:00:00+00:00",
          "2022-11-29T12:00:00+00:00",
          "2022-11-29T13:00:00+00:00",
          "2022-11-29T15:00:00+00:00",
          "2022-11-29T17:00:00+00:00",
          "2022-11-29T18:00:00+00:00",
          "2022-11-29T20:00:00+00:00",
          "2022-11-29T21:00:00+00:00",
          "2022-11-30T00:00:00+00:00",
          "2022-11-30T01:00:00+00:00",
          "2022-11-30T03:00:00+00:00",
          "2022-11-30T05:00:00+00:00",
          "2022-11-30T06:00:00+00:00",
          "2022-11-30T07:00:00+00:00",
          "2022-11-30T08:00:00+00:00",
          "2022-11-30T09:00:00+00:00",
          "2022-11-30T10:00:00+00:00",
          "2022-11-30T11:00:00+00:00",
          "2022-11-30T12:00:00+00:00",
          "2022-11-30T13:00:00+00:00",
          "2022-11-30T14:00:00+00:00",
          "2022-11-30T15:00:00+00:00",
          "2022-11-30T16:00:00+00:00",
          "2022-11-30T17:00:00+00:00",
          "2022-11-30T18:00:00+00:00",
          "2022-11-30T19:00:00+00:00",
          "2022-11-30T20:00:00+00:00",
          "2022-11-30T22:00:00+00:00",
          "2022-12-01T00:00:00+00:00",
          "2022-12-01T01:00:00+00:00",
          "2022-12-01T02:00:00+00:00",
          "2022-12-01T03:00:00+00:00",
          "2022-12-01T04:00:00+00:00",
          "2022-12-01T06:00:00+00:00",
          "2022-12-01T09:00:00+00:00",
          "2022-12-01T11:00:00+00:00",
          "2022-12-01T13:00:00+00:00",
          "2022-12-01T14:00:00+00:00",
          "2022-12-01T17:00:00+00:00",
          "2022-12-01T19:00:00+00:00",
          "2022-12-01T21:00:00+00:00",
          "2022-12-02T00:00:00+00:00",
          "2022-12-02T03:00:00+00:00",
          "2022-12-02T06:00:00+00:00",
          "2022-12-02T07:00:00+00:00",
          "2022-12-02T08:00:00+00:00",
          "2022-12-02T09:00:00+00:00",
          "2022-12-02T11:00:00+00:00",
          "2022-12-02T13:00:00+00:00",
          "2022-12-02T14:00:00+00:00",
          "2022-12-02T15:00:00+00:00",
          "2022-12-02T16:00:00+00:00",
          "2022-12-02T17:00:00+00:00",
          "2022-12-02T19:00:00+00:00",
          "2022-12-02T20:00:00+00:00",
          "2022-12-04T23:00:00+00:00",
          "2022-12-05T00:00:00+00:00",
          "2022-12-05T01:00:00+00:00",
          "2022-12-05T02:00:00+00:00",
          "2022-12-05T04:00:00+00:00",
          "2022-12-05T06:00:00+00:00",
          "2022-12-05T08:00:00+00:00",
          "2022-12-05T09:00:00+00:00",
          "2022-12-05T10:00:00+00:00",
          "2022-12-05T12:00:00+00:00",
          "2022-12-05T13:00:00+00:00",
          "2022-12-05T14:00:00+00:00",
          "2022-12-05T15:00:00+00:00",
          "2022-12-05T16:00:00+00:00",
          "2022-12-05T17:00:00+00:00",
          "2022-12-05T18:00:00+00:00",
          "2022-12-05T23:00:00+00:00",
          "2022-12-06T02:00:00+00:00",
          "2022-12-06T06:00:00+00:00",
          "2022-12-06T09:00:00+00:00",
          "2022-12-06T10:00:00+00:00",
          "2022-12-06T11:00:00+00:00",
          "2022-12-06T13:00:00+00:00",
          "2022-12-06T14:00:00+00:00",
          "2022-12-06T15:00:00+00:00",
          "2022-12-06T16:00:00+00:00",
          "2022-12-06T18:00:00+00:00",
          "2022-12-06T19:00:00+00:00",
          "2022-12-06T22:00:00+00:00",
          "2022-12-06T23:00:00+00:00",
          "2022-12-07T00:00:00+00:00",
          "2022-12-07T02:00:00+00:00",
          "2022-12-07T03:00:00+00:00",
          "2022-12-07T04:00:00+00:00",
          "2022-12-07T06:00:00+00:00",
          "2022-12-07T07:00:00+00:00",
          "2022-12-07T08:00:00+00:00",
          "2022-12-07T09:00:00+00:00",
          "2022-12-07T10:00:00+00:00",
          "2022-12-07T11:00:00+00:00",
          "2022-12-07T12:00:00+00:00",
          "2022-12-07T13:00:00+00:00",
          "2022-12-07T14:00:00+00:00",
          "2022-12-07T15:00:00+00:00",
          "2022-12-07T16:00:00+00:00",
          "2022-12-07T17:00:00+00:00",
          "2022-12-07T18:00:00+00:00",
          "2022-12-07T19:00:00+00:00",
          "2022-12-07T20:00:00+00:00",
          "2022-12-07T21:00:00+00:00",
          "2022-12-07T23:00:00+00:00",
          "2022-12-08T00:00:00+00:00",
          "2022-12-08T01:00:00+00:00",
          "2022-12-08T02:00:00+00:00",
          "2022-12-08T03:00:00+00:00",
          "2022-12-08T04:00:00+00:00",
          "2022-12-08T05:00:00+00:00",
          "2022-12-08T06:00:00+00:00",
          "2022-12-08T07:00:00+00:00",
          "2022-12-08T08:00:00+00:00",
          "2022-12-08T09:00:00+00:00",
          "2022-12-08T10:00:00+00:00",
          "2022-12-08T11:00:00+00:00",
          "2022-12-08T12:00:00+00:00",
          "2022-12-08T13:00:00+00:00",
          "2022-12-08T14:00:00+00:00",
          "2022-12-08T15:00:00+00:00",
          "2022-12-08T16:00:00+00:00",
          "2022-12-08T17:00:00+00:00",
          "2022-12-08T21:00:00+00:00",
          "2022-12-08T22:00:00+00:00",
          "2022-12-09T00:00:00+00:00",
          "2022-12-09T01:00:00+00:00",
          "2022-12-09T02:00:00+00:00",
          "2022-12-09T03:00:00+00:00",
          "2022-12-09T04:00:00+00:00",
          "2022-12-09T05:00:00+00:00",
          "2022-12-09T07:00:00+00:00",
          "2022-12-09T08:00:00+00:00",
          "2022-12-09T09:00:00+00:00",
          "2022-12-09T10:00:00+00:00",
          "2022-12-09T11:00:00+00:00",
          "2022-12-09T13:00:00+00:00",
          "2022-12-09T14:00:00+00:00",
          "2022-12-09T15:00:00+00:00",
          "2022-12-09T16:00:00+00:00",
          "2022-12-09T17:00:00+00:00",
          "2022-12-09T18:00:00+00:00",
          "2022-12-09T19:00:00+00:00",
          "2022-12-09T20:00:00+00:00",
          "2022-12-09T21:00:00+00:00",
          "2022-12-11T23:00:00+00:00",
          "2022-12-12T01:00:00+00:00",
          "2022-12-12T02:00:00+00:00",
          "2022-12-12T04:00:00+00:00",
          "2022-12-12T06:00:00+00:00",
          "2022-12-12T07:00:00+00:00",
          "2022-12-12T08:00:00+00:00",
          "2022-12-12T09:00:00+00:00",
          "2022-12-12T10:00:00+00:00",
          "2022-12-12T11:00:00+00:00",
          "2022-12-12T12:00:00+00:00",
          "2022-12-12T13:00:00+00:00",
          "2022-12-12T14:00:00+00:00",
          "2022-12-12T15:00:00+00:00",
          "2022-12-12T16:00:00+00:00",
          "2022-12-12T18:00:00+00:00",
          "2022-12-12T19:00:00+00:00",
          "2022-12-12T20:00:00+00:00",
          "2022-12-12T21:00:00+00:00",
          "2022-12-12T22:00:00+00:00",
          "2022-12-12T23:00:00+00:00",
          "2022-12-13T02:00:00+00:00",
          "2022-12-13T06:00:00+00:00",
          "2022-12-13T07:00:00+00:00",
          "2022-12-13T09:00:00+00:00",
          "2022-12-13T11:00:00+00:00",
          "2022-12-13T12:00:00+00:00",
          "2022-12-13T13:00:00+00:00",
          "2022-12-13T14:00:00+00:00",
          "2022-12-13T15:00:00+00:00",
          "2022-12-13T18:00:00+00:00",
          "2022-12-13T19:00:00+00:00",
          "2022-12-13T20:00:00+00:00",
          "2022-12-13T21:00:00+00:00",
          "2022-12-14T01:00:00+00:00",
          "2022-12-14T02:00:00+00:00",
          "2022-12-14T05:00:00+00:00",
          "2022-12-14T08:00:00+00:00",
          "2022-12-14T14:00:00+00:00",
          "2022-12-14T15:00:00+00:00",
          "2022-12-14T16:00:00+00:00",
          "2022-12-14T17:00:00+00:00",
          "2022-12-14T18:00:00+00:00",
          "2022-12-14T19:00:00+00:00",
          "2022-12-14T21:00:00+00:00",
          "2022-12-14T22:00:00+00:00",
          "2022-12-14T23:00:00+00:00",
          "2022-12-15T00:00:00+00:00",
          "2022-12-15T01:00:00+00:00",
          "2022-12-15T02:00:00+00:00",
          "2022-12-15T03:00:00+00:00",
          "2022-12-15T04:00:00+00:00",
          "2022-12-15T07:00:00+00:00",
          "2022-12-15T08:00:00+00:00",
          "2022-12-15T09:00:00+00:00",
          "2022-12-15T10:00:00+00:00",
          "2022-12-15T13:00:00+00:00",
          "2022-12-15T14:00:00+00:00",
          "2022-12-15T15:00:00+00:00",
          "2022-12-15T17:00:00+00:00",
          "2022-12-15T20:00:00+00:00",
          "2022-12-16T00:00:00+00:00",
          "2022-12-16T03:00:00+00:00",
          "2022-12-16T04:00:00+00:00",
          "2022-12-16T05:00:00+00:00",
          "2022-12-16T06:00:00+00:00",
          "2022-12-16T07:00:00+00:00",
          "2022-12-16T09:00:00+00:00",
          "2022-12-16T10:00:00+00:00",
          "2022-12-16T11:00:00+00:00",
          "2022-12-16T12:00:00+00:00",
          "2022-12-16T13:00:00+00:00",
          "2022-12-16T14:00:00+00:00",
          "2022-12-16T16:00:00+00:00",
          "2022-12-16T19:00:00+00:00",
          "2022-12-16T21:00:00+00:00",
          "2022-12-18T23:00:00+00:00",
          "2022-12-19T01:00:00+00:00",
          "2022-12-19T03:00:00+00:00",
          "2022-12-19T04:00:00+00:00",
          "2022-12-19T05:00:00+00:00",
          "2022-12-19T06:00:00+00:00",
          "2022-12-19T07:00:00+00:00",
          "2022-12-19T08:00:00+00:00",
          "2022-12-19T09:00:00+00:00",
          "2022-12-19T10:00:00+00:00",
          "2022-12-19T11:00:00+00:00",
          "2022-12-19T12:00:00+00:00",
          "2022-12-19T13:00:00+00:00",
          "2022-12-19T14:00:00+00:00",
          "2022-12-19T15:00:00+00:00",
          "2022-12-19T16:00:00+00:00",
          "2022-12-19T17:00:00+00:00",
          "2022-12-19T19:00:00+00:00",
          "2022-12-19T20:00:00+00:00",
          "2022-12-19T21:00:00+00:00",
          "2022-12-19T22:00:00+00:00",
          "2022-12-19T23:00:00+00:00",
          "2022-12-20T00:00:00+00:00",
          "2022-12-20T02:00:00+00:00",
          "2022-12-20T03:00:00+00:00",
          "2022-12-20T04:00:00+00:00",
          "2022-12-20T05:00:00+00:00",
          "2022-12-20T09:00:00+00:00",
          "2022-12-20T10:00:00+00:00",
          "2022-12-20T11:00:00+00:00",
          "2022-12-20T12:00:00+00:00",
          "2022-12-20T20:00:00+00:00",
          "2022-12-20T22:00:00+00:00",
          "2022-12-20T23:00:00+00:00",
          "2022-12-21T01:00:00+00:00",
          "2022-12-21T04:00:00+00:00",
          "2022-12-21T08:00:00+00:00",
          "2022-12-21T09:00:00+00:00",
          "2022-12-21T10:00:00+00:00",
          "2022-12-21T11:00:00+00:00",
          "2022-12-21T12:00:00+00:00",
          "2022-12-21T13:00:00+00:00",
          "2022-12-21T14:00:00+00:00",
          "2022-12-21T16:00:00+00:00",
          "2022-12-21T17:00:00+00:00",
          "2022-12-21T18:00:00+00:00",
          "2022-12-21T21:00:00+00:00",
          "2022-12-22T00:00:00+00:00",
          "2022-12-22T02:00:00+00:00",
          "2022-12-22T03:00:00+00:00",
          "2022-12-22T06:00:00+00:00",
          "2022-12-22T07:00:00+00:00",
          "2022-12-22T08:00:00+00:00",
          "2022-12-22T09:00:00+00:00",
          "2022-12-22T10:00:00+00:00",
          "2022-12-22T11:00:00+00:00",
          "2022-12-22T12:00:00+00:00",
          "2022-12-22T13:00:00+00:00",
          "2022-12-22T14:00:00+00:00",
          "2022-12-22T16:00:00+00:00",
          "2022-12-22T17:00:00+00:00",
          "2022-12-22T19:00:00+00:00",
          "2022-12-23T00:00:00+00:00",
          "2022-12-23T01:00:00+00:00",
          "2022-12-23T02:00:00+00:00",
          "2022-12-23T03:00:00+00:00",
          "2022-12-23T04:00:00+00:00",
          "2022-12-23T05:00:00+00:00",
          "2022-12-23T07:00:00+00:00",
          "2022-12-23T08:00:00+00:00",
          "2022-12-23T10:00:00+00:00",
          "2022-12-23T11:00:00+00:00",
          "2022-12-23T12:00:00+00:00",
          "2022-12-23T15:00:00+00:00",
          "2022-12-23T17:00:00+00:00",
          "2022-12-23T21:00:00+00:00",
          "2022-12-26T22:00:00+00:00",
          "2022-12-26T23:00:00+00:00",
          "2022-12-27T01:00:00+00:00",
          "2022-12-27T02:00:00+00:00",
          "2022-12-27T03:00:00+00:00",
          "2022-12-27T06:00:00+00:00",
          "2022-12-27T07:00:00+00:00",
          "2022-12-27T08:00:00+00:00",
          "2022-12-27T09:00:00+00:00",
          "2022-12-27T11:00:00+00:00",
          "2022-12-27T13:00:00+00:00",
          "2022-12-27T22:00:00+00:00",
          "2022-12-27T23:00:00+00:00",
          "2022-12-28T03:00:00+00:00",
          "2022-12-28T06:00:00+00:00",
          "2022-12-28T07:00:00+00:00",
          "2022-12-28T08:00:00+00:00",
          "2022-12-28T09:00:00+00:00",
          "2022-12-28T10:00:00+00:00",
          "2022-12-28T11:00:00+00:00",
          "2022-12-28T12:00:00+00:00",
          "2022-12-28T14:00:00+00:00",
          "2022-12-28T15:00:00+00:00",
          "2022-12-28T17:00:00+00:00",
          "2022-12-28T18:00:00+00:00",
          "2022-12-28T22:00:00+00:00",
          "2022-12-28T23:00:00+00:00",
          "2022-12-29T01:00:00+00:00",
          "2022-12-29T02:00:00+00:00",
          "2022-12-29T04:00:00+00:00",
          "2022-12-29T06:00:00+00:00",
          "2022-12-29T09:00:00+00:00",
          "2022-12-29T10:00:00+00:00",
          "2022-12-29T11:00:00+00:00",
          "2022-12-29T14:00:00+00:00",
          "2022-12-29T15:00:00+00:00",
          "2022-12-29T16:00:00+00:00",
          "2022-12-29T19:00:00+00:00",
          "2022-12-29T22:00:00+00:00",
          "2022-12-29T23:00:00+00:00",
          "2022-12-30T00:00:00+00:00",
          "2022-12-30T01:00:00+00:00",
          "2022-12-30T02:00:00+00:00",
          "2022-12-30T03:00:00+00:00",
          "2022-12-30T05:00:00+00:00",
          "2022-12-30T07:00:00+00:00",
          "2022-12-30T08:00:00+00:00",
          "2022-12-30T09:00:00+00:00",
          "2022-12-30T11:00:00+00:00",
          "2022-12-30T12:00:00+00:00",
          "2022-12-30T13:00:00+00:00",
          "2022-12-30T14:00:00+00:00",
          "2022-12-30T15:00:00+00:00",
          "2022-12-30T16:00:00+00:00",
          "2022-12-30T17:00:00+00:00",
          "2022-12-30T18:00:00+00:00",
          "2022-12-30T20:00:00+00:00",
          "2023-01-02T02:00:00+00:00",
          "2023-01-02T03:00:00+00:00",
          "2023-01-02T04:00:00+00:00",
          "2023-01-02T07:00:00+00:00",
          "2023-01-02T08:00:00+00:00",
          "2023-01-02T09:00:00+00:00",
          "2023-01-02T10:00:00+00:00",
          "2023-01-02T11:00:00+00:00",
          "2023-01-02T12:00:00+00:00",
          "2023-01-02T14:00:00+00:00",
          "2023-01-02T15:00:00+00:00",
          "2023-01-02T16:00:00+00:00",
          "2023-01-02T17:00:00+00:00",
          "2023-01-02T19:00:00+00:00",
          "2023-01-02T20:00:00+00:00",
          "2023-01-02T23:00:00+00:00",
          "2023-01-03T01:00:00+00:00",
          "2023-01-03T02:00:00+00:00",
          "2023-01-03T03:00:00+00:00",
          "2023-01-03T04:00:00+00:00",
          "2023-01-03T05:00:00+00:00",
          "2023-01-03T06:00:00+00:00",
          "2023-01-03T07:00:00+00:00",
          "2023-01-03T08:00:00+00:00",
          "2023-01-03T10:00:00+00:00",
          "2023-01-03T11:00:00+00:00",
          "2023-01-03T14:00:00+00:00",
          "2023-01-03T16:00:00+00:00",
          "2023-01-03T21:00:00+00:00",
          "2023-01-03T23:00:00+00:00",
          "2023-01-04T00:00:00+00:00",
          "2023-01-04T01:00:00+00:00",
          "2023-01-04T03:00:00+00:00",
          "2023-01-04T04:00:00+00:00",
          "2023-01-04T05:00:00+00:00",
          "2023-01-04T06:00:00+00:00",
          "2023-01-04T07:00:00+00:00",
          "2023-01-04T08:00:00+00:00",
          "2023-01-04T09:00:00+00:00",
          "2023-01-04T13:00:00+00:00",
          "2023-01-04T14:00:00+00:00",
          "2023-01-04T17:00:00+00:00",
          "2023-01-04T18:00:00+00:00",
          "2023-01-04T19:00:00+00:00",
          "2023-01-04T21:00:00+00:00",
          "2023-01-05T00:00:00+00:00",
          "2023-01-05T03:00:00+00:00",
          "2023-01-05T04:00:00+00:00",
          "2023-01-05T06:00:00+00:00",
          "2023-01-05T08:00:00+00:00",
          "2023-01-05T09:00:00+00:00",
          "2023-01-05T10:00:00+00:00",
          "2023-01-05T12:00:00+00:00",
          "2023-01-05T13:00:00+00:00",
          "2023-01-05T14:00:00+00:00",
          "2023-01-05T15:00:00+00:00",
          "2023-01-05T17:00:00+00:00",
          "2023-01-05T19:00:00+00:00",
          "2023-01-05T20:00:00+00:00",
          "2023-01-05T21:00:00+00:00",
          "2023-01-06T01:00:00+00:00",
          "2023-01-06T02:00:00+00:00",
          "2023-01-06T03:00:00+00:00",
          "2023-01-06T04:00:00+00:00",
          "2023-01-06T08:00:00+00:00",
          "2023-01-06T10:00:00+00:00",
          "2023-01-06T11:00:00+00:00",
          "2023-01-06T12:00:00+00:00",
          "2023-01-06T13:00:00+00:00",
          "2023-01-06T14:00:00+00:00",
          "2023-01-06T15:00:00+00:00",
          "2023-01-06T16:00:00+00:00",
          "2023-01-06T18:00:00+00:00",
          "2023-01-06T21:00:00+00:00",
          "2023-01-08T22:00:00+00:00",
          "2023-01-08T23:00:00+00:00",
          "2023-01-09T03:00:00+00:00",
          "2023-01-09T07:00:00+00:00",
          "2023-01-09T08:00:00+00:00",
          "2023-01-09T10:00:00+00:00",
          "2023-01-09T11:00:00+00:00",
          "2023-01-09T12:00:00+00:00",
          "2023-01-09T13:00:00+00:00",
          "2023-01-09T14:00:00+00:00",
          "2023-01-09T15:00:00+00:00",
          "2023-01-09T16:00:00+00:00",
          "2023-01-09T18:00:00+00:00",
          "2023-01-09T19:00:00+00:00",
          "2023-01-09T20:00:00+00:00",
          "2023-01-09T21:00:00+00:00",
          "2023-01-09T23:00:00+00:00",
          "2023-01-10T00:00:00+00:00",
          "2023-01-10T02:00:00+00:00",
          "2023-01-10T05:00:00+00:00",
          "2023-01-10T07:00:00+00:00",
          "2023-01-10T08:00:00+00:00",
          "2023-01-10T10:00:00+00:00",
          "2023-01-10T11:00:00+00:00",
          "2023-01-10T12:00:00+00:00",
          "2023-01-10T13:00:00+00:00",
          "2023-01-10T14:00:00+00:00",
          "2023-01-10T15:00:00+00:00",
          "2023-01-10T16:00:00+00:00",
          "2023-01-10T17:00:00+00:00",
          "2023-01-10T18:00:00+00:00",
          "2023-01-10T19:00:00+00:00",
          "2023-01-10T20:00:00+00:00",
          "2023-01-10T21:00:00+00:00",
          "2023-01-10T22:00:00+00:00",
          "2023-01-10T23:00:00+00:00",
          "2023-01-11T01:00:00+00:00",
          "2023-01-11T02:00:00+00:00",
          "2023-01-11T03:00:00+00:00",
          "2023-01-11T04:00:00+00:00",
          "2023-01-11T05:00:00+00:00",
          "2023-01-11T06:00:00+00:00",
          "2023-01-11T07:00:00+00:00",
          "2023-01-11T08:00:00+00:00",
          "2023-01-11T09:00:00+00:00",
          "2023-01-11T10:00:00+00:00",
          "2023-01-11T11:00:00+00:00",
          "2023-01-11T12:00:00+00:00",
          "2023-01-11T14:00:00+00:00",
          "2023-01-11T16:00:00+00:00",
          "2023-01-11T18:00:00+00:00",
          "2023-01-11T20:00:00+00:00",
          "2023-01-11T21:00:00+00:00",
          "2023-01-11T23:00:00+00:00",
          "2023-01-12T00:00:00+00:00",
          "2023-01-12T01:00:00+00:00",
          "2023-01-12T03:00:00+00:00",
          "2023-01-12T06:00:00+00:00",
          "2023-01-12T07:00:00+00:00",
          "2023-01-12T09:00:00+00:00",
          "2023-01-12T12:00:00+00:00",
          "2023-01-12T13:00:00+00:00",
          "2023-01-12T14:00:00+00:00",
          "2023-01-12T16:00:00+00:00",
          "2023-01-12T18:00:00+00:00",
          "2023-01-12T22:00:00+00:00",
          "2023-01-12T23:00:00+00:00",
          "2023-01-13T00:00:00+00:00",
          "2023-01-13T01:00:00+00:00",
          "2023-01-13T05:00:00+00:00",
          "2023-01-13T08:00:00+00:00",
          "2023-01-13T10:00:00+00:00",
          "2023-01-13T11:00:00+00:00",
          "2023-01-13T12:00:00+00:00",
          "2023-01-13T13:00:00+00:00",
          "2023-01-13T14:00:00+00:00",
          "2023-01-13T15:00:00+00:00",
          "2023-01-13T17:00:00+00:00",
          "2023-01-13T20:00:00+00:00",
          "2023-01-15T22:00:00+00:00",
          "2023-01-15T23:00:00+00:00",
          "2023-01-16T01:00:00+00:00",
          "2023-01-16T02:00:00+00:00",
          "2023-01-16T03:00:00+00:00",
          "2023-01-16T07:00:00+00:00",
          "2023-01-16T08:00:00+00:00",
          "2023-01-16T09:00:00+00:00",
          "2023-01-16T10:00:00+00:00",
          "2023-01-16T11:00:00+00:00",
          "2023-01-16T12:00:00+00:00",
          "2023-01-16T15:00:00+00:00",
          "2023-01-16T17:00:00+00:00",
          "2023-01-16T19:00:00+00:00",
          "2023-01-16T20:00:00+00:00",
          "2023-01-16T21:00:00+00:00",
          "2023-01-16T22:00:00+00:00",
          "2023-01-17T00:00:00+00:00",
          "2023-01-17T01:00:00+00:00",
          "2023-01-17T02:00:00+00:00",
          "2023-01-17T03:00:00+00:00",
          "2023-01-17T06:00:00+00:00",
          "2023-01-17T07:00:00+00:00",
          "2023-01-17T08:00:00+00:00",
          "2023-01-17T10:00:00+00:00",
          "2023-01-17T11:00:00+00:00",
          "2023-01-17T12:00:00+00:00",
          "2023-01-17T13:00:00+00:00",
          "2023-01-17T14:00:00+00:00",
          "2023-01-17T15:00:00+00:00",
          "2023-01-17T16:00:00+00:00",
          "2023-01-17T17:00:00+00:00",
          "2023-01-17T18:00:00+00:00",
          "2023-01-17T22:00:00+00:00",
          "2023-01-18T00:00:00+00:00",
          "2023-01-18T01:00:00+00:00",
          "2023-01-18T02:00:00+00:00",
          "2023-01-18T03:00:00+00:00",
          "2023-01-18T08:00:00+00:00",
          "2023-01-18T10:00:00+00:00",
          "2023-01-18T11:00:00+00:00",
          "2023-01-18T13:00:00+00:00",
          "2023-01-18T14:00:00+00:00",
          "2023-01-18T15:00:00+00:00",
          "2023-01-18T16:00:00+00:00",
          "2023-01-18T17:00:00+00:00",
          "2023-01-18T19:00:00+00:00",
          "2023-01-18T23:00:00+00:00",
          "2023-01-19T00:00:00+00:00",
          "2023-01-19T06:00:00+00:00",
          "2023-01-19T09:00:00+00:00",
          "2023-01-19T10:00:00+00:00",
          "2023-01-19T11:00:00+00:00",
          "2023-01-19T14:00:00+00:00",
          "2023-01-19T15:00:00+00:00",
          "2023-01-19T16:00:00+00:00",
          "2023-01-19T17:00:00+00:00",
          "2023-01-19T18:00:00+00:00",
          "2023-01-19T19:00:00+00:00",
          "2023-01-19T20:00:00+00:00",
          "2023-01-19T21:00:00+00:00",
          "2023-01-20T01:00:00+00:00",
          "2023-01-20T02:00:00+00:00",
          "2023-01-20T03:00:00+00:00",
          "2023-01-20T04:00:00+00:00",
          "2023-01-20T05:00:00+00:00",
          "2023-01-20T06:00:00+00:00",
          "2023-01-20T07:00:00+00:00",
          "2023-01-20T08:00:00+00:00",
          "2023-01-20T09:00:00+00:00",
          "2023-01-20T12:00:00+00:00",
          "2023-01-20T13:00:00+00:00",
          "2023-01-20T17:00:00+00:00",
          "2023-01-23T02:00:00+00:00",
          "2023-01-23T03:00:00+00:00",
          "2023-01-23T04:00:00+00:00",
          "2023-01-23T05:00:00+00:00",
          "2023-01-23T07:00:00+00:00",
          "2023-01-23T09:00:00+00:00",
          "2023-01-23T10:00:00+00:00",
          "2023-01-23T11:00:00+00:00",
          "2023-01-23T12:00:00+00:00",
          "2023-01-23T13:00:00+00:00",
          "2023-01-23T15:00:00+00:00",
          "2023-01-23T16:00:00+00:00",
          "2023-01-24T05:00:00+00:00",
          "2023-01-24T06:00:00+00:00",
          "2023-01-24T07:00:00+00:00",
          "2023-01-24T08:00:00+00:00",
          "2023-01-24T09:00:00+00:00",
          "2023-01-24T10:00:00+00:00",
          "2023-01-24T11:00:00+00:00",
          "2023-01-24T12:00:00+00:00",
          "2023-01-24T14:00:00+00:00",
          "2023-01-24T15:00:00+00:00",
          "2023-01-24T16:00:00+00:00",
          "2023-01-24T17:00:00+00:00",
          "2023-01-24T18:00:00+00:00",
          "2023-01-24T20:00:00+00:00",
          "2023-01-24T22:00:00+00:00",
          "2023-01-24T23:00:00+00:00",
          "2023-01-25T00:00:00+00:00",
          "2023-01-25T02:00:00+00:00",
          "2023-01-25T03:00:00+00:00",
          "2023-01-25T05:00:00+00:00",
          "2023-01-25T06:00:00+00:00",
          "2023-01-25T08:00:00+00:00",
          "2023-01-25T09:00:00+00:00",
          "2023-01-25T10:00:00+00:00",
          "2023-01-25T11:00:00+00:00",
          "2023-01-25T12:00:00+00:00",
          "2023-01-25T14:00:00+00:00",
          "2023-01-25T15:00:00+00:00",
          "2023-01-25T17:00:00+00:00",
          "2023-01-25T18:00:00+00:00",
          "2023-01-25T19:00:00+00:00",
          "2023-01-25T20:00:00+00:00",
          "2023-01-26T00:00:00+00:00",
          "2023-01-26T01:00:00+00:00",
          "2023-01-26T02:00:00+00:00",
          "2023-01-26T07:00:00+00:00",
          "2023-01-26T08:00:00+00:00",
          "2023-01-26T09:00:00+00:00",
          "2023-01-26T10:00:00+00:00",
          "2023-01-26T11:00:00+00:00",
          "2023-01-26T12:00:00+00:00",
          "2023-01-26T13:00:00+00:00",
          "2023-01-26T14:00:00+00:00",
          "2023-01-26T15:00:00+00:00",
          "2023-01-26T16:00:00+00:00",
          "2023-01-26T19:00:00+00:00",
          "2023-01-26T20:00:00+00:00",
          "2023-01-27T00:00:00+00:00",
          "2023-01-27T01:00:00+00:00",
          "2023-01-27T02:00:00+00:00",
          "2023-01-27T04:00:00+00:00",
          "2023-01-27T05:00:00+00:00",
          "2023-01-27T08:00:00+00:00",
          "2023-01-27T09:00:00+00:00",
          "2023-01-27T10:00:00+00:00",
          "2023-01-27T11:00:00+00:00",
          "2023-01-27T14:00:00+00:00",
          "2023-01-27T15:00:00+00:00",
          "2023-01-27T18:00:00+00:00",
          "2023-01-27T19:00:00+00:00",
          "2023-01-27T21:00:00+00:00",
          "2023-01-29T23:00:00+00:00",
          "2023-01-30T00:00:00+00:00",
          "2023-01-30T01:00:00+00:00",
          "2023-01-30T02:00:00+00:00",
          "2023-01-30T04:00:00+00:00",
          "2023-01-30T05:00:00+00:00",
          "2023-01-30T07:00:00+00:00",
          "2023-01-30T08:00:00+00:00",
          "2023-01-30T09:00:00+00:00",
          "2023-01-30T10:00:00+00:00",
          "2023-01-30T11:00:00+00:00",
          "2023-01-30T12:00:00+00:00",
          "2023-01-30T14:00:00+00:00",
          "2023-01-30T17:00:00+00:00",
          "2023-01-30T18:00:00+00:00",
          "2023-01-30T20:00:00+00:00",
          "2023-01-30T21:00:00+00:00",
          "2023-01-30T22:00:00+00:00",
          "2023-01-31T00:00:00+00:00",
          "2023-01-31T02:00:00+00:00",
          "2023-01-31T05:00:00+00:00",
          "2023-01-31T07:00:00+00:00",
          "2023-01-31T11:00:00+00:00",
          "2023-01-31T13:00:00+00:00",
          "2023-01-31T14:00:00+00:00",
          "2023-01-31T15:00:00+00:00",
          "2023-01-31T16:00:00+00:00",
          "2023-01-31T17:00:00+00:00",
          "2023-01-31T18:00:00+00:00",
          "2023-01-31T19:00:00+00:00",
          "2023-01-31T22:00:00+00:00",
          "2023-01-31T23:00:00+00:00",
          "2023-02-01T00:00:00+00:00",
          "2023-02-01T05:00:00+00:00",
          "2023-02-01T06:00:00+00:00",
          "2023-02-01T08:00:00+00:00",
          "2023-02-01T09:00:00+00:00",
          "2023-02-01T11:00:00+00:00",
          "2023-02-01T12:00:00+00:00",
          "2023-02-01T13:00:00+00:00",
          "2023-02-01T14:00:00+00:00",
          "2023-02-01T15:00:00+00:00",
          "2023-02-01T17:00:00+00:00",
          "2023-02-01T18:00:00+00:00",
          "2023-02-01T19:00:00+00:00",
          "2023-02-01T21:00:00+00:00",
          "2023-02-01T22:00:00+00:00",
          "2023-02-01T23:00:00+00:00",
          "2023-02-02T00:00:00+00:00",
          "2023-02-02T02:00:00+00:00",
          "2023-02-02T08:00:00+00:00",
          "2023-02-02T10:00:00+00:00",
          "2023-02-02T11:00:00+00:00",
          "2023-02-02T12:00:00+00:00",
          "2023-02-02T13:00:00+00:00",
          "2023-02-02T14:00:00+00:00",
          "2023-02-02T15:00:00+00:00",
          "2023-02-02T16:00:00+00:00",
          "2023-02-02T17:00:00+00:00",
          "2023-02-02T18:00:00+00:00",
          "2023-02-02T19:00:00+00:00",
          "2023-02-02T22:00:00+00:00",
          "2023-02-02T23:00:00+00:00",
          "2023-02-03T00:00:00+00:00",
          "2023-02-03T01:00:00+00:00",
          "2023-02-03T03:00:00+00:00",
          "2023-02-03T08:00:00+00:00",
          "2023-02-03T09:00:00+00:00",
          "2023-02-03T10:00:00+00:00",
          "2023-02-03T11:00:00+00:00",
          "2023-02-03T12:00:00+00:00",
          "2023-02-03T13:00:00+00:00",
          "2023-02-03T14:00:00+00:00",
          "2023-02-03T15:00:00+00:00",
          "2023-02-03T16:00:00+00:00",
          "2023-02-03T17:00:00+00:00",
          "2023-02-06T00:00:00+00:00",
          "2023-02-06T07:00:00+00:00",
          "2023-02-06T09:00:00+00:00",
          "2023-02-06T10:00:00+00:00",
          "2023-02-06T11:00:00+00:00",
          "2023-02-06T12:00:00+00:00",
          "2023-02-06T13:00:00+00:00",
          "2023-02-06T19:00:00+00:00",
          "2023-02-06T21:00:00+00:00",
          "2023-02-06T22:00:00+00:00",
          "2023-02-06T23:00:00+00:00",
          "2023-02-07T01:00:00+00:00",
          "2023-02-07T02:00:00+00:00",
          "2023-02-07T03:00:00+00:00",
          "2023-02-07T06:00:00+00:00",
          "2023-02-07T07:00:00+00:00",
          "2023-02-07T09:00:00+00:00",
          "2023-02-07T11:00:00+00:00",
          "2023-02-07T12:00:00+00:00",
          "2023-02-07T13:00:00+00:00",
          "2023-02-07T14:00:00+00:00",
          "2023-02-07T15:00:00+00:00",
          "2023-02-07T17:00:00+00:00",
          "2023-02-07T18:00:00+00:00",
          "2023-02-07T20:00:00+00:00",
          "2023-02-07T21:00:00+00:00",
          "2023-02-07T22:00:00+00:00",
          "2023-02-07T23:00:00+00:00",
          "2023-02-08T03:00:00+00:00",
          "2023-02-08T06:00:00+00:00",
          "2023-02-08T07:00:00+00:00",
          "2023-02-08T09:00:00+00:00",
          "2023-02-08T10:00:00+00:00",
          "2023-02-08T12:00:00+00:00",
          "2023-02-08T14:00:00+00:00",
          "2023-02-08T15:00:00+00:00",
          "2023-02-08T17:00:00+00:00",
          "2023-02-08T18:00:00+00:00",
          "2023-02-08T20:00:00+00:00",
          "2023-02-08T21:00:00+00:00",
          "2023-02-08T23:00:00+00:00",
          "2023-02-09T01:00:00+00:00",
          "2023-02-09T03:00:00+00:00",
          "2023-02-09T05:00:00+00:00",
          "2023-02-09T08:00:00+00:00",
          "2023-02-09T09:00:00+00:00",
          "2023-02-09T10:00:00+00:00",
          "2023-02-09T14:00:00+00:00",
          "2023-02-09T15:00:00+00:00",
          "2023-02-09T17:00:00+00:00",
          "2023-02-09T18:00:00+00:00",
          "2023-02-09T19:00:00+00:00",
          "2023-02-09T20:00:00+00:00",
          "2023-02-09T21:00:00+00:00",
          "2023-02-09T23:00:00+00:00",
          "2023-02-10T02:00:00+00:00",
          "2023-02-10T03:00:00+00:00",
          "2023-02-10T06:00:00+00:00",
          "2023-02-10T07:00:00+00:00",
          "2023-02-10T08:00:00+00:00",
          "2023-02-10T09:00:00+00:00",
          "2023-02-10T10:00:00+00:00",
          "2023-02-10T12:00:00+00:00",
          "2023-02-10T13:00:00+00:00",
          "2023-02-10T14:00:00+00:00",
          "2023-02-10T15:00:00+00:00",
          "2023-02-10T16:00:00+00:00",
          "2023-02-10T17:00:00+00:00",
          "2023-02-10T20:00:00+00:00",
          "2023-02-12T23:00:00+00:00",
          "2023-02-13T01:00:00+00:00",
          "2023-02-13T04:00:00+00:00",
          "2023-02-13T07:00:00+00:00",
          "2023-02-13T09:00:00+00:00",
          "2023-02-13T10:00:00+00:00",
          "2023-02-13T13:00:00+00:00",
          "2023-02-13T14:00:00+00:00",
          "2023-02-13T15:00:00+00:00",
          "2023-02-13T16:00:00+00:00",
          "2023-02-13T18:00:00+00:00",
          "2023-02-13T19:00:00+00:00",
          "2023-02-13T22:00:00+00:00",
          "2023-02-14T02:00:00+00:00",
          "2023-02-14T03:00:00+00:00",
          "2023-02-14T04:00:00+00:00",
          "2023-02-14T05:00:00+00:00",
          "2023-02-14T07:00:00+00:00",
          "2023-02-14T08:00:00+00:00",
          "2023-02-14T09:00:00+00:00",
          "2023-02-14T10:00:00+00:00",
          "2023-02-14T14:00:00+00:00",
          "2023-02-14T15:00:00+00:00",
          "2023-02-14T16:00:00+00:00",
          "2023-02-14T18:00:00+00:00",
          "2023-02-14T20:00:00+00:00",
          "2023-02-14T22:00:00+00:00",
          "2023-02-14T23:00:00+00:00",
          "2023-02-15T00:00:00+00:00",
          "2023-02-15T01:00:00+00:00",
          "2023-02-15T02:00:00+00:00",
          "2023-02-15T03:00:00+00:00",
          "2023-02-15T05:00:00+00:00",
          "2023-02-15T07:00:00+00:00",
          "2023-02-15T08:00:00+00:00",
          "2023-02-15T09:00:00+00:00",
          "2023-02-15T10:00:00+00:00",
          "2023-02-15T12:00:00+00:00",
          "2023-02-15T16:00:00+00:00",
          "2023-02-16T02:00:00+00:00",
          "2023-02-16T03:00:00+00:00",
          "2023-02-16T04:00:00+00:00",
          "2023-02-16T05:00:00+00:00",
          "2023-02-16T10:00:00+00:00",
          "2023-02-16T11:00:00+00:00",
          "2023-02-16T12:00:00+00:00",
          "2023-02-16T13:00:00+00:00",
          "2023-02-16T14:00:00+00:00",
          "2023-02-16T16:00:00+00:00",
          "2023-02-16T17:00:00+00:00",
          "2023-02-16T18:00:00+00:00",
          "2023-02-16T19:00:00+00:00",
          "2023-02-16T23:00:00+00:00",
          "2023-02-17T00:00:00+00:00",
          "2023-02-17T01:00:00+00:00",
          "2023-02-17T03:00:00+00:00",
          "2023-02-17T04:00:00+00:00",
          "2023-02-17T05:00:00+00:00",
          "2023-02-17T06:00:00+00:00",
          "2023-02-17T08:00:00+00:00",
          "2023-02-17T09:00:00+00:00",
          "2023-02-17T10:00:00+00:00",
          "2023-02-17T14:00:00+00:00",
          "2023-02-17T15:00:00+00:00",
          "2023-02-17T16:00:00+00:00",
          "2023-02-17T17:00:00+00:00",
          "2023-02-17T18:00:00+00:00",
          "2023-02-17T19:00:00+00:00",
          "2023-02-17T21:00:00+00:00",
          "2023-02-20T01:00:00+00:00",
          "2023-02-20T02:00:00+00:00",
          "2023-02-20T05:00:00+00:00",
          "2023-02-20T06:00:00+00:00",
          "2023-02-20T08:00:00+00:00",
          "2023-02-20T09:00:00+00:00",
          "2023-02-20T10:00:00+00:00",
          "2023-02-20T11:00:00+00:00",
          "2023-02-20T12:00:00+00:00",
          "2023-02-20T13:00:00+00:00",
          "2023-02-20T15:00:00+00:00",
          "2023-02-20T16:00:00+00:00",
          "2023-02-20T18:00:00+00:00",
          "2023-02-20T19:00:00+00:00",
          "2023-02-20T20:00:00+00:00",
          "2023-02-20T22:00:00+00:00",
          "2023-02-20T23:00:00+00:00",
          "2023-02-21T01:00:00+00:00",
          "2023-02-21T03:00:00+00:00",
          "2023-02-21T05:00:00+00:00",
          "2023-02-21T06:00:00+00:00",
          "2023-02-21T07:00:00+00:00",
          "2023-02-21T08:00:00+00:00",
          "2023-02-21T09:00:00+00:00",
          "2023-02-21T10:00:00+00:00",
          "2023-02-21T11:00:00+00:00",
          "2023-02-21T12:00:00+00:00",
          "2023-02-21T13:00:00+00:00",
          "2023-02-21T15:00:00+00:00",
          "2023-02-21T18:00:00+00:00",
          "2023-02-21T22:00:00+00:00",
          "2023-02-22T01:00:00+00:00",
          "2023-02-22T02:00:00+00:00",
          "2023-02-22T03:00:00+00:00",
          "2023-02-22T05:00:00+00:00",
          "2023-02-22T06:00:00+00:00",
          "2023-02-22T08:00:00+00:00",
          "2023-02-22T09:00:00+00:00",
          "2023-02-22T10:00:00+00:00",
          "2023-02-22T11:00:00+00:00",
          "2023-02-22T12:00:00+00:00",
          "2023-02-22T13:00:00+00:00",
          "2023-02-22T14:00:00+00:00",
          "2023-02-22T15:00:00+00:00",
          "2023-02-22T16:00:00+00:00",
          "2023-02-22T17:00:00+00:00",
          "2023-02-22T20:00:00+00:00",
          "2023-02-22T21:00:00+00:00",
          "2023-02-22T23:00:00+00:00",
          "2023-02-23T00:00:00+00:00",
          "2023-02-23T01:00:00+00:00",
          "2023-02-23T03:00:00+00:00",
          "2023-02-23T07:00:00+00:00",
          "2023-02-23T08:00:00+00:00",
          "2023-02-23T10:00:00+00:00",
          "2023-02-23T13:00:00+00:00",
          "2023-02-23T14:00:00+00:00",
          "2023-02-23T16:00:00+00:00",
          "2023-02-23T17:00:00+00:00",
          "2023-02-23T18:00:00+00:00",
          "2023-02-23T20:00:00+00:00",
          "2023-02-23T21:00:00+00:00",
          "2023-02-24T00:00:00+00:00",
          "2023-02-24T01:00:00+00:00",
          "2023-02-24T04:00:00+00:00",
          "2023-02-24T05:00:00+00:00",
          "2023-02-24T07:00:00+00:00",
          "2023-02-24T08:00:00+00:00",
          "2023-02-24T09:00:00+00:00",
          "2023-02-24T10:00:00+00:00",
          "2023-02-24T11:00:00+00:00",
          "2023-02-24T12:00:00+00:00",
          "2023-02-24T16:00:00+00:00",
          "2023-02-24T17:00:00+00:00",
          "2023-02-24T19:00:00+00:00",
          "2023-02-27T03:00:00+00:00",
          "2023-02-27T08:00:00+00:00",
          "2023-02-27T10:00:00+00:00",
          "2023-02-27T11:00:00+00:00",
          "2023-02-27T12:00:00+00:00",
          "2023-02-27T14:00:00+00:00",
          "2023-02-27T15:00:00+00:00",
          "2023-02-27T16:00:00+00:00",
          "2023-02-27T17:00:00+00:00",
          "2023-02-27T18:00:00+00:00",
          "2023-02-27T23:00:00+00:00",
          "2023-02-28T05:00:00+00:00",
          "2023-02-28T06:00:00+00:00",
          "2023-02-28T08:00:00+00:00",
          "2023-02-28T10:00:00+00:00",
          "2023-02-28T11:00:00+00:00",
          "2023-02-28T12:00:00+00:00",
          "2023-02-28T13:00:00+00:00",
          "2023-02-28T14:00:00+00:00",
          "2023-02-28T15:00:00+00:00",
          "2023-02-28T16:00:00+00:00",
          "2023-02-28T17:00:00+00:00",
          "2023-02-28T18:00:00+00:00",
          "2023-02-28T19:00:00+00:00",
          "2023-02-28T20:00:00+00:00",
          "2023-02-28T21:00:00+00:00",
          "2023-03-01T02:00:00+00:00",
          "2023-03-01T03:00:00+00:00",
          "2023-03-01T07:00:00+00:00",
          "2023-03-01T08:00:00+00:00",
          "2023-03-01T09:00:00+00:00",
          "2023-03-01T10:00:00+00:00",
          "2023-03-01T11:00:00+00:00",
          "2023-03-01T17:00:00+00:00",
          "2023-03-01T19:00:00+00:00",
          "2023-03-01T20:00:00+00:00",
          "2023-03-01T22:00:00+00:00",
          "2023-03-02T01:00:00+00:00",
          "2023-03-02T02:00:00+00:00",
          "2023-03-02T03:00:00+00:00",
          "2023-03-02T04:00:00+00:00",
          "2023-03-02T05:00:00+00:00",
          "2023-03-02T06:00:00+00:00",
          "2023-03-02T07:00:00+00:00",
          "2023-03-02T08:00:00+00:00",
          "2023-03-02T09:00:00+00:00",
          "2023-03-02T10:00:00+00:00",
          "2023-03-02T11:00:00+00:00",
          "2023-03-02T14:00:00+00:00",
          "2023-03-02T18:00:00+00:00",
          "2023-03-02T20:00:00+00:00",
          "2023-03-02T23:00:00+00:00",
          "2023-03-03T02:00:00+00:00",
          "2023-03-03T03:00:00+00:00",
          "2023-03-03T05:00:00+00:00",
          "2023-03-03T06:00:00+00:00",
          "2023-03-03T07:00:00+00:00",
          "2023-03-03T08:00:00+00:00",
          "2023-03-03T10:00:00+00:00",
          "2023-03-03T11:00:00+00:00",
          "2023-03-03T12:00:00+00:00",
          "2023-03-03T13:00:00+00:00",
          "2023-03-03T14:00:00+00:00",
          "2023-03-03T16:00:00+00:00",
          "2023-03-03T19:00:00+00:00",
          "2023-03-03T20:00:00+00:00",
          "2023-03-03T21:00:00+00:00",
          "2023-03-05T23:00:00+00:00",
          "2023-03-06T00:00:00+00:00",
          "2023-03-06T03:00:00+00:00",
          "2023-03-06T07:00:00+00:00",
          "2023-03-06T08:00:00+00:00",
          "2023-03-06T09:00:00+00:00",
          "2023-03-06T10:00:00+00:00",
          "2023-03-06T11:00:00+00:00",
          "2023-03-06T12:00:00+00:00",
          "2023-03-06T13:00:00+00:00",
          "2023-03-06T15:00:00+00:00",
          "2023-03-06T16:00:00+00:00",
          "2023-03-06T18:00:00+00:00",
          "2023-03-06T21:00:00+00:00",
          "2023-03-07T00:00:00+00:00",
          "2023-03-07T01:00:00+00:00",
          "2023-03-07T02:00:00+00:00",
          "2023-03-07T03:00:00+00:00",
          "2023-03-07T04:00:00+00:00",
          "2023-03-07T05:00:00+00:00",
          "2023-03-07T06:00:00+00:00",
          "2023-03-07T07:00:00+00:00",
          "2023-03-07T08:00:00+00:00",
          "2023-03-07T09:00:00+00:00",
          "2023-03-07T10:00:00+00:00",
          "2023-03-07T11:00:00+00:00",
          "2023-03-07T12:00:00+00:00",
          "2023-03-07T13:00:00+00:00",
          "2023-03-07T15:00:00+00:00",
          "2023-03-07T16:00:00+00:00",
          "2023-03-07T17:00:00+00:00",
          "2023-03-07T18:00:00+00:00",
          "2023-03-08T00:00:00+00:00",
          "2023-03-08T04:00:00+00:00",
          "2023-03-08T05:00:00+00:00",
          "2023-03-08T07:00:00+00:00",
          "2023-03-08T09:00:00+00:00",
          "2023-03-08T10:00:00+00:00",
          "2023-03-08T11:00:00+00:00",
          "2023-03-08T13:00:00+00:00",
          "2023-03-08T15:00:00+00:00",
          "2023-03-08T16:00:00+00:00",
          "2023-03-08T17:00:00+00:00",
          "2023-03-08T18:00:00+00:00",
          "2023-03-08T19:00:00+00:00",
          "2023-03-08T21:00:00+00:00",
          "2023-03-08T22:00:00+00:00",
          "2023-03-08T23:00:00+00:00",
          "2023-03-09T00:00:00+00:00",
          "2023-03-09T01:00:00+00:00",
          "2023-03-09T02:00:00+00:00",
          "2023-03-09T04:00:00+00:00",
          "2023-03-09T05:00:00+00:00",
          "2023-03-09T06:00:00+00:00",
          "2023-03-09T09:00:00+00:00",
          "2023-03-09T13:00:00+00:00",
          "2023-03-09T14:00:00+00:00",
          "2023-03-09T16:00:00+00:00",
          "2023-03-09T17:00:00+00:00",
          "2023-03-09T19:00:00+00:00",
          "2023-03-09T20:00:00+00:00",
          "2023-03-09T21:00:00+00:00",
          "2023-03-09T22:00:00+00:00",
          "2023-03-10T02:00:00+00:00",
          "2023-03-10T05:00:00+00:00",
          "2023-03-10T09:00:00+00:00",
          "2023-03-10T10:00:00+00:00",
          "2023-03-10T12:00:00+00:00",
          "2023-03-10T13:00:00+00:00",
          "2023-03-10T14:00:00+00:00",
          "2023-03-10T15:00:00+00:00",
          "2023-03-10T17:00:00+00:00",
          "2023-03-10T19:00:00+00:00",
          "2023-03-12T21:00:00+00:00",
          "2023-03-12T22:00:00+00:00",
          "2023-03-13T03:00:00+00:00",
          "2023-03-13T04:00:00+00:00",
          "2023-03-13T06:00:00+00:00",
          "2023-03-13T07:00:00+00:00",
          "2023-03-13T08:00:00+00:00",
          "2023-03-13T09:00:00+00:00",
          "2023-03-13T11:00:00+00:00",
          "2023-03-13T15:00:00+00:00",
          "2023-03-13T16:00:00+00:00",
          "2023-03-13T17:00:00+00:00",
          "2023-03-13T18:00:00+00:00",
          "2023-03-13T19:00:00+00:00",
          "2023-03-13T21:00:00+00:00",
          "2023-03-13T23:00:00+00:00",
          "2023-03-14T02:00:00+00:00",
          "2023-03-14T03:00:00+00:00",
          "2023-03-14T04:00:00+00:00",
          "2023-03-14T07:00:00+00:00",
          "2023-03-14T08:00:00+00:00",
          "2023-03-14T09:00:00+00:00",
          "2023-03-14T10:00:00+00:00",
          "2023-03-14T11:00:00+00:00",
          "2023-03-14T12:00:00+00:00",
          "2023-03-14T13:00:00+00:00",
          "2023-03-14T14:00:00+00:00",
          "2023-03-14T16:00:00+00:00",
          "2023-03-14T17:00:00+00:00",
          "2023-03-14T18:00:00+00:00",
          "2023-03-14T22:00:00+00:00",
          "2023-03-15T01:00:00+00:00",
          "2023-03-15T03:00:00+00:00",
          "2023-03-15T06:00:00+00:00",
          "2023-03-15T07:00:00+00:00",
          "2023-03-15T09:00:00+00:00",
          "2023-03-15T10:00:00+00:00",
          "2023-03-15T11:00:00+00:00",
          "2023-03-15T12:00:00+00:00",
          "2023-03-15T13:00:00+00:00",
          "2023-03-15T19:00:00+00:00",
          "2023-03-15T22:00:00+00:00",
          "2023-03-16T01:00:00+00:00",
          "2023-03-16T09:00:00+00:00",
          "2023-03-16T10:00:00+00:00",
          "2023-03-16T12:00:00+00:00",
          "2023-03-16T14:00:00+00:00",
          "2023-03-16T15:00:00+00:00",
          "2023-03-16T16:00:00+00:00",
          "2023-03-16T17:00:00+00:00",
          "2023-03-16T18:00:00+00:00",
          "2023-03-16T19:00:00+00:00",
          "2023-03-16T21:00:00+00:00",
          "2023-03-16T22:00:00+00:00",
          "2023-03-16T23:00:00+00:00",
          "2023-03-17T06:00:00+00:00",
          "2023-03-17T07:00:00+00:00",
          "2023-03-17T10:00:00+00:00",
          "2023-03-17T11:00:00+00:00",
          "2023-03-17T12:00:00+00:00",
          "2023-03-17T13:00:00+00:00",
          "2023-03-17T14:00:00+00:00",
          "2023-03-17T16:00:00+00:00",
          "2023-03-17T18:00:00+00:00",
          "2023-03-17T20:00:00+00:00",
          "2023-03-19T23:00:00+00:00",
          "2023-03-20T00:00:00+00:00",
          "2023-03-20T01:00:00+00:00",
          "2023-03-20T02:00:00+00:00",
          "2023-03-20T03:00:00+00:00",
          "2023-03-20T04:00:00+00:00",
          "2023-03-20T06:00:00+00:00",
          "2023-03-20T08:00:00+00:00",
          "2023-03-20T09:00:00+00:00",
          "2023-03-20T10:00:00+00:00",
          "2023-03-20T12:00:00+00:00",
          "2023-03-20T13:00:00+00:00",
          "2023-03-20T14:00:00+00:00",
          "2023-03-20T15:00:00+00:00",
          "2023-03-20T18:00:00+00:00",
          "2023-03-20T20:00:00+00:00",
          "2023-03-21T00:00:00+00:00",
          "2023-03-21T01:00:00+00:00",
          "2023-03-21T04:00:00+00:00",
          "2023-03-21T06:00:00+00:00",
          "2023-03-21T07:00:00+00:00",
          "2023-03-21T08:00:00+00:00",
          "2023-03-21T09:00:00+00:00",
          "2023-03-21T10:00:00+00:00",
          "2023-03-21T11:00:00+00:00",
          "2023-03-21T13:00:00+00:00",
          "2023-03-21T15:00:00+00:00",
          "2023-03-21T16:00:00+00:00",
          "2023-03-21T20:00:00+00:00",
          "2023-03-22T04:00:00+00:00",
          "2023-03-22T05:00:00+00:00",
          "2023-03-22T06:00:00+00:00",
          "2023-03-22T07:00:00+00:00",
          "2023-03-22T09:00:00+00:00",
          "2023-03-22T10:00:00+00:00",
          "2023-03-22T11:00:00+00:00",
          "2023-03-22T13:00:00+00:00",
          "2023-03-22T14:00:00+00:00",
          "2023-03-22T15:00:00+00:00",
          "2023-03-22T17:00:00+00:00",
          "2023-03-22T18:00:00+00:00",
          "2023-03-22T19:00:00+00:00",
          "2023-03-22T20:00:00+00:00",
          "2023-03-22T21:00:00+00:00",
          "2023-03-23T02:00:00+00:00",
          "2023-03-23T05:00:00+00:00",
          "2023-03-23T07:00:00+00:00",
          "2023-03-23T08:00:00+00:00",
          "2023-03-23T12:00:00+00:00",
          "2023-03-23T14:00:00+00:00",
          "2023-03-23T15:00:00+00:00",
          "2023-03-23T16:00:00+00:00",
          "2023-03-23T18:00:00+00:00",
          "2023-03-23T19:00:00+00:00",
          "2023-03-23T20:00:00+00:00",
          "2023-03-23T21:00:00+00:00",
          "2023-03-23T23:00:00+00:00",
          "2023-03-24T00:00:00+00:00",
          "2023-03-24T05:00:00+00:00",
          "2023-03-24T09:00:00+00:00",
          "2023-03-24T14:00:00+00:00",
          "2023-03-24T15:00:00+00:00",
          "2023-03-24T17:00:00+00:00",
          "2023-03-24T18:00:00+00:00",
          "2023-03-24T19:00:00+00:00",
          "2023-03-26T21:00:00+00:00",
          "2023-03-26T23:00:00+00:00",
          "2023-03-27T00:00:00+00:00",
          "2023-03-27T01:00:00+00:00",
          "2023-03-27T03:00:00+00:00",
          "2023-03-27T04:00:00+00:00",
          "2023-03-27T05:00:00+00:00",
          "2023-03-27T06:00:00+00:00",
          "2023-03-27T07:00:00+00:00",
          "2023-03-27T08:00:00+00:00",
          "2023-03-27T09:00:00+00:00",
          "2023-03-27T10:00:00+00:00",
          "2023-03-27T12:00:00+00:00",
          "2023-03-27T13:00:00+00:00",
          "2023-03-27T16:00:00+00:00",
          "2023-03-27T23:00:00+00:00",
          "2023-03-28T01:00:00+00:00",
          "2023-03-28T03:00:00+00:00",
          "2023-03-28T04:00:00+00:00",
          "2023-03-28T05:00:00+00:00",
          "2023-03-28T06:00:00+00:00",
          "2023-03-28T08:00:00+00:00",
          "2023-03-28T09:00:00+00:00",
          "2023-03-28T10:00:00+00:00",
          "2023-03-28T11:00:00+00:00",
          "2023-03-28T15:00:00+00:00",
          "2023-03-28T16:00:00+00:00",
          "2023-03-28T17:00:00+00:00",
          "2023-03-28T20:00:00+00:00",
          "2023-03-29T00:00:00+00:00",
          "2023-03-29T02:00:00+00:00",
          "2023-03-29T07:00:00+00:00",
          "2023-03-29T08:00:00+00:00",
          "2023-03-29T09:00:00+00:00",
          "2023-03-29T10:00:00+00:00",
          "2023-03-29T14:00:00+00:00",
          "2023-03-29T15:00:00+00:00",
          "2023-03-29T16:00:00+00:00",
          "2023-03-29T17:00:00+00:00",
          "2023-03-29T20:00:00+00:00",
          "2023-03-30T01:00:00+00:00",
          "2023-03-30T07:00:00+00:00",
          "2023-03-30T08:00:00+00:00",
          "2023-03-30T09:00:00+00:00",
          "2023-03-30T10:00:00+00:00",
          "2023-03-30T11:00:00+00:00",
          "2023-03-30T12:00:00+00:00",
          "2023-03-30T14:00:00+00:00",
          "2023-03-30T16:00:00+00:00",
          "2023-03-30T17:00:00+00:00",
          "2023-03-30T18:00:00+00:00",
          "2023-03-30T19:00:00+00:00",
          "2023-03-30T22:00:00+00:00",
          "2023-03-31T08:00:00+00:00",
          "2023-03-31T09:00:00+00:00",
          "2023-03-31T10:00:00+00:00",
          "2023-03-31T11:00:00+00:00",
          "2023-03-31T12:00:00+00:00",
          "2023-03-31T13:00:00+00:00",
          "2023-03-31T14:00:00+00:00",
          "2023-03-31T15:00:00+00:00",
          "2023-03-31T16:00:00+00:00",
          "2023-03-31T17:00:00+00:00",
          "2023-03-31T18:00:00+00:00",
          "2023-03-31T19:00:00+00:00",
          "2023-04-02T21:00:00+00:00",
          "2023-04-02T22:00:00+00:00",
          "2023-04-03T01:00:00+00:00",
          "2023-04-03T02:00:00+00:00",
          "2023-04-03T07:00:00+00:00",
          "2023-04-03T09:00:00+00:00",
          "2023-04-03T10:00:00+00:00",
          "2023-04-03T11:00:00+00:00",
          "2023-04-03T12:00:00+00:00",
          "2023-04-03T13:00:00+00:00",
          "2023-04-03T15:00:00+00:00",
          "2023-04-03T16:00:00+00:00",
          "2023-04-03T17:00:00+00:00",
          "2023-04-03T18:00:00+00:00",
          "2023-04-03T19:00:00+00:00",
          "2023-04-03T20:00:00+00:00",
          "2023-04-03T21:00:00+00:00",
          "2023-04-03T22:00:00+00:00",
          "2023-04-04T02:00:00+00:00",
          "2023-04-04T03:00:00+00:00",
          "2023-04-04T08:00:00+00:00",
          "2023-04-04T09:00:00+00:00",
          "2023-04-04T11:00:00+00:00",
          "2023-04-04T13:00:00+00:00",
          "2023-04-04T14:00:00+00:00",
          "2023-04-04T15:00:00+00:00",
          "2023-04-04T16:00:00+00:00",
          "2023-04-04T17:00:00+00:00",
          "2023-04-04T19:00:00+00:00",
          "2023-04-04T23:00:00+00:00",
          "2023-04-05T00:00:00+00:00",
          "2023-04-05T02:00:00+00:00",
          "2023-04-05T03:00:00+00:00",
          "2023-04-05T04:00:00+00:00",
          "2023-04-05T08:00:00+00:00",
          "2023-04-05T09:00:00+00:00",
          "2023-04-05T10:00:00+00:00",
          "2023-04-05T11:00:00+00:00",
          "2023-04-05T12:00:00+00:00",
          "2023-04-05T13:00:00+00:00",
          "2023-04-05T14:00:00+00:00",
          "2023-04-05T15:00:00+00:00",
          "2023-04-05T16:00:00+00:00",
          "2023-04-05T18:00:00+00:00",
          "2023-04-05T19:00:00+00:00",
          "2023-04-05T21:00:00+00:00",
          "2023-04-05T23:00:00+00:00",
          "2023-04-06T00:00:00+00:00",
          "2023-04-06T01:00:00+00:00",
          "2023-04-06T02:00:00+00:00",
          "2023-04-06T03:00:00+00:00",
          "2023-04-06T04:00:00+00:00",
          "2023-04-06T06:00:00+00:00",
          "2023-04-06T08:00:00+00:00",
          "2023-04-06T09:00:00+00:00",
          "2023-04-06T10:00:00+00:00",
          "2023-04-06T11:00:00+00:00",
          "2023-04-06T12:00:00+00:00",
          "2023-04-06T13:00:00+00:00",
          "2023-04-06T14:00:00+00:00",
          "2023-04-06T16:00:00+00:00",
          "2023-04-06T17:00:00+00:00",
          "2023-04-06T18:00:00+00:00",
          "2023-04-06T22:00:00+00:00",
          "2023-04-07T06:00:00+00:00",
          "2023-04-07T08:00:00+00:00",
          "2023-04-07T09:00:00+00:00",
          "2023-04-07T10:00:00+00:00",
          "2023-04-07T11:00:00+00:00",
          "2023-04-07T12:00:00+00:00",
          "2023-04-07T13:00:00+00:00",
          "2023-04-07T14:00:00+00:00",
          "2023-04-07T15:00:00+00:00",
          "2023-04-07T16:00:00+00:00",
          "2023-04-07T20:00:00+00:00",
          "2023-04-09T21:00:00+00:00",
          "2023-04-09T22:00:00+00:00",
          "2023-04-09T23:00:00+00:00",
          "2023-04-10T00:00:00+00:00",
          "2023-04-10T01:00:00+00:00",
          "2023-04-10T02:00:00+00:00",
          "2023-04-10T06:00:00+00:00",
          "2023-04-10T07:00:00+00:00",
          "2023-04-10T09:00:00+00:00",
          "2023-04-10T10:00:00+00:00",
          "2023-04-10T11:00:00+00:00",
          "2023-04-10T12:00:00+00:00",
          "2023-04-10T13:00:00+00:00",
          "2023-04-10T14:00:00+00:00",
          "2023-04-10T17:00:00+00:00",
          "2023-04-10T20:00:00+00:00",
          "2023-04-10T21:00:00+00:00",
          "2023-04-11T00:00:00+00:00",
          "2023-04-11T01:00:00+00:00",
          "2023-04-11T03:00:00+00:00",
          "2023-04-11T05:00:00+00:00",
          "2023-04-11T06:00:00+00:00",
          "2023-04-11T07:00:00+00:00",
          "2023-04-11T08:00:00+00:00",
          "2023-04-11T09:00:00+00:00",
          "2023-04-11T10:00:00+00:00",
          "2023-04-11T11:00:00+00:00",
          "2023-04-11T12:00:00+00:00",
          "2023-04-11T13:00:00+00:00",
          "2023-04-11T14:00:00+00:00",
          "2023-04-11T16:00:00+00:00",
          "2023-04-11T20:00:00+00:00",
          "2023-04-12T00:00:00+00:00",
          "2023-04-12T04:00:00+00:00",
          "2023-04-12T08:00:00+00:00",
          "2023-04-12T09:00:00+00:00",
          "2023-04-12T10:00:00+00:00",
          "2023-04-12T12:00:00+00:00",
          "2023-04-12T13:00:00+00:00",
          "2023-04-12T14:00:00+00:00",
          "2023-04-12T16:00:00+00:00",
          "2023-04-12T19:00:00+00:00",
          "2023-04-13T04:00:00+00:00",
          "2023-04-13T05:00:00+00:00",
          "2023-04-13T06:00:00+00:00",
          "2023-04-13T08:00:00+00:00",
          "2023-04-13T09:00:00+00:00",
          "2023-04-13T12:00:00+00:00",
          "2023-04-13T13:00:00+00:00",
          "2023-04-13T14:00:00+00:00",
          "2023-04-13T15:00:00+00:00",
          "2023-04-13T17:00:00+00:00",
          "2023-04-13T18:00:00+00:00",
          "2023-04-13T20:00:00+00:00",
          "2023-04-13T23:00:00+00:00",
          "2023-04-14T00:00:00+00:00",
          "2023-04-14T10:00:00+00:00",
          "2023-04-14T11:00:00+00:00",
          "2023-04-14T12:00:00+00:00",
          "2023-04-14T13:00:00+00:00",
          "2023-04-14T14:00:00+00:00",
          "2023-04-14T15:00:00+00:00",
          "2023-04-14T17:00:00+00:00",
          "2023-04-17T02:00:00+00:00",
          "2023-04-17T12:00:00+00:00",
          "2023-04-17T13:00:00+00:00",
          "2023-04-17T16:00:00+00:00",
          "2023-04-17T17:00:00+00:00",
          "2023-04-17T18:00:00+00:00",
          "2023-04-17T19:00:00+00:00",
          "2023-04-17T22:00:00+00:00",
          "2023-04-18T00:00:00+00:00",
          "2023-04-18T02:00:00+00:00",
          "2023-04-18T03:00:00+00:00",
          "2023-04-18T05:00:00+00:00",
          "2023-04-18T06:00:00+00:00",
          "2023-04-18T07:00:00+00:00",
          "2023-04-18T08:00:00+00:00",
          "2023-04-18T09:00:00+00:00",
          "2023-04-18T10:00:00+00:00",
          "2023-04-18T11:00:00+00:00",
          "2023-04-18T14:00:00+00:00",
          "2023-04-18T15:00:00+00:00",
          "2023-04-18T16:00:00+00:00",
          "2023-04-18T17:00:00+00:00",
          "2023-04-18T18:00:00+00:00",
          "2023-04-18T19:00:00+00:00",
          "2023-04-18T22:00:00+00:00",
          "2023-04-19T00:00:00+00:00",
          "2023-04-19T01:00:00+00:00",
          "2023-04-19T04:00:00+00:00",
          "2023-04-19T05:00:00+00:00",
          "2023-04-19T06:00:00+00:00",
          "2023-04-19T07:00:00+00:00",
          "2023-04-19T08:00:00+00:00",
          "2023-04-19T09:00:00+00:00",
          "2023-04-19T11:00:00+00:00",
          "2023-04-19T12:00:00+00:00",
          "2023-04-19T13:00:00+00:00",
          "2023-04-19T14:00:00+00:00",
          "2023-04-19T15:00:00+00:00",
          "2023-04-19T19:00:00+00:00",
          "2023-04-19T20:00:00+00:00",
          "2023-04-19T22:00:00+00:00",
          "2023-04-19T23:00:00+00:00",
          "2023-04-20T00:00:00+00:00",
          "2023-04-20T01:00:00+00:00",
          "2023-04-20T02:00:00+00:00",
          "2023-04-20T03:00:00+00:00",
          "2023-04-20T05:00:00+00:00",
          "2023-04-20T06:00:00+00:00",
          "2023-04-20T07:00:00+00:00",
          "2023-04-20T08:00:00+00:00",
          "2023-04-20T09:00:00+00:00",
          "2023-04-20T10:00:00+00:00",
          "2023-04-20T11:00:00+00:00",
          "2023-04-20T12:00:00+00:00",
          "2023-04-20T14:00:00+00:00",
          "2023-04-20T16:00:00+00:00",
          "2023-04-20T17:00:00+00:00",
          "2023-04-20T19:00:00+00:00",
          "2023-04-20T20:00:00+00:00",
          "2023-04-20T22:00:00+00:00",
          "2023-04-21T01:00:00+00:00",
          "2023-04-21T03:00:00+00:00",
          "2023-04-21T04:00:00+00:00",
          "2023-04-21T06:00:00+00:00",
          "2023-04-21T10:00:00+00:00",
          "2023-04-21T12:00:00+00:00",
          "2023-04-21T14:00:00+00:00",
          "2023-04-21T15:00:00+00:00",
          "2023-04-21T16:00:00+00:00",
          "2023-04-21T17:00:00+00:00",
          "2023-04-21T18:00:00+00:00",
          "2023-04-21T19:00:00+00:00",
          "2023-04-23T23:00:00+00:00",
          "2023-04-24T00:00:00+00:00",
          "2023-04-24T01:00:00+00:00",
          "2023-04-24T04:00:00+00:00",
          "2023-04-24T06:00:00+00:00",
          "2023-04-24T09:00:00+00:00",
          "2023-04-24T14:00:00+00:00",
          "2023-04-24T15:00:00+00:00",
          "2023-04-24T16:00:00+00:00",
          "2023-04-24T17:00:00+00:00",
          "2023-04-24T20:00:00+00:00",
          "2023-04-24T21:00:00+00:00",
          "2023-04-24T23:00:00+00:00",
          "2023-04-25T02:00:00+00:00",
          "2023-04-25T03:00:00+00:00",
          "2023-04-25T04:00:00+00:00",
          "2023-04-25T05:00:00+00:00",
          "2023-04-25T06:00:00+00:00",
          "2023-04-25T07:00:00+00:00",
          "2023-04-25T08:00:00+00:00",
          "2023-04-25T09:00:00+00:00",
          "2023-04-25T10:00:00+00:00",
          "2023-04-25T11:00:00+00:00",
          "2023-04-25T12:00:00+00:00",
          "2023-04-25T13:00:00+00:00",
          "2023-04-25T14:00:00+00:00",
          "2023-04-25T17:00:00+00:00",
          "2023-04-25T18:00:00+00:00",
          "2023-04-25T21:00:00+00:00",
          "2023-04-25T23:00:00+00:00",
          "2023-04-26T00:00:00+00:00",
          "2023-04-26T01:00:00+00:00",
          "2023-04-26T02:00:00+00:00",
          "2023-04-26T03:00:00+00:00",
          "2023-04-26T04:00:00+00:00",
          "2023-04-26T05:00:00+00:00",
          "2023-04-26T06:00:00+00:00",
          "2023-04-26T07:00:00+00:00",
          "2023-04-26T08:00:00+00:00",
          "2023-04-26T09:00:00+00:00",
          "2023-04-26T10:00:00+00:00",
          "2023-04-26T13:00:00+00:00",
          "2023-04-26T14:00:00+00:00",
          "2023-04-26T15:00:00+00:00",
          "2023-04-26T16:00:00+00:00",
          "2023-04-26T17:00:00+00:00",
          "2023-04-26T18:00:00+00:00",
          "2023-04-26T19:00:00+00:00",
          "2023-04-26T20:00:00+00:00",
          "2023-04-26T23:00:00+00:00",
          "2023-04-27T02:00:00+00:00",
          "2023-04-27T03:00:00+00:00",
          "2023-04-27T04:00:00+00:00",
          "2023-04-27T05:00:00+00:00",
          "2023-04-27T06:00:00+00:00",
          "2023-04-27T07:00:00+00:00",
          "2023-04-27T09:00:00+00:00",
          "2023-04-27T11:00:00+00:00",
          "2023-04-27T12:00:00+00:00",
          "2023-04-27T13:00:00+00:00",
          "2023-04-27T15:00:00+00:00",
          "2023-04-27T16:00:00+00:00",
          "2023-04-27T17:00:00+00:00",
          "2023-04-28T00:00:00+00:00",
          "2023-04-28T01:00:00+00:00",
          "2023-04-28T04:00:00+00:00",
          "2023-04-28T05:00:00+00:00",
          "2023-04-28T06:00:00+00:00",
          "2023-04-28T07:00:00+00:00",
          "2023-04-28T08:00:00+00:00",
          "2023-04-28T09:00:00+00:00",
          "2023-04-28T10:00:00+00:00",
          "2023-04-28T11:00:00+00:00",
          "2023-04-28T13:00:00+00:00",
          "2023-04-28T14:00:00+00:00",
          "2023-04-28T15:00:00+00:00",
          "2023-04-28T16:00:00+00:00",
          "2023-04-28T20:00:00+00:00",
          "2023-04-30T22:00:00+00:00",
          "2023-04-30T23:00:00+00:00",
          "2023-05-01T01:00:00+00:00",
          "2023-05-01T03:00:00+00:00",
          "2023-05-01T05:00:00+00:00",
          "2023-05-01T07:00:00+00:00",
          "2023-05-01T09:00:00+00:00",
          "2023-05-01T10:00:00+00:00",
          "2023-05-01T11:00:00+00:00",
          "2023-05-01T12:00:00+00:00",
          "2023-05-01T14:00:00+00:00",
          "2023-05-01T15:00:00+00:00",
          "2023-05-01T16:00:00+00:00",
          "2023-05-01T17:00:00+00:00",
          "2023-05-01T22:00:00+00:00",
          "2023-05-02T02:00:00+00:00",
          "2023-05-02T03:00:00+00:00",
          "2023-05-02T04:00:00+00:00",
          "2023-05-02T05:00:00+00:00",
          "2023-05-02T08:00:00+00:00",
          "2023-05-02T09:00:00+00:00",
          "2023-05-02T11:00:00+00:00",
          "2023-05-02T13:00:00+00:00",
          "2023-05-02T14:00:00+00:00",
          "2023-05-02T16:00:00+00:00",
          "2023-05-02T17:00:00+00:00",
          "2023-05-03T02:00:00+00:00",
          "2023-05-03T08:00:00+00:00",
          "2023-05-03T10:00:00+00:00",
          "2023-05-03T14:00:00+00:00",
          "2023-05-03T16:00:00+00:00",
          "2023-05-03T17:00:00+00:00",
          "2023-05-03T22:00:00+00:00",
          "2023-05-03T23:00:00+00:00",
          "2023-05-04T02:00:00+00:00",
          "2023-05-04T03:00:00+00:00",
          "2023-05-04T07:00:00+00:00",
          "2023-05-04T08:00:00+00:00",
          "2023-05-04T09:00:00+00:00",
          "2023-05-04T10:00:00+00:00",
          "2023-05-04T11:00:00+00:00",
          "2023-05-04T12:00:00+00:00",
          "2023-05-04T13:00:00+00:00",
          "2023-05-04T15:00:00+00:00",
          "2023-05-04T16:00:00+00:00",
          "2023-05-04T17:00:00+00:00",
          "2023-05-04T20:00:00+00:00",
          "2023-05-05T03:00:00+00:00",
          "2023-05-05T06:00:00+00:00",
          "2023-05-05T07:00:00+00:00",
          "2023-05-05T09:00:00+00:00",
          "2023-05-05T12:00:00+00:00",
          "2023-05-05T14:00:00+00:00",
          "2023-05-05T18:00:00+00:00",
          "2023-05-05T20:00:00+00:00",
          "2023-05-07T21:00:00+00:00",
          "2023-05-07T22:00:00+00:00",
          "2023-05-08T01:00:00+00:00",
          "2023-05-08T05:00:00+00:00",
          "2023-05-08T06:00:00+00:00",
          "2023-05-08T08:00:00+00:00",
          "2023-05-08T09:00:00+00:00",
          "2023-05-08T10:00:00+00:00",
          "2023-05-08T11:00:00+00:00",
          "2023-05-08T12:00:00+00:00",
          "2023-05-08T14:00:00+00:00",
          "2023-05-08T17:00:00+00:00",
          "2023-05-08T18:00:00+00:00",
          "2023-05-08T19:00:00+00:00",
          "2023-05-08T21:00:00+00:00",
          "2023-05-08T22:00:00+00:00",
          "2023-05-09T01:00:00+00:00",
          "2023-05-09T03:00:00+00:00",
          "2023-05-09T04:00:00+00:00",
          "2023-05-09T05:00:00+00:00",
          "2023-05-09T07:00:00+00:00",
          "2023-05-09T08:00:00+00:00",
          "2023-05-09T11:00:00+00:00",
          "2023-05-09T13:00:00+00:00",
          "2023-05-09T14:00:00+00:00",
          "2023-05-09T15:00:00+00:00",
          "2023-05-09T16:00:00+00:00",
          "2023-05-09T17:00:00+00:00",
          "2023-05-09T18:00:00+00:00",
          "2023-05-09T19:00:00+00:00",
          "2023-05-09T20:00:00+00:00",
          "2023-05-09T21:00:00+00:00",
          "2023-05-09T23:00:00+00:00",
          "2023-05-10T01:00:00+00:00",
          "2023-05-10T02:00:00+00:00",
          "2023-05-10T03:00:00+00:00",
          "2023-05-10T04:00:00+00:00",
          "2023-05-10T05:00:00+00:00",
          "2023-05-10T06:00:00+00:00",
          "2023-05-10T07:00:00+00:00",
          "2023-05-10T08:00:00+00:00",
          "2023-05-10T10:00:00+00:00",
          "2023-05-10T11:00:00+00:00",
          "2023-05-10T12:00:00+00:00",
          "2023-05-10T13:00:00+00:00",
          "2023-05-10T14:00:00+00:00",
          "2023-05-10T15:00:00+00:00",
          "2023-05-10T17:00:00+00:00",
          "2023-05-10T18:00:00+00:00",
          "2023-05-10T19:00:00+00:00",
          "2023-05-10T20:00:00+00:00",
          "2023-05-10T21:00:00+00:00",
          "2023-05-11T03:00:00+00:00",
          "2023-05-11T04:00:00+00:00",
          "2023-05-11T06:00:00+00:00",
          "2023-05-11T08:00:00+00:00",
          "2023-05-11T10:00:00+00:00",
          "2023-05-11T11:00:00+00:00",
          "2023-05-11T12:00:00+00:00",
          "2023-05-11T13:00:00+00:00",
          "2023-05-11T14:00:00+00:00",
          "2023-05-11T15:00:00+00:00",
          "2023-05-11T16:00:00+00:00",
          "2023-05-11T17:00:00+00:00",
          "2023-05-12T01:00:00+00:00",
          "2023-05-12T02:00:00+00:00",
          "2023-05-12T05:00:00+00:00",
          "2023-05-12T08:00:00+00:00",
          "2023-05-12T10:00:00+00:00",
          "2023-05-12T12:00:00+00:00",
          "2023-05-12T13:00:00+00:00",
          "2023-05-12T14:00:00+00:00",
          "2023-05-12T15:00:00+00:00",
          "2023-05-12T16:00:00+00:00",
          "2023-05-12T17:00:00+00:00",
          "2023-05-14T21:00:00+00:00",
          "2023-05-14T22:00:00+00:00",
          "2023-05-15T00:00:00+00:00",
          "2023-05-15T03:00:00+00:00",
          "2023-05-15T04:00:00+00:00",
          "2023-05-15T06:00:00+00:00",
          "2023-05-15T07:00:00+00:00",
          "2023-05-15T08:00:00+00:00",
          "2023-05-15T09:00:00+00:00",
          "2023-05-15T10:00:00+00:00",
          "2023-05-15T11:00:00+00:00",
          "2023-05-15T12:00:00+00:00",
          "2023-05-15T13:00:00+00:00",
          "2023-05-15T14:00:00+00:00",
          "2023-05-15T17:00:00+00:00",
          "2023-05-15T19:00:00+00:00",
          "2023-05-15T20:00:00+00:00",
          "2023-05-16T02:00:00+00:00",
          "2023-05-16T06:00:00+00:00",
          "2023-05-16T07:00:00+00:00",
          "2023-05-16T08:00:00+00:00",
          "2023-05-16T09:00:00+00:00",
          "2023-05-16T12:00:00+00:00",
          "2023-05-16T13:00:00+00:00",
          "2023-05-16T14:00:00+00:00",
          "2023-05-16T15:00:00+00:00",
          "2023-05-16T16:00:00+00:00",
          "2023-05-16T18:00:00+00:00",
          "2023-05-16T19:00:00+00:00",
          "2023-05-16T23:00:00+00:00",
          "2023-05-17T01:00:00+00:00",
          "2023-05-17T02:00:00+00:00",
          "2023-05-17T03:00:00+00:00",
          "2023-05-17T04:00:00+00:00",
          "2023-05-17T06:00:00+00:00",
          "2023-05-17T07:00:00+00:00",
          "2023-05-17T08:00:00+00:00",
          "2023-05-17T10:00:00+00:00",
          "2023-05-17T11:00:00+00:00",
          "2023-05-17T12:00:00+00:00",
          "2023-05-17T17:00:00+00:00",
          "2023-05-17T18:00:00+00:00",
          "2023-05-17T21:00:00+00:00",
          "2023-05-17T22:00:00+00:00",
          "2023-05-18T01:00:00+00:00",
          "2023-05-18T02:00:00+00:00",
          "2023-05-18T06:00:00+00:00",
          "2023-05-18T08:00:00+00:00",
          "2023-05-18T09:00:00+00:00",
          "2023-05-18T12:00:00+00:00",
          "2023-05-18T13:00:00+00:00",
          "2023-05-18T14:00:00+00:00",
          "2023-05-18T16:00:00+00:00",
          "2023-05-18T19:00:00+00:00",
          "2023-05-18T23:00:00+00:00",
          "2023-05-19T02:00:00+00:00",
          "2023-05-19T03:00:00+00:00",
          "2023-05-19T05:00:00+00:00",
          "2023-05-19T06:00:00+00:00",
          "2023-05-19T07:00:00+00:00",
          "2023-05-19T08:00:00+00:00",
          "2023-05-19T09:00:00+00:00",
          "2023-05-19T10:00:00+00:00",
          "2023-05-19T11:00:00+00:00",
          "2023-05-19T12:00:00+00:00",
          "2023-05-19T13:00:00+00:00",
          "2023-05-19T15:00:00+00:00",
          "2023-05-19T17:00:00+00:00",
          "2023-05-21T22:00:00+00:00",
          "2023-05-21T23:00:00+00:00",
          "2023-05-22T03:00:00+00:00",
          "2023-05-22T04:00:00+00:00",
          "2023-05-22T05:00:00+00:00",
          "2023-05-22T07:00:00+00:00",
          "2023-05-22T08:00:00+00:00",
          "2023-05-22T10:00:00+00:00",
          "2023-05-22T11:00:00+00:00",
          "2023-05-22T12:00:00+00:00",
          "2023-05-22T14:00:00+00:00",
          "2023-05-22T15:00:00+00:00",
          "2023-05-22T16:00:00+00:00",
          "2023-05-22T18:00:00+00:00",
          "2023-05-22T19:00:00+00:00",
          "2023-05-22T20:00:00+00:00",
          "2023-05-22T22:00:00+00:00",
          "2023-05-22T23:00:00+00:00",
          "2023-05-23T00:00:00+00:00",
          "2023-05-23T01:00:00+00:00",
          "2023-05-23T03:00:00+00:00",
          "2023-05-23T05:00:00+00:00",
          "2023-05-23T06:00:00+00:00",
          "2023-05-23T07:00:00+00:00",
          "2023-05-23T08:00:00+00:00",
          "2023-05-23T09:00:00+00:00",
          "2023-05-23T11:00:00+00:00",
          "2023-05-23T12:00:00+00:00",
          "2023-05-23T14:00:00+00:00",
          "2023-05-23T15:00:00+00:00",
          "2023-05-23T16:00:00+00:00",
          "2023-05-23T18:00:00+00:00",
          "2023-05-23T20:00:00+00:00",
          "2023-05-23T21:00:00+00:00",
          "2023-05-23T22:00:00+00:00",
          "2023-05-24T00:00:00+00:00",
          "2023-05-24T01:00:00+00:00",
          "2023-05-24T02:00:00+00:00",
          "2023-05-24T03:00:00+00:00",
          "2023-05-24T06:00:00+00:00",
          "2023-05-24T07:00:00+00:00",
          "2023-05-24T08:00:00+00:00",
          "2023-05-24T09:00:00+00:00",
          "2023-05-24T10:00:00+00:00",
          "2023-05-24T11:00:00+00:00",
          "2023-05-24T12:00:00+00:00",
          "2023-05-24T13:00:00+00:00",
          "2023-05-24T15:00:00+00:00",
          "2023-05-24T17:00:00+00:00",
          "2023-05-24T20:00:00+00:00",
          "2023-05-24T22:00:00+00:00",
          "2023-05-25T05:00:00+00:00",
          "2023-05-25T07:00:00+00:00",
          "2023-05-25T08:00:00+00:00",
          "2023-05-25T09:00:00+00:00",
          "2023-05-25T10:00:00+00:00",
          "2023-05-25T11:00:00+00:00",
          "2023-05-25T13:00:00+00:00",
          "2023-05-25T15:00:00+00:00",
          "2023-05-25T22:00:00+00:00",
          "2023-05-25T23:00:00+00:00",
          "2023-05-26T01:00:00+00:00",
          "2023-05-26T02:00:00+00:00",
          "2023-05-26T03:00:00+00:00",
          "2023-05-26T04:00:00+00:00",
          "2023-05-26T05:00:00+00:00",
          "2023-05-26T06:00:00+00:00",
          "2023-05-26T07:00:00+00:00",
          "2023-05-26T08:00:00+00:00",
          "2023-05-26T09:00:00+00:00",
          "2023-05-26T10:00:00+00:00",
          "2023-05-26T11:00:00+00:00",
          "2023-05-26T12:00:00+00:00",
          "2023-05-26T13:00:00+00:00",
          "2023-05-26T14:00:00+00:00",
          "2023-05-26T15:00:00+00:00",
          "2023-05-26T16:00:00+00:00",
          "2023-05-26T17:00:00+00:00",
          "2023-05-26T18:00:00+00:00",
          "2023-05-26T20:00:00+00:00",
          "2023-05-28T21:00:00+00:00",
          "2023-05-29T00:00:00+00:00",
          "2023-05-29T02:00:00+00:00",
          "2023-05-29T03:00:00+00:00",
          "2023-05-29T04:00:00+00:00",
          "2023-05-29T07:00:00+00:00",
          "2023-05-29T08:00:00+00:00",
          "2023-05-29T09:00:00+00:00",
          "2023-05-29T10:00:00+00:00",
          "2023-05-29T11:00:00+00:00",
          "2023-05-29T12:00:00+00:00",
          "2023-05-29T15:00:00+00:00",
          "2023-05-29T16:00:00+00:00",
          "2023-05-29T18:00:00+00:00",
          "2023-05-29T21:00:00+00:00",
          "2023-05-29T23:00:00+00:00",
          "2023-05-30T00:00:00+00:00",
          "2023-05-30T01:00:00+00:00",
          "2023-05-30T02:00:00+00:00",
          "2023-05-30T03:00:00+00:00",
          "2023-05-30T05:00:00+00:00",
          "2023-05-30T06:00:00+00:00",
          "2023-05-30T07:00:00+00:00",
          "2023-05-30T08:00:00+00:00",
          "2023-05-30T09:00:00+00:00",
          "2023-05-30T10:00:00+00:00",
          "2023-05-30T11:00:00+00:00",
          "2023-05-30T13:00:00+00:00",
          "2023-05-30T14:00:00+00:00",
          "2023-05-30T15:00:00+00:00",
          "2023-05-30T16:00:00+00:00",
          "2023-05-30T17:00:00+00:00",
          "2023-05-30T18:00:00+00:00",
          "2023-05-30T23:00:00+00:00",
          "2023-05-31T00:00:00+00:00",
          "2023-05-31T01:00:00+00:00",
          "2023-05-31T02:00:00+00:00",
          "2023-05-31T03:00:00+00:00",
          "2023-05-31T06:00:00+00:00",
          "2023-05-31T08:00:00+00:00",
          "2023-05-31T14:00:00+00:00",
          "2023-05-31T15:00:00+00:00",
          "2023-05-31T16:00:00+00:00",
          "2023-05-31T17:00:00+00:00",
          "2023-05-31T19:00:00+00:00",
          "2023-05-31T20:00:00+00:00",
          "2023-05-31T21:00:00+00:00",
          "2023-05-31T22:00:00+00:00",
          "2023-05-31T23:00:00+00:00",
          "2023-06-01T01:00:00+00:00",
          "2023-06-01T03:00:00+00:00",
          "2023-06-01T07:00:00+00:00",
          "2023-06-01T08:00:00+00:00",
          "2023-06-01T09:00:00+00:00",
          "2023-06-01T10:00:00+00:00",
          "2023-06-01T11:00:00+00:00",
          "2023-06-01T12:00:00+00:00",
          "2023-06-01T13:00:00+00:00",
          "2023-06-01T14:00:00+00:00",
          "2023-06-01T16:00:00+00:00",
          "2023-06-01T17:00:00+00:00",
          "2023-06-01T18:00:00+00:00",
          "2023-06-01T19:00:00+00:00",
          "2023-06-01T20:00:00+00:00",
          "2023-06-01T21:00:00+00:00",
          "2023-06-01T23:00:00+00:00",
          "2023-06-02T02:00:00+00:00",
          "2023-06-02T03:00:00+00:00",
          "2023-06-02T06:00:00+00:00",
          "2023-06-02T08:00:00+00:00",
          "2023-06-02T10:00:00+00:00",
          "2023-06-02T12:00:00+00:00",
          "2023-06-02T13:00:00+00:00",
          "2023-06-02T14:00:00+00:00",
          "2023-06-02T15:00:00+00:00",
          "2023-06-02T17:00:00+00:00",
          "2023-06-04T21:00:00+00:00",
          "2023-06-05T01:00:00+00:00",
          "2023-06-05T04:00:00+00:00",
          "2023-06-05T07:00:00+00:00",
          "2023-06-05T08:00:00+00:00",
          "2023-06-05T09:00:00+00:00",
          "2023-06-05T10:00:00+00:00",
          "2023-06-05T12:00:00+00:00",
          "2023-06-05T13:00:00+00:00",
          "2023-06-05T14:00:00+00:00",
          "2023-06-05T15:00:00+00:00",
          "2023-06-05T16:00:00+00:00",
          "2023-06-05T17:00:00+00:00",
          "2023-06-05T19:00:00+00:00",
          "2023-06-05T20:00:00+00:00",
          "2023-06-05T22:00:00+00:00",
          "2023-06-06T02:00:00+00:00",
          "2023-06-06T03:00:00+00:00",
          "2023-06-06T07:00:00+00:00",
          "2023-06-06T08:00:00+00:00",
          "2023-06-06T10:00:00+00:00",
          "2023-06-06T12:00:00+00:00",
          "2023-06-06T13:00:00+00:00",
          "2023-06-06T14:00:00+00:00",
          "2023-06-06T16:00:00+00:00",
          "2023-06-06T17:00:00+00:00",
          "2023-06-06T18:00:00+00:00",
          "2023-06-06T19:00:00+00:00",
          "2023-06-06T20:00:00+00:00",
          "2023-06-06T21:00:00+00:00",
          "2023-06-06T23:00:00+00:00",
          "2023-06-07T00:00:00+00:00",
          "2023-06-07T01:00:00+00:00",
          "2023-06-07T02:00:00+00:00",
          "2023-06-07T03:00:00+00:00",
          "2023-06-07T04:00:00+00:00",
          "2023-06-07T05:00:00+00:00",
          "2023-06-07T06:00:00+00:00",
          "2023-06-07T07:00:00+00:00",
          "2023-06-07T09:00:00+00:00",
          "2023-06-07T10:00:00+00:00",
          "2023-06-07T11:00:00+00:00",
          "2023-06-07T12:00:00+00:00",
          "2023-06-07T14:00:00+00:00",
          "2023-06-07T15:00:00+00:00",
          "2023-06-07T16:00:00+00:00",
          "2023-06-07T17:00:00+00:00",
          "2023-06-08T01:00:00+00:00",
          "2023-06-08T03:00:00+00:00",
          "2023-06-08T04:00:00+00:00",
          "2023-06-08T05:00:00+00:00",
          "2023-06-08T07:00:00+00:00",
          "2023-06-08T08:00:00+00:00",
          "2023-06-08T09:00:00+00:00",
          "2023-06-08T10:00:00+00:00",
          "2023-06-08T11:00:00+00:00",
          "2023-06-08T12:00:00+00:00",
          "2023-06-08T13:00:00+00:00",
          "2023-06-08T14:00:00+00:00",
          "2023-06-08T15:00:00+00:00",
          "2023-06-08T16:00:00+00:00",
          "2023-06-08T18:00:00+00:00",
          "2023-06-08T19:00:00+00:00",
          "2023-06-08T23:00:00+00:00",
          "2023-06-09T00:00:00+00:00",
          "2023-06-09T01:00:00+00:00",
          "2023-06-09T02:00:00+00:00",
          "2023-06-09T06:00:00+00:00",
          "2023-06-09T07:00:00+00:00",
          "2023-06-09T09:00:00+00:00",
          "2023-06-09T10:00:00+00:00",
          "2023-06-09T11:00:00+00:00",
          "2023-06-09T14:00:00+00:00",
          "2023-06-09T15:00:00+00:00",
          "2023-06-09T16:00:00+00:00",
          "2023-06-12T03:00:00+00:00",
          "2023-06-12T06:00:00+00:00",
          "2023-06-12T07:00:00+00:00",
          "2023-06-12T08:00:00+00:00",
          "2023-06-12T09:00:00+00:00",
          "2023-06-12T10:00:00+00:00",
          "2023-06-12T11:00:00+00:00",
          "2023-06-12T13:00:00+00:00",
          "2023-06-12T14:00:00+00:00",
          "2023-06-12T15:00:00+00:00",
          "2023-06-12T16:00:00+00:00",
          "2023-06-12T18:00:00+00:00",
          "2023-06-12T19:00:00+00:00",
          "2023-06-13T02:00:00+00:00",
          "2023-06-13T04:00:00+00:00",
          "2023-06-13T05:00:00+00:00",
          "2023-06-13T06:00:00+00:00",
          "2023-06-13T07:00:00+00:00",
          "2023-06-13T08:00:00+00:00",
          "2023-06-13T09:00:00+00:00",
          "2023-06-13T12:00:00+00:00",
          "2023-06-13T13:00:00+00:00",
          "2023-06-13T14:00:00+00:00",
          "2023-06-13T15:00:00+00:00",
          "2023-06-13T16:00:00+00:00",
          "2023-06-13T23:00:00+00:00",
          "2023-06-14T05:00:00+00:00",
          "2023-06-14T06:00:00+00:00",
          "2023-06-14T09:00:00+00:00",
          "2023-06-14T10:00:00+00:00",
          "2023-06-14T11:00:00+00:00",
          "2023-06-14T12:00:00+00:00",
          "2023-06-14T13:00:00+00:00",
          "2023-06-14T14:00:00+00:00",
          "2023-06-14T19:00:00+00:00",
          "2023-06-14T21:00:00+00:00",
          "2023-06-14T22:00:00+00:00",
          "2023-06-14T23:00:00+00:00",
          "2023-06-15T01:00:00+00:00",
          "2023-06-15T02:00:00+00:00",
          "2023-06-15T03:00:00+00:00",
          "2023-06-15T04:00:00+00:00",
          "2023-06-15T05:00:00+00:00",
          "2023-06-15T06:00:00+00:00",
          "2023-06-15T07:00:00+00:00",
          "2023-06-15T08:00:00+00:00",
          "2023-06-15T09:00:00+00:00",
          "2023-06-15T10:00:00+00:00",
          "2023-06-15T11:00:00+00:00",
          "2023-06-15T12:00:00+00:00",
          "2023-06-15T13:00:00+00:00",
          "2023-06-15T15:00:00+00:00",
          "2023-06-15T16:00:00+00:00",
          "2023-06-15T18:00:00+00:00",
          "2023-06-16T01:00:00+00:00",
          "2023-06-16T05:00:00+00:00",
          "2023-06-16T10:00:00+00:00",
          "2023-06-16T11:00:00+00:00",
          "2023-06-16T12:00:00+00:00",
          "2023-06-16T14:00:00+00:00",
          "2023-06-16T15:00:00+00:00",
          "2023-06-16T16:00:00+00:00",
          "2023-06-16T17:00:00+00:00",
          "2023-06-16T18:00:00+00:00",
          "2023-06-16T20:00:00+00:00",
          "2023-06-19T00:00:00+00:00",
          "2023-06-19T03:00:00+00:00",
          "2023-06-19T06:00:00+00:00",
          "2023-06-19T07:00:00+00:00",
          "2023-06-19T08:00:00+00:00",
          "2023-06-19T10:00:00+00:00",
          "2023-06-19T11:00:00+00:00",
          "2023-06-19T13:00:00+00:00",
          "2023-06-19T15:00:00+00:00",
          "2023-06-19T16:00:00+00:00",
          "2023-06-19T17:00:00+00:00",
          "2023-06-19T19:00:00+00:00",
          "2023-06-19T20:00:00+00:00",
          "2023-06-20T00:00:00+00:00",
          "2023-06-20T01:00:00+00:00",
          "2023-06-20T02:00:00+00:00",
          "2023-06-20T03:00:00+00:00",
          "2023-06-20T05:00:00+00:00",
          "2023-06-20T06:00:00+00:00",
          "2023-06-20T07:00:00+00:00",
          "2023-06-20T08:00:00+00:00",
          "2023-06-20T09:00:00+00:00",
          "2023-06-20T14:00:00+00:00",
          "2023-06-20T15:00:00+00:00",
          "2023-06-20T20:00:00+00:00",
          "2023-06-21T01:00:00+00:00",
          "2023-06-21T02:00:00+00:00",
          "2023-06-21T03:00:00+00:00",
          "2023-06-21T04:00:00+00:00",
          "2023-06-21T05:00:00+00:00",
          "2023-06-21T06:00:00+00:00",
          "2023-06-21T07:00:00+00:00",
          "2023-06-21T08:00:00+00:00",
          "2023-06-21T09:00:00+00:00",
          "2023-06-21T10:00:00+00:00",
          "2023-06-21T11:00:00+00:00",
          "2023-06-21T12:00:00+00:00",
          "2023-06-21T13:00:00+00:00",
          "2023-06-21T14:00:00+00:00",
          "2023-06-21T16:00:00+00:00",
          "2023-06-21T17:00:00+00:00",
          "2023-06-21T22:00:00+00:00",
          "2023-06-21T23:00:00+00:00",
          "2023-06-22T01:00:00+00:00",
          "2023-06-22T03:00:00+00:00",
          "2023-06-22T04:00:00+00:00",
          "2023-06-22T05:00:00+00:00",
          "2023-06-22T08:00:00+00:00",
          "2023-06-22T09:00:00+00:00",
          "2023-06-22T10:00:00+00:00",
          "2023-06-22T11:00:00+00:00",
          "2023-06-22T14:00:00+00:00",
          "2023-06-22T15:00:00+00:00",
          "2023-06-22T16:00:00+00:00",
          "2023-06-22T18:00:00+00:00",
          "2023-06-22T20:00:00+00:00",
          "2023-06-22T22:00:00+00:00",
          "2023-06-22T23:00:00+00:00",
          "2023-06-23T02:00:00+00:00",
          "2023-06-23T04:00:00+00:00",
          "2023-06-23T07:00:00+00:00",
          "2023-06-23T08:00:00+00:00",
          "2023-06-23T09:00:00+00:00",
          "2023-06-23T12:00:00+00:00",
          "2023-06-23T14:00:00+00:00",
          "2023-06-23T16:00:00+00:00",
          "2023-06-23T17:00:00+00:00",
          "2023-06-23T18:00:00+00:00",
          "2023-06-25T21:00:00+00:00",
          "2023-06-25T23:00:00+00:00",
          "2023-06-26T00:00:00+00:00",
          "2023-06-26T01:00:00+00:00",
          "2023-06-26T02:00:00+00:00",
          "2023-06-26T05:00:00+00:00",
          "2023-06-26T07:00:00+00:00",
          "2023-06-26T08:00:00+00:00",
          "2023-06-26T09:00:00+00:00",
          "2023-06-26T10:00:00+00:00",
          "2023-06-26T11:00:00+00:00",
          "2023-06-26T12:00:00+00:00",
          "2023-06-26T13:00:00+00:00",
          "2023-06-26T15:00:00+00:00",
          "2023-06-26T16:00:00+00:00",
          "2023-06-26T17:00:00+00:00",
          "2023-06-26T18:00:00+00:00",
          "2023-06-26T19:00:00+00:00",
          "2023-06-26T20:00:00+00:00",
          "2023-06-26T22:00:00+00:00",
          "2023-06-26T23:00:00+00:00",
          "2023-06-27T00:00:00+00:00",
          "2023-06-27T01:00:00+00:00",
          "2023-06-27T03:00:00+00:00",
          "2023-06-27T04:00:00+00:00",
          "2023-06-27T05:00:00+00:00",
          "2023-06-27T06:00:00+00:00",
          "2023-06-27T08:00:00+00:00",
          "2023-06-27T10:00:00+00:00",
          "2023-06-27T11:00:00+00:00",
          "2023-06-27T12:00:00+00:00",
          "2023-06-27T13:00:00+00:00",
          "2023-06-27T14:00:00+00:00",
          "2023-06-27T15:00:00+00:00",
          "2023-06-27T17:00:00+00:00",
          "2023-06-27T22:00:00+00:00",
          "2023-06-28T00:00:00+00:00",
          "2023-06-28T01:00:00+00:00",
          "2023-06-28T03:00:00+00:00",
          "2023-06-28T06:00:00+00:00",
          "2023-06-28T09:00:00+00:00",
          "2023-06-28T10:00:00+00:00",
          "2023-06-28T11:00:00+00:00",
          "2023-06-28T12:00:00+00:00",
          "2023-06-28T15:00:00+00:00",
          "2023-06-28T16:00:00+00:00",
          "2023-06-28T17:00:00+00:00",
          "2023-06-28T18:00:00+00:00",
          "2023-06-28T19:00:00+00:00",
          "2023-06-29T00:00:00+00:00",
          "2023-06-29T03:00:00+00:00",
          "2023-06-29T04:00:00+00:00",
          "2023-06-29T06:00:00+00:00",
          "2023-06-29T07:00:00+00:00",
          "2023-06-29T08:00:00+00:00",
          "2023-06-29T09:00:00+00:00",
          "2023-06-29T10:00:00+00:00",
          "2023-06-29T11:00:00+00:00",
          "2023-06-29T12:00:00+00:00",
          "2023-06-29T13:00:00+00:00",
          "2023-06-29T14:00:00+00:00",
          "2023-06-29T15:00:00+00:00",
          "2023-06-29T16:00:00+00:00",
          "2023-06-29T18:00:00+00:00",
          "2023-06-29T21:00:00+00:00",
          "2023-06-30T00:00:00+00:00",
          "2023-06-30T01:00:00+00:00",
          "2023-06-30T07:00:00+00:00",
          "2023-06-30T08:00:00+00:00",
          "2023-06-30T11:00:00+00:00",
          "2023-06-30T16:00:00+00:00"
         ],
         "y": [
          520.7999999999995,
          1063.5999999999976,
          1217.3999999999971,
          1110.9999999999961,
          1112.8999999999953,
          1084.699999999997,
          1212.4999999999961,
          1233.7999999999959,
          1200.599999999996,
          1292.599999999995,
          1265.0999999999958,
          1217.0999999999967,
          1141.1999999999969,
          1115.299999999995,
          952.299999999994,
          745.9999999999948,
          669.9999999999932,
          676.3999999999929,
          606.6999999999937,
          493.99999999999255,
          467.3999999999926,
          478.79999999999177,
          584.9999999999902,
          558.3999999999911,
          444.8999999999891,
          490.499999999988,
          454.99999999998903,
          480.89999999999,
          523.9999999999903,
          523.7999999999902,
          701.3999999999879,
          645.3999999999875,
          576.9999999999877,
          527.5999999999877,
          523.5999999999885,
          502.79999999998773,
          328.2999999999881,
          286.2999999999893,
          263.89999999999026,
          244.89999999999014,
          206.79999999998924,
          176.59999999998902,
          156.69999999998967,
          169.8999999999896,
          312.79999999999006,
          296.9999999999887,
          88.69999999999027,
          56.09999999999093,
          61.0999999999926,
          6.49999999999239,
          -24.20000000000889,
          -12.300000000008648,
          -87.40000000000865,
          -47.70000000000836,
          -61.90000000000813,
          -167.50000000000716,
          -239.70000000000783,
          -375.300000000008,
          -357.1000000000065,
          -266.8000000000062,
          -212.40000000000376,
          -252.70000000000354,
          -262.1000000000058,
          -308.5000000000057,
          -314.8000000000089,
          -339.40000000001015,
          -364.2000000000092,
          -516.7000000000098,
          -539.10000000001,
          -629.8000000000089,
          -664.1000000000093,
          -737.6000000000098,
          -885.8000000000104,
          -964.2000000000095,
          -923.0000000000083,
          -888.7000000000079,
          -831.1000000000074,
          -851.5000000000056,
          -744.300000000005,
          -732.2000000000045,
          -672.6000000000038,
          -651.2000000000035,
          -684.2000000000043,
          -674.8000000000048,
          -720.3000000000033,
          -752.6000000000039,
          -711.9000000000027,
          -730.7000000000015,
          -667.5000000000027,
          -702.3000000000031,
          -682.7000000000036,
          -583.5000000000017,
          -600.6000000000009,
          -572.5000000000011,
          -540.8,
          -554.5,
          -542.1999999999994,
          -749.7999999999988,
          -746.8999999999987,
          -780.8999999999994,
          -718.8999999999993,
          -686.5999999999999,
          -639.0000000000016,
          -660.7000000000016,
          -683.7000000000006,
          -710.1000000000015,
          -748.4000000000015,
          -759.8000000000018,
          -790.4000000000024,
          -804.1000000000033,
          -565.9000000000016,
          -576.6000000000017,
          -449.4000000000022,
          -196.20000000000212,
          -162.1000000000041,
          -171.90000000000256,
          -306.60000000000065,
          -266.5000000000013,
          -367.3000000000004,
          -370.5999999999998,
          -284.4999999999997,
          -363.3000000000005,
          -404.9999999999995,
          -417.8000000000009,
          -508.6000000000007,
          -472.1999999999998,
          -491.1999999999996,
          -506.8999999999992,
          -287.2999999999994,
          -216.89999999999782,
          -135.4999999999978,
          -175.3999999999994,
          54.700000000002206,
          52.30000000000203,
          108.70000000000132,
          176.0000000000015,
          158.90000000000086,
          148.50000000000156,
          112.60000000000068,
          100.19999999999938,
          116.19999999999762,
          74.09999999999839,
          92.79999999999765,
          100.69999999999723,
          85.09999999999718,
          61.59999999999755,
          48.99999999999716,
          4.199999999997516,
          -15.700000000002955,
          -49.10000000000328,
          -109.40000000000475,
          -206.90000000000663,
          -228.30000000000695,
          -269.40000000000714,
          -320.40000000000373,
          -404.00000000000244,
          -435.40000000000316,
          -497.60000000000207,
          -510.40000000000157,
          -549.7000000000014,
          -511.10000000000167,
          -518.3000000000011,
          -464.20000000000084,
          -481.10000000000053,
          -398.4999999999992,
          -409.30000000000115,
          -421.4000000000027,
          -427.6000000000039,
          -322.8000000000037,
          -301.90000000000344,
          -348.2000000000057,
          -364.6000000000054,
          -441.80000000000604,
          -519.8000000000063,
          -600.8000000000085,
          -685.3000000000084,
          -625.5000000000097,
          -633.2000000000102,
          -678.4000000000096,
          -745.1000000000099,
          -797.6000000000097,
          -828.1000000000097,
          -677.3000000000077,
          -718.0000000000078,
          -502.10000000000645,
          -596.2000000000081,
          -549.7000000000073,
          -623.0000000000068,
          -607.0000000000057,
          -584.8000000000068,
          -606.5000000000068,
          -638.7000000000069,
          -653.9000000000069,
          -663.400000000007,
          -741.0000000000077,
          -689.6000000000081,
          -525.6000000000073,
          -527.7000000000078,
          -594.1000000000065,
          -608.6000000000071,
          -706.3000000000075,
          -739.7000000000078,
          -833.1000000000075,
          -1067.0000000000068,
          -1155.2000000000057,
          -1187.7000000000066,
          -1127.700000000009,
          -1151.100000000009,
          -1300.200000000009,
          -1489.3000000000077,
          -1599.3000000000068,
          -1566.9000000000065,
          -1450.3000000000065,
          -1225.2000000000062,
          -906.3000000000069,
          -917.1000000000066,
          -864.5000000000056,
          -692.7000000000053,
          -706.3000000000034,
          -723.100000000004,
          -671.9000000000038,
          -451.30000000000416,
          -459.70000000000476,
          -327.50000000000466,
          -343.10000000000434,
          -552.200000000003,
          -537.6000000000029,
          -501.700000000002,
          -555.1000000000032,
          -604.7000000000029,
          -598.7000000000024,
          -674.1000000000013,
          -690.9000000000025,
          -709.300000000002,
          -730.9000000000025,
          -769.100000000004,
          -776.9000000000041,
          -780.1000000000039,
          -1001.3000000000063,
          -1058.200000000004,
          -1093.1000000000004,
          -1157.2999999999993,
          -1170.299999999999,
          -1187.899999999999,
          -1200.799999999999,
          -1204.099999999996,
          -1142.4999999999952,
          -1137.8999999999946,
          -1034.8999999999946,
          -908.8999999999927,
          -821.5999999999937,
          -959.5999999999929,
          -983.3999999999934,
          -1018.7999999999932,
          -996.699999999995,
          -853.799999999997,
          -861.4999999999964,
          -840.2999999999952,
          -842.8999999999949,
          -834.4999999999945,
          -862.699999999995,
          -941.7999999999936,
          -945.5999999999933,
          -920.4999999999927,
          -947.4999999999909,
          -1003.8999999999918,
          -1027.4999999999895,
          -1015.0999999999897,
          -1086.9999999999918,
          -1130.2999999999915,
          -1164.3999999999921,
          -1266.599999999991,
          -1271.8999999999903,
          -1280.99999999999,
          -1331.9999999999889,
          -1365.1999999999882,
          -1402.6999999999882,
          -1422.299999999988,
          -1438.7999999999872,
          -1428.9999999999875,
          -1439.3999999999878,
          -1492.1999999999873,
          -1501.799999999987,
          -1607.9999999999866,
          -1672.399999999986,
          -1725.9999999999864,
          -1834.3999999999887,
          -1845.799999999989,
          -1960.5999999999915,
          -1966.3999999999926,
          -1984.1999999999925,
          -2011.199999999992,
          -2039.8999999999915,
          -2018.6999999999925,
          -2080.8999999999937,
          -2117.899999999994,
          -2137.7999999999934,
          -2125.199999999993,
          -2175.9999999999923,
          -2231.799999999991,
          -2226.8999999999905,
          -2233.3999999999896,
          -2247.49999999999,
          -2267.09999999999,
          -2347.599999999991,
          -2454.999999999992,
          -2586.2999999999925,
          -2523.9999999999927,
          -2518.3999999999915,
          -2541.2999999999915,
          -2545.3999999999915,
          -2570.599999999992,
          -2574.3999999999933,
          -2541.199999999992,
          -2523.1999999999944,
          -2496.2999999999934,
          -2499.6999999999957,
          -2544.7999999999965,
          -2598.599999999996,
          -2609.599999999996,
          -2679.1999999999966,
          -2795.4999999999977,
          -2960.300000000001,
          -2950.5000000000023,
          -2981.500000000003,
          -3057.600000000003,
          -3043.100000000002,
          -3083.3000000000056,
          -3105.5000000000045,
          -3237.0000000000045,
          -3234.700000000005,
          -3234.800000000005,
          -3244.700000000007,
          -3260.3000000000075,
          -3357.500000000008,
          -3387.500000000008,
          -3428.300000000007,
          -3497.800000000008,
          -3558.0000000000073,
          -3599.3000000000056,
          -3714.9000000000046,
          -3744.7000000000044,
          -3840.900000000006,
          -3973.100000000005,
          -3988.1000000000045,
          -3987.000000000005,
          -3998.6000000000045,
          -4070.8000000000034,
          -4169.000000000004,
          -4212.400000000005,
          -4263.600000000005,
          -4288.800000000006,
          -4290.600000000007,
          -4173.700000000007,
          -4179.200000000008,
          -4185.100000000008,
          -4188.900000000008,
          -4143.500000000008,
          -4148.900000000008,
          -4259.500000000008,
          -4187.900000000011,
          -4476.600000000013,
          -4546.200000000013,
          -4497.000000000012,
          -4511.600000000011,
          -4534.700000000012,
          -4535.600000000011,
          -4533.200000000011,
          -4340.1000000000095,
          -4267.6000000000095,
          -4212.000000000012,
          -4230.9000000000115,
          -4258.200000000011,
          -4279.200000000011,
          -4304.20000000001,
          -4177.400000000011,
          -4202.700000000013,
          -4070.6000000000126,
          -4039.200000000012,
          -3886.900000000012,
          -3929.40000000001,
          -3952.30000000001,
          -3987.2000000000103,
          -3859.70000000001,
          -3760.2000000000107,
          -3675.6000000000117,
          -3513.7000000000126,
          -3483.800000000012,
          -3523.1000000000117,
          -3568.9000000000115,
          -3593.6000000000113,
          -3631.200000000011,
          -3717.1000000000117,
          -3661.200000000012,
          -3513.800000000013,
          -3524.4000000000124,
          -3555.700000000012,
          -3601.800000000012,
          -3617.1000000000113,
          -3603.700000000011,
          -3604.2000000000107,
          -3597.500000000011,
          -3513.9000000000106,
          -3432.7000000000094,
          -3406.400000000009,
          -3346.6000000000076,
          -3362.8000000000084,
          -3402.3000000000084,
          -3413.3000000000084,
          -3431.700000000009,
          -3436.4000000000087,
          -3443.100000000008,
          -3481.200000000009,
          -3494.5000000000095,
          -3563.3000000000097,
          -3607.70000000001,
          -3624.1000000000085,
          -3730.9000000000087,
          -3746.5000000000064,
          -3709.200000000006,
          -3751.3000000000065,
          -3659.200000000006,
          -3572.5000000000045,
          -4025.700000000003,
          -4917.999999999997,
          -5196.899999999998,
          -5186.999999999997,
          -5184.999999999998,
          -5191,
          -5195.500000000001,
          -5079.600000000001,
          -5091.700000000001,
          -5106.099999999999,
          -5112.399999999999,
          -4476.899999999992,
          -4448.699999999993,
          -4574.899999999992,
          -4613.1999999999925,
          -4608.399999999994,
          -4612.599999999993,
          -4656.1999999999925,
          -4728.899999999993,
          -4775.699999999992,
          -4799.699999999992,
          -4562.999999999993,
          -4637.499999999993,
          -4639.099999999993,
          -4590.6999999999925,
          -4600.299999999993,
          -4623.299999999993,
          -4626.399999999993,
          -4691.699999999991,
          -4777.499999999988,
          -4797.799999999988,
          -4816.699999999989,
          -4857.799999999988,
          -4881.399999999989,
          -4906.799999999989,
          -4927.29999999999,
          -5010.999999999992,
          -5051.499999999992,
          -5167.399999999993,
          -5182.899999999992,
          -5181.299999999994,
          -5181.999999999994,
          -5180.9999999999945,
          -5008.999999999996,
          -4998.599999999997,
          -4948.499999999997,
          -4999.099999999998,
          -5022.899999999998,
          -5026.499999999997,
          -4850.899999999997,
          -4702.799999999997,
          -4718.599999999998,
          -4493.999999999996,
          -4536.699999999996,
          -4590.299999999997,
          -4639.5999999999985,
          -4556.8,
          -4612.200000000004,
          -4619.600000000004,
          -4603.600000000003,
          -4601.600000000003,
          -4621.000000000005,
          -4636.400000000005,
          -4510.200000000007,
          -4494.700000000006,
          -4490.700000000006,
          -4493.800000000007,
          -4672.300000000008,
          -4674.500000000008,
          -4695.100000000008,
          -4809.000000000008,
          -4811.400000000009,
          -4895.500000000008,
          -4922.800000000008,
          -4953.700000000009,
          -4962.200000000009,
          -4889.600000000009,
          -4917.20000000001,
          -5013.400000000009,
          -5013.0000000000055,
          -5037.400000000005,
          -5063.100000000006,
          -5065.300000000007,
          -5110.000000000008,
          -5148.200000000007,
          -5169.500000000006,
          -5157.000000000006,
          -4883.200000000006,
          -4891.400000000007,
          -4853.000000000007,
          -4438.000000000006,
          -3779.300000000003,
          -3820.5000000000036,
          -3828.9000000000033,
          -3629.9000000000033,
          -3861.1,
          -3885.9,
          -3631.499999999998,
          -3625.899999999999,
          -3668.399999999998,
          -3670.8999999999974,
          -3681.999999999997,
          -3692.8999999999974,
          -3711.8999999999974,
          -3854.5999999999976,
          -3887.5999999999985,
          -3912.599999999999,
          -3939.9,
          -4017.0000000000014,
          -4056.3,
          -4119.3,
          -4261.800000000002,
          -4269.300000000002,
          -4346.000000000002,
          -4362.900000000004,
          -4375.500000000005,
          -4458.900000000005,
          -4493.600000000006,
          -4494.600000000007,
          -4530.200000000007,
          -4604.900000000007,
          -4620.700000000007,
          -4611.900000000007,
          -4622.8000000000075,
          -4631.000000000008,
          -4661.000000000008,
          -4611.800000000006,
          -4636.600000000004,
          -4656.300000000005,
          -4687.000000000004,
          -4706.400000000002,
          -4733.400000000002,
          -4786.800000000003,
          -4819.800000000005,
          -4843.000000000004,
          -4942.300000000005,
          -5067.5000000000055,
          -5306.100000000008,
          -5506.800000000008,
          -5503.200000000009,
          -5540.100000000011,
          -5564.800000000008,
          -5538.500000000009,
          -5686.900000000009,
          -5706.800000000008,
          -5752.300000000007,
          -5837.5000000000055,
          -5839.600000000006,
          -5838.600000000006,
          -5676.000000000007,
          -5660.100000000005,
          -5663.800000000005,
          -5706.600000000004,
          -5620.800000000004,
          -5223.300000000006,
          -5295.100000000007,
          -5115.400000000009,
          -5101.700000000008,
          -5160.100000000009,
          -5106.300000000009,
          -4985.9000000000115,
          -4960.600000000011,
          -5072.500000000012,
          -5076.600000000012,
          -5069.700000000012,
          -5093.4000000000115,
          -5152.800000000011,
          -5129.20000000001,
          -5182.80000000001,
          -5268.000000000011,
          -5285.400000000011,
          -5323.40000000001,
          -5338.00000000001,
          -5420.6000000000095,
          -5549.300000000008,
          -5559.800000000008,
          -5693.100000000009,
          -5756.40000000001,
          -5809.800000000008,
          -5815.100000000009,
          -5930.200000000007,
          -5861.700000000007,
          -5852.700000000008,
          -5839.300000000008,
          -5887.000000000008,
          -5963.600000000009,
          -5993.200000000008,
          -6041.400000000009,
          -5968.700000000009,
          -5995.300000000009,
          -5844.8000000000075,
          -5781.500000000009,
          -5798.600000000008,
          -5801.8000000000075,
          -5811.100000000008,
          -5820.600000000008,
          -5842.200000000007,
          -5760.600000000007,
          -5807.8000000000075,
          -5826.600000000008,
          -5893.600000000007,
          -5919.500000000006,
          -5982.900000000008,
          -5872.200000000009,
          -5881.40000000001,
          -5831.700000000009,
          -5674.300000000009,
          -5682.400000000009,
          -5695.400000000009,
          -5716.300000000009,
          -5716.500000000009,
          -5732.000000000009,
          -5727.300000000009,
          -5718.600000000009,
          -5752.000000000007,
          -5777.600000000006,
          -5743.300000000006,
          -5788.700000000005,
          -5986.500000000006,
          -6031.700000000007,
          -6040.500000000006,
          -6049.300000000009,
          -6121.00000000001,
          -6150.000000000011,
          -6161.10000000001,
          -6168.20000000001,
          -6179.90000000001,
          -6228.700000000008,
          -6246.8000000000075,
          -6254.100000000007,
          -6256.100000000007,
          -6311.900000000006,
          -6325.300000000005,
          -6402.400000000005,
          -6356.200000000004,
          -6407.500000000004,
          -6361.300000000003,
          -6416.400000000003,
          -6385.500000000003,
          -6394.900000000003,
          -6356.700000000003,
          -5821.200000000002,
          -5857.700000000001,
          -5879.800000000001,
          -5900.400000000003,
          -5998.400000000003,
          -6062.800000000003,
          -4912.800000000005,
          -4623.2000000000035,
          -4623.500000000004,
          -4631.100000000005,
          -4655.100000000005,
          -4729.500000000005,
          -4775.800000000005,
          -4793.000000000005,
          -4863.400000000004,
          -4931.500000000003,
          -4927.500000000003,
          -4988.500000000003,
          -4986.000000000005,
          -5004.400000000004,
          -5029.2000000000035,
          -5022.200000000004,
          -5107.600000000002,
          -5145.400000000002,
          -5195.900000000002,
          -5184.600000000001,
          -5113.600000000001,
          -5311.4000000000015,
          -5389.499999999998,
          -5393.099999999998,
          -5295.999999999997,
          -5299.499999999995,
          -5306.599999999995,
          -5304.199999999994,
          -5369.699999999995,
          -5424.899999999997,
          -5436.399999999997,
          -5445.199999999997,
          -5396.999999999995,
          -5226.299999999997,
          -5341.9999999999945,
          -5353.899999999995,
          -5360.9999999999945,
          -5355.699999999995,
          -5358.899999999996,
          -5382.599999999996,
          -5394.399999999997,
          -5464.399999999996,
          -5497.899999999996,
          -5506.499999999995,
          -5525.099999999995,
          -5534.299999999996,
          -5499.899999999996,
          -5409.099999999996,
          -5420.399999999995,
          -5148.099999999994,
          -4949.599999999995,
          -5006.999999999995,
          -5077.599999999996,
          -5093.099999999995,
          -5225.999999999994,
          -5274.099999999994,
          -5575.399999999991,
          -5634.59999999999,
          -5659.3999999999905,
          -5784.19999999999,
          -5738.599999999991,
          -5875.499999999992,
          -6278.69999999999,
          -6331.09999999999,
          -6332.19999999999,
          -6286.299999999991,
          -6296.099999999991,
          -6337.89999999999,
          -6326.499999999989,
          -6195.39999999999,
          -6165.199999999988,
          -6127.899999999988,
          -6033.39999999999,
          -6067.799999999992,
          -6090.299999999991,
          -6119.99999999999,
          -6157.599999999991,
          -6083.199999999992,
          -6030.999999999992,
          -6050.999999999991,
          -5952.199999999991,
          -5975.49999999999,
          -5773.79999999999,
          -5566.399999999989,
          -5294.299999999986,
          -5306.999999999985,
          -5348.199999999986,
          -5312.999999999989,
          -5127.199999999989,
          -4975.599999999989,
          -4832.699999999988,
          -4806.999999999987,
          -4520.999999999987,
          -4496.799999999987,
          -4525.599999999988,
          -4571.0999999999885,
          -4571.399999999989,
          -4608.699999999989,
          -4620.499999999991,
          -4707.999999999991,
          -4711.399999999989,
          -4729.599999999988,
          -4729.999999999989,
          -4789.5999999999885,
          -4752.999999999988,
          -4794.599999999988,
          -4827.49999999999,
          -4834.99999999999,
          -4856.49999999999,
          -4926.99999999999,
          -4941.499999999989,
          -4948.099999999989,
          -4977.199999999989,
          -5208.799999999989,
          -5284.89999999999,
          -5356.599999999991,
          -5381.09999999999,
          -5390.299999999991,
          -5455.79999999999,
          -5651.39999999999,
          -5648.39999999999,
          -5712.29999999999,
          -5789.699999999988,
          -5810.99999999999,
          -5820.49999999999,
          -5823.099999999989,
          -5853.799999999989,
          -5864.999999999989,
          -6004.399999999988,
          -6070.399999999988,
          -6097.999999999987,
          -6133.799999999987,
          -6122.99999999999,
          -6156.59999999999,
          -6149.799999999994,
          -6236.499999999996,
          -6236.999999999996,
          -6205.699999999997,
          -6275.399999999999,
          -6305.7,
          -6320.3,
          -6346.400000000002,
          -6376.800000000003,
          -6425.300000000005,
          -6457.0000000000055,
          -6481.200000000005,
          -6452.200000000006,
          -6497.500000000006,
          -6505.700000000009,
          -6496.90000000001,
          -6471.400000000011,
          -6370.100000000011,
          -6386.800000000012,
          -6357.4000000000115,
          -6383.700000000011,
          -6404.300000000012,
          -6433.100000000012,
          -6458.500000000015,
          -6476.000000000016,
          -6551.3000000000175,
          -6576.900000000018,
          -6607.400000000019,
          -6616.200000000018,
          -6661.200000000017,
          -6685.900000000017,
          -6726.100000000019,
          -6768.700000000019,
          -6792.300000000019,
          -6809.9000000000215,
          -6826.100000000023,
          -6835.900000000023,
          -6859.300000000023,
          -6903.900000000022,
          -7091.000000000021,
          -7227.300000000024,
          -7224.2000000000235,
          -7359.300000000024,
          -7609.200000000025,
          -7621.600000000026,
          -7693.900000000024,
          -7847.300000000027,
          -7993.30000000003,
          -8058.1000000000295,
          -8065.30000000003,
          -8122.300000000029,
          -8129.900000000031,
          -8144.10000000003,
          -8046.900000000031,
          -8076.900000000031,
          -8209.100000000031,
          -8158.500000000031,
          -7885.9000000000315,
          -7861.100000000032,
          -7871.500000000033,
          -7718.000000000033,
          -7517.700000000033,
          -7531.800000000033,
          -7572.100000000031,
          -7675.80000000003,
          -7688.800000000032,
          -7728.000000000033,
          -7756.300000000031,
          -7764.800000000031,
          -7779.900000000031,
          -7832.4000000000315,
          -7896.600000000031,
          -7936.100000000032,
          -7957.900000000033,
          -7841.200000000035,
          -7865.500000000035,
          -7934.100000000036,
          -7939.500000000036,
          -8060.800000000036,
          -8095.100000000036,
          -8147.200000000035,
          -8271.900000000038,
          -8256.00000000004,
          -8381.60000000004,
          -8409.900000000041,
          -8418.20000000004,
          -8439.00000000004,
          -8464.800000000041,
          -8521.400000000041,
          -8514.700000000043,
          -8227.800000000041,
          -8301.40000000004,
          -8403.80000000004,
          -8327.700000000039,
          -8211.70000000004,
          -8071.600000000041,
          -7913.000000000042,
          -7931.600000000041,
          -7953.400000000042,
          -7963.000000000043,
          -7977.600000000044,
          -7985.900000000044,
          -8000.500000000043,
          -8139.200000000043,
          -8152.100000000043,
          -7953.800000000044,
          -8095.300000000044,
          -8069.200000000046,
          -8161.000000000047,
          -7850.200000000048,
          -7575.000000000051,
          -7473.400000000049,
          -7363.70000000005,
          -7360.800000000051,
          -7393.9000000000515,
          -7300.4000000000515,
          -7306.700000000052,
          -7339.300000000052,
          -7336.9000000000515,
          -7342.100000000051,
          -7337.300000000051,
          -7308.500000000051,
          -7315.200000000053,
          -7349.100000000054,
          -7420.200000000054,
          -7449.400000000055,
          -7354.600000000056,
          -7411.300000000057,
          -7195.900000000056,
          -7170.600000000057,
          -7118.800000000057,
          -7142.600000000056,
          -7132.300000000054,
          -7213.400000000055,
          -7221.300000000056,
          -7177.700000000055,
          -7254.5000000000555,
          -7153.900000000056,
          -7151.700000000055,
          -7154.400000000056,
          -7170.400000000057,
          -7180.500000000056,
          -7195.100000000057,
          -7244.600000000057,
          -7166.100000000058,
          -7143.400000000057,
          -7141.600000000058,
          -7148.300000000056,
          -7157.300000000055,
          -7272.100000000053,
          -7277.500000000054,
          -7250.800000000054,
          -7272.600000000055,
          -7253.600000000055,
          -7260.900000000055,
          -7268.800000000056,
          -7404.0000000000555,
          -7400.600000000056,
          -7462.300000000055,
          -7504.300000000055,
          -7523.300000000055,
          -7534.000000000055,
          -7564.300000000056,
          -7719.900000000057,
          -7703.100000000057,
          -7861.300000000057,
          -7896.100000000057,
          -7862.100000000056,
          -7816.700000000056,
          -7810.500000000057,
          -7816.700000000056,
          -7791.500000000058,
          -8111.40000000006,
          -8115.700000000057,
          -8053.900000000056,
          -8043.5000000000555,
          -8053.300000000056,
          -8043.900000000054,
          -8061.800000000054,
          -7961.900000000055,
          -7990.300000000055,
          -7929.700000000054,
          -7952.900000000054,
          -7795.900000000055,
          -7714.900000000055,
          -7328.900000000057,
          -7322.700000000056,
          -7315.300000000057,
          -7318.900000000057,
          -7286.000000000058,
          -7259.40000000006,
          -7313.900000000061,
          -7297.500000000062,
          -7301.4000000000615,
          -7325.500000000062,
          -7214.800000000063,
          -7257.000000000063,
          -7303.500000000062,
          -7328.700000000062,
          -7299.700000000062,
          -7321.900000000061,
          -7287.40000000006,
          -7299.200000000059,
          -7308.900000000059,
          -7273.900000000058,
          -7196.200000000058,
          -7250.000000000057,
          -7276.200000000059,
          -7276.200000000059,
          -7283.8000000000575,
          -7294.800000000058,
          -7296.600000000057,
          -7293.500000000055,
          -7326.200000000054,
          -7225.700000000055,
          -7187.800000000056,
          -7155.500000000056,
          -7200.900000000056,
          -7153.200000000056,
          -7213.100000000057,
          -7198.500000000056,
          -7246.600000000056,
          -7289.700000000056,
          -7299.600000000057,
          -7508.400000000058,
          -7524.200000000058,
          -7575.20000000006,
          -7641.800000000061,
          -7622.10000000006,
          -7512.7000000000635,
          -7442.600000000062,
          -7497.500000000062,
          -7543.600000000062,
          -7592.9000000000615,
          -7625.100000000061,
          -7622.200000000061,
          -7619.300000000061,
          -7646.60000000006,
          -7667.700000000059,
          -7681.10000000006,
          -7689.9000000000615,
          -7710.700000000061,
          -7727.900000000061,
          -7756.100000000061,
          -7684.600000000063,
          -7602.300000000062,
          -7609.00000000006,
          -7583.700000000061,
          -7578.9000000000615,
          -7549.100000000061,
          -7553.500000000061,
          -7575.30000000006,
          -7590.600000000059,
          -7585.700000000057,
          -7647.600000000058,
          -7655.200000000057,
          -7754.8000000000575,
          -7781.3000000000575,
          -7794.800000000057,
          -7831.800000000057,
          -7920.600000000058,
          -8030.800000000057,
          -8057.900000000058,
          -8064.900000000057,
          -7933.400000000057,
          -7939.800000000057,
          -7917.0000000000555,
          -7926.600000000055,
          -7802.600000000055,
          -7879.0000000000555,
          -7776.100000000054,
          -7771.600000000053,
          -7816.000000000046,
          -7837.100000000046,
          -7816.800000000046,
          -7762.5000000000455,
          -7782.700000000045,
          -7853.100000000045,
          -7897.500000000045,
          -7882.600000000045,
          -7978.100000000047,
          -8009.300000000047,
          -7986.000000000046,
          -8016.000000000047,
          -8003.600000000046,
          -8027.300000000046,
          -7943.100000000047,
          -7961.400000000047,
          -7892.900000000047,
          -7861.500000000046,
          -7904.700000000045,
          -7813.400000000043,
          -7880.80000000004,
          -7884.6000000000395,
          -7921.400000000039,
          -7847.800000000038,
          -7801.200000000036,
          -7801.600000000037,
          -7819.200000000035,
          -7849.300000000034,
          -7878.600000000033,
          -7900.800000000034,
          -7963.600000000034,
          -7983.000000000034,
          -7955.100000000032,
          -7959.900000000032,
          -7963.000000000033,
          -7982.800000000033,
          -8023.700000000032,
          -8126.400000000032,
          -8154.600000000033,
          -8216.100000000033,
          -8242.900000000032,
          -8257.800000000032,
          -8276.400000000032,
          -8282.900000000032,
          -8288.300000000032,
          -8248.500000000033,
          -8194.300000000032,
          -7940.50000000003,
          -7736.1000000000295,
          -7613.400000000031,
          -7615.600000000033,
          -7634.200000000033,
          -7665.500000000033,
          -7635.600000000031,
          -7656.200000000031,
          -7684.800000000031,
          -7708.800000000032,
          -7686.600000000033,
          -7527.300000000031,
          -7501.500000000031,
          -7422.700000000031,
          -7446.000000000031,
          -7453.700000000031,
          -7470.00000000003,
          -7483.200000000031,
          -7505.100000000031,
          -7569.900000000031,
          -7581.700000000032,
          -7459.100000000031,
          -7501.700000000031,
          -7534.50000000003,
          -7468.40000000003,
          -7291.60000000003,
          -7314.60000000003,
          -7290.80000000003,
          -7301.20000000003,
          -7112.80000000003,
          -7195.300000000031,
          -7226.80000000003,
          -7279.00000000003,
          -7226.50000000003,
          -7274.300000000031,
          -7298.900000000032,
          -7312.300000000035,
          -7386.400000000036,
          -7417.900000000036,
          -7461.800000000035,
          -7315.100000000035,
          -7299.500000000035,
          -7281.600000000034,
          -7261.700000000033,
          -7268.200000000033,
          -7311.000000000033,
          -7320.000000000033,
          -7327.500000000035,
          -7331.900000000035,
          -7370.0000000000355,
          -7330.100000000038,
          -7314.900000000038,
          -7315.500000000037,
          -7244.600000000037,
          -7251.400000000038,
          -7210.200000000038,
          -7207.800000000037,
          -7208.300000000037,
          -7233.8000000000375,
          -7246.900000000038,
          -7170.200000000038,
          -7168.600000000038,
          -7177.900000000038,
          -7156.800000000038,
          -7100.600000000037,
          -7006.700000000037,
          -6862.200000000036,
          -6834.800000000036,
          -6817.600000000036,
          -6681.200000000035,
          -6673.100000000033,
          -6717.500000000033,
          -6765.000000000035,
          -6767.700000000035,
          -6782.100000000035,
          -6783.300000000035,
          -6775.700000000035,
          -6832.100000000038,
          -6747.600000000038,
          -6760.000000000036,
          -6810.200000000037,
          -6783.500000000036,
          -6765.600000000036,
          -6807.400000000037,
          -6863.100000000036,
          -6873.000000000035,
          -6953.2000000000335,
          -6999.800000000031,
          -7012.700000000032,
          -7041.9000000000315,
          -7077.10000000003,
          -7145.900000000031,
          -7163.60000000003,
          -7167.400000000031,
          -7017.100000000032,
          -7041.400000000033,
          -7059.0000000000355,
          -7109.100000000033,
          -7142.000000000034,
          -6997.800000000033,
          -6861.800000000036,
          -6664.300000000034,
          -6694.000000000034,
          -6736.300000000034,
          -6809.500000000035,
          -6877.700000000033,
          -6778.300000000033,
          -6805.300000000034,
          -6902.5000000000355,
          -6920.700000000034,
          -6976.600000000034,
          -7056.000000000034,
          -7050.100000000031,
          -7091.500000000029,
          -7005.400000000031,
          -6637.70000000003,
          -6298.700000000029,
          -6058.500000000028,
          -6107.700000000026,
          -6063.700000000026,
          -5784.100000000024,
          -5787.000000000023,
          -5599.300000000025,
          -5654.300000000026,
          -5714.000000000024,
          -5734.000000000024,
          -5754.7000000000235,
          -5776.400000000023,
          -5790.7000000000235,
          -5615.500000000024,
          -5661.300000000024,
          -5720.700000000024,
          -5753.500000000025,
          -5709.600000000023,
          -5744.600000000024,
          -5777.200000000024,
          -5794.800000000026,
          -5795.700000000027,
          -5844.600000000028,
          -6025.500000000027,
          -6093.500000000026,
          -6213.500000000026,
          -6205.800000000027,
          -6111.900000000027,
          -6026.700000000027,
          -6030.600000000026,
          -6029.700000000027,
          -6075.500000000027,
          -6132.400000000026,
          -6090.800000000027,
          -6025.000000000026,
          -6136.000000000026,
          -6260.100000000027,
          -6316.600000000026,
          -6316.400000000026,
          -6439.000000000027,
          -6426.3000000000275,
          -6485.100000000029,
          -6507.6000000000295,
          -6548.6000000000295,
          -6596.000000000029,
          -6719.300000000029,
          -6812.600000000028,
          -6835.900000000028,
          -6847.000000000028,
          -7007.000000000027,
          -7158.20000000003,
          -7279.00000000003,
          -7437.700000000029,
          -7468.300000000029,
          -7512.50000000003,
          -7584.60000000003,
          -7451.300000000031,
          -7543.9000000000315,
          -7413.300000000032,
          -7456.700000000033,
          -7479.500000000033,
          -7527.7000000000335,
          -7544.7000000000335,
          -7564.800000000033,
          -7841.000000000033,
          -7895.900000000032,
          -7869.100000000031,
          -7755.4000000000315,
          -7600.100000000036,
          -7876.200000000038,
          -8003.900000000039,
          -8018.300000000038,
          -7917.50000000004,
          -7947.10000000004,
          -7980.30000000004,
          -8006.60000000004,
          -7823.900000000039,
          -7898.00000000004,
          -7764.200000000041,
          -7600.300000000042,
          -7822.7000000000435,
          -7978.5000000000455,
          -8078.600000000046,
          -8057.800000000047,
          -7989.400000000047,
          -7863.300000000046,
          -7857.100000000046,
          -7612.600000000047,
          -7614.700000000046,
          -7662.700000000048,
          -7585.900000000051,
          -7700.100000000051,
          -7724.100000000051,
          -7783.500000000052,
          -7813.500000000052,
          -7842.9000000000515,
          -7876.300000000052,
          -7919.700000000052,
          -7949.300000000052,
          -7964.900000000052,
          -8030.700000000051,
          -8097.70000000005,
          -7622.900000000048,
          -7660.3000000000475,
          -7667.100000000048,
          -7623.3000000000475,
          -7655.1000000000495,
          -7663.500000000049,
          -7697.900000000049,
          -7825.50000000005,
          -7850.900000000051,
          -7880.6000000000495,
          -7897.000000000049,
          -7944.50000000005,
          -7960.9000000000515,
          -8014.500000000052,
          -8050.400000000052,
          -7956.900000000055,
          -7944.900000000055,
          -7938.200000000054,
          -7909.900000000052,
          -7837.100000000053,
          -7860.700000000054,
          -7924.200000000055,
          -7949.800000000056,
          -7974.600000000056,
          -8002.400000000056,
          -7942.200000000056,
          -7902.700000000056,
          -8022.200000000057,
          -8079.600000000057,
          -8209.700000000057,
          -8212.900000000058,
          -8170.000000000059,
          -8157.900000000059,
          -8223.30000000006,
          -8201.200000000059,
          -8154.000000000059,
          -8163.4000000000615,
          -8209.800000000061,
          -8273.30000000006,
          -8331.80000000006,
          -8331.100000000059,
          -8392.600000000059,
          -8396.700000000059,
          -8449.700000000059,
          -8490.80000000006,
          -8252.50000000006,
          -8199.300000000057,
          -8178.500000000057,
          -7996.90000000006,
          -7972.90000000006,
          -7812.300000000059,
          -7801.400000000059,
          -7735.000000000059,
          -7822.700000000059,
          -7908.100000000057,
          -7928.700000000056,
          -7930.600000000055,
          -7928.500000000054,
          -7949.600000000052,
          -7887.700000000053,
          -7894.700000000054,
          -7771.900000000053,
          -7594.100000000054,
          -7611.900000000054,
          -7619.400000000053,
          -7571.100000000053,
          -7580.7000000000535,
          -7425.300000000053,
          -7424.100000000053,
          -7365.400000000052,
          -7380.9000000000515,
          -7426.900000000051,
          -7405.100000000052,
          -7266.800000000052,
          -7268.800000000052,
          -7238.400000000052,
          -7294.000000000054,
          -7392.900000000053,
          -7403.900000000052,
          -7436.2000000000535,
          -7391.700000000053,
          -7147.0000000000555,
          -7210.700000000054,
          -7254.300000000054,
          -7299.700000000052,
          -7068.700000000052,
          -6889.500000000052,
          -6821.40000000005,
          -6821.1000000000495,
          -6708.300000000051,
          -6502.500000000052,
          -6512.200000000052,
          -6467.500000000052,
          -6511.700000000053,
          -6527.100000000052,
          -6535.600000000052,
          -6579.700000000053,
          -6594.400000000053,
          -6580.2000000000535,
          -6593.500000000054,
          -6616.300000000054,
          -6605.800000000055,
          -6601.5000000000555,
          -6625.600000000056,
          -6639.400000000055,
          -6642.400000000055,
          -6705.800000000056,
          -6732.300000000056,
          -6744.100000000055,
          -6820.900000000059,
          -6862.500000000057,
          -6806.800000000058,
          -6799.100000000059,
          -6832.500000000057,
          -6877.200000000057,
          -6922.200000000058,
          -6841.100000000058,
          -6864.300000000058,
          -6917.90000000006,
          -6965.300000000058,
          -7104.400000000057,
          -7099.6000000000595,
          -7183.900000000058,
          -7286.900000000061,
          -7254.30000000006,
          -7264.500000000061,
          -7311.300000000063,
          -7333.200000000065,
          -7374.200000000065,
          -7468.400000000067,
          -7612.600000000068,
          -7502.400000000067,
          -7516.800000000067,
          -7536.900000000063,
          -7537.800000000064,
          -7559.5000000000655,
          -7593.300000000065,
          -7591.800000000065,
          -7603.800000000065,
          -7599.800000000066,
          -7536.200000000068,
          -7492.000000000067,
          -7519.000000000068,
          -7585.6000000000695,
          -7601.3000000000675,
          -7699.0000000000655,
          -7788.600000000064,
          -7909.100000000062,
          -7965.700000000063,
          -7896.400000000061,
          -7741.800000000064,
          -7748.400000000064,
          -7581.900000000067,
          -7609.000000000068,
          -7631.600000000068,
          -7659.500000000067,
          -7769.200000000066,
          -7887.200000000066,
          -7983.900000000067,
          -7928.600000000068,
          -7935.600000000068,
          -8034.600000000068,
          -8084.700000000067,
          -8106.600000000066,
          -8120.000000000067,
          -8177.000000000067,
          -8208.200000000068,
          -8230.100000000068,
          -8238.50000000007,
          -8261.60000000007,
          -8271.60000000007,
          -8282.10000000007,
          -8208.20000000007,
          -8158.00000000007,
          -8080.400000000071,
          -8061.70000000007,
          -7929.50000000007,
          -7960.70000000007,
          -7754.50000000007,
          -7741.100000000071,
          -7759.9000000000715,
          -7522.700000000073,
          -7541.900000000074,
          -7540.300000000075,
          -7531.800000000075,
          -7562.300000000075,
          -7573.600000000076,
          -7570.600000000076,
          -7572.700000000076,
          -7559.5000000000755,
          -7591.100000000075,
          -7644.300000000075,
          -7697.700000000075,
          -7725.300000000074,
          -7731.200000000073,
          -7727.900000000074,
          -7499.200000000072,
          -7501.4000000000715,
          -7500.4000000000715,
          -7545.300000000071,
          -7554.30000000007,
          -7540.70000000007,
          -7552.10000000007,
          -7535.50000000007,
          -7497.800000000069,
          -7497.000000000071,
          -7506.200000000072,
          -7559.800000000072,
          -7642.800000000071,
          -7738.000000000072,
          -7440.6000000000695,
          -7495.500000000069,
          -7537.90000000007,
          -7540.30000000007,
          -7559.90000000007,
          -7444.700000000071,
          -7461.800000000072,
          -7479.600000000073,
          -7413.2000000000735,
          -7216.700000000076,
          -7080.700000000075,
          -6875.400000000075,
          -6874.000000000076,
          -6866.000000000077,
          -6891.500000000076,
          -6938.500000000076,
          -6953.300000000076,
          -6937.200000000075,
          -6928.400000000076,
          -6962.400000000076,
          -7000.0000000000755,
          -7013.5000000000755,
          -6976.300000000076,
          -6991.400000000075,
          -6991.600000000075,
          -7034.700000000075,
          -7046.0000000000755,
          -7158.100000000074,
          -7155.700000000075,
          -7144.100000000075,
          -7252.300000000077,
          -7261.800000000077,
          -7280.800000000077,
          -7334.000000000077,
          -7220.300000000077,
          -7135.600000000079,
          -7076.500000000082,
          -6893.900000000082,
          -6931.9000000000815,
          -6975.200000000081,
          -7012.300000000082,
          -6857.700000000083,
          -6883.600000000084,
          -6859.300000000085,
          -6873.500000000085,
          -6876.900000000083,
          -6653.0000000000855,
          -6527.100000000089,
          -6467.90000000009,
          -6265.600000000088,
          -6262.900000000088,
          -6267.700000000088,
          -6118.8000000000875,
          -6135.000000000087,
          -6137.600000000088,
          -6113.200000000087,
          -6098.400000000088,
          -6132.000000000086,
          -6123.200000000086,
          -6137.500000000086,
          -6160.000000000083,
          -6146.000000000083,
          -6180.200000000081,
          -6196.500000000079,
          -6198.200000000079,
          -6056.100000000078,
          -6068.700000000078,
          -5804.3000000000775,
          -5844.100000000079,
          -5844.8000000000775,
          -5856.600000000079,
          -5722.000000000078,
          -5738.900000000078,
          -5708.90000000008,
          -5598.100000000076,
          -5632.0000000000755,
          -5664.400000000076,
          -5675.900000000072,
          -5686.300000000071,
          -5650.90000000007,
          -5384.400000000072,
          -5412.100000000072,
          -5457.000000000072,
          -5470.4000000000715,
          -5476.800000000071,
          -5514.600000000071,
          -5569.700000000069,
          -5525.000000000069,
          -5657.6000000000695,
          -5678.400000000068,
          -5689.700000000067,
          -5655.900000000068,
          -5563.100000000069,
          -5413.40000000007,
          -5355.800000000069,
          -5410.8000000000675,
          -5361.700000000068,
          -5291.800000000068,
          -5298.100000000069,
          -5299.70000000007,
          -5317.300000000069,
          -5339.10000000007,
          -5307.900000000069,
          -5239.300000000071,
          -5232.70000000007,
          -5229.100000000069,
          -5235.40000000007,
          -5264.000000000069,
          -5287.800000000069,
          -5291.300000000069,
          -5295.300000000069,
          -5294.700000000069,
          -5308.300000000068,
          -5353.20000000007,
          -5358.200000000069,
          -5390.700000000069,
          -5384.300000000069,
          -5423.6000000000695,
          -5306.70000000007,
          -5247.80000000007,
          -5248.700000000069,
          -5258.500000000069,
          -5242.00000000007,
          -5244.200000000069,
          -5263.500000000069,
          -5221.400000000069,
          -5239.100000000068,
          -5232.600000000068,
          -5210.000000000067,
          -5201.000000000066,
          -5200.800000000067,
          -5216.3000000000675,
          -5212.700000000066,
          -5213.500000000065,
          -5220.900000000064,
          -5234.700000000068,
          -5252.6000000000695,
          -5266.4000000000715,
          -5280.600000000071,
          -5297.100000000073,
          -5242.100000000072,
          -5182.600000000072,
          -5212.900000000072,
          -5152.200000000073,
          -5183.300000000073,
          -5127.600000000075,
          -4995.0000000000755,
          -5051.800000000077,
          -5064.800000000077,
          -5076.400000000077,
          -5122.5000000000755,
          -5157.700000000076,
          -5173.700000000077,
          -5190.800000000078,
          -5201.500000000078,
          -5211.200000000077,
          -5170.200000000075,
          -5175.600000000076,
          -5165.800000000075,
          -5108.600000000075,
          -5053.2000000000735,
          -4944.800000000072,
          -4922.500000000071,
          -4951.20000000007,
          -4959.20000000007,
          -4964.300000000071,
          -5013.000000000074,
          -5060.300000000075,
          -5114.900000000073,
          -5095.900000000071,
          -5138.600000000071,
          -5140.6000000000695,
          -5194.400000000071,
          -5197.000000000071,
          -5223.200000000071,
          -5243.500000000071,
          -5213.500000000071,
          -4694.400000000072,
          -4422.100000000072,
          -4466.9000000000715,
          -4199.60000000007,
          -4323.300000000068,
          -4328.30000000007,
          -4349.700000000069,
          -3927.90000000007,
          -3643.500000000069,
          -3652.9000000000688,
          -3686.7000000000694,
          -3697.6000000000686,
          -3424.0000000000696,
          -3420.700000000069,
          -3443.5000000000696,
          -3516.7000000000694,
          -3624.20000000007,
          -3707.0000000000696,
          -3719.400000000071,
          -3584.4000000000715,
          -3657.6000000000713,
          -3620.2000000000717,
          -3682.900000000073,
          -3708.200000000072,
          -3737.6000000000718,
          -3745.5000000000746,
          -3802.1000000000745,
          -3838.4000000000724,
          -3846.800000000072,
          -3866.0000000000714,
          -3686.8000000000698,
          -3705.2000000000694,
          -3717.8000000000675,
          -3740.700000000069,
          -3774.9000000000688,
          -3873.7000000000676,
          -3893.800000000067,
          -3935.000000000066,
          -3964.000000000066,
          -3970.800000000066,
          -3979.300000000066,
          -3977.800000000066,
          -3940.9000000000665,
          -3842.700000000066,
          -3862.4000000000656,
          -3885.200000000064,
          -3515.700000000065,
          -3087.000000000064,
          -2897.3000000000625,
          -2608.5000000000637,
          -2496.200000000063,
          -2484.1000000000613,
          -2340.6000000000627,
          -2349.500000000063,
          -2353.300000000064,
          -2386.3000000000625,
          -2314.100000000062,
          -2339.9000000000624,
          -2390.6000000000627,
          -2429.6000000000627,
          -2446.4000000000638,
          -2341.200000000064,
          -2238.4000000000633,
          -1837.5000000000637,
          -1672.0000000000641,
          -1685.200000000064,
          -1763.4000000000656,
          -1271.400000000067,
          -1300.900000000067,
          -1107.1000000000674,
          -1122.2000000000685,
          -1024.6000000000686,
          -842.4000000000697,
          -895.000000000069,
          -785.2000000000705,
          -784.2000000000706,
          -740.0000000000708,
          -748.3000000000707,
          -791.000000000074,
          -770.2000000000739,
          -773.4000000000749,
          -778.8000000000748,
          -793.600000000074,
          -809.4000000000732,
          -810.8000000000735,
          -757.0000000000741,
          -715.7000000000744,
          -729.4000000000731,
          -699.4000000000731,
          -709.3000000000713,
          -698.7000000000708,
          -708.4000000000699,
          -686.3000000000706,
          -711.8000000000701,
          -716.0000000000698,
          -708.5000000000717,
          -700.0000000000715,
          -709.6000000000722,
          -721.3000000000741,
          -726.3000000000752,
          -763.2000000000755,
          -806.000000000074,
          -830.0000000000736,
          -820.1000000000731,
          -886.0000000000723,
          -932.200000000073,
          -940.6000000000726,
          -1021.2000000000709,
          -1053.1000000000727,
          -1081.7000000000728,
          -1118.0000000000723,
          -1131.9000000000724,
          -1138.2000000000726,
          -1146.2000000000728,
          -1148.5000000000746,
          -1173.200000000076,
          -1268.900000000079,
          -1282.0000000000782,
          -1289.3000000000793,
          -1306.6000000000795,
          -1329.2000000000787,
          -1401.6000000000802,
          -1355.3000000000811,
          -1525.10000000008,
          -1590.200000000084,
          -1564.200000000082,
          -1468.2000000000826,
          -1477.7000000000826,
          -1526.700000000084,
          -1552.4000000000858,
          -1560.0000000000846,
          -1564.2000000000833,
          -1571.4000000000838,
          -1630.1000000000843,
          -1352.1000000000838,
          -1355.500000000084,
          -1262.0000000000832,
          -1317.1000000000824,
          -1367.9000000000808,
          -1367.7000000000817,
          -1353.0000000000841,
          -1174.9000000000842,
          -1102.700000000083,
          -913.8000000000823,
          -764.1000000000809,
          -767.4000000000802,
          -551.6000000000815,
          -600.5000000000813,
          -537.3000000000808,
          -553.4000000000808,
          -296.40000000008285,
          -316.70000000008315,
          -240.5000000000831,
          -253.60000000008233,
          -258.6000000000829,
          -265.400000000083,
          -256.2000000000827,
          -270.8000000000829,
          -291.9000000000834,
          -85.30000000008317,
          -87.10000000008276,
          -74.00000000008353,
          -132.6000000000833,
          -86.10000000008176,
          -58.50000000008303,
          -83.40000000008183,
          -90.00000000008066,
          -102.70000000007948,
          -113.50000000008029,
          -124.60000000008084,
          -12.60000000007986,
          75.69999999992129,
          53.29999999992221,
          20.099999999922844,
          -163.20000000007292,
          -183.7000000000729,
          -229.30000000007297,
          -271.90000000007336,
          -239.60000000007358,
          -102.20000000007406,
          -35.60000000007295,
          16.99999999992525,
          -5.3000000000742915,
          -58.50000000007309,
          -119.9000000000753,
          -97.3000000000749,
          72.99999999992357,
          56.99999999992423,
          18.899999999923317,
          3.5999999999230035,
          -11.9000000000764,
          -46.40000000007815,
          16.399999999920254,
          5.8999999999203006,
          -9.500000000078447,
          -23.500000000078018,
          -108.30000000007622,
          -110.60000000007575,
          -133.00000000007483,
          -199.10000000007489,
          -212.2000000000741,
          -286.00000000007356,
          -294.1000000000722,
          -345.5000000000703,
          -363.90000000006984,
          -378.5000000000711,
          -487.600000000072,
          -530.3000000000709,
          -514.7000000000709,
          -274.1000000000734,
          -217.70000000007252,
          -250.2000000000724,
          -357.8000000000746,
          -362.60000000007494,
          -328.900000000074,
          -337.3000000000735,
          -369.3000000000744,
          -376.5000000000744,
          -365.80000000007317,
          -391.900000000074,
          -479.80000000007556,
          -468.9000000000752,
          -618.1000000000762,
          -722.6000000000749,
          -740.3000000000743,
          -781.7000000000734,
          -783.4000000000734,
          -779.0000000000734,
          -804.0000000000729,
          -834.0000000000717,
          -842.2000000000721,
          -872.8000000000727,
          -981.200000000073,
          -993.0000000000725,
          -998.6000000000714,
          -1020.0000000000717,
          -1051.7000000000708,
          -1063.3000000000702,
          -1061.7000000000708,
          -1068.3000000000707,
          -992.9000000000697,
          -1012.1000000000689,
          -975.6000000000696,
          -980.2000000000697,
          -993.2000000000683,
          -791.3000000000678,
          -582.3000000000675,
          -219.2000000000669,
          520.7999999999305,
          481.5999999999295,
          447.3999999999297,
          464.8999999999289,
          442.29999999992833,
          402.6999999999287,
          382.99999999992883,
          312.99999999992804,
          317.9999999999292,
          307.69999999992945,
          306.19999999992797,
          300.6999999999273,
          261.9999999999291,
          266.1999999999293,
          282.9999999999283,
          224.69999999992635,
          180.49999999992545,
          160.6999999999247,
          162.8999999999248,
          19.699999999922085,
          -11.500000000079098,
          78.79999999992113,
          85.99999999992203,
          116.99999999992225,
          238.3999999999221,
          219.69999999992172,
          225.79999999992242,
          211.39999999992133,
          154.79999999992026,
          113.89999999991878,
          63.29999999992036,
          50.999999999921314,
          62.39999999992175,
          52.39999999992174,
          11.399999999919594,
          5.599999999918012,
          -11.70000000008288,
          -33.00000000008227,
          -58.20000000008038,
          -112.40000000007907,
          -131.00000000008083,
          -163.60000000007983,
          -251.10000000007807,
          -259.90000000007797,
          -183.40000000007745,
          -190.9000000000764,
          -206.90000000007757,
          -160.60000000007676,
          -176.4000000000771,
          -182.40000000007646,
          -230.80000000007936,
          -256.70000000007917,
          -266.3000000000799,
          -242.60000000008006,
          -227.6000000000795,
          -232.7000000000796,
          -244.5000000000803,
          -268.20000000008014,
          -277.20000000007917,
          -281.00000000007856,
          -301.2000000000777,
          -309.9000000000781,
          -360.200000000079,
          -385.8000000000791,
          -360.30000000008295,
          -263.3000000000845,
          -277.70000000008446,
          -30.40000000008527,
          -66.20000000008554,
          -94.6000000000865,
          -97.40000000008708,
          -115.30000000008665,
          23.199999999912436,
          17.49999999991222,
          -22.60000000008847,
          -30.500000000089155,
          -227.50000000008743,
          -125.2000000000885,
          -122.40000000008934,
          -158.20000000008974,
          -183.10000000009086,
          -211.40000000008973,
          -345.10000000008966,
          -315.00000000008896,
          -320.10000000008904,
          -325.5000000000889,
          -277.0000000000887,
          -317.2000000000902,
          -336.40000000009053,
          -354.20000000009026,
          -378.50000000009067,
          -364.1000000000896,
          -383.90000000008945,
          -395.0000000000889,
          -437.9000000000902,
          -282.30000000009,
          -343.90000000009053,
          -193.10000000009072,
          -199.40000000009096,
          -173.2000000000925,
          -175.20000000009352,
          -131.60000000009273,
          -141.80000000009312,
          -155.4000000000934,
          -174.80000000009366,
          -39.40000000009374,
          -100.2000000000957,
          -295.5000000000965,
          -212.5000000000967,
          -189.60000000009654,
          -233.00000000009442,
          -255.30000000009397,
          -284.3000000000932,
          -150.3000000000935,
          -228.10000000009262,
          -206.70000000009276,
          121.69999999990699,
          112.99999999990773,
          141.1999999999088,
          129.49999999990877,
          122.59999999990796,
          78.79999999990747,
          73.99999999990712,
          34.399999999907486,
          9.199999999908929,
          -3.4000000000914596,
          -33.800000000090776,
          -47.6000000000913,
          -27.800000000093387,
          29.799999999904262,
          67.29999999990346,
          47.49999999990365,
          34.59999999990352,
          29.599999999902955,
          10.199999999902428,
          64.89999999990498,
          57.899999999905745,
          16.09999999990613,
          6.199999999906778,
          29.399999999907777,
          46.89999999990749,
          34.09999999990748,
          -92.8000000000931,
          -130.5000000000914,
          -167.90000000009218,
          -178.10000000009256,
          -254.50000000009345,
          -276.90000000009525,
          -324.7000000000961,
          -339.9000000000969,
          -370.7000000000966,
          -391.3000000000979,
          -423.9000000000994,
          -455.3000000000986,
          -500.5000000000983,
          -527.4000000000946,
          -524.3000000000965,
          -537.3000000000994,
          -544.3000000001009,
          -559.200000000103,
          -600.9000000001031,
          -607.3000000001028,
          -624.800000000104,
          -684.8000000001034,
          -696.2000000001037,
          -723.6000000001038,
          -744.4000000001037,
          -768.5000000001039,
          -783.3000000001032,
          -809.8000000001036,
          -743.5000000001045,
          -672.7000000001025,
          -449.90000000010457,
          -553.9000000001074,
          -642.0000000001073,
          -709.400000000107,
          -804.6000000001065,
          -873.6000000001068,
          -899.4000000001071,
          -900.5000000001077,
          -904.5000000001083,
          -980.5000000001103,
          -994.1000000001105,
          -1028.3000000001102,
          -1021.40000000011,
          -1084.7000000001117,
          -1073.5000000001116,
          -1066.0000000001137,
          -937.5000000001136,
          -1072.7000000001135,
          -1073.5000000001132,
          -1103.9000000001147,
          -1115.7000000001142,
          -1129.1000000001154,
          -1135.1000000001156,
          -1143.1000000001154,
          -1111.900000000113,
          -1142.6000000001118,
          -1166.6000000001136,
          -1066.4000000001145,
          -1129.600000000113,
          -1057.7000000001149,
          -989.9000000001148,
          -937.6000000001163,
          -940.0000000001165,
          -951.7000000001177,
          -938.6000000001177,
          -955.2000000001176,
          -976.3000000001182,
          -507.20000000011794,
          -538.3000000001174,
          -576.1000000001188,
          -572.8000000001194,
          -610.5000000001202,
          -649.6000000001187,
          -662.2000000001192,
          -714.6000000001194,
          -720.0000000001196,
          -742.2000000001204,
          -726.0000000001208,
          -774.2000000001208,
          -812.7000000001224,
          -841.7000000001225,
          -107.90000000012071,
          590.799999999878,
          637.9999999998788,
          657.5999999998784,
          591.3999999998778,
          632.9999999998782,
          596.1999999998767,
          495.9999999998797,
          484.99999999987983,
          462.89999999987936,
          434.49999999987983,
          406.79999999987933,
          446.79999999987825,
          422.1999999998814,
          427.39999999988106,
          391.3999999998797,
          377.5999999998781,
          309.59999999987883,
          244.79999999987842,
          273.1999999998776,
          264.89999999987765,
          260.5999999998783,
          533.3999999998819,
          517.8999999998824,
          460.2999999998826,
          415.8999999998804,
          392.6999999998805,
          372.99999999988023,
          348.99999999987955,
          601.9999999998784,
          584.499999999877,
          564.2999999998767,
          649.3999999998769,
          613.5999999998777,
          658.3999999998758,
          655.0999999998753,
          634.0999999998754,
          596.1999999998735,
          579.8999999998733,
          680.9999999998706,
          760.5999999998703,
          783.9999999998704,
          810.3999999998713,
          789.8999999998703,
          778.2999999998698,
          798.3999999998705,
          793.1999999998698,
          790.1999999998701,
          707.0999999998708,
          698.3999999998704,
          656.6999999998692,
          640.599999999868,
          633.7999999998679,
          539.3999999998689,
          601.4999999998694,
          623.6999999998704,
          637.499999999871,
          620.49999999987,
          617.1999999998714,
          609.2999999998718,
          602.8999999998725,
          571.8999999998723,
          552.7999999998715,
          515.799999999871,
          461.699999999872,
          452.89999999986986,
          566.2999999998689,
          537.1999999998692,
          494.89999999986964,
          470.9999999998692,
          450.49999999986983,
          423.9999999998705,
          424.0999999998701,
          373.6999999998707,
          367.4999999998723,
          357.3999999998727,
          443.5999999998729,
          405.69999999987414,
          414.4999999998751,
          300.6999999998809,
          268.4999999998809,
          192.09999999988224,
          187.99999999988424,
          114.19999999988428,
          151.0999999998873,
          155.49999999988725,
          138.99999999988796,
          243.19999999988528,
          225.6999999998839,
          148.4999999998833,
          151.19999999988323,
          144.3999999998831,
          98.99999999988269,
          59.89999999988411,
          -23.700000000115118,
          -52.20000000011531,
          47.79999999988483,
          28.399999999884304,
          -15.800000000116594,
          -27.800000000115272,
          26.89999999988225,
          130.19999999988286,
          207.39999999988237,
          217.59999999988148,
          254.0999999998819,
          254.8999999998805,
          251.49999999988043,
          202.2999999998823,
          156.89999999988294,
          3.8999999998829082,
          -51.200000000115864,
          -141.90000000011497,
          -214.40000000011645,
          -220.00000000011664,
          -269.3000000001152,
          -277.30000000011654,
          -283.30000000011586,
          -274.30000000011574,
          -301.20000000011436,
          -355.9000000001152,
          -325.4000000001141,
          -368.20000000011476,
          -327.60000000011524,
          -390.60000000011456,
          -459.8000000001116,
          -476.1000000001118,
          -594.0000000001128,
          -555.400000000112,
          -563.700000000113,
          -523.2000000001107,
          -552.2000000001096,
          -591.4000000001098,
          -603.5000000001091,
          -613.2000000001083,
          -617.3000000001074,
          -639.1000000001063,
          -643.3000000001072,
          -660.5000000001097,
          -672.4000000001097,
          -677.7000000001094,
          -619.9000000001107,
          -567.4000000001115,
          -580.4000000001112,
          -584.6000000001109,
          -490.40000000010883,
          -323.9000000001083,
          -282.80000000010773,
          -220.10000000010996,
          -272.3000000001097,
          -144.70000000010867,
          -160.2000000001088,
          -31.300000000109208,
          -29.000000000109594,
          73.59999999988968,
          95.29999999988974,
          186.89999999988808,
          193.29999999988783,
          188.0999999998868,
          174.0999999998861,
          139.69999999988715,
          138.999999999887,
          80.69999999988715,
          80.69999999988715,
          72.09999999988855,
          51.699999999888135,
          23.69999999988802,
          -19.100000000112416,
          -49.50000000011173,
          -106.20000000011015,
          -117.80000000011066,
          -153.0000000001114,
          -226.3000000001112,
          -296.2000000001117,
          -317.9000000001116,
          -503.8000000001126,
          -595.100000000114,
          -647.3000000001149,
          -685.9000000001147,
          -729.5000000001145,
          -737.0000000001148,
          -753.8000000001139,
          -797.3000000001157,
          -844.9000000001165,
          -888.900000000116,
          -943.1000000001162,
          -967.9000000001166,
          -1044.4000000001179,
          -1051.0000000001166
         ]
        }
       ],
       "layout": {
        "font": {
         "color": "#e1e1e1",
         "size": 10
        },
        "height": 400,
        "margin": {
         "b": 10,
         "l": 15,
         "r": 15
        },
        "paper_bgcolor": "#1e1e1e",
        "plot_bgcolor": "#1e1e1e",
        "template": {
         "data": {
          "bar": [
           {
            "error_x": {
             "color": "#2a3f5f"
            },
            "error_y": {
             "color": "#2a3f5f"
            },
            "marker": {
             "line": {
              "color": "#E5ECF6",
              "width": 0.5
             },
             "pattern": {
              "fillmode": "overlay",
              "size": 10,
              "solidity": 0.2
             }
            },
            "type": "bar"
           }
          ],
          "barpolar": [
           {
            "marker": {
             "line": {
              "color": "#E5ECF6",
              "width": 0.5
             },
             "pattern": {
              "fillmode": "overlay",
              "size": 10,
              "solidity": 0.2
             }
            },
            "type": "barpolar"
           }
          ],
          "carpet": [
           {
            "aaxis": {
             "endlinecolor": "#2a3f5f",
             "gridcolor": "white",
             "linecolor": "white",
             "minorgridcolor": "white",
             "startlinecolor": "#2a3f5f"
            },
            "baxis": {
             "endlinecolor": "#2a3f5f",
             "gridcolor": "white",
             "linecolor": "white",
             "minorgridcolor": "white",
             "startlinecolor": "#2a3f5f"
            },
            "type": "carpet"
           }
          ],
          "choropleth": [
           {
            "colorbar": {
             "outlinewidth": 0,
             "ticks": ""
            },
            "type": "choropleth"
           }
          ],
          "contour": [
           {
            "colorbar": {
             "outlinewidth": 0,
             "ticks": ""
            },
            "colorscale": [
             [
              0,
              "#0d0887"
             ],
             [
              0.1111111111111111,
              "#46039f"
             ],
             [
              0.2222222222222222,
              "#7201a8"
             ],
             [
              0.3333333333333333,
              "#9c179e"
             ],
             [
              0.4444444444444444,
              "#bd3786"
             ],
             [
              0.5555555555555556,
              "#d8576b"
             ],
             [
              0.6666666666666666,
              "#ed7953"
             ],
             [
              0.7777777777777778,
              "#fb9f3a"
             ],
             [
              0.8888888888888888,
              "#fdca26"
             ],
             [
              1,
              "#f0f921"
             ]
            ],
            "type": "contour"
           }
          ],
          "contourcarpet": [
           {
            "colorbar": {
             "outlinewidth": 0,
             "ticks": ""
            },
            "type": "contourcarpet"
           }
          ],
          "heatmap": [
           {
            "colorbar": {
             "outlinewidth": 0,
             "ticks": ""
            },
            "colorscale": [
             [
              0,
              "#0d0887"
             ],
             [
              0.1111111111111111,
              "#46039f"
             ],
             [
              0.2222222222222222,
              "#7201a8"
             ],
             [
              0.3333333333333333,
              "#9c179e"
             ],
             [
              0.4444444444444444,
              "#bd3786"
             ],
             [
              0.5555555555555556,
              "#d8576b"
             ],
             [
              0.6666666666666666,
              "#ed7953"
             ],
             [
              0.7777777777777778,
              "#fb9f3a"
             ],
             [
              0.8888888888888888,
              "#fdca26"
             ],
             [
              1,
              "#f0f921"
             ]
            ],
            "type": "heatmap"
           }
          ],
          "heatmapgl": [
           {
            "colorbar": {
             "outlinewidth": 0,
             "ticks": ""
            },
            "colorscale": [
             [
              0,
              "#0d0887"
             ],
             [
              0.1111111111111111,
              "#46039f"
             ],
             [
              0.2222222222222222,
              "#7201a8"
             ],
             [
              0.3333333333333333,
              "#9c179e"
             ],
             [
              0.4444444444444444,
              "#bd3786"
             ],
             [
              0.5555555555555556,
              "#d8576b"
             ],
             [
              0.6666666666666666,
              "#ed7953"
             ],
             [
              0.7777777777777778,
              "#fb9f3a"
             ],
             [
              0.8888888888888888,
              "#fdca26"
             ],
             [
              1,
              "#f0f921"
             ]
            ],
            "type": "heatmapgl"
           }
          ],
          "histogram": [
           {
            "marker": {
             "pattern": {
              "fillmode": "overlay",
              "size": 10,
              "solidity": 0.2
             }
            },
            "type": "histogram"
           }
          ],
          "histogram2d": [
           {
            "colorbar": {
             "outlinewidth": 0,
             "ticks": ""
            },
            "colorscale": [
             [
              0,
              "#0d0887"
             ],
             [
              0.1111111111111111,
              "#46039f"
             ],
             [
              0.2222222222222222,
              "#7201a8"
             ],
             [
              0.3333333333333333,
              "#9c179e"
             ],
             [
              0.4444444444444444,
              "#bd3786"
             ],
             [
              0.5555555555555556,
              "#d8576b"
             ],
             [
              0.6666666666666666,
              "#ed7953"
             ],
             [
              0.7777777777777778,
              "#fb9f3a"
             ],
             [
              0.8888888888888888,
              "#fdca26"
             ],
             [
              1,
              "#f0f921"
             ]
            ],
            "type": "histogram2d"
           }
          ],
          "histogram2dcontour": [
           {
            "colorbar": {
             "outlinewidth": 0,
             "ticks": ""
            },
            "colorscale": [
             [
              0,
              "#0d0887"
             ],
             [
              0.1111111111111111,
              "#46039f"
             ],
             [
              0.2222222222222222,
              "#7201a8"
             ],
             [
              0.3333333333333333,
              "#9c179e"
             ],
             [
              0.4444444444444444,
              "#bd3786"
             ],
             [
              0.5555555555555556,
              "#d8576b"
             ],
             [
              0.6666666666666666,
              "#ed7953"
             ],
             [
              0.7777777777777778,
              "#fb9f3a"
             ],
             [
              0.8888888888888888,
              "#fdca26"
             ],
             [
              1,
              "#f0f921"
             ]
            ],
            "type": "histogram2dcontour"
           }
          ],
          "mesh3d": [
           {
            "colorbar": {
             "outlinewidth": 0,
             "ticks": ""
            },
            "type": "mesh3d"
           }
          ],
          "parcoords": [
           {
            "line": {
             "colorbar": {
              "outlinewidth": 0,
              "ticks": ""
             }
            },
            "type": "parcoords"
           }
          ],
          "pie": [
           {
            "automargin": true,
            "type": "pie"
           }
          ],
          "scatter": [
           {
            "fillpattern": {
             "fillmode": "overlay",
             "size": 10,
             "solidity": 0.2
            },
            "type": "scatter"
           }
          ],
          "scatter3d": [
           {
            "line": {
             "colorbar": {
              "outlinewidth": 0,
              "ticks": ""
             }
            },
            "marker": {
             "colorbar": {
              "outlinewidth": 0,
              "ticks": ""
             }
            },
            "type": "scatter3d"
           }
          ],
          "scattercarpet": [
           {
            "marker": {
             "colorbar": {
              "outlinewidth": 0,
              "ticks": ""
             }
            },
            "type": "scattercarpet"
           }
          ],
          "scattergeo": [
           {
            "marker": {
             "colorbar": {
              "outlinewidth": 0,
              "ticks": ""
             }
            },
            "type": "scattergeo"
           }
          ],
          "scattergl": [
           {
            "marker": {
             "colorbar": {
              "outlinewidth": 0,
              "ticks": ""
             }
            },
            "type": "scattergl"
           }
          ],
          "scattermapbox": [
           {
            "marker": {
             "colorbar": {
              "outlinewidth": 0,
              "ticks": ""
             }
            },
            "type": "scattermapbox"
           }
          ],
          "scatterpolar": [
           {
            "marker": {
             "colorbar": {
              "outlinewidth": 0,
              "ticks": ""
             }
            },
            "type": "scatterpolar"
           }
          ],
          "scatterpolargl": [
           {
            "marker": {
             "colorbar": {
              "outlinewidth": 0,
              "ticks": ""
             }
            },
            "type": "scatterpolargl"
           }
          ],
          "scatterternary": [
           {
            "marker": {
             "colorbar": {
              "outlinewidth": 0,
              "ticks": ""
             }
            },
            "type": "scatterternary"
           }
          ],
          "surface": [
           {
            "colorbar": {
             "outlinewidth": 0,
             "ticks": ""
            },
            "colorscale": [
             [
              0,
              "#0d0887"
             ],
             [
              0.1111111111111111,
              "#46039f"
             ],
             [
              0.2222222222222222,
              "#7201a8"
             ],
             [
              0.3333333333333333,
              "#9c179e"
             ],
             [
              0.4444444444444444,
              "#bd3786"
             ],
             [
              0.5555555555555556,
              "#d8576b"
             ],
             [
              0.6666666666666666,
              "#ed7953"
             ],
             [
              0.7777777777777778,
              "#fb9f3a"
             ],
             [
              0.8888888888888888,
              "#fdca26"
             ],
             [
              1,
              "#f0f921"
             ]
            ],
            "type": "surface"
           }
          ],
          "table": [
           {
            "cells": {
             "fill": {
              "color": "#EBF0F8"
             },
             "line": {
              "color": "white"
             }
            },
            "header": {
             "fill": {
              "color": "#C8D4E3"
             },
             "line": {
              "color": "white"
             }
            },
            "type": "table"
           }
          ]
         },
         "layout": {
          "annotationdefaults": {
           "arrowcolor": "#2a3f5f",
           "arrowhead": 0,
           "arrowwidth": 1
          },
          "autotypenumbers": "strict",
          "coloraxis": {
           "colorbar": {
            "outlinewidth": 0,
            "ticks": ""
           }
          },
          "colorscale": {
           "diverging": [
            [
             0,
             "#8e0152"
            ],
            [
             0.1,
             "#c51b7d"
            ],
            [
             0.2,
             "#de77ae"
            ],
            [
             0.3,
             "#f1b6da"
            ],
            [
             0.4,
             "#fde0ef"
            ],
            [
             0.5,
             "#f7f7f7"
            ],
            [
             0.6,
             "#e6f5d0"
            ],
            [
             0.7,
             "#b8e186"
            ],
            [
             0.8,
             "#7fbc41"
            ],
            [
             0.9,
             "#4d9221"
            ],
            [
             1,
             "#276419"
            ]
           ],
           "sequential": [
            [
             0,
             "#0d0887"
            ],
            [
             0.1111111111111111,
             "#46039f"
            ],
            [
             0.2222222222222222,
             "#7201a8"
            ],
            [
             0.3333333333333333,
             "#9c179e"
            ],
            [
             0.4444444444444444,
             "#bd3786"
            ],
            [
             0.5555555555555556,
             "#d8576b"
            ],
            [
             0.6666666666666666,
             "#ed7953"
            ],
            [
             0.7777777777777778,
             "#fb9f3a"
            ],
            [
             0.8888888888888888,
             "#fdca26"
            ],
            [
             1,
             "#f0f921"
            ]
           ],
           "sequentialminus": [
            [
             0,
             "#0d0887"
            ],
            [
             0.1111111111111111,
             "#46039f"
            ],
            [
             0.2222222222222222,
             "#7201a8"
            ],
            [
             0.3333333333333333,
             "#9c179e"
            ],
            [
             0.4444444444444444,
             "#bd3786"
            ],
            [
             0.5555555555555556,
             "#d8576b"
            ],
            [
             0.6666666666666666,
             "#ed7953"
            ],
            [
             0.7777777777777778,
             "#fb9f3a"
            ],
            [
             0.8888888888888888,
             "#fdca26"
            ],
            [
             1,
             "#f0f921"
            ]
           ]
          },
          "colorway": [
           "#636efa",
           "#EF553B",
           "#00cc96",
           "#ab63fa",
           "#FFA15A",
           "#19d3f3",
           "#FF6692",
           "#B6E880",
           "#FF97FF",
           "#FECB52"
          ],
          "font": {
           "color": "#2a3f5f"
          },
          "geo": {
           "bgcolor": "white",
           "lakecolor": "white",
           "landcolor": "#E5ECF6",
           "showlakes": true,
           "showland": true,
           "subunitcolor": "white"
          },
          "hoverlabel": {
           "align": "left"
          },
          "hovermode": "closest",
          "mapbox": {
           "style": "light"
          },
          "paper_bgcolor": "white",
          "plot_bgcolor": "#E5ECF6",
          "polar": {
           "angularaxis": {
            "gridcolor": "white",
            "linecolor": "white",
            "ticks": ""
           },
           "bgcolor": "#E5ECF6",
           "radialaxis": {
            "gridcolor": "white",
            "linecolor": "white",
            "ticks": ""
           }
          },
          "scene": {
           "xaxis": {
            "backgroundcolor": "#E5ECF6",
            "gridcolor": "white",
            "gridwidth": 2,
            "linecolor": "white",
            "showbackground": true,
            "ticks": "",
            "zerolinecolor": "white"
           },
           "yaxis": {
            "backgroundcolor": "#E5ECF6",
            "gridcolor": "white",
            "gridwidth": 2,
            "linecolor": "white",
            "showbackground": true,
            "ticks": "",
            "zerolinecolor": "white"
           },
           "zaxis": {
            "backgroundcolor": "#E5ECF6",
            "gridcolor": "white",
            "gridwidth": 2,
            "linecolor": "white",
            "showbackground": true,
            "ticks": "",
            "zerolinecolor": "white"
           }
          },
          "shapedefaults": {
           "line": {
            "color": "#2a3f5f"
           }
          },
          "ternary": {
           "aaxis": {
            "gridcolor": "white",
            "linecolor": "white",
            "ticks": ""
           },
           "baxis": {
            "gridcolor": "white",
            "linecolor": "white",
            "ticks": ""
           },
           "bgcolor": "#E5ECF6",
           "caxis": {
            "gridcolor": "white",
            "linecolor": "white",
            "ticks": ""
           }
          },
          "title": {
           "x": 0.05
          },
          "xaxis": {
           "automargin": true,
           "gridcolor": "white",
           "linecolor": "white",
           "ticks": "",
           "title": {
            "standoff": 15
           },
           "zerolinecolor": "white",
           "zerolinewidth": 2
          },
          "yaxis": {
           "automargin": true,
           "gridcolor": "white",
           "linecolor": "white",
           "ticks": "",
           "title": {
            "standoff": 15
           },
           "zerolinecolor": "white",
           "zerolinewidth": 2
          }
         }
        },
        "title": {
         "text": "MA_4_32"
        },
        "width": 1000,
        "xaxis": {
         "linecolor": "#3a4a54",
         "linewidth": 1,
         "showgrid": false,
         "zeroline": false
        },
        "yaxis": {
         "linecolor": "#3a4a54",
         "linewidth": 1,
         "showgrid": false,
         "zeroline": false
        }
       }
      }
     },
     "metadata": {},
     "output_type": "display_data"
    },
    {
     "data": {
      "application/vnd.plotly.v1+json": {
       "config": {
        "plotlyServerURL": "https://plot.ly"
       },
       "data": [
        {
         "line": {
          "color": "#3d825f",
          "shape": "spline",
          "width": 2
         },
         "mode": "lines",
         "name": "MA_16_32",
         "type": "scatter",
         "x": [
          "2022-11-10T13:00:00+00:00",
          "2022-11-10T14:00:00+00:00",
          "2022-11-10T15:00:00+00:00",
          "2022-11-10T16:00:00+00:00",
          "2022-11-10T17:00:00+00:00",
          "2022-11-10T20:00:00+00:00",
          "2022-11-11T10:00:00+00:00",
          "2022-11-11T11:00:00+00:00",
          "2022-11-11T14:00:00+00:00",
          "2022-11-11T16:00:00+00:00",
          "2022-11-11T20:00:00+00:00",
          "2022-11-13T22:00:00+00:00",
          "2022-11-14T00:00:00+00:00",
          "2022-11-14T09:00:00+00:00",
          "2022-11-14T10:00:00+00:00",
          "2022-11-14T12:00:00+00:00",
          "2022-11-14T13:00:00+00:00",
          "2022-11-14T14:00:00+00:00",
          "2022-11-14T15:00:00+00:00",
          "2022-11-14T16:00:00+00:00",
          "2022-11-14T17:00:00+00:00",
          "2022-11-14T19:00:00+00:00",
          "2022-11-14T21:00:00+00:00",
          "2022-11-15T02:00:00+00:00",
          "2022-11-15T03:00:00+00:00",
          "2022-11-15T05:00:00+00:00",
          "2022-11-15T07:00:00+00:00",
          "2022-11-15T08:00:00+00:00",
          "2022-11-15T10:00:00+00:00",
          "2022-11-15T11:00:00+00:00",
          "2022-11-15T12:00:00+00:00",
          "2022-11-15T14:00:00+00:00",
          "2022-11-15T15:00:00+00:00",
          "2022-11-15T19:00:00+00:00",
          "2022-11-15T21:00:00+00:00",
          "2022-11-16T01:00:00+00:00",
          "2022-11-16T04:00:00+00:00",
          "2022-11-16T05:00:00+00:00",
          "2022-11-16T06:00:00+00:00",
          "2022-11-16T09:00:00+00:00",
          "2022-11-16T11:00:00+00:00",
          "2022-11-16T12:00:00+00:00",
          "2022-11-16T13:00:00+00:00",
          "2022-11-16T15:00:00+00:00",
          "2022-11-16T16:00:00+00:00",
          "2022-11-16T17:00:00+00:00",
          "2022-11-16T18:00:00+00:00",
          "2022-11-16T20:00:00+00:00",
          "2022-11-16T21:00:00+00:00",
          "2022-11-16T22:00:00+00:00",
          "2022-11-17T00:00:00+00:00",
          "2022-11-17T01:00:00+00:00",
          "2022-11-17T02:00:00+00:00",
          "2022-11-17T05:00:00+00:00",
          "2022-11-17T07:00:00+00:00",
          "2022-11-17T12:00:00+00:00",
          "2022-11-17T14:00:00+00:00",
          "2022-11-17T16:00:00+00:00",
          "2022-11-17T17:00:00+00:00",
          "2022-11-17T18:00:00+00:00",
          "2022-11-17T19:00:00+00:00",
          "2022-11-18T00:00:00+00:00",
          "2022-11-18T01:00:00+00:00",
          "2022-11-18T02:00:00+00:00",
          "2022-11-18T04:00:00+00:00",
          "2022-11-18T05:00:00+00:00",
          "2022-11-18T06:00:00+00:00",
          "2022-11-18T07:00:00+00:00",
          "2022-11-18T09:00:00+00:00",
          "2022-11-18T12:00:00+00:00",
          "2022-11-18T13:00:00+00:00",
          "2022-11-18T14:00:00+00:00",
          "2022-11-18T15:00:00+00:00",
          "2022-11-18T17:00:00+00:00",
          "2022-11-18T20:00:00+00:00",
          "2022-11-18T21:00:00+00:00",
          "2022-11-20T23:00:00+00:00",
          "2022-11-21T02:00:00+00:00",
          "2022-11-21T03:00:00+00:00",
          "2022-11-21T05:00:00+00:00",
          "2022-11-21T06:00:00+00:00",
          "2022-11-21T07:00:00+00:00",
          "2022-11-21T09:00:00+00:00",
          "2022-11-21T17:00:00+00:00",
          "2022-11-22T00:00:00+00:00",
          "2022-11-22T02:00:00+00:00",
          "2022-11-22T07:00:00+00:00",
          "2022-11-22T08:00:00+00:00",
          "2022-11-22T09:00:00+00:00",
          "2022-11-22T10:00:00+00:00",
          "2022-11-22T11:00:00+00:00",
          "2022-11-22T12:00:00+00:00",
          "2022-11-22T13:00:00+00:00",
          "2022-11-22T15:00:00+00:00",
          "2022-11-22T16:00:00+00:00",
          "2022-11-22T19:00:00+00:00",
          "2022-11-22T21:00:00+00:00",
          "2022-11-23T02:00:00+00:00",
          "2022-11-23T03:00:00+00:00",
          "2022-11-23T05:00:00+00:00",
          "2022-11-23T06:00:00+00:00",
          "2022-11-23T07:00:00+00:00",
          "2022-11-23T08:00:00+00:00",
          "2022-11-23T09:00:00+00:00",
          "2022-11-23T10:00:00+00:00",
          "2022-11-23T13:00:00+00:00",
          "2022-11-23T14:00:00+00:00",
          "2022-11-23T16:00:00+00:00",
          "2022-11-23T20:00:00+00:00",
          "2022-11-23T21:00:00+00:00",
          "2022-11-24T02:00:00+00:00",
          "2022-11-24T05:00:00+00:00",
          "2022-11-24T11:00:00+00:00",
          "2022-11-24T17:00:00+00:00",
          "2022-11-24T20:00:00+00:00",
          "2022-11-25T00:00:00+00:00",
          "2022-11-25T04:00:00+00:00",
          "2022-11-25T07:00:00+00:00",
          "2022-11-25T08:00:00+00:00",
          "2022-11-25T09:00:00+00:00",
          "2022-11-25T10:00:00+00:00",
          "2022-11-25T11:00:00+00:00",
          "2022-11-25T12:00:00+00:00",
          "2022-11-25T13:00:00+00:00",
          "2022-11-25T16:00:00+00:00",
          "2022-11-25T21:00:00+00:00",
          "2022-11-27T22:00:00+00:00",
          "2022-11-28T01:00:00+00:00",
          "2022-11-28T02:00:00+00:00",
          "2022-11-28T03:00:00+00:00",
          "2022-11-28T05:00:00+00:00",
          "2022-11-28T06:00:00+00:00",
          "2022-11-28T07:00:00+00:00",
          "2022-11-28T08:00:00+00:00",
          "2022-11-28T11:00:00+00:00",
          "2022-11-28T13:00:00+00:00",
          "2022-11-28T17:00:00+00:00",
          "2022-11-28T20:00:00+00:00",
          "2022-11-28T23:00:00+00:00",
          "2022-11-29T00:00:00+00:00",
          "2022-11-29T01:00:00+00:00",
          "2022-11-29T02:00:00+00:00",
          "2022-11-29T03:00:00+00:00",
          "2022-11-29T04:00:00+00:00",
          "2022-11-29T05:00:00+00:00",
          "2022-11-29T08:00:00+00:00",
          "2022-11-29T09:00:00+00:00",
          "2022-11-29T12:00:00+00:00",
          "2022-11-29T13:00:00+00:00",
          "2022-11-29T14:00:00+00:00",
          "2022-11-29T16:00:00+00:00",
          "2022-11-29T18:00:00+00:00",
          "2022-11-29T20:00:00+00:00",
          "2022-11-29T22:00:00+00:00",
          "2022-11-29T23:00:00+00:00",
          "2022-11-30T03:00:00+00:00",
          "2022-11-30T04:00:00+00:00",
          "2022-11-30T05:00:00+00:00",
          "2022-11-30T10:00:00+00:00",
          "2022-11-30T11:00:00+00:00",
          "2022-11-30T12:00:00+00:00",
          "2022-11-30T14:00:00+00:00",
          "2022-11-30T15:00:00+00:00",
          "2022-11-30T16:00:00+00:00",
          "2022-11-30T17:00:00+00:00",
          "2022-11-30T21:00:00+00:00",
          "2022-12-01T00:00:00+00:00",
          "2022-12-01T04:00:00+00:00",
          "2022-12-01T05:00:00+00:00",
          "2022-12-01T06:00:00+00:00",
          "2022-12-01T09:00:00+00:00",
          "2022-12-01T10:00:00+00:00",
          "2022-12-01T11:00:00+00:00",
          "2022-12-01T13:00:00+00:00",
          "2022-12-01T14:00:00+00:00",
          "2022-12-01T19:00:00+00:00",
          "2022-12-01T22:00:00+00:00",
          "2022-12-02T01:00:00+00:00",
          "2022-12-02T03:00:00+00:00",
          "2022-12-02T06:00:00+00:00",
          "2022-12-02T08:00:00+00:00",
          "2022-12-02T13:00:00+00:00",
          "2022-12-02T14:00:00+00:00",
          "2022-12-02T15:00:00+00:00",
          "2022-12-02T19:00:00+00:00",
          "2022-12-02T21:00:00+00:00",
          "2022-12-05T00:00:00+00:00",
          "2022-12-05T02:00:00+00:00",
          "2022-12-05T03:00:00+00:00",
          "2022-12-05T04:00:00+00:00",
          "2022-12-05T05:00:00+00:00",
          "2022-12-05T06:00:00+00:00",
          "2022-12-05T07:00:00+00:00",
          "2022-12-05T09:00:00+00:00",
          "2022-12-05T10:00:00+00:00",
          "2022-12-05T11:00:00+00:00",
          "2022-12-05T12:00:00+00:00",
          "2022-12-05T14:00:00+00:00",
          "2022-12-05T15:00:00+00:00",
          "2022-12-05T16:00:00+00:00",
          "2022-12-05T17:00:00+00:00",
          "2022-12-05T18:00:00+00:00",
          "2022-12-05T20:00:00+00:00",
          "2022-12-05T21:00:00+00:00",
          "2022-12-06T01:00:00+00:00",
          "2022-12-06T05:00:00+00:00",
          "2022-12-06T10:00:00+00:00",
          "2022-12-06T11:00:00+00:00",
          "2022-12-06T15:00:00+00:00",
          "2022-12-06T17:00:00+00:00",
          "2022-12-06T18:00:00+00:00",
          "2022-12-06T20:00:00+00:00",
          "2022-12-06T21:00:00+00:00",
          "2022-12-06T22:00:00+00:00",
          "2022-12-07T02:00:00+00:00",
          "2022-12-07T03:00:00+00:00",
          "2022-12-07T06:00:00+00:00",
          "2022-12-07T07:00:00+00:00",
          "2022-12-07T08:00:00+00:00",
          "2022-12-07T10:00:00+00:00",
          "2022-12-07T11:00:00+00:00",
          "2022-12-07T12:00:00+00:00",
          "2022-12-07T13:00:00+00:00",
          "2022-12-07T16:00:00+00:00",
          "2022-12-07T17:00:00+00:00",
          "2022-12-07T18:00:00+00:00",
          "2022-12-07T19:00:00+00:00",
          "2022-12-07T21:00:00+00:00",
          "2022-12-07T23:00:00+00:00",
          "2022-12-08T01:00:00+00:00",
          "2022-12-08T03:00:00+00:00",
          "2022-12-08T05:00:00+00:00",
          "2022-12-08T06:00:00+00:00",
          "2022-12-08T07:00:00+00:00",
          "2022-12-08T09:00:00+00:00",
          "2022-12-08T10:00:00+00:00",
          "2022-12-08T12:00:00+00:00",
          "2022-12-08T13:00:00+00:00",
          "2022-12-08T14:00:00+00:00",
          "2022-12-08T15:00:00+00:00",
          "2022-12-08T16:00:00+00:00",
          "2022-12-08T17:00:00+00:00",
          "2022-12-08T18:00:00+00:00",
          "2022-12-08T19:00:00+00:00",
          "2022-12-08T23:00:00+00:00",
          "2022-12-09T01:00:00+00:00",
          "2022-12-09T04:00:00+00:00",
          "2022-12-09T05:00:00+00:00",
          "2022-12-09T07:00:00+00:00",
          "2022-12-09T08:00:00+00:00",
          "2022-12-09T10:00:00+00:00",
          "2022-12-09T11:00:00+00:00",
          "2022-12-09T12:00:00+00:00",
          "2022-12-09T14:00:00+00:00",
          "2022-12-09T15:00:00+00:00",
          "2022-12-09T16:00:00+00:00",
          "2022-12-09T20:00:00+00:00",
          "2022-12-12T00:00:00+00:00",
          "2022-12-12T04:00:00+00:00",
          "2022-12-12T05:00:00+00:00",
          "2022-12-12T08:00:00+00:00",
          "2022-12-12T10:00:00+00:00",
          "2022-12-12T11:00:00+00:00",
          "2022-12-12T13:00:00+00:00",
          "2022-12-12T14:00:00+00:00",
          "2022-12-12T15:00:00+00:00",
          "2022-12-12T16:00:00+00:00",
          "2022-12-12T17:00:00+00:00",
          "2022-12-12T18:00:00+00:00",
          "2022-12-12T19:00:00+00:00",
          "2022-12-12T22:00:00+00:00",
          "2022-12-12T23:00:00+00:00",
          "2022-12-13T01:00:00+00:00",
          "2022-12-13T02:00:00+00:00",
          "2022-12-13T04:00:00+00:00",
          "2022-12-13T06:00:00+00:00",
          "2022-12-13T08:00:00+00:00",
          "2022-12-13T12:00:00+00:00",
          "2022-12-13T13:00:00+00:00",
          "2022-12-13T14:00:00+00:00",
          "2022-12-13T15:00:00+00:00",
          "2022-12-13T16:00:00+00:00",
          "2022-12-13T17:00:00+00:00",
          "2022-12-13T19:00:00+00:00",
          "2022-12-13T20:00:00+00:00",
          "2022-12-13T21:00:00+00:00",
          "2022-12-14T02:00:00+00:00",
          "2022-12-14T08:00:00+00:00",
          "2022-12-14T09:00:00+00:00",
          "2022-12-14T11:00:00+00:00",
          "2022-12-14T12:00:00+00:00",
          "2022-12-14T14:00:00+00:00",
          "2022-12-14T17:00:00+00:00",
          "2022-12-14T18:00:00+00:00",
          "2022-12-14T20:00:00+00:00",
          "2022-12-14T21:00:00+00:00",
          "2022-12-14T22:00:00+00:00",
          "2022-12-14T23:00:00+00:00",
          "2022-12-15T01:00:00+00:00",
          "2022-12-15T02:00:00+00:00",
          "2022-12-15T03:00:00+00:00",
          "2022-12-15T04:00:00+00:00",
          "2022-12-15T05:00:00+00:00",
          "2022-12-15T06:00:00+00:00",
          "2022-12-15T07:00:00+00:00",
          "2022-12-15T08:00:00+00:00",
          "2022-12-15T10:00:00+00:00",
          "2022-12-15T11:00:00+00:00",
          "2022-12-15T12:00:00+00:00",
          "2022-12-15T14:00:00+00:00",
          "2022-12-15T17:00:00+00:00",
          "2022-12-15T20:00:00+00:00",
          "2022-12-16T00:00:00+00:00",
          "2022-12-16T01:00:00+00:00",
          "2022-12-16T11:00:00+00:00",
          "2022-12-16T12:00:00+00:00",
          "2022-12-16T13:00:00+00:00",
          "2022-12-16T15:00:00+00:00",
          "2022-12-16T16:00:00+00:00",
          "2022-12-16T17:00:00+00:00",
          "2022-12-16T19:00:00+00:00",
          "2022-12-16T20:00:00+00:00",
          "2022-12-16T21:00:00+00:00",
          "2022-12-18T23:00:00+00:00",
          "2022-12-19T01:00:00+00:00",
          "2022-12-19T11:00:00+00:00",
          "2022-12-19T12:00:00+00:00",
          "2022-12-19T15:00:00+00:00",
          "2022-12-19T16:00:00+00:00",
          "2022-12-19T17:00:00+00:00",
          "2022-12-19T18:00:00+00:00",
          "2022-12-19T19:00:00+00:00",
          "2022-12-19T20:00:00+00:00",
          "2022-12-19T21:00:00+00:00",
          "2022-12-19T22:00:00+00:00",
          "2022-12-19T23:00:00+00:00",
          "2022-12-20T02:00:00+00:00",
          "2022-12-20T03:00:00+00:00",
          "2022-12-20T04:00:00+00:00",
          "2022-12-20T06:00:00+00:00",
          "2022-12-20T07:00:00+00:00",
          "2022-12-20T13:00:00+00:00",
          "2022-12-20T16:00:00+00:00",
          "2022-12-20T19:00:00+00:00",
          "2022-12-20T21:00:00+00:00",
          "2022-12-21T00:00:00+00:00",
          "2022-12-21T03:00:00+00:00",
          "2022-12-21T05:00:00+00:00",
          "2022-12-21T08:00:00+00:00",
          "2022-12-21T10:00:00+00:00",
          "2022-12-21T11:00:00+00:00",
          "2022-12-21T13:00:00+00:00",
          "2022-12-21T14:00:00+00:00",
          "2022-12-21T16:00:00+00:00",
          "2022-12-21T17:00:00+00:00",
          "2022-12-21T18:00:00+00:00",
          "2022-12-21T23:00:00+00:00",
          "2022-12-22T02:00:00+00:00",
          "2022-12-22T06:00:00+00:00",
          "2022-12-22T07:00:00+00:00",
          "2022-12-22T08:00:00+00:00",
          "2022-12-22T10:00:00+00:00",
          "2022-12-22T11:00:00+00:00",
          "2022-12-22T12:00:00+00:00",
          "2022-12-22T13:00:00+00:00",
          "2022-12-22T15:00:00+00:00",
          "2022-12-22T16:00:00+00:00",
          "2022-12-22T17:00:00+00:00",
          "2022-12-22T18:00:00+00:00",
          "2022-12-22T20:00:00+00:00",
          "2022-12-22T23:00:00+00:00",
          "2022-12-23T03:00:00+00:00",
          "2022-12-23T05:00:00+00:00",
          "2022-12-23T07:00:00+00:00",
          "2022-12-23T09:00:00+00:00",
          "2022-12-23T10:00:00+00:00",
          "2022-12-23T12:00:00+00:00",
          "2022-12-23T13:00:00+00:00",
          "2022-12-23T14:00:00+00:00",
          "2022-12-23T15:00:00+00:00",
          "2022-12-26T22:00:00+00:00",
          "2022-12-27T03:00:00+00:00",
          "2022-12-27T08:00:00+00:00",
          "2022-12-27T09:00:00+00:00",
          "2022-12-27T13:00:00+00:00",
          "2022-12-27T17:00:00+00:00",
          "2022-12-27T21:00:00+00:00",
          "2022-12-28T02:00:00+00:00",
          "2022-12-28T11:00:00+00:00",
          "2022-12-28T12:00:00+00:00",
          "2022-12-28T13:00:00+00:00",
          "2022-12-28T14:00:00+00:00",
          "2022-12-28T15:00:00+00:00",
          "2022-12-28T23:00:00+00:00",
          "2022-12-29T00:00:00+00:00",
          "2022-12-29T05:00:00+00:00",
          "2022-12-29T06:00:00+00:00",
          "2022-12-29T07:00:00+00:00",
          "2022-12-29T09:00:00+00:00",
          "2022-12-29T11:00:00+00:00",
          "2022-12-29T12:00:00+00:00",
          "2022-12-29T14:00:00+00:00",
          "2022-12-29T18:00:00+00:00",
          "2022-12-29T19:00:00+00:00",
          "2022-12-29T22:00:00+00:00",
          "2022-12-30T05:00:00+00:00",
          "2022-12-30T09:00:00+00:00",
          "2022-12-30T10:00:00+00:00",
          "2022-12-30T12:00:00+00:00",
          "2022-12-30T14:00:00+00:00",
          "2022-12-30T15:00:00+00:00",
          "2022-12-30T16:00:00+00:00",
          "2022-12-30T17:00:00+00:00",
          "2022-12-30T18:00:00+00:00",
          "2022-12-30T19:00:00+00:00",
          "2022-12-30T20:00:00+00:00",
          "2023-01-01T23:00:00+00:00",
          "2023-01-02T00:00:00+00:00",
          "2023-01-02T02:00:00+00:00",
          "2023-01-02T03:00:00+00:00",
          "2023-01-02T07:00:00+00:00",
          "2023-01-02T08:00:00+00:00",
          "2023-01-02T09:00:00+00:00",
          "2023-01-02T10:00:00+00:00",
          "2023-01-02T11:00:00+00:00",
          "2023-01-02T13:00:00+00:00",
          "2023-01-02T15:00:00+00:00",
          "2023-01-02T16:00:00+00:00",
          "2023-01-02T18:00:00+00:00",
          "2023-01-02T19:00:00+00:00",
          "2023-01-02T20:00:00+00:00",
          "2023-01-02T21:00:00+00:00",
          "2023-01-03T01:00:00+00:00",
          "2023-01-03T05:00:00+00:00",
          "2023-01-03T08:00:00+00:00",
          "2023-01-03T09:00:00+00:00",
          "2023-01-03T10:00:00+00:00",
          "2023-01-03T11:00:00+00:00",
          "2023-01-03T15:00:00+00:00",
          "2023-01-03T20:00:00+00:00",
          "2023-01-04T01:00:00+00:00",
          "2023-01-04T02:00:00+00:00",
          "2023-01-04T03:00:00+00:00",
          "2023-01-04T05:00:00+00:00",
          "2023-01-04T07:00:00+00:00",
          "2023-01-04T08:00:00+00:00",
          "2023-01-04T09:00:00+00:00",
          "2023-01-04T10:00:00+00:00",
          "2023-01-04T11:00:00+00:00",
          "2023-01-04T12:00:00+00:00",
          "2023-01-04T15:00:00+00:00",
          "2023-01-04T16:00:00+00:00",
          "2023-01-04T19:00:00+00:00",
          "2023-01-04T22:00:00+00:00",
          "2023-01-05T00:00:00+00:00",
          "2023-01-05T02:00:00+00:00",
          "2023-01-05T03:00:00+00:00",
          "2023-01-05T05:00:00+00:00",
          "2023-01-05T06:00:00+00:00",
          "2023-01-05T09:00:00+00:00",
          "2023-01-05T11:00:00+00:00",
          "2023-01-05T13:00:00+00:00",
          "2023-01-05T14:00:00+00:00",
          "2023-01-05T15:00:00+00:00",
          "2023-01-05T18:00:00+00:00",
          "2023-01-05T19:00:00+00:00",
          "2023-01-05T21:00:00+00:00",
          "2023-01-05T22:00:00+00:00",
          "2023-01-05T23:00:00+00:00",
          "2023-01-06T03:00:00+00:00",
          "2023-01-06T08:00:00+00:00",
          "2023-01-06T09:00:00+00:00",
          "2023-01-06T11:00:00+00:00",
          "2023-01-06T14:00:00+00:00",
          "2023-01-06T16:00:00+00:00",
          "2023-01-06T17:00:00+00:00",
          "2023-01-06T18:00:00+00:00",
          "2023-01-06T19:00:00+00:00",
          "2023-01-06T20:00:00+00:00",
          "2023-01-08T22:00:00+00:00",
          "2023-01-08T23:00:00+00:00",
          "2023-01-09T00:00:00+00:00",
          "2023-01-09T01:00:00+00:00",
          "2023-01-09T03:00:00+00:00",
          "2023-01-09T07:00:00+00:00",
          "2023-01-09T12:00:00+00:00",
          "2023-01-09T14:00:00+00:00",
          "2023-01-09T16:00:00+00:00",
          "2023-01-09T20:00:00+00:00",
          "2023-01-09T21:00:00+00:00",
          "2023-01-09T22:00:00+00:00",
          "2023-01-09T23:00:00+00:00",
          "2023-01-10T01:00:00+00:00",
          "2023-01-10T02:00:00+00:00",
          "2023-01-10T03:00:00+00:00",
          "2023-01-10T05:00:00+00:00",
          "2023-01-10T11:00:00+00:00",
          "2023-01-10T13:00:00+00:00",
          "2023-01-10T14:00:00+00:00",
          "2023-01-10T16:00:00+00:00",
          "2023-01-10T18:00:00+00:00",
          "2023-01-10T19:00:00+00:00",
          "2023-01-10T20:00:00+00:00",
          "2023-01-10T21:00:00+00:00",
          "2023-01-10T23:00:00+00:00",
          "2023-01-11T03:00:00+00:00",
          "2023-01-11T04:00:00+00:00",
          "2023-01-11T05:00:00+00:00",
          "2023-01-11T07:00:00+00:00",
          "2023-01-11T09:00:00+00:00",
          "2023-01-11T10:00:00+00:00",
          "2023-01-11T11:00:00+00:00",
          "2023-01-11T12:00:00+00:00",
          "2023-01-11T14:00:00+00:00",
          "2023-01-11T15:00:00+00:00",
          "2023-01-11T16:00:00+00:00",
          "2023-01-11T17:00:00+00:00",
          "2023-01-11T19:00:00+00:00",
          "2023-01-11T21:00:00+00:00",
          "2023-01-11T23:00:00+00:00",
          "2023-01-12T02:00:00+00:00",
          "2023-01-12T03:00:00+00:00",
          "2023-01-12T05:00:00+00:00",
          "2023-01-12T08:00:00+00:00",
          "2023-01-12T10:00:00+00:00",
          "2023-01-12T13:00:00+00:00",
          "2023-01-12T17:00:00+00:00",
          "2023-01-12T20:00:00+00:00",
          "2023-01-13T00:00:00+00:00",
          "2023-01-13T01:00:00+00:00",
          "2023-01-13T03:00:00+00:00",
          "2023-01-13T05:00:00+00:00",
          "2023-01-13T06:00:00+00:00",
          "2023-01-13T08:00:00+00:00",
          "2023-01-13T11:00:00+00:00",
          "2023-01-13T12:00:00+00:00",
          "2023-01-13T15:00:00+00:00",
          "2023-01-13T17:00:00+00:00",
          "2023-01-13T18:00:00+00:00",
          "2023-01-13T19:00:00+00:00",
          "2023-01-13T20:00:00+00:00",
          "2023-01-13T21:00:00+00:00",
          "2023-01-15T22:00:00+00:00",
          "2023-01-15T23:00:00+00:00",
          "2023-01-16T01:00:00+00:00",
          "2023-01-16T02:00:00+00:00",
          "2023-01-16T04:00:00+00:00",
          "2023-01-16T06:00:00+00:00",
          "2023-01-16T09:00:00+00:00",
          "2023-01-16T10:00:00+00:00",
          "2023-01-16T11:00:00+00:00",
          "2023-01-16T12:00:00+00:00",
          "2023-01-16T14:00:00+00:00",
          "2023-01-16T15:00:00+00:00",
          "2023-01-16T17:00:00+00:00",
          "2023-01-16T18:00:00+00:00",
          "2023-01-16T20:00:00+00:00",
          "2023-01-16T21:00:00+00:00",
          "2023-01-16T22:00:00+00:00",
          "2023-01-17T02:00:00+00:00",
          "2023-01-17T03:00:00+00:00",
          "2023-01-17T05:00:00+00:00",
          "2023-01-17T10:00:00+00:00",
          "2023-01-17T11:00:00+00:00",
          "2023-01-17T12:00:00+00:00",
          "2023-01-17T13:00:00+00:00",
          "2023-01-17T18:00:00+00:00",
          "2023-01-17T19:00:00+00:00",
          "2023-01-17T20:00:00+00:00",
          "2023-01-17T21:00:00+00:00",
          "2023-01-18T01:00:00+00:00",
          "2023-01-18T02:00:00+00:00",
          "2023-01-18T03:00:00+00:00",
          "2023-01-18T04:00:00+00:00",
          "2023-01-18T07:00:00+00:00",
          "2023-01-18T08:00:00+00:00",
          "2023-01-18T14:00:00+00:00",
          "2023-01-18T17:00:00+00:00",
          "2023-01-18T18:00:00+00:00",
          "2023-01-18T20:00:00+00:00",
          "2023-01-18T21:00:00+00:00",
          "2023-01-18T22:00:00+00:00",
          "2023-01-18T23:00:00+00:00",
          "2023-01-19T00:00:00+00:00",
          "2023-01-19T01:00:00+00:00",
          "2023-01-19T02:00:00+00:00",
          "2023-01-19T03:00:00+00:00",
          "2023-01-19T05:00:00+00:00",
          "2023-01-19T09:00:00+00:00",
          "2023-01-19T10:00:00+00:00",
          "2023-01-19T11:00:00+00:00",
          "2023-01-19T13:00:00+00:00",
          "2023-01-19T14:00:00+00:00",
          "2023-01-19T15:00:00+00:00",
          "2023-01-19T18:00:00+00:00",
          "2023-01-19T20:00:00+00:00",
          "2023-01-19T21:00:00+00:00",
          "2023-01-19T22:00:00+00:00",
          "2023-01-19T23:00:00+00:00",
          "2023-01-20T00:00:00+00:00",
          "2023-01-20T01:00:00+00:00",
          "2023-01-20T02:00:00+00:00",
          "2023-01-20T05:00:00+00:00",
          "2023-01-20T07:00:00+00:00",
          "2023-01-20T08:00:00+00:00",
          "2023-01-20T09:00:00+00:00",
          "2023-01-20T10:00:00+00:00",
          "2023-01-20T11:00:00+00:00",
          "2023-01-20T12:00:00+00:00",
          "2023-01-20T16:00:00+00:00",
          "2023-01-23T01:00:00+00:00",
          "2023-01-23T09:00:00+00:00",
          "2023-01-23T13:00:00+00:00",
          "2023-01-23T16:00:00+00:00",
          "2023-01-23T18:00:00+00:00",
          "2023-01-23T19:00:00+00:00",
          "2023-01-23T20:00:00+00:00",
          "2023-01-23T21:00:00+00:00",
          "2023-01-23T22:00:00+00:00",
          "2023-01-23T23:00:00+00:00",
          "2023-01-24T01:00:00+00:00",
          "2023-01-24T06:00:00+00:00",
          "2023-01-24T07:00:00+00:00",
          "2023-01-24T10:00:00+00:00",
          "2023-01-24T11:00:00+00:00",
          "2023-01-24T12:00:00+00:00",
          "2023-01-24T13:00:00+00:00",
          "2023-01-24T14:00:00+00:00",
          "2023-01-24T17:00:00+00:00",
          "2023-01-24T18:00:00+00:00",
          "2023-01-24T22:00:00+00:00",
          "2023-01-24T23:00:00+00:00",
          "2023-01-25T00:00:00+00:00",
          "2023-01-25T03:00:00+00:00",
          "2023-01-25T04:00:00+00:00",
          "2023-01-25T05:00:00+00:00",
          "2023-01-25T06:00:00+00:00",
          "2023-01-25T07:00:00+00:00",
          "2023-01-25T08:00:00+00:00",
          "2023-01-25T09:00:00+00:00",
          "2023-01-25T11:00:00+00:00",
          "2023-01-25T14:00:00+00:00",
          "2023-01-25T15:00:00+00:00",
          "2023-01-25T16:00:00+00:00",
          "2023-01-25T17:00:00+00:00",
          "2023-01-25T18:00:00+00:00",
          "2023-01-26T02:00:00+00:00",
          "2023-01-26T03:00:00+00:00",
          "2023-01-26T05:00:00+00:00",
          "2023-01-26T07:00:00+00:00",
          "2023-01-26T09:00:00+00:00",
          "2023-01-26T14:00:00+00:00",
          "2023-01-26T16:00:00+00:00",
          "2023-01-26T17:00:00+00:00",
          "2023-01-26T18:00:00+00:00",
          "2023-01-26T19:00:00+00:00",
          "2023-01-26T21:00:00+00:00",
          "2023-01-27T00:00:00+00:00",
          "2023-01-27T01:00:00+00:00",
          "2023-01-27T03:00:00+00:00",
          "2023-01-27T07:00:00+00:00",
          "2023-01-27T10:00:00+00:00",
          "2023-01-27T12:00:00+00:00",
          "2023-01-27T14:00:00+00:00",
          "2023-01-27T18:00:00+00:00",
          "2023-01-27T20:00:00+00:00",
          "2023-01-27T21:00:00+00:00",
          "2023-01-29T22:00:00+00:00",
          "2023-01-29T23:00:00+00:00",
          "2023-01-30T00:00:00+00:00",
          "2023-01-30T01:00:00+00:00",
          "2023-01-30T02:00:00+00:00",
          "2023-01-30T03:00:00+00:00",
          "2023-01-30T04:00:00+00:00",
          "2023-01-30T05:00:00+00:00",
          "2023-01-30T06:00:00+00:00",
          "2023-01-30T07:00:00+00:00",
          "2023-01-30T09:00:00+00:00",
          "2023-01-30T10:00:00+00:00",
          "2023-01-30T11:00:00+00:00",
          "2023-01-30T12:00:00+00:00",
          "2023-01-30T13:00:00+00:00",
          "2023-01-30T14:00:00+00:00",
          "2023-01-30T15:00:00+00:00",
          "2023-01-30T17:00:00+00:00",
          "2023-01-30T18:00:00+00:00",
          "2023-01-30T19:00:00+00:00",
          "2023-01-30T23:00:00+00:00",
          "2023-01-31T01:00:00+00:00",
          "2023-01-31T02:00:00+00:00",
          "2023-01-31T03:00:00+00:00",
          "2023-01-31T04:00:00+00:00",
          "2023-01-31T05:00:00+00:00",
          "2023-01-31T07:00:00+00:00",
          "2023-01-31T08:00:00+00:00",
          "2023-01-31T12:00:00+00:00",
          "2023-01-31T14:00:00+00:00",
          "2023-01-31T15:00:00+00:00",
          "2023-01-31T18:00:00+00:00",
          "2023-01-31T19:00:00+00:00",
          "2023-01-31T20:00:00+00:00",
          "2023-01-31T22:00:00+00:00",
          "2023-01-31T23:00:00+00:00",
          "2023-02-01T00:00:00+00:00",
          "2023-02-01T01:00:00+00:00",
          "2023-02-01T04:00:00+00:00",
          "2023-02-01T10:00:00+00:00",
          "2023-02-01T15:00:00+00:00",
          "2023-02-01T17:00:00+00:00",
          "2023-02-01T18:00:00+00:00",
          "2023-02-01T19:00:00+00:00",
          "2023-02-01T20:00:00+00:00",
          "2023-02-01T21:00:00+00:00",
          "2023-02-01T22:00:00+00:00",
          "2023-02-02T01:00:00+00:00",
          "2023-02-02T03:00:00+00:00",
          "2023-02-02T06:00:00+00:00",
          "2023-02-02T08:00:00+00:00",
          "2023-02-02T10:00:00+00:00",
          "2023-02-02T15:00:00+00:00",
          "2023-02-02T16:00:00+00:00",
          "2023-02-02T19:00:00+00:00",
          "2023-02-02T20:00:00+00:00",
          "2023-02-02T21:00:00+00:00",
          "2023-02-02T23:00:00+00:00",
          "2023-02-03T03:00:00+00:00",
          "2023-02-03T08:00:00+00:00",
          "2023-02-03T11:00:00+00:00",
          "2023-02-03T13:00:00+00:00",
          "2023-02-03T14:00:00+00:00",
          "2023-02-03T15:00:00+00:00",
          "2023-02-03T17:00:00+00:00",
          "2023-02-03T18:00:00+00:00",
          "2023-02-03T19:00:00+00:00",
          "2023-02-03T21:00:00+00:00",
          "2023-02-05T23:00:00+00:00",
          "2023-02-06T02:00:00+00:00",
          "2023-02-06T10:00:00+00:00",
          "2023-02-06T14:00:00+00:00",
          "2023-02-06T19:00:00+00:00",
          "2023-02-06T20:00:00+00:00",
          "2023-02-06T22:00:00+00:00",
          "2023-02-07T01:00:00+00:00",
          "2023-02-07T04:00:00+00:00",
          "2023-02-07T05:00:00+00:00",
          "2023-02-07T06:00:00+00:00",
          "2023-02-07T08:00:00+00:00",
          "2023-02-07T10:00:00+00:00",
          "2023-02-07T11:00:00+00:00",
          "2023-02-07T12:00:00+00:00",
          "2023-02-07T13:00:00+00:00",
          "2023-02-07T15:00:00+00:00",
          "2023-02-07T16:00:00+00:00",
          "2023-02-07T18:00:00+00:00",
          "2023-02-07T23:00:00+00:00",
          "2023-02-08T01:00:00+00:00",
          "2023-02-08T02:00:00+00:00",
          "2023-02-08T03:00:00+00:00",
          "2023-02-08T05:00:00+00:00",
          "2023-02-08T06:00:00+00:00",
          "2023-02-08T13:00:00+00:00",
          "2023-02-08T14:00:00+00:00",
          "2023-02-08T16:00:00+00:00",
          "2023-02-08T18:00:00+00:00",
          "2023-02-08T21:00:00+00:00",
          "2023-02-08T22:00:00+00:00",
          "2023-02-08T23:00:00+00:00",
          "2023-02-09T00:00:00+00:00",
          "2023-02-09T07:00:00+00:00",
          "2023-02-09T08:00:00+00:00",
          "2023-02-09T09:00:00+00:00",
          "2023-02-09T12:00:00+00:00",
          "2023-02-09T13:00:00+00:00",
          "2023-02-09T14:00:00+00:00",
          "2023-02-09T16:00:00+00:00",
          "2023-02-09T20:00:00+00:00",
          "2023-02-09T22:00:00+00:00",
          "2023-02-10T00:00:00+00:00",
          "2023-02-10T02:00:00+00:00",
          "2023-02-10T03:00:00+00:00",
          "2023-02-10T04:00:00+00:00",
          "2023-02-10T05:00:00+00:00",
          "2023-02-10T06:00:00+00:00",
          "2023-02-10T07:00:00+00:00",
          "2023-02-10T11:00:00+00:00",
          "2023-02-10T12:00:00+00:00",
          "2023-02-10T14:00:00+00:00",
          "2023-02-10T16:00:00+00:00",
          "2023-02-10T17:00:00+00:00",
          "2023-02-10T19:00:00+00:00",
          "2023-02-10T21:00:00+00:00",
          "2023-02-13T01:00:00+00:00",
          "2023-02-13T02:00:00+00:00",
          "2023-02-13T05:00:00+00:00",
          "2023-02-13T06:00:00+00:00",
          "2023-02-13T07:00:00+00:00",
          "2023-02-13T08:00:00+00:00",
          "2023-02-13T09:00:00+00:00",
          "2023-02-13T13:00:00+00:00",
          "2023-02-13T15:00:00+00:00",
          "2023-02-13T16:00:00+00:00",
          "2023-02-13T17:00:00+00:00",
          "2023-02-13T18:00:00+00:00",
          "2023-02-13T19:00:00+00:00",
          "2023-02-13T20:00:00+00:00",
          "2023-02-14T02:00:00+00:00",
          "2023-02-14T06:00:00+00:00",
          "2023-02-14T07:00:00+00:00",
          "2023-02-14T09:00:00+00:00",
          "2023-02-14T10:00:00+00:00",
          "2023-02-14T11:00:00+00:00",
          "2023-02-14T13:00:00+00:00",
          "2023-02-14T18:00:00+00:00",
          "2023-02-14T20:00:00+00:00",
          "2023-02-14T21:00:00+00:00",
          "2023-02-14T23:00:00+00:00",
          "2023-02-15T01:00:00+00:00",
          "2023-02-15T03:00:00+00:00",
          "2023-02-15T05:00:00+00:00",
          "2023-02-15T06:00:00+00:00",
          "2023-02-15T09:00:00+00:00",
          "2023-02-15T10:00:00+00:00",
          "2023-02-15T11:00:00+00:00",
          "2023-02-15T12:00:00+00:00",
          "2023-02-15T14:00:00+00:00",
          "2023-02-15T16:00:00+00:00",
          "2023-02-15T17:00:00+00:00",
          "2023-02-15T18:00:00+00:00",
          "2023-02-16T01:00:00+00:00",
          "2023-02-16T06:00:00+00:00",
          "2023-02-16T07:00:00+00:00",
          "2023-02-16T08:00:00+00:00",
          "2023-02-16T09:00:00+00:00",
          "2023-02-16T11:00:00+00:00",
          "2023-02-16T12:00:00+00:00",
          "2023-02-16T13:00:00+00:00",
          "2023-02-16T14:00:00+00:00",
          "2023-02-16T16:00:00+00:00",
          "2023-02-16T17:00:00+00:00",
          "2023-02-16T18:00:00+00:00",
          "2023-02-16T19:00:00+00:00",
          "2023-02-16T20:00:00+00:00",
          "2023-02-16T21:00:00+00:00",
          "2023-02-16T22:00:00+00:00",
          "2023-02-17T00:00:00+00:00",
          "2023-02-17T01:00:00+00:00",
          "2023-02-17T08:00:00+00:00",
          "2023-02-17T10:00:00+00:00",
          "2023-02-17T12:00:00+00:00",
          "2023-02-17T13:00:00+00:00",
          "2023-02-17T15:00:00+00:00",
          "2023-02-17T16:00:00+00:00",
          "2023-02-17T19:00:00+00:00",
          "2023-02-17T20:00:00+00:00",
          "2023-02-17T21:00:00+00:00",
          "2023-02-19T22:00:00+00:00",
          "2023-02-20T00:00:00+00:00",
          "2023-02-20T01:00:00+00:00",
          "2023-02-20T02:00:00+00:00",
          "2023-02-20T03:00:00+00:00",
          "2023-02-20T04:00:00+00:00",
          "2023-02-20T06:00:00+00:00",
          "2023-02-20T11:00:00+00:00",
          "2023-02-20T12:00:00+00:00",
          "2023-02-20T13:00:00+00:00",
          "2023-02-20T16:00:00+00:00",
          "2023-02-20T18:00:00+00:00",
          "2023-02-20T21:00:00+00:00",
          "2023-02-20T23:00:00+00:00",
          "2023-02-21T00:00:00+00:00",
          "2023-02-21T02:00:00+00:00",
          "2023-02-21T03:00:00+00:00",
          "2023-02-21T05:00:00+00:00",
          "2023-02-21T08:00:00+00:00",
          "2023-02-21T09:00:00+00:00",
          "2023-02-21T10:00:00+00:00",
          "2023-02-21T11:00:00+00:00",
          "2023-02-21T15:00:00+00:00",
          "2023-02-21T17:00:00+00:00",
          "2023-02-21T18:00:00+00:00",
          "2023-02-21T19:00:00+00:00",
          "2023-02-22T00:00:00+00:00",
          "2023-02-22T01:00:00+00:00",
          "2023-02-22T02:00:00+00:00",
          "2023-02-22T07:00:00+00:00",
          "2023-02-22T08:00:00+00:00",
          "2023-02-22T09:00:00+00:00",
          "2023-02-22T11:00:00+00:00",
          "2023-02-22T12:00:00+00:00",
          "2023-02-22T13:00:00+00:00",
          "2023-02-22T14:00:00+00:00",
          "2023-02-22T15:00:00+00:00",
          "2023-02-22T16:00:00+00:00",
          "2023-02-22T17:00:00+00:00",
          "2023-02-22T19:00:00+00:00",
          "2023-02-22T20:00:00+00:00",
          "2023-02-23T02:00:00+00:00",
          "2023-02-23T03:00:00+00:00",
          "2023-02-23T05:00:00+00:00",
          "2023-02-23T06:00:00+00:00",
          "2023-02-23T09:00:00+00:00",
          "2023-02-23T11:00:00+00:00",
          "2023-02-23T17:00:00+00:00",
          "2023-02-23T18:00:00+00:00",
          "2023-02-23T20:00:00+00:00",
          "2023-02-23T22:00:00+00:00",
          "2023-02-23T23:00:00+00:00",
          "2023-02-24T08:00:00+00:00",
          "2023-02-24T11:00:00+00:00",
          "2023-02-24T12:00:00+00:00",
          "2023-02-24T13:00:00+00:00",
          "2023-02-24T14:00:00+00:00",
          "2023-02-24T15:00:00+00:00",
          "2023-02-24T16:00:00+00:00",
          "2023-02-26T23:00:00+00:00",
          "2023-02-27T05:00:00+00:00",
          "2023-02-27T08:00:00+00:00",
          "2023-02-27T14:00:00+00:00",
          "2023-02-27T15:00:00+00:00",
          "2023-02-27T16:00:00+00:00",
          "2023-02-27T18:00:00+00:00",
          "2023-02-27T19:00:00+00:00",
          "2023-02-27T22:00:00+00:00",
          "2023-02-28T02:00:00+00:00",
          "2023-02-28T07:00:00+00:00",
          "2023-02-28T08:00:00+00:00",
          "2023-02-28T10:00:00+00:00",
          "2023-02-28T11:00:00+00:00",
          "2023-02-28T14:00:00+00:00",
          "2023-02-28T15:00:00+00:00",
          "2023-02-28T17:00:00+00:00",
          "2023-02-28T18:00:00+00:00",
          "2023-02-28T19:00:00+00:00",
          "2023-02-28T21:00:00+00:00",
          "2023-02-28T23:00:00+00:00",
          "2023-03-01T00:00:00+00:00",
          "2023-03-01T01:00:00+00:00",
          "2023-03-01T03:00:00+00:00",
          "2023-03-01T04:00:00+00:00",
          "2023-03-01T06:00:00+00:00",
          "2023-03-01T09:00:00+00:00",
          "2023-03-01T11:00:00+00:00",
          "2023-03-01T14:00:00+00:00",
          "2023-03-01T15:00:00+00:00",
          "2023-03-01T16:00:00+00:00",
          "2023-03-01T18:00:00+00:00",
          "2023-03-01T22:00:00+00:00",
          "2023-03-01T23:00:00+00:00",
          "2023-03-02T00:00:00+00:00",
          "2023-03-02T01:00:00+00:00",
          "2023-03-02T04:00:00+00:00",
          "2023-03-02T06:00:00+00:00",
          "2023-03-02T09:00:00+00:00",
          "2023-03-02T11:00:00+00:00",
          "2023-03-02T12:00:00+00:00",
          "2023-03-02T13:00:00+00:00",
          "2023-03-02T14:00:00+00:00",
          "2023-03-02T16:00:00+00:00",
          "2023-03-02T19:00:00+00:00",
          "2023-03-02T20:00:00+00:00",
          "2023-03-02T21:00:00+00:00",
          "2023-03-03T02:00:00+00:00",
          "2023-03-03T05:00:00+00:00",
          "2023-03-03T06:00:00+00:00",
          "2023-03-03T09:00:00+00:00",
          "2023-03-03T11:00:00+00:00",
          "2023-03-03T13:00:00+00:00",
          "2023-03-03T14:00:00+00:00",
          "2023-03-03T16:00:00+00:00",
          "2023-03-03T18:00:00+00:00",
          "2023-03-03T19:00:00+00:00",
          "2023-03-05T22:00:00+00:00",
          "2023-03-05T23:00:00+00:00",
          "2023-03-06T03:00:00+00:00",
          "2023-03-06T05:00:00+00:00",
          "2023-03-06T10:00:00+00:00",
          "2023-03-06T11:00:00+00:00",
          "2023-03-06T14:00:00+00:00",
          "2023-03-06T19:00:00+00:00",
          "2023-03-06T20:00:00+00:00",
          "2023-03-06T22:00:00+00:00",
          "2023-03-07T02:00:00+00:00",
          "2023-03-07T04:00:00+00:00",
          "2023-03-07T05:00:00+00:00",
          "2023-03-07T07:00:00+00:00",
          "2023-03-07T09:00:00+00:00",
          "2023-03-07T10:00:00+00:00",
          "2023-03-07T13:00:00+00:00",
          "2023-03-07T14:00:00+00:00",
          "2023-03-07T15:00:00+00:00",
          "2023-03-07T16:00:00+00:00",
          "2023-03-07T17:00:00+00:00",
          "2023-03-07T19:00:00+00:00",
          "2023-03-07T21:00:00+00:00",
          "2023-03-07T22:00:00+00:00",
          "2023-03-07T23:00:00+00:00",
          "2023-03-08T00:00:00+00:00",
          "2023-03-08T04:00:00+00:00",
          "2023-03-08T06:00:00+00:00",
          "2023-03-08T10:00:00+00:00",
          "2023-03-08T13:00:00+00:00",
          "2023-03-08T16:00:00+00:00",
          "2023-03-08T18:00:00+00:00",
          "2023-03-08T19:00:00+00:00",
          "2023-03-08T20:00:00+00:00",
          "2023-03-08T22:00:00+00:00",
          "2023-03-08T23:00:00+00:00",
          "2023-03-09T00:00:00+00:00",
          "2023-03-09T01:00:00+00:00",
          "2023-03-09T03:00:00+00:00",
          "2023-03-09T11:00:00+00:00",
          "2023-03-09T16:00:00+00:00",
          "2023-03-09T20:00:00+00:00",
          "2023-03-09T21:00:00+00:00",
          "2023-03-10T00:00:00+00:00",
          "2023-03-10T02:00:00+00:00",
          "2023-03-10T03:00:00+00:00",
          "2023-03-10T05:00:00+00:00",
          "2023-03-10T06:00:00+00:00",
          "2023-03-10T10:00:00+00:00",
          "2023-03-10T13:00:00+00:00",
          "2023-03-10T16:00:00+00:00",
          "2023-03-10T17:00:00+00:00",
          "2023-03-10T18:00:00+00:00",
          "2023-03-10T21:00:00+00:00",
          "2023-03-12T21:00:00+00:00",
          "2023-03-13T01:00:00+00:00",
          "2023-03-13T02:00:00+00:00",
          "2023-03-13T03:00:00+00:00",
          "2023-03-13T09:00:00+00:00",
          "2023-03-13T11:00:00+00:00",
          "2023-03-13T12:00:00+00:00",
          "2023-03-13T14:00:00+00:00",
          "2023-03-13T16:00:00+00:00",
          "2023-03-13T20:00:00+00:00",
          "2023-03-14T00:00:00+00:00",
          "2023-03-14T03:00:00+00:00",
          "2023-03-14T04:00:00+00:00",
          "2023-03-14T06:00:00+00:00",
          "2023-03-14T07:00:00+00:00",
          "2023-03-14T09:00:00+00:00",
          "2023-03-14T10:00:00+00:00",
          "2023-03-14T12:00:00+00:00",
          "2023-03-14T13:00:00+00:00",
          "2023-03-14T14:00:00+00:00",
          "2023-03-14T15:00:00+00:00",
          "2023-03-14T18:00:00+00:00",
          "2023-03-14T21:00:00+00:00",
          "2023-03-14T22:00:00+00:00",
          "2023-03-15T03:00:00+00:00",
          "2023-03-15T04:00:00+00:00",
          "2023-03-15T05:00:00+00:00",
          "2023-03-15T06:00:00+00:00",
          "2023-03-15T07:00:00+00:00",
          "2023-03-15T09:00:00+00:00",
          "2023-03-15T11:00:00+00:00",
          "2023-03-15T12:00:00+00:00",
          "2023-03-15T13:00:00+00:00",
          "2023-03-15T14:00:00+00:00",
          "2023-03-15T15:00:00+00:00",
          "2023-03-16T02:00:00+00:00",
          "2023-03-16T03:00:00+00:00",
          "2023-03-16T09:00:00+00:00",
          "2023-03-16T13:00:00+00:00",
          "2023-03-16T14:00:00+00:00",
          "2023-03-16T15:00:00+00:00",
          "2023-03-16T16:00:00+00:00",
          "2023-03-16T17:00:00+00:00",
          "2023-03-16T18:00:00+00:00",
          "2023-03-16T19:00:00+00:00",
          "2023-03-16T20:00:00+00:00",
          "2023-03-16T21:00:00+00:00",
          "2023-03-16T22:00:00+00:00",
          "2023-03-16T23:00:00+00:00",
          "2023-03-17T00:00:00+00:00",
          "2023-03-17T01:00:00+00:00",
          "2023-03-17T02:00:00+00:00",
          "2023-03-17T13:00:00+00:00",
          "2023-03-17T15:00:00+00:00",
          "2023-03-17T16:00:00+00:00",
          "2023-03-17T17:00:00+00:00",
          "2023-03-17T18:00:00+00:00",
          "2023-03-19T21:00:00+00:00",
          "2023-03-19T23:00:00+00:00",
          "2023-03-20T08:00:00+00:00",
          "2023-03-20T09:00:00+00:00",
          "2023-03-20T11:00:00+00:00",
          "2023-03-20T12:00:00+00:00",
          "2023-03-20T13:00:00+00:00",
          "2023-03-20T14:00:00+00:00",
          "2023-03-20T19:00:00+00:00",
          "2023-03-20T22:00:00+00:00",
          "2023-03-21T00:00:00+00:00",
          "2023-03-21T01:00:00+00:00",
          "2023-03-21T10:00:00+00:00",
          "2023-03-21T11:00:00+00:00",
          "2023-03-21T12:00:00+00:00",
          "2023-03-21T14:00:00+00:00",
          "2023-03-21T15:00:00+00:00",
          "2023-03-21T21:00:00+00:00",
          "2023-03-22T00:00:00+00:00",
          "2023-03-22T06:00:00+00:00",
          "2023-03-22T07:00:00+00:00",
          "2023-03-22T09:00:00+00:00",
          "2023-03-22T10:00:00+00:00",
          "2023-03-22T12:00:00+00:00",
          "2023-03-22T13:00:00+00:00",
          "2023-03-22T14:00:00+00:00",
          "2023-03-22T15:00:00+00:00",
          "2023-03-22T16:00:00+00:00",
          "2023-03-22T20:00:00+00:00",
          "2023-03-22T21:00:00+00:00",
          "2023-03-22T22:00:00+00:00",
          "2023-03-22T23:00:00+00:00",
          "2023-03-23T01:00:00+00:00",
          "2023-03-23T02:00:00+00:00",
          "2023-03-23T04:00:00+00:00",
          "2023-03-23T07:00:00+00:00",
          "2023-03-23T14:00:00+00:00",
          "2023-03-23T16:00:00+00:00",
          "2023-03-23T19:00:00+00:00",
          "2023-03-23T21:00:00+00:00",
          "2023-03-23T23:00:00+00:00",
          "2023-03-24T00:00:00+00:00",
          "2023-03-24T01:00:00+00:00",
          "2023-03-24T02:00:00+00:00",
          "2023-03-24T03:00:00+00:00",
          "2023-03-24T04:00:00+00:00",
          "2023-03-24T06:00:00+00:00",
          "2023-03-24T14:00:00+00:00",
          "2023-03-24T16:00:00+00:00",
          "2023-03-24T18:00:00+00:00",
          "2023-03-27T00:00:00+00:00",
          "2023-03-27T01:00:00+00:00",
          "2023-03-27T02:00:00+00:00",
          "2023-03-27T03:00:00+00:00",
          "2023-03-27T04:00:00+00:00",
          "2023-03-27T05:00:00+00:00",
          "2023-03-27T06:00:00+00:00",
          "2023-03-27T10:00:00+00:00",
          "2023-03-27T11:00:00+00:00",
          "2023-03-27T12:00:00+00:00",
          "2023-03-28T03:00:00+00:00",
          "2023-03-28T04:00:00+00:00",
          "2023-03-28T07:00:00+00:00",
          "2023-03-28T08:00:00+00:00",
          "2023-03-28T10:00:00+00:00",
          "2023-03-28T11:00:00+00:00",
          "2023-03-28T12:00:00+00:00",
          "2023-03-28T14:00:00+00:00",
          "2023-03-28T21:00:00+00:00",
          "2023-03-29T00:00:00+00:00",
          "2023-03-29T01:00:00+00:00",
          "2023-03-29T02:00:00+00:00",
          "2023-03-29T03:00:00+00:00",
          "2023-03-29T08:00:00+00:00",
          "2023-03-29T15:00:00+00:00",
          "2023-03-29T16:00:00+00:00",
          "2023-03-29T17:00:00+00:00",
          "2023-03-29T18:00:00+00:00",
          "2023-03-30T02:00:00+00:00",
          "2023-03-30T08:00:00+00:00",
          "2023-03-30T12:00:00+00:00",
          "2023-03-30T14:00:00+00:00",
          "2023-03-30T15:00:00+00:00",
          "2023-03-30T17:00:00+00:00",
          "2023-03-30T18:00:00+00:00",
          "2023-03-30T19:00:00+00:00",
          "2023-03-30T21:00:00+00:00",
          "2023-03-30T23:00:00+00:00",
          "2023-03-31T01:00:00+00:00",
          "2023-03-31T02:00:00+00:00",
          "2023-03-31T04:00:00+00:00",
          "2023-03-31T13:00:00+00:00",
          "2023-03-31T14:00:00+00:00",
          "2023-03-31T15:00:00+00:00",
          "2023-03-31T17:00:00+00:00",
          "2023-03-31T18:00:00+00:00",
          "2023-03-31T19:00:00+00:00",
          "2023-03-31T20:00:00+00:00",
          "2023-04-02T21:00:00+00:00",
          "2023-04-02T22:00:00+00:00",
          "2023-04-03T00:00:00+00:00",
          "2023-04-03T03:00:00+00:00",
          "2023-04-03T06:00:00+00:00",
          "2023-04-03T08:00:00+00:00",
          "2023-04-03T11:00:00+00:00",
          "2023-04-03T12:00:00+00:00",
          "2023-04-03T13:00:00+00:00",
          "2023-04-03T14:00:00+00:00",
          "2023-04-03T15:00:00+00:00",
          "2023-04-03T16:00:00+00:00",
          "2023-04-03T17:00:00+00:00",
          "2023-04-03T18:00:00+00:00",
          "2023-04-03T20:00:00+00:00",
          "2023-04-03T21:00:00+00:00",
          "2023-04-03T22:00:00+00:00",
          "2023-04-04T02:00:00+00:00",
          "2023-04-04T09:00:00+00:00",
          "2023-04-04T11:00:00+00:00",
          "2023-04-04T16:00:00+00:00",
          "2023-04-04T17:00:00+00:00",
          "2023-04-04T19:00:00+00:00",
          "2023-04-05T00:00:00+00:00",
          "2023-04-05T02:00:00+00:00",
          "2023-04-05T04:00:00+00:00",
          "2023-04-05T07:00:00+00:00",
          "2023-04-05T08:00:00+00:00",
          "2023-04-05T13:00:00+00:00",
          "2023-04-05T15:00:00+00:00",
          "2023-04-05T17:00:00+00:00",
          "2023-04-05T19:00:00+00:00",
          "2023-04-05T20:00:00+00:00",
          "2023-04-05T22:00:00+00:00",
          "2023-04-05T23:00:00+00:00",
          "2023-04-06T00:00:00+00:00",
          "2023-04-06T04:00:00+00:00",
          "2023-04-06T06:00:00+00:00",
          "2023-04-06T09:00:00+00:00",
          "2023-04-06T13:00:00+00:00",
          "2023-04-06T14:00:00+00:00",
          "2023-04-06T15:00:00+00:00",
          "2023-04-06T16:00:00+00:00",
          "2023-04-06T17:00:00+00:00",
          "2023-04-06T19:00:00+00:00",
          "2023-04-07T03:00:00+00:00",
          "2023-04-07T04:00:00+00:00",
          "2023-04-07T09:00:00+00:00",
          "2023-04-07T13:00:00+00:00",
          "2023-04-07T14:00:00+00:00",
          "2023-04-07T15:00:00+00:00",
          "2023-04-07T16:00:00+00:00",
          "2023-04-07T18:00:00+00:00",
          "2023-04-10T00:00:00+00:00",
          "2023-04-10T03:00:00+00:00",
          "2023-04-10T04:00:00+00:00",
          "2023-04-10T05:00:00+00:00",
          "2023-04-10T06:00:00+00:00",
          "2023-04-10T07:00:00+00:00",
          "2023-04-10T10:00:00+00:00",
          "2023-04-10T13:00:00+00:00",
          "2023-04-11T04:00:00+00:00",
          "2023-04-11T05:00:00+00:00",
          "2023-04-11T08:00:00+00:00",
          "2023-04-11T09:00:00+00:00",
          "2023-04-11T10:00:00+00:00",
          "2023-04-11T11:00:00+00:00",
          "2023-04-11T12:00:00+00:00",
          "2023-04-11T14:00:00+00:00",
          "2023-04-11T15:00:00+00:00",
          "2023-04-11T16:00:00+00:00",
          "2023-04-12T00:00:00+00:00",
          "2023-04-12T02:00:00+00:00",
          "2023-04-12T05:00:00+00:00",
          "2023-04-12T10:00:00+00:00",
          "2023-04-12T13:00:00+00:00",
          "2023-04-12T15:00:00+00:00",
          "2023-04-12T18:00:00+00:00",
          "2023-04-12T19:00:00+00:00",
          "2023-04-12T20:00:00+00:00",
          "2023-04-12T21:00:00+00:00",
          "2023-04-12T23:00:00+00:00",
          "2023-04-13T00:00:00+00:00",
          "2023-04-13T02:00:00+00:00",
          "2023-04-13T11:00:00+00:00",
          "2023-04-13T12:00:00+00:00",
          "2023-04-13T13:00:00+00:00",
          "2023-04-13T16:00:00+00:00",
          "2023-04-13T17:00:00+00:00",
          "2023-04-13T19:00:00+00:00",
          "2023-04-14T03:00:00+00:00",
          "2023-04-14T05:00:00+00:00",
          "2023-04-14T10:00:00+00:00",
          "2023-04-14T11:00:00+00:00",
          "2023-04-14T14:00:00+00:00",
          "2023-04-14T15:00:00+00:00",
          "2023-04-14T16:00:00+00:00",
          "2023-04-14T17:00:00+00:00",
          "2023-04-14T20:00:00+00:00",
          "2023-04-17T01:00:00+00:00",
          "2023-04-17T06:00:00+00:00",
          "2023-04-17T14:00:00+00:00",
          "2023-04-17T20:00:00+00:00",
          "2023-04-17T21:00:00+00:00",
          "2023-04-17T23:00:00+00:00",
          "2023-04-18T00:00:00+00:00",
          "2023-04-18T04:00:00+00:00",
          "2023-04-18T05:00:00+00:00",
          "2023-04-18T06:00:00+00:00",
          "2023-04-18T07:00:00+00:00",
          "2023-04-18T09:00:00+00:00",
          "2023-04-18T10:00:00+00:00",
          "2023-04-18T13:00:00+00:00",
          "2023-04-18T14:00:00+00:00",
          "2023-04-18T15:00:00+00:00",
          "2023-04-18T16:00:00+00:00",
          "2023-04-18T18:00:00+00:00",
          "2023-04-18T21:00:00+00:00",
          "2023-04-18T23:00:00+00:00",
          "2023-04-19T01:00:00+00:00",
          "2023-04-19T03:00:00+00:00",
          "2023-04-19T07:00:00+00:00",
          "2023-04-19T08:00:00+00:00",
          "2023-04-19T09:00:00+00:00",
          "2023-04-19T10:00:00+00:00",
          "2023-04-19T11:00:00+00:00",
          "2023-04-19T13:00:00+00:00",
          "2023-04-19T15:00:00+00:00",
          "2023-04-19T19:00:00+00:00",
          "2023-04-19T23:00:00+00:00",
          "2023-04-20T00:00:00+00:00",
          "2023-04-20T05:00:00+00:00",
          "2023-04-20T06:00:00+00:00",
          "2023-04-20T07:00:00+00:00",
          "2023-04-20T09:00:00+00:00",
          "2023-04-20T12:00:00+00:00",
          "2023-04-20T15:00:00+00:00",
          "2023-04-20T17:00:00+00:00",
          "2023-04-20T22:00:00+00:00",
          "2023-04-20T23:00:00+00:00",
          "2023-04-21T00:00:00+00:00",
          "2023-04-21T01:00:00+00:00",
          "2023-04-21T02:00:00+00:00",
          "2023-04-21T06:00:00+00:00",
          "2023-04-21T07:00:00+00:00",
          "2023-04-21T09:00:00+00:00",
          "2023-04-21T18:00:00+00:00",
          "2023-04-21T19:00:00+00:00",
          "2023-04-21T20:00:00+00:00",
          "2023-04-23T22:00:00+00:00",
          "2023-04-24T01:00:00+00:00",
          "2023-04-24T02:00:00+00:00",
          "2023-04-24T03:00:00+00:00",
          "2023-04-24T04:00:00+00:00",
          "2023-04-24T05:00:00+00:00",
          "2023-04-24T06:00:00+00:00",
          "2023-04-24T08:00:00+00:00",
          "2023-04-24T11:00:00+00:00",
          "2023-04-24T13:00:00+00:00",
          "2023-04-24T14:00:00+00:00",
          "2023-04-24T15:00:00+00:00",
          "2023-04-24T20:00:00+00:00",
          "2023-04-24T21:00:00+00:00",
          "2023-04-24T23:00:00+00:00",
          "2023-04-25T05:00:00+00:00",
          "2023-04-25T06:00:00+00:00",
          "2023-04-25T08:00:00+00:00",
          "2023-04-25T13:00:00+00:00",
          "2023-04-25T14:00:00+00:00",
          "2023-04-25T15:00:00+00:00",
          "2023-04-25T16:00:00+00:00",
          "2023-04-25T18:00:00+00:00",
          "2023-04-25T22:00:00+00:00",
          "2023-04-25T23:00:00+00:00",
          "2023-04-26T04:00:00+00:00",
          "2023-04-26T06:00:00+00:00",
          "2023-04-26T07:00:00+00:00",
          "2023-04-26T08:00:00+00:00",
          "2023-04-26T09:00:00+00:00",
          "2023-04-26T12:00:00+00:00",
          "2023-04-26T15:00:00+00:00",
          "2023-04-26T19:00:00+00:00",
          "2023-04-26T20:00:00+00:00",
          "2023-04-27T02:00:00+00:00",
          "2023-04-27T04:00:00+00:00",
          "2023-04-27T05:00:00+00:00",
          "2023-04-27T07:00:00+00:00",
          "2023-04-27T08:00:00+00:00",
          "2023-04-27T09:00:00+00:00",
          "2023-04-27T10:00:00+00:00",
          "2023-04-27T11:00:00+00:00",
          "2023-04-27T13:00:00+00:00",
          "2023-04-27T14:00:00+00:00",
          "2023-04-27T15:00:00+00:00",
          "2023-04-27T20:00:00+00:00",
          "2023-04-28T00:00:00+00:00",
          "2023-04-28T01:00:00+00:00",
          "2023-04-28T03:00:00+00:00",
          "2023-04-28T04:00:00+00:00",
          "2023-04-28T05:00:00+00:00",
          "2023-04-28T07:00:00+00:00",
          "2023-04-28T08:00:00+00:00",
          "2023-04-28T10:00:00+00:00",
          "2023-04-28T11:00:00+00:00",
          "2023-04-28T13:00:00+00:00",
          "2023-04-28T15:00:00+00:00",
          "2023-04-28T20:00:00+00:00",
          "2023-04-30T21:00:00+00:00",
          "2023-04-30T22:00:00+00:00",
          "2023-05-01T03:00:00+00:00",
          "2023-05-01T07:00:00+00:00",
          "2023-05-01T08:00:00+00:00",
          "2023-05-01T09:00:00+00:00",
          "2023-05-01T10:00:00+00:00",
          "2023-05-01T12:00:00+00:00",
          "2023-05-01T16:00:00+00:00",
          "2023-05-01T18:00:00+00:00",
          "2023-05-01T20:00:00+00:00",
          "2023-05-01T22:00:00+00:00",
          "2023-05-01T23:00:00+00:00",
          "2023-05-02T00:00:00+00:00",
          "2023-05-02T02:00:00+00:00",
          "2023-05-02T08:00:00+00:00",
          "2023-05-02T10:00:00+00:00",
          "2023-05-02T11:00:00+00:00",
          "2023-05-02T12:00:00+00:00",
          "2023-05-02T14:00:00+00:00",
          "2023-05-02T15:00:00+00:00",
          "2023-05-02T16:00:00+00:00",
          "2023-05-02T17:00:00+00:00",
          "2023-05-02T20:00:00+00:00",
          "2023-05-02T22:00:00+00:00",
          "2023-05-02T23:00:00+00:00",
          "2023-05-03T00:00:00+00:00",
          "2023-05-03T07:00:00+00:00",
          "2023-05-03T16:00:00+00:00",
          "2023-05-03T18:00:00+00:00",
          "2023-05-03T19:00:00+00:00",
          "2023-05-04T03:00:00+00:00",
          "2023-05-04T11:00:00+00:00",
          "2023-05-04T12:00:00+00:00",
          "2023-05-04T13:00:00+00:00",
          "2023-05-04T14:00:00+00:00",
          "2023-05-04T15:00:00+00:00",
          "2023-05-04T16:00:00+00:00",
          "2023-05-04T17:00:00+00:00",
          "2023-05-04T18:00:00+00:00",
          "2023-05-05T01:00:00+00:00",
          "2023-05-05T11:00:00+00:00",
          "2023-05-05T12:00:00+00:00",
          "2023-05-05T15:00:00+00:00",
          "2023-05-05T18:00:00+00:00",
          "2023-05-05T20:00:00+00:00",
          "2023-05-07T23:00:00+00:00",
          "2023-05-08T03:00:00+00:00",
          "2023-05-08T04:00:00+00:00",
          "2023-05-08T05:00:00+00:00",
          "2023-05-08T09:00:00+00:00",
          "2023-05-08T11:00:00+00:00",
          "2023-05-08T13:00:00+00:00",
          "2023-05-08T16:00:00+00:00",
          "2023-05-08T21:00:00+00:00",
          "2023-05-08T22:00:00+00:00",
          "2023-05-08T23:00:00+00:00",
          "2023-05-09T00:00:00+00:00",
          "2023-05-09T02:00:00+00:00",
          "2023-05-09T04:00:00+00:00",
          "2023-05-09T05:00:00+00:00",
          "2023-05-09T08:00:00+00:00",
          "2023-05-09T11:00:00+00:00",
          "2023-05-09T12:00:00+00:00",
          "2023-05-09T14:00:00+00:00",
          "2023-05-09T15:00:00+00:00",
          "2023-05-09T16:00:00+00:00",
          "2023-05-09T19:00:00+00:00",
          "2023-05-09T21:00:00+00:00",
          "2023-05-09T22:00:00+00:00",
          "2023-05-10T00:00:00+00:00",
          "2023-05-10T01:00:00+00:00",
          "2023-05-10T02:00:00+00:00",
          "2023-05-10T04:00:00+00:00",
          "2023-05-10T05:00:00+00:00",
          "2023-05-10T06:00:00+00:00",
          "2023-05-10T08:00:00+00:00",
          "2023-05-10T12:00:00+00:00",
          "2023-05-10T13:00:00+00:00",
          "2023-05-10T14:00:00+00:00",
          "2023-05-10T15:00:00+00:00",
          "2023-05-10T16:00:00+00:00",
          "2023-05-10T17:00:00+00:00",
          "2023-05-10T18:00:00+00:00",
          "2023-05-10T19:00:00+00:00",
          "2023-05-10T21:00:00+00:00",
          "2023-05-10T23:00:00+00:00",
          "2023-05-11T03:00:00+00:00",
          "2023-05-11T04:00:00+00:00",
          "2023-05-11T05:00:00+00:00",
          "2023-05-11T06:00:00+00:00",
          "2023-05-11T09:00:00+00:00",
          "2023-05-11T10:00:00+00:00",
          "2023-05-11T14:00:00+00:00",
          "2023-05-11T15:00:00+00:00",
          "2023-05-11T17:00:00+00:00",
          "2023-05-11T18:00:00+00:00",
          "2023-05-11T19:00:00+00:00",
          "2023-05-12T06:00:00+00:00",
          "2023-05-12T07:00:00+00:00",
          "2023-05-12T09:00:00+00:00",
          "2023-05-12T10:00:00+00:00",
          "2023-05-12T14:00:00+00:00",
          "2023-05-12T15:00:00+00:00",
          "2023-05-12T16:00:00+00:00",
          "2023-05-12T17:00:00+00:00",
          "2023-05-12T18:00:00+00:00",
          "2023-05-14T22:00:00+00:00",
          "2023-05-14T23:00:00+00:00",
          "2023-05-15T00:00:00+00:00",
          "2023-05-15T04:00:00+00:00",
          "2023-05-15T07:00:00+00:00",
          "2023-05-15T10:00:00+00:00",
          "2023-05-15T12:00:00+00:00",
          "2023-05-15T13:00:00+00:00",
          "2023-05-15T14:00:00+00:00",
          "2023-05-15T15:00:00+00:00",
          "2023-05-15T16:00:00+00:00",
          "2023-05-15T17:00:00+00:00",
          "2023-05-15T18:00:00+00:00",
          "2023-05-15T22:00:00+00:00",
          "2023-05-16T03:00:00+00:00",
          "2023-05-16T06:00:00+00:00",
          "2023-05-16T09:00:00+00:00",
          "2023-05-16T11:00:00+00:00",
          "2023-05-16T12:00:00+00:00",
          "2023-05-16T13:00:00+00:00",
          "2023-05-16T15:00:00+00:00",
          "2023-05-16T17:00:00+00:00",
          "2023-05-16T18:00:00+00:00",
          "2023-05-16T20:00:00+00:00",
          "2023-05-16T23:00:00+00:00",
          "2023-05-17T00:00:00+00:00",
          "2023-05-17T04:00:00+00:00",
          "2023-05-17T05:00:00+00:00",
          "2023-05-17T07:00:00+00:00",
          "2023-05-17T08:00:00+00:00",
          "2023-05-17T11:00:00+00:00",
          "2023-05-17T13:00:00+00:00",
          "2023-05-17T16:00:00+00:00",
          "2023-05-17T23:00:00+00:00",
          "2023-05-18T00:00:00+00:00",
          "2023-05-18T04:00:00+00:00",
          "2023-05-18T05:00:00+00:00",
          "2023-05-18T12:00:00+00:00",
          "2023-05-18T14:00:00+00:00",
          "2023-05-18T15:00:00+00:00",
          "2023-05-18T16:00:00+00:00",
          "2023-05-18T17:00:00+00:00",
          "2023-05-18T19:00:00+00:00",
          "2023-05-18T22:00:00+00:00",
          "2023-05-19T00:00:00+00:00",
          "2023-05-19T06:00:00+00:00",
          "2023-05-19T09:00:00+00:00",
          "2023-05-19T13:00:00+00:00",
          "2023-05-19T14:00:00+00:00",
          "2023-05-19T15:00:00+00:00",
          "2023-05-19T16:00:00+00:00",
          "2023-05-21T22:00:00+00:00",
          "2023-05-21T23:00:00+00:00",
          "2023-05-22T00:00:00+00:00",
          "2023-05-22T01:00:00+00:00",
          "2023-05-22T03:00:00+00:00",
          "2023-05-22T06:00:00+00:00",
          "2023-05-22T08:00:00+00:00",
          "2023-05-22T09:00:00+00:00",
          "2023-05-22T14:00:00+00:00",
          "2023-05-22T15:00:00+00:00",
          "2023-05-22T16:00:00+00:00",
          "2023-05-22T17:00:00+00:00",
          "2023-05-22T20:00:00+00:00",
          "2023-05-22T21:00:00+00:00",
          "2023-05-22T22:00:00+00:00",
          "2023-05-23T01:00:00+00:00",
          "2023-05-23T02:00:00+00:00",
          "2023-05-23T03:00:00+00:00",
          "2023-05-23T09:00:00+00:00",
          "2023-05-23T10:00:00+00:00",
          "2023-05-23T11:00:00+00:00",
          "2023-05-23T12:00:00+00:00",
          "2023-05-23T13:00:00+00:00",
          "2023-05-23T14:00:00+00:00",
          "2023-05-23T15:00:00+00:00",
          "2023-05-23T16:00:00+00:00",
          "2023-05-23T17:00:00+00:00",
          "2023-05-23T18:00:00+00:00",
          "2023-05-24T00:00:00+00:00",
          "2023-05-24T01:00:00+00:00",
          "2023-05-24T04:00:00+00:00",
          "2023-05-24T05:00:00+00:00",
          "2023-05-24T07:00:00+00:00",
          "2023-05-24T08:00:00+00:00",
          "2023-05-24T09:00:00+00:00",
          "2023-05-24T12:00:00+00:00",
          "2023-05-24T13:00:00+00:00",
          "2023-05-24T14:00:00+00:00",
          "2023-05-24T15:00:00+00:00",
          "2023-05-24T16:00:00+00:00",
          "2023-05-24T18:00:00+00:00",
          "2023-05-24T22:00:00+00:00",
          "2023-05-25T01:00:00+00:00",
          "2023-05-25T03:00:00+00:00",
          "2023-05-25T09:00:00+00:00",
          "2023-05-25T12:00:00+00:00",
          "2023-05-25T14:00:00+00:00",
          "2023-05-25T16:00:00+00:00",
          "2023-05-26T00:00:00+00:00",
          "2023-05-26T04:00:00+00:00",
          "2023-05-26T05:00:00+00:00",
          "2023-05-26T08:00:00+00:00",
          "2023-05-26T10:00:00+00:00",
          "2023-05-26T11:00:00+00:00",
          "2023-05-26T12:00:00+00:00",
          "2023-05-26T15:00:00+00:00",
          "2023-05-26T16:00:00+00:00",
          "2023-05-26T17:00:00+00:00",
          "2023-05-26T19:00:00+00:00",
          "2023-05-26T20:00:00+00:00",
          "2023-05-28T21:00:00+00:00",
          "2023-05-28T23:00:00+00:00",
          "2023-05-29T01:00:00+00:00",
          "2023-05-29T02:00:00+00:00",
          "2023-05-29T10:00:00+00:00",
          "2023-05-29T12:00:00+00:00",
          "2023-05-29T13:00:00+00:00",
          "2023-05-29T14:00:00+00:00",
          "2023-05-29T15:00:00+00:00",
          "2023-05-29T16:00:00+00:00",
          "2023-05-29T18:00:00+00:00",
          "2023-05-29T19:00:00+00:00",
          "2023-05-29T20:00:00+00:00",
          "2023-05-30T00:00:00+00:00",
          "2023-05-30T02:00:00+00:00",
          "2023-05-30T05:00:00+00:00",
          "2023-05-30T06:00:00+00:00",
          "2023-05-30T07:00:00+00:00",
          "2023-05-30T11:00:00+00:00",
          "2023-05-30T14:00:00+00:00",
          "2023-05-30T15:00:00+00:00",
          "2023-05-30T17:00:00+00:00",
          "2023-05-30T21:00:00+00:00",
          "2023-05-31T00:00:00+00:00",
          "2023-05-31T01:00:00+00:00",
          "2023-05-31T02:00:00+00:00",
          "2023-05-31T07:00:00+00:00",
          "2023-05-31T08:00:00+00:00",
          "2023-05-31T11:00:00+00:00",
          "2023-05-31T14:00:00+00:00",
          "2023-05-31T16:00:00+00:00",
          "2023-05-31T20:00:00+00:00",
          "2023-05-31T22:00:00+00:00",
          "2023-05-31T23:00:00+00:00",
          "2023-06-01T01:00:00+00:00",
          "2023-06-01T03:00:00+00:00",
          "2023-06-01T06:00:00+00:00",
          "2023-06-01T08:00:00+00:00",
          "2023-06-01T09:00:00+00:00",
          "2023-06-01T10:00:00+00:00",
          "2023-06-01T11:00:00+00:00",
          "2023-06-01T12:00:00+00:00",
          "2023-06-01T13:00:00+00:00",
          "2023-06-01T18:00:00+00:00",
          "2023-06-01T21:00:00+00:00",
          "2023-06-01T22:00:00+00:00",
          "2023-06-02T02:00:00+00:00",
          "2023-06-02T05:00:00+00:00",
          "2023-06-02T07:00:00+00:00",
          "2023-06-02T14:00:00+00:00",
          "2023-06-02T15:00:00+00:00",
          "2023-06-02T16:00:00+00:00",
          "2023-06-02T17:00:00+00:00",
          "2023-06-02T18:00:00+00:00",
          "2023-06-02T19:00:00+00:00",
          "2023-06-04T21:00:00+00:00",
          "2023-06-04T22:00:00+00:00",
          "2023-06-05T04:00:00+00:00",
          "2023-06-05T05:00:00+00:00",
          "2023-06-05T09:00:00+00:00",
          "2023-06-05T11:00:00+00:00",
          "2023-06-05T12:00:00+00:00",
          "2023-06-05T18:00:00+00:00",
          "2023-06-05T19:00:00+00:00",
          "2023-06-05T20:00:00+00:00",
          "2023-06-05T21:00:00+00:00",
          "2023-06-05T22:00:00+00:00",
          "2023-06-05T23:00:00+00:00",
          "2023-06-06T02:00:00+00:00",
          "2023-06-06T03:00:00+00:00",
          "2023-06-06T05:00:00+00:00",
          "2023-06-06T06:00:00+00:00",
          "2023-06-06T09:00:00+00:00",
          "2023-06-06T13:00:00+00:00",
          "2023-06-06T14:00:00+00:00",
          "2023-06-06T15:00:00+00:00",
          "2023-06-06T16:00:00+00:00",
          "2023-06-06T17:00:00+00:00",
          "2023-06-06T18:00:00+00:00",
          "2023-06-06T21:00:00+00:00",
          "2023-06-06T23:00:00+00:00",
          "2023-06-07T00:00:00+00:00",
          "2023-06-07T02:00:00+00:00",
          "2023-06-07T03:00:00+00:00",
          "2023-06-07T04:00:00+00:00",
          "2023-06-07T05:00:00+00:00",
          "2023-06-07T06:00:00+00:00",
          "2023-06-07T09:00:00+00:00",
          "2023-06-07T10:00:00+00:00",
          "2023-06-07T11:00:00+00:00",
          "2023-06-07T12:00:00+00:00",
          "2023-06-07T13:00:00+00:00",
          "2023-06-07T14:00:00+00:00",
          "2023-06-07T16:00:00+00:00",
          "2023-06-07T18:00:00+00:00",
          "2023-06-07T19:00:00+00:00",
          "2023-06-07T20:00:00+00:00",
          "2023-06-08T01:00:00+00:00",
          "2023-06-08T06:00:00+00:00",
          "2023-06-08T09:00:00+00:00",
          "2023-06-08T11:00:00+00:00",
          "2023-06-08T14:00:00+00:00",
          "2023-06-08T15:00:00+00:00",
          "2023-06-08T16:00:00+00:00",
          "2023-06-08T17:00:00+00:00",
          "2023-06-08T18:00:00+00:00",
          "2023-06-08T19:00:00+00:00",
          "2023-06-08T20:00:00+00:00",
          "2023-06-08T21:00:00+00:00",
          "2023-06-09T00:00:00+00:00",
          "2023-06-09T02:00:00+00:00",
          "2023-06-09T04:00:00+00:00",
          "2023-06-09T06:00:00+00:00",
          "2023-06-09T08:00:00+00:00",
          "2023-06-09T10:00:00+00:00",
          "2023-06-09T13:00:00+00:00",
          "2023-06-09T15:00:00+00:00",
          "2023-06-09T17:00:00+00:00",
          "2023-06-09T18:00:00+00:00",
          "2023-06-09T19:00:00+00:00",
          "2023-06-11T22:00:00+00:00",
          "2023-06-12T00:00:00+00:00",
          "2023-06-12T10:00:00+00:00",
          "2023-06-12T12:00:00+00:00",
          "2023-06-12T13:00:00+00:00",
          "2023-06-12T14:00:00+00:00",
          "2023-06-12T15:00:00+00:00",
          "2023-06-12T17:00:00+00:00",
          "2023-06-13T00:00:00+00:00",
          "2023-06-13T02:00:00+00:00",
          "2023-06-13T06:00:00+00:00",
          "2023-06-13T08:00:00+00:00",
          "2023-06-13T11:00:00+00:00",
          "2023-06-13T12:00:00+00:00",
          "2023-06-13T13:00:00+00:00",
          "2023-06-13T14:00:00+00:00",
          "2023-06-13T15:00:00+00:00",
          "2023-06-13T16:00:00+00:00",
          "2023-06-13T18:00:00+00:00",
          "2023-06-13T19:00:00+00:00",
          "2023-06-13T22:00:00+00:00",
          "2023-06-13T23:00:00+00:00",
          "2023-06-14T04:00:00+00:00",
          "2023-06-14T08:00:00+00:00",
          "2023-06-14T10:00:00+00:00",
          "2023-06-14T13:00:00+00:00",
          "2023-06-14T16:00:00+00:00",
          "2023-06-14T17:00:00+00:00",
          "2023-06-14T18:00:00+00:00",
          "2023-06-15T01:00:00+00:00",
          "2023-06-15T03:00:00+00:00",
          "2023-06-15T04:00:00+00:00",
          "2023-06-15T05:00:00+00:00",
          "2023-06-15T06:00:00+00:00",
          "2023-06-15T07:00:00+00:00",
          "2023-06-15T09:00:00+00:00",
          "2023-06-15T10:00:00+00:00",
          "2023-06-15T11:00:00+00:00",
          "2023-06-15T13:00:00+00:00",
          "2023-06-15T15:00:00+00:00",
          "2023-06-15T17:00:00+00:00",
          "2023-06-15T18:00:00+00:00",
          "2023-06-15T19:00:00+00:00",
          "2023-06-15T20:00:00+00:00",
          "2023-06-15T21:00:00+00:00",
          "2023-06-15T23:00:00+00:00",
          "2023-06-16T00:00:00+00:00",
          "2023-06-16T04:00:00+00:00",
          "2023-06-16T09:00:00+00:00",
          "2023-06-16T13:00:00+00:00",
          "2023-06-16T15:00:00+00:00",
          "2023-06-16T16:00:00+00:00",
          "2023-06-16T17:00:00+00:00",
          "2023-06-16T19:00:00+00:00",
          "2023-06-16T20:00:00+00:00",
          "2023-06-18T22:00:00+00:00",
          "2023-06-19T12:00:00+00:00",
          "2023-06-19T13:00:00+00:00",
          "2023-06-19T14:00:00+00:00",
          "2023-06-19T15:00:00+00:00",
          "2023-06-19T16:00:00+00:00",
          "2023-06-19T17:00:00+00:00",
          "2023-06-19T18:00:00+00:00",
          "2023-06-19T19:00:00+00:00",
          "2023-06-20T05:00:00+00:00",
          "2023-06-20T06:00:00+00:00",
          "2023-06-20T07:00:00+00:00",
          "2023-06-20T10:00:00+00:00",
          "2023-06-20T11:00:00+00:00",
          "2023-06-20T12:00:00+00:00",
          "2023-06-20T18:00:00+00:00",
          "2023-06-20T19:00:00+00:00",
          "2023-06-20T20:00:00+00:00",
          "2023-06-20T21:00:00+00:00",
          "2023-06-21T04:00:00+00:00",
          "2023-06-21T05:00:00+00:00",
          "2023-06-21T07:00:00+00:00",
          "2023-06-21T09:00:00+00:00",
          "2023-06-21T10:00:00+00:00",
          "2023-06-21T11:00:00+00:00",
          "2023-06-21T14:00:00+00:00",
          "2023-06-21T15:00:00+00:00",
          "2023-06-21T16:00:00+00:00",
          "2023-06-21T20:00:00+00:00",
          "2023-06-21T21:00:00+00:00",
          "2023-06-21T23:00:00+00:00",
          "2023-06-22T00:00:00+00:00",
          "2023-06-22T02:00:00+00:00",
          "2023-06-22T04:00:00+00:00",
          "2023-06-22T06:00:00+00:00",
          "2023-06-22T12:00:00+00:00",
          "2023-06-22T14:00:00+00:00",
          "2023-06-22T15:00:00+00:00",
          "2023-06-22T16:00:00+00:00",
          "2023-06-22T17:00:00+00:00",
          "2023-06-22T18:00:00+00:00",
          "2023-06-22T19:00:00+00:00",
          "2023-06-22T20:00:00+00:00",
          "2023-06-22T21:00:00+00:00",
          "2023-06-23T02:00:00+00:00",
          "2023-06-23T03:00:00+00:00",
          "2023-06-23T04:00:00+00:00",
          "2023-06-23T10:00:00+00:00",
          "2023-06-23T12:00:00+00:00",
          "2023-06-23T14:00:00+00:00",
          "2023-06-23T16:00:00+00:00",
          "2023-06-23T17:00:00+00:00",
          "2023-06-25T21:00:00+00:00",
          "2023-06-25T23:00:00+00:00",
          "2023-06-26T01:00:00+00:00",
          "2023-06-26T02:00:00+00:00",
          "2023-06-26T03:00:00+00:00",
          "2023-06-26T04:00:00+00:00",
          "2023-06-26T05:00:00+00:00",
          "2023-06-26T06:00:00+00:00",
          "2023-06-26T07:00:00+00:00",
          "2023-06-26T08:00:00+00:00",
          "2023-06-26T11:00:00+00:00",
          "2023-06-26T15:00:00+00:00",
          "2023-06-26T18:00:00+00:00",
          "2023-06-26T21:00:00+00:00",
          "2023-06-26T22:00:00+00:00",
          "2023-06-26T23:00:00+00:00",
          "2023-06-27T00:00:00+00:00",
          "2023-06-27T02:00:00+00:00",
          "2023-06-27T03:00:00+00:00",
          "2023-06-27T04:00:00+00:00",
          "2023-06-27T07:00:00+00:00",
          "2023-06-27T10:00:00+00:00",
          "2023-06-27T12:00:00+00:00",
          "2023-06-27T14:00:00+00:00",
          "2023-06-27T16:00:00+00:00",
          "2023-06-27T17:00:00+00:00",
          "2023-06-27T18:00:00+00:00",
          "2023-06-27T21:00:00+00:00",
          "2023-06-27T23:00:00+00:00",
          "2023-06-28T00:00:00+00:00",
          "2023-06-28T04:00:00+00:00",
          "2023-06-28T05:00:00+00:00",
          "2023-06-28T06:00:00+00:00",
          "2023-06-28T09:00:00+00:00",
          "2023-06-28T11:00:00+00:00",
          "2023-06-28T12:00:00+00:00",
          "2023-06-28T15:00:00+00:00",
          "2023-06-28T16:00:00+00:00",
          "2023-06-28T17:00:00+00:00",
          "2023-06-29T03:00:00+00:00",
          "2023-06-29T04:00:00+00:00",
          "2023-06-29T11:00:00+00:00",
          "2023-06-29T16:00:00+00:00",
          "2023-06-29T18:00:00+00:00",
          "2023-06-29T19:00:00+00:00",
          "2023-06-29T20:00:00+00:00",
          "2023-06-29T22:00:00+00:00"
         ],
         "y": [
          -45.30000000000034,
          438.2999999999999,
          285.69999999999936,
          533.5999999999991,
          651.9000000000015,
          604.9000000000011,
          784.9000000000012,
          701.4000000000016,
          568.3000000000011,
          561.7000000000012,
          542.0000000000009,
          485.10000000000207,
          434.0000000000026,
          455.600000000002,
          402.0000000000019,
          371.70000000000215,
          210.00000000000136,
          105.20000000000093,
          70.300000000001,
          -9.999999999995481,
          6.600000000004467,
          34.20000000000431,
          91.30000000000423,
          83.70000000000441,
          158.90000000000413,
          282.8000000000043,
          266.4000000000041,
          318.40000000000504,
          297.9000000000038,
          355.0000000000037,
          372.5000000000029,
          249.10000000000477,
          217.8000000000062,
          138.20000000000422,
          110.10000000000443,
          105.10000000000498,
          -5.899999999993895,
          -35.99999999999569,
          -137.99999999999554,
          -203.09999999999516,
          -246.19999999999632,
          -330.09999999999616,
          -449.39999999999833,
          -527.6999999999972,
          -791.3999999999962,
          -839.8999999999965,
          -934.5999999999984,
          -996.5999999999983,
          -959.599999999998,
          -1098.299999999998,
          -1151.199999999999,
          -1179.9999999999989,
          -1069.9000000000005,
          -1127.7000000000007,
          -1110.4000000000005,
          -1329.799999999998,
          -1411.1999999999982,
          -1466.2999999999995,
          -1596.7999999999995,
          -1705.5999999999995,
          -1679.9,
          -1672.4000000000012,
          -1652.6000000000024,
          -1741.000000000002,
          -1685.0000000000016,
          -1705.8000000000013,
          -1707.7000000000005,
          -1816.099999999999,
          -1860.8999999999971,
          -1890.4999999999964,
          -1968.2999999999975,
          -2071.199999999997,
          -2117.2999999999956,
          -2143.3999999999955,
          -2088.999999999997,
          -2091.899999999997,
          -1972.4999999999952,
          -1983.0999999999935,
          -1992.8999999999933,
          -1928.5999999999945,
          -1946.4999999999943,
          -2044.899999999995,
          -2086.599999999996,
          -2117.8999999999965,
          -2220.3999999999974,
          -2247.9999999999973,
          -1985.799999999996,
          -2022.5999999999963,
          -2021.0999999999965,
          -1622.0999999999972,
          -1565.8999999999965,
          -1597.0999999999965,
          -1334.2999999999952,
          -1302.4999999999957,
          -1417.0999999999974,
          -1464.7999999999968,
          -1487.5999999999976,
          -1580.3999999999983,
          -1651.5999999999985,
          -1742.9999999999986,
          -1719.1999999999994,
          -1746.1999999999987,
          -1748.5999999999988,
          -1722.4999999999989,
          -1577.099999999999,
          -1532.9999999999986,
          -1470.1999999999987,
          -1528.3999999999992,
          -1458.9999999999975,
          -1369.5999999999979,
          -1396.8999999999978,
          -1381.6999999999991,
          -1387.8999999999987,
          -1392.2999999999986,
          -1414.6999999999987,
          -1471.9999999999989,
          -1553.9000000000005,
          -1726.1000000000004,
          -1781.6999999999991,
          -1948.9000000000015,
          -1849.1000000000026,
          -1948.9000000000017,
          -1978.9000000000017,
          -1815.8000000000002,
          -1765.4000000000008,
          -1813.5000000000007,
          -1791.000000000001,
          -1810.8000000000002,
          -1810.600000000001,
          -1797.0000000000014,
          -1831.2999999999995,
          -1894.8999999999992,
          -1923.3999999999994,
          -1932.3,
          -1997.9999999999995,
          -2112.0000000000005,
          -2106.600000000001,
          -2207.5,
          -2428.7999999999997,
          -2392.599999999999,
          -2381.6000000000004,
          -2299.000000000001,
          -2289.0000000000014,
          -2412.2000000000025,
          -2489.800000000004,
          -2369.4000000000033,
          -2306.800000000003,
          -2233.0000000000027,
          -2325.100000000002,
          -2396.2000000000025,
          -2558.600000000003,
          -2640.7000000000035,
          -2648.600000000003,
          -2654.900000000004,
          -2668.8000000000043,
          -2864.7000000000044,
          -2881.500000000003,
          -2888.3000000000034,
          -2994.1000000000026,
          -3151.8000000000025,
          -3231.100000000001,
          -3279.3000000000006,
          -3243.5000000000005,
          -3120.7999999999984,
          -3294.6999999999985,
          -3248.9999999999986,
          -3073.8999999999983,
          -3043.299999999997,
          -3122.7999999999984,
          -3044.0999999999976,
          -3041.099999999998,
          -2835.5999999999976,
          -2841.699999999999,
          -2608.899999999999,
          -2600.399999999999,
          -2638.8999999999983,
          -2797.8999999999987,
          -2832.7000000000003,
          -2907.6999999999985,
          -2914.399999999998,
          -3055.1999999999966,
          -3146.4999999999973,
          -3137.6999999999975,
          -3241.199999999997,
          -3272.999999999997,
          -3308.399999999998,
          -3339.799999999997,
          -3313.199999999998,
          -3257.8999999999983,
          -3258.599999999997,
          -3159.3999999999983,
          -3400.1,
          -3347.7000000000007,
          -3373.8000000000006,
          -3387.900000000001,
          -3320.9000000000005,
          -3126.3000000000006,
          -3180.1,
          -3389.9999999999995,
          -3408.2,
          -3411.800000000001,
          -3323.200000000001,
          -3336.200000000002,
          -3345.2000000000035,
          -3382.0000000000045,
          -3359.2000000000053,
          -3351.7000000000057,
          -3381.0000000000064,
          -3414.200000000006,
          -3434.6000000000054,
          -3467.2000000000057,
          -3661.7000000000075,
          -3647.700000000008,
          -3663.100000000007,
          -3620.500000000008,
          -3701.2000000000057,
          -3823.0000000000064,
          -3858.8000000000065,
          -3987.8000000000075,
          -4032.000000000008,
          -4022.000000000008,
          -4020.000000000007,
          -4073.2000000000066,
          -4046.6000000000076,
          -4121.200000000008,
          -4117.200000000006,
          -4144.200000000008,
          -4182.300000000006,
          -4260.800000000006,
          -4267.600000000006,
          -4289.900000000004,
          -4276.700000000005,
          -4284.100000000004,
          -4358.700000000004,
          -4414.000000000004,
          -4460.600000000005,
          -4496.600000000006,
          -4505.700000000005,
          -4601.700000000006,
          -4777.800000000005,
          -4811.500000000002,
          -4802.600000000001,
          -4821.100000000002,
          -4836.900000000002,
          -4813.400000000002,
          -4883.200000000001,
          -4903.500000000001,
          -4892.400000000001,
          -4861,
          -4900.199999999999,
          -4939.400000000001,
          -4934,
          -5006.999999999999,
          -5095.3,
          -5153.9000000000015,
          -5171.700000000002,
          -5175.500000000002,
          -5336.300000000002,
          -5406.200000000002,
          -5524.300000000003,
          -5568.500000000004,
          -5630.500000000004,
          -5641.100000000003,
          -5649.100000000002,
          -5756.600000000005,
          -5913.200000000006,
          -5931.200000000006,
          -5842.400000000006,
          -5929.200000000005,
          -5876.0000000000055,
          -5871.300000000005,
          -5887.000000000005,
          -5821.500000000004,
          -5929.400000000003,
          -5968.7000000000035,
          -6010.300000000005,
          -6022.600000000006,
          -5990.0000000000055,
          -6082.8000000000075,
          -6226.1000000000095,
          -6370.30000000001,
          -6476.900000000011,
          -6589.000000000012,
          -6616.200000000013,
          -6512.700000000012,
          -6469.500000000012,
          -6366.500000000012,
          -6225.800000000012,
          -6180.100000000012,
          -6186.900000000012,
          -6186.900000000012,
          -6191.300000000012,
          -6197.500000000013,
          -6207.500000000013,
          -6196.100000000012,
          -6240.900000000013,
          -6254.900000000013,
          -6269.700000000013,
          -6268.9000000000115,
          -6265.000000000013,
          -6348.300000000015,
          -6353.700000000014,
          -6345.700000000014,
          -6246.100000000017,
          -6245.800000000017,
          -6219.600000000017,
          -6027.800000000016,
          -6035.600000000016,
          -5819.400000000015,
          -5844.200000000015,
          -5857.500000000015,
          -5872.000000000014,
          -5795.600000000013,
          -5674.4000000000115,
          -5704.600000000011,
          -5718.800000000012,
          -5750.100000000013,
          -5909.900000000012,
          -5915.600000000012,
          -5933.900000000012,
          -5943.100000000013,
          -5992.000000000014,
          -5963.500000000014,
          -5991.500000000013,
          -5996.600000000013,
          -5691.100000000015,
          -5715.100000000015,
          -5601.700000000014,
          -5486.700000000016,
          -5385.100000000016,
          -5401.200000000018,
          -5801.5000000000155,
          -7017.100000000013,
          -7025.700000000013,
          -7289.800000000013,
          -7319.000000000014,
          -7320.000000000014,
          -7220.400000000014,
          -7027.300000000013,
          -6778.900000000011,
          -6750.70000000001,
          -6732.200000000009,
          -6760.80000000001,
          -6794.600000000012,
          -6882.700000000012,
          -6883.100000000011,
          -6926.100000000012,
          -7007.500000000013,
          -6992.500000000012,
          -7005.900000000011,
          -7044.70000000001,
          -7086.200000000009,
          -7103.600000000007,
          -7126.200000000005,
          -7126.200000000005,
          -7184.5000000000055,
          -7228.400000000007,
          -7307.600000000009,
          -7354.300000000008,
          -7426.100000000009,
          -7500.600000000009,
          -7521.1000000000095,
          -7588.000000000007,
          -7626.6000000000095,
          -7620.000000000008,
          -7750.000000000008,
          -7790.900000000011,
          -7908.900000000012,
          -7890.500000000013,
          -7834.000000000012,
          -7871.6000000000095,
          -7782.800000000008,
          -7656.700000000007,
          -7617.8000000000075,
          -7511.700000000007,
          -7431.700000000007,
          -7268.800000000008,
          -7170.100000000008,
          -7012.300000000009,
          -7048.300000000008,
          -7055.500000000009,
          -7087.6000000000095,
          -7188.800000000008,
          -7145.000000000009,
          -7145.900000000011,
          -7219.20000000001,
          -7274.00000000001,
          -7282.000000000011,
          -7229.300000000011,
          -7260.200000000012,
          -7262.4000000000115,
          -7373.2000000000135,
          -7397.2000000000135,
          -7377.800000000013,
          -7148.500000000013,
          -7181.500000000014,
          -6841.300000000012,
          -6404.300000000012,
          -6139.300000000011,
          -6137.600000000011,
          -5565.60000000001,
          -5554.9000000000115,
          -5506.300000000013,
          -5558.900000000013,
          -5533.300000000013,
          -5595.300000000013,
          -5600.600000000013,
          -5686.800000000014,
          -5778.700000000014,
          -5791.400000000013,
          -5833.100000000013,
          -5841.400000000014,
          -5856.800000000015,
          -5824.500000000016,
          -5840.400000000016,
          -5885.100000000016,
          -5910.700000000016,
          -5986.700000000017,
          -6100.500000000016,
          -6099.300000000017,
          -6100.100000000016,
          -6082.000000000016,
          -6092.200000000016,
          -6093.800000000017,
          -6093.300000000017,
          -6155.900000000018,
          -6179.000000000018,
          -6116.200000000021,
          -6158.600000000021,
          -6192.9000000000215,
          -6105.000000000021,
          -6409.60000000002,
          -6594.800000000019,
          -6624.10000000002,
          -6956.600000000022,
          -6995.400000000022,
          -7015.800000000022,
          -7117.000000000024,
          -7176.400000000023,
          -7071.400000000022,
          -7160.900000000022,
          -7179.500000000022,
          -6970.30000000002,
          -7042.300000000021,
          -7080.4000000000215,
          -6667.600000000021,
          -6798.4000000000215,
          -6954.10000000002,
          -6977.900000000021,
          -7082.90000000002,
          -7049.3000000000175,
          -7013.400000000014,
          -7007.800000000014,
          -7048.800000000014,
          -7112.800000000014,
          -7207.2000000000135,
          -7217.000000000014,
          -7230.600000000014,
          -7284.500000000014,
          -7312.100000000015,
          -7362.100000000011,
          -7421.700000000011,
          -7520.1000000000095,
          -7674.500000000008,
          -7703.800000000008,
          -7770.000000000006,
          -7824.400000000006,
          -7828.100000000007,
          -7827.100000000007,
          -7792.700000000006,
          -7787.5000000000055,
          -7676.900000000003,
          -7654.1,
          -7640.5999999999985,
          -7636.499999999998,
          -7518.999999999998,
          -7166.999999999997,
          -7073.599999999997,
          -7054.199999999995,
          -7171.199999999997,
          -7214.999999999997,
          -7216.099999999997,
          -7303.299999999998,
          -7313.0999999999985,
          -7296.299999999998,
          -7268.599999999999,
          -7302.000000000001,
          -7316.600000000001,
          -7340,
          -7182.999999999998,
          -7220.899999999997,
          -7244.499999999997,
          -7317.799999999997,
          -7172.999999999998,
          -7196.999999999997,
          -7192.999999999998,
          -7215.2,
          -7233.4000000000015,
          -7173.9000000000015,
          -7236.9000000000015,
          -7350.3,
          -7410.9,
          -7407.799999999999,
          -7452.299999999998,
          -7494.299999999998,
          -7511.499999999998,
          -7421.099999999997,
          -7429.499999999997,
          -7481.899999999998,
          -7498.5999999999985,
          -7539.999999999999,
          -7532.099999999999,
          -7459.700000000001,
          -7444.800000000001,
          -7482.800000000001,
          -7491.000000000002,
          -7115.4000000000015,
          -7134.700000000002,
          -7137.700000000002,
          -6553.4000000000015,
          -6244.2,
          -6025.4,
          -5704.800000000001,
          -5747.1,
          -5781.7,
          -5827.5,
          -5834.499999999999,
          -5816.699999999999,
          -5821.399999999999,
          -5789.4,
          -5792.099999999999,
          -5805.899999999999,
          -5813.099999999999,
          -5838.1,
          -5896.000000000001,
          -5838.900000000001,
          -5890.3,
          -5904.900000000001,
          -5788.000000000001,
          -5798.400000000001,
          -5804.500000000001,
          -5821.600000000002,
          -5848.900000000003,
          -5690.500000000005,
          -5695.900000000004,
          -5728.000000000004,
          -5750.800000000004,
          -5777.400000000005,
          -5779.700000000004,
          -5809.300000000005,
          -5614.400000000003,
          -5405.400000000003,
          -5463.000000000004,
          -5482.400000000002,
          -5615.800000000001,
          -5725.300000000001,
          -5749.000000000001,
          -5804.300000000001,
          -5846.800000000002,
          -5858.9000000000015,
          -5822.500000000001,
          -5893.100000000001,
          -5594.500000000001,
          -5572.200000000002,
          -5552,
          -5432.6,
          -5596.800000000001,
          -6247.100000000002,
          -6346.600000000003,
          -6458.1,
          -6510.8,
          -6706.3,
          -6943.4000000000015,
          -7101.200000000003,
          -7352.2,
          -7307,
          -7379.300000000001,
          -7348.400000000003,
          -7390.500000000004,
          -7345.000000000002,
          -7327.000000000001,
          -7313.000000000002,
          -7342.200000000002,
          -7378.4000000000015,
          -7426.0999999999985,
          -7380.799999999998,
          -7378.999999999999,
          -7415.899999999999,
          -7465.899999999998,
          -7470.699999999998,
          -7503.699999999998,
          -7421.599999999999,
          -7299.599999999999,
          -7284.7,
          -7241.9,
          -7160.9,
          -6923.100000000001,
          -6687.599999999999,
          -6475.299999999999,
          -6268.4000000000015,
          -6310.4000000000015,
          -6276.600000000002,
          -6101.300000000002,
          -6044.200000000002,
          -5958.9000000000015,
          -5985.900000000001,
          -5852.9,
          -5599.299999999999,
          -5514.9,
          -5569.999999999999,
          -5624.399999999998,
          -5672.299999999997,
          -5687.299999999998,
          -5707.5,
          -5691.9,
          -5695.799999999999,
          -5696.6,
          -5722.400000000001,
          -5797.4000000000015,
          -5809.500000000001,
          -5849.200000000002,
          -5872.200000000002,
          -5918.4000000000015,
          -5889.500000000003,
          -5990.500000000002,
          -6008.200000000001,
          -6019.400000000001,
          -6017.200000000002,
          -6035.900000000002,
          -6015.400000000002,
          -6053.9000000000015,
          -6077.100000000002,
          -6099.200000000003,
          -6194.100000000004,
          -6206.500000000005,
          -6242.700000000004,
          -6320.400000000005,
          -6497.200000000005,
          -6467.500000000005,
          -6440.900000000005,
          -6280.100000000007,
          -6350.900000000007,
          -6430.200000000007,
          -6490.100000000007,
          -6589.700000000008,
          -6556.100000000008,
          -6518.100000000008,
          -6563.8000000000075,
          -6543.300000000007,
          -6530.000000000007,
          -6574.600000000007,
          -6621.600000000006,
          -6663.300000000006,
          -6685.800000000007,
          -6644.800000000006,
          -6612.100000000008,
          -6575.700000000007,
          -6572.3000000000075,
          -6589.700000000007,
          -6605.100000000006,
          -6606.500000000005,
          -6653.000000000005,
          -6680.100000000002,
          -6671.300000000001,
          -6681.5,
          -6704.000000000001,
          -6706.6,
          -6740.8,
          -6774.199999999999,
          -6806.099999999999,
          -6819.199999999999,
          -6934.399999999999,
          -6950.199999999997,
          -6996.599999999997,
          -7024.999999999999,
          -7057.0999999999985,
          -7224.2,
          -7229.3,
          -7243.500000000001,
          -7373.5,
          -7392.200000000001,
          -7345.500000000001,
          -7368.1,
          -7360.9,
          -7352.699999999999,
          -7422.799999999998,
          -7484.399999999998,
          -7520.999999999998,
          -7525.799999999998,
          -7527.299999999999,
          -7592.0999999999985,
          -7718.1,
          -7720.200000000001,
          -7433.700000000003,
          -7483.800000000002,
          -7490.300000000002,
          -7462.500000000002,
          -7098.9,
          -7137.0999999999985,
          -7167.8,
          -7259.800000000001,
          -7268.8,
          -7358.199999999999,
          -7306.999999999999,
          -7301.400000000001,
          -7288.100000000002,
          -7401.300000000002,
          -7468.100000000002,
          -7489.900000000003,
          -7587.000000000002,
          -7608.300000000003,
          -7631.500000000003,
          -7704.200000000001,
          -7707.300000000001,
          -7711.700000000001,
          -7857.9,
          -7921.7,
          -7927.900000000001,
          -8001.800000000001,
          -7810.000000000002,
          -7923.500000000003,
          -7866.600000000003,
          -7680.100000000002,
          -7420.100000000002,
          -7123.4000000000015,
          -7068.800000000001,
          -7100.1,
          -7111.800000000002,
          -6905.200000000002,
          -6958.600000000002,
          -6885.000000000002,
          -6825.600000000004,
          -6763.800000000003,
          -6734.2000000000035,
          -6733.700000000004,
          -6687.700000000003,
          -6783.400000000004,
          -6694.7000000000035,
          -6635.900000000003,
          -6634.800000000003,
          -6638.300000000004,
          -6618.900000000003,
          -6674.800000000003,
          -6595.300000000005,
          -6641.500000000005,
          -6657.900000000005,
          -6660.100000000005,
          -6721.700000000004,
          -6738.300000000005,
          -6612.7000000000035,
          -6580.800000000003,
          -6603.800000000003,
          -6583.900000000003,
          -6615.300000000003,
          -6626.300000000003,
          -6631.7000000000035,
          -6622.800000000003,
          -6557.600000000002,
          -6451.800000000004,
          -6462.900000000003,
          -6442.600000000003,
          -6584.000000000005,
          -6587.2000000000035,
          -6658.700000000006,
          -6664.5000000000055,
          -6751.100000000005,
          -6799.200000000004,
          -6852.400000000004,
          -6953.200000000005,
          -7009.600000000005,
          -7113.800000000004,
          -7157.200000000004,
          -7159.500000000004,
          -7268.800000000003,
          -7337.100000000005,
          -7294.300000000006,
          -7341.500000000004,
          -7355.000000000004,
          -7517.600000000003,
          -7544.400000000003,
          -7609.100000000003,
          -7635.300000000004,
          -7635.300000000004,
          -7650.500000000004,
          -7897.600000000001,
          -7834.200000000001,
          -7828.000000000001,
          -7777.799999999998,
          -7811.700000000002,
          -7869.500000000001,
          -7867.400000000001,
          -7871.2,
          -7832.400000000001,
          -7603.900000000001,
          -7629.8,
          -7438.299999999998,
          -7306.399999999997,
          -7331.699999999996,
          -7318.099999999996,
          -7324.199999999996,
          -7353.199999999996,
          -7349.0999999999985,
          -7385.899999999998,
          -7360.399999999997,
          -7402.799999999997,
          -7439.799999999997,
          -7455.699999999997,
          -7499.799999999996,
          -7574.699999999995,
          -7622.9999999999945,
          -7589.4999999999945,
          -7541.899999999995,
          -7513.799999999996,
          -7426.999999999996,
          -7435.899999999996,
          -7475.099999999996,
          -7519.299999999996,
          -7506.299999999997,
          -7545.999999999998,
          -7423.099999999999,
          -7347.899999999999,
          -7364.299999999998,
          -7398.099999999998,
          -7443.499999999997,
          -7476.199999999997,
          -7477.099999999997,
          -7488.499999999997,
          -7523.299999999998,
          -7589.499999999996,
          -7658.2999999999965,
          -7690.2999999999965,
          -7756.999999999996,
          -7823.199999999996,
          -7859.099999999996,
          -7882.799999999998,
          -7885.4,
          -7894.600000000001,
          -7947.800000000003,
          -7954.000000000002,
          -7973.400000000002,
          -8006,
          -7871.000000000004,
          -7920.600000000003,
          -7930.600000000002,
          -7924.800000000003,
          -7932.500000000004,
          -8009.100000000004,
          -8049.600000000004,
          -8085.400000000003,
          -8120.4000000000015,
          -8084.199999999999,
          -8095.000000000001,
          -8022.1,
          -8043.000000000001,
          -8007.8,
          -8038.499999999999,
          -8035.499999999999,
          -8017.2,
          -8030.000000000001,
          -8022.700000000001,
          -7998.500000000002,
          -7997.500000000003,
          -8077.000000000002,
          -8127.600000000002,
          -8146.500000000005,
          -8312.400000000005,
          -8430.300000000005,
          -8434.100000000006,
          -8352.900000000007,
          -8371.300000000007,
          -8374.300000000007,
          -8283.000000000005,
          -8310.000000000005,
          -8392.300000000005,
          -8148.00000000001,
          -8174.10000000001,
          -8172.00000000001,
          -8238.20000000001,
          -8236.70000000001,
          -8271.200000000012,
          -8290.300000000012,
          -8291.300000000012,
          -8315.700000000013,
          -8314.400000000014,
          -8271.000000000011,
          -8256.600000000011,
          -8253.200000000012,
          -8273.800000000012,
          -8318.000000000013,
          -8339.700000000013,
          -8376.400000000014,
          -8419.900000000014,
          -8381.200000000013,
          -8365.900000000016,
          -8318.600000000017,
          -8295.600000000017,
          -8250.500000000018,
          -8270.500000000018,
          -8295.100000000019,
          -8315.900000000018,
          -8313.200000000017,
          -8265.500000000018,
          -8280.200000000017,
          -8229.000000000016,
          -8208.800000000017,
          -8261.500000000018,
          -8365.400000000016,
          -8392.900000000016,
          -8409.700000000015,
          -8351.400000000016,
          -8344.000000000015,
          -8171.700000000015,
          -8137.5000000000155,
          -8155.600000000015,
          -8245.000000000016,
          -8284.700000000017,
          -8297.900000000016,
          -8378.100000000017,
          -8396.700000000017,
          -8316.500000000018,
          -8250.80000000002,
          -8431.10000000002,
          -8429.30000000002,
          -8366.10000000002,
          -8411.600000000022,
          -8405.600000000022,
          -8482.300000000023,
          -8452.300000000023,
          -8470.700000000023,
          -8420.900000000023,
          -8379.600000000022,
          -8384.600000000022,
          -8373.800000000021,
          -8447.400000000021,
          -8231.200000000019,
          -8332.70000000002,
          -8447.600000000024,
          -8404.000000000024,
          -8361.100000000022,
          -8311.300000000023,
          -8232.100000000024,
          -8274.500000000024,
          -8295.300000000023,
          -8338.200000000023,
          -8384.600000000024,
          -8386.400000000025,
          -8393.400000000025,
          -8385.800000000023,
          -8419.800000000023,
          -8449.200000000023,
          -8557.100000000022,
          -8549.70000000002,
          -8537.400000000021,
          -8585.60000000002,
          -8517.200000000019,
          -8542.800000000017,
          -8552.200000000019,
          -8511.80000000002,
          -8539.100000000019,
          -8547.30000000002,
          -8687.90000000002,
          -8704.100000000019,
          -8740.90000000002,
          -8762.000000000018,
          -8765.000000000018,
          -8712.000000000018,
          -8652.300000000017,
          -8716.200000000017,
          -8636.90000000002,
          -8572.600000000019,
          -8626.600000000017,
          -8607.500000000016,
          -8380.100000000017,
          -8391.100000000017,
          -8422.400000000018,
          -8427.200000000019,
          -8354.800000000017,
          -8380.400000000016,
          -8486.800000000016,
          -8376.400000000018,
          -8369.100000000019,
          -8371.10000000002,
          -8400.70000000002,
          -8458.200000000023,
          -8587.700000000024,
          -8698.700000000026,
          -8705.600000000024,
          -8746.000000000024,
          -8639.400000000023,
          -8658.200000000023,
          -8632.700000000023,
          -8705.900000000021,
          -8737.50000000002,
          -8770.90000000002,
          -8798.30000000002,
          -8801.30000000002,
          -8771.000000000018,
          -8654.400000000018,
          -8714.700000000019,
          -8705.500000000018,
          -8684.30000000002,
          -8514.700000000019,
          -8428.800000000017,
          -7990.100000000017,
          -7841.200000000015,
          -7256.400000000015,
          -7367.600000000014,
          -7186.000000000013,
          -7023.200000000016,
          -7056.300000000016,
          -7174.800000000015,
          -7245.600000000017,
          -7241.500000000019,
          -7229.400000000018,
          -7249.70000000002,
          -7387.50000000002,
          -7443.90000000002,
          -7459.700000000019,
          -7559.500000000018,
          -7783.400000000019,
          -7733.600000000019,
          -7773.500000000018,
          -7651.20000000002,
          -7702.40000000002,
          -7705.200000000019,
          -7655.000000000021,
          -7620.000000000023,
          -7632.00000000002,
          -7639.000000000022,
          -7620.100000000022,
          -7641.300000000024,
          -7649.600000000024,
          -7598.500000000025,
          -7595.200000000025,
          -7591.5000000000255,
          -7609.300000000027,
          -7696.100000000028,
          -7701.400000000029,
          -7738.300000000028,
          -7898.900000000028,
          -8395.400000000027,
          -8517.600000000028,
          -8408.200000000026,
          -8265.500000000025,
          -8363.400000000025,
          -8385.700000000024,
          -8484.500000000024,
          -8591.500000000024,
          -8767.100000000024,
          -8776.100000000026,
          -8766.500000000027,
          -9012.800000000027,
          -9052.800000000027,
          -9177.700000000026,
          -9156.100000000024,
          -9138.700000000024,
          -9567.200000000026,
          -9748.400000000025,
          -9782.200000000024,
          -9910.700000000024,
          -9842.100000000024,
          -9963.700000000024,
          -10080.600000000024,
          -10047.600000000022,
          -9719.400000000021,
          -9751.400000000021,
          -9637.500000000022,
          -9698.600000000024,
          -9950.900000000023,
          -9919.900000000023,
          -10075.400000000023,
          -10113.800000000021,
          -10107.900000000021,
          -10142.400000000021,
          -10159.10000000002,
          -10181.700000000019,
          -10235.30000000002,
          -9968.700000000019,
          -9975.100000000017,
          -10044.000000000016,
          -10004.600000000019,
          -10080.000000000018,
          -10106.900000000016,
          -10006.100000000015,
          -9857.700000000015,
          -9616.500000000016,
          -9666.500000000016,
          -9714.300000000016,
          -9673.100000000015,
          -9630.700000000015,
          -9680.800000000016,
          -9730.500000000015,
          -9534.700000000015,
          -9553.300000000014,
          -9624.800000000012,
          -9606.400000000012,
          -9602.900000000012,
          -9547.700000000013,
          -9708.000000000016,
          -9744.600000000017,
          -9754.000000000016,
          -9762.000000000016,
          -9674.300000000016,
          -9653.200000000015,
          -9676.700000000015,
          -9763.400000000018,
          -9784.600000000019,
          -9819.700000000019,
          -9839.80000000002,
          -9884.60000000002,
          -9764.500000000018,
          -9765.500000000018,
          -9861.30000000002,
          -9926.400000000018,
          -9837.800000000016,
          -9830.500000000016,
          -9704.900000000016,
          -9769.000000000016,
          -9755.900000000014,
          -9825.000000000015,
          -9784.200000000015,
          -9728.900000000014,
          -9698.600000000013,
          -9674.700000000013,
          -9680.200000000015,
          -9666.400000000014,
          -9609.000000000015,
          -9589.500000000013,
          -9606.700000000013,
          -9603.100000000011,
          -9634.40000000001,
          -9649.700000000012,
          -9604.90000000001,
          -9576.500000000011,
          -9512.70000000001,
          -9461.50000000001,
          -9369.100000000008,
          -9170.200000000008,
          -8892.20000000001,
          -8846.20000000001,
          -8891.20000000001,
          -8833.800000000012,
          -8753.300000000012,
          -8759.900000000012,
          -8811.300000000014,
          -8793.800000000014,
          -8886.900000000016,
          -8940.000000000016,
          -9296.200000000017,
          -9315.800000000017,
          -9099.200000000017,
          -8644.400000000016,
          -8645.400000000016,
          -8656.300000000016,
          -8579.200000000013,
          -8398.600000000015,
          -8456.600000000015,
          -8565.300000000014,
          -8601.700000000015,
          -8537.700000000015,
          -8580.400000000016,
          -8586.700000000015,
          -8633.900000000014,
          -8635.300000000014,
          -8679.200000000013,
          -8758.400000000012,
          -8833.700000000012,
          -8835.900000000012,
          -8871.100000000011,
          -8846.500000000011,
          -8873.500000000011,
          -8946.900000000012,
          -8925.000000000013,
          -8880.400000000014,
          -8879.200000000013,
          -8899.300000000014,
          -8962.700000000013,
          -8967.000000000015,
          -9035.400000000016,
          -9034.200000000015,
          -9043.600000000017,
          -9053.100000000017,
          -9058.500000000016,
          -9072.500000000015,
          -9195.300000000012,
          -9290.700000000013,
          -9322.300000000014,
          -9299.500000000013,
          -9265.100000000011,
          -9254.10000000001,
          -9288.90000000001,
          -9411.90000000001,
          -9302.100000000011,
          -9241.200000000012,
          -9183.000000000013,
          -9041.700000000013,
          -9009.500000000013,
          -9028.900000000012,
          -9097.100000000011,
          -9224.100000000011,
          -9267.000000000013,
          -9199.300000000012,
          -9113.200000000013,
          -9089.100000000015,
          -8987.900000000012,
          -9009.200000000012,
          -9110.600000000011,
          -9132.600000000011,
          -9093.600000000011,
          -9113.600000000013,
          -9136.000000000013,
          -9191.200000000015,
          -9140.200000000015,
          -9063.700000000015,
          -9009.400000000016,
          -9038.000000000016,
          -9055.800000000016,
          -9007.400000000016,
          -8898.200000000015,
          -8711.700000000015,
          -8361.600000000015,
          -8120.700000000014,
          -7864.900000000018,
          -7870.200000000018,
          -7878.400000000019,
          -7877.400000000019,
          -7894.500000000018,
          -7897.700000000018,
          -7960.6000000000195,
          -7968.300000000021,
          -7985.000000000022,
          -7869.500000000022,
          -7880.500000000022,
          -7862.500000000023,
          -7790.400000000023,
          -7798.400000000022,
          -7616.800000000023,
          -7655.200000000023,
          -7658.500000000022,
          -7664.300000000022,
          -7669.700000000022,
          -7697.500000000022,
          -7605.500000000021,
          -7491.200000000019,
          -7489.200000000017,
          -7339.300000000018,
          -7355.100000000018,
          -7256.300000000017,
          -7204.700000000016,
          -7210.600000000016,
          -7206.200000000014,
          -7255.800000000012,
          -7293.000000000012,
          -7365.400000000011,
          -7374.400000000011,
          -7410.800000000011,
          -7424.9000000000115,
          -7537.900000000013,
          -7572.500000000014,
          -7560.100000000013,
          -7635.7000000000135,
          -7660.400000000015,
          -7876.700000000018,
          -7897.500000000018,
          -7934.500000000017,
          -7812.100000000017,
          -8032.000000000018,
          -7935.300000000018,
          -7863.900000000019,
          -7848.10000000002,
          -7861.10000000002,
          -7798.000000000021,
          -7795.000000000021,
          -7826.000000000021,
          -7802.200000000019,
          -7789.200000000018,
          -7817.200000000019,
          -7771.200000000021,
          -7740.700000000021,
          -7626.000000000022,
          -7644.200000000023,
          -7651.000000000023,
          -7656.900000000022,
          -7666.100000000022,
          -7711.100000000024,
          -7702.500000000023,
          -7746.500000000023,
          -7755.700000000021,
          -7752.500000000021,
          -7469.300000000019,
          -7490.000000000018,
          -7479.200000000019,
          -7235.10000000002,
          -7326.70000000002,
          -7343.6000000000195,
          -7343.40000000002,
          -7185.00000000002,
          -7204.400000000021,
          -7226.2000000000235,
          -6940.200000000026,
          -6994.100000000028,
          -7004.70000000003,
          -7078.70000000003,
          -7090.400000000029,
          -7126.500000000029,
          -7172.200000000029,
          -7162.800000000029,
          -7172.00000000003,
          -7303.1000000000295,
          -7168.40000000003,
          -7150.40000000003,
          -7050.000000000031,
          -7004.400000000032,
          -7035.300000000033,
          -7056.400000000034,
          -7012.900000000034,
          -7062.100000000035,
          -7069.900000000035,
          -7101.500000000035,
          -7142.500000000035,
          -7188.700000000035,
          -7216.5000000000355,
          -7269.0000000000355,
          -7153.400000000039,
          -7226.40000000004,
          -7245.800000000039,
          -7254.800000000039,
          -7258.600000000039,
          -7280.700000000038,
          -7353.400000000039,
          -7427.300000000039,
          -7467.70000000004,
          -7429.800000000039,
          -7449.800000000039,
          -7455.500000000039,
          -7472.1000000000395,
          -7479.300000000039,
          -7484.1000000000395,
          -7491.700000000039,
          -7497.500000000037,
          -7506.600000000038,
          -7532.800000000038,
          -7545.000000000038,
          -7562.400000000038,
          -7517.900000000038,
          -7416.100000000038,
          -7459.300000000038,
          -7571.700000000037,
          -7649.10000000004,
          -7819.300000000039,
          -7842.900000000039,
          -7848.1000000000395,
          -7857.6000000000395,
          -7981.40000000004,
          -7953.70000000004,
          -7824.500000000037,
          -7839.000000000036,
          -8005.300000000039,
          -7984.300000000039,
          -8042.6000000000395,
          -7756.800000000039,
          -7744.40000000004,
          -7744.000000000039,
          -7769.000000000038,
          -7840.000000000039,
          -7310.6000000000395,
          -7267.200000000039,
          -7025.300000000039,
          -6998.50000000004,
          -7040.300000000043,
          -6793.400000000044,
          -6834.900000000045,
          -6870.700000000044,
          -6909.2000000000435,
          -6915.000000000044,
          -6869.400000000045,
          -6885.300000000046,
          -6607.300000000046,
          -6595.500000000048,
          -6411.900000000047,
          -6453.700000000045,
          -6439.5000000000455,
          -6479.100000000046,
          -6581.900000000047,
          -6617.300000000047,
          -6649.800000000047,
          -6647.700000000048,
          -6698.900000000046,
          -6745.700000000045,
          -6756.400000000044,
          -6760.2000000000435,
          -6654.200000000041,
          -6644.100000000041,
          -6673.80000000004,
          -6716.400000000041,
          -6811.30000000004,
          -6788.80000000004,
          -6813.60000000004,
          -6822.10000000004,
          -6821.500000000041,
          -6869.200000000041,
          -6858.10000000004,
          -6888.00000000004,
          -6781.80000000004,
          -6729.40000000004,
          -6737.400000000039,
          -6567.200000000036,
          -6508.600000000034,
          -6346.000000000032,
          -6132.900000000032,
          -6111.200000000033,
          -6039.500000000033,
          -6037.900000000032,
          -5975.700000000033,
          -5883.100000000031,
          -5995.400000000032,
          -5887.90000000003,
          -5805.800000000029,
          -5852.100000000029,
          -5935.400000000028,
          -5845.500000000027,
          -5600.100000000028,
          -5241.3000000000275,
          -5281.700000000025,
          -5168.5000000000255,
          -5173.400000000024,
          -4904.7000000000235,
          -4736.400000000022,
          -4632.4000000000215,
          -4667.700000000022,
          -4657.100000000022,
          -4784.500000000022,
          -4804.500000000022,
          -4819.700000000023,
          -4826.600000000021,
          -4812.800000000022,
          -4850.200000000023,
          -4861.100000000023,
          -4835.300000000024,
          -4840.200000000023,
          -4859.9000000000215,
          -4868.100000000022,
          -4852.500000000022,
          -4829.800000000022,
          -4821.500000000022,
          -4854.200000000022,
          -4882.400000000022,
          -4944.000000000022,
          -4963.800000000022,
          -5015.000000000023,
          -5026.300000000021,
          -5054.400000000025,
          -5094.300000000025,
          -5098.400000000025,
          -5179.000000000026,
          -5288.900000000025,
          -5292.400000000025,
          -5303.0000000000255,
          -5324.400000000025,
          -5507.200000000027,
          -5542.200000000028,
          -5577.000000000028,
          -5695.600000000028,
          -5611.200000000028,
          -5707.600000000029,
          -5765.600000000027,
          -5774.700000000028,
          -5709.50000000003,
          -5629.20000000003,
          -5658.300000000029,
          -5566.30000000003,
          -5568.6000000000295,
          -5575.300000000029,
          -5568.500000000029,
          -5565.500000000029,
          -5471.500000000028,
          -5496.800000000028,
          -5415.400000000029,
          -5429.80000000003,
          -5518.20000000003,
          -5428.20000000003,
          -5427.20000000003,
          -5425.70000000003,
          -4988.70000000003,
          -4723.1000000000295,
          -4454.6000000000295,
          -4460.900000000029,
          -4367.80000000003,
          -4410.300000000031,
          -4252.800000000032,
          -4076.800000000033,
          -4073.8000000000334,
          -4107.100000000034,
          -3997.1000000000327,
          -3991.5000000000337,
          -3964.500000000033,
          -3954.7000000000335,
          -3976.500000000033,
          -3808.700000000033,
          -3786.800000000034,
          -3684.300000000033,
          -3679.0000000000327,
          -3651.4000000000306,
          -3682.8000000000297,
          -3720.7000000000303,
          -3731.4000000000306,
          -3734.40000000003,
          -3775.700000000032,
          -3671.800000000033,
          -3726.5000000000327,
          -3779.700000000034,
          -3823.9000000000347,
          -3828.2000000000353,
          -3847.000000000035,
          -3742.0000000000355,
          -3612.500000000037,
          -3649.300000000037,
          -3686.3000000000375,
          -3661.2000000000376,
          -3536.20000000004,
          -3546.5000000000387,
          -3493.6000000000386,
          -3448.3000000000393,
          -3442.800000000039,
          -3476.5000000000396,
          -3474.000000000041,
          -3478.10000000004,
          -3514.200000000039,
          -3573.8000000000384,
          -3576.100000000038,
          -3539.300000000039,
          -3631.6000000000395,
          -3451.40000000004,
          -3454.9000000000387,
          -3457.300000000039,
          -3335.6000000000386,
          -3352.2000000000385,
          -3363.500000000039,
          -3364.300000000039,
          -3345.1000000000386,
          -3349.600000000038,
          -3327.700000000038,
          -3225.80000000004,
          -3452.1000000000436,
          -3474.700000000043,
          -3468.1000000000427,
          -3471.8000000000434,
          -3485.4000000000437,
          -3481.400000000044,
          -3622.500000000045,
          -3699.5000000000446,
          -3715.1000000000445,
          -3747.9000000000437,
          -3781.800000000044,
          -3794.700000000044,
          -3886.4000000000456,
          -3941.1000000000427,
          -3859.9000000000437,
          -3909.7000000000435,
          -3942.7000000000444,
          -3953.7000000000444,
          -3889.600000000044,
          -3925.400000000042,
          -3903.9000000000433,
          -3743.1000000000436,
          -3567.2000000000435,
          -3579.900000000044,
          -3101.600000000043,
          -2474.300000000042,
          -2496.700000000042,
          -2335.1000000000413,
          -2324.80000000004,
          -2328.100000000039,
          -2338.000000000038,
          -2416.1000000000363,
          -2527.100000000037,
          -2527.3000000000384,
          -2547.100000000037,
          -2577.500000000037,
          -2497.8000000000366,
          -2528.2000000000357,
          -2377.600000000036,
          -2373.2000000000357,
          -2318.400000000036,
          -2327.5000000000355,
          -2366.2000000000353,
          -2220.700000000037,
          -2110.900000000036,
          -2127.900000000036,
          -2122.9000000000356,
          -2215.500000000035,
          -2237.4000000000365,
          -2272.6000000000363,
          -2351.8000000000366,
          -2427.800000000037,
          -2433.000000000037,
          -2477.400000000037,
          -2565.7000000000335,
          -2606.9000000000337,
          -2633.3000000000334,
          -2575.5000000000323,
          -2565.3000000000334,
          -2576.2000000000357,
          -2543.3000000000366,
          -2584.400000000035,
          -2587.0000000000355,
          -2592.900000000034,
          -2603.0000000000337,
          -2632.500000000035,
          -2656.3000000000343,
          -2672.7000000000353,
          -2694.900000000034,
          -2739.7000000000357,
          -2636.7000000000353,
          -2479.1000000000345,
          -2475.000000000034,
          -2209.100000000035,
          -2213.6000000000345,
          -1993.8000000000334,
          -1945.4000000000328,
          -1714.6000000000317,
          -1674.4000000000342,
          -1654.200000000034,
          -1645.800000000035,
          -1664.800000000034,
          -1751.0000000000348,
          -1795.100000000035,
          -1808.3000000000347,
          -1832.6000000000352,
          -1793.8000000000352,
          -1815.1000000000345,
          -1827.6000000000342,
          -1847.0000000000348,
          -1930.900000000036,
          -1842.4000000000358,
          -1867.9000000000362,
          -1828.900000000036,
          -1715.8000000000368,
          -1709.8000000000375,
          -1604.0000000000382,
          -1577.8000000000382,
          -1524.400000000038,
          -1528.0000000000373,
          -1533.4000000000372,
          -1459.2000000000367,
          -1423.6000000000345,
          -1444.9000000000342,
          -1390.5000000000332,
          -1316.9000000000328,
          -1342.7000000000319,
          -1050.7000000000285,
          -1072.5000000000273,
          -1070.5000000000264,
          -1042.2000000000264,
          -1001.0000000000252,
          -971.2000000000254,
          -1004.5000000000252,
          -994.7000000000254,
          -993.7000000000255,
          -1021.5000000000256,
          -1046.3000000000247,
          -1058.1000000000254,
          -1083.300000000026,
          -1070.5000000000255,
          -1109.7000000000246,
          -1048.8000000000238,
          -1040.4000000000244,
          -1077.600000000023,
          -1123.1000000000215,
          -1161.600000000023,
          -1178.2000000000228,
          -1234.700000000022,
          -1251.7000000000226,
          -1318.7000000000241,
          -1330.3000000000247,
          -1284.6000000000251,
          -1270.2000000000253,
          -1311.5000000000236,
          -1353.7000000000226,
          -1366.3000000000218,
          -1476.7000000000235,
          -1504.3000000000234,
          -1508.500000000024,
          -1537.0000000000232,
          -1571.100000000025,
          -1606.5000000000248,
          -1609.7000000000246,
          -1607.5000000000246,
          -1621.2000000000228,
          -1732.600000000023,
          -1766.0000000000232,
          -1939.400000000026,
          -1877.5000000000268,
          -1761.5000000000264,
          -1888.300000000027,
          -1874.5000000000277,
          -1910.4000000000276,
          -1856.300000000028,
          -2025.4000000000283,
          -2044.400000000028,
          -2201.4000000000274,
          -2292.4000000000274,
          -2448.900000000027,
          -2470.300000000027,
          -2434.300000000027,
          -2553.100000000027,
          -2642.3000000000243,
          -2643.800000000023,
          -2688.700000000025,
          -2672.9000000000233,
          -2776.4000000000224,
          -2796.800000000023,
          -2847.000000000023,
          -2876.600000000022,
          -2951.4000000000237,
          -2983.4000000000246,
          -3010.100000000024,
          -3024.300000000024,
          -2942.5000000000255,
          -2959.6000000000263,
          -3023.7000000000266,
          -2972.1000000000263,
          -2944.400000000028,
          -2914.200000000029,
          -2847.7000000000276,
          -2842.3000000000275,
          -2947.7000000000276,
          -3000.3000000000284,
          -3082.900000000029,
          -3142.900000000029,
          -3290.7000000000276,
          -2914.000000000031,
          -2927.3000000000316,
          -2953.6000000000317,
          -3001.8000000000316,
          -2775.0000000000314,
          -2741.400000000031,
          -2642.600000000031,
          -1979.60000000003,
          -1515.6000000000322,
          -1595.6000000000308,
          -1681.6000000000301,
          -1675.7000000000303,
          -1648.8000000000295,
          -1657.4000000000292,
          -1724.4000000000285,
          -1766.2000000000291,
          -1786.8000000000286,
          -1829.5000000000307,
          -1788.1000000000304,
          -1750.9000000000299,
          -1994.0000000000307,
          -2004.7000000000298,
          -2106.600000000029,
          -2232.200000000028,
          -2226.500000000028,
          -2338.200000000027,
          -2206.6000000000267,
          -2224.2000000000266,
          -2261.3000000000275,
          -2194.1000000000267,
          -2154.8000000000234,
          -2284.900000000023,
          -2283.200000000023,
          -2246.5000000000223,
          -2253.400000000022,
          -2256.800000000022,
          -2289.6000000000226,
          -2285.2000000000226,
          -2338.4000000000224,
          -2347.0000000000223,
          -2458.800000000022,
          -2494.600000000022,
          -2480.6000000000226,
          -2467.800000000022,
          -2429.200000000022,
          -2378.700000000023,
          -2409.300000000024,
          -2421.9000000000233,
          -2340.800000000024,
          -2326.600000000024,
          -2184.9000000000237,
          -2164.7000000000235,
          -2089.3000000000225,
          -2059.200000000023,
          -2028.6000000000247,
          -1963.3000000000227,
          -1910.5000000000232,
          -1915.5000000000227,
          -1987.5000000000227,
          -2017.6000000000245,
          -2023.2000000000241,
          -2048.800000000023,
          -2119.700000000024,
          -2192.800000000022,
          -2195.6000000000213,
          -2200.700000000021,
          -2200.6000000000204,
          -2237.300000000019,
          -2276.80000000002,
          -2342.50000000002,
          -2297.000000000022,
          -2158.500000000022,
          -2082.9000000000224,
          -1601.9000000000228,
          -1600.8000000000222,
          -1612.5000000000211,
          -1646.8000000000216,
          -1729.2000000000219,
          -1684.3000000000231,
          -1685.9000000000226,
          -1701.1000000000222,
          -1723.100000000022,
          -1748.700000000022,
          -1838.7000000000226,
          -1872.5000000000218,
          -1838.3000000000216,
          -1852.5000000000214,
          -1809.0000000000218,
          -1777.0000000000232,
          -1762.900000000022,
          -1750.5000000000207,
          -1686.6000000000217,
          -1676.6000000000217,
          -1675.2000000000214,
          -1698.700000000022,
          -1667.500000000022,
          -1726.4000000000233,
          -1819.400000000024,
          -1809.6000000000242,
          -1822.0000000000243,
          -1828.6000000000254,
          -1810.5000000000266,
          -1797.700000000027,
          -1832.5000000000284,
          -1815.1000000000267,
          -1854.2000000000276,
          -1912.7000000000266,
          -1935.7000000000264,
          -1927.300000000027,
          -1945.100000000027,
          -1947.7000000000273,
          -1923.2000000000269,
          -1926.400000000025,
          -1917.8000000000238,
          -1940.500000000026,
          -1956.5000000000255,
          -1971.900000000025,
          -1868.4000000000256,
          -1816.0000000000252,
          -1807.1000000000247,
          -1835.500000000022,
          -1837.1000000000215,
          -1821.6000000000242,
          -1625.100000000025,
          -1659.2000000000262,
          -1696.4000000000256,
          -1711.700000000026,
          -1558.200000000024,
          -1494.6000000000247,
          -1418.6000000000254,
          -1454.9000000000253,
          -1432.6000000000254,
          -1440.4000000000253,
          -1401.3000000000245,
          -1390.1000000000245,
          -1414.7000000000235,
          -1430.9000000000233,
          -1451.9000000000242,
          -1497.9000000000258,
          -1477.4000000000274,
          -1468.700000000028,
          -1523.9000000000271,
          -1567.4000000000267,
          -1593.1000000000258,
          -1625.1000000000256,
          -1656.9000000000242,
          -1643.1000000000222,
          -1637.1000000000206
         ]
        }
       ],
       "layout": {
        "font": {
         "color": "#e1e1e1",
         "size": 10
        },
        "height": 400,
        "margin": {
         "b": 10,
         "l": 15,
         "r": 15
        },
        "paper_bgcolor": "#1e1e1e",
        "plot_bgcolor": "#1e1e1e",
        "template": {
         "data": {
          "bar": [
           {
            "error_x": {
             "color": "#2a3f5f"
            },
            "error_y": {
             "color": "#2a3f5f"
            },
            "marker": {
             "line": {
              "color": "#E5ECF6",
              "width": 0.5
             },
             "pattern": {
              "fillmode": "overlay",
              "size": 10,
              "solidity": 0.2
             }
            },
            "type": "bar"
           }
          ],
          "barpolar": [
           {
            "marker": {
             "line": {
              "color": "#E5ECF6",
              "width": 0.5
             },
             "pattern": {
              "fillmode": "overlay",
              "size": 10,
              "solidity": 0.2
             }
            },
            "type": "barpolar"
           }
          ],
          "carpet": [
           {
            "aaxis": {
             "endlinecolor": "#2a3f5f",
             "gridcolor": "white",
             "linecolor": "white",
             "minorgridcolor": "white",
             "startlinecolor": "#2a3f5f"
            },
            "baxis": {
             "endlinecolor": "#2a3f5f",
             "gridcolor": "white",
             "linecolor": "white",
             "minorgridcolor": "white",
             "startlinecolor": "#2a3f5f"
            },
            "type": "carpet"
           }
          ],
          "choropleth": [
           {
            "colorbar": {
             "outlinewidth": 0,
             "ticks": ""
            },
            "type": "choropleth"
           }
          ],
          "contour": [
           {
            "colorbar": {
             "outlinewidth": 0,
             "ticks": ""
            },
            "colorscale": [
             [
              0,
              "#0d0887"
             ],
             [
              0.1111111111111111,
              "#46039f"
             ],
             [
              0.2222222222222222,
              "#7201a8"
             ],
             [
              0.3333333333333333,
              "#9c179e"
             ],
             [
              0.4444444444444444,
              "#bd3786"
             ],
             [
              0.5555555555555556,
              "#d8576b"
             ],
             [
              0.6666666666666666,
              "#ed7953"
             ],
             [
              0.7777777777777778,
              "#fb9f3a"
             ],
             [
              0.8888888888888888,
              "#fdca26"
             ],
             [
              1,
              "#f0f921"
             ]
            ],
            "type": "contour"
           }
          ],
          "contourcarpet": [
           {
            "colorbar": {
             "outlinewidth": 0,
             "ticks": ""
            },
            "type": "contourcarpet"
           }
          ],
          "heatmap": [
           {
            "colorbar": {
             "outlinewidth": 0,
             "ticks": ""
            },
            "colorscale": [
             [
              0,
              "#0d0887"
             ],
             [
              0.1111111111111111,
              "#46039f"
             ],
             [
              0.2222222222222222,
              "#7201a8"
             ],
             [
              0.3333333333333333,
              "#9c179e"
             ],
             [
              0.4444444444444444,
              "#bd3786"
             ],
             [
              0.5555555555555556,
              "#d8576b"
             ],
             [
              0.6666666666666666,
              "#ed7953"
             ],
             [
              0.7777777777777778,
              "#fb9f3a"
             ],
             [
              0.8888888888888888,
              "#fdca26"
             ],
             [
              1,
              "#f0f921"
             ]
            ],
            "type": "heatmap"
           }
          ],
          "heatmapgl": [
           {
            "colorbar": {
             "outlinewidth": 0,
             "ticks": ""
            },
            "colorscale": [
             [
              0,
              "#0d0887"
             ],
             [
              0.1111111111111111,
              "#46039f"
             ],
             [
              0.2222222222222222,
              "#7201a8"
             ],
             [
              0.3333333333333333,
              "#9c179e"
             ],
             [
              0.4444444444444444,
              "#bd3786"
             ],
             [
              0.5555555555555556,
              "#d8576b"
             ],
             [
              0.6666666666666666,
              "#ed7953"
             ],
             [
              0.7777777777777778,
              "#fb9f3a"
             ],
             [
              0.8888888888888888,
              "#fdca26"
             ],
             [
              1,
              "#f0f921"
             ]
            ],
            "type": "heatmapgl"
           }
          ],
          "histogram": [
           {
            "marker": {
             "pattern": {
              "fillmode": "overlay",
              "size": 10,
              "solidity": 0.2
             }
            },
            "type": "histogram"
           }
          ],
          "histogram2d": [
           {
            "colorbar": {
             "outlinewidth": 0,
             "ticks": ""
            },
            "colorscale": [
             [
              0,
              "#0d0887"
             ],
             [
              0.1111111111111111,
              "#46039f"
             ],
             [
              0.2222222222222222,
              "#7201a8"
             ],
             [
              0.3333333333333333,
              "#9c179e"
             ],
             [
              0.4444444444444444,
              "#bd3786"
             ],
             [
              0.5555555555555556,
              "#d8576b"
             ],
             [
              0.6666666666666666,
              "#ed7953"
             ],
             [
              0.7777777777777778,
              "#fb9f3a"
             ],
             [
              0.8888888888888888,
              "#fdca26"
             ],
             [
              1,
              "#f0f921"
             ]
            ],
            "type": "histogram2d"
           }
          ],
          "histogram2dcontour": [
           {
            "colorbar": {
             "outlinewidth": 0,
             "ticks": ""
            },
            "colorscale": [
             [
              0,
              "#0d0887"
             ],
             [
              0.1111111111111111,
              "#46039f"
             ],
             [
              0.2222222222222222,
              "#7201a8"
             ],
             [
              0.3333333333333333,
              "#9c179e"
             ],
             [
              0.4444444444444444,
              "#bd3786"
             ],
             [
              0.5555555555555556,
              "#d8576b"
             ],
             [
              0.6666666666666666,
              "#ed7953"
             ],
             [
              0.7777777777777778,
              "#fb9f3a"
             ],
             [
              0.8888888888888888,
              "#fdca26"
             ],
             [
              1,
              "#f0f921"
             ]
            ],
            "type": "histogram2dcontour"
           }
          ],
          "mesh3d": [
           {
            "colorbar": {
             "outlinewidth": 0,
             "ticks": ""
            },
            "type": "mesh3d"
           }
          ],
          "parcoords": [
           {
            "line": {
             "colorbar": {
              "outlinewidth": 0,
              "ticks": ""
             }
            },
            "type": "parcoords"
           }
          ],
          "pie": [
           {
            "automargin": true,
            "type": "pie"
           }
          ],
          "scatter": [
           {
            "fillpattern": {
             "fillmode": "overlay",
             "size": 10,
             "solidity": 0.2
            },
            "type": "scatter"
           }
          ],
          "scatter3d": [
           {
            "line": {
             "colorbar": {
              "outlinewidth": 0,
              "ticks": ""
             }
            },
            "marker": {
             "colorbar": {
              "outlinewidth": 0,
              "ticks": ""
             }
            },
            "type": "scatter3d"
           }
          ],
          "scattercarpet": [
           {
            "marker": {
             "colorbar": {
              "outlinewidth": 0,
              "ticks": ""
             }
            },
            "type": "scattercarpet"
           }
          ],
          "scattergeo": [
           {
            "marker": {
             "colorbar": {
              "outlinewidth": 0,
              "ticks": ""
             }
            },
            "type": "scattergeo"
           }
          ],
          "scattergl": [
           {
            "marker": {
             "colorbar": {
              "outlinewidth": 0,
              "ticks": ""
             }
            },
            "type": "scattergl"
           }
          ],
          "scattermapbox": [
           {
            "marker": {
             "colorbar": {
              "outlinewidth": 0,
              "ticks": ""
             }
            },
            "type": "scattermapbox"
           }
          ],
          "scatterpolar": [
           {
            "marker": {
             "colorbar": {
              "outlinewidth": 0,
              "ticks": ""
             }
            },
            "type": "scatterpolar"
           }
          ],
          "scatterpolargl": [
           {
            "marker": {
             "colorbar": {
              "outlinewidth": 0,
              "ticks": ""
             }
            },
            "type": "scatterpolargl"
           }
          ],
          "scatterternary": [
           {
            "marker": {
             "colorbar": {
              "outlinewidth": 0,
              "ticks": ""
             }
            },
            "type": "scatterternary"
           }
          ],
          "surface": [
           {
            "colorbar": {
             "outlinewidth": 0,
             "ticks": ""
            },
            "colorscale": [
             [
              0,
              "#0d0887"
             ],
             [
              0.1111111111111111,
              "#46039f"
             ],
             [
              0.2222222222222222,
              "#7201a8"
             ],
             [
              0.3333333333333333,
              "#9c179e"
             ],
             [
              0.4444444444444444,
              "#bd3786"
             ],
             [
              0.5555555555555556,
              "#d8576b"
             ],
             [
              0.6666666666666666,
              "#ed7953"
             ],
             [
              0.7777777777777778,
              "#fb9f3a"
             ],
             [
              0.8888888888888888,
              "#fdca26"
             ],
             [
              1,
              "#f0f921"
             ]
            ],
            "type": "surface"
           }
          ],
          "table": [
           {
            "cells": {
             "fill": {
              "color": "#EBF0F8"
             },
             "line": {
              "color": "white"
             }
            },
            "header": {
             "fill": {
              "color": "#C8D4E3"
             },
             "line": {
              "color": "white"
             }
            },
            "type": "table"
           }
          ]
         },
         "layout": {
          "annotationdefaults": {
           "arrowcolor": "#2a3f5f",
           "arrowhead": 0,
           "arrowwidth": 1
          },
          "autotypenumbers": "strict",
          "coloraxis": {
           "colorbar": {
            "outlinewidth": 0,
            "ticks": ""
           }
          },
          "colorscale": {
           "diverging": [
            [
             0,
             "#8e0152"
            ],
            [
             0.1,
             "#c51b7d"
            ],
            [
             0.2,
             "#de77ae"
            ],
            [
             0.3,
             "#f1b6da"
            ],
            [
             0.4,
             "#fde0ef"
            ],
            [
             0.5,
             "#f7f7f7"
            ],
            [
             0.6,
             "#e6f5d0"
            ],
            [
             0.7,
             "#b8e186"
            ],
            [
             0.8,
             "#7fbc41"
            ],
            [
             0.9,
             "#4d9221"
            ],
            [
             1,
             "#276419"
            ]
           ],
           "sequential": [
            [
             0,
             "#0d0887"
            ],
            [
             0.1111111111111111,
             "#46039f"
            ],
            [
             0.2222222222222222,
             "#7201a8"
            ],
            [
             0.3333333333333333,
             "#9c179e"
            ],
            [
             0.4444444444444444,
             "#bd3786"
            ],
            [
             0.5555555555555556,
             "#d8576b"
            ],
            [
             0.6666666666666666,
             "#ed7953"
            ],
            [
             0.7777777777777778,
             "#fb9f3a"
            ],
            [
             0.8888888888888888,
             "#fdca26"
            ],
            [
             1,
             "#f0f921"
            ]
           ],
           "sequentialminus": [
            [
             0,
             "#0d0887"
            ],
            [
             0.1111111111111111,
             "#46039f"
            ],
            [
             0.2222222222222222,
             "#7201a8"
            ],
            [
             0.3333333333333333,
             "#9c179e"
            ],
            [
             0.4444444444444444,
             "#bd3786"
            ],
            [
             0.5555555555555556,
             "#d8576b"
            ],
            [
             0.6666666666666666,
             "#ed7953"
            ],
            [
             0.7777777777777778,
             "#fb9f3a"
            ],
            [
             0.8888888888888888,
             "#fdca26"
            ],
            [
             1,
             "#f0f921"
            ]
           ]
          },
          "colorway": [
           "#636efa",
           "#EF553B",
           "#00cc96",
           "#ab63fa",
           "#FFA15A",
           "#19d3f3",
           "#FF6692",
           "#B6E880",
           "#FF97FF",
           "#FECB52"
          ],
          "font": {
           "color": "#2a3f5f"
          },
          "geo": {
           "bgcolor": "white",
           "lakecolor": "white",
           "landcolor": "#E5ECF6",
           "showlakes": true,
           "showland": true,
           "subunitcolor": "white"
          },
          "hoverlabel": {
           "align": "left"
          },
          "hovermode": "closest",
          "mapbox": {
           "style": "light"
          },
          "paper_bgcolor": "white",
          "plot_bgcolor": "#E5ECF6",
          "polar": {
           "angularaxis": {
            "gridcolor": "white",
            "linecolor": "white",
            "ticks": ""
           },
           "bgcolor": "#E5ECF6",
           "radialaxis": {
            "gridcolor": "white",
            "linecolor": "white",
            "ticks": ""
           }
          },
          "scene": {
           "xaxis": {
            "backgroundcolor": "#E5ECF6",
            "gridcolor": "white",
            "gridwidth": 2,
            "linecolor": "white",
            "showbackground": true,
            "ticks": "",
            "zerolinecolor": "white"
           },
           "yaxis": {
            "backgroundcolor": "#E5ECF6",
            "gridcolor": "white",
            "gridwidth": 2,
            "linecolor": "white",
            "showbackground": true,
            "ticks": "",
            "zerolinecolor": "white"
           },
           "zaxis": {
            "backgroundcolor": "#E5ECF6",
            "gridcolor": "white",
            "gridwidth": 2,
            "linecolor": "white",
            "showbackground": true,
            "ticks": "",
            "zerolinecolor": "white"
           }
          },
          "shapedefaults": {
           "line": {
            "color": "#2a3f5f"
           }
          },
          "ternary": {
           "aaxis": {
            "gridcolor": "white",
            "linecolor": "white",
            "ticks": ""
           },
           "baxis": {
            "gridcolor": "white",
            "linecolor": "white",
            "ticks": ""
           },
           "bgcolor": "#E5ECF6",
           "caxis": {
            "gridcolor": "white",
            "linecolor": "white",
            "ticks": ""
           }
          },
          "title": {
           "x": 0.05
          },
          "xaxis": {
           "automargin": true,
           "gridcolor": "white",
           "linecolor": "white",
           "ticks": "",
           "title": {
            "standoff": 15
           },
           "zerolinecolor": "white",
           "zerolinewidth": 2
          },
          "yaxis": {
           "automargin": true,
           "gridcolor": "white",
           "linecolor": "white",
           "ticks": "",
           "title": {
            "standoff": 15
           },
           "zerolinecolor": "white",
           "zerolinewidth": 2
          }
         }
        },
        "title": {
         "text": "MA_16_32"
        },
        "width": 1000,
        "xaxis": {
         "linecolor": "#3a4a54",
         "linewidth": 1,
         "showgrid": false,
         "zeroline": false
        },
        "yaxis": {
         "linecolor": "#3a4a54",
         "linewidth": 1,
         "showgrid": false,
         "zeroline": false
        }
       }
      }
     },
     "metadata": {},
     "output_type": "display_data"
    }
   ],
   "source": [
    "for c in crosses:   \n",
    "    temp_df = all_trades[(all_trades.CROSS==c)].copy()    \n",
    "    temp_df = temp_df.groupby(by=\"time\", as_index=False).sum()\n",
    "    temp_df['CUM_GAIN'] = temp_df.GAIN.cumsum()\n",
    "    plot_line(temp_df, c)"
   ]
  },
  {
   "cell_type": "code",
   "execution_count": null,
   "metadata": {},
   "outputs": [],
   "source": []
  }
 ],
 "metadata": {
  "kernelspec": {
   "display_name": "venv",
   "language": "python",
   "name": "python3"
  },
  "language_info": {
   "codemirror_mode": {
    "name": "ipython",
    "version": 3
   },
   "file_extension": ".py",
   "mimetype": "text/x-python",
   "name": "python",
   "nbconvert_exporter": "python",
   "pygments_lexer": "ipython3",
   "version": "3.10.9"
  },
  "orig_nbformat": 4
 },
 "nbformat": 4,
 "nbformat_minor": 2
}
