{
 "cells": [
  {
   "cell_type": "code",
   "execution_count": 19,
   "metadata": {},
   "outputs": [],
   "source": [
    "import requests\n",
    "import defs\n",
    "import pandas as pd"
   ]
  },
  {
   "cell_type": "code",
   "execution_count": 3,
   "metadata": {},
   "outputs": [],
   "source": [
    "session = requests.session()"
   ]
  },
  {
   "cell_type": "code",
   "execution_count": 5,
   "metadata": {},
   "outputs": [
    {
     "data": {
      "text/plain": [
       "'https://api-fxpractice.oanda.com/v3/accounts/101-004-26226139-001/instruments'"
      ]
     },
     "execution_count": 5,
     "metadata": {},
     "output_type": "execute_result"
    }
   ],
   "source": [
    "url = f\"{defs.OANDA_URL}/accounts/{defs.ACCOUNT_ID}/instruments\"\n",
    "url"
   ]
  },
  {
   "cell_type": "code",
   "execution_count": 6,
   "metadata": {},
   "outputs": [
    {
     "data": {
      "text/plain": [
       "200"
      ]
     },
     "execution_count": 6,
     "metadata": {},
     "output_type": "execute_result"
    }
   ],
   "source": [
    "response = session.get(url, params=None, headers=defs.SECURE_HEADER)\n",
    "\n",
    "response.status_code"
   ]
  },
  {
   "cell_type": "code",
   "execution_count": 8,
   "metadata": {},
   "outputs": [],
   "source": [
    "data = response.json()"
   ]
  },
  {
   "cell_type": "code",
   "execution_count": 9,
   "metadata": {},
   "outputs": [
    {
     "data": {
      "text/plain": [
       "dict_keys(['instruments', 'lastTransactionID'])"
      ]
     },
     "execution_count": 9,
     "metadata": {},
     "output_type": "execute_result"
    }
   ],
   "source": [
    "data.keys()"
   ]
  },
  {
   "cell_type": "code",
   "execution_count": 10,
   "metadata": {},
   "outputs": [],
   "source": [
    "instruments = data[\"instruments\"]"
   ]
  },
  {
   "cell_type": "code",
   "execution_count": 15,
   "metadata": {},
   "outputs": [
    {
     "data": {
      "text/plain": [
       "dict_keys(['name', 'type', 'displayName', 'pipLocation', 'displayPrecision', 'tradeUnitsPrecision', 'minimumTradeSize', 'maximumTrailingStopDistance', 'minimumTrailingStopDistance', 'maximumPositionSize', 'maximumOrderUnits', 'marginRate', 'guaranteedStopLossOrderMode', 'minimumGuaranteedStopLossDistance', 'guaranteedStopLossOrderExecutionPremium', 'guaranteedStopLossOrderLevelRestriction', 'tags', 'financing'])"
      ]
     },
     "execution_count": 15,
     "metadata": {},
     "output_type": "execute_result"
    }
   ],
   "source": [
    "instruments[0].keys()"
   ]
  },
  {
   "cell_type": "code",
   "execution_count": 16,
   "metadata": {},
   "outputs": [],
   "source": [
    "instrument_data = []\n",
    "for item in instruments:\n",
    "    new_ob = dict(\n",
    "        name = item['name'],\n",
    "        type = item['type'],\n",
    "        displayName = item['displayName'],\n",
    "        pipLocation = item['pipLocation'],\n",
    "        marginRate = item['marginRate']\n",
    "    )\n",
    "    instrument_data.append(new_ob)"
   ]
  },
  {
   "cell_type": "code",
   "execution_count": 18,
   "metadata": {},
   "outputs": [
    {
     "name": "stdout",
     "output_type": "stream",
     "text": [
      "{'name': 'NL25_EUR', 'type': 'CFD', 'displayName': 'Netherlands 25', 'pipLocation': -2, 'marginRate': '0.10'}\n",
      "{'name': 'CHINAH_HKD', 'type': 'CFD', 'displayName': 'China H Shares', 'pipLocation': 0, 'marginRate': '0.1'}\n",
      "{'name': 'EUR_ZAR', 'type': 'CURRENCY', 'displayName': 'EUR/ZAR', 'pipLocation': -4, 'marginRate': '0.05'}\n"
     ]
    }
   ],
   "source": [
    "for item in instrument_data[0:3]:\n",
    "    print(item)"
   ]
  },
  {
   "cell_type": "code",
   "execution_count": 20,
   "metadata": {},
   "outputs": [],
   "source": [
    "instrument_df = pd.DataFrame.from_dict(instrument_data)"
   ]
  },
  {
   "cell_type": "code",
   "execution_count": 23,
   "metadata": {},
   "outputs": [
    {
     "data": {
      "text/html": [
       "<div>\n",
       "<style scoped>\n",
       "    .dataframe tbody tr th:only-of-type {\n",
       "        vertical-align: middle;\n",
       "    }\n",
       "\n",
       "    .dataframe tbody tr th {\n",
       "        vertical-align: top;\n",
       "    }\n",
       "\n",
       "    .dataframe thead th {\n",
       "        text-align: right;\n",
       "    }\n",
       "</style>\n",
       "<table border=\"1\" class=\"dataframe\">\n",
       "  <thead>\n",
       "    <tr style=\"text-align: right;\">\n",
       "      <th></th>\n",
       "      <th>name</th>\n",
       "      <th>type</th>\n",
       "      <th>displayName</th>\n",
       "      <th>pipLocation</th>\n",
       "      <th>marginRate</th>\n",
       "    </tr>\n",
       "  </thead>\n",
       "  <tbody>\n",
       "    <tr>\n",
       "      <th>0</th>\n",
       "      <td>NL25_EUR</td>\n",
       "      <td>CFD</td>\n",
       "      <td>Netherlands 25</td>\n",
       "      <td>-2</td>\n",
       "      <td>0.10</td>\n",
       "    </tr>\n",
       "    <tr>\n",
       "      <th>1</th>\n",
       "      <td>CHINAH_HKD</td>\n",
       "      <td>CFD</td>\n",
       "      <td>China H Shares</td>\n",
       "      <td>0</td>\n",
       "      <td>0.1</td>\n",
       "    </tr>\n",
       "    <tr>\n",
       "      <th>2</th>\n",
       "      <td>EUR_ZAR</td>\n",
       "      <td>CURRENCY</td>\n",
       "      <td>EUR/ZAR</td>\n",
       "      <td>-4</td>\n",
       "      <td>0.05</td>\n",
       "    </tr>\n",
       "    <tr>\n",
       "      <th>3</th>\n",
       "      <td>EUR_CHF</td>\n",
       "      <td>CURRENCY</td>\n",
       "      <td>EUR/CHF</td>\n",
       "      <td>-4</td>\n",
       "      <td>0.04</td>\n",
       "    </tr>\n",
       "    <tr>\n",
       "      <th>4</th>\n",
       "      <td>NAS100_USD</td>\n",
       "      <td>CFD</td>\n",
       "      <td>US Nas 100</td>\n",
       "      <td>0</td>\n",
       "      <td>0.05</td>\n",
       "    </tr>\n",
       "    <tr>\n",
       "      <th>...</th>\n",
       "      <td>...</td>\n",
       "      <td>...</td>\n",
       "      <td>...</td>\n",
       "      <td>...</td>\n",
       "      <td>...</td>\n",
       "    </tr>\n",
       "    <tr>\n",
       "      <th>119</th>\n",
       "      <td>USD_CAD</td>\n",
       "      <td>CURRENCY</td>\n",
       "      <td>USD/CAD</td>\n",
       "      <td>-4</td>\n",
       "      <td>0.03333333333333</td>\n",
       "    </tr>\n",
       "    <tr>\n",
       "      <th>120</th>\n",
       "      <td>AUD_USD</td>\n",
       "      <td>CURRENCY</td>\n",
       "      <td>AUD/USD</td>\n",
       "      <td>-4</td>\n",
       "      <td>0.05</td>\n",
       "    </tr>\n",
       "    <tr>\n",
       "      <th>121</th>\n",
       "      <td>HKD_JPY</td>\n",
       "      <td>CURRENCY</td>\n",
       "      <td>HKD/JPY</td>\n",
       "      <td>-4</td>\n",
       "      <td>0.1</td>\n",
       "    </tr>\n",
       "    <tr>\n",
       "      <th>122</th>\n",
       "      <td>EUR_SEK</td>\n",
       "      <td>CURRENCY</td>\n",
       "      <td>EUR/SEK</td>\n",
       "      <td>-4</td>\n",
       "      <td>0.05</td>\n",
       "    </tr>\n",
       "    <tr>\n",
       "      <th>123</th>\n",
       "      <td>USD_SGD</td>\n",
       "      <td>CURRENCY</td>\n",
       "      <td>USD/SGD</td>\n",
       "      <td>-4</td>\n",
       "      <td>0.05</td>\n",
       "    </tr>\n",
       "  </tbody>\n",
       "</table>\n",
       "<p>124 rows × 5 columns</p>\n",
       "</div>"
      ],
      "text/plain": [
       "           name      type     displayName  pipLocation        marginRate\n",
       "0      NL25_EUR       CFD  Netherlands 25           -2              0.10\n",
       "1    CHINAH_HKD       CFD  China H Shares            0               0.1\n",
       "2       EUR_ZAR  CURRENCY         EUR/ZAR           -4              0.05\n",
       "3       EUR_CHF  CURRENCY         EUR/CHF           -4              0.04\n",
       "4    NAS100_USD       CFD      US Nas 100            0              0.05\n",
       "..          ...       ...             ...          ...               ...\n",
       "119     USD_CAD  CURRENCY         USD/CAD           -4  0.03333333333333\n",
       "120     AUD_USD  CURRENCY         AUD/USD           -4              0.05\n",
       "121     HKD_JPY  CURRENCY         HKD/JPY           -4               0.1\n",
       "122     EUR_SEK  CURRENCY         EUR/SEK           -4              0.05\n",
       "123     USD_SGD  CURRENCY         USD/SGD           -4              0.05\n",
       "\n",
       "[124 rows x 5 columns]"
      ]
     },
     "execution_count": 23,
     "metadata": {},
     "output_type": "execute_result"
    }
   ],
   "source": [
    "instrument_df"
   ]
  },
  {
   "cell_type": "code",
   "execution_count": 24,
   "metadata": {},
   "outputs": [],
   "source": [
    "instrument_df.to_pickle(\"instruments.pkl\")"
   ]
  },
  {
   "cell_type": "code",
   "execution_count": 25,
   "metadata": {},
   "outputs": [],
   "source": [
    "new_table = pd.read_pickle(\"instruments.pkl\")"
   ]
  },
  {
   "cell_type": "code",
   "execution_count": 26,
   "metadata": {},
   "outputs": [
    {
     "data": {
      "text/html": [
       "<div>\n",
       "<style scoped>\n",
       "    .dataframe tbody tr th:only-of-type {\n",
       "        vertical-align: middle;\n",
       "    }\n",
       "\n",
       "    .dataframe tbody tr th {\n",
       "        vertical-align: top;\n",
       "    }\n",
       "\n",
       "    .dataframe thead th {\n",
       "        text-align: right;\n",
       "    }\n",
       "</style>\n",
       "<table border=\"1\" class=\"dataframe\">\n",
       "  <thead>\n",
       "    <tr style=\"text-align: right;\">\n",
       "      <th></th>\n",
       "      <th>name</th>\n",
       "      <th>type</th>\n",
       "      <th>displayName</th>\n",
       "      <th>pipLocation</th>\n",
       "      <th>marginRate</th>\n",
       "    </tr>\n",
       "  </thead>\n",
       "  <tbody>\n",
       "    <tr>\n",
       "      <th>0</th>\n",
       "      <td>NL25_EUR</td>\n",
       "      <td>CFD</td>\n",
       "      <td>Netherlands 25</td>\n",
       "      <td>-2</td>\n",
       "      <td>0.10</td>\n",
       "    </tr>\n",
       "    <tr>\n",
       "      <th>1</th>\n",
       "      <td>CHINAH_HKD</td>\n",
       "      <td>CFD</td>\n",
       "      <td>China H Shares</td>\n",
       "      <td>0</td>\n",
       "      <td>0.1</td>\n",
       "    </tr>\n",
       "    <tr>\n",
       "      <th>2</th>\n",
       "      <td>EUR_ZAR</td>\n",
       "      <td>CURRENCY</td>\n",
       "      <td>EUR/ZAR</td>\n",
       "      <td>-4</td>\n",
       "      <td>0.05</td>\n",
       "    </tr>\n",
       "    <tr>\n",
       "      <th>3</th>\n",
       "      <td>EUR_CHF</td>\n",
       "      <td>CURRENCY</td>\n",
       "      <td>EUR/CHF</td>\n",
       "      <td>-4</td>\n",
       "      <td>0.04</td>\n",
       "    </tr>\n",
       "    <tr>\n",
       "      <th>4</th>\n",
       "      <td>NAS100_USD</td>\n",
       "      <td>CFD</td>\n",
       "      <td>US Nas 100</td>\n",
       "      <td>0</td>\n",
       "      <td>0.05</td>\n",
       "    </tr>\n",
       "    <tr>\n",
       "      <th>...</th>\n",
       "      <td>...</td>\n",
       "      <td>...</td>\n",
       "      <td>...</td>\n",
       "      <td>...</td>\n",
       "      <td>...</td>\n",
       "    </tr>\n",
       "    <tr>\n",
       "      <th>119</th>\n",
       "      <td>USD_CAD</td>\n",
       "      <td>CURRENCY</td>\n",
       "      <td>USD/CAD</td>\n",
       "      <td>-4</td>\n",
       "      <td>0.03333333333333</td>\n",
       "    </tr>\n",
       "    <tr>\n",
       "      <th>120</th>\n",
       "      <td>AUD_USD</td>\n",
       "      <td>CURRENCY</td>\n",
       "      <td>AUD/USD</td>\n",
       "      <td>-4</td>\n",
       "      <td>0.05</td>\n",
       "    </tr>\n",
       "    <tr>\n",
       "      <th>121</th>\n",
       "      <td>HKD_JPY</td>\n",
       "      <td>CURRENCY</td>\n",
       "      <td>HKD/JPY</td>\n",
       "      <td>-4</td>\n",
       "      <td>0.1</td>\n",
       "    </tr>\n",
       "    <tr>\n",
       "      <th>122</th>\n",
       "      <td>EUR_SEK</td>\n",
       "      <td>CURRENCY</td>\n",
       "      <td>EUR/SEK</td>\n",
       "      <td>-4</td>\n",
       "      <td>0.05</td>\n",
       "    </tr>\n",
       "    <tr>\n",
       "      <th>123</th>\n",
       "      <td>USD_SGD</td>\n",
       "      <td>CURRENCY</td>\n",
       "      <td>USD/SGD</td>\n",
       "      <td>-4</td>\n",
       "      <td>0.05</td>\n",
       "    </tr>\n",
       "  </tbody>\n",
       "</table>\n",
       "<p>124 rows × 5 columns</p>\n",
       "</div>"
      ],
      "text/plain": [
       "           name      type     displayName  pipLocation        marginRate\n",
       "0      NL25_EUR       CFD  Netherlands 25           -2              0.10\n",
       "1    CHINAH_HKD       CFD  China H Shares            0               0.1\n",
       "2       EUR_ZAR  CURRENCY         EUR/ZAR           -4              0.05\n",
       "3       EUR_CHF  CURRENCY         EUR/CHF           -4              0.04\n",
       "4    NAS100_USD       CFD      US Nas 100            0              0.05\n",
       "..          ...       ...             ...          ...               ...\n",
       "119     USD_CAD  CURRENCY         USD/CAD           -4  0.03333333333333\n",
       "120     AUD_USD  CURRENCY         AUD/USD           -4              0.05\n",
       "121     HKD_JPY  CURRENCY         HKD/JPY           -4               0.1\n",
       "122     EUR_SEK  CURRENCY         EUR/SEK           -4              0.05\n",
       "123     USD_SGD  CURRENCY         USD/SGD           -4              0.05\n",
       "\n",
       "[124 rows x 5 columns]"
      ]
     },
     "execution_count": 26,
     "metadata": {},
     "output_type": "execute_result"
    }
   ],
   "source": [
    "new_table"
   ]
  },
  {
   "cell_type": "code",
   "execution_count": null,
   "metadata": {},
   "outputs": [],
   "source": []
  }
 ],
 "metadata": {
  "kernelspec": {
   "display_name": "base",
   "language": "python",
   "name": "python3"
  },
  "language_info": {
   "codemirror_mode": {
    "name": "ipython",
    "version": 3
   },
   "file_extension": ".py",
   "mimetype": "text/x-python",
   "name": "python",
   "nbconvert_exporter": "python",
   "pygments_lexer": "ipython3",
   "version": "3.10.9"
  },
  "orig_nbformat": 4
 },
 "nbformat": 4,
 "nbformat_minor": 2
}
