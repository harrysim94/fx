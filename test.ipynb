{
 "cells": [
  {
   "cell_type": "code",
   "execution_count": 20,
   "metadata": {},
   "outputs": [],
   "source": [
    "import requests\n",
    "import defs\n",
    "import pandas as pd"
   ]
  },
  {
   "cell_type": "code",
   "execution_count": 21,
   "metadata": {},
   "outputs": [],
   "source": [
    "session = requests.session()"
   ]
  },
  {
   "cell_type": "code",
   "execution_count": 22,
   "metadata": {},
   "outputs": [],
   "source": [
    "instrument = \"EUR_USD\"\n",
    "count = 10\n",
    "granularity = \"H1\" "
   ]
  },
  {
   "cell_type": "code",
   "execution_count": 23,
   "metadata": {},
   "outputs": [],
   "source": [
    "url = f\"{defs.OANDA_URL}/instruments/{instrument}/candles\""
   ]
  },
  {
   "cell_type": "code",
   "execution_count": 28,
   "metadata": {},
   "outputs": [
    {
     "data": {
      "text/plain": [
       "{'count': 10, 'granularity': 'H1', 'price': 'MBA'}"
      ]
     },
     "execution_count": 28,
     "metadata": {},
     "output_type": "execute_result"
    }
   ],
   "source": [
    "params = dict(\n",
    "    count = count,\n",
    "    granularity =granularity, \n",
    "    price = \"MBA\" \n",
    ")\n",
    "\n",
    "params"
   ]
  },
  {
   "cell_type": "code",
   "execution_count": 30,
   "metadata": {},
   "outputs": [
    {
     "data": {
      "text/plain": [
       "200"
      ]
     },
     "execution_count": 30,
     "metadata": {},
     "output_type": "execute_result"
    }
   ],
   "source": [
    "response = session.get(url, params=params, headers=defs.SECURE_HEADER)\n",
    "\n",
    "response.status_code"
   ]
  },
  {
   "cell_type": "code",
   "execution_count": 32,
   "metadata": {},
   "outputs": [],
   "source": [
    "data = response.json()"
   ]
  },
  {
   "cell_type": "code",
   "execution_count": 33,
   "metadata": {},
   "outputs": [
    {
     "data": {
      "text/plain": [
       "dict_keys(['instrument', 'granularity', 'candles'])"
      ]
     },
     "execution_count": 33,
     "metadata": {},
     "output_type": "execute_result"
    }
   ],
   "source": [
    "data.keys()"
   ]
  },
  {
   "cell_type": "code",
   "execution_count": 34,
   "metadata": {},
   "outputs": [
    {
     "data": {
      "text/plain": [
       "10"
      ]
     },
     "execution_count": 34,
     "metadata": {},
     "output_type": "execute_result"
    }
   ],
   "source": [
    "len(data[\"candles\"])"
   ]
  },
  {
   "cell_type": "code",
   "execution_count": 36,
   "metadata": {},
   "outputs": [],
   "source": [
    "prices = ['mid', 'bid', 'ask']\n",
    "ohlc = ['o', 'h', 'l', 'c']"
   ]
  },
  {
   "cell_type": "code",
   "execution_count": 38,
   "metadata": {},
   "outputs": [
    {
     "name": "stdout",
     "output_type": "stream",
     "text": [
      "mid_o\n",
      "mid_h\n",
      "mid_l\n",
      "mid_c\n",
      "bid_o\n",
      "bid_h\n",
      "bid_l\n",
      "bid_c\n",
      "ask_o\n",
      "ask_h\n",
      "ask_l\n",
      "ask_c\n"
     ]
    }
   ],
   "source": [
    "for price in prices:\n",
    "    for oh in ohlc:\n",
    "        print(f'{price}_{oh}')"
   ]
  },
  {
   "cell_type": "code",
   "execution_count": 42,
   "metadata": {},
   "outputs": [
    {
     "data": {
      "text/plain": [
       "'1.08586'"
      ]
     },
     "execution_count": 42,
     "metadata": {},
     "output_type": "execute_result"
    }
   ],
   "source": [
    "data['candles'][0]['bid']['h']"
   ]
  },
  {
   "cell_type": "code",
   "execution_count": 45,
   "metadata": {},
   "outputs": [
    {
     "name": "stdout",
     "output_type": "stream",
     "text": [
      "{'time': '2023-06-30T11:00:00.000000000Z', 'volume': 3374, 'mid_o': '1.08534', 'mid_h': '1.08593', 'mid_l': '1.08492', 'mid_c': '1.08536', 'bid_o': '1.08526', 'bid_h': '1.08586', 'bid_l': '1.08486', 'bid_c': '1.08529', 'ask_o': '1.08541', 'ask_h': '1.08600', 'ask_l': '1.08499', 'ask_c': '1.08542'}\n"
     ]
    }
   ],
   "source": [
    "our_data = []\n",
    "for candle in data[\"candles\"]:\n",
    "    if candle['complete'] == False:\n",
    "        continue\n",
    "    new_dict = {}\n",
    "    new_dict['time'] = candle['time']\n",
    "    new_dict['volume'] = candle['volume']\n",
    "    for price in prices:\n",
    "        for oh in ohlc:\n",
    "            new_dict[f'{price}_{oh}'] = candle[price][oh]\n",
    "    our_data.append(new_dict)\n",
    "print(our_data[0])"
   ]
  },
  {
   "cell_type": "code",
   "execution_count": 47,
   "metadata": {},
   "outputs": [],
   "source": [
    "candles_df = pd.DataFrame.from_dict(our_data)"
   ]
  },
  {
   "cell_type": "code",
   "execution_count": 48,
   "metadata": {},
   "outputs": [
    {
     "data": {
      "text/html": [
       "<div>\n",
       "<style scoped>\n",
       "    .dataframe tbody tr th:only-of-type {\n",
       "        vertical-align: middle;\n",
       "    }\n",
       "\n",
       "    .dataframe tbody tr th {\n",
       "        vertical-align: top;\n",
       "    }\n",
       "\n",
       "    .dataframe thead th {\n",
       "        text-align: right;\n",
       "    }\n",
       "</style>\n",
       "<table border=\"1\" class=\"dataframe\">\n",
       "  <thead>\n",
       "    <tr style=\"text-align: right;\">\n",
       "      <th></th>\n",
       "      <th>time</th>\n",
       "      <th>volume</th>\n",
       "      <th>mid_o</th>\n",
       "      <th>mid_h</th>\n",
       "      <th>mid_l</th>\n",
       "      <th>mid_c</th>\n",
       "      <th>bid_o</th>\n",
       "      <th>bid_h</th>\n",
       "      <th>bid_l</th>\n",
       "      <th>bid_c</th>\n",
       "      <th>ask_o</th>\n",
       "      <th>ask_h</th>\n",
       "      <th>ask_l</th>\n",
       "      <th>ask_c</th>\n",
       "    </tr>\n",
       "  </thead>\n",
       "  <tbody>\n",
       "    <tr>\n",
       "      <th>0</th>\n",
       "      <td>2023-06-30T11:00:00.000000000Z</td>\n",
       "      <td>3374</td>\n",
       "      <td>1.08534</td>\n",
       "      <td>1.08593</td>\n",
       "      <td>1.08492</td>\n",
       "      <td>1.08536</td>\n",
       "      <td>1.08526</td>\n",
       "      <td>1.08586</td>\n",
       "      <td>1.08486</td>\n",
       "      <td>1.08529</td>\n",
       "      <td>1.08541</td>\n",
       "      <td>1.08600</td>\n",
       "      <td>1.08499</td>\n",
       "      <td>1.08542</td>\n",
       "    </tr>\n",
       "    <tr>\n",
       "      <th>1</th>\n",
       "      <td>2023-06-30T12:00:00.000000000Z</td>\n",
       "      <td>7696</td>\n",
       "      <td>1.08540</td>\n",
       "      <td>1.08978</td>\n",
       "      <td>1.08532</td>\n",
       "      <td>1.08972</td>\n",
       "      <td>1.08533</td>\n",
       "      <td>1.08972</td>\n",
       "      <td>1.08525</td>\n",
       "      <td>1.08965</td>\n",
       "      <td>1.08546</td>\n",
       "      <td>1.08985</td>\n",
       "      <td>1.08539</td>\n",
       "      <td>1.08978</td>\n",
       "    </tr>\n",
       "    <tr>\n",
       "      <th>2</th>\n",
       "      <td>2023-06-30T13:00:00.000000000Z</td>\n",
       "      <td>8572</td>\n",
       "      <td>1.08970</td>\n",
       "      <td>1.09169</td>\n",
       "      <td>1.08964</td>\n",
       "      <td>1.09146</td>\n",
       "      <td>1.08964</td>\n",
       "      <td>1.09161</td>\n",
       "      <td>1.08957</td>\n",
       "      <td>1.09134</td>\n",
       "      <td>1.08977</td>\n",
       "      <td>1.09177</td>\n",
       "      <td>1.08970</td>\n",
       "      <td>1.09157</td>\n",
       "    </tr>\n",
       "    <tr>\n",
       "      <th>3</th>\n",
       "      <td>2023-06-30T14:00:00.000000000Z</td>\n",
       "      <td>10341</td>\n",
       "      <td>1.09146</td>\n",
       "      <td>1.09318</td>\n",
       "      <td>1.09087</td>\n",
       "      <td>1.09104</td>\n",
       "      <td>1.09135</td>\n",
       "      <td>1.09312</td>\n",
       "      <td>1.09080</td>\n",
       "      <td>1.09098</td>\n",
       "      <td>1.09157</td>\n",
       "      <td>1.09325</td>\n",
       "      <td>1.09094</td>\n",
       "      <td>1.09110</td>\n",
       "    </tr>\n",
       "    <tr>\n",
       "      <th>4</th>\n",
       "      <td>2023-06-30T15:00:00.000000000Z</td>\n",
       "      <td>6222</td>\n",
       "      <td>1.09103</td>\n",
       "      <td>1.09195</td>\n",
       "      <td>1.09066</td>\n",
       "      <td>1.09192</td>\n",
       "      <td>1.09097</td>\n",
       "      <td>1.09188</td>\n",
       "      <td>1.09060</td>\n",
       "      <td>1.09186</td>\n",
       "      <td>1.09109</td>\n",
       "      <td>1.09202</td>\n",
       "      <td>1.09073</td>\n",
       "      <td>1.09199</td>\n",
       "    </tr>\n",
       "    <tr>\n",
       "      <th>5</th>\n",
       "      <td>2023-06-30T16:00:00.000000000Z</td>\n",
       "      <td>4251</td>\n",
       "      <td>1.09190</td>\n",
       "      <td>1.09226</td>\n",
       "      <td>1.09121</td>\n",
       "      <td>1.09184</td>\n",
       "      <td>1.09184</td>\n",
       "      <td>1.09218</td>\n",
       "      <td>1.09114</td>\n",
       "      <td>1.09178</td>\n",
       "      <td>1.09197</td>\n",
       "      <td>1.09233</td>\n",
       "      <td>1.09127</td>\n",
       "      <td>1.09191</td>\n",
       "    </tr>\n",
       "    <tr>\n",
       "      <th>6</th>\n",
       "      <td>2023-06-30T17:00:00.000000000Z</td>\n",
       "      <td>3138</td>\n",
       "      <td>1.09186</td>\n",
       "      <td>1.09230</td>\n",
       "      <td>1.09098</td>\n",
       "      <td>1.09118</td>\n",
       "      <td>1.09179</td>\n",
       "      <td>1.09224</td>\n",
       "      <td>1.09092</td>\n",
       "      <td>1.09112</td>\n",
       "      <td>1.09193</td>\n",
       "      <td>1.09237</td>\n",
       "      <td>1.09105</td>\n",
       "      <td>1.09125</td>\n",
       "    </tr>\n",
       "    <tr>\n",
       "      <th>7</th>\n",
       "      <td>2023-06-30T18:00:00.000000000Z</td>\n",
       "      <td>2697</td>\n",
       "      <td>1.09118</td>\n",
       "      <td>1.09160</td>\n",
       "      <td>1.09105</td>\n",
       "      <td>1.09110</td>\n",
       "      <td>1.09111</td>\n",
       "      <td>1.09153</td>\n",
       "      <td>1.09099</td>\n",
       "      <td>1.09103</td>\n",
       "      <td>1.09126</td>\n",
       "      <td>1.09166</td>\n",
       "      <td>1.09111</td>\n",
       "      <td>1.09116</td>\n",
       "    </tr>\n",
       "    <tr>\n",
       "      <th>8</th>\n",
       "      <td>2023-06-30T19:00:00.000000000Z</td>\n",
       "      <td>2763</td>\n",
       "      <td>1.09114</td>\n",
       "      <td>1.09148</td>\n",
       "      <td>1.09094</td>\n",
       "      <td>1.09130</td>\n",
       "      <td>1.09107</td>\n",
       "      <td>1.09142</td>\n",
       "      <td>1.09086</td>\n",
       "      <td>1.09122</td>\n",
       "      <td>1.09120</td>\n",
       "      <td>1.09155</td>\n",
       "      <td>1.09101</td>\n",
       "      <td>1.09137</td>\n",
       "    </tr>\n",
       "    <tr>\n",
       "      <th>9</th>\n",
       "      <td>2023-06-30T20:00:00.000000000Z</td>\n",
       "      <td>1556</td>\n",
       "      <td>1.09132</td>\n",
       "      <td>1.09132</td>\n",
       "      <td>1.09080</td>\n",
       "      <td>1.09110</td>\n",
       "      <td>1.09125</td>\n",
       "      <td>1.09125</td>\n",
       "      <td>1.09071</td>\n",
       "      <td>1.09082</td>\n",
       "      <td>1.09138</td>\n",
       "      <td>1.09145</td>\n",
       "      <td>1.09088</td>\n",
       "      <td>1.09139</td>\n",
       "    </tr>\n",
       "  </tbody>\n",
       "</table>\n",
       "</div>"
      ],
      "text/plain": [
       "                             time  volume    mid_o    mid_h    mid_l    mid_c  \\\n",
       "0  2023-06-30T11:00:00.000000000Z    3374  1.08534  1.08593  1.08492  1.08536   \n",
       "1  2023-06-30T12:00:00.000000000Z    7696  1.08540  1.08978  1.08532  1.08972   \n",
       "2  2023-06-30T13:00:00.000000000Z    8572  1.08970  1.09169  1.08964  1.09146   \n",
       "3  2023-06-30T14:00:00.000000000Z   10341  1.09146  1.09318  1.09087  1.09104   \n",
       "4  2023-06-30T15:00:00.000000000Z    6222  1.09103  1.09195  1.09066  1.09192   \n",
       "5  2023-06-30T16:00:00.000000000Z    4251  1.09190  1.09226  1.09121  1.09184   \n",
       "6  2023-06-30T17:00:00.000000000Z    3138  1.09186  1.09230  1.09098  1.09118   \n",
       "7  2023-06-30T18:00:00.000000000Z    2697  1.09118  1.09160  1.09105  1.09110   \n",
       "8  2023-06-30T19:00:00.000000000Z    2763  1.09114  1.09148  1.09094  1.09130   \n",
       "9  2023-06-30T20:00:00.000000000Z    1556  1.09132  1.09132  1.09080  1.09110   \n",
       "\n",
       "     bid_o    bid_h    bid_l    bid_c    ask_o    ask_h    ask_l    ask_c  \n",
       "0  1.08526  1.08586  1.08486  1.08529  1.08541  1.08600  1.08499  1.08542  \n",
       "1  1.08533  1.08972  1.08525  1.08965  1.08546  1.08985  1.08539  1.08978  \n",
       "2  1.08964  1.09161  1.08957  1.09134  1.08977  1.09177  1.08970  1.09157  \n",
       "3  1.09135  1.09312  1.09080  1.09098  1.09157  1.09325  1.09094  1.09110  \n",
       "4  1.09097  1.09188  1.09060  1.09186  1.09109  1.09202  1.09073  1.09199  \n",
       "5  1.09184  1.09218  1.09114  1.09178  1.09197  1.09233  1.09127  1.09191  \n",
       "6  1.09179  1.09224  1.09092  1.09112  1.09193  1.09237  1.09105  1.09125  \n",
       "7  1.09111  1.09153  1.09099  1.09103  1.09126  1.09166  1.09111  1.09116  \n",
       "8  1.09107  1.09142  1.09086  1.09122  1.09120  1.09155  1.09101  1.09137  \n",
       "9  1.09125  1.09125  1.09071  1.09082  1.09138  1.09145  1.09088  1.09139  "
      ]
     },
     "execution_count": 48,
     "metadata": {},
     "output_type": "execute_result"
    }
   ],
   "source": [
    "candles_df"
   ]
  },
  {
   "cell_type": "code",
   "execution_count": 49,
   "metadata": {},
   "outputs": [],
   "source": [
    "candles_df.to_pickle(\"EUR_USD_H1.pkl\")"
   ]
  },
  {
   "cell_type": "code",
   "execution_count": 50,
   "metadata": {},
   "outputs": [],
   "source": [
    "test_df = pd.read_pickle(\"EUR_USD_H1.pkl\")"
   ]
  },
  {
   "cell_type": "code",
   "execution_count": 52,
   "metadata": {},
   "outputs": [
    {
     "data": {
      "text/html": [
       "<div>\n",
       "<style scoped>\n",
       "    .dataframe tbody tr th:only-of-type {\n",
       "        vertical-align: middle;\n",
       "    }\n",
       "\n",
       "    .dataframe tbody tr th {\n",
       "        vertical-align: top;\n",
       "    }\n",
       "\n",
       "    .dataframe thead th {\n",
       "        text-align: right;\n",
       "    }\n",
       "</style>\n",
       "<table border=\"1\" class=\"dataframe\">\n",
       "  <thead>\n",
       "    <tr style=\"text-align: right;\">\n",
       "      <th></th>\n",
       "      <th>time</th>\n",
       "      <th>volume</th>\n",
       "      <th>mid_o</th>\n",
       "      <th>mid_h</th>\n",
       "      <th>mid_l</th>\n",
       "      <th>mid_c</th>\n",
       "      <th>bid_o</th>\n",
       "      <th>bid_h</th>\n",
       "      <th>bid_l</th>\n",
       "      <th>bid_c</th>\n",
       "      <th>ask_o</th>\n",
       "      <th>ask_h</th>\n",
       "      <th>ask_l</th>\n",
       "      <th>ask_c</th>\n",
       "    </tr>\n",
       "  </thead>\n",
       "  <tbody>\n",
       "    <tr>\n",
       "      <th>0</th>\n",
       "      <td>2023-06-30T11:00:00.000000000Z</td>\n",
       "      <td>3374</td>\n",
       "      <td>1.08534</td>\n",
       "      <td>1.08593</td>\n",
       "      <td>1.08492</td>\n",
       "      <td>1.08536</td>\n",
       "      <td>1.08526</td>\n",
       "      <td>1.08586</td>\n",
       "      <td>1.08486</td>\n",
       "      <td>1.08529</td>\n",
       "      <td>1.08541</td>\n",
       "      <td>1.08600</td>\n",
       "      <td>1.08499</td>\n",
       "      <td>1.08542</td>\n",
       "    </tr>\n",
       "    <tr>\n",
       "      <th>1</th>\n",
       "      <td>2023-06-30T12:00:00.000000000Z</td>\n",
       "      <td>7696</td>\n",
       "      <td>1.08540</td>\n",
       "      <td>1.08978</td>\n",
       "      <td>1.08532</td>\n",
       "      <td>1.08972</td>\n",
       "      <td>1.08533</td>\n",
       "      <td>1.08972</td>\n",
       "      <td>1.08525</td>\n",
       "      <td>1.08965</td>\n",
       "      <td>1.08546</td>\n",
       "      <td>1.08985</td>\n",
       "      <td>1.08539</td>\n",
       "      <td>1.08978</td>\n",
       "    </tr>\n",
       "    <tr>\n",
       "      <th>2</th>\n",
       "      <td>2023-06-30T13:00:00.000000000Z</td>\n",
       "      <td>8572</td>\n",
       "      <td>1.08970</td>\n",
       "      <td>1.09169</td>\n",
       "      <td>1.08964</td>\n",
       "      <td>1.09146</td>\n",
       "      <td>1.08964</td>\n",
       "      <td>1.09161</td>\n",
       "      <td>1.08957</td>\n",
       "      <td>1.09134</td>\n",
       "      <td>1.08977</td>\n",
       "      <td>1.09177</td>\n",
       "      <td>1.08970</td>\n",
       "      <td>1.09157</td>\n",
       "    </tr>\n",
       "    <tr>\n",
       "      <th>3</th>\n",
       "      <td>2023-06-30T14:00:00.000000000Z</td>\n",
       "      <td>10341</td>\n",
       "      <td>1.09146</td>\n",
       "      <td>1.09318</td>\n",
       "      <td>1.09087</td>\n",
       "      <td>1.09104</td>\n",
       "      <td>1.09135</td>\n",
       "      <td>1.09312</td>\n",
       "      <td>1.09080</td>\n",
       "      <td>1.09098</td>\n",
       "      <td>1.09157</td>\n",
       "      <td>1.09325</td>\n",
       "      <td>1.09094</td>\n",
       "      <td>1.09110</td>\n",
       "    </tr>\n",
       "    <tr>\n",
       "      <th>4</th>\n",
       "      <td>2023-06-30T15:00:00.000000000Z</td>\n",
       "      <td>6222</td>\n",
       "      <td>1.09103</td>\n",
       "      <td>1.09195</td>\n",
       "      <td>1.09066</td>\n",
       "      <td>1.09192</td>\n",
       "      <td>1.09097</td>\n",
       "      <td>1.09188</td>\n",
       "      <td>1.09060</td>\n",
       "      <td>1.09186</td>\n",
       "      <td>1.09109</td>\n",
       "      <td>1.09202</td>\n",
       "      <td>1.09073</td>\n",
       "      <td>1.09199</td>\n",
       "    </tr>\n",
       "    <tr>\n",
       "      <th>5</th>\n",
       "      <td>2023-06-30T16:00:00.000000000Z</td>\n",
       "      <td>4251</td>\n",
       "      <td>1.09190</td>\n",
       "      <td>1.09226</td>\n",
       "      <td>1.09121</td>\n",
       "      <td>1.09184</td>\n",
       "      <td>1.09184</td>\n",
       "      <td>1.09218</td>\n",
       "      <td>1.09114</td>\n",
       "      <td>1.09178</td>\n",
       "      <td>1.09197</td>\n",
       "      <td>1.09233</td>\n",
       "      <td>1.09127</td>\n",
       "      <td>1.09191</td>\n",
       "    </tr>\n",
       "    <tr>\n",
       "      <th>6</th>\n",
       "      <td>2023-06-30T17:00:00.000000000Z</td>\n",
       "      <td>3138</td>\n",
       "      <td>1.09186</td>\n",
       "      <td>1.09230</td>\n",
       "      <td>1.09098</td>\n",
       "      <td>1.09118</td>\n",
       "      <td>1.09179</td>\n",
       "      <td>1.09224</td>\n",
       "      <td>1.09092</td>\n",
       "      <td>1.09112</td>\n",
       "      <td>1.09193</td>\n",
       "      <td>1.09237</td>\n",
       "      <td>1.09105</td>\n",
       "      <td>1.09125</td>\n",
       "    </tr>\n",
       "    <tr>\n",
       "      <th>7</th>\n",
       "      <td>2023-06-30T18:00:00.000000000Z</td>\n",
       "      <td>2697</td>\n",
       "      <td>1.09118</td>\n",
       "      <td>1.09160</td>\n",
       "      <td>1.09105</td>\n",
       "      <td>1.09110</td>\n",
       "      <td>1.09111</td>\n",
       "      <td>1.09153</td>\n",
       "      <td>1.09099</td>\n",
       "      <td>1.09103</td>\n",
       "      <td>1.09126</td>\n",
       "      <td>1.09166</td>\n",
       "      <td>1.09111</td>\n",
       "      <td>1.09116</td>\n",
       "    </tr>\n",
       "    <tr>\n",
       "      <th>8</th>\n",
       "      <td>2023-06-30T19:00:00.000000000Z</td>\n",
       "      <td>2763</td>\n",
       "      <td>1.09114</td>\n",
       "      <td>1.09148</td>\n",
       "      <td>1.09094</td>\n",
       "      <td>1.09130</td>\n",
       "      <td>1.09107</td>\n",
       "      <td>1.09142</td>\n",
       "      <td>1.09086</td>\n",
       "      <td>1.09122</td>\n",
       "      <td>1.09120</td>\n",
       "      <td>1.09155</td>\n",
       "      <td>1.09101</td>\n",
       "      <td>1.09137</td>\n",
       "    </tr>\n",
       "    <tr>\n",
       "      <th>9</th>\n",
       "      <td>2023-06-30T20:00:00.000000000Z</td>\n",
       "      <td>1556</td>\n",
       "      <td>1.09132</td>\n",
       "      <td>1.09132</td>\n",
       "      <td>1.09080</td>\n",
       "      <td>1.09110</td>\n",
       "      <td>1.09125</td>\n",
       "      <td>1.09125</td>\n",
       "      <td>1.09071</td>\n",
       "      <td>1.09082</td>\n",
       "      <td>1.09138</td>\n",
       "      <td>1.09145</td>\n",
       "      <td>1.09088</td>\n",
       "      <td>1.09139</td>\n",
       "    </tr>\n",
       "  </tbody>\n",
       "</table>\n",
       "</div>"
      ],
      "text/plain": [
       "                             time  volume    mid_o    mid_h    mid_l    mid_c  \\\n",
       "0  2023-06-30T11:00:00.000000000Z    3374  1.08534  1.08593  1.08492  1.08536   \n",
       "1  2023-06-30T12:00:00.000000000Z    7696  1.08540  1.08978  1.08532  1.08972   \n",
       "2  2023-06-30T13:00:00.000000000Z    8572  1.08970  1.09169  1.08964  1.09146   \n",
       "3  2023-06-30T14:00:00.000000000Z   10341  1.09146  1.09318  1.09087  1.09104   \n",
       "4  2023-06-30T15:00:00.000000000Z    6222  1.09103  1.09195  1.09066  1.09192   \n",
       "5  2023-06-30T16:00:00.000000000Z    4251  1.09190  1.09226  1.09121  1.09184   \n",
       "6  2023-06-30T17:00:00.000000000Z    3138  1.09186  1.09230  1.09098  1.09118   \n",
       "7  2023-06-30T18:00:00.000000000Z    2697  1.09118  1.09160  1.09105  1.09110   \n",
       "8  2023-06-30T19:00:00.000000000Z    2763  1.09114  1.09148  1.09094  1.09130   \n",
       "9  2023-06-30T20:00:00.000000000Z    1556  1.09132  1.09132  1.09080  1.09110   \n",
       "\n",
       "     bid_o    bid_h    bid_l    bid_c    ask_o    ask_h    ask_l    ask_c  \n",
       "0  1.08526  1.08586  1.08486  1.08529  1.08541  1.08600  1.08499  1.08542  \n",
       "1  1.08533  1.08972  1.08525  1.08965  1.08546  1.08985  1.08539  1.08978  \n",
       "2  1.08964  1.09161  1.08957  1.09134  1.08977  1.09177  1.08970  1.09157  \n",
       "3  1.09135  1.09312  1.09080  1.09098  1.09157  1.09325  1.09094  1.09110  \n",
       "4  1.09097  1.09188  1.09060  1.09186  1.09109  1.09202  1.09073  1.09199  \n",
       "5  1.09184  1.09218  1.09114  1.09178  1.09197  1.09233  1.09127  1.09191  \n",
       "6  1.09179  1.09224  1.09092  1.09112  1.09193  1.09237  1.09105  1.09125  \n",
       "7  1.09111  1.09153  1.09099  1.09103  1.09126  1.09166  1.09111  1.09116  \n",
       "8  1.09107  1.09142  1.09086  1.09122  1.09120  1.09155  1.09101  1.09137  \n",
       "9  1.09125  1.09125  1.09071  1.09082  1.09138  1.09145  1.09088  1.09139  "
      ]
     },
     "execution_count": 52,
     "metadata": {},
     "output_type": "execute_result"
    }
   ],
   "source": [
    "test_df"
   ]
  },
  {
   "cell_type": "code",
   "execution_count": null,
   "metadata": {},
   "outputs": [],
   "source": []
  }
 ],
 "metadata": {
  "kernelspec": {
   "display_name": "base",
   "language": "python",
   "name": "python3"
  },
  "language_info": {
   "codemirror_mode": {
    "name": "ipython",
    "version": 3
   },
   "file_extension": ".py",
   "mimetype": "text/x-python",
   "name": "python",
   "nbconvert_exporter": "python",
   "pygments_lexer": "ipython3",
   "version": "3.10.9"
  },
  "orig_nbformat": 4
 },
 "nbformat": 4,
 "nbformat_minor": 2
}
