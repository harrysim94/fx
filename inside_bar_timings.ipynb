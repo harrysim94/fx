{
 "cells": [
  {
   "cell_type": "code",
   "execution_count": 14,
   "metadata": {},
   "outputs": [],
   "source": [
    "import pandas as pd\n",
    "import utils\n",
    "import datetime as dt\n",
    "from dateutil.parser import *"
   ]
  },
  {
   "cell_type": "code",
   "execution_count": 15,
   "metadata": {},
   "outputs": [],
   "source": [
    "df_trades = pd.read_pickle(\"USD_JPY_H4_trades.pkl\")"
   ]
  },
  {
   "cell_type": "code",
   "execution_count": 16,
   "metadata": {},
   "outputs": [],
   "source": [
    "pair = \"USD_JPY\""
   ]
  },
  {
   "cell_type": "code",
   "execution_count": 17,
   "metadata": {},
   "outputs": [],
   "source": [
    "df_raw = pd.read_pickle(utils.get_his_data_filename(pair, \"M5\"))"
   ]
  },
  {
   "cell_type": "code",
   "execution_count": 18,
   "metadata": {},
   "outputs": [],
   "source": [
    "non_cols = ['time', 'volume']\n",
    "mod_cols = [x for x in df_raw.columns if x not in non_cols]\n",
    "df_raw[mod_cols] = df_raw[mod_cols].apply(pd.to_numeric)"
   ]
  },
  {
   "cell_type": "code",
   "execution_count": 19,
   "metadata": {},
   "outputs": [],
   "source": [
    "df_trades['time'] = [parse(x) for x in df_trades.time]\n",
    "df_raw['time'] = [parse(x) for x in df_raw.time]\n"
   ]
  },
  {
   "cell_type": "code",
   "execution_count": 20,
   "metadata": {},
   "outputs": [],
   "source": [
    "df_trades[\"next\"] = df_trades[\"time\"].shift(-1)"
   ]
  },
  {
   "cell_type": "code",
   "execution_count": 21,
   "metadata": {},
   "outputs": [],
   "source": [
    "df_trades['trade_end'] = df_trades.next + dt.timedelta(hours=3, minutes=55)\n",
    "df_trades['trade_start'] = df_trades.time + dt.timedelta(hours=4)\n",
    "df_trades['trade_length'] = df_trades['trade_end'] - df_trades['trade_start']"
   ]
  },
  {
   "cell_type": "code",
   "execution_count": 22,
   "metadata": {},
   "outputs": [
    {
     "data": {
      "text/html": [
       "<div>\n",
       "<style scoped>\n",
       "    .dataframe tbody tr th:only-of-type {\n",
       "        vertical-align: middle;\n",
       "    }\n",
       "\n",
       "    .dataframe tbody tr th {\n",
       "        vertical-align: top;\n",
       "    }\n",
       "\n",
       "    .dataframe thead th {\n",
       "        text-align: right;\n",
       "    }\n",
       "</style>\n",
       "<table border=\"1\" class=\"dataframe\">\n",
       "  <thead>\n",
       "    <tr style=\"text-align: right;\">\n",
       "      <th></th>\n",
       "      <th>time</th>\n",
       "      <th>next</th>\n",
       "      <th>trade_end</th>\n",
       "      <th>trade_length</th>\n",
       "    </tr>\n",
       "  </thead>\n",
       "  <tbody>\n",
       "    <tr>\n",
       "      <th>0</th>\n",
       "      <td>2018-01-02 02:00:00+00:00</td>\n",
       "      <td>2018-01-04 02:00:00+00:00</td>\n",
       "      <td>2018-01-04 05:55:00+00:00</td>\n",
       "      <td>1 days 23:55:00</td>\n",
       "    </tr>\n",
       "    <tr>\n",
       "      <th>12</th>\n",
       "      <td>2018-01-04 02:00:00+00:00</td>\n",
       "      <td>2018-01-04 22:00:00+00:00</td>\n",
       "      <td>2018-01-05 01:55:00+00:00</td>\n",
       "      <td>0 days 19:55:00</td>\n",
       "    </tr>\n",
       "    <tr>\n",
       "      <th>17</th>\n",
       "      <td>2018-01-04 22:00:00+00:00</td>\n",
       "      <td>2018-01-05 14:00:00+00:00</td>\n",
       "      <td>2018-01-05 17:55:00+00:00</td>\n",
       "      <td>0 days 15:55:00</td>\n",
       "    </tr>\n",
       "    <tr>\n",
       "      <th>21</th>\n",
       "      <td>2018-01-05 14:00:00+00:00</td>\n",
       "      <td>2018-01-08 14:00:00+00:00</td>\n",
       "      <td>2018-01-08 17:55:00+00:00</td>\n",
       "      <td>2 days 23:55:00</td>\n",
       "    </tr>\n",
       "    <tr>\n",
       "      <th>27</th>\n",
       "      <td>2018-01-08 14:00:00+00:00</td>\n",
       "      <td>2018-01-09 18:00:00+00:00</td>\n",
       "      <td>2018-01-09 21:55:00+00:00</td>\n",
       "      <td>1 days 03:55:00</td>\n",
       "    </tr>\n",
       "  </tbody>\n",
       "</table>\n",
       "</div>"
      ],
      "text/plain": [
       "                        time                      next  \\\n",
       "0  2018-01-02 02:00:00+00:00 2018-01-04 02:00:00+00:00   \n",
       "12 2018-01-04 02:00:00+00:00 2018-01-04 22:00:00+00:00   \n",
       "17 2018-01-04 22:00:00+00:00 2018-01-05 14:00:00+00:00   \n",
       "21 2018-01-05 14:00:00+00:00 2018-01-08 14:00:00+00:00   \n",
       "27 2018-01-08 14:00:00+00:00 2018-01-09 18:00:00+00:00   \n",
       "\n",
       "                   trade_end    trade_length  \n",
       "0  2018-01-04 05:55:00+00:00 1 days 23:55:00  \n",
       "12 2018-01-05 01:55:00+00:00 0 days 19:55:00  \n",
       "17 2018-01-05 17:55:00+00:00 0 days 15:55:00  \n",
       "21 2018-01-08 17:55:00+00:00 2 days 23:55:00  \n",
       "27 2018-01-09 21:55:00+00:00 1 days 03:55:00  "
      ]
     },
     "execution_count": 22,
     "metadata": {},
     "output_type": "execute_result"
    }
   ],
   "source": [
    "df_trades[['time', 'next', 'trade_end', 'trade_length']].head()"
   ]
  },
  {
   "cell_type": "code",
   "execution_count": 10,
   "metadata": {},
   "outputs": [],
   "source": [
    "df_trades.dropna(inplace=True)\n",
    "df_trades.reset_index(drop=True, inplace=True)"
   ]
  },
  {
   "cell_type": "code",
   "execution_count": 23,
   "metadata": {},
   "outputs": [],
   "source": [
    "def signal_text(signal):\n",
    "    if signal == 1:\n",
    "        return 'BUY'\n",
    "    elif signal == -1:\n",
    "        return 'SELL'\n",
    "    return 'NONE'\n",
    "\n",
    "def triggered(direction, current_price, signal_price):\n",
    "    if direction == 1 and current_price > signal_price:\n",
    "        return True\n",
    "    elif direction == -1 and current_price < signal_price:\n",
    "        return True\n",
    "    return False\n",
    "\n",
    "def end_hit_calc(direction, SL, price, start_price):\n",
    "    delta = price - start_price\n",
    "    full_delta = start_price - SL\n",
    "    fraction = abs(delta / full_delta)\n",
    "   \n",
    "    if direction == 1 and price >= start_price:\n",
    "        return fraction\n",
    "    elif direction == 1 and price < start_price:\n",
    "        return -fraction\n",
    "    elif direction == -1 and price <= start_price:\n",
    "        return fraction\n",
    "    elif direction == -1 and price > start_price:\n",
    "        return -fraction\n",
    "\n",
    "def process_buy(TP, SL, ask_prices, bid_prices, entry_price):\n",
    "    for index, price in enumerate(ask_prices):\n",
    "        if triggered(1, price, entry_price) == True:\n",
    "            for live_price in bid_prices[index:]:\n",
    "                if live_price >= TP:\n",
    "                    return 2.0\n",
    "                elif live_price <= SL:\n",
    "                    return -1.0\n",
    "            return end_hit_calc(1, SL, live_price, entry_price)\n",
    "    return 0.0\n",
    "\n",
    "def process_sell(TP, SL, ask_prices, bid_prices, entry_price):\n",
    "    for index, price in enumerate(bid_prices):\n",
    "        if triggered(-1, price, entry_price) == True:\n",
    "            for live_price in ask_prices[index:]:\n",
    "                if live_price <= TP:\n",
    "                    return 2.0\n",
    "                elif live_price >= SL:\n",
    "                    return -1.0\n",
    "            return end_hit_calc(-1, SL, live_price, entry_price)\n",
    "    return 0.0"
   ]
  },
  {
   "cell_type": "code",
   "execution_count": 24,
   "metadata": {},
   "outputs": [
    {
     "name": "stdout",
     "output_type": "stream",
     "text": [
      "43.36120153064007\n"
     ]
    }
   ],
   "source": [
    "total = 0\n",
    "for index, row in df_trades.iterrows():\n",
    "    m5_data = df_raw[(df_raw.time >= row.trade_start) & (df_raw.time <= row.trade_end)]\n",
    "    if row.SIGNAL == 1:\n",
    "        r = process_buy(row.TAKEPROFIT, row.STOPLOSS, m5_data.ask_c.values, m5_data.bid_c.values, row.ENTRY)\n",
    "        total += r\n",
    "    else:\n",
    "        r = process_sell(row.TAKEPROFIT, row.STOPLOSS, m5_data.ask_c.values, m5_data.bid_c.values, row.ENTRY)\n",
    "        total += r\n",
    "print(total)"
   ]
  },
  {
   "cell_type": "code",
   "execution_count": null,
   "metadata": {},
   "outputs": [],
   "source": []
  }
 ],
 "metadata": {
  "kernelspec": {
   "display_name": "venv",
   "language": "python",
   "name": "python3"
  },
  "language_info": {
   "codemirror_mode": {
    "name": "ipython",
    "version": 3
   },
   "file_extension": ".py",
   "mimetype": "text/x-python",
   "name": "python",
   "nbconvert_exporter": "python",
   "pygments_lexer": "ipython3",
   "version": "3.10.9"
  },
  "orig_nbformat": 4
 },
 "nbformat": 4,
 "nbformat_minor": 2
}
